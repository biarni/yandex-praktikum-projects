{
 "cells": [
  {
   "cell_type": "markdown",
   "metadata": {
    "id": "E0vqbgi9ay0H"
   },
   "source": [
    "# Яндекс.Музыка"
   ]
  },
  {
   "cell_type": "markdown",
   "metadata": {
    "id": "VUC88oWjTJw2"
   },
   "source": [
    "На данных Яндекс.Музыки необходимо провести сравненеи поведения пользователей Москвы и Петербурга.\n",
    "\n",
    "**Цель исследования** — проверить три гипотезы:\n",
    "1. Активность пользователей зависит от дня недели. Причём в Москве и Петербурге это проявляется по-разному.\n",
    "2. В понедельник утром в Москве преобладают одни жанры, а в Петербурге — другие. Так же и вечером пятницы преобладают разные жанры — в зависимости от города. \n",
    "3. Москва и Петербург предпочитают разные жанры музыки. В Москве чаще слушают поп-музыку, в Петербурге — русский рэп.\n",
    "\n",
    "**Ход исследования**\n",
    "\n",
    "Данные о поведении пользователей хранятся в файле `yandex_music_project.csv`. О качестве данных ничего не известно. Поэтому перед проверкой гипотез понадобится обзор данных. \n",
    "\n",
    "Проверим данные на ошибки и оценим их влияние на исследование. Затем, на этапе предобработки найдем возможность исправить самые критичные ошибки данных.\n",
    " \n",
    "Таким образом, исследование пройдёт в три этапа:\n",
    " 1. Обзор данных.\n",
    " 2. Предобработка данных.\n",
    " 3. Проверка гипотез.\n",
    "\n"
   ]
  },
  {
   "cell_type": "markdown",
   "metadata": {
    "id": "Ml1hmfXC_Zcs"
   },
   "source": [
    "## Обзор данных\n",
    "\n",
    "Первое представление о данных Яндекс.Музыки.\n",
    "\n",
    "\n"
   ]
  },
  {
   "cell_type": "code",
   "execution_count": 1,
   "metadata": {
    "id": "AXN7PHPN_Zcs"
   },
   "outputs": [],
   "source": [
    "import pandas as pd # импорт библиотеки pandas"
   ]
  },
  {
   "cell_type": "code",
   "execution_count": 2,
   "metadata": {
    "id": "fFVu7vqh_Zct"
   },
   "outputs": [],
   "source": [
    "df = pd.read_csv('/datasets/yandex_music_project.csv') # чтение файла с данными и сохранение в df"
   ]
  },
  {
   "cell_type": "code",
   "execution_count": 3,
   "metadata": {
    "id": "oWTVX3gW_Zct"
   },
   "outputs": [
    {
     "data": {
      "text/html": [
       "<div>\n",
       "<style scoped>\n",
       "    .dataframe tbody tr th:only-of-type {\n",
       "        vertical-align: middle;\n",
       "    }\n",
       "\n",
       "    .dataframe tbody tr th {\n",
       "        vertical-align: top;\n",
       "    }\n",
       "\n",
       "    .dataframe thead th {\n",
       "        text-align: right;\n",
       "    }\n",
       "</style>\n",
       "<table border=\"1\" class=\"dataframe\">\n",
       "  <thead>\n",
       "    <tr style=\"text-align: right;\">\n",
       "      <th></th>\n",
       "      <th>userID</th>\n",
       "      <th>Track</th>\n",
       "      <th>artist</th>\n",
       "      <th>genre</th>\n",
       "      <th>City</th>\n",
       "      <th>time</th>\n",
       "      <th>Day</th>\n",
       "    </tr>\n",
       "  </thead>\n",
       "  <tbody>\n",
       "    <tr>\n",
       "      <th>0</th>\n",
       "      <td>FFB692EC</td>\n",
       "      <td>Kamigata To Boots</td>\n",
       "      <td>The Mass Missile</td>\n",
       "      <td>rock</td>\n",
       "      <td>Saint-Petersburg</td>\n",
       "      <td>20:28:33</td>\n",
       "      <td>Wednesday</td>\n",
       "    </tr>\n",
       "    <tr>\n",
       "      <th>1</th>\n",
       "      <td>55204538</td>\n",
       "      <td>Delayed Because of Accident</td>\n",
       "      <td>Andreas Rönnberg</td>\n",
       "      <td>rock</td>\n",
       "      <td>Moscow</td>\n",
       "      <td>14:07:09</td>\n",
       "      <td>Friday</td>\n",
       "    </tr>\n",
       "    <tr>\n",
       "      <th>2</th>\n",
       "      <td>20EC38</td>\n",
       "      <td>Funiculì funiculà</td>\n",
       "      <td>Mario Lanza</td>\n",
       "      <td>pop</td>\n",
       "      <td>Saint-Petersburg</td>\n",
       "      <td>20:58:07</td>\n",
       "      <td>Wednesday</td>\n",
       "    </tr>\n",
       "    <tr>\n",
       "      <th>3</th>\n",
       "      <td>A3DD03C9</td>\n",
       "      <td>Dragons in the Sunset</td>\n",
       "      <td>Fire + Ice</td>\n",
       "      <td>folk</td>\n",
       "      <td>Saint-Petersburg</td>\n",
       "      <td>08:37:09</td>\n",
       "      <td>Monday</td>\n",
       "    </tr>\n",
       "    <tr>\n",
       "      <th>4</th>\n",
       "      <td>E2DC1FAE</td>\n",
       "      <td>Soul People</td>\n",
       "      <td>Space Echo</td>\n",
       "      <td>dance</td>\n",
       "      <td>Moscow</td>\n",
       "      <td>08:34:34</td>\n",
       "      <td>Monday</td>\n",
       "    </tr>\n",
       "    <tr>\n",
       "      <th>5</th>\n",
       "      <td>842029A1</td>\n",
       "      <td>Преданная</td>\n",
       "      <td>IMPERVTOR</td>\n",
       "      <td>rusrap</td>\n",
       "      <td>Saint-Petersburg</td>\n",
       "      <td>13:09:41</td>\n",
       "      <td>Friday</td>\n",
       "    </tr>\n",
       "    <tr>\n",
       "      <th>6</th>\n",
       "      <td>4CB90AA5</td>\n",
       "      <td>True</td>\n",
       "      <td>Roman Messer</td>\n",
       "      <td>dance</td>\n",
       "      <td>Moscow</td>\n",
       "      <td>13:00:07</td>\n",
       "      <td>Wednesday</td>\n",
       "    </tr>\n",
       "    <tr>\n",
       "      <th>7</th>\n",
       "      <td>F03E1C1F</td>\n",
       "      <td>Feeling This Way</td>\n",
       "      <td>Polina Griffith</td>\n",
       "      <td>dance</td>\n",
       "      <td>Moscow</td>\n",
       "      <td>20:47:49</td>\n",
       "      <td>Wednesday</td>\n",
       "    </tr>\n",
       "    <tr>\n",
       "      <th>8</th>\n",
       "      <td>8FA1D3BE</td>\n",
       "      <td>И вновь продолжается бой</td>\n",
       "      <td>NaN</td>\n",
       "      <td>ruspop</td>\n",
       "      <td>Moscow</td>\n",
       "      <td>09:17:40</td>\n",
       "      <td>Friday</td>\n",
       "    </tr>\n",
       "    <tr>\n",
       "      <th>9</th>\n",
       "      <td>E772D5C0</td>\n",
       "      <td>Pessimist</td>\n",
       "      <td>NaN</td>\n",
       "      <td>dance</td>\n",
       "      <td>Saint-Petersburg</td>\n",
       "      <td>21:20:49</td>\n",
       "      <td>Wednesday</td>\n",
       "    </tr>\n",
       "  </tbody>\n",
       "</table>\n",
       "</div>"
      ],
      "text/plain": [
       "     userID                        Track            artist   genre  \\\n",
       "0  FFB692EC            Kamigata To Boots  The Mass Missile    rock   \n",
       "1  55204538  Delayed Because of Accident  Andreas Rönnberg    rock   \n",
       "2    20EC38            Funiculì funiculà       Mario Lanza     pop   \n",
       "3  A3DD03C9        Dragons in the Sunset        Fire + Ice    folk   \n",
       "4  E2DC1FAE                  Soul People        Space Echo   dance   \n",
       "5  842029A1                    Преданная         IMPERVTOR  rusrap   \n",
       "6  4CB90AA5                         True      Roman Messer   dance   \n",
       "7  F03E1C1F             Feeling This Way   Polina Griffith   dance   \n",
       "8  8FA1D3BE     И вновь продолжается бой               NaN  ruspop   \n",
       "9  E772D5C0                    Pessimist               NaN   dance   \n",
       "\n",
       "             City        time        Day  \n",
       "0  Saint-Petersburg  20:28:33  Wednesday  \n",
       "1            Moscow  14:07:09     Friday  \n",
       "2  Saint-Petersburg  20:58:07  Wednesday  \n",
       "3  Saint-Petersburg  08:37:09     Monday  \n",
       "4            Moscow  08:34:34     Monday  \n",
       "5  Saint-Petersburg  13:09:41     Friday  \n",
       "6            Moscow  13:00:07  Wednesday  \n",
       "7            Moscow  20:47:49  Wednesday  \n",
       "8            Moscow  09:17:40     Friday  \n",
       "9  Saint-Petersburg  21:20:49  Wednesday  "
      ]
     },
     "execution_count": 3,
     "metadata": {},
     "output_type": "execute_result"
    }
   ],
   "source": [
    "df.head(10) # получение первых 10 строк таблицы df"
   ]
  },
  {
   "cell_type": "code",
   "execution_count": 4,
   "metadata": {
    "id": "DSf2kIb-_Zct"
   },
   "outputs": [
    {
     "name": "stdout",
     "output_type": "stream",
     "text": [
      "<class 'pandas.core.frame.DataFrame'>\n",
      "RangeIndex: 65079 entries, 0 to 65078\n",
      "Data columns (total 7 columns):\n",
      " #   Column    Non-Null Count  Dtype \n",
      "---  ------    --------------  ----- \n",
      " 0     userID  65079 non-null  object\n",
      " 1   Track     63848 non-null  object\n",
      " 2   artist    57876 non-null  object\n",
      " 3   genre     63881 non-null  object\n",
      " 4     City    65079 non-null  object\n",
      " 5   time      65079 non-null  object\n",
      " 6   Day       65079 non-null  object\n",
      "dtypes: object(7)\n",
      "memory usage: 3.5+ MB\n"
     ]
    }
   ],
   "source": [
    "df.info() # получение общей информации о данных в таблице df"
   ]
  },
  {
   "cell_type": "markdown",
   "metadata": {
    "id": "TaQ2Iwbr_Zct"
   },
   "source": [
    "Итак, в таблице семь столбцов. Тип данных во всех столбцах — `object`.\n",
    "\n",
    "Согласно документации к данным:\n",
    "* `userID` — идентификатор пользователя;\n",
    "* `Track` — название трека;  \n",
    "* `artist` — имя исполнителя;\n",
    "* `genre` — название жанра;\n",
    "* `City` — город пользователя;\n",
    "* `time` — время начала прослушивания;\n",
    "* `Day` — день недели.\n",
    "\n",
    "В названиях колонок видны три нарушения стиля:\n",
    "1. Строчные буквы сочетаются с прописными.\n",
    "2. Встречаются пробелы.\n",
    "3. Два слова (\"смысловых\") в названии столбца `userID` написаны слитно.\n",
    "\n",
    "\n",
    "\n",
    "Количество значений в столбцах различается. Значит, в данных есть пропущенные значения.\n"
   ]
  },
  {
   "cell_type": "markdown",
   "metadata": {
    "id": "MCB6-dXG_Zct"
   },
   "source": [
    "**Выводы**\n",
    "\n",
    "В каждой строке таблицы — данные о прослушанном треке. Часть колонок описывает саму композицию: название, исполнителя и жанр. Остальные данные рассказывают о пользователе: из какого он города, когда он слушал музыку. \n",
    "\n",
    "Предварительно можно утверждать, что, данных достаточно для проверки гипотез. Но встречаются пропуски в данных, а в названиях колонок — расхождения с хорошим стилем.\n",
    "\n",
    "Чтобы двигаться дальше, нужно устранить проблемы в данных."
   ]
  },
  {
   "cell_type": "markdown",
   "metadata": {
    "id": "SjYF6Ub9_Zct"
   },
   "source": [
    "## Предобработка данных\n",
    "Исправим стиль в заголовках столбцов, исключим пропуски. Затем проверим данные на дубликаты."
   ]
  },
  {
   "cell_type": "markdown",
   "metadata": {
    "id": "dIaKXr29_Zct"
   },
   "source": [
    "### Стиль заголовков"
   ]
  },
  {
   "cell_type": "code",
   "execution_count": 5,
   "metadata": {
    "id": "oKOTdF_Q_Zct"
   },
   "outputs": [
    {
     "data": {
      "text/plain": [
       "Index(['  userID', 'Track', 'artist', 'genre', '  City  ', 'time', 'Day'], dtype='object')"
      ]
     },
     "execution_count": 5,
     "metadata": {},
     "output_type": "execute_result"
    }
   ],
   "source": [
    "df.columns # перечень названий столбцов таблицы df"
   ]
  },
  {
   "cell_type": "markdown",
   "metadata": {
    "id": "zj5534cv_Zct"
   },
   "source": [
    "Приведем названия в соответствие с хорошим стилем:\n",
    "* несколько слов в названии запишем в «змеином_регистре»,\n",
    "* все символы сделаем строчными,\n",
    "* устраним пробелы.\n",
    "\n",
    "Для этого переименуем колонки так:\n",
    "* `'  userID'` → `'user_id'`;\n",
    "* `'Track'` → `'track'`;\n",
    "* `'  City  '` → `'city'`;\n",
    "* `'Day'` → `'day'`."
   ]
  },
  {
   "cell_type": "code",
   "execution_count": 6,
   "metadata": {
    "id": "ISlFqs5y_Zct"
   },
   "outputs": [],
   "source": [
    "df = df.rename(\n",
    "    columns={\n",
    "    '  userID': 'user_id',\n",
    "    'Track': 'track',\n",
    "    '  City  ': 'city',\n",
    "    'Day': 'day'\n",
    "    }\n",
    ") # переименование столбцов"
   ]
  },
  {
   "cell_type": "code",
   "execution_count": 7,
   "metadata": {
    "id": "d4NOAmTW_Zct"
   },
   "outputs": [
    {
     "data": {
      "text/plain": [
       "Index(['user_id', 'track', 'artist', 'genre', 'city', 'time', 'day'], dtype='object')"
      ]
     },
     "execution_count": 7,
     "metadata": {},
     "output_type": "execute_result"
    }
   ],
   "source": [
    "df.columns # проверка результатов - перечень названий столбцов"
   ]
  },
  {
   "cell_type": "markdown",
   "metadata": {
    "id": "5ISfbcfY_Zct"
   },
   "source": [
    "### Пропуски значений\n",
    "Сначала посчитаем, сколько в таблице пропущенных значений."
   ]
  },
  {
   "cell_type": "code",
   "execution_count": 8,
   "metadata": {
    "id": "RskX29qr_Zct"
   },
   "outputs": [
    {
     "data": {
      "text/plain": [
       "user_id       0\n",
       "track      1231\n",
       "artist     7203\n",
       "genre      1198\n",
       "city          0\n",
       "time          0\n",
       "day           0\n",
       "dtype: int64"
      ]
     },
     "execution_count": 8,
     "metadata": {},
     "output_type": "execute_result"
    }
   ],
   "source": [
    "df.isna().sum() # подсчёт пропусков"
   ]
  },
  {
   "cell_type": "markdown",
   "metadata": {
    "id": "qubhgnlO_Zct"
   },
   "source": [
    "Не все пропущенные значения влияют на исследование. Так в `track` и `artist` пропуски не важны. Достаточно заменить их явными обозначениями.\n",
    "\n",
    "Но пропуски в `genre` могут помешать сравнению музыкальных вкусов в Москве и Санкт-Петербурге. Придётся:\n",
    "* заполнить и эти пропуски явными обозначениями,\n",
    "* оценить, насколько они повредят расчётам. "
   ]
  },
  {
   "cell_type": "markdown",
   "metadata": {
    "id": "fSv2laPA_Zct"
   },
   "source": [
    "Заменим пропущенные значения в столбцах `track`, `artist` и `genre` на строку `'unknown'`. Для этого создадим список `columns_to_replace`, переберем его элементы циклом `for` и для каждого столбца выполним замену пропущенных значений:"
   ]
  },
  {
   "cell_type": "code",
   "execution_count": 9,
   "metadata": {
    "id": "KplB5qWs_Zct"
   },
   "outputs": [],
   "source": [
    "columns_to_replace = ['track', 'artist', 'genre']\n",
    "for column in columns_to_replace:\n",
    "    df[column] = df[column].fillna('unknown') # перебор названий столбцов в цикле и замена пропущенных значений на 'unknown'"
   ]
  },
  {
   "cell_type": "code",
   "execution_count": 10,
   "metadata": {
    "id": "Tq4nYRX4_Zct"
   },
   "outputs": [
    {
     "data": {
      "text/plain": [
       "user_id    0\n",
       "track      0\n",
       "artist     0\n",
       "genre      0\n",
       "city       0\n",
       "time       0\n",
       "day        0\n",
       "dtype: int64"
      ]
     },
     "execution_count": 10,
     "metadata": {},
     "output_type": "execute_result"
    }
   ],
   "source": [
    "df.isna().sum() # подсчёт пропусков"
   ]
  },
  {
   "cell_type": "markdown",
   "metadata": {
    "id": "BWKRtBJ3_Zct"
   },
   "source": [
    "### Дубликаты"
   ]
  },
  {
   "cell_type": "code",
   "execution_count": 11,
   "metadata": {
    "id": "36eES_S0_Zct"
   },
   "outputs": [
    {
     "data": {
      "text/plain": [
       "3826"
      ]
     },
     "execution_count": 11,
     "metadata": {},
     "output_type": "execute_result"
    }
   ],
   "source": [
    "df.duplicated().sum() # подсчёт явных дубликатов"
   ]
  },
  {
   "cell_type": "code",
   "execution_count": 12,
   "metadata": {
    "id": "exFHq6tt_Zct"
   },
   "outputs": [],
   "source": [
    "df = df.drop_duplicates().reset_index(drop=True) # удаление явных дубликатов (с удалением старых индексов и формированием новых)"
   ]
  },
  {
   "cell_type": "code",
   "execution_count": 13,
   "metadata": {
    "id": "-8PuNWQ0_Zct"
   },
   "outputs": [
    {
     "data": {
      "text/plain": [
       "0"
      ]
     },
     "execution_count": 13,
     "metadata": {},
     "output_type": "execute_result"
    }
   ],
   "source": [
    "df.duplicated().sum() # проверка на отсутствие дубликатов"
   ]
  },
  {
   "cell_type": "markdown",
   "metadata": {
    "id": "QlFBsxAr_Zct"
   },
   "source": [
    "Теперь избаимся от неявных дубликатов в колонке `genre`. Например, название одного и того же жанра может быть записано немного по-разному. Такие ошибки тоже повлияют на результат исследования."
   ]
  },
  {
   "cell_type": "markdown",
   "metadata": {
    "id": "eSjWwsOh_Zct"
   },
   "source": [
    "Выведем на экран список уникальных названий жанров, отсортированный в алфавитном порядке. Для этого:\n",
    "* извлечем нужный столбец датафрейма, \n",
    "* применим к нему метод сортировки,\n",
    "* для отсортированного столбца вызовем метод, который вернёт уникальные значения из столбца."
   ]
  },
  {
   "cell_type": "code",
   "execution_count": 14,
   "metadata": {
    "id": "JIUcqzZN_Zct"
   },
   "outputs": [
    {
     "data": {
      "text/plain": [
       "array(['acid', 'acoustic', 'action', 'adult', 'africa', 'afrikaans',\n",
       "       'alternative', 'alternativepunk', 'ambient', 'americana',\n",
       "       'animated', 'anime', 'arabesk', 'arabic', 'arena',\n",
       "       'argentinetango', 'art', 'audiobook', 'author', 'avantgarde',\n",
       "       'axé', 'baile', 'balkan', 'beats', 'bigroom', 'black', 'bluegrass',\n",
       "       'blues', 'bollywood', 'bossa', 'brazilian', 'breakbeat', 'breaks',\n",
       "       'broadway', 'cantautori', 'cantopop', 'canzone', 'caribbean',\n",
       "       'caucasian', 'celtic', 'chamber', 'chanson', 'children', 'chill',\n",
       "       'chinese', 'choral', 'christian', 'christmas', 'classical',\n",
       "       'classicmetal', 'club', 'colombian', 'comedy', 'conjazz',\n",
       "       'contemporary', 'country', 'cuban', 'dance', 'dancehall',\n",
       "       'dancepop', 'dark', 'death', 'deep', 'deutschrock', 'deutschspr',\n",
       "       'dirty', 'disco', 'dnb', 'documentary', 'downbeat', 'downtempo',\n",
       "       'drum', 'dub', 'dubstep', 'eastern', 'easy', 'electronic',\n",
       "       'electropop', 'emo', 'entehno', 'epicmetal', 'estrada', 'ethnic',\n",
       "       'eurofolk', 'european', 'experimental', 'extrememetal', 'fado',\n",
       "       'fairytail', 'film', 'fitness', 'flamenco', 'folk', 'folklore',\n",
       "       'folkmetal', 'folkrock', 'folktronica', 'forró', 'frankreich',\n",
       "       'französisch', 'french', 'funk', 'future', 'gangsta', 'garage',\n",
       "       'german', 'ghazal', 'gitarre', 'glitch', 'gospel', 'gothic',\n",
       "       'grime', 'grunge', 'gypsy', 'handsup', \"hard'n'heavy\", 'hardcore',\n",
       "       'hardstyle', 'hardtechno', 'hip', 'hip-hop', 'hiphop',\n",
       "       'historisch', 'holiday', 'hop', 'horror', 'house', 'hymn', 'idm',\n",
       "       'independent', 'indian', 'indie', 'indipop', 'industrial',\n",
       "       'inspirational', 'instrumental', 'international', 'irish', 'jam',\n",
       "       'japanese', 'jazz', 'jewish', 'jpop', 'jungle', 'k-pop',\n",
       "       'karadeniz', 'karaoke', 'kayokyoku', 'korean', 'laiko', 'latin',\n",
       "       'latino', 'leftfield', 'local', 'lounge', 'loungeelectronic',\n",
       "       'lovers', 'malaysian', 'mandopop', 'marschmusik', 'meditative',\n",
       "       'mediterranean', 'melodic', 'metal', 'metalcore', 'mexican',\n",
       "       'middle', 'minimal', 'miscellaneous', 'modern', 'mood', 'mpb',\n",
       "       'muslim', 'native', 'neoklassik', 'neue', 'new', 'newage',\n",
       "       'newwave', 'nu', 'nujazz', 'numetal', 'oceania', 'old', 'opera',\n",
       "       'orchestral', 'other', 'piano', 'podcasts', 'pop', 'popdance',\n",
       "       'popelectronic', 'popeurodance', 'poprussian', 'post',\n",
       "       'posthardcore', 'postrock', 'power', 'progmetal', 'progressive',\n",
       "       'psychedelic', 'punjabi', 'punk', 'quebecois', 'ragga', 'ram',\n",
       "       'rancheras', 'rap', 'rave', 'reggae', 'reggaeton', 'regional',\n",
       "       'relax', 'religious', 'retro', 'rhythm', 'rnb', 'rnr', 'rock',\n",
       "       'rockabilly', 'rockalternative', 'rockindie', 'rockother',\n",
       "       'romance', 'roots', 'ruspop', 'rusrap', 'rusrock', 'russian',\n",
       "       'salsa', 'samba', 'scenic', 'schlager', 'self', 'sertanejo',\n",
       "       'shanson', 'shoegazing', 'showtunes', 'singer', 'ska', 'skarock',\n",
       "       'slow', 'smooth', 'soft', 'soul', 'soulful', 'sound', 'soundtrack',\n",
       "       'southern', 'specialty', 'speech', 'spiritual', 'sport',\n",
       "       'stonerrock', 'surf', 'swing', 'synthpop', 'synthrock',\n",
       "       'sängerportrait', 'tango', 'tanzorchester', 'taraftar', 'tatar',\n",
       "       'tech', 'techno', 'teen', 'thrash', 'top', 'traditional',\n",
       "       'tradjazz', 'trance', 'tribal', 'trip', 'triphop', 'tropical',\n",
       "       'türk', 'türkçe', 'ukrrock', 'unknown', 'urban', 'uzbek',\n",
       "       'variété', 'vi', 'videogame', 'vocal', 'western', 'world',\n",
       "       'worldbeat', 'ïîï', 'электроника'], dtype=object)"
      ]
     },
     "execution_count": 14,
     "metadata": {},
     "output_type": "execute_result"
    }
   ],
   "source": [
    "df['genre'].sort_values().unique() # Просмотр уникальных названий жанров"
   ]
  },
  {
   "cell_type": "code",
   "execution_count": 15,
   "metadata": {
    "id": "ErNDkmns_Zct"
   },
   "outputs": [],
   "source": [
    "def replace_wrong_genres(wrong_genres, correct_genre):\n",
    "    df['genre'] = df['genre'].replace(wrong_genres, correct_genre) # Функция для замены неявных дубликатов"
   ]
  },
  {
   "cell_type": "code",
   "execution_count": 16,
   "metadata": {
    "id": "YN5i2hpmSo09"
   },
   "outputs": [],
   "source": [
    "wrong_genres = ['hip', 'hop', 'hip-hop']\n",
    "correct_genre = 'hiphop'\n",
    "replace_wrong_genres(wrong_genres, correct_genre)\n",
    "wrong_genres = ['электроника']\n",
    "correct_genre = 'electronic'\n",
    "replace_wrong_genres(wrong_genres, correct_genre)\n",
    "# Устранение неявных дубликатов"
   ]
  },
  {
   "cell_type": "code",
   "execution_count": 17,
   "metadata": {
    "id": "wvixALnFG15m"
   },
   "outputs": [
    {
     "data": {
      "text/plain": [
       "array(['acid', 'acoustic', 'action', 'adult', 'africa', 'afrikaans',\n",
       "       'alternative', 'alternativepunk', 'ambient', 'americana',\n",
       "       'animated', 'anime', 'arabesk', 'arabic', 'arena',\n",
       "       'argentinetango', 'art', 'audiobook', 'author', 'avantgarde',\n",
       "       'axé', 'baile', 'balkan', 'beats', 'bigroom', 'black', 'bluegrass',\n",
       "       'blues', 'bollywood', 'bossa', 'brazilian', 'breakbeat', 'breaks',\n",
       "       'broadway', 'cantautori', 'cantopop', 'canzone', 'caribbean',\n",
       "       'caucasian', 'celtic', 'chamber', 'chanson', 'children', 'chill',\n",
       "       'chinese', 'choral', 'christian', 'christmas', 'classical',\n",
       "       'classicmetal', 'club', 'colombian', 'comedy', 'conjazz',\n",
       "       'contemporary', 'country', 'cuban', 'dance', 'dancehall',\n",
       "       'dancepop', 'dark', 'death', 'deep', 'deutschrock', 'deutschspr',\n",
       "       'dirty', 'disco', 'dnb', 'documentary', 'downbeat', 'downtempo',\n",
       "       'drum', 'dub', 'dubstep', 'eastern', 'easy', 'electronic',\n",
       "       'electropop', 'emo', 'entehno', 'epicmetal', 'estrada', 'ethnic',\n",
       "       'eurofolk', 'european', 'experimental', 'extrememetal', 'fado',\n",
       "       'fairytail', 'film', 'fitness', 'flamenco', 'folk', 'folklore',\n",
       "       'folkmetal', 'folkrock', 'folktronica', 'forró', 'frankreich',\n",
       "       'französisch', 'french', 'funk', 'future', 'gangsta', 'garage',\n",
       "       'german', 'ghazal', 'gitarre', 'glitch', 'gospel', 'gothic',\n",
       "       'grime', 'grunge', 'gypsy', 'handsup', \"hard'n'heavy\", 'hardcore',\n",
       "       'hardstyle', 'hardtechno', 'hiphop', 'historisch', 'holiday',\n",
       "       'horror', 'house', 'hymn', 'idm', 'independent', 'indian', 'indie',\n",
       "       'indipop', 'industrial', 'inspirational', 'instrumental',\n",
       "       'international', 'irish', 'jam', 'japanese', 'jazz', 'jewish',\n",
       "       'jpop', 'jungle', 'k-pop', 'karadeniz', 'karaoke', 'kayokyoku',\n",
       "       'korean', 'laiko', 'latin', 'latino', 'leftfield', 'local',\n",
       "       'lounge', 'loungeelectronic', 'lovers', 'malaysian', 'mandopop',\n",
       "       'marschmusik', 'meditative', 'mediterranean', 'melodic', 'metal',\n",
       "       'metalcore', 'mexican', 'middle', 'minimal', 'miscellaneous',\n",
       "       'modern', 'mood', 'mpb', 'muslim', 'native', 'neoklassik', 'neue',\n",
       "       'new', 'newage', 'newwave', 'nu', 'nujazz', 'numetal', 'oceania',\n",
       "       'old', 'opera', 'orchestral', 'other', 'piano', 'podcasts', 'pop',\n",
       "       'popdance', 'popelectronic', 'popeurodance', 'poprussian', 'post',\n",
       "       'posthardcore', 'postrock', 'power', 'progmetal', 'progressive',\n",
       "       'psychedelic', 'punjabi', 'punk', 'quebecois', 'ragga', 'ram',\n",
       "       'rancheras', 'rap', 'rave', 'reggae', 'reggaeton', 'regional',\n",
       "       'relax', 'religious', 'retro', 'rhythm', 'rnb', 'rnr', 'rock',\n",
       "       'rockabilly', 'rockalternative', 'rockindie', 'rockother',\n",
       "       'romance', 'roots', 'ruspop', 'rusrap', 'rusrock', 'russian',\n",
       "       'salsa', 'samba', 'scenic', 'schlager', 'self', 'sertanejo',\n",
       "       'shanson', 'shoegazing', 'showtunes', 'singer', 'ska', 'skarock',\n",
       "       'slow', 'smooth', 'soft', 'soul', 'soulful', 'sound', 'soundtrack',\n",
       "       'southern', 'specialty', 'speech', 'spiritual', 'sport',\n",
       "       'stonerrock', 'surf', 'swing', 'synthpop', 'synthrock',\n",
       "       'sängerportrait', 'tango', 'tanzorchester', 'taraftar', 'tatar',\n",
       "       'tech', 'techno', 'teen', 'thrash', 'top', 'traditional',\n",
       "       'tradjazz', 'trance', 'tribal', 'trip', 'triphop', 'tropical',\n",
       "       'türk', 'türkçe', 'ukrrock', 'unknown', 'urban', 'uzbek',\n",
       "       'variété', 'vi', 'videogame', 'vocal', 'western', 'world',\n",
       "       'worldbeat', 'ïîï'], dtype=object)"
      ]
     },
     "execution_count": 17,
     "metadata": {},
     "output_type": "execute_result"
    }
   ],
   "source": [
    "df['genre'].sort_values().unique() # Проверка на неявные дубликаты"
   ]
  },
  {
   "cell_type": "markdown",
   "metadata": {
    "id": "jz6a9-7HQUDd"
   },
   "source": [
    "**Выводы**\n",
    "\n",
    "Предобработка обнаружила три проблемы в данных:\n",
    "\n",
    "- нарушения в стиле заголовков,\n",
    "- пропущенные значения,\n",
    "- дубликаты — явные и неявные.\n",
    "\n",
    "Мы исправили заголовки, чтобы упростить работу с таблицей. Без дубликатов исследование станет более точным.\n",
    "\n",
    "Пропущенные значения заменили на `'unknown'`. Ещё предстоит увидеть, не повредят ли исследованию пропуски в колонке `genre`.\n",
    "\n",
    "Теперь можно перейти к проверке гипотез. "
   ]
  },
  {
   "cell_type": "markdown",
   "metadata": {
    "id": "WttZHXH0SqKk"
   },
   "source": [
    "## Проверка гипотез"
   ]
  },
  {
   "cell_type": "markdown",
   "metadata": {
    "id": "Im936VVi_Zcu"
   },
   "source": [
    "### Сравнение поведения пользователей двух столиц"
   ]
  },
  {
   "cell_type": "markdown",
   "metadata": {
    "id": "nwt_MuaL_Zcu"
   },
   "source": [
    "Первая гипотеза утверждает, что пользователи по-разному слушают музыку в Москве и Санкт-Петербурге. Проверим это предположение по данным о трёх днях недели — понедельнике, среде и пятнице. Для этого:\n",
    "\n",
    "* Разделим пользователей Москвы и Санкт-Петербурга\n",
    "* Сравним, сколько треков послушала каждая группа пользователей в понедельник, среду и пятницу.\n"
   ]
  },
  {
   "cell_type": "code",
   "execution_count": 18,
   "metadata": {
    "id": "0_Qs96oh_Zcu"
   },
   "outputs": [
    {
     "data": {
      "text/plain": [
       "city\n",
       "Moscow              42741\n",
       "Saint-Petersburg    18512\n",
       "Name: time, dtype: int64"
      ]
     },
     "execution_count": 18,
     "metadata": {},
     "output_type": "execute_result"
    }
   ],
   "source": [
    "df.groupby('city')['time'].count() # Подсчёт прослушиваний в каждом городе"
   ]
  },
  {
   "cell_type": "markdown",
   "metadata": {
    "id": "dzli3w8o_Zcu"
   },
   "source": [
    "В Москве прослушиваний больше, чем в Петербурге. Из этого не следует, что московские пользователи чаще слушают музыку. Просто самих пользователей в Москве больше.\n",
    "\n",
    "Теперь сгруппируем данные по дню недели и подсчитаем прослушивания в понедельник, среду и пятницу. Учтем, что в данных есть информация о прослушиваниях только за эти дни.\n"
   ]
  },
  {
   "cell_type": "code",
   "execution_count": 19,
   "metadata": {
    "id": "uZMKjiJz_Zcu"
   },
   "outputs": [
    {
     "data": {
      "text/plain": [
       "day\n",
       "Friday       21840\n",
       "Monday       21354\n",
       "Wednesday    18059\n",
       "Name: time, dtype: int64"
      ]
     },
     "execution_count": 19,
     "metadata": {},
     "output_type": "execute_result"
    }
   ],
   "source": [
    "df.groupby('day')['time'].count() # Подсчёт прослушиваний в каждый из трёх дней"
   ]
  },
  {
   "cell_type": "markdown",
   "metadata": {
    "id": "cC2tNrlL_Zcu"
   },
   "source": [
    "В среднем пользователи из двух городов менее активны по средам. Но картина может измениться, если рассмотреть каждый город в отдельности."
   ]
  },
  {
   "cell_type": "code",
   "execution_count": 20,
   "metadata": {
    "id": "Nz3GdQB1_Zcu"
   },
   "outputs": [],
   "source": [
    "# <создание функции number_tracks()>\n",
    "# Объявляется функция с двумя параметрами: day, city.\n",
    "# В переменной track_list сохраняются те строки таблицы df, для которых \n",
    "# значение в столбце 'day' равно параметру day и одновременно значение\n",
    "# в столбце 'city' равно параметру city (используйте последовательную фильтрацию\n",
    "# с помощью логической индексации).\n",
    "# В переменной track_list_count сохраняется число значений столбца 'user_id',\n",
    "# рассчитанное методом count() для таблицы track_list.\n",
    "# Функция возвращает число - значение track_list_count.\n",
    "\n",
    "# Функция для подсчёта прослушиваний для конкретного города и дня.\n",
    "# С помощью последовательной фильтрации с логической индексацией она \n",
    "# сначала получит из исходной таблицы строки с нужным днём,\n",
    "# затем из результата отфильтрует строки с нужным городом,\n",
    "# методом count() посчитает количество значений в колонке user_id. \n",
    "# Это количество функция вернёт в качестве результата\n",
    "\n",
    "def number_tracks(day, city): \n",
    "    track_list = df[df['day'] == day]   \n",
    "    track_list = track_list[track_list['city'] == city] \n",
    "    track_list_count = track_list['user_id'].count()   \n",
    "    return track_list_count "
   ]
  },
  {
   "cell_type": "code",
   "execution_count": 21,
   "metadata": {
    "id": "rJcRATNQ_Zcu"
   },
   "outputs": [
    {
     "data": {
      "text/plain": [
       "15740"
      ]
     },
     "execution_count": 21,
     "metadata": {},
     "output_type": "execute_result"
    }
   ],
   "source": [
    "number_tracks('Monday', 'Moscow') # количество прослушиваний в Москве по понедельникам"
   ]
  },
  {
   "cell_type": "code",
   "execution_count": 22,
   "metadata": {
    "id": "hq_ncZ5T_Zcu"
   },
   "outputs": [
    {
     "data": {
      "text/plain": [
       "5614"
      ]
     },
     "execution_count": 22,
     "metadata": {},
     "output_type": "execute_result"
    }
   ],
   "source": [
    "number_tracks('Monday', 'Saint-Petersburg') # количество прослушиваний в Санкт-Петербурге по понедельникам"
   ]
  },
  {
   "cell_type": "code",
   "execution_count": 23,
   "metadata": {
    "id": "_NTy2VPU_Zcu"
   },
   "outputs": [
    {
     "data": {
      "text/plain": [
       "11056"
      ]
     },
     "execution_count": 23,
     "metadata": {},
     "output_type": "execute_result"
    }
   ],
   "source": [
    "number_tracks('Wednesday', 'Moscow') # количество прослушиваний в Москве по средам"
   ]
  },
  {
   "cell_type": "code",
   "execution_count": 24,
   "metadata": {
    "id": "j2y3TAwo_Zcu"
   },
   "outputs": [
    {
     "data": {
      "text/plain": [
       "7003"
      ]
     },
     "execution_count": 24,
     "metadata": {},
     "output_type": "execute_result"
    }
   ],
   "source": [
    "number_tracks('Wednesday', 'Saint-Petersburg') # количество прослушиваний в Санкт-Петербурге по средам"
   ]
  },
  {
   "cell_type": "code",
   "execution_count": 25,
   "metadata": {
    "id": "vYDw5u_K_Zcu"
   },
   "outputs": [
    {
     "data": {
      "text/plain": [
       "15945"
      ]
     },
     "execution_count": 25,
     "metadata": {},
     "output_type": "execute_result"
    }
   ],
   "source": [
    "number_tracks('Friday', 'Moscow') # количество прослушиваний в Москве по пятницам"
   ]
  },
  {
   "cell_type": "code",
   "execution_count": 26,
   "metadata": {
    "id": "8_yzFtW3_Zcu"
   },
   "outputs": [
    {
     "data": {
      "text/plain": [
       "5895"
      ]
     },
     "execution_count": 26,
     "metadata": {},
     "output_type": "execute_result"
    }
   ],
   "source": [
    "number_tracks('Friday', 'Saint-Petersburg') # количество прослушиваний в Санкт-Петербурге по пятницам"
   ]
  },
  {
   "cell_type": "code",
   "execution_count": 27,
   "metadata": {
    "id": "APAcLpOr_Zcu"
   },
   "outputs": [
    {
     "data": {
      "text/html": [
       "<div>\n",
       "<style scoped>\n",
       "    .dataframe tbody tr th:only-of-type {\n",
       "        vertical-align: middle;\n",
       "    }\n",
       "\n",
       "    .dataframe tbody tr th {\n",
       "        vertical-align: top;\n",
       "    }\n",
       "\n",
       "    .dataframe thead th {\n",
       "        text-align: right;\n",
       "    }\n",
       "</style>\n",
       "<table border=\"1\" class=\"dataframe\">\n",
       "  <thead>\n",
       "    <tr style=\"text-align: right;\">\n",
       "      <th></th>\n",
       "      <th>city</th>\n",
       "      <th>monday</th>\n",
       "      <th>wednesday</th>\n",
       "      <th>friday</th>\n",
       "    </tr>\n",
       "  </thead>\n",
       "  <tbody>\n",
       "    <tr>\n",
       "      <th>0</th>\n",
       "      <td>Moscow</td>\n",
       "      <td>15740</td>\n",
       "      <td>11056</td>\n",
       "      <td>15945</td>\n",
       "    </tr>\n",
       "    <tr>\n",
       "      <th>1</th>\n",
       "      <td>Saint-Petersburg</td>\n",
       "      <td>5614</td>\n",
       "      <td>7003</td>\n",
       "      <td>5895</td>\n",
       "    </tr>\n",
       "  </tbody>\n",
       "</table>\n",
       "</div>"
      ],
      "text/plain": [
       "               city  monday  wednesday  friday\n",
       "0            Moscow   15740      11056   15945\n",
       "1  Saint-Petersburg    5614       7003    5895"
      ]
     },
     "execution_count": 27,
     "metadata": {},
     "output_type": "execute_result"
    }
   ],
   "source": [
    "result_hypotis_1 = [\n",
    "    ['Moscow', 15740, 11056, 15945],\n",
    "    ['Saint-Petersburg', 5614, 7003, 5895]\n",
    "]\n",
    "pd.DataFrame(data=result_hypotis_1, columns=['city', 'monday', 'wednesday', 'friday']) # Таблица с результатами"
   ]
  },
  {
   "cell_type": "markdown",
   "metadata": {
    "id": "-EgPIHYu_Zcu"
   },
   "source": [
    "**Выводы**\n",
    "\n",
    "Данные показывают разницу поведения пользователей:\n",
    "\n",
    "- В Москве пик прослушиваний приходится на понедельник и пятницу, а в среду заметен спад.\n",
    "- В Петербурге, наоборот, больше слушают музыку по средам. Активность в понедельник и пятницу здесь почти в равной мере уступает среде.\n",
    "\n",
    "Значит, данные говорят в пользу первой гипотезы."
   ]
  },
  {
   "cell_type": "markdown",
   "metadata": {
    "id": "atZAxtq4_Zcu"
   },
   "source": [
    "### Музыка в начале и в конце недели"
   ]
  },
  {
   "cell_type": "markdown",
   "metadata": {
    "id": "eXrQqXFH_Zcu"
   },
   "source": [
    "Согласно второй гипотезе, утром в понедельник в Москве преобладают одни жанры, а в Петербурге — другие. Так же и вечером пятницы преобладают разные жанры — в зависимости от города."
   ]
  },
  {
   "cell_type": "code",
   "execution_count": 28,
   "metadata": {
    "id": "qeaFfM_P_Zcu"
   },
   "outputs": [],
   "source": [
    "moscow_general = df[df['city'] == 'Moscow'] # получение таблицы moscow_general из тех строк таблицы df, \n",
    "# для которых значение в столбце 'city' равно 'Moscow'\n"
   ]
  },
  {
   "cell_type": "code",
   "execution_count": 29,
   "metadata": {
    "id": "ORaVRKto_Zcu"
   },
   "outputs": [],
   "source": [
    "spb_general = df[df['city'] == 'Saint-Petersburg'] # получение таблицы spb_general из тех строк таблицы df,\n",
    "# для которых значение в столбце 'city' равно 'Saint-Petersburg'\n"
   ]
  },
  {
   "cell_type": "code",
   "execution_count": 30,
   "metadata": {
    "id": "laJT9BYl_Zcu"
   },
   "outputs": [],
   "source": [
    "    \n",
    "# Объявление функции genre_weekday() с параметрами table, day, time1, time2,\n",
    "# которая возвращает информацию о самых популярных жанрах в указанный день в\n",
    "# заданное время:\n",
    "# 1) в переменную genre_df сохраняются те строки переданного датафрейма table, для\n",
    "#    которых одновременно:\n",
    "#    - значение в столбце day равно значению аргумента day\n",
    "#    - значение в столбце time больше значения аргумента time1\n",
    "#    - значение в столбце time меньше значения аргумента time2\n",
    "#    Используйте последовательную фильтрацию с помощью логической индексации.\n",
    "# 2) сгруппировать датафрейм genre_df по столбцу genre, взять один из его\n",
    "#    столбцов и посчитать методом count() количество записей для каждого из\n",
    "#    присутствующих жанров, получившийся Series записать в переменную\n",
    "#    genre_df_count\n",
    "# 3) отсортировать genre_df_count по убыванию встречаемости и сохранить\n",
    "#    в переменную genre_df_sorted\n",
    "# 4) вернуть Series из 10 первых значений genre_df_sorted, это будут топ-10\n",
    "#    популярных жанров (в указанный день, в заданное время)\n",
    "def genre_weekday(table, day, time1='00:00', time2='23:59'):\n",
    "    genre_df = table[table['day'] == day]\n",
    "    genre_df = genre_df[genre_df['time'] > time1]\n",
    "    genre_df = genre_df[genre_df['time'] < time2]\n",
    "    genre_df_count = genre_df.groupby(by='genre')['time'].count()\n",
    "    genre_df_sorted = genre_df_count.sort_values(ascending=False)\n",
    "    return genre_df_sorted.head(10)\n"
   ]
  },
  {
   "cell_type": "code",
   "execution_count": 31,
   "metadata": {
    "id": "yz7itPUQ_Zcu"
   },
   "outputs": [
    {
     "data": {
      "text/plain": [
       "genre\n",
       "pop            781\n",
       "dance          549\n",
       "electronic     480\n",
       "rock           474\n",
       "hiphop         286\n",
       "ruspop         186\n",
       "world          181\n",
       "rusrap         175\n",
       "alternative    164\n",
       "unknown        161\n",
       "Name: time, dtype: int64"
      ]
     },
     "execution_count": 31,
     "metadata": {},
     "output_type": "execute_result"
    }
   ],
   "source": [
    "genre_weekday(moscow_general, 'Monday', '07:00', '11:00') \n",
    "\n",
    "# вызов функции для утра понедельника в Москве (вместо df — таблица moscow_general)\n",
    "# объекты, хранящие время, являются строками и сравниваются как строки\n",
    "# пример вызова: genre_weekday(moscow_general, 'Monday', '07:00', '11:00')"
   ]
  },
  {
   "cell_type": "code",
   "execution_count": 32,
   "metadata": {
    "id": "kwUcHPdy_Zcu"
   },
   "outputs": [
    {
     "data": {
      "text/plain": [
       "genre\n",
       "pop            218\n",
       "dance          182\n",
       "rock           162\n",
       "electronic     147\n",
       "hiphop          80\n",
       "ruspop          64\n",
       "alternative     58\n",
       "rusrap          55\n",
       "jazz            44\n",
       "classical       40\n",
       "Name: time, dtype: int64"
      ]
     },
     "execution_count": 32,
     "metadata": {},
     "output_type": "execute_result"
    }
   ],
   "source": [
    "genre_weekday(spb_general, 'Monday', '07:00', '11:00') # вызов функции для утра понедельника в Петербурге (вместо df — таблица spb_general)"
   ]
  },
  {
   "cell_type": "code",
   "execution_count": 33,
   "metadata": {
    "id": "EzXVRE1o_Zcu"
   },
   "outputs": [
    {
     "data": {
      "text/plain": [
       "genre\n",
       "pop            717\n",
       "dance          524\n",
       "rock           518\n",
       "electronic     485\n",
       "hiphop         238\n",
       "alternative    182\n",
       "classical      172\n",
       "world          172\n",
       "ruspop         149\n",
       "rusrap         133\n",
       "Name: time, dtype: int64"
      ]
     },
     "execution_count": 33,
     "metadata": {},
     "output_type": "execute_result"
    }
   ],
   "source": [
    "genre_weekday(moscow_general, 'Monday', '17:00', '23:00') # вызов функции для вечера пятницы в Москве"
   ]
  },
  {
   "cell_type": "code",
   "execution_count": 34,
   "metadata": {
    "id": "JZaEKu5v_Zcu"
   },
   "outputs": [
    {
     "data": {
      "text/plain": [
       "genre\n",
       "pop            263\n",
       "rock           208\n",
       "electronic     192\n",
       "dance          191\n",
       "hiphop         104\n",
       "alternative     72\n",
       "classical       71\n",
       "jazz            57\n",
       "rusrap          54\n",
       "ruspop          53\n",
       "Name: time, dtype: int64"
      ]
     },
     "execution_count": 34,
     "metadata": {},
     "output_type": "execute_result"
    }
   ],
   "source": [
    "genre_weekday(spb_general, 'Monday', '17:00', '23:00') # вызов функции для вечера пятницы в Петербурге"
   ]
  },
  {
   "cell_type": "markdown",
   "metadata": {
    "id": "wrCe4MNX_Zcu"
   },
   "source": [
    "**Выводы**\n",
    "\n",
    "Если сравнить топ-10 жанров в понедельник утром, можно сделать такие выводы:\n",
    "\n",
    "1. В Москве и Петербурге слушают похожую музыку. Единственное отличие — в московский рейтинг вошёл жанр “world”, а в петербургский — джаз и классика.\n",
    "\n",
    "2. В Москве пропущенных значений оказалось так много, что значение `'unknown'` заняло десятое место среди самых популярных жанров. Значит, пропущенные значения занимают существенную долю в данных и угрожают достоверности исследования.\n",
    "\n",
    "Вечер пятницы не меняет эту картину. Некоторые жанры поднимаются немного выше, другие спускаются, но в целом топ-10 остаётся тем же самым.\n",
    "\n",
    "Таким образом, вторая гипотеза подтвердилась лишь частично:\n",
    "* Пользователи слушают похожую музыку в начале недели и в конце.\n",
    "* Разница между Москвой и Петербургом не слишком выражена. В Москве чаще слушают русскую популярную музыку, в Петербурге — джаз.\n",
    "\n",
    "Однако пропуски в данных ставят под сомнение этот результат. В Москве их так много, что рейтинг топ-10 мог бы выглядеть иначе, если бы не утерянные  данные о жанрах."
   ]
  },
  {
   "cell_type": "markdown",
   "metadata": {
    "id": "JolODAqr_Zcu"
   },
   "source": [
    "### Жанровые предпочтения в Москве и Петербурге\n",
    "\n",
    "Гипотеза: Петербург — столица рэпа, музыку этого жанра там слушают чаще, чем в Москве.  А Москва — город контрастов, в котором, тем не менее, преобладает поп-музыка."
   ]
  },
  {
   "cell_type": "code",
   "execution_count": 35,
   "metadata": {
    "id": "r19lIPke_Zcu"
   },
   "outputs": [],
   "source": [
    "moscow_genres = moscow_general.groupby('genre')['genre'].count().sort_values(ascending=False)\n",
    "\n",
    "# одной строкой: группировка таблицы moscow_general по столбцу 'genre', \n",
    "# подсчёт числа значений 'genre' в этой группировке методом count(), \n",
    "# сортировка получившегося Series в порядке убывания и сохранение в moscow_genres"
   ]
  },
  {
   "cell_type": "code",
   "execution_count": 36,
   "metadata": {
    "id": "WhCSooF8_Zcv"
   },
   "outputs": [
    {
     "data": {
      "text/plain": [
       "genre\n",
       "pop            5892\n",
       "dance          4435\n",
       "rock           3965\n",
       "electronic     3786\n",
       "hiphop         2096\n",
       "classical      1616\n",
       "world          1432\n",
       "alternative    1379\n",
       "ruspop         1372\n",
       "rusrap         1161\n",
       "Name: genre, dtype: int64"
      ]
     },
     "execution_count": 36,
     "metadata": {},
     "output_type": "execute_result"
    }
   ],
   "source": [
    "moscow_genres.head(10) # просмотр первых 10 строк moscow_genres"
   ]
  },
  {
   "cell_type": "code",
   "execution_count": 37,
   "metadata": {
    "id": "gluLIpE7_Zcv"
   },
   "outputs": [],
   "source": [
    "spb_genres = spb_general.groupby('genre')['genre'].count().sort_values(ascending=False)\n",
    "\n",
    "# одной строкой: группировка таблицы spb_general по столбцу 'genre', \n",
    "# подсчёт числа значений 'genre' в этой группировке методом count(), \n",
    "# сортировка получившегося Series в порядке убывания и сохранение в spb_genres"
   ]
  },
  {
   "cell_type": "code",
   "execution_count": 38,
   "metadata": {
    "id": "uaGJHjVU_Zcv"
   },
   "outputs": [
    {
     "data": {
      "text/plain": [
       "genre\n",
       "pop            2431\n",
       "dance          1932\n",
       "rock           1879\n",
       "electronic     1737\n",
       "hiphop          960\n",
       "alternative     649\n",
       "classical       646\n",
       "rusrap          564\n",
       "ruspop          538\n",
       "world           515\n",
       "Name: genre, dtype: int64"
      ]
     },
     "execution_count": 38,
     "metadata": {},
     "output_type": "execute_result"
    }
   ],
   "source": [
    "spb_genres.head(10) # просмотр первых 10 строк spb_genres"
   ]
  },
  {
   "cell_type": "markdown",
   "metadata": {
    "id": "RY51YJYu_Zcv"
   },
   "source": [
    "**Выводы**"
   ]
  },
  {
   "cell_type": "markdown",
   "metadata": {
    "id": "nVhnJEm__Zcv"
   },
   "source": [
    "Гипотеза частично подтвердилась:\n",
    "* Поп-музыка — самый популярный жанр в Москве, как и предполагала гипотеза. Более того, в топ-10 жанров встречается близкий жанр — русская популярная музыка.\n",
    "* Вопреки ожиданиям, рэп одинаково популярен в Москве и Петербурге. \n"
   ]
  },
  {
   "cell_type": "markdown",
   "metadata": {
    "id": "ykKQ0N65_Zcv"
   },
   "source": [
    "## Итоги исследования"
   ]
  },
  {
   "cell_type": "markdown",
   "metadata": {
    "id": "tjUwbHb3_Zcv"
   },
   "source": [
    "Мы проверили три гипотезы и установили:\n",
    "\n",
    "1. День недели по-разному влияет на активность пользователей в Москве и Петербурге. \n",
    "\n",
    "Первая гипотеза полностью подтвердилась.\n",
    "\n",
    "2. Музыкальные предпочтения не сильно меняются в течение недели — будь то Москва или Петербург. Небольшие различия заметны в начале недели, по понедельникам:\n",
    "* в Москве слушают музыку жанра “world”,\n",
    "* в Петербурге — джаз и классику.\n",
    "\n",
    "Таким образом, вторая гипотеза подтвердилась лишь отчасти. Этот результат мог оказаться иным, если бы не пропуски в данных.\n",
    "\n",
    "3. Во вкусах пользователей Москвы и Петербурга больше общего чем различий. Вопреки ожиданиям, предпочтения жанров в Петербурге напоминают московские.\n",
    "\n",
    "Третья гипотеза не подтвердилась. Если различия в предпочтениях и существуют, на основной массе пользователей они незаметны."
   ]
  }
 ],
 "metadata": {
  "ExecuteTimeLog": [
   {
    "duration": 448,
    "start_time": "2022-03-24T05:23:57.300Z"
   },
   {
    "duration": 4,
    "start_time": "2022-03-24T05:24:01.144Z"
   },
   {
    "duration": 181,
    "start_time": "2022-03-24T05:25:07.814Z"
   },
   {
    "duration": 174,
    "start_time": "2022-03-24T05:25:15.980Z"
   },
   {
    "duration": 18,
    "start_time": "2022-03-24T05:25:47.637Z"
   },
   {
    "duration": 34,
    "start_time": "2022-03-24T05:26:38.449Z"
   },
   {
    "duration": 78,
    "start_time": "2022-03-24T05:33:11.793Z"
   },
   {
    "duration": 5,
    "start_time": "2022-03-24T05:34:24.264Z"
   },
   {
    "duration": 174,
    "start_time": "2022-03-24T05:37:05.830Z"
   },
   {
    "duration": 162,
    "start_time": "2022-03-24T05:37:25.984Z"
   },
   {
    "duration": 168,
    "start_time": "2022-03-24T05:37:43.333Z"
   },
   {
    "duration": 169,
    "start_time": "2022-03-24T05:38:51.458Z"
   },
   {
    "duration": 183,
    "start_time": "2022-03-24T05:39:35.562Z"
   },
   {
    "duration": 178,
    "start_time": "2022-03-24T05:39:44.744Z"
   },
   {
    "duration": 9,
    "start_time": "2022-03-24T05:40:22.313Z"
   },
   {
    "duration": 4,
    "start_time": "2022-03-24T05:40:25.311Z"
   },
   {
    "duration": 33,
    "start_time": "2022-03-24T05:40:55.219Z"
   },
   {
    "duration": 26,
    "start_time": "2022-03-24T05:41:25.177Z"
   },
   {
    "duration": 172,
    "start_time": "2022-03-24T05:44:22.833Z"
   },
   {
    "duration": 9,
    "start_time": "2022-03-24T05:44:30.092Z"
   },
   {
    "duration": 19,
    "start_time": "2022-03-24T05:44:55.404Z"
   },
   {
    "duration": 10,
    "start_time": "2022-03-24T05:50:05.528Z"
   },
   {
    "duration": 11,
    "start_time": "2022-03-24T05:50:28.012Z"
   },
   {
    "duration": 14,
    "start_time": "2022-03-24T05:52:03.164Z"
   },
   {
    "duration": 10,
    "start_time": "2022-03-24T05:52:07.879Z"
   },
   {
    "duration": 10,
    "start_time": "2022-03-24T05:53:11.412Z"
   },
   {
    "duration": 10,
    "start_time": "2022-03-24T05:53:39.213Z"
   },
   {
    "duration": 9,
    "start_time": "2022-03-24T05:54:03.940Z"
   },
   {
    "duration": 10,
    "start_time": "2022-03-24T05:56:38.732Z"
   },
   {
    "duration": 10,
    "start_time": "2022-03-24T05:59:08.797Z"
   },
   {
    "duration": 10,
    "start_time": "2022-03-24T05:59:12.960Z"
   },
   {
    "duration": 9,
    "start_time": "2022-03-24T05:59:19.155Z"
   },
   {
    "duration": 11,
    "start_time": "2022-03-24T06:00:16.095Z"
   },
   {
    "duration": 10,
    "start_time": "2022-03-24T06:01:42.524Z"
   },
   {
    "duration": 3,
    "start_time": "2022-03-24T06:04:15.606Z"
   },
   {
    "duration": 202,
    "start_time": "2022-03-24T06:04:15.610Z"
   },
   {
    "duration": 18,
    "start_time": "2022-03-24T06:04:15.814Z"
   },
   {
    "duration": 32,
    "start_time": "2022-03-24T06:04:15.835Z"
   },
   {
    "duration": 10,
    "start_time": "2022-03-24T06:04:15.869Z"
   },
   {
    "duration": 17,
    "start_time": "2022-03-24T06:04:15.881Z"
   },
   {
    "duration": 13,
    "start_time": "2022-03-24T06:04:15.900Z"
   },
   {
    "duration": 36,
    "start_time": "2022-03-24T06:04:15.914Z"
   },
   {
    "duration": 28,
    "start_time": "2022-03-24T06:04:15.953Z"
   },
   {
    "duration": 27,
    "start_time": "2022-03-24T06:04:15.983Z"
   },
   {
    "duration": 19,
    "start_time": "2022-03-24T06:04:16.012Z"
   },
   {
    "duration": 15,
    "start_time": "2022-03-24T06:04:16.033Z"
   },
   {
    "duration": 16,
    "start_time": "2022-03-24T06:04:16.050Z"
   },
   {
    "duration": 13,
    "start_time": "2022-03-24T06:04:16.068Z"
   },
   {
    "duration": 9,
    "start_time": "2022-03-24T06:04:16.083Z"
   },
   {
    "duration": 11,
    "start_time": "2022-03-24T06:04:16.094Z"
   },
   {
    "duration": 20,
    "start_time": "2022-03-24T06:04:16.107Z"
   },
   {
    "duration": 9,
    "start_time": "2022-03-24T06:04:16.129Z"
   },
   {
    "duration": 11,
    "start_time": "2022-03-24T06:04:16.140Z"
   },
   {
    "duration": 20,
    "start_time": "2022-03-24T06:04:16.153Z"
   },
   {
    "duration": 16,
    "start_time": "2022-03-24T06:04:16.175Z"
   },
   {
    "duration": 13,
    "start_time": "2022-03-24T06:04:16.193Z"
   },
   {
    "duration": 13,
    "start_time": "2022-03-24T06:04:16.207Z"
   },
   {
    "duration": 5,
    "start_time": "2022-03-24T06:04:16.223Z"
   },
   {
    "duration": 10,
    "start_time": "2022-03-24T06:04:16.230Z"
   },
   {
    "duration": 12,
    "start_time": "2022-03-24T06:04:16.241Z"
   },
   {
    "duration": 5,
    "start_time": "2022-03-24T06:04:16.255Z"
   },
   {
    "duration": 9,
    "start_time": "2022-03-24T06:04:16.262Z"
   },
   {
    "duration": 5,
    "start_time": "2022-03-24T06:04:16.273Z"
   },
   {
    "duration": 7,
    "start_time": "2022-03-24T06:04:16.280Z"
   },
   {
    "duration": 17,
    "start_time": "2022-03-24T06:04:16.288Z"
   },
   {
    "duration": 12,
    "start_time": "2022-03-24T06:04:16.306Z"
   },
   {
    "duration": 23,
    "start_time": "2022-03-24T06:04:16.319Z"
   },
   {
    "duration": 13,
    "start_time": "2022-03-24T06:04:16.344Z"
   },
   {
    "duration": 18,
    "start_time": "2022-03-24T06:04:16.358Z"
   },
   {
    "duration": 18,
    "start_time": "2022-03-24T06:04:16.378Z"
   },
   {
    "duration": 12,
    "start_time": "2022-03-24T06:04:16.398Z"
   },
   {
    "duration": 8,
    "start_time": "2022-03-24T06:04:16.412Z"
   },
   {
    "duration": 72,
    "start_time": "2022-03-24T06:05:05.876Z"
   },
   {
    "duration": 8,
    "start_time": "2022-03-24T06:05:47.665Z"
   },
   {
    "duration": 83,
    "start_time": "2022-03-24T06:06:37.757Z"
   },
   {
    "duration": 86,
    "start_time": "2022-03-24T06:07:08.040Z"
   },
   {
    "duration": 97,
    "start_time": "2022-03-24T06:07:19.973Z"
   },
   {
    "duration": 70,
    "start_time": "2022-03-24T06:07:25.059Z"
   },
   {
    "duration": 67,
    "start_time": "2022-03-24T06:07:28.793Z"
   },
   {
    "duration": 3,
    "start_time": "2022-03-24T06:07:34.098Z"
   },
   {
    "duration": 196,
    "start_time": "2022-03-24T06:07:34.102Z"
   },
   {
    "duration": 11,
    "start_time": "2022-03-24T06:07:34.300Z"
   },
   {
    "duration": 44,
    "start_time": "2022-03-24T06:07:34.313Z"
   },
   {
    "duration": 4,
    "start_time": "2022-03-24T06:07:34.359Z"
   },
   {
    "duration": 12,
    "start_time": "2022-03-24T06:07:34.365Z"
   },
   {
    "duration": 7,
    "start_time": "2022-03-24T06:07:34.378Z"
   },
   {
    "duration": 47,
    "start_time": "2022-03-24T06:07:34.387Z"
   },
   {
    "duration": 20,
    "start_time": "2022-03-24T06:07:34.436Z"
   },
   {
    "duration": 27,
    "start_time": "2022-03-24T06:07:34.458Z"
   },
   {
    "duration": 92,
    "start_time": "2022-03-24T06:07:34.489Z"
   },
   {
    "duration": 91,
    "start_time": "2022-03-24T06:07:34.583Z"
   },
   {
    "duration": 75,
    "start_time": "2022-03-24T06:07:34.676Z"
   },
   {
    "duration": 3,
    "start_time": "2022-03-24T06:07:34.752Z"
   },
   {
    "duration": 9,
    "start_time": "2022-03-24T06:07:34.757Z"
   },
   {
    "duration": 6,
    "start_time": "2022-03-24T06:07:34.767Z"
   },
   {
    "duration": 7,
    "start_time": "2022-03-24T06:07:34.774Z"
   },
   {
    "duration": 7,
    "start_time": "2022-03-24T06:07:34.783Z"
   },
   {
    "duration": 7,
    "start_time": "2022-03-24T06:07:34.792Z"
   },
   {
    "duration": 5,
    "start_time": "2022-03-24T06:07:34.801Z"
   },
   {
    "duration": 5,
    "start_time": "2022-03-24T06:07:34.808Z"
   },
   {
    "duration": 17,
    "start_time": "2022-03-24T06:07:34.815Z"
   },
   {
    "duration": 5,
    "start_time": "2022-03-24T06:07:34.834Z"
   },
   {
    "duration": 5,
    "start_time": "2022-03-24T06:07:34.840Z"
   },
   {
    "duration": 10,
    "start_time": "2022-03-24T06:07:34.847Z"
   },
   {
    "duration": 10,
    "start_time": "2022-03-24T06:07:34.859Z"
   },
   {
    "duration": 4,
    "start_time": "2022-03-24T06:07:34.871Z"
   },
   {
    "duration": 6,
    "start_time": "2022-03-24T06:07:34.877Z"
   },
   {
    "duration": 9,
    "start_time": "2022-03-24T06:07:34.887Z"
   },
   {
    "duration": 10,
    "start_time": "2022-03-24T06:07:34.898Z"
   },
   {
    "duration": 8,
    "start_time": "2022-03-24T06:07:34.909Z"
   },
   {
    "duration": 5,
    "start_time": "2022-03-24T06:07:34.919Z"
   },
   {
    "duration": 3,
    "start_time": "2022-03-24T06:07:34.932Z"
   },
   {
    "duration": 5,
    "start_time": "2022-03-24T06:07:34.936Z"
   },
   {
    "duration": 8,
    "start_time": "2022-03-24T06:07:34.943Z"
   },
   {
    "duration": 5,
    "start_time": "2022-03-24T06:07:34.952Z"
   },
   {
    "duration": 6,
    "start_time": "2022-03-24T06:07:34.959Z"
   },
   {
    "duration": 5,
    "start_time": "2022-03-24T06:07:34.966Z"
   },
   {
    "duration": 62,
    "start_time": "2022-03-24T06:07:39.870Z"
   },
   {
    "duration": 3,
    "start_time": "2022-03-24T06:08:12.980Z"
   },
   {
    "duration": 204,
    "start_time": "2022-03-24T06:08:12.985Z"
   },
   {
    "duration": 12,
    "start_time": "2022-03-24T06:08:13.192Z"
   },
   {
    "duration": 50,
    "start_time": "2022-03-24T06:08:13.206Z"
   },
   {
    "duration": 20,
    "start_time": "2022-03-24T06:08:13.259Z"
   },
   {
    "duration": 45,
    "start_time": "2022-03-24T06:08:13.281Z"
   },
   {
    "duration": 29,
    "start_time": "2022-03-24T06:08:13.328Z"
   },
   {
    "duration": 57,
    "start_time": "2022-03-24T06:08:13.359Z"
   },
   {
    "duration": 34,
    "start_time": "2022-03-24T06:08:13.418Z"
   },
   {
    "duration": 46,
    "start_time": "2022-03-24T06:08:13.454Z"
   },
   {
    "duration": 84,
    "start_time": "2022-03-24T06:08:13.502Z"
   },
   {
    "duration": 62,
    "start_time": "2022-03-24T06:08:21.242Z"
   },
   {
    "duration": 62,
    "start_time": "2022-03-24T06:08:25.893Z"
   },
   {
    "duration": 64,
    "start_time": "2022-03-24T06:08:28.033Z"
   },
   {
    "duration": 60,
    "start_time": "2022-03-24T06:10:56.091Z"
   },
   {
    "duration": 76,
    "start_time": "2022-03-24T06:11:15.476Z"
   },
   {
    "duration": 62,
    "start_time": "2022-03-24T06:11:19.059Z"
   },
   {
    "duration": 8,
    "start_time": "2022-03-24T06:12:18.927Z"
   },
   {
    "duration": 10,
    "start_time": "2022-03-24T06:12:36.216Z"
   },
   {
    "duration": 9,
    "start_time": "2022-03-24T06:12:53.557Z"
   },
   {
    "duration": 50,
    "start_time": "2022-03-24T06:14:33.193Z"
   },
   {
    "duration": 43,
    "start_time": "2022-03-24T06:16:31.964Z"
   },
   {
    "duration": 4,
    "start_time": "2022-03-24T06:21:01.553Z"
   },
   {
    "duration": 12,
    "start_time": "2022-03-24T06:22:32.148Z"
   },
   {
    "duration": 44,
    "start_time": "2022-03-24T06:22:51.696Z"
   },
   {
    "duration": 43,
    "start_time": "2022-03-24T06:24:09.068Z"
   },
   {
    "duration": 18,
    "start_time": "2022-03-24T06:26:20.922Z"
   },
   {
    "duration": 42,
    "start_time": "2022-03-24T06:26:28.478Z"
   },
   {
    "duration": 10,
    "start_time": "2022-03-24T06:39:03.216Z"
   },
   {
    "duration": 13,
    "start_time": "2022-03-24T06:39:11.630Z"
   },
   {
    "duration": 13,
    "start_time": "2022-03-24T06:40:50.868Z"
   },
   {
    "duration": 4,
    "start_time": "2022-03-24T06:45:57.240Z"
   },
   {
    "duration": 4,
    "start_time": "2022-03-24T06:46:00.020Z"
   },
   {
    "duration": 6,
    "start_time": "2022-03-24T06:47:01.785Z"
   },
   {
    "duration": 13,
    "start_time": "2022-03-24T06:47:57.484Z"
   },
   {
    "duration": 12,
    "start_time": "2022-03-24T06:49:19.109Z"
   },
   {
    "duration": 13,
    "start_time": "2022-03-24T06:49:20.949Z"
   },
   {
    "duration": 11,
    "start_time": "2022-03-24T06:49:22.714Z"
   },
   {
    "duration": 11,
    "start_time": "2022-03-24T06:49:24.260Z"
   },
   {
    "duration": 12,
    "start_time": "2022-03-24T06:49:26.026Z"
   },
   {
    "duration": 2,
    "start_time": "2022-03-24T06:49:31.265Z"
   },
   {
    "duration": 190,
    "start_time": "2022-03-24T06:49:31.270Z"
   },
   {
    "duration": 11,
    "start_time": "2022-03-24T06:49:31.463Z"
   },
   {
    "duration": 41,
    "start_time": "2022-03-24T06:49:31.475Z"
   },
   {
    "duration": 15,
    "start_time": "2022-03-24T06:49:31.518Z"
   },
   {
    "duration": 18,
    "start_time": "2022-03-24T06:49:31.534Z"
   },
   {
    "duration": 4,
    "start_time": "2022-03-24T06:49:31.554Z"
   },
   {
    "duration": 29,
    "start_time": "2022-03-24T06:49:31.560Z"
   },
   {
    "duration": 23,
    "start_time": "2022-03-24T06:49:31.591Z"
   },
   {
    "duration": 37,
    "start_time": "2022-03-24T06:49:31.616Z"
   },
   {
    "duration": 88,
    "start_time": "2022-03-24T06:49:31.656Z"
   },
   {
    "duration": 93,
    "start_time": "2022-03-24T06:49:31.746Z"
   },
   {
    "duration": 64,
    "start_time": "2022-03-24T06:49:31.842Z"
   },
   {
    "duration": 51,
    "start_time": "2022-03-24T06:49:31.908Z"
   },
   {
    "duration": 7,
    "start_time": "2022-03-24T06:49:31.960Z"
   },
   {
    "duration": 21,
    "start_time": "2022-03-24T06:49:31.969Z"
   },
   {
    "duration": 60,
    "start_time": "2022-03-24T06:49:31.992Z"
   },
   {
    "duration": 14,
    "start_time": "2022-03-24T06:49:32.053Z"
   },
   {
    "duration": 14,
    "start_time": "2022-03-24T06:49:32.069Z"
   },
   {
    "duration": 8,
    "start_time": "2022-03-24T06:49:32.085Z"
   },
   {
    "duration": 39,
    "start_time": "2022-03-24T06:49:32.095Z"
   },
   {
    "duration": 19,
    "start_time": "2022-03-24T06:49:32.136Z"
   },
   {
    "duration": 32,
    "start_time": "2022-03-24T06:49:32.157Z"
   },
   {
    "duration": 25,
    "start_time": "2022-03-24T06:49:32.191Z"
   },
   {
    "duration": 38,
    "start_time": "2022-03-24T06:49:32.218Z"
   },
   {
    "duration": 22,
    "start_time": "2022-03-24T06:49:32.258Z"
   },
   {
    "duration": 10,
    "start_time": "2022-03-24T06:49:32.282Z"
   },
   {
    "duration": 16,
    "start_time": "2022-03-24T06:49:32.294Z"
   },
   {
    "duration": 6,
    "start_time": "2022-03-24T06:49:32.313Z"
   },
   {
    "duration": 7,
    "start_time": "2022-03-24T06:49:32.321Z"
   },
   {
    "duration": 18,
    "start_time": "2022-03-24T06:49:32.330Z"
   },
   {
    "duration": 17,
    "start_time": "2022-03-24T06:49:32.349Z"
   },
   {
    "duration": 12,
    "start_time": "2022-03-24T06:49:32.368Z"
   },
   {
    "duration": 9,
    "start_time": "2022-03-24T06:49:32.382Z"
   },
   {
    "duration": 6,
    "start_time": "2022-03-24T06:49:32.393Z"
   },
   {
    "duration": 6,
    "start_time": "2022-03-24T06:49:32.401Z"
   },
   {
    "duration": 7,
    "start_time": "2022-03-24T06:49:32.409Z"
   },
   {
    "duration": 11,
    "start_time": "2022-03-24T06:49:32.418Z"
   },
   {
    "duration": 24,
    "start_time": "2022-03-24T06:50:28.628Z"
   },
   {
    "duration": 21,
    "start_time": "2022-03-24T06:50:30.706Z"
   },
   {
    "duration": 24,
    "start_time": "2022-03-24T06:50:32.552Z"
   },
   {
    "duration": 12,
    "start_time": "2022-03-24T06:50:37.487Z"
   },
   {
    "duration": 21,
    "start_time": "2022-03-24T06:50:47.161Z"
   },
   {
    "duration": 22,
    "start_time": "2022-03-24T06:51:02.663Z"
   },
   {
    "duration": 21,
    "start_time": "2022-03-24T06:51:11.579Z"
   },
   {
    "duration": 3,
    "start_time": "2022-03-24T06:52:10.027Z"
   },
   {
    "duration": 165,
    "start_time": "2022-03-24T06:52:10.057Z"
   },
   {
    "duration": 16,
    "start_time": "2022-03-24T06:52:10.224Z"
   },
   {
    "duration": 36,
    "start_time": "2022-03-24T06:52:10.242Z"
   },
   {
    "duration": 4,
    "start_time": "2022-03-24T06:52:10.279Z"
   },
   {
    "duration": 12,
    "start_time": "2022-03-24T06:52:10.286Z"
   },
   {
    "duration": 7,
    "start_time": "2022-03-24T06:52:10.300Z"
   },
   {
    "duration": 55,
    "start_time": "2022-03-24T06:52:10.308Z"
   },
   {
    "duration": 23,
    "start_time": "2022-03-24T06:52:10.365Z"
   },
   {
    "duration": 43,
    "start_time": "2022-03-24T06:52:10.389Z"
   },
   {
    "duration": 65,
    "start_time": "2022-03-24T06:52:10.434Z"
   },
   {
    "duration": 89,
    "start_time": "2022-03-24T06:52:10.501Z"
   },
   {
    "duration": 68,
    "start_time": "2022-03-24T06:52:10.592Z"
   },
   {
    "duration": 42,
    "start_time": "2022-03-24T06:52:10.662Z"
   },
   {
    "duration": 3,
    "start_time": "2022-03-24T06:52:10.707Z"
   },
   {
    "duration": 44,
    "start_time": "2022-03-24T06:52:10.711Z"
   },
   {
    "duration": 42,
    "start_time": "2022-03-24T06:52:10.756Z"
   },
   {
    "duration": 12,
    "start_time": "2022-03-24T06:52:10.800Z"
   },
   {
    "duration": 27,
    "start_time": "2022-03-24T06:52:10.814Z"
   },
   {
    "duration": 8,
    "start_time": "2022-03-24T06:52:10.843Z"
   },
   {
    "duration": 30,
    "start_time": "2022-03-24T06:52:10.853Z"
   },
   {
    "duration": 22,
    "start_time": "2022-03-24T06:52:10.885Z"
   },
   {
    "duration": 44,
    "start_time": "2022-03-24T06:52:10.908Z"
   },
   {
    "duration": 21,
    "start_time": "2022-03-24T06:52:10.954Z"
   },
   {
    "duration": 22,
    "start_time": "2022-03-24T06:52:10.976Z"
   },
   {
    "duration": 52,
    "start_time": "2022-03-24T06:52:10.999Z"
   },
   {
    "duration": 3,
    "start_time": "2022-03-24T06:52:11.053Z"
   },
   {
    "duration": 6,
    "start_time": "2022-03-24T06:52:11.058Z"
   },
   {
    "duration": 6,
    "start_time": "2022-03-24T06:52:11.066Z"
   },
   {
    "duration": 14,
    "start_time": "2022-03-24T06:52:11.074Z"
   },
   {
    "duration": 9,
    "start_time": "2022-03-24T06:52:11.090Z"
   },
   {
    "duration": 7,
    "start_time": "2022-03-24T06:52:11.101Z"
   },
   {
    "duration": 21,
    "start_time": "2022-03-24T06:52:11.111Z"
   },
   {
    "duration": 7,
    "start_time": "2022-03-24T06:52:11.134Z"
   },
   {
    "duration": 7,
    "start_time": "2022-03-24T06:52:11.143Z"
   },
   {
    "duration": 8,
    "start_time": "2022-03-24T06:52:11.152Z"
   },
   {
    "duration": 7,
    "start_time": "2022-03-24T06:52:11.161Z"
   },
   {
    "duration": 8,
    "start_time": "2022-03-24T06:52:11.170Z"
   },
   {
    "duration": 26,
    "start_time": "2022-03-24T06:52:38.129Z"
   },
   {
    "duration": 4,
    "start_time": "2022-03-24T06:55:49.587Z"
   },
   {
    "duration": 3,
    "start_time": "2022-03-24T06:55:53.636Z"
   },
   {
    "duration": 25,
    "start_time": "2022-03-24T06:55:55.541Z"
   },
   {
    "duration": 23,
    "start_time": "2022-03-24T06:55:57.232Z"
   },
   {
    "duration": 2,
    "start_time": "2022-03-24T06:57:49.937Z"
   },
   {
    "duration": 198,
    "start_time": "2022-03-24T06:57:49.943Z"
   },
   {
    "duration": 11,
    "start_time": "2022-03-24T06:57:50.143Z"
   },
   {
    "duration": 40,
    "start_time": "2022-03-24T06:57:50.155Z"
   },
   {
    "duration": 4,
    "start_time": "2022-03-24T06:57:50.197Z"
   },
   {
    "duration": 8,
    "start_time": "2022-03-24T06:57:50.203Z"
   },
   {
    "duration": 4,
    "start_time": "2022-03-24T06:57:50.233Z"
   },
   {
    "duration": 33,
    "start_time": "2022-03-24T06:57:50.238Z"
   },
   {
    "duration": 20,
    "start_time": "2022-03-24T06:57:50.273Z"
   },
   {
    "duration": 43,
    "start_time": "2022-03-24T06:57:50.295Z"
   },
   {
    "duration": 71,
    "start_time": "2022-03-24T06:57:50.340Z"
   },
   {
    "duration": 94,
    "start_time": "2022-03-24T06:57:50.412Z"
   },
   {
    "duration": 73,
    "start_time": "2022-03-24T06:57:50.508Z"
   },
   {
    "duration": 51,
    "start_time": "2022-03-24T06:57:50.582Z"
   },
   {
    "duration": 4,
    "start_time": "2022-03-24T06:57:50.637Z"
   },
   {
    "duration": 24,
    "start_time": "2022-03-24T06:57:50.642Z"
   },
   {
    "duration": 43,
    "start_time": "2022-03-24T06:57:50.668Z"
   },
   {
    "duration": 31,
    "start_time": "2022-03-24T06:57:50.713Z"
   },
   {
    "duration": 14,
    "start_time": "2022-03-24T06:57:50.746Z"
   },
   {
    "duration": 4,
    "start_time": "2022-03-24T06:57:50.763Z"
   },
   {
    "duration": 30,
    "start_time": "2022-03-24T06:57:50.769Z"
   },
   {
    "duration": 53,
    "start_time": "2022-03-24T06:57:50.800Z"
   },
   {
    "duration": 24,
    "start_time": "2022-03-24T06:57:50.854Z"
   },
   {
    "duration": 20,
    "start_time": "2022-03-24T06:57:50.880Z"
   },
   {
    "duration": 50,
    "start_time": "2022-03-24T06:57:50.902Z"
   },
   {
    "duration": 23,
    "start_time": "2022-03-24T06:57:50.954Z"
   },
   {
    "duration": 3,
    "start_time": "2022-03-24T06:57:50.978Z"
   },
   {
    "duration": 10,
    "start_time": "2022-03-24T06:57:50.982Z"
   },
   {
    "duration": 5,
    "start_time": "2022-03-24T06:57:50.994Z"
   },
   {
    "duration": 33,
    "start_time": "2022-03-24T06:57:51.001Z"
   },
   {
    "duration": 9,
    "start_time": "2022-03-24T06:57:51.036Z"
   },
   {
    "duration": 7,
    "start_time": "2022-03-24T06:57:51.047Z"
   },
   {
    "duration": 9,
    "start_time": "2022-03-24T06:57:51.055Z"
   },
   {
    "duration": 6,
    "start_time": "2022-03-24T06:57:51.066Z"
   },
   {
    "duration": 8,
    "start_time": "2022-03-24T06:57:51.073Z"
   },
   {
    "duration": 10,
    "start_time": "2022-03-24T06:57:51.083Z"
   },
   {
    "duration": 6,
    "start_time": "2022-03-24T06:57:51.095Z"
   },
   {
    "duration": 6,
    "start_time": "2022-03-24T06:57:51.102Z"
   },
   {
    "duration": 25,
    "start_time": "2022-03-24T07:16:49.817Z"
   },
   {
    "duration": 22,
    "start_time": "2022-03-24T07:16:51.536Z"
   },
   {
    "duration": 24,
    "start_time": "2022-03-24T07:16:53.341Z"
   },
   {
    "duration": 4,
    "start_time": "2022-03-24T07:17:22.550Z"
   },
   {
    "duration": 24,
    "start_time": "2022-03-24T07:17:25.592Z"
   },
   {
    "duration": 21,
    "start_time": "2022-03-24T07:17:28.114Z"
   },
   {
    "duration": 24,
    "start_time": "2022-03-24T07:17:30.085Z"
   },
   {
    "duration": 20,
    "start_time": "2022-03-24T07:17:32.272Z"
   },
   {
    "duration": 2,
    "start_time": "2022-03-24T07:17:35.473Z"
   },
   {
    "duration": 205,
    "start_time": "2022-03-24T07:17:35.477Z"
   },
   {
    "duration": 11,
    "start_time": "2022-03-24T07:17:35.684Z"
   },
   {
    "duration": 65,
    "start_time": "2022-03-24T07:17:35.697Z"
   },
   {
    "duration": 7,
    "start_time": "2022-03-24T07:17:35.765Z"
   },
   {
    "duration": 23,
    "start_time": "2022-03-24T07:17:35.774Z"
   },
   {
    "duration": 24,
    "start_time": "2022-03-24T07:17:35.799Z"
   },
   {
    "duration": 42,
    "start_time": "2022-03-24T07:17:35.825Z"
   },
   {
    "duration": 48,
    "start_time": "2022-03-24T07:17:35.869Z"
   },
   {
    "duration": 48,
    "start_time": "2022-03-24T07:17:35.919Z"
   },
   {
    "duration": 98,
    "start_time": "2022-03-24T07:17:35.971Z"
   },
   {
    "duration": 87,
    "start_time": "2022-03-24T07:17:36.072Z"
   },
   {
    "duration": 62,
    "start_time": "2022-03-24T07:17:36.161Z"
   },
   {
    "duration": 43,
    "start_time": "2022-03-24T07:17:36.233Z"
   },
   {
    "duration": 3,
    "start_time": "2022-03-24T07:17:36.279Z"
   },
   {
    "duration": 45,
    "start_time": "2022-03-24T07:17:36.284Z"
   },
   {
    "duration": 51,
    "start_time": "2022-03-24T07:17:36.331Z"
   },
   {
    "duration": 13,
    "start_time": "2022-03-24T07:17:36.384Z"
   },
   {
    "duration": 29,
    "start_time": "2022-03-24T07:17:36.399Z"
   },
   {
    "duration": 14,
    "start_time": "2022-03-24T07:17:36.432Z"
   },
   {
    "duration": 55,
    "start_time": "2022-03-24T07:17:36.447Z"
   },
   {
    "duration": 37,
    "start_time": "2022-03-24T07:17:36.504Z"
   },
   {
    "duration": 45,
    "start_time": "2022-03-24T07:17:36.543Z"
   },
   {
    "duration": 35,
    "start_time": "2022-03-24T07:17:36.590Z"
   },
   {
    "duration": 51,
    "start_time": "2022-03-24T07:17:36.627Z"
   },
   {
    "duration": 33,
    "start_time": "2022-03-24T07:17:36.680Z"
   },
   {
    "duration": 3,
    "start_time": "2022-03-24T07:17:36.715Z"
   },
   {
    "duration": 11,
    "start_time": "2022-03-24T07:17:36.720Z"
   },
   {
    "duration": 5,
    "start_time": "2022-03-24T07:17:36.735Z"
   },
   {
    "duration": 14,
    "start_time": "2022-03-24T07:17:36.742Z"
   },
   {
    "duration": 21,
    "start_time": "2022-03-24T07:17:36.758Z"
   },
   {
    "duration": 7,
    "start_time": "2022-03-24T07:17:36.781Z"
   },
   {
    "duration": 9,
    "start_time": "2022-03-24T07:17:36.790Z"
   },
   {
    "duration": 7,
    "start_time": "2022-03-24T07:17:36.801Z"
   },
   {
    "duration": 5,
    "start_time": "2022-03-24T07:17:36.810Z"
   },
   {
    "duration": 8,
    "start_time": "2022-03-24T07:17:36.817Z"
   },
   {
    "duration": 7,
    "start_time": "2022-03-24T07:17:36.827Z"
   },
   {
    "duration": 4,
    "start_time": "2022-03-24T07:17:36.836Z"
   },
   {
    "duration": 2,
    "start_time": "2022-03-24T07:18:30.489Z"
   },
   {
    "duration": 180,
    "start_time": "2022-03-24T07:18:30.494Z"
   },
   {
    "duration": 12,
    "start_time": "2022-03-24T07:18:30.676Z"
   },
   {
    "duration": 51,
    "start_time": "2022-03-24T07:18:30.690Z"
   },
   {
    "duration": 5,
    "start_time": "2022-03-24T07:18:30.744Z"
   },
   {
    "duration": 15,
    "start_time": "2022-03-24T07:18:30.751Z"
   },
   {
    "duration": 9,
    "start_time": "2022-03-24T07:18:30.768Z"
   },
   {
    "duration": 34,
    "start_time": "2022-03-24T07:18:30.779Z"
   },
   {
    "duration": 21,
    "start_time": "2022-03-24T07:18:30.832Z"
   },
   {
    "duration": 32,
    "start_time": "2022-03-24T07:18:30.855Z"
   },
   {
    "duration": 89,
    "start_time": "2022-03-24T07:18:30.891Z"
   },
   {
    "duration": 95,
    "start_time": "2022-03-24T07:18:30.982Z"
   },
   {
    "duration": 73,
    "start_time": "2022-03-24T07:18:31.079Z"
   },
   {
    "duration": 45,
    "start_time": "2022-03-24T07:18:31.155Z"
   },
   {
    "duration": 4,
    "start_time": "2022-03-24T07:18:31.203Z"
   },
   {
    "duration": 18,
    "start_time": "2022-03-24T07:18:31.233Z"
   },
   {
    "duration": 43,
    "start_time": "2022-03-24T07:18:31.253Z"
   },
   {
    "duration": 34,
    "start_time": "2022-03-24T07:18:31.298Z"
   },
   {
    "duration": 13,
    "start_time": "2022-03-24T07:18:31.334Z"
   },
   {
    "duration": 4,
    "start_time": "2022-03-24T07:18:31.349Z"
   },
   {
    "duration": 27,
    "start_time": "2022-03-24T07:18:31.355Z"
   },
   {
    "duration": 18,
    "start_time": "2022-03-24T07:18:31.385Z"
   },
   {
    "duration": 18,
    "start_time": "2022-03-24T07:18:31.431Z"
   },
   {
    "duration": 16,
    "start_time": "2022-03-24T07:18:31.452Z"
   },
   {
    "duration": 21,
    "start_time": "2022-03-24T07:18:31.470Z"
   },
   {
    "duration": 47,
    "start_time": "2022-03-24T07:18:31.492Z"
   },
   {
    "duration": 2,
    "start_time": "2022-03-24T07:18:31.541Z"
   },
   {
    "duration": 5,
    "start_time": "2022-03-24T07:18:31.545Z"
   },
   {
    "duration": 6,
    "start_time": "2022-03-24T07:18:31.553Z"
   },
   {
    "duration": 9,
    "start_time": "2022-03-24T07:18:31.560Z"
   },
   {
    "duration": 12,
    "start_time": "2022-03-24T07:18:31.571Z"
   },
   {
    "duration": 8,
    "start_time": "2022-03-24T07:18:31.585Z"
   },
   {
    "duration": 9,
    "start_time": "2022-03-24T07:18:31.595Z"
   },
   {
    "duration": 8,
    "start_time": "2022-03-24T07:18:31.606Z"
   },
   {
    "duration": 11,
    "start_time": "2022-03-24T07:18:31.616Z"
   },
   {
    "duration": 4,
    "start_time": "2022-03-24T07:18:31.632Z"
   },
   {
    "duration": 7,
    "start_time": "2022-03-24T07:18:31.637Z"
   },
   {
    "duration": 6,
    "start_time": "2022-03-24T07:18:31.646Z"
   },
   {
    "duration": 12,
    "start_time": "2022-03-24T07:19:35.385Z"
   },
   {
    "duration": 9,
    "start_time": "2022-03-24T07:23:34.025Z"
   },
   {
    "duration": 13,
    "start_time": "2022-03-24T07:24:00.891Z"
   },
   {
    "duration": 10,
    "start_time": "2022-03-24T07:25:57.564Z"
   },
   {
    "duration": 11,
    "start_time": "2022-03-24T07:29:34.737Z"
   },
   {
    "duration": 10,
    "start_time": "2022-03-24T07:29:36.581Z"
   },
   {
    "duration": 4,
    "start_time": "2022-03-24T07:39:44.264Z"
   },
   {
    "duration": 20,
    "start_time": "2022-03-24T07:41:06.359Z"
   },
   {
    "duration": 15,
    "start_time": "2022-03-24T07:42:46.215Z"
   },
   {
    "duration": 18,
    "start_time": "2022-03-24T07:43:30.960Z"
   },
   {
    "duration": 15,
    "start_time": "2022-03-24T07:43:33.347Z"
   },
   {
    "duration": 7,
    "start_time": "2022-03-24T07:46:48.325Z"
   },
   {
    "duration": 11,
    "start_time": "2022-03-24T07:47:42.919Z"
   },
   {
    "duration": 7,
    "start_time": "2022-03-24T07:48:13.196Z"
   },
   {
    "duration": 9,
    "start_time": "2022-03-24T07:48:32.426Z"
   },
   {
    "duration": 10,
    "start_time": "2022-03-24T07:48:35.279Z"
   },
   {
    "duration": 9,
    "start_time": "2022-03-24T07:48:36.950Z"
   },
   {
    "duration": 5,
    "start_time": "2022-03-24T07:48:41.826Z"
   },
   {
    "duration": 16,
    "start_time": "2022-03-24T07:49:59.120Z"
   },
   {
    "duration": 10,
    "start_time": "2022-03-24T07:51:00.435Z"
   },
   {
    "duration": 5,
    "start_time": "2022-03-24T07:51:06.039Z"
   },
   {
    "duration": 8,
    "start_time": "2022-03-24T07:51:32.450Z"
   },
   {
    "duration": 7,
    "start_time": "2022-03-24T07:51:37.868Z"
   },
   {
    "duration": 5,
    "start_time": "2022-03-24T07:51:39.625Z"
   },
   {
    "duration": 3,
    "start_time": "2022-03-24T07:53:45.425Z"
   },
   {
    "duration": 179,
    "start_time": "2022-03-24T07:53:45.430Z"
   },
   {
    "duration": 11,
    "start_time": "2022-03-24T07:53:45.611Z"
   },
   {
    "duration": 54,
    "start_time": "2022-03-24T07:53:45.632Z"
   },
   {
    "duration": 25,
    "start_time": "2022-03-24T07:53:45.689Z"
   },
   {
    "duration": 19,
    "start_time": "2022-03-24T07:53:45.716Z"
   },
   {
    "duration": 31,
    "start_time": "2022-03-24T07:53:45.736Z"
   },
   {
    "duration": 50,
    "start_time": "2022-03-24T07:53:45.768Z"
   },
   {
    "duration": 33,
    "start_time": "2022-03-24T07:53:45.820Z"
   },
   {
    "duration": 40,
    "start_time": "2022-03-24T07:53:45.855Z"
   },
   {
    "duration": 86,
    "start_time": "2022-03-24T07:53:45.897Z"
   },
   {
    "duration": 79,
    "start_time": "2022-03-24T07:53:45.985Z"
   },
   {
    "duration": 73,
    "start_time": "2022-03-24T07:53:46.066Z"
   },
   {
    "duration": 46,
    "start_time": "2022-03-24T07:53:46.141Z"
   },
   {
    "duration": 4,
    "start_time": "2022-03-24T07:53:46.189Z"
   },
   {
    "duration": 41,
    "start_time": "2022-03-24T07:53:46.194Z"
   },
   {
    "duration": 44,
    "start_time": "2022-03-24T07:53:46.237Z"
   },
   {
    "duration": 15,
    "start_time": "2022-03-24T07:53:46.283Z"
   },
   {
    "duration": 49,
    "start_time": "2022-03-24T07:53:46.300Z"
   },
   {
    "duration": 9,
    "start_time": "2022-03-24T07:53:46.351Z"
   },
   {
    "duration": 49,
    "start_time": "2022-03-24T07:53:46.362Z"
   },
   {
    "duration": 40,
    "start_time": "2022-03-24T07:53:46.413Z"
   },
   {
    "duration": 20,
    "start_time": "2022-03-24T07:53:46.454Z"
   },
   {
    "duration": 32,
    "start_time": "2022-03-24T07:53:46.476Z"
   },
   {
    "duration": 37,
    "start_time": "2022-03-24T07:53:46.509Z"
   },
   {
    "duration": 20,
    "start_time": "2022-03-24T07:53:46.547Z"
   },
   {
    "duration": 19,
    "start_time": "2022-03-24T07:53:46.569Z"
   },
   {
    "duration": 25,
    "start_time": "2022-03-24T07:53:46.590Z"
   },
   {
    "duration": 28,
    "start_time": "2022-03-24T07:53:46.618Z"
   },
   {
    "duration": 25,
    "start_time": "2022-03-24T07:53:46.648Z"
   },
   {
    "duration": 44,
    "start_time": "2022-03-24T07:53:46.674Z"
   },
   {
    "duration": 43,
    "start_time": "2022-03-24T07:53:46.719Z"
   },
   {
    "duration": 36,
    "start_time": "2022-03-24T07:53:46.764Z"
   },
   {
    "duration": 32,
    "start_time": "2022-03-24T07:53:46.802Z"
   },
   {
    "duration": 23,
    "start_time": "2022-03-24T07:53:46.836Z"
   },
   {
    "duration": 17,
    "start_time": "2022-03-24T07:53:46.861Z"
   },
   {
    "duration": 35,
    "start_time": "2022-03-24T07:53:46.880Z"
   },
   {
    "duration": 19,
    "start_time": "2022-03-24T07:53:46.917Z"
   },
   {
    "duration": 537,
    "start_time": "2022-03-25T19:21:02.645Z"
   },
   {
    "duration": 279,
    "start_time": "2022-03-25T19:21:03.188Z"
   },
   {
    "duration": 41,
    "start_time": "2022-03-25T19:21:03.471Z"
   },
   {
    "duration": 56,
    "start_time": "2022-03-25T19:21:03.515Z"
   },
   {
    "duration": 7,
    "start_time": "2022-03-25T19:21:03.576Z"
   },
   {
    "duration": 16,
    "start_time": "2022-03-25T19:21:03.586Z"
   },
   {
    "duration": 8,
    "start_time": "2022-03-25T19:21:03.604Z"
   },
   {
    "duration": 78,
    "start_time": "2022-03-25T19:21:03.615Z"
   },
   {
    "duration": 25,
    "start_time": "2022-03-25T19:21:03.696Z"
   },
   {
    "duration": 52,
    "start_time": "2022-03-25T19:21:03.725Z"
   },
   {
    "duration": 105,
    "start_time": "2022-03-25T19:21:03.779Z"
   },
   {
    "duration": 120,
    "start_time": "2022-03-25T19:21:03.887Z"
   },
   {
    "duration": 98,
    "start_time": "2022-03-25T19:21:04.010Z"
   },
   {
    "duration": 70,
    "start_time": "2022-03-25T19:21:04.110Z"
   },
   {
    "duration": 3,
    "start_time": "2022-03-25T19:21:04.183Z"
   },
   {
    "duration": 25,
    "start_time": "2022-03-25T19:21:04.190Z"
   },
   {
    "duration": 86,
    "start_time": "2022-03-25T19:21:04.217Z"
   },
   {
    "duration": 17,
    "start_time": "2022-03-25T19:21:04.306Z"
   },
   {
    "duration": 17,
    "start_time": "2022-03-25T19:21:04.325Z"
   },
   {
    "duration": 27,
    "start_time": "2022-03-25T19:21:04.344Z"
   },
   {
    "duration": 33,
    "start_time": "2022-03-25T19:21:04.374Z"
   },
   {
    "duration": 22,
    "start_time": "2022-03-25T19:21:04.409Z"
   },
   {
    "duration": 51,
    "start_time": "2022-03-25T19:21:04.433Z"
   },
   {
    "duration": 19,
    "start_time": "2022-03-25T19:21:04.487Z"
   },
   {
    "duration": 19,
    "start_time": "2022-03-25T19:21:04.508Z"
   },
   {
    "duration": 53,
    "start_time": "2022-03-25T19:21:04.530Z"
   },
   {
    "duration": 12,
    "start_time": "2022-03-25T19:21:04.585Z"
   },
   {
    "duration": 14,
    "start_time": "2022-03-25T19:21:04.602Z"
   },
   {
    "duration": 12,
    "start_time": "2022-03-25T19:21:04.619Z"
   },
   {
    "duration": 44,
    "start_time": "2022-03-25T19:21:04.633Z"
   },
   {
    "duration": 35,
    "start_time": "2022-03-25T19:21:04.679Z"
   },
   {
    "duration": 15,
    "start_time": "2022-03-25T19:21:04.716Z"
   },
   {
    "duration": 46,
    "start_time": "2022-03-25T19:21:04.734Z"
   },
   {
    "duration": 15,
    "start_time": "2022-03-25T19:21:04.783Z"
   },
   {
    "duration": 12,
    "start_time": "2022-03-25T19:21:04.800Z"
   },
   {
    "duration": 5,
    "start_time": "2022-03-25T19:21:04.814Z"
   },
   {
    "duration": 8,
    "start_time": "2022-03-25T19:21:04.822Z"
   },
   {
    "duration": 11,
    "start_time": "2022-03-25T19:21:04.869Z"
   }
  ],
  "colab": {
   "collapsed_sections": [
    "E0vqbgi9ay0H",
    "VUC88oWjTJw2"
   ],
   "name": "yandex_music_project.ipynb",
   "provenance": []
  },
  "kernelspec": {
   "display_name": "Python 3 (ipykernel)",
   "language": "python",
   "name": "python3"
  },
  "language_info": {
   "codemirror_mode": {
    "name": "ipython",
    "version": 3
   },
   "file_extension": ".py",
   "mimetype": "text/x-python",
   "name": "python",
   "nbconvert_exporter": "python",
   "pygments_lexer": "ipython3",
   "version": "3.9.12"
  },
  "toc": {
   "base_numbering": 1,
   "nav_menu": {},
   "number_sections": true,
   "sideBar": true,
   "skip_h1_title": true,
   "title_cell": "Table of Contents",
   "title_sidebar": "Contents",
   "toc_cell": false,
   "toc_position": {
    "height": "calc(100% - 180px)",
    "left": "10px",
    "top": "150px",
    "width": "164.988px"
   },
   "toc_section_display": true,
   "toc_window_display": true
  }
 },
 "nbformat": 4,
 "nbformat_minor": 1
}
