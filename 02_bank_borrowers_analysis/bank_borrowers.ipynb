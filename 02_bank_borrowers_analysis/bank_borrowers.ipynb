{
 "cells": [
  {
   "cell_type": "markdown",
   "id": "0c23359b",
   "metadata": {},
   "source": [
    "# Исследование надежности заемщиков."
   ]
  },
  {
   "cell_type": "markdown",
   "id": "b5881457",
   "metadata": {},
   "source": [
    "Заказчик — кредитный отдел банка. Нужно разобраться, влияет ли семейное положение и количество детей клиента на факт погашения кредита в срок. Входные данные от банка — статистика о платёжеспособности клиентов.\n",
    "Результаты исследования будут учтены при построении модели кредитного скоринга — специальной системы, которая оценивает способность потенциального заёмщика вернуть кредит банку.\n"
   ]
  },
  {
   "cell_type": "markdown",
   "id": "be6ff11d",
   "metadata": {},
   "source": [
    "### Шаг 1. Обзор данных"
   ]
  },
  {
   "cell_type": "code",
   "execution_count": 1,
   "id": "57ce3c8f",
   "metadata": {},
   "outputs": [
    {
     "data": {
      "text/html": [
       "<div>\n",
       "<style scoped>\n",
       "    .dataframe tbody tr th:only-of-type {\n",
       "        vertical-align: middle;\n",
       "    }\n",
       "\n",
       "    .dataframe tbody tr th {\n",
       "        vertical-align: top;\n",
       "    }\n",
       "\n",
       "    .dataframe thead th {\n",
       "        text-align: right;\n",
       "    }\n",
       "</style>\n",
       "<table border=\"1\" class=\"dataframe\">\n",
       "  <thead>\n",
       "    <tr style=\"text-align: right;\">\n",
       "      <th></th>\n",
       "      <th>children</th>\n",
       "      <th>days_employed</th>\n",
       "      <th>dob_years</th>\n",
       "      <th>education</th>\n",
       "      <th>education_id</th>\n",
       "      <th>family_status</th>\n",
       "      <th>family_status_id</th>\n",
       "      <th>gender</th>\n",
       "      <th>income_type</th>\n",
       "      <th>debt</th>\n",
       "      <th>total_income</th>\n",
       "      <th>purpose</th>\n",
       "    </tr>\n",
       "  </thead>\n",
       "  <tbody>\n",
       "    <tr>\n",
       "      <th>0</th>\n",
       "      <td>1</td>\n",
       "      <td>-8437.673028</td>\n",
       "      <td>42</td>\n",
       "      <td>высшее</td>\n",
       "      <td>0</td>\n",
       "      <td>женат / замужем</td>\n",
       "      <td>0</td>\n",
       "      <td>F</td>\n",
       "      <td>сотрудник</td>\n",
       "      <td>0</td>\n",
       "      <td>253875.639453</td>\n",
       "      <td>покупка жилья</td>\n",
       "    </tr>\n",
       "    <tr>\n",
       "      <th>1</th>\n",
       "      <td>1</td>\n",
       "      <td>-4024.803754</td>\n",
       "      <td>36</td>\n",
       "      <td>среднее</td>\n",
       "      <td>1</td>\n",
       "      <td>женат / замужем</td>\n",
       "      <td>0</td>\n",
       "      <td>F</td>\n",
       "      <td>сотрудник</td>\n",
       "      <td>0</td>\n",
       "      <td>112080.014102</td>\n",
       "      <td>приобретение автомобиля</td>\n",
       "    </tr>\n",
       "    <tr>\n",
       "      <th>2</th>\n",
       "      <td>0</td>\n",
       "      <td>-5623.422610</td>\n",
       "      <td>33</td>\n",
       "      <td>Среднее</td>\n",
       "      <td>1</td>\n",
       "      <td>женат / замужем</td>\n",
       "      <td>0</td>\n",
       "      <td>M</td>\n",
       "      <td>сотрудник</td>\n",
       "      <td>0</td>\n",
       "      <td>145885.952297</td>\n",
       "      <td>покупка жилья</td>\n",
       "    </tr>\n",
       "    <tr>\n",
       "      <th>3</th>\n",
       "      <td>3</td>\n",
       "      <td>-4124.747207</td>\n",
       "      <td>32</td>\n",
       "      <td>среднее</td>\n",
       "      <td>1</td>\n",
       "      <td>женат / замужем</td>\n",
       "      <td>0</td>\n",
       "      <td>M</td>\n",
       "      <td>сотрудник</td>\n",
       "      <td>0</td>\n",
       "      <td>267628.550329</td>\n",
       "      <td>дополнительное образование</td>\n",
       "    </tr>\n",
       "    <tr>\n",
       "      <th>4</th>\n",
       "      <td>0</td>\n",
       "      <td>340266.072047</td>\n",
       "      <td>53</td>\n",
       "      <td>среднее</td>\n",
       "      <td>1</td>\n",
       "      <td>гражданский брак</td>\n",
       "      <td>1</td>\n",
       "      <td>F</td>\n",
       "      <td>пенсионер</td>\n",
       "      <td>0</td>\n",
       "      <td>158616.077870</td>\n",
       "      <td>сыграть свадьбу</td>\n",
       "    </tr>\n",
       "    <tr>\n",
       "      <th>5</th>\n",
       "      <td>0</td>\n",
       "      <td>-926.185831</td>\n",
       "      <td>27</td>\n",
       "      <td>высшее</td>\n",
       "      <td>0</td>\n",
       "      <td>гражданский брак</td>\n",
       "      <td>1</td>\n",
       "      <td>M</td>\n",
       "      <td>компаньон</td>\n",
       "      <td>0</td>\n",
       "      <td>255763.565419</td>\n",
       "      <td>покупка жилья</td>\n",
       "    </tr>\n",
       "    <tr>\n",
       "      <th>6</th>\n",
       "      <td>0</td>\n",
       "      <td>-2879.202052</td>\n",
       "      <td>43</td>\n",
       "      <td>высшее</td>\n",
       "      <td>0</td>\n",
       "      <td>женат / замужем</td>\n",
       "      <td>0</td>\n",
       "      <td>F</td>\n",
       "      <td>компаньон</td>\n",
       "      <td>0</td>\n",
       "      <td>240525.971920</td>\n",
       "      <td>операции с жильем</td>\n",
       "    </tr>\n",
       "    <tr>\n",
       "      <th>7</th>\n",
       "      <td>0</td>\n",
       "      <td>-152.779569</td>\n",
       "      <td>50</td>\n",
       "      <td>СРЕДНЕЕ</td>\n",
       "      <td>1</td>\n",
       "      <td>женат / замужем</td>\n",
       "      <td>0</td>\n",
       "      <td>M</td>\n",
       "      <td>сотрудник</td>\n",
       "      <td>0</td>\n",
       "      <td>135823.934197</td>\n",
       "      <td>образование</td>\n",
       "    </tr>\n",
       "    <tr>\n",
       "      <th>8</th>\n",
       "      <td>2</td>\n",
       "      <td>-6929.865299</td>\n",
       "      <td>35</td>\n",
       "      <td>ВЫСШЕЕ</td>\n",
       "      <td>0</td>\n",
       "      <td>гражданский брак</td>\n",
       "      <td>1</td>\n",
       "      <td>F</td>\n",
       "      <td>сотрудник</td>\n",
       "      <td>0</td>\n",
       "      <td>95856.832424</td>\n",
       "      <td>на проведение свадьбы</td>\n",
       "    </tr>\n",
       "    <tr>\n",
       "      <th>9</th>\n",
       "      <td>0</td>\n",
       "      <td>-2188.756445</td>\n",
       "      <td>41</td>\n",
       "      <td>среднее</td>\n",
       "      <td>1</td>\n",
       "      <td>женат / замужем</td>\n",
       "      <td>0</td>\n",
       "      <td>M</td>\n",
       "      <td>сотрудник</td>\n",
       "      <td>0</td>\n",
       "      <td>144425.938277</td>\n",
       "      <td>покупка жилья для семьи</td>\n",
       "    </tr>\n",
       "    <tr>\n",
       "      <th>10</th>\n",
       "      <td>2</td>\n",
       "      <td>-4171.483647</td>\n",
       "      <td>36</td>\n",
       "      <td>высшее</td>\n",
       "      <td>0</td>\n",
       "      <td>женат / замужем</td>\n",
       "      <td>0</td>\n",
       "      <td>M</td>\n",
       "      <td>компаньон</td>\n",
       "      <td>0</td>\n",
       "      <td>113943.491460</td>\n",
       "      <td>покупка недвижимости</td>\n",
       "    </tr>\n",
       "    <tr>\n",
       "      <th>11</th>\n",
       "      <td>0</td>\n",
       "      <td>-792.701887</td>\n",
       "      <td>40</td>\n",
       "      <td>среднее</td>\n",
       "      <td>1</td>\n",
       "      <td>женат / замужем</td>\n",
       "      <td>0</td>\n",
       "      <td>F</td>\n",
       "      <td>сотрудник</td>\n",
       "      <td>0</td>\n",
       "      <td>77069.234271</td>\n",
       "      <td>покупка коммерческой недвижимости</td>\n",
       "    </tr>\n",
       "    <tr>\n",
       "      <th>12</th>\n",
       "      <td>0</td>\n",
       "      <td>NaN</td>\n",
       "      <td>65</td>\n",
       "      <td>среднее</td>\n",
       "      <td>1</td>\n",
       "      <td>гражданский брак</td>\n",
       "      <td>1</td>\n",
       "      <td>M</td>\n",
       "      <td>пенсионер</td>\n",
       "      <td>0</td>\n",
       "      <td>NaN</td>\n",
       "      <td>сыграть свадьбу</td>\n",
       "    </tr>\n",
       "    <tr>\n",
       "      <th>13</th>\n",
       "      <td>0</td>\n",
       "      <td>-1846.641941</td>\n",
       "      <td>54</td>\n",
       "      <td>неоконченное высшее</td>\n",
       "      <td>2</td>\n",
       "      <td>женат / замужем</td>\n",
       "      <td>0</td>\n",
       "      <td>F</td>\n",
       "      <td>сотрудник</td>\n",
       "      <td>0</td>\n",
       "      <td>130458.228857</td>\n",
       "      <td>приобретение автомобиля</td>\n",
       "    </tr>\n",
       "    <tr>\n",
       "      <th>14</th>\n",
       "      <td>0</td>\n",
       "      <td>-1844.956182</td>\n",
       "      <td>56</td>\n",
       "      <td>высшее</td>\n",
       "      <td>0</td>\n",
       "      <td>гражданский брак</td>\n",
       "      <td>1</td>\n",
       "      <td>F</td>\n",
       "      <td>компаньон</td>\n",
       "      <td>1</td>\n",
       "      <td>165127.911772</td>\n",
       "      <td>покупка жилой недвижимости</td>\n",
       "    </tr>\n",
       "  </tbody>\n",
       "</table>\n",
       "</div>"
      ],
      "text/plain": [
       "    children  days_employed  dob_years            education  education_id  \\\n",
       "0          1   -8437.673028         42               высшее             0   \n",
       "1          1   -4024.803754         36              среднее             1   \n",
       "2          0   -5623.422610         33              Среднее             1   \n",
       "3          3   -4124.747207         32              среднее             1   \n",
       "4          0  340266.072047         53              среднее             1   \n",
       "5          0    -926.185831         27               высшее             0   \n",
       "6          0   -2879.202052         43               высшее             0   \n",
       "7          0    -152.779569         50              СРЕДНЕЕ             1   \n",
       "8          2   -6929.865299         35               ВЫСШЕЕ             0   \n",
       "9          0   -2188.756445         41              среднее             1   \n",
       "10         2   -4171.483647         36               высшее             0   \n",
       "11         0    -792.701887         40              среднее             1   \n",
       "12         0            NaN         65              среднее             1   \n",
       "13         0   -1846.641941         54  неоконченное высшее             2   \n",
       "14         0   -1844.956182         56               высшее             0   \n",
       "\n",
       "       family_status  family_status_id gender income_type  debt  \\\n",
       "0    женат / замужем                 0      F   сотрудник     0   \n",
       "1    женат / замужем                 0      F   сотрудник     0   \n",
       "2    женат / замужем                 0      M   сотрудник     0   \n",
       "3    женат / замужем                 0      M   сотрудник     0   \n",
       "4   гражданский брак                 1      F   пенсионер     0   \n",
       "5   гражданский брак                 1      M   компаньон     0   \n",
       "6    женат / замужем                 0      F   компаньон     0   \n",
       "7    женат / замужем                 0      M   сотрудник     0   \n",
       "8   гражданский брак                 1      F   сотрудник     0   \n",
       "9    женат / замужем                 0      M   сотрудник     0   \n",
       "10   женат / замужем                 0      M   компаньон     0   \n",
       "11   женат / замужем                 0      F   сотрудник     0   \n",
       "12  гражданский брак                 1      M   пенсионер     0   \n",
       "13   женат / замужем                 0      F   сотрудник     0   \n",
       "14  гражданский брак                 1      F   компаньон     1   \n",
       "\n",
       "     total_income                            purpose  \n",
       "0   253875.639453                      покупка жилья  \n",
       "1   112080.014102            приобретение автомобиля  \n",
       "2   145885.952297                      покупка жилья  \n",
       "3   267628.550329         дополнительное образование  \n",
       "4   158616.077870                    сыграть свадьбу  \n",
       "5   255763.565419                      покупка жилья  \n",
       "6   240525.971920                  операции с жильем  \n",
       "7   135823.934197                        образование  \n",
       "8    95856.832424              на проведение свадьбы  \n",
       "9   144425.938277            покупка жилья для семьи  \n",
       "10  113943.491460               покупка недвижимости  \n",
       "11   77069.234271  покупка коммерческой недвижимости  \n",
       "12            NaN                    сыграть свадьбу  \n",
       "13  130458.228857            приобретение автомобиля  \n",
       "14  165127.911772         покупка жилой недвижимости  "
      ]
     },
     "execution_count": 1,
     "metadata": {},
     "output_type": "execute_result"
    }
   ],
   "source": [
    "import pandas as pd\n",
    "data = pd.read_csv('/datasets/data.csv')\n",
    "data.head(15) #посмотрим первые 15 строк."
   ]
  },
  {
   "cell_type": "code",
   "execution_count": 2,
   "id": "d00f7fde",
   "metadata": {},
   "outputs": [
    {
     "name": "stdout",
     "output_type": "stream",
     "text": [
      "<class 'pandas.core.frame.DataFrame'>\n",
      "RangeIndex: 21525 entries, 0 to 21524\n",
      "Data columns (total 12 columns):\n",
      " #   Column            Non-Null Count  Dtype  \n",
      "---  ------            --------------  -----  \n",
      " 0   children          21525 non-null  int64  \n",
      " 1   days_employed     19351 non-null  float64\n",
      " 2   dob_years         21525 non-null  int64  \n",
      " 3   education         21525 non-null  object \n",
      " 4   education_id      21525 non-null  int64  \n",
      " 5   family_status     21525 non-null  object \n",
      " 6   family_status_id  21525 non-null  int64  \n",
      " 7   gender            21525 non-null  object \n",
      " 8   income_type       21525 non-null  object \n",
      " 9   debt              21525 non-null  int64  \n",
      " 10  total_income      19351 non-null  float64\n",
      " 11  purpose           21525 non-null  object \n",
      "dtypes: float64(2), int64(5), object(5)\n",
      "memory usage: 2.0+ MB\n"
     ]
    }
   ],
   "source": [
    "data.info() #ознакомимся с общей информацией о датафрейме."
   ]
  },
  {
   "cell_type": "markdown",
   "id": "c3236957",
   "metadata": {},
   "source": [
    "**Краткий обзор данных:**\n",
    "\n",
    "А. В датафрейме 11 столбцов, названия столбцов понятны, измененний не требуют.  \n",
    "\n",
    "Описание данных:  \n",
    "`children` — количество детей в семье  \n",
    "`days_employed` — общий трудовой стаж в днях  \n",
    "`dob_years` — возраст клиента в годах  \n",
    "`education` — уровень образования клиента  \n",
    "`education_id` — идентификатор уровня образования  \n",
    "`family_status` — семейное положение  \n",
    "`family_status_id` — идентификатор семейного положения  \n",
    "`gender` — пол клиента  \n",
    "`income_type` — тип занятости  \n",
    "`debt` — имел ли задолженность по возврату кредитов  \n",
    "`total_income` — ежемесячный доход  \n",
    "`purpose` — цель получения кредита  \n",
    "\n",
    "Б. Типы данных в столбцах соответствуют смыслу данных. Вместе с тем, для удобства можно заменить тип данных в столбце `total_income` на целочисленный.\n",
    "\n",
    "В данных присутствуют следующие аномалии:\n",
    "1. Пропуски в столбцах `days_employed` и `total_income`, одинаковое количество.\n",
    "2. В столбце `days_employed` встречаются как положительные, так и отрицательные значения, что, возможно, противоречит смыслу данных в столбце и нуждается в проверке.  \n",
    "3. Видны одни и те же значения в столбце `education` в разных регистрах, что может свидетельствовать о наличии неявных дубликатов."
   ]
  },
  {
   "cell_type": "markdown",
   "id": "1fa9dfbf",
   "metadata": {},
   "source": [
    "### Шаг 2.1 Заполнение пропусков"
   ]
  },
  {
   "cell_type": "code",
   "execution_count": 3,
   "id": "a31eded4",
   "metadata": {},
   "outputs": [
    {
     "name": "stdout",
     "output_type": "stream",
     "text": [
      "2174\n"
     ]
    },
    {
     "data": {
      "text/plain": [
       "2174"
      ]
     },
     "execution_count": 3,
     "metadata": {},
     "output_type": "execute_result"
    }
   ],
   "source": [
    "#определим количество пропущенных значений в столбцах с пропусками.\n",
    "days_employed_nan = data['days_employed'].isna().sum()\n",
    "total_income_nan = data['total_income'].isna().sum()\n",
    "print(days_employed_nan)\n",
    "total_income_nan"
   ]
  },
  {
   "cell_type": "code",
   "execution_count": 4,
   "id": "d5298162",
   "metadata": {},
   "outputs": [
    {
     "name": "stdout",
     "output_type": "stream",
     "text": [
      "0.11234561521368405\n"
     ]
    },
    {
     "data": {
      "text/plain": [
       "0.11234561521368405"
      ]
     },
     "execution_count": 4,
     "metadata": {},
     "output_type": "execute_result"
    }
   ],
   "source": [
    "#определим долю пропущенных значений в столбцах с пропусками.\n",
    "print(days_employed_nan / data['days_employed'].count())\n",
    "total_income_nan / data['total_income'].count()"
   ]
  },
  {
   "cell_type": "code",
   "execution_count": 5,
   "id": "2bd73561",
   "metadata": {},
   "outputs": [
    {
     "data": {
      "text/html": [
       "<div>\n",
       "<style scoped>\n",
       "    .dataframe tbody tr th:only-of-type {\n",
       "        vertical-align: middle;\n",
       "    }\n",
       "\n",
       "    .dataframe tbody tr th {\n",
       "        vertical-align: top;\n",
       "    }\n",
       "\n",
       "    .dataframe thead th {\n",
       "        text-align: right;\n",
       "    }\n",
       "</style>\n",
       "<table border=\"1\" class=\"dataframe\">\n",
       "  <thead>\n",
       "    <tr style=\"text-align: right;\">\n",
       "      <th></th>\n",
       "      <th>children</th>\n",
       "      <th>days_employed</th>\n",
       "      <th>dob_years</th>\n",
       "      <th>education</th>\n",
       "      <th>education_id</th>\n",
       "      <th>family_status</th>\n",
       "      <th>family_status_id</th>\n",
       "      <th>gender</th>\n",
       "      <th>income_type</th>\n",
       "      <th>debt</th>\n",
       "      <th>total_income</th>\n",
       "      <th>purpose</th>\n",
       "    </tr>\n",
       "  </thead>\n",
       "  <tbody>\n",
       "    <tr>\n",
       "      <th>12</th>\n",
       "      <td>0</td>\n",
       "      <td>NaN</td>\n",
       "      <td>65</td>\n",
       "      <td>среднее</td>\n",
       "      <td>1</td>\n",
       "      <td>гражданский брак</td>\n",
       "      <td>1</td>\n",
       "      <td>M</td>\n",
       "      <td>пенсионер</td>\n",
       "      <td>0</td>\n",
       "      <td>NaN</td>\n",
       "      <td>сыграть свадьбу</td>\n",
       "    </tr>\n",
       "    <tr>\n",
       "      <th>26</th>\n",
       "      <td>0</td>\n",
       "      <td>NaN</td>\n",
       "      <td>41</td>\n",
       "      <td>среднее</td>\n",
       "      <td>1</td>\n",
       "      <td>женат / замужем</td>\n",
       "      <td>0</td>\n",
       "      <td>M</td>\n",
       "      <td>госслужащий</td>\n",
       "      <td>0</td>\n",
       "      <td>NaN</td>\n",
       "      <td>образование</td>\n",
       "    </tr>\n",
       "    <tr>\n",
       "      <th>29</th>\n",
       "      <td>0</td>\n",
       "      <td>NaN</td>\n",
       "      <td>63</td>\n",
       "      <td>среднее</td>\n",
       "      <td>1</td>\n",
       "      <td>Не женат / не замужем</td>\n",
       "      <td>4</td>\n",
       "      <td>F</td>\n",
       "      <td>пенсионер</td>\n",
       "      <td>0</td>\n",
       "      <td>NaN</td>\n",
       "      <td>строительство жилой недвижимости</td>\n",
       "    </tr>\n",
       "    <tr>\n",
       "      <th>41</th>\n",
       "      <td>0</td>\n",
       "      <td>NaN</td>\n",
       "      <td>50</td>\n",
       "      <td>среднее</td>\n",
       "      <td>1</td>\n",
       "      <td>женат / замужем</td>\n",
       "      <td>0</td>\n",
       "      <td>F</td>\n",
       "      <td>госслужащий</td>\n",
       "      <td>0</td>\n",
       "      <td>NaN</td>\n",
       "      <td>сделка с подержанным автомобилем</td>\n",
       "    </tr>\n",
       "    <tr>\n",
       "      <th>55</th>\n",
       "      <td>0</td>\n",
       "      <td>NaN</td>\n",
       "      <td>54</td>\n",
       "      <td>среднее</td>\n",
       "      <td>1</td>\n",
       "      <td>гражданский брак</td>\n",
       "      <td>1</td>\n",
       "      <td>F</td>\n",
       "      <td>пенсионер</td>\n",
       "      <td>1</td>\n",
       "      <td>NaN</td>\n",
       "      <td>сыграть свадьбу</td>\n",
       "    </tr>\n",
       "  </tbody>\n",
       "</table>\n",
       "</div>"
      ],
      "text/plain": [
       "    children  days_employed  dob_years education  education_id  \\\n",
       "12         0            NaN         65   среднее             1   \n",
       "26         0            NaN         41   среднее             1   \n",
       "29         0            NaN         63   среднее             1   \n",
       "41         0            NaN         50   среднее             1   \n",
       "55         0            NaN         54   среднее             1   \n",
       "\n",
       "            family_status  family_status_id gender  income_type  debt  \\\n",
       "12       гражданский брак                 1      M    пенсионер     0   \n",
       "26        женат / замужем                 0      M  госслужащий     0   \n",
       "29  Не женат / не замужем                 4      F    пенсионер     0   \n",
       "41        женат / замужем                 0      F  госслужащий     0   \n",
       "55       гражданский брак                 1      F    пенсионер     1   \n",
       "\n",
       "    total_income                           purpose  \n",
       "12           NaN                   сыграть свадьбу  \n",
       "26           NaN                       образование  \n",
       "29           NaN  строительство жилой недвижимости  \n",
       "41           NaN  сделка с подержанным автомобилем  \n",
       "55           NaN                   сыграть свадьбу  "
      ]
     },
     "execution_count": 5,
     "metadata": {},
     "output_type": "execute_result"
    }
   ],
   "source": [
    "#пропущенных значений в столбцах `days_employed` и `total_income` совпадают, что может быть связано с тем,\n",
    "#что пропуски в указанных столбцах допущены в одних и тех же строках. Проверим:\n",
    "data[data['days_employed'].isna()].head()"
   ]
  },
  {
   "cell_type": "markdown",
   "id": "85dab982",
   "metadata": {},
   "source": [
    "Количество (2174 шт.) и доля (11,2%) пропущенных значений в столбцах `days_employed` и `total_income` совпадают, пропуски в указанных столбцах допущены в одних и тех же строках.  \n",
    "Это может быть связано с технологическими ошибками при выгрузки данных. Например, из одного и того же источника не были по каким-то причинам выгружены данные о доходе и количестве дней работы.  \n",
    "Вышеуказанные данные являются количественными и могут принимать широкий диапазон значений, таким образом пропуски в этих данных оптимально заполнить медианными значениями из соответствующих столбцов. Вместе с тем, для столбца `days_employed` сначала небходимо решить вопрос с отрицательными и положительными значениями.\n",
    "\n",
    "Заполним пропуски в столбце `total_income` медианным значением по столбцу."
   ]
  },
  {
   "cell_type": "code",
   "execution_count": 6,
   "id": "129b7e5c",
   "metadata": {},
   "outputs": [
    {
     "data": {
      "text/plain": [
       "145017.93753253992"
      ]
     },
     "execution_count": 6,
     "metadata": {},
     "output_type": "execute_result"
    }
   ],
   "source": [
    "data['total_income'].median() #посмотрим медианное значение"
   ]
  },
  {
   "cell_type": "code",
   "execution_count": 7,
   "id": "8fafa1df",
   "metadata": {
    "scrolled": false
   },
   "outputs": [
    {
     "name": "stdout",
     "output_type": "stream",
     "text": [
      "<class 'pandas.core.frame.DataFrame'>\n",
      "RangeIndex: 21525 entries, 0 to 21524\n",
      "Data columns (total 12 columns):\n",
      " #   Column            Non-Null Count  Dtype  \n",
      "---  ------            --------------  -----  \n",
      " 0   children          21525 non-null  int64  \n",
      " 1   days_employed     19351 non-null  float64\n",
      " 2   dob_years         21525 non-null  int64  \n",
      " 3   education         21525 non-null  object \n",
      " 4   education_id      21525 non-null  int64  \n",
      " 5   family_status     21525 non-null  object \n",
      " 6   family_status_id  21525 non-null  int64  \n",
      " 7   gender            21525 non-null  object \n",
      " 8   income_type       21525 non-null  object \n",
      " 9   debt              21525 non-null  int64  \n",
      " 10  total_income      21525 non-null  float64\n",
      " 11  purpose           21525 non-null  object \n",
      "dtypes: float64(2), int64(5), object(5)\n",
      "memory usage: 2.0+ MB\n"
     ]
    }
   ],
   "source": [
    "data['total_income'] = data['total_income'].fillna(data['total_income'].median()) #заменим пропуски на медиану\n",
    "data.info() #проверим"
   ]
  },
  {
   "cell_type": "markdown",
   "id": "5b73f3d5",
   "metadata": {},
   "source": [
    "### Шаг 2.2 Проверка данных на аномалии и исправления."
   ]
  },
  {
   "cell_type": "markdown",
   "id": "c2452814",
   "metadata": {},
   "source": [
    "#### Шаг 2.2.1 Дни трудового стажа."
   ]
  },
  {
   "cell_type": "code",
   "execution_count": 9,
   "id": "7818d0e6",
   "metadata": {},
   "outputs": [
    {
     "data": {
      "text/html": [
       "<div>\n",
       "<style scoped>\n",
       "    .dataframe tbody tr th:only-of-type {\n",
       "        vertical-align: middle;\n",
       "    }\n",
       "\n",
       "    .dataframe tbody tr th {\n",
       "        vertical-align: top;\n",
       "    }\n",
       "\n",
       "    .dataframe thead th {\n",
       "        text-align: right;\n",
       "    }\n",
       "</style>\n",
       "<table border=\"1\" class=\"dataframe\">\n",
       "  <thead>\n",
       "    <tr style=\"text-align: right;\">\n",
       "      <th></th>\n",
       "      <th>children</th>\n",
       "      <th>days_employed</th>\n",
       "      <th>dob_years</th>\n",
       "      <th>education</th>\n",
       "      <th>education_id</th>\n",
       "      <th>family_status</th>\n",
       "      <th>family_status_id</th>\n",
       "      <th>gender</th>\n",
       "      <th>income_type</th>\n",
       "      <th>debt</th>\n",
       "      <th>total_income</th>\n",
       "      <th>purpose</th>\n",
       "    </tr>\n",
       "  </thead>\n",
       "  <tbody>\n",
       "    <tr>\n",
       "      <th>16335</th>\n",
       "      <td>1</td>\n",
       "      <td>-18388.949901</td>\n",
       "      <td>61</td>\n",
       "      <td>среднее</td>\n",
       "      <td>1</td>\n",
       "      <td>женат / замужем</td>\n",
       "      <td>0</td>\n",
       "      <td>F</td>\n",
       "      <td>сотрудник</td>\n",
       "      <td>0</td>\n",
       "      <td>186178.934089</td>\n",
       "      <td>операции с недвижимостью</td>\n",
       "    </tr>\n",
       "    <tr>\n",
       "      <th>4299</th>\n",
       "      <td>0</td>\n",
       "      <td>-17615.563266</td>\n",
       "      <td>61</td>\n",
       "      <td>среднее</td>\n",
       "      <td>1</td>\n",
       "      <td>женат / замужем</td>\n",
       "      <td>0</td>\n",
       "      <td>F</td>\n",
       "      <td>компаньон</td>\n",
       "      <td>0</td>\n",
       "      <td>122560.741753</td>\n",
       "      <td>покупка жилья</td>\n",
       "    </tr>\n",
       "    <tr>\n",
       "      <th>7329</th>\n",
       "      <td>0</td>\n",
       "      <td>-16593.472817</td>\n",
       "      <td>60</td>\n",
       "      <td>высшее</td>\n",
       "      <td>0</td>\n",
       "      <td>женат / замужем</td>\n",
       "      <td>0</td>\n",
       "      <td>F</td>\n",
       "      <td>сотрудник</td>\n",
       "      <td>0</td>\n",
       "      <td>124697.846781</td>\n",
       "      <td>заняться высшим образованием</td>\n",
       "    </tr>\n",
       "    <tr>\n",
       "      <th>17838</th>\n",
       "      <td>0</td>\n",
       "      <td>-16264.699501</td>\n",
       "      <td>59</td>\n",
       "      <td>среднее</td>\n",
       "      <td>1</td>\n",
       "      <td>женат / замужем</td>\n",
       "      <td>0</td>\n",
       "      <td>F</td>\n",
       "      <td>сотрудник</td>\n",
       "      <td>0</td>\n",
       "      <td>51238.967133</td>\n",
       "      <td>на покупку автомобиля</td>\n",
       "    </tr>\n",
       "    <tr>\n",
       "      <th>16825</th>\n",
       "      <td>0</td>\n",
       "      <td>-16119.687737</td>\n",
       "      <td>64</td>\n",
       "      <td>среднее</td>\n",
       "      <td>1</td>\n",
       "      <td>женат / замужем</td>\n",
       "      <td>0</td>\n",
       "      <td>F</td>\n",
       "      <td>сотрудник</td>\n",
       "      <td>0</td>\n",
       "      <td>91527.685995</td>\n",
       "      <td>покупка жилой недвижимости</td>\n",
       "    </tr>\n",
       "  </tbody>\n",
       "</table>\n",
       "</div>"
      ],
      "text/plain": [
       "       children  days_employed  dob_years education  education_id  \\\n",
       "16335         1  -18388.949901         61   среднее             1   \n",
       "4299          0  -17615.563266         61   среднее             1   \n",
       "7329          0  -16593.472817         60    высшее             0   \n",
       "17838         0  -16264.699501         59   среднее             1   \n",
       "16825         0  -16119.687737         64   среднее             1   \n",
       "\n",
       "         family_status  family_status_id gender income_type  debt  \\\n",
       "16335  женат / замужем                 0      F   сотрудник     0   \n",
       "4299   женат / замужем                 0      F   компаньон     0   \n",
       "7329   женат / замужем                 0      F   сотрудник     0   \n",
       "17838  женат / замужем                 0      F   сотрудник     0   \n",
       "16825  женат / замужем                 0      F   сотрудник     0   \n",
       "\n",
       "        total_income                       purpose  \n",
       "16335  186178.934089      операции с недвижимостью  \n",
       "4299   122560.741753                 покупка жилья  \n",
       "7329   124697.846781  заняться высшим образованием  \n",
       "17838   51238.967133         на покупку автомобиля  \n",
       "16825   91527.685995    покупка жилой недвижимости  "
      ]
     },
     "execution_count": 9,
     "metadata": {},
     "output_type": "execute_result"
    }
   ],
   "source": [
    "data.sort_values(by='days_employed').head() #отсортируем по возрастанию данные по столбцу days_employed"
   ]
  },
  {
   "cell_type": "code",
   "execution_count": 10,
   "id": "e0821f08",
   "metadata": {},
   "outputs": [
    {
     "data": {
      "text/html": [
       "<div>\n",
       "<style scoped>\n",
       "    .dataframe tbody tr th:only-of-type {\n",
       "        vertical-align: middle;\n",
       "    }\n",
       "\n",
       "    .dataframe tbody tr th {\n",
       "        vertical-align: top;\n",
       "    }\n",
       "\n",
       "    .dataframe thead th {\n",
       "        text-align: right;\n",
       "    }\n",
       "</style>\n",
       "<table border=\"1\" class=\"dataframe\">\n",
       "  <thead>\n",
       "    <tr style=\"text-align: right;\">\n",
       "      <th></th>\n",
       "      <th>children</th>\n",
       "      <th>days_employed</th>\n",
       "      <th>dob_years</th>\n",
       "      <th>education</th>\n",
       "      <th>education_id</th>\n",
       "      <th>family_status</th>\n",
       "      <th>family_status_id</th>\n",
       "      <th>gender</th>\n",
       "      <th>income_type</th>\n",
       "      <th>debt</th>\n",
       "      <th>total_income</th>\n",
       "      <th>purpose</th>\n",
       "    </tr>\n",
       "  </thead>\n",
       "  <tbody>\n",
       "    <tr>\n",
       "      <th>6954</th>\n",
       "      <td>0</td>\n",
       "      <td>401755.400475</td>\n",
       "      <td>56</td>\n",
       "      <td>среднее</td>\n",
       "      <td>1</td>\n",
       "      <td>вдовец / вдова</td>\n",
       "      <td>2</td>\n",
       "      <td>F</td>\n",
       "      <td>пенсионер</td>\n",
       "      <td>0</td>\n",
       "      <td>176278.441171</td>\n",
       "      <td>ремонт жилью</td>\n",
       "    </tr>\n",
       "    <tr>\n",
       "      <th>10006</th>\n",
       "      <td>0</td>\n",
       "      <td>401715.811749</td>\n",
       "      <td>69</td>\n",
       "      <td>высшее</td>\n",
       "      <td>0</td>\n",
       "      <td>Не женат / не замужем</td>\n",
       "      <td>4</td>\n",
       "      <td>F</td>\n",
       "      <td>пенсионер</td>\n",
       "      <td>0</td>\n",
       "      <td>57390.256908</td>\n",
       "      <td>получение образования</td>\n",
       "    </tr>\n",
       "    <tr>\n",
       "      <th>7664</th>\n",
       "      <td>1</td>\n",
       "      <td>401675.093434</td>\n",
       "      <td>61</td>\n",
       "      <td>среднее</td>\n",
       "      <td>1</td>\n",
       "      <td>женат / замужем</td>\n",
       "      <td>0</td>\n",
       "      <td>F</td>\n",
       "      <td>пенсионер</td>\n",
       "      <td>0</td>\n",
       "      <td>126214.519212</td>\n",
       "      <td>операции с жильем</td>\n",
       "    </tr>\n",
       "    <tr>\n",
       "      <th>2156</th>\n",
       "      <td>0</td>\n",
       "      <td>401674.466633</td>\n",
       "      <td>60</td>\n",
       "      <td>среднее</td>\n",
       "      <td>1</td>\n",
       "      <td>женат / замужем</td>\n",
       "      <td>0</td>\n",
       "      <td>M</td>\n",
       "      <td>пенсионер</td>\n",
       "      <td>0</td>\n",
       "      <td>325395.724541</td>\n",
       "      <td>автомобили</td>\n",
       "    </tr>\n",
       "    <tr>\n",
       "      <th>7794</th>\n",
       "      <td>0</td>\n",
       "      <td>401663.850046</td>\n",
       "      <td>61</td>\n",
       "      <td>среднее</td>\n",
       "      <td>1</td>\n",
       "      <td>гражданский брак</td>\n",
       "      <td>1</td>\n",
       "      <td>F</td>\n",
       "      <td>пенсионер</td>\n",
       "      <td>0</td>\n",
       "      <td>48286.441362</td>\n",
       "      <td>свадьба</td>\n",
       "    </tr>\n",
       "  </tbody>\n",
       "</table>\n",
       "</div>"
      ],
      "text/plain": [
       "       children  days_employed  dob_years education  education_id  \\\n",
       "6954          0  401755.400475         56   среднее             1   \n",
       "10006         0  401715.811749         69    высшее             0   \n",
       "7664          1  401675.093434         61   среднее             1   \n",
       "2156          0  401674.466633         60   среднее             1   \n",
       "7794          0  401663.850046         61   среднее             1   \n",
       "\n",
       "               family_status  family_status_id gender income_type  debt  \\\n",
       "6954          вдовец / вдова                 2      F   пенсионер     0   \n",
       "10006  Не женат / не замужем                 4      F   пенсионер     0   \n",
       "7664         женат / замужем                 0      F   пенсионер     0   \n",
       "2156         женат / замужем                 0      M   пенсионер     0   \n",
       "7794        гражданский брак                 1      F   пенсионер     0   \n",
       "\n",
       "        total_income                purpose  \n",
       "6954   176278.441171           ремонт жилью  \n",
       "10006   57390.256908  получение образования  \n",
       "7664   126214.519212      операции с жильем  \n",
       "2156   325395.724541             автомобили  \n",
       "7794    48286.441362                свадьба  "
      ]
     },
     "execution_count": 10,
     "metadata": {},
     "output_type": "execute_result"
    }
   ],
   "source": [
    "data.sort_values(by='days_employed', ascending=False).head() #отсортируем по убыванию данные по столбцу days_employed"
   ]
  },
  {
   "cell_type": "markdown",
   "id": "d93e94ec",
   "metadata": {},
   "source": [
    "Количество дней трудового стажа изменяется в диапазоне от -18.4 тысячи до 401.8 тысяч дней.  \n",
    "Отрицательные значения могли образоваться в результате ошибок ввода. Также заметим, что 401.8 тысяч дней, отработанных за 56 лет жизни кажется слишком большим, ведь среднее количество рабочих дней в году при 5-дневной рабочей неделе в России составляет 247 дней.  \n",
    "Проверим:"
   ]
  },
  {
   "cell_type": "code",
   "execution_count": 11,
   "id": "4aa3318b",
   "metadata": {
    "scrolled": false
   },
   "outputs": [
    {
     "data": {
      "text/html": [
       "<div>\n",
       "<style scoped>\n",
       "    .dataframe tbody tr th:only-of-type {\n",
       "        vertical-align: middle;\n",
       "    }\n",
       "\n",
       "    .dataframe tbody tr th {\n",
       "        vertical-align: top;\n",
       "    }\n",
       "\n",
       "    .dataframe thead th {\n",
       "        text-align: right;\n",
       "    }\n",
       "</style>\n",
       "<table border=\"1\" class=\"dataframe\">\n",
       "  <thead>\n",
       "    <tr style=\"text-align: right;\">\n",
       "      <th></th>\n",
       "      <th>children</th>\n",
       "      <th>days_employed</th>\n",
       "      <th>dob_years</th>\n",
       "      <th>education_id</th>\n",
       "      <th>family_status_id</th>\n",
       "      <th>debt</th>\n",
       "      <th>total_income</th>\n",
       "    </tr>\n",
       "  </thead>\n",
       "  <tbody>\n",
       "    <tr>\n",
       "      <th>count</th>\n",
       "      <td>21525.000000</td>\n",
       "      <td>19351.000000</td>\n",
       "      <td>21525.000000</td>\n",
       "      <td>21525.000000</td>\n",
       "      <td>21525.000000</td>\n",
       "      <td>21525.000000</td>\n",
       "      <td>2.152500e+04</td>\n",
       "    </tr>\n",
       "    <tr>\n",
       "      <th>mean</th>\n",
       "      <td>0.538908</td>\n",
       "      <td>63046.497661</td>\n",
       "      <td>43.293380</td>\n",
       "      <td>0.817236</td>\n",
       "      <td>0.972544</td>\n",
       "      <td>0.080883</td>\n",
       "      <td>1.651595e+05</td>\n",
       "    </tr>\n",
       "    <tr>\n",
       "      <th>std</th>\n",
       "      <td>1.381587</td>\n",
       "      <td>140827.311974</td>\n",
       "      <td>12.574584</td>\n",
       "      <td>0.548138</td>\n",
       "      <td>1.420324</td>\n",
       "      <td>0.272661</td>\n",
       "      <td>9.786607e+04</td>\n",
       "    </tr>\n",
       "    <tr>\n",
       "      <th>min</th>\n",
       "      <td>-1.000000</td>\n",
       "      <td>-18388.949901</td>\n",
       "      <td>0.000000</td>\n",
       "      <td>0.000000</td>\n",
       "      <td>0.000000</td>\n",
       "      <td>0.000000</td>\n",
       "      <td>2.066726e+04</td>\n",
       "    </tr>\n",
       "    <tr>\n",
       "      <th>25%</th>\n",
       "      <td>0.000000</td>\n",
       "      <td>-2747.423625</td>\n",
       "      <td>33.000000</td>\n",
       "      <td>1.000000</td>\n",
       "      <td>0.000000</td>\n",
       "      <td>0.000000</td>\n",
       "      <td>1.077982e+05</td>\n",
       "    </tr>\n",
       "    <tr>\n",
       "      <th>50%</th>\n",
       "      <td>0.000000</td>\n",
       "      <td>-1203.369529</td>\n",
       "      <td>42.000000</td>\n",
       "      <td>1.000000</td>\n",
       "      <td>0.000000</td>\n",
       "      <td>0.000000</td>\n",
       "      <td>1.450179e+05</td>\n",
       "    </tr>\n",
       "    <tr>\n",
       "      <th>75%</th>\n",
       "      <td>1.000000</td>\n",
       "      <td>-291.095954</td>\n",
       "      <td>53.000000</td>\n",
       "      <td>1.000000</td>\n",
       "      <td>1.000000</td>\n",
       "      <td>0.000000</td>\n",
       "      <td>1.955436e+05</td>\n",
       "    </tr>\n",
       "    <tr>\n",
       "      <th>max</th>\n",
       "      <td>20.000000</td>\n",
       "      <td>401755.400475</td>\n",
       "      <td>75.000000</td>\n",
       "      <td>4.000000</td>\n",
       "      <td>4.000000</td>\n",
       "      <td>1.000000</td>\n",
       "      <td>2.265604e+06</td>\n",
       "    </tr>\n",
       "  </tbody>\n",
       "</table>\n",
       "</div>"
      ],
      "text/plain": [
       "           children  days_employed     dob_years  education_id  \\\n",
       "count  21525.000000   19351.000000  21525.000000  21525.000000   \n",
       "mean       0.538908   63046.497661     43.293380      0.817236   \n",
       "std        1.381587  140827.311974     12.574584      0.548138   \n",
       "min       -1.000000  -18388.949901      0.000000      0.000000   \n",
       "25%        0.000000   -2747.423625     33.000000      1.000000   \n",
       "50%        0.000000   -1203.369529     42.000000      1.000000   \n",
       "75%        1.000000    -291.095954     53.000000      1.000000   \n",
       "max       20.000000  401755.400475     75.000000      4.000000   \n",
       "\n",
       "       family_status_id          debt  total_income  \n",
       "count      21525.000000  21525.000000  2.152500e+04  \n",
       "mean           0.972544      0.080883  1.651595e+05  \n",
       "std            1.420324      0.272661  9.786607e+04  \n",
       "min            0.000000      0.000000  2.066726e+04  \n",
       "25%            0.000000      0.000000  1.077982e+05  \n",
       "50%            0.000000      0.000000  1.450179e+05  \n",
       "75%            1.000000      0.000000  1.955436e+05  \n",
       "max            4.000000      1.000000  2.265604e+06  "
      ]
     },
     "execution_count": 11,
     "metadata": {},
     "output_type": "execute_result"
    }
   ],
   "source": [
    "data.describe() #изучим распределение количественного столбца другим методом "
   ]
  },
  {
   "cell_type": "code",
   "execution_count": 12,
   "id": "e09b3f76",
   "metadata": {
    "scrolled": true
   },
   "outputs": [
    {
     "data": {
      "text/html": [
       "<div>\n",
       "<style scoped>\n",
       "    .dataframe tbody tr th:only-of-type {\n",
       "        vertical-align: middle;\n",
       "    }\n",
       "\n",
       "    .dataframe tbody tr th {\n",
       "        vertical-align: top;\n",
       "    }\n",
       "\n",
       "    .dataframe thead th {\n",
       "        text-align: right;\n",
       "    }\n",
       "</style>\n",
       "<table border=\"1\" class=\"dataframe\">\n",
       "  <thead>\n",
       "    <tr style=\"text-align: right;\">\n",
       "      <th></th>\n",
       "      <th>children</th>\n",
       "      <th>days_employed</th>\n",
       "      <th>dob_years</th>\n",
       "      <th>education</th>\n",
       "      <th>education_id</th>\n",
       "      <th>family_status</th>\n",
       "      <th>family_status_id</th>\n",
       "      <th>gender</th>\n",
       "      <th>income_type</th>\n",
       "      <th>debt</th>\n",
       "      <th>total_income</th>\n",
       "      <th>purpose</th>\n",
       "      <th>days_employed_per_year</th>\n",
       "    </tr>\n",
       "  </thead>\n",
       "  <tbody>\n",
       "    <tr>\n",
       "      <th>1242</th>\n",
       "      <td>0</td>\n",
       "      <td>334764.259831</td>\n",
       "      <td>22</td>\n",
       "      <td>Среднее</td>\n",
       "      <td>1</td>\n",
       "      <td>Не женат / не замужем</td>\n",
       "      <td>4</td>\n",
       "      <td>F</td>\n",
       "      <td>пенсионер</td>\n",
       "      <td>0</td>\n",
       "      <td>89368.600062</td>\n",
       "      <td>получение высшего образования</td>\n",
       "      <td>83691.064958</td>\n",
       "    </tr>\n",
       "    <tr>\n",
       "      <th>19439</th>\n",
       "      <td>0</td>\n",
       "      <td>389397.167577</td>\n",
       "      <td>26</td>\n",
       "      <td>высшее</td>\n",
       "      <td>0</td>\n",
       "      <td>женат / замужем</td>\n",
       "      <td>0</td>\n",
       "      <td>F</td>\n",
       "      <td>пенсионер</td>\n",
       "      <td>0</td>\n",
       "      <td>214963.301941</td>\n",
       "      <td>покупка недвижимости</td>\n",
       "      <td>48674.645947</td>\n",
       "    </tr>\n",
       "    <tr>\n",
       "      <th>16166</th>\n",
       "      <td>0</td>\n",
       "      <td>364348.197352</td>\n",
       "      <td>26</td>\n",
       "      <td>среднее</td>\n",
       "      <td>1</td>\n",
       "      <td>гражданский брак</td>\n",
       "      <td>1</td>\n",
       "      <td>M</td>\n",
       "      <td>пенсионер</td>\n",
       "      <td>0</td>\n",
       "      <td>80044.196101</td>\n",
       "      <td>автомобиль</td>\n",
       "      <td>45543.524669</td>\n",
       "    </tr>\n",
       "    <tr>\n",
       "      <th>12507</th>\n",
       "      <td>0</td>\n",
       "      <td>379492.102505</td>\n",
       "      <td>27</td>\n",
       "      <td>среднее</td>\n",
       "      <td>1</td>\n",
       "      <td>Не женат / не замужем</td>\n",
       "      <td>4</td>\n",
       "      <td>F</td>\n",
       "      <td>пенсионер</td>\n",
       "      <td>0</td>\n",
       "      <td>50969.340462</td>\n",
       "      <td>сделка с автомобилем</td>\n",
       "      <td>42165.789167</td>\n",
       "    </tr>\n",
       "    <tr>\n",
       "      <th>13953</th>\n",
       "      <td>0</td>\n",
       "      <td>376824.585817</td>\n",
       "      <td>27</td>\n",
       "      <td>среднее</td>\n",
       "      <td>1</td>\n",
       "      <td>в разводе</td>\n",
       "      <td>3</td>\n",
       "      <td>M</td>\n",
       "      <td>пенсионер</td>\n",
       "      <td>0</td>\n",
       "      <td>97961.993557</td>\n",
       "      <td>операции с жильем</td>\n",
       "      <td>41869.398424</td>\n",
       "    </tr>\n",
       "  </tbody>\n",
       "</table>\n",
       "</div>"
      ],
      "text/plain": [
       "       children  days_employed  dob_years education  education_id  \\\n",
       "1242          0  334764.259831         22   Среднее             1   \n",
       "19439         0  389397.167577         26    высшее             0   \n",
       "16166         0  364348.197352         26   среднее             1   \n",
       "12507         0  379492.102505         27   среднее             1   \n",
       "13953         0  376824.585817         27   среднее             1   \n",
       "\n",
       "               family_status  family_status_id gender income_type  debt  \\\n",
       "1242   Не женат / не замужем                 4      F   пенсионер     0   \n",
       "19439        женат / замужем                 0      F   пенсионер     0   \n",
       "16166       гражданский брак                 1      M   пенсионер     0   \n",
       "12507  Не женат / не замужем                 4      F   пенсионер     0   \n",
       "13953              в разводе                 3      M   пенсионер     0   \n",
       "\n",
       "        total_income                        purpose  days_employed_per_year  \n",
       "1242    89368.600062  получение высшего образования            83691.064958  \n",
       "19439  214963.301941           покупка недвижимости            48674.645947  \n",
       "16166   80044.196101                     автомобиль            45543.524669  \n",
       "12507   50969.340462           сделка с автомобилем            42165.789167  \n",
       "13953   97961.993557              операции с жильем            41869.398424  "
      ]
     },
     "execution_count": 12,
     "metadata": {},
     "output_type": "execute_result"
    }
   ],
   "source": [
    "#переведем дни трудового стажа в часы и разделим количество дней трудового стажа на предполагаемое количество лет,\n",
    "#которое заемщик мог работать за свою жизнь с учетом возраста (и начиная с 18 лет)\n",
    "data['days_employed_per_year'] = data['days_employed'] / (data['dob_years'] - 18)\n",
    "data.sort_values(by='days_employed_per_year', ascending=False).head()"
   ]
  },
  {
   "cell_type": "markdown",
   "id": "5d02650b",
   "metadata": {},
   "source": [
    "83.7 тысяч дней отработано за каждый год!  \n",
    "Возможно эти данные записаны не в днях, а, например, в часах или минутах.  \n",
    "Проверим тремя способами:  \n",
    "1. Данные в столбце `days_employed` приведем к рабочим дням (разделим на 8 рабочих часов) - проверим таким образом, не в рабочих ли часах приведены данные.  \n",
    "2. Данные в столбце `days_employed` приведем к рабочим дням (разделим на 24 часа) - проверим таким образом, не в часах ли приведены данные.  \n",
    "3. Данные в столбце `days_employed` приведем к рабочим минутам (разделим на 8 рабочих часов и еще на 60 минут) - проверим таким образом, не в рабочих ли минутах приведены данные."
   ]
  },
  {
   "cell_type": "code",
   "execution_count": 13,
   "id": "b2c75d59",
   "metadata": {},
   "outputs": [
    {
     "data": {
      "text/html": [
       "<div>\n",
       "<style scoped>\n",
       "    .dataframe tbody tr th:only-of-type {\n",
       "        vertical-align: middle;\n",
       "    }\n",
       "\n",
       "    .dataframe tbody tr th {\n",
       "        vertical-align: top;\n",
       "    }\n",
       "\n",
       "    .dataframe thead th {\n",
       "        text-align: right;\n",
       "    }\n",
       "</style>\n",
       "<table border=\"1\" class=\"dataframe\">\n",
       "  <thead>\n",
       "    <tr style=\"text-align: right;\">\n",
       "      <th></th>\n",
       "      <th>children</th>\n",
       "      <th>days_employed</th>\n",
       "      <th>dob_years</th>\n",
       "      <th>education</th>\n",
       "      <th>education_id</th>\n",
       "      <th>family_status</th>\n",
       "      <th>family_status_id</th>\n",
       "      <th>gender</th>\n",
       "      <th>income_type</th>\n",
       "      <th>debt</th>\n",
       "      <th>total_income</th>\n",
       "      <th>purpose</th>\n",
       "      <th>days_employed_per_year</th>\n",
       "    </tr>\n",
       "  </thead>\n",
       "  <tbody>\n",
       "    <tr>\n",
       "      <th>1242</th>\n",
       "      <td>0</td>\n",
       "      <td>334764.259831</td>\n",
       "      <td>22</td>\n",
       "      <td>Среднее</td>\n",
       "      <td>1</td>\n",
       "      <td>Не женат / не замужем</td>\n",
       "      <td>4</td>\n",
       "      <td>F</td>\n",
       "      <td>пенсионер</td>\n",
       "      <td>0</td>\n",
       "      <td>89368.600062</td>\n",
       "      <td>получение высшего образования</td>\n",
       "      <td>10461.383120</td>\n",
       "    </tr>\n",
       "    <tr>\n",
       "      <th>19439</th>\n",
       "      <td>0</td>\n",
       "      <td>389397.167577</td>\n",
       "      <td>26</td>\n",
       "      <td>высшее</td>\n",
       "      <td>0</td>\n",
       "      <td>женат / замужем</td>\n",
       "      <td>0</td>\n",
       "      <td>F</td>\n",
       "      <td>пенсионер</td>\n",
       "      <td>0</td>\n",
       "      <td>214963.301941</td>\n",
       "      <td>покупка недвижимости</td>\n",
       "      <td>6084.330743</td>\n",
       "    </tr>\n",
       "    <tr>\n",
       "      <th>16166</th>\n",
       "      <td>0</td>\n",
       "      <td>364348.197352</td>\n",
       "      <td>26</td>\n",
       "      <td>среднее</td>\n",
       "      <td>1</td>\n",
       "      <td>гражданский брак</td>\n",
       "      <td>1</td>\n",
       "      <td>M</td>\n",
       "      <td>пенсионер</td>\n",
       "      <td>0</td>\n",
       "      <td>80044.196101</td>\n",
       "      <td>автомобиль</td>\n",
       "      <td>5692.940584</td>\n",
       "    </tr>\n",
       "    <tr>\n",
       "      <th>12507</th>\n",
       "      <td>0</td>\n",
       "      <td>379492.102505</td>\n",
       "      <td>27</td>\n",
       "      <td>среднее</td>\n",
       "      <td>1</td>\n",
       "      <td>Не женат / не замужем</td>\n",
       "      <td>4</td>\n",
       "      <td>F</td>\n",
       "      <td>пенсионер</td>\n",
       "      <td>0</td>\n",
       "      <td>50969.340462</td>\n",
       "      <td>сделка с автомобилем</td>\n",
       "      <td>5270.723646</td>\n",
       "    </tr>\n",
       "    <tr>\n",
       "      <th>13953</th>\n",
       "      <td>0</td>\n",
       "      <td>376824.585817</td>\n",
       "      <td>27</td>\n",
       "      <td>среднее</td>\n",
       "      <td>1</td>\n",
       "      <td>в разводе</td>\n",
       "      <td>3</td>\n",
       "      <td>M</td>\n",
       "      <td>пенсионер</td>\n",
       "      <td>0</td>\n",
       "      <td>97961.993557</td>\n",
       "      <td>операции с жильем</td>\n",
       "      <td>5233.674803</td>\n",
       "    </tr>\n",
       "  </tbody>\n",
       "</table>\n",
       "</div>"
      ],
      "text/plain": [
       "       children  days_employed  dob_years education  education_id  \\\n",
       "1242          0  334764.259831         22   Среднее             1   \n",
       "19439         0  389397.167577         26    высшее             0   \n",
       "16166         0  364348.197352         26   среднее             1   \n",
       "12507         0  379492.102505         27   среднее             1   \n",
       "13953         0  376824.585817         27   среднее             1   \n",
       "\n",
       "               family_status  family_status_id gender income_type  debt  \\\n",
       "1242   Не женат / не замужем                 4      F   пенсионер     0   \n",
       "19439        женат / замужем                 0      F   пенсионер     0   \n",
       "16166       гражданский брак                 1      M   пенсионер     0   \n",
       "12507  Не женат / не замужем                 4      F   пенсионер     0   \n",
       "13953              в разводе                 3      M   пенсионер     0   \n",
       "\n",
       "        total_income                        purpose  days_employed_per_year  \n",
       "1242    89368.600062  получение высшего образования            10461.383120  \n",
       "19439  214963.301941           покупка недвижимости             6084.330743  \n",
       "16166   80044.196101                     автомобиль             5692.940584  \n",
       "12507   50969.340462           сделка с автомобилем             5270.723646  \n",
       "13953   97961.993557              операции с жильем             5233.674803  "
      ]
     },
     "execution_count": 13,
     "metadata": {},
     "output_type": "execute_result"
    }
   ],
   "source": [
    "#в рабочих часах\n",
    "data['days_employed_per_year'] = (data['days_employed'] / 8 ) / (data['dob_years'] - 18)\n",
    "data.sort_values(by='days_employed_per_year', ascending=False).head()"
   ]
  },
  {
   "cell_type": "code",
   "execution_count": 14,
   "id": "6e3737cf",
   "metadata": {},
   "outputs": [
    {
     "data": {
      "text/html": [
       "<div>\n",
       "<style scoped>\n",
       "    .dataframe tbody tr th:only-of-type {\n",
       "        vertical-align: middle;\n",
       "    }\n",
       "\n",
       "    .dataframe tbody tr th {\n",
       "        vertical-align: top;\n",
       "    }\n",
       "\n",
       "    .dataframe thead th {\n",
       "        text-align: right;\n",
       "    }\n",
       "</style>\n",
       "<table border=\"1\" class=\"dataframe\">\n",
       "  <thead>\n",
       "    <tr style=\"text-align: right;\">\n",
       "      <th></th>\n",
       "      <th>children</th>\n",
       "      <th>days_employed</th>\n",
       "      <th>dob_years</th>\n",
       "      <th>education</th>\n",
       "      <th>education_id</th>\n",
       "      <th>family_status</th>\n",
       "      <th>family_status_id</th>\n",
       "      <th>gender</th>\n",
       "      <th>income_type</th>\n",
       "      <th>debt</th>\n",
       "      <th>total_income</th>\n",
       "      <th>purpose</th>\n",
       "      <th>days_employed_per_year</th>\n",
       "    </tr>\n",
       "  </thead>\n",
       "  <tbody>\n",
       "    <tr>\n",
       "      <th>1242</th>\n",
       "      <td>0</td>\n",
       "      <td>334764.259831</td>\n",
       "      <td>22</td>\n",
       "      <td>Среднее</td>\n",
       "      <td>1</td>\n",
       "      <td>Не женат / не замужем</td>\n",
       "      <td>4</td>\n",
       "      <td>F</td>\n",
       "      <td>пенсионер</td>\n",
       "      <td>0</td>\n",
       "      <td>89368.600062</td>\n",
       "      <td>получение высшего образования</td>\n",
       "      <td>3487.127707</td>\n",
       "    </tr>\n",
       "    <tr>\n",
       "      <th>19439</th>\n",
       "      <td>0</td>\n",
       "      <td>389397.167577</td>\n",
       "      <td>26</td>\n",
       "      <td>высшее</td>\n",
       "      <td>0</td>\n",
       "      <td>женат / замужем</td>\n",
       "      <td>0</td>\n",
       "      <td>F</td>\n",
       "      <td>пенсионер</td>\n",
       "      <td>0</td>\n",
       "      <td>214963.301941</td>\n",
       "      <td>покупка недвижимости</td>\n",
       "      <td>2028.110248</td>\n",
       "    </tr>\n",
       "    <tr>\n",
       "      <th>16166</th>\n",
       "      <td>0</td>\n",
       "      <td>364348.197352</td>\n",
       "      <td>26</td>\n",
       "      <td>среднее</td>\n",
       "      <td>1</td>\n",
       "      <td>гражданский брак</td>\n",
       "      <td>1</td>\n",
       "      <td>M</td>\n",
       "      <td>пенсионер</td>\n",
       "      <td>0</td>\n",
       "      <td>80044.196101</td>\n",
       "      <td>автомобиль</td>\n",
       "      <td>1897.646861</td>\n",
       "    </tr>\n",
       "    <tr>\n",
       "      <th>12507</th>\n",
       "      <td>0</td>\n",
       "      <td>379492.102505</td>\n",
       "      <td>27</td>\n",
       "      <td>среднее</td>\n",
       "      <td>1</td>\n",
       "      <td>Не женат / не замужем</td>\n",
       "      <td>4</td>\n",
       "      <td>F</td>\n",
       "      <td>пенсионер</td>\n",
       "      <td>0</td>\n",
       "      <td>50969.340462</td>\n",
       "      <td>сделка с автомобилем</td>\n",
       "      <td>1756.907882</td>\n",
       "    </tr>\n",
       "    <tr>\n",
       "      <th>13953</th>\n",
       "      <td>0</td>\n",
       "      <td>376824.585817</td>\n",
       "      <td>27</td>\n",
       "      <td>среднее</td>\n",
       "      <td>1</td>\n",
       "      <td>в разводе</td>\n",
       "      <td>3</td>\n",
       "      <td>M</td>\n",
       "      <td>пенсионер</td>\n",
       "      <td>0</td>\n",
       "      <td>97961.993557</td>\n",
       "      <td>операции с жильем</td>\n",
       "      <td>1744.558268</td>\n",
       "    </tr>\n",
       "  </tbody>\n",
       "</table>\n",
       "</div>"
      ],
      "text/plain": [
       "       children  days_employed  dob_years education  education_id  \\\n",
       "1242          0  334764.259831         22   Среднее             1   \n",
       "19439         0  389397.167577         26    высшее             0   \n",
       "16166         0  364348.197352         26   среднее             1   \n",
       "12507         0  379492.102505         27   среднее             1   \n",
       "13953         0  376824.585817         27   среднее             1   \n",
       "\n",
       "               family_status  family_status_id gender income_type  debt  \\\n",
       "1242   Не женат / не замужем                 4      F   пенсионер     0   \n",
       "19439        женат / замужем                 0      F   пенсионер     0   \n",
       "16166       гражданский брак                 1      M   пенсионер     0   \n",
       "12507  Не женат / не замужем                 4      F   пенсионер     0   \n",
       "13953              в разводе                 3      M   пенсионер     0   \n",
       "\n",
       "        total_income                        purpose  days_employed_per_year  \n",
       "1242    89368.600062  получение высшего образования             3487.127707  \n",
       "19439  214963.301941           покупка недвижимости             2028.110248  \n",
       "16166   80044.196101                     автомобиль             1897.646861  \n",
       "12507   50969.340462           сделка с автомобилем             1756.907882  \n",
       "13953   97961.993557              операции с жильем             1744.558268  "
      ]
     },
     "execution_count": 14,
     "metadata": {},
     "output_type": "execute_result"
    }
   ],
   "source": [
    "#в астрономических часах\n",
    "data['days_employed_per_year'] = (data['days_employed'] / 24) / (data['dob_years'] - 18)\n",
    "data.sort_values(by='days_employed_per_year', ascending=False).head()"
   ]
  },
  {
   "cell_type": "code",
   "execution_count": 15,
   "id": "9f659017",
   "metadata": {},
   "outputs": [
    {
     "data": {
      "text/html": [
       "<div>\n",
       "<style scoped>\n",
       "    .dataframe tbody tr th:only-of-type {\n",
       "        vertical-align: middle;\n",
       "    }\n",
       "\n",
       "    .dataframe tbody tr th {\n",
       "        vertical-align: top;\n",
       "    }\n",
       "\n",
       "    .dataframe thead th {\n",
       "        text-align: right;\n",
       "    }\n",
       "</style>\n",
       "<table border=\"1\" class=\"dataframe\">\n",
       "  <thead>\n",
       "    <tr style=\"text-align: right;\">\n",
       "      <th></th>\n",
       "      <th>children</th>\n",
       "      <th>days_employed</th>\n",
       "      <th>dob_years</th>\n",
       "      <th>education</th>\n",
       "      <th>education_id</th>\n",
       "      <th>family_status</th>\n",
       "      <th>family_status_id</th>\n",
       "      <th>gender</th>\n",
       "      <th>income_type</th>\n",
       "      <th>debt</th>\n",
       "      <th>total_income</th>\n",
       "      <th>purpose</th>\n",
       "      <th>days_employed_per_year</th>\n",
       "    </tr>\n",
       "  </thead>\n",
       "  <tbody>\n",
       "    <tr>\n",
       "      <th>1242</th>\n",
       "      <td>0</td>\n",
       "      <td>334764.259831</td>\n",
       "      <td>22</td>\n",
       "      <td>Среднее</td>\n",
       "      <td>1</td>\n",
       "      <td>Не женат / не замужем</td>\n",
       "      <td>4</td>\n",
       "      <td>F</td>\n",
       "      <td>пенсионер</td>\n",
       "      <td>0</td>\n",
       "      <td>89368.600062</td>\n",
       "      <td>получение высшего образования</td>\n",
       "      <td>174.356385</td>\n",
       "    </tr>\n",
       "    <tr>\n",
       "      <th>19439</th>\n",
       "      <td>0</td>\n",
       "      <td>389397.167577</td>\n",
       "      <td>26</td>\n",
       "      <td>высшее</td>\n",
       "      <td>0</td>\n",
       "      <td>женат / замужем</td>\n",
       "      <td>0</td>\n",
       "      <td>F</td>\n",
       "      <td>пенсионер</td>\n",
       "      <td>0</td>\n",
       "      <td>214963.301941</td>\n",
       "      <td>покупка недвижимости</td>\n",
       "      <td>101.405512</td>\n",
       "    </tr>\n",
       "    <tr>\n",
       "      <th>16166</th>\n",
       "      <td>0</td>\n",
       "      <td>364348.197352</td>\n",
       "      <td>26</td>\n",
       "      <td>среднее</td>\n",
       "      <td>1</td>\n",
       "      <td>гражданский брак</td>\n",
       "      <td>1</td>\n",
       "      <td>M</td>\n",
       "      <td>пенсионер</td>\n",
       "      <td>0</td>\n",
       "      <td>80044.196101</td>\n",
       "      <td>автомобиль</td>\n",
       "      <td>94.882343</td>\n",
       "    </tr>\n",
       "    <tr>\n",
       "      <th>12507</th>\n",
       "      <td>0</td>\n",
       "      <td>379492.102505</td>\n",
       "      <td>27</td>\n",
       "      <td>среднее</td>\n",
       "      <td>1</td>\n",
       "      <td>Не женат / не замужем</td>\n",
       "      <td>4</td>\n",
       "      <td>F</td>\n",
       "      <td>пенсионер</td>\n",
       "      <td>0</td>\n",
       "      <td>50969.340462</td>\n",
       "      <td>сделка с автомобилем</td>\n",
       "      <td>87.845394</td>\n",
       "    </tr>\n",
       "    <tr>\n",
       "      <th>13953</th>\n",
       "      <td>0</td>\n",
       "      <td>376824.585817</td>\n",
       "      <td>27</td>\n",
       "      <td>среднее</td>\n",
       "      <td>1</td>\n",
       "      <td>в разводе</td>\n",
       "      <td>3</td>\n",
       "      <td>M</td>\n",
       "      <td>пенсионер</td>\n",
       "      <td>0</td>\n",
       "      <td>97961.993557</td>\n",
       "      <td>операции с жильем</td>\n",
       "      <td>87.227913</td>\n",
       "    </tr>\n",
       "  </tbody>\n",
       "</table>\n",
       "</div>"
      ],
      "text/plain": [
       "       children  days_employed  dob_years education  education_id  \\\n",
       "1242          0  334764.259831         22   Среднее             1   \n",
       "19439         0  389397.167577         26    высшее             0   \n",
       "16166         0  364348.197352         26   среднее             1   \n",
       "12507         0  379492.102505         27   среднее             1   \n",
       "13953         0  376824.585817         27   среднее             1   \n",
       "\n",
       "               family_status  family_status_id gender income_type  debt  \\\n",
       "1242   Не женат / не замужем                 4      F   пенсионер     0   \n",
       "19439        женат / замужем                 0      F   пенсионер     0   \n",
       "16166       гражданский брак                 1      M   пенсионер     0   \n",
       "12507  Не женат / не замужем                 4      F   пенсионер     0   \n",
       "13953              в разводе                 3      M   пенсионер     0   \n",
       "\n",
       "        total_income                        purpose  days_employed_per_year  \n",
       "1242    89368.600062  получение высшего образования              174.356385  \n",
       "19439  214963.301941           покупка недвижимости              101.405512  \n",
       "16166   80044.196101                     автомобиль               94.882343  \n",
       "12507   50969.340462           сделка с автомобилем               87.845394  \n",
       "13953   97961.993557              операции с жильем               87.227913  "
      ]
     },
     "execution_count": 15,
     "metadata": {},
     "output_type": "execute_result"
    }
   ],
   "source": [
    "#в рабочих минутах\n",
    "data['days_employed_per_year'] = (data['days_employed'] / 8 / 60) / (data['dob_years'] - 18)\n",
    "data.sort_values(by='days_employed_per_year', ascending=False).head()"
   ]
  },
  {
   "cell_type": "markdown",
   "id": "4575cbc0",
   "metadata": {},
   "source": [
    "Все ответы не устраивают:  \n",
    "1. В рабочих часах - 10,5 тысяч дней в год - слишком много.  \n",
    "2. В астрономических часах - 3,5 тысяч дней в год - слишком много.  \n",
    "3. В рабочих минутах - 174 дня в год и менее - слишком мало.  \n",
    "\n",
    "Таким образом, данные о количестве дней трудового стажа аномальны, следует уточнить у коллег.  \n",
    "\n",
    "Вместе с тем, для поставленных задач количество дней трудового стажа не является необходимыми данными, поэтому просто заменими отрицательные значения на положительные и заполним пропуски медианными значениями. А перед этим удалим созданный для проверки столбец `days_employed_per_year`"
   ]
  },
  {
   "cell_type": "code",
   "execution_count": 16,
   "id": "120328dc",
   "metadata": {},
   "outputs": [
    {
     "data": {
      "text/html": [
       "<div>\n",
       "<style scoped>\n",
       "    .dataframe tbody tr th:only-of-type {\n",
       "        vertical-align: middle;\n",
       "    }\n",
       "\n",
       "    .dataframe tbody tr th {\n",
       "        vertical-align: top;\n",
       "    }\n",
       "\n",
       "    .dataframe thead th {\n",
       "        text-align: right;\n",
       "    }\n",
       "</style>\n",
       "<table border=\"1\" class=\"dataframe\">\n",
       "  <thead>\n",
       "    <tr style=\"text-align: right;\">\n",
       "      <th></th>\n",
       "      <th>children</th>\n",
       "      <th>days_employed</th>\n",
       "      <th>dob_years</th>\n",
       "      <th>education</th>\n",
       "      <th>education_id</th>\n",
       "      <th>family_status</th>\n",
       "      <th>family_status_id</th>\n",
       "      <th>gender</th>\n",
       "      <th>income_type</th>\n",
       "      <th>debt</th>\n",
       "      <th>total_income</th>\n",
       "      <th>purpose</th>\n",
       "    </tr>\n",
       "  </thead>\n",
       "  <tbody>\n",
       "    <tr>\n",
       "      <th>0</th>\n",
       "      <td>1</td>\n",
       "      <td>-8437.673028</td>\n",
       "      <td>42</td>\n",
       "      <td>высшее</td>\n",
       "      <td>0</td>\n",
       "      <td>женат / замужем</td>\n",
       "      <td>0</td>\n",
       "      <td>F</td>\n",
       "      <td>сотрудник</td>\n",
       "      <td>0</td>\n",
       "      <td>253875.639453</td>\n",
       "      <td>покупка жилья</td>\n",
       "    </tr>\n",
       "    <tr>\n",
       "      <th>1</th>\n",
       "      <td>1</td>\n",
       "      <td>-4024.803754</td>\n",
       "      <td>36</td>\n",
       "      <td>среднее</td>\n",
       "      <td>1</td>\n",
       "      <td>женат / замужем</td>\n",
       "      <td>0</td>\n",
       "      <td>F</td>\n",
       "      <td>сотрудник</td>\n",
       "      <td>0</td>\n",
       "      <td>112080.014102</td>\n",
       "      <td>приобретение автомобиля</td>\n",
       "    </tr>\n",
       "    <tr>\n",
       "      <th>2</th>\n",
       "      <td>0</td>\n",
       "      <td>-5623.422610</td>\n",
       "      <td>33</td>\n",
       "      <td>Среднее</td>\n",
       "      <td>1</td>\n",
       "      <td>женат / замужем</td>\n",
       "      <td>0</td>\n",
       "      <td>M</td>\n",
       "      <td>сотрудник</td>\n",
       "      <td>0</td>\n",
       "      <td>145885.952297</td>\n",
       "      <td>покупка жилья</td>\n",
       "    </tr>\n",
       "    <tr>\n",
       "      <th>3</th>\n",
       "      <td>3</td>\n",
       "      <td>-4124.747207</td>\n",
       "      <td>32</td>\n",
       "      <td>среднее</td>\n",
       "      <td>1</td>\n",
       "      <td>женат / замужем</td>\n",
       "      <td>0</td>\n",
       "      <td>M</td>\n",
       "      <td>сотрудник</td>\n",
       "      <td>0</td>\n",
       "      <td>267628.550329</td>\n",
       "      <td>дополнительное образование</td>\n",
       "    </tr>\n",
       "    <tr>\n",
       "      <th>4</th>\n",
       "      <td>0</td>\n",
       "      <td>340266.072047</td>\n",
       "      <td>53</td>\n",
       "      <td>среднее</td>\n",
       "      <td>1</td>\n",
       "      <td>гражданский брак</td>\n",
       "      <td>1</td>\n",
       "      <td>F</td>\n",
       "      <td>пенсионер</td>\n",
       "      <td>0</td>\n",
       "      <td>158616.077870</td>\n",
       "      <td>сыграть свадьбу</td>\n",
       "    </tr>\n",
       "  </tbody>\n",
       "</table>\n",
       "</div>"
      ],
      "text/plain": [
       "   children  days_employed  dob_years education  education_id  \\\n",
       "0         1   -8437.673028         42    высшее             0   \n",
       "1         1   -4024.803754         36   среднее             1   \n",
       "2         0   -5623.422610         33   Среднее             1   \n",
       "3         3   -4124.747207         32   среднее             1   \n",
       "4         0  340266.072047         53   среднее             1   \n",
       "\n",
       "      family_status  family_status_id gender income_type  debt   total_income  \\\n",
       "0   женат / замужем                 0      F   сотрудник     0  253875.639453   \n",
       "1   женат / замужем                 0      F   сотрудник     0  112080.014102   \n",
       "2   женат / замужем                 0      M   сотрудник     0  145885.952297   \n",
       "3   женат / замужем                 0      M   сотрудник     0  267628.550329   \n",
       "4  гражданский брак                 1      F   пенсионер     0  158616.077870   \n",
       "\n",
       "                      purpose  \n",
       "0               покупка жилья  \n",
       "1     приобретение автомобиля  \n",
       "2               покупка жилья  \n",
       "3  дополнительное образование  \n",
       "4             сыграть свадьбу  "
      ]
     },
     "execution_count": 16,
     "metadata": {},
     "output_type": "execute_result"
    }
   ],
   "source": [
    "data = data[['children', 'days_employed', 'dob_years', 'education', 'education_id', 'family_status', \n",
    "            'family_status_id', 'gender', 'income_type', 'debt', 'total_income', 'purpose']]\n",
    "data.head()"
   ]
  },
  {
   "cell_type": "code",
   "execution_count": 17,
   "id": "1c5267d4",
   "metadata": {},
   "outputs": [
    {
     "data": {
      "text/html": [
       "<div>\n",
       "<style scoped>\n",
       "    .dataframe tbody tr th:only-of-type {\n",
       "        vertical-align: middle;\n",
       "    }\n",
       "\n",
       "    .dataframe tbody tr th {\n",
       "        vertical-align: top;\n",
       "    }\n",
       "\n",
       "    .dataframe thead th {\n",
       "        text-align: right;\n",
       "    }\n",
       "</style>\n",
       "<table border=\"1\" class=\"dataframe\">\n",
       "  <thead>\n",
       "    <tr style=\"text-align: right;\">\n",
       "      <th></th>\n",
       "      <th>children</th>\n",
       "      <th>days_employed</th>\n",
       "      <th>dob_years</th>\n",
       "      <th>education</th>\n",
       "      <th>education_id</th>\n",
       "      <th>family_status</th>\n",
       "      <th>family_status_id</th>\n",
       "      <th>gender</th>\n",
       "      <th>income_type</th>\n",
       "      <th>debt</th>\n",
       "      <th>total_income</th>\n",
       "      <th>purpose</th>\n",
       "    </tr>\n",
       "  </thead>\n",
       "  <tbody>\n",
       "    <tr>\n",
       "      <th>17437</th>\n",
       "      <td>1</td>\n",
       "      <td>24.141633</td>\n",
       "      <td>31</td>\n",
       "      <td>среднее</td>\n",
       "      <td>1</td>\n",
       "      <td>женат / замужем</td>\n",
       "      <td>0</td>\n",
       "      <td>F</td>\n",
       "      <td>сотрудник</td>\n",
       "      <td>1</td>\n",
       "      <td>166952.415427</td>\n",
       "      <td>высшее образование</td>\n",
       "    </tr>\n",
       "    <tr>\n",
       "      <th>8336</th>\n",
       "      <td>0</td>\n",
       "      <td>24.240695</td>\n",
       "      <td>32</td>\n",
       "      <td>высшее</td>\n",
       "      <td>0</td>\n",
       "      <td>Не женат / не замужем</td>\n",
       "      <td>4</td>\n",
       "      <td>M</td>\n",
       "      <td>сотрудник</td>\n",
       "      <td>0</td>\n",
       "      <td>124115.373655</td>\n",
       "      <td>получение дополнительного образования</td>\n",
       "    </tr>\n",
       "    <tr>\n",
       "      <th>6157</th>\n",
       "      <td>2</td>\n",
       "      <td>30.195337</td>\n",
       "      <td>47</td>\n",
       "      <td>среднее</td>\n",
       "      <td>1</td>\n",
       "      <td>гражданский брак</td>\n",
       "      <td>1</td>\n",
       "      <td>M</td>\n",
       "      <td>компаньон</td>\n",
       "      <td>0</td>\n",
       "      <td>231461.185606</td>\n",
       "      <td>свадьба</td>\n",
       "    </tr>\n",
       "    <tr>\n",
       "      <th>9683</th>\n",
       "      <td>0</td>\n",
       "      <td>33.520665</td>\n",
       "      <td>43</td>\n",
       "      <td>среднее</td>\n",
       "      <td>1</td>\n",
       "      <td>Не женат / не замужем</td>\n",
       "      <td>4</td>\n",
       "      <td>M</td>\n",
       "      <td>сотрудник</td>\n",
       "      <td>1</td>\n",
       "      <td>128555.897209</td>\n",
       "      <td>приобретение автомобиля</td>\n",
       "    </tr>\n",
       "    <tr>\n",
       "      <th>2127</th>\n",
       "      <td>1</td>\n",
       "      <td>34.701045</td>\n",
       "      <td>31</td>\n",
       "      <td>высшее</td>\n",
       "      <td>0</td>\n",
       "      <td>женат / замужем</td>\n",
       "      <td>0</td>\n",
       "      <td>F</td>\n",
       "      <td>компаньон</td>\n",
       "      <td>0</td>\n",
       "      <td>90557.994311</td>\n",
       "      <td>получение образования</td>\n",
       "    </tr>\n",
       "  </tbody>\n",
       "</table>\n",
       "</div>"
      ],
      "text/plain": [
       "       children  days_employed  dob_years education  education_id  \\\n",
       "17437         1      24.141633         31   среднее             1   \n",
       "8336          0      24.240695         32    высшее             0   \n",
       "6157          2      30.195337         47   среднее             1   \n",
       "9683          0      33.520665         43   среднее             1   \n",
       "2127          1      34.701045         31    высшее             0   \n",
       "\n",
       "               family_status  family_status_id gender income_type  debt  \\\n",
       "17437        женат / замужем                 0      F   сотрудник     1   \n",
       "8336   Не женат / не замужем                 4      M   сотрудник     0   \n",
       "6157        гражданский брак                 1      M   компаньон     0   \n",
       "9683   Не женат / не замужем                 4      M   сотрудник     1   \n",
       "2127         женат / замужем                 0      F   компаньон     0   \n",
       "\n",
       "        total_income                                purpose  \n",
       "17437  166952.415427                     высшее образование  \n",
       "8336   124115.373655  получение дополнительного образования  \n",
       "6157   231461.185606                                свадьба  \n",
       "9683   128555.897209                приобретение автомобиля  \n",
       "2127    90557.994311                  получение образования  "
      ]
     },
     "execution_count": 17,
     "metadata": {},
     "output_type": "execute_result"
    }
   ],
   "source": [
    "data['days_employed'] = abs(data['days_employed']) #приведем значения нужного столбца к модулю\n",
    "data.sort_values(by='days_employed').head() #проверим наименьшие значения - чтобы были неотрицательные"
   ]
  },
  {
   "cell_type": "code",
   "execution_count": 18,
   "id": "a1cfdbaf",
   "metadata": {
    "scrolled": true
   },
   "outputs": [
    {
     "name": "stdout",
     "output_type": "stream",
     "text": [
      "<class 'pandas.core.frame.DataFrame'>\n",
      "RangeIndex: 21525 entries, 0 to 21524\n",
      "Data columns (total 12 columns):\n",
      " #   Column            Non-Null Count  Dtype  \n",
      "---  ------            --------------  -----  \n",
      " 0   children          21525 non-null  int64  \n",
      " 1   days_employed     21525 non-null  float64\n",
      " 2   dob_years         21525 non-null  int64  \n",
      " 3   education         21525 non-null  object \n",
      " 4   education_id      21525 non-null  int64  \n",
      " 5   family_status     21525 non-null  object \n",
      " 6   family_status_id  21525 non-null  int64  \n",
      " 7   gender            21525 non-null  object \n",
      " 8   income_type       21525 non-null  object \n",
      " 9   debt              21525 non-null  int64  \n",
      " 10  total_income      21525 non-null  float64\n",
      " 11  purpose           21525 non-null  object \n",
      "dtypes: float64(2), int64(5), object(5)\n",
      "memory usage: 2.0+ MB\n"
     ]
    }
   ],
   "source": [
    "data['days_employed'] = data['days_employed'].fillna(data['days_employed'].median()) #заменим пропуски на медиану\n",
    "data.info() #проверим"
   ]
  },
  {
   "cell_type": "markdown",
   "id": "85182b1e",
   "metadata": {},
   "source": [
    "#### Шаг 2.2.2 Дети."
   ]
  },
  {
   "cell_type": "code",
   "execution_count": 19,
   "id": "5e42db59",
   "metadata": {},
   "outputs": [
    {
     "data": {
      "text/plain": [
       " 0     14149\n",
       " 1      4818\n",
       " 2      2055\n",
       " 3       330\n",
       " 20       76\n",
       "-1        47\n",
       " 4        41\n",
       " 5         9\n",
       "Name: children, dtype: int64"
      ]
     },
     "execution_count": 19,
     "metadata": {},
     "output_type": "execute_result"
    }
   ],
   "source": [
    "data['children'].value_counts() #проверим значения в столбце"
   ]
  },
  {
   "cell_type": "code",
   "execution_count": 20,
   "id": "5df6e68b",
   "metadata": {},
   "outputs": [
    {
     "data": {
      "text/html": [
       "<div>\n",
       "<style scoped>\n",
       "    .dataframe tbody tr th:only-of-type {\n",
       "        vertical-align: middle;\n",
       "    }\n",
       "\n",
       "    .dataframe tbody tr th {\n",
       "        vertical-align: top;\n",
       "    }\n",
       "\n",
       "    .dataframe thead th {\n",
       "        text-align: right;\n",
       "    }\n",
       "</style>\n",
       "<table border=\"1\" class=\"dataframe\">\n",
       "  <thead>\n",
       "    <tr style=\"text-align: right;\">\n",
       "      <th></th>\n",
       "      <th>children</th>\n",
       "      <th>days_employed</th>\n",
       "      <th>dob_years</th>\n",
       "      <th>education</th>\n",
       "      <th>education_id</th>\n",
       "      <th>family_status</th>\n",
       "      <th>family_status_id</th>\n",
       "      <th>gender</th>\n",
       "      <th>income_type</th>\n",
       "      <th>debt</th>\n",
       "      <th>total_income</th>\n",
       "      <th>purpose</th>\n",
       "    </tr>\n",
       "  </thead>\n",
       "  <tbody>\n",
       "    <tr>\n",
       "      <th>606</th>\n",
       "      <td>20</td>\n",
       "      <td>880.221113</td>\n",
       "      <td>21</td>\n",
       "      <td>среднее</td>\n",
       "      <td>1</td>\n",
       "      <td>женат / замужем</td>\n",
       "      <td>0</td>\n",
       "      <td>M</td>\n",
       "      <td>компаньон</td>\n",
       "      <td>0</td>\n",
       "      <td>145334.865002</td>\n",
       "      <td>покупка жилья</td>\n",
       "    </tr>\n",
       "    <tr>\n",
       "      <th>720</th>\n",
       "      <td>20</td>\n",
       "      <td>855.595512</td>\n",
       "      <td>44</td>\n",
       "      <td>среднее</td>\n",
       "      <td>1</td>\n",
       "      <td>женат / замужем</td>\n",
       "      <td>0</td>\n",
       "      <td>F</td>\n",
       "      <td>компаньон</td>\n",
       "      <td>0</td>\n",
       "      <td>112998.738649</td>\n",
       "      <td>покупка недвижимости</td>\n",
       "    </tr>\n",
       "    <tr>\n",
       "      <th>1074</th>\n",
       "      <td>20</td>\n",
       "      <td>3310.411598</td>\n",
       "      <td>56</td>\n",
       "      <td>среднее</td>\n",
       "      <td>1</td>\n",
       "      <td>женат / замужем</td>\n",
       "      <td>0</td>\n",
       "      <td>F</td>\n",
       "      <td>сотрудник</td>\n",
       "      <td>1</td>\n",
       "      <td>229518.537004</td>\n",
       "      <td>получение образования</td>\n",
       "    </tr>\n",
       "    <tr>\n",
       "      <th>2510</th>\n",
       "      <td>20</td>\n",
       "      <td>2714.161249</td>\n",
       "      <td>59</td>\n",
       "      <td>высшее</td>\n",
       "      <td>0</td>\n",
       "      <td>вдовец / вдова</td>\n",
       "      <td>2</td>\n",
       "      <td>F</td>\n",
       "      <td>сотрудник</td>\n",
       "      <td>0</td>\n",
       "      <td>264474.835577</td>\n",
       "      <td>операции с коммерческой недвижимостью</td>\n",
       "    </tr>\n",
       "    <tr>\n",
       "      <th>2941</th>\n",
       "      <td>20</td>\n",
       "      <td>2161.591519</td>\n",
       "      <td>0</td>\n",
       "      <td>среднее</td>\n",
       "      <td>1</td>\n",
       "      <td>женат / замужем</td>\n",
       "      <td>0</td>\n",
       "      <td>F</td>\n",
       "      <td>сотрудник</td>\n",
       "      <td>0</td>\n",
       "      <td>199739.941398</td>\n",
       "      <td>на покупку автомобиля</td>\n",
       "    </tr>\n",
       "    <tr>\n",
       "      <th>...</th>\n",
       "      <td>...</td>\n",
       "      <td>...</td>\n",
       "      <td>...</td>\n",
       "      <td>...</td>\n",
       "      <td>...</td>\n",
       "      <td>...</td>\n",
       "      <td>...</td>\n",
       "      <td>...</td>\n",
       "      <td>...</td>\n",
       "      <td>...</td>\n",
       "      <td>...</td>\n",
       "      <td>...</td>\n",
       "    </tr>\n",
       "    <tr>\n",
       "      <th>21008</th>\n",
       "      <td>20</td>\n",
       "      <td>1240.257910</td>\n",
       "      <td>40</td>\n",
       "      <td>среднее</td>\n",
       "      <td>1</td>\n",
       "      <td>женат / замужем</td>\n",
       "      <td>0</td>\n",
       "      <td>F</td>\n",
       "      <td>сотрудник</td>\n",
       "      <td>1</td>\n",
       "      <td>133524.010303</td>\n",
       "      <td>свой автомобиль</td>\n",
       "    </tr>\n",
       "    <tr>\n",
       "      <th>21325</th>\n",
       "      <td>20</td>\n",
       "      <td>601.174883</td>\n",
       "      <td>37</td>\n",
       "      <td>среднее</td>\n",
       "      <td>1</td>\n",
       "      <td>женат / замужем</td>\n",
       "      <td>0</td>\n",
       "      <td>F</td>\n",
       "      <td>компаньон</td>\n",
       "      <td>0</td>\n",
       "      <td>102986.065978</td>\n",
       "      <td>профильное образование</td>\n",
       "    </tr>\n",
       "    <tr>\n",
       "      <th>21390</th>\n",
       "      <td>20</td>\n",
       "      <td>2194.220567</td>\n",
       "      <td>53</td>\n",
       "      <td>среднее</td>\n",
       "      <td>1</td>\n",
       "      <td>женат / замужем</td>\n",
       "      <td>0</td>\n",
       "      <td>M</td>\n",
       "      <td>компаньон</td>\n",
       "      <td>0</td>\n",
       "      <td>145017.937533</td>\n",
       "      <td>покупка жилой недвижимости</td>\n",
       "    </tr>\n",
       "    <tr>\n",
       "      <th>21404</th>\n",
       "      <td>20</td>\n",
       "      <td>494.788448</td>\n",
       "      <td>52</td>\n",
       "      <td>среднее</td>\n",
       "      <td>1</td>\n",
       "      <td>женат / замужем</td>\n",
       "      <td>0</td>\n",
       "      <td>M</td>\n",
       "      <td>компаньон</td>\n",
       "      <td>0</td>\n",
       "      <td>156629.683642</td>\n",
       "      <td>операции со своей недвижимостью</td>\n",
       "    </tr>\n",
       "    <tr>\n",
       "      <th>21491</th>\n",
       "      <td>20</td>\n",
       "      <td>173.954460</td>\n",
       "      <td>27</td>\n",
       "      <td>среднее</td>\n",
       "      <td>1</td>\n",
       "      <td>женат / замужем</td>\n",
       "      <td>0</td>\n",
       "      <td>F</td>\n",
       "      <td>сотрудник</td>\n",
       "      <td>0</td>\n",
       "      <td>155520.899688</td>\n",
       "      <td>на покупку подержанного автомобиля</td>\n",
       "    </tr>\n",
       "  </tbody>\n",
       "</table>\n",
       "<p>76 rows × 12 columns</p>\n",
       "</div>"
      ],
      "text/plain": [
       "       children  days_employed  dob_years education  education_id  \\\n",
       "606          20     880.221113         21   среднее             1   \n",
       "720          20     855.595512         44   среднее             1   \n",
       "1074         20    3310.411598         56   среднее             1   \n",
       "2510         20    2714.161249         59    высшее             0   \n",
       "2941         20    2161.591519          0   среднее             1   \n",
       "...         ...            ...        ...       ...           ...   \n",
       "21008        20    1240.257910         40   среднее             1   \n",
       "21325        20     601.174883         37   среднее             1   \n",
       "21390        20    2194.220567         53   среднее             1   \n",
       "21404        20     494.788448         52   среднее             1   \n",
       "21491        20     173.954460         27   среднее             1   \n",
       "\n",
       "         family_status  family_status_id gender income_type  debt  \\\n",
       "606    женат / замужем                 0      M   компаньон     0   \n",
       "720    женат / замужем                 0      F   компаньон     0   \n",
       "1074   женат / замужем                 0      F   сотрудник     1   \n",
       "2510    вдовец / вдова                 2      F   сотрудник     0   \n",
       "2941   женат / замужем                 0      F   сотрудник     0   \n",
       "...                ...               ...    ...         ...   ...   \n",
       "21008  женат / замужем                 0      F   сотрудник     1   \n",
       "21325  женат / замужем                 0      F   компаньон     0   \n",
       "21390  женат / замужем                 0      M   компаньон     0   \n",
       "21404  женат / замужем                 0      M   компаньон     0   \n",
       "21491  женат / замужем                 0      F   сотрудник     0   \n",
       "\n",
       "        total_income                                purpose  \n",
       "606    145334.865002                          покупка жилья  \n",
       "720    112998.738649                   покупка недвижимости  \n",
       "1074   229518.537004                  получение образования  \n",
       "2510   264474.835577  операции с коммерческой недвижимостью  \n",
       "2941   199739.941398                  на покупку автомобиля  \n",
       "...              ...                                    ...  \n",
       "21008  133524.010303                        свой автомобиль  \n",
       "21325  102986.065978                 профильное образование  \n",
       "21390  145017.937533             покупка жилой недвижимости  \n",
       "21404  156629.683642        операции со своей недвижимостью  \n",
       "21491  155520.899688     на покупку подержанного автомобиля  \n",
       "\n",
       "[76 rows x 12 columns]"
      ]
     },
     "execution_count": 20,
     "metadata": {},
     "output_type": "execute_result"
    }
   ],
   "source": [
    "data[data['children'] == 20] #посмортим строки с 20 детьми"
   ]
  },
  {
   "cell_type": "code",
   "execution_count": 21,
   "id": "22d17dc8",
   "metadata": {
    "scrolled": false
   },
   "outputs": [
    {
     "data": {
      "text/html": [
       "<div>\n",
       "<style scoped>\n",
       "    .dataframe tbody tr th:only-of-type {\n",
       "        vertical-align: middle;\n",
       "    }\n",
       "\n",
       "    .dataframe tbody tr th {\n",
       "        vertical-align: top;\n",
       "    }\n",
       "\n",
       "    .dataframe thead th {\n",
       "        text-align: right;\n",
       "    }\n",
       "</style>\n",
       "<table border=\"1\" class=\"dataframe\">\n",
       "  <thead>\n",
       "    <tr style=\"text-align: right;\">\n",
       "      <th></th>\n",
       "      <th>children</th>\n",
       "      <th>days_employed</th>\n",
       "      <th>dob_years</th>\n",
       "      <th>education</th>\n",
       "      <th>education_id</th>\n",
       "      <th>family_status</th>\n",
       "      <th>family_status_id</th>\n",
       "      <th>gender</th>\n",
       "      <th>income_type</th>\n",
       "      <th>debt</th>\n",
       "      <th>total_income</th>\n",
       "      <th>purpose</th>\n",
       "    </tr>\n",
       "  </thead>\n",
       "  <tbody>\n",
       "    <tr>\n",
       "      <th>291</th>\n",
       "      <td>-1</td>\n",
       "      <td>4417.703588</td>\n",
       "      <td>46</td>\n",
       "      <td>среднее</td>\n",
       "      <td>1</td>\n",
       "      <td>гражданский брак</td>\n",
       "      <td>1</td>\n",
       "      <td>F</td>\n",
       "      <td>сотрудник</td>\n",
       "      <td>0</td>\n",
       "      <td>102816.346412</td>\n",
       "      <td>профильное образование</td>\n",
       "    </tr>\n",
       "    <tr>\n",
       "      <th>705</th>\n",
       "      <td>-1</td>\n",
       "      <td>902.084528</td>\n",
       "      <td>50</td>\n",
       "      <td>среднее</td>\n",
       "      <td>1</td>\n",
       "      <td>женат / замужем</td>\n",
       "      <td>0</td>\n",
       "      <td>F</td>\n",
       "      <td>госслужащий</td>\n",
       "      <td>0</td>\n",
       "      <td>137882.899271</td>\n",
       "      <td>приобретение автомобиля</td>\n",
       "    </tr>\n",
       "    <tr>\n",
       "      <th>742</th>\n",
       "      <td>-1</td>\n",
       "      <td>3174.456205</td>\n",
       "      <td>57</td>\n",
       "      <td>среднее</td>\n",
       "      <td>1</td>\n",
       "      <td>женат / замужем</td>\n",
       "      <td>0</td>\n",
       "      <td>F</td>\n",
       "      <td>сотрудник</td>\n",
       "      <td>0</td>\n",
       "      <td>64268.044444</td>\n",
       "      <td>дополнительное образование</td>\n",
       "    </tr>\n",
       "    <tr>\n",
       "      <th>800</th>\n",
       "      <td>-1</td>\n",
       "      <td>349987.852217</td>\n",
       "      <td>54</td>\n",
       "      <td>среднее</td>\n",
       "      <td>1</td>\n",
       "      <td>Не женат / не замужем</td>\n",
       "      <td>4</td>\n",
       "      <td>F</td>\n",
       "      <td>пенсионер</td>\n",
       "      <td>0</td>\n",
       "      <td>86293.724153</td>\n",
       "      <td>дополнительное образование</td>\n",
       "    </tr>\n",
       "    <tr>\n",
       "      <th>941</th>\n",
       "      <td>-1</td>\n",
       "      <td>2194.220567</td>\n",
       "      <td>57</td>\n",
       "      <td>Среднее</td>\n",
       "      <td>1</td>\n",
       "      <td>женат / замужем</td>\n",
       "      <td>0</td>\n",
       "      <td>F</td>\n",
       "      <td>пенсионер</td>\n",
       "      <td>0</td>\n",
       "      <td>145017.937533</td>\n",
       "      <td>на покупку своего автомобиля</td>\n",
       "    </tr>\n",
       "    <tr>\n",
       "      <th>1363</th>\n",
       "      <td>-1</td>\n",
       "      <td>1195.264956</td>\n",
       "      <td>55</td>\n",
       "      <td>СРЕДНЕЕ</td>\n",
       "      <td>1</td>\n",
       "      <td>женат / замужем</td>\n",
       "      <td>0</td>\n",
       "      <td>F</td>\n",
       "      <td>компаньон</td>\n",
       "      <td>0</td>\n",
       "      <td>69550.699692</td>\n",
       "      <td>профильное образование</td>\n",
       "    </tr>\n",
       "    <tr>\n",
       "      <th>1929</th>\n",
       "      <td>-1</td>\n",
       "      <td>1461.303336</td>\n",
       "      <td>38</td>\n",
       "      <td>среднее</td>\n",
       "      <td>1</td>\n",
       "      <td>Не женат / не замужем</td>\n",
       "      <td>4</td>\n",
       "      <td>M</td>\n",
       "      <td>сотрудник</td>\n",
       "      <td>0</td>\n",
       "      <td>109121.569013</td>\n",
       "      <td>покупка жилья</td>\n",
       "    </tr>\n",
       "    <tr>\n",
       "      <th>2073</th>\n",
       "      <td>-1</td>\n",
       "      <td>2539.761232</td>\n",
       "      <td>42</td>\n",
       "      <td>среднее</td>\n",
       "      <td>1</td>\n",
       "      <td>в разводе</td>\n",
       "      <td>3</td>\n",
       "      <td>F</td>\n",
       "      <td>компаньон</td>\n",
       "      <td>0</td>\n",
       "      <td>162638.609373</td>\n",
       "      <td>покупка жилья</td>\n",
       "    </tr>\n",
       "    <tr>\n",
       "      <th>3814</th>\n",
       "      <td>-1</td>\n",
       "      <td>3045.290443</td>\n",
       "      <td>26</td>\n",
       "      <td>Среднее</td>\n",
       "      <td>1</td>\n",
       "      <td>гражданский брак</td>\n",
       "      <td>1</td>\n",
       "      <td>F</td>\n",
       "      <td>госслужащий</td>\n",
       "      <td>0</td>\n",
       "      <td>131892.785435</td>\n",
       "      <td>на проведение свадьбы</td>\n",
       "    </tr>\n",
       "    <tr>\n",
       "      <th>4201</th>\n",
       "      <td>-1</td>\n",
       "      <td>901.101738</td>\n",
       "      <td>41</td>\n",
       "      <td>среднее</td>\n",
       "      <td>1</td>\n",
       "      <td>женат / замужем</td>\n",
       "      <td>0</td>\n",
       "      <td>F</td>\n",
       "      <td>госслужащий</td>\n",
       "      <td>0</td>\n",
       "      <td>226375.766751</td>\n",
       "      <td>операции со своей недвижимостью</td>\n",
       "    </tr>\n",
       "    <tr>\n",
       "      <th>4402</th>\n",
       "      <td>-1</td>\n",
       "      <td>398001.302888</td>\n",
       "      <td>64</td>\n",
       "      <td>СРЕДНЕЕ</td>\n",
       "      <td>1</td>\n",
       "      <td>женат / замужем</td>\n",
       "      <td>0</td>\n",
       "      <td>F</td>\n",
       "      <td>пенсионер</td>\n",
       "      <td>0</td>\n",
       "      <td>163264.062064</td>\n",
       "      <td>покупка недвижимости</td>\n",
       "    </tr>\n",
       "    <tr>\n",
       "      <th>4542</th>\n",
       "      <td>-1</td>\n",
       "      <td>1811.899756</td>\n",
       "      <td>32</td>\n",
       "      <td>среднее</td>\n",
       "      <td>1</td>\n",
       "      <td>женат / замужем</td>\n",
       "      <td>0</td>\n",
       "      <td>F</td>\n",
       "      <td>сотрудник</td>\n",
       "      <td>0</td>\n",
       "      <td>160544.718446</td>\n",
       "      <td>образование</td>\n",
       "    </tr>\n",
       "    <tr>\n",
       "      <th>5272</th>\n",
       "      <td>-1</td>\n",
       "      <td>1143.485347</td>\n",
       "      <td>46</td>\n",
       "      <td>среднее</td>\n",
       "      <td>1</td>\n",
       "      <td>вдовец / вдова</td>\n",
       "      <td>2</td>\n",
       "      <td>F</td>\n",
       "      <td>сотрудник</td>\n",
       "      <td>0</td>\n",
       "      <td>278708.018820</td>\n",
       "      <td>покупка недвижимости</td>\n",
       "    </tr>\n",
       "    <tr>\n",
       "      <th>6013</th>\n",
       "      <td>-1</td>\n",
       "      <td>1361.258696</td>\n",
       "      <td>46</td>\n",
       "      <td>высшее</td>\n",
       "      <td>0</td>\n",
       "      <td>женат / замужем</td>\n",
       "      <td>0</td>\n",
       "      <td>F</td>\n",
       "      <td>сотрудник</td>\n",
       "      <td>0</td>\n",
       "      <td>143008.454914</td>\n",
       "      <td>строительство собственной недвижимости</td>\n",
       "    </tr>\n",
       "    <tr>\n",
       "      <th>6385</th>\n",
       "      <td>-1</td>\n",
       "      <td>370215.476226</td>\n",
       "      <td>48</td>\n",
       "      <td>среднее</td>\n",
       "      <td>1</td>\n",
       "      <td>вдовец / вдова</td>\n",
       "      <td>2</td>\n",
       "      <td>F</td>\n",
       "      <td>пенсионер</td>\n",
       "      <td>0</td>\n",
       "      <td>36052.447435</td>\n",
       "      <td>образование</td>\n",
       "    </tr>\n",
       "    <tr>\n",
       "      <th>7190</th>\n",
       "      <td>-1</td>\n",
       "      <td>5928.202068</td>\n",
       "      <td>34</td>\n",
       "      <td>СРЕДНЕЕ</td>\n",
       "      <td>1</td>\n",
       "      <td>женат / замужем</td>\n",
       "      <td>0</td>\n",
       "      <td>M</td>\n",
       "      <td>сотрудник</td>\n",
       "      <td>0</td>\n",
       "      <td>184315.121979</td>\n",
       "      <td>приобретение автомобиля</td>\n",
       "    </tr>\n",
       "    <tr>\n",
       "      <th>7278</th>\n",
       "      <td>-1</td>\n",
       "      <td>526.318451</td>\n",
       "      <td>51</td>\n",
       "      <td>среднее</td>\n",
       "      <td>1</td>\n",
       "      <td>женат / замужем</td>\n",
       "      <td>0</td>\n",
       "      <td>F</td>\n",
       "      <td>сотрудник</td>\n",
       "      <td>0</td>\n",
       "      <td>146928.769439</td>\n",
       "      <td>операции с коммерческой недвижимостью</td>\n",
       "    </tr>\n",
       "    <tr>\n",
       "      <th>7615</th>\n",
       "      <td>-1</td>\n",
       "      <td>2194.220567</td>\n",
       "      <td>35</td>\n",
       "      <td>среднее</td>\n",
       "      <td>1</td>\n",
       "      <td>женат / замужем</td>\n",
       "      <td>0</td>\n",
       "      <td>M</td>\n",
       "      <td>сотрудник</td>\n",
       "      <td>0</td>\n",
       "      <td>145017.937533</td>\n",
       "      <td>образование</td>\n",
       "    </tr>\n",
       "    <tr>\n",
       "      <th>7685</th>\n",
       "      <td>-1</td>\n",
       "      <td>3237.360455</td>\n",
       "      <td>53</td>\n",
       "      <td>среднее</td>\n",
       "      <td>1</td>\n",
       "      <td>вдовец / вдова</td>\n",
       "      <td>2</td>\n",
       "      <td>F</td>\n",
       "      <td>сотрудник</td>\n",
       "      <td>0</td>\n",
       "      <td>159676.174958</td>\n",
       "      <td>строительство жилой недвижимости</td>\n",
       "    </tr>\n",
       "    <tr>\n",
       "      <th>8229</th>\n",
       "      <td>-1</td>\n",
       "      <td>1803.441074</td>\n",
       "      <td>54</td>\n",
       "      <td>высшее</td>\n",
       "      <td>0</td>\n",
       "      <td>женат / замужем</td>\n",
       "      <td>0</td>\n",
       "      <td>F</td>\n",
       "      <td>компаньон</td>\n",
       "      <td>0</td>\n",
       "      <td>138809.082930</td>\n",
       "      <td>покупка недвижимости</td>\n",
       "    </tr>\n",
       "    <tr>\n",
       "      <th>8251</th>\n",
       "      <td>-1</td>\n",
       "      <td>3113.998449</td>\n",
       "      <td>31</td>\n",
       "      <td>среднее</td>\n",
       "      <td>1</td>\n",
       "      <td>гражданский брак</td>\n",
       "      <td>1</td>\n",
       "      <td>F</td>\n",
       "      <td>сотрудник</td>\n",
       "      <td>0</td>\n",
       "      <td>54412.056005</td>\n",
       "      <td>свой автомобиль</td>\n",
       "    </tr>\n",
       "    <tr>\n",
       "      <th>8561</th>\n",
       "      <td>-1</td>\n",
       "      <td>195.479496</td>\n",
       "      <td>31</td>\n",
       "      <td>среднее</td>\n",
       "      <td>1</td>\n",
       "      <td>женат / замужем</td>\n",
       "      <td>0</td>\n",
       "      <td>F</td>\n",
       "      <td>сотрудник</td>\n",
       "      <td>0</td>\n",
       "      <td>145577.881522</td>\n",
       "      <td>ремонт жилью</td>\n",
       "    </tr>\n",
       "    <tr>\n",
       "      <th>9565</th>\n",
       "      <td>-1</td>\n",
       "      <td>2896.629686</td>\n",
       "      <td>34</td>\n",
       "      <td>высшее</td>\n",
       "      <td>0</td>\n",
       "      <td>женат / замужем</td>\n",
       "      <td>0</td>\n",
       "      <td>M</td>\n",
       "      <td>сотрудник</td>\n",
       "      <td>0</td>\n",
       "      <td>126754.656529</td>\n",
       "      <td>операции с недвижимостью</td>\n",
       "    </tr>\n",
       "    <tr>\n",
       "      <th>9574</th>\n",
       "      <td>-1</td>\n",
       "      <td>2710.419901</td>\n",
       "      <td>28</td>\n",
       "      <td>высшее</td>\n",
       "      <td>0</td>\n",
       "      <td>женат / замужем</td>\n",
       "      <td>0</td>\n",
       "      <td>M</td>\n",
       "      <td>госслужащий</td>\n",
       "      <td>0</td>\n",
       "      <td>303137.161001</td>\n",
       "      <td>получение дополнительного образования</td>\n",
       "    </tr>\n",
       "    <tr>\n",
       "      <th>10177</th>\n",
       "      <td>-1</td>\n",
       "      <td>1743.604011</td>\n",
       "      <td>37</td>\n",
       "      <td>среднее</td>\n",
       "      <td>1</td>\n",
       "      <td>женат / замужем</td>\n",
       "      <td>0</td>\n",
       "      <td>M</td>\n",
       "      <td>сотрудник</td>\n",
       "      <td>0</td>\n",
       "      <td>310367.509001</td>\n",
       "      <td>получение образования</td>\n",
       "    </tr>\n",
       "    <tr>\n",
       "      <th>10365</th>\n",
       "      <td>-1</td>\n",
       "      <td>345774.125957</td>\n",
       "      <td>63</td>\n",
       "      <td>ВЫСШЕЕ</td>\n",
       "      <td>0</td>\n",
       "      <td>вдовец / вдова</td>\n",
       "      <td>2</td>\n",
       "      <td>F</td>\n",
       "      <td>пенсионер</td>\n",
       "      <td>0</td>\n",
       "      <td>170762.751325</td>\n",
       "      <td>строительство жилой недвижимости</td>\n",
       "    </tr>\n",
       "    <tr>\n",
       "      <th>10918</th>\n",
       "      <td>-1</td>\n",
       "      <td>340499.039342</td>\n",
       "      <td>50</td>\n",
       "      <td>среднее</td>\n",
       "      <td>1</td>\n",
       "      <td>женат / замужем</td>\n",
       "      <td>0</td>\n",
       "      <td>M</td>\n",
       "      <td>пенсионер</td>\n",
       "      <td>0</td>\n",
       "      <td>170762.773162</td>\n",
       "      <td>покупка своего жилья</td>\n",
       "    </tr>\n",
       "    <tr>\n",
       "      <th>11109</th>\n",
       "      <td>-1</td>\n",
       "      <td>3438.463024</td>\n",
       "      <td>59</td>\n",
       "      <td>среднее</td>\n",
       "      <td>1</td>\n",
       "      <td>женат / замужем</td>\n",
       "      <td>0</td>\n",
       "      <td>F</td>\n",
       "      <td>сотрудник</td>\n",
       "      <td>0</td>\n",
       "      <td>219874.012345</td>\n",
       "      <td>операции с жильем</td>\n",
       "    </tr>\n",
       "    <tr>\n",
       "      <th>11268</th>\n",
       "      <td>-1</td>\n",
       "      <td>1048.782203</td>\n",
       "      <td>30</td>\n",
       "      <td>высшее</td>\n",
       "      <td>0</td>\n",
       "      <td>гражданский брак</td>\n",
       "      <td>1</td>\n",
       "      <td>F</td>\n",
       "      <td>компаньон</td>\n",
       "      <td>0</td>\n",
       "      <td>321603.700207</td>\n",
       "      <td>на покупку автомобиля</td>\n",
       "    </tr>\n",
       "    <tr>\n",
       "      <th>11617</th>\n",
       "      <td>-1</td>\n",
       "      <td>370.827130</td>\n",
       "      <td>27</td>\n",
       "      <td>среднее</td>\n",
       "      <td>1</td>\n",
       "      <td>женат / замужем</td>\n",
       "      <td>0</td>\n",
       "      <td>F</td>\n",
       "      <td>компаньон</td>\n",
       "      <td>0</td>\n",
       "      <td>164591.260338</td>\n",
       "      <td>покупка жилья для сдачи</td>\n",
       "    </tr>\n",
       "    <tr>\n",
       "      <th>12304</th>\n",
       "      <td>-1</td>\n",
       "      <td>8493.101252</td>\n",
       "      <td>61</td>\n",
       "      <td>неоконченное высшее</td>\n",
       "      <td>2</td>\n",
       "      <td>женат / замужем</td>\n",
       "      <td>0</td>\n",
       "      <td>M</td>\n",
       "      <td>сотрудник</td>\n",
       "      <td>0</td>\n",
       "      <td>315006.182056</td>\n",
       "      <td>недвижимость</td>\n",
       "    </tr>\n",
       "    <tr>\n",
       "      <th>13786</th>\n",
       "      <td>-1</td>\n",
       "      <td>2194.220567</td>\n",
       "      <td>42</td>\n",
       "      <td>среднее</td>\n",
       "      <td>1</td>\n",
       "      <td>Не женат / не замужем</td>\n",
       "      <td>4</td>\n",
       "      <td>M</td>\n",
       "      <td>компаньон</td>\n",
       "      <td>0</td>\n",
       "      <td>145017.937533</td>\n",
       "      <td>автомобиль</td>\n",
       "    </tr>\n",
       "    <tr>\n",
       "      <th>14357</th>\n",
       "      <td>-1</td>\n",
       "      <td>268.337037</td>\n",
       "      <td>23</td>\n",
       "      <td>среднее</td>\n",
       "      <td>1</td>\n",
       "      <td>в разводе</td>\n",
       "      <td>3</td>\n",
       "      <td>F</td>\n",
       "      <td>компаньон</td>\n",
       "      <td>0</td>\n",
       "      <td>92257.579312</td>\n",
       "      <td>покупка жилой недвижимости</td>\n",
       "    </tr>\n",
       "    <tr>\n",
       "      <th>15147</th>\n",
       "      <td>-1</td>\n",
       "      <td>9851.184337</td>\n",
       "      <td>44</td>\n",
       "      <td>среднее</td>\n",
       "      <td>1</td>\n",
       "      <td>в разводе</td>\n",
       "      <td>3</td>\n",
       "      <td>F</td>\n",
       "      <td>сотрудник</td>\n",
       "      <td>0</td>\n",
       "      <td>110990.810581</td>\n",
       "      <td>свой автомобиль</td>\n",
       "    </tr>\n",
       "    <tr>\n",
       "      <th>15435</th>\n",
       "      <td>-1</td>\n",
       "      <td>3614.220232</td>\n",
       "      <td>40</td>\n",
       "      <td>высшее</td>\n",
       "      <td>0</td>\n",
       "      <td>гражданский брак</td>\n",
       "      <td>1</td>\n",
       "      <td>F</td>\n",
       "      <td>сотрудник</td>\n",
       "      <td>0</td>\n",
       "      <td>98127.537462</td>\n",
       "      <td>сыграть свадьбу</td>\n",
       "    </tr>\n",
       "    <tr>\n",
       "      <th>16129</th>\n",
       "      <td>-1</td>\n",
       "      <td>457.861760</td>\n",
       "      <td>33</td>\n",
       "      <td>среднее</td>\n",
       "      <td>1</td>\n",
       "      <td>женат / замужем</td>\n",
       "      <td>0</td>\n",
       "      <td>F</td>\n",
       "      <td>сотрудник</td>\n",
       "      <td>1</td>\n",
       "      <td>149641.079451</td>\n",
       "      <td>автомобиль</td>\n",
       "    </tr>\n",
       "    <tr>\n",
       "      <th>16265</th>\n",
       "      <td>-1</td>\n",
       "      <td>2802.218127</td>\n",
       "      <td>40</td>\n",
       "      <td>высшее</td>\n",
       "      <td>0</td>\n",
       "      <td>женат / замужем</td>\n",
       "      <td>0</td>\n",
       "      <td>M</td>\n",
       "      <td>сотрудник</td>\n",
       "      <td>0</td>\n",
       "      <td>111984.472021</td>\n",
       "      <td>покупка жилья</td>\n",
       "    </tr>\n",
       "    <tr>\n",
       "      <th>17095</th>\n",
       "      <td>-1</td>\n",
       "      <td>2809.693200</td>\n",
       "      <td>34</td>\n",
       "      <td>среднее</td>\n",
       "      <td>1</td>\n",
       "      <td>женат / замужем</td>\n",
       "      <td>0</td>\n",
       "      <td>F</td>\n",
       "      <td>сотрудник</td>\n",
       "      <td>0</td>\n",
       "      <td>182543.890127</td>\n",
       "      <td>на покупку подержанного автомобиля</td>\n",
       "    </tr>\n",
       "    <tr>\n",
       "      <th>17429</th>\n",
       "      <td>-1</td>\n",
       "      <td>895.379738</td>\n",
       "      <td>37</td>\n",
       "      <td>среднее</td>\n",
       "      <td>1</td>\n",
       "      <td>женат / замужем</td>\n",
       "      <td>0</td>\n",
       "      <td>F</td>\n",
       "      <td>компаньон</td>\n",
       "      <td>0</td>\n",
       "      <td>214814.018780</td>\n",
       "      <td>жилье</td>\n",
       "    </tr>\n",
       "    <tr>\n",
       "      <th>17657</th>\n",
       "      <td>-1</td>\n",
       "      <td>4571.957475</td>\n",
       "      <td>41</td>\n",
       "      <td>среднее</td>\n",
       "      <td>1</td>\n",
       "      <td>женат / замужем</td>\n",
       "      <td>0</td>\n",
       "      <td>F</td>\n",
       "      <td>сотрудник</td>\n",
       "      <td>0</td>\n",
       "      <td>122105.415823</td>\n",
       "      <td>операции со своей недвижимостью</td>\n",
       "    </tr>\n",
       "    <tr>\n",
       "      <th>18219</th>\n",
       "      <td>-1</td>\n",
       "      <td>3575.215641</td>\n",
       "      <td>33</td>\n",
       "      <td>среднее</td>\n",
       "      <td>1</td>\n",
       "      <td>женат / замужем</td>\n",
       "      <td>0</td>\n",
       "      <td>F</td>\n",
       "      <td>сотрудник</td>\n",
       "      <td>0</td>\n",
       "      <td>128362.023879</td>\n",
       "      <td>высшее образование</td>\n",
       "    </tr>\n",
       "    <tr>\n",
       "      <th>19100</th>\n",
       "      <td>-1</td>\n",
       "      <td>617.246968</td>\n",
       "      <td>38</td>\n",
       "      <td>среднее</td>\n",
       "      <td>1</td>\n",
       "      <td>Не женат / не замужем</td>\n",
       "      <td>4</td>\n",
       "      <td>M</td>\n",
       "      <td>сотрудник</td>\n",
       "      <td>0</td>\n",
       "      <td>122205.497527</td>\n",
       "      <td>строительство жилой недвижимости</td>\n",
       "    </tr>\n",
       "    <tr>\n",
       "      <th>19366</th>\n",
       "      <td>-1</td>\n",
       "      <td>372.034749</td>\n",
       "      <td>43</td>\n",
       "      <td>СРЕДНЕЕ</td>\n",
       "      <td>1</td>\n",
       "      <td>женат / замужем</td>\n",
       "      <td>0</td>\n",
       "      <td>M</td>\n",
       "      <td>сотрудник</td>\n",
       "      <td>0</td>\n",
       "      <td>155588.766795</td>\n",
       "      <td>сделка с подержанным автомобилем</td>\n",
       "    </tr>\n",
       "    <tr>\n",
       "      <th>19417</th>\n",
       "      <td>-1</td>\n",
       "      <td>350340.760224</td>\n",
       "      <td>28</td>\n",
       "      <td>среднее</td>\n",
       "      <td>1</td>\n",
       "      <td>в разводе</td>\n",
       "      <td>3</td>\n",
       "      <td>F</td>\n",
       "      <td>пенсионер</td>\n",
       "      <td>0</td>\n",
       "      <td>52872.993654</td>\n",
       "      <td>автомобили</td>\n",
       "    </tr>\n",
       "    <tr>\n",
       "      <th>20393</th>\n",
       "      <td>-1</td>\n",
       "      <td>355157.107212</td>\n",
       "      <td>69</td>\n",
       "      <td>среднее</td>\n",
       "      <td>1</td>\n",
       "      <td>Не женат / не замужем</td>\n",
       "      <td>4</td>\n",
       "      <td>F</td>\n",
       "      <td>пенсионер</td>\n",
       "      <td>0</td>\n",
       "      <td>116521.045858</td>\n",
       "      <td>операции с недвижимостью</td>\n",
       "    </tr>\n",
       "    <tr>\n",
       "      <th>20717</th>\n",
       "      <td>-1</td>\n",
       "      <td>661.822321</td>\n",
       "      <td>32</td>\n",
       "      <td>высшее</td>\n",
       "      <td>0</td>\n",
       "      <td>женат / замужем</td>\n",
       "      <td>0</td>\n",
       "      <td>F</td>\n",
       "      <td>сотрудник</td>\n",
       "      <td>0</td>\n",
       "      <td>137405.384917</td>\n",
       "      <td>покупка жилой недвижимости</td>\n",
       "    </tr>\n",
       "    <tr>\n",
       "      <th>21140</th>\n",
       "      <td>-1</td>\n",
       "      <td>1422.668059</td>\n",
       "      <td>44</td>\n",
       "      <td>среднее</td>\n",
       "      <td>1</td>\n",
       "      <td>женат / замужем</td>\n",
       "      <td>0</td>\n",
       "      <td>F</td>\n",
       "      <td>компаньон</td>\n",
       "      <td>0</td>\n",
       "      <td>169562.091999</td>\n",
       "      <td>операции со своей недвижимостью</td>\n",
       "    </tr>\n",
       "  </tbody>\n",
       "</table>\n",
       "</div>"
      ],
      "text/plain": [
       "       children  days_employed  dob_years            education  education_id  \\\n",
       "291          -1    4417.703588         46              среднее             1   \n",
       "705          -1     902.084528         50              среднее             1   \n",
       "742          -1    3174.456205         57              среднее             1   \n",
       "800          -1  349987.852217         54              среднее             1   \n",
       "941          -1    2194.220567         57              Среднее             1   \n",
       "1363         -1    1195.264956         55              СРЕДНЕЕ             1   \n",
       "1929         -1    1461.303336         38              среднее             1   \n",
       "2073         -1    2539.761232         42              среднее             1   \n",
       "3814         -1    3045.290443         26              Среднее             1   \n",
       "4201         -1     901.101738         41              среднее             1   \n",
       "4402         -1  398001.302888         64              СРЕДНЕЕ             1   \n",
       "4542         -1    1811.899756         32              среднее             1   \n",
       "5272         -1    1143.485347         46              среднее             1   \n",
       "6013         -1    1361.258696         46               высшее             0   \n",
       "6385         -1  370215.476226         48              среднее             1   \n",
       "7190         -1    5928.202068         34              СРЕДНЕЕ             1   \n",
       "7278         -1     526.318451         51              среднее             1   \n",
       "7615         -1    2194.220567         35              среднее             1   \n",
       "7685         -1    3237.360455         53              среднее             1   \n",
       "8229         -1    1803.441074         54               высшее             0   \n",
       "8251         -1    3113.998449         31              среднее             1   \n",
       "8561         -1     195.479496         31              среднее             1   \n",
       "9565         -1    2896.629686         34               высшее             0   \n",
       "9574         -1    2710.419901         28               высшее             0   \n",
       "10177        -1    1743.604011         37              среднее             1   \n",
       "10365        -1  345774.125957         63               ВЫСШЕЕ             0   \n",
       "10918        -1  340499.039342         50              среднее             1   \n",
       "11109        -1    3438.463024         59              среднее             1   \n",
       "11268        -1    1048.782203         30               высшее             0   \n",
       "11617        -1     370.827130         27              среднее             1   \n",
       "12304        -1    8493.101252         61  неоконченное высшее             2   \n",
       "13786        -1    2194.220567         42              среднее             1   \n",
       "14357        -1     268.337037         23              среднее             1   \n",
       "15147        -1    9851.184337         44              среднее             1   \n",
       "15435        -1    3614.220232         40               высшее             0   \n",
       "16129        -1     457.861760         33              среднее             1   \n",
       "16265        -1    2802.218127         40               высшее             0   \n",
       "17095        -1    2809.693200         34              среднее             1   \n",
       "17429        -1     895.379738         37              среднее             1   \n",
       "17657        -1    4571.957475         41              среднее             1   \n",
       "18219        -1    3575.215641         33              среднее             1   \n",
       "19100        -1     617.246968         38              среднее             1   \n",
       "19366        -1     372.034749         43              СРЕДНЕЕ             1   \n",
       "19417        -1  350340.760224         28              среднее             1   \n",
       "20393        -1  355157.107212         69              среднее             1   \n",
       "20717        -1     661.822321         32               высшее             0   \n",
       "21140        -1    1422.668059         44              среднее             1   \n",
       "\n",
       "               family_status  family_status_id gender  income_type  debt  \\\n",
       "291         гражданский брак                 1      F    сотрудник     0   \n",
       "705          женат / замужем                 0      F  госслужащий     0   \n",
       "742          женат / замужем                 0      F    сотрудник     0   \n",
       "800    Не женат / не замужем                 4      F    пенсионер     0   \n",
       "941          женат / замужем                 0      F    пенсионер     0   \n",
       "1363         женат / замужем                 0      F    компаньон     0   \n",
       "1929   Не женат / не замужем                 4      M    сотрудник     0   \n",
       "2073               в разводе                 3      F    компаньон     0   \n",
       "3814        гражданский брак                 1      F  госслужащий     0   \n",
       "4201         женат / замужем                 0      F  госслужащий     0   \n",
       "4402         женат / замужем                 0      F    пенсионер     0   \n",
       "4542         женат / замужем                 0      F    сотрудник     0   \n",
       "5272          вдовец / вдова                 2      F    сотрудник     0   \n",
       "6013         женат / замужем                 0      F    сотрудник     0   \n",
       "6385          вдовец / вдова                 2      F    пенсионер     0   \n",
       "7190         женат / замужем                 0      M    сотрудник     0   \n",
       "7278         женат / замужем                 0      F    сотрудник     0   \n",
       "7615         женат / замужем                 0      M    сотрудник     0   \n",
       "7685          вдовец / вдова                 2      F    сотрудник     0   \n",
       "8229         женат / замужем                 0      F    компаньон     0   \n",
       "8251        гражданский брак                 1      F    сотрудник     0   \n",
       "8561         женат / замужем                 0      F    сотрудник     0   \n",
       "9565         женат / замужем                 0      M    сотрудник     0   \n",
       "9574         женат / замужем                 0      M  госслужащий     0   \n",
       "10177        женат / замужем                 0      M    сотрудник     0   \n",
       "10365         вдовец / вдова                 2      F    пенсионер     0   \n",
       "10918        женат / замужем                 0      M    пенсионер     0   \n",
       "11109        женат / замужем                 0      F    сотрудник     0   \n",
       "11268       гражданский брак                 1      F    компаньон     0   \n",
       "11617        женат / замужем                 0      F    компаньон     0   \n",
       "12304        женат / замужем                 0      M    сотрудник     0   \n",
       "13786  Не женат / не замужем                 4      M    компаньон     0   \n",
       "14357              в разводе                 3      F    компаньон     0   \n",
       "15147              в разводе                 3      F    сотрудник     0   \n",
       "15435       гражданский брак                 1      F    сотрудник     0   \n",
       "16129        женат / замужем                 0      F    сотрудник     1   \n",
       "16265        женат / замужем                 0      M    сотрудник     0   \n",
       "17095        женат / замужем                 0      F    сотрудник     0   \n",
       "17429        женат / замужем                 0      F    компаньон     0   \n",
       "17657        женат / замужем                 0      F    сотрудник     0   \n",
       "18219        женат / замужем                 0      F    сотрудник     0   \n",
       "19100  Не женат / не замужем                 4      M    сотрудник     0   \n",
       "19366        женат / замужем                 0      M    сотрудник     0   \n",
       "19417              в разводе                 3      F    пенсионер     0   \n",
       "20393  Не женат / не замужем                 4      F    пенсионер     0   \n",
       "20717        женат / замужем                 0      F    сотрудник     0   \n",
       "21140        женат / замужем                 0      F    компаньон     0   \n",
       "\n",
       "        total_income                                 purpose  \n",
       "291    102816.346412                  профильное образование  \n",
       "705    137882.899271                 приобретение автомобиля  \n",
       "742     64268.044444              дополнительное образование  \n",
       "800     86293.724153              дополнительное образование  \n",
       "941    145017.937533            на покупку своего автомобиля  \n",
       "1363    69550.699692                  профильное образование  \n",
       "1929   109121.569013                           покупка жилья  \n",
       "2073   162638.609373                           покупка жилья  \n",
       "3814   131892.785435                   на проведение свадьбы  \n",
       "4201   226375.766751         операции со своей недвижимостью  \n",
       "4402   163264.062064                    покупка недвижимости  \n",
       "4542   160544.718446                             образование  \n",
       "5272   278708.018820                    покупка недвижимости  \n",
       "6013   143008.454914  строительство собственной недвижимости  \n",
       "6385    36052.447435                             образование  \n",
       "7190   184315.121979                 приобретение автомобиля  \n",
       "7278   146928.769439   операции с коммерческой недвижимостью  \n",
       "7615   145017.937533                             образование  \n",
       "7685   159676.174958        строительство жилой недвижимости  \n",
       "8229   138809.082930                    покупка недвижимости  \n",
       "8251    54412.056005                         свой автомобиль  \n",
       "8561   145577.881522                            ремонт жилью  \n",
       "9565   126754.656529                операции с недвижимостью  \n",
       "9574   303137.161001   получение дополнительного образования  \n",
       "10177  310367.509001                   получение образования  \n",
       "10365  170762.751325        строительство жилой недвижимости  \n",
       "10918  170762.773162                    покупка своего жилья  \n",
       "11109  219874.012345                       операции с жильем  \n",
       "11268  321603.700207                   на покупку автомобиля  \n",
       "11617  164591.260338                 покупка жилья для сдачи  \n",
       "12304  315006.182056                            недвижимость  \n",
       "13786  145017.937533                              автомобиль  \n",
       "14357   92257.579312              покупка жилой недвижимости  \n",
       "15147  110990.810581                         свой автомобиль  \n",
       "15435   98127.537462                         сыграть свадьбу  \n",
       "16129  149641.079451                              автомобиль  \n",
       "16265  111984.472021                           покупка жилья  \n",
       "17095  182543.890127      на покупку подержанного автомобиля  \n",
       "17429  214814.018780                                   жилье  \n",
       "17657  122105.415823         операции со своей недвижимостью  \n",
       "18219  128362.023879                      высшее образование  \n",
       "19100  122205.497527        строительство жилой недвижимости  \n",
       "19366  155588.766795        сделка с подержанным автомобилем  \n",
       "19417   52872.993654                              автомобили  \n",
       "20393  116521.045858                операции с недвижимостью  \n",
       "20717  137405.384917              покупка жилой недвижимости  \n",
       "21140  169562.091999         операции со своей недвижимостью  "
      ]
     },
     "execution_count": 21,
     "metadata": {},
     "output_type": "execute_result"
    }
   ],
   "source": [
    "data[data['children'] == -1] #посмортим строки с -1 детьми"
   ]
  },
  {
   "cell_type": "markdown",
   "id": "d95d3fe1",
   "metadata": {},
   "source": [
    "Вероятно, -1 ребенок должен значить 1, а 20 детей - 2. Предположительно, это человеческий фактор - ошибки ввода данных.  \n",
    "Таких значений получается 76 + 47 = 123 из 21525 значений в таблице. Поскольку достоверно сказать про количество детей нельзя в этих случаях - удалим эти данные. Они не должны существенно повлиять на результат."
   ]
  },
  {
   "cell_type": "code",
   "execution_count": 22,
   "id": "d95415d3",
   "metadata": {},
   "outputs": [
    {
     "name": "stdout",
     "output_type": "stream",
     "text": [
      "<class 'pandas.core.frame.DataFrame'>\n",
      "Int64Index: 21402 entries, 0 to 21524\n",
      "Data columns (total 12 columns):\n",
      " #   Column            Non-Null Count  Dtype  \n",
      "---  ------            --------------  -----  \n",
      " 0   children          21402 non-null  int64  \n",
      " 1   days_employed     21402 non-null  float64\n",
      " 2   dob_years         21402 non-null  int64  \n",
      " 3   education         21402 non-null  object \n",
      " 4   education_id      21402 non-null  int64  \n",
      " 5   family_status     21402 non-null  object \n",
      " 6   family_status_id  21402 non-null  int64  \n",
      " 7   gender            21402 non-null  object \n",
      " 8   income_type       21402 non-null  object \n",
      " 9   debt              21402 non-null  int64  \n",
      " 10  total_income      21402 non-null  float64\n",
      " 11  purpose           21402 non-null  object \n",
      "dtypes: float64(2), int64(5), object(5)\n",
      "memory usage: 2.1+ MB\n"
     ]
    }
   ],
   "source": [
    "data = data[(data['children'] != -1) & (data['children'] != 20)] #удаляем\n",
    "data.info()"
   ]
  },
  {
   "cell_type": "markdown",
   "id": "fe101cf2",
   "metadata": {},
   "source": [
    "#### Шаг 2.2.3 Возраст."
   ]
  },
  {
   "cell_type": "code",
   "execution_count": 23,
   "id": "b30a9cba",
   "metadata": {},
   "outputs": [
    {
     "data": {
      "text/plain": [
       "75      1\n",
       "74      6\n",
       "73      8\n",
       "19     14\n",
       "72     33\n",
       "20     51\n",
       "71     58\n",
       "70     65\n",
       "69     83\n",
       "68     99\n",
       "0     100\n",
       "21    110\n",
       "67    167\n",
       "22    183\n",
       "66    183\n",
       "65    194\n",
       "23    252\n",
       "64    263\n",
       "24    263\n",
       "63    268\n",
       "62    351\n",
       "61    353\n",
       "25    356\n",
       "60    376\n",
       "26    406\n",
       "55    441\n",
       "59    441\n",
       "51    446\n",
       "57    457\n",
       "53    457\n",
       "58    461\n",
       "46    469\n",
       "54    476\n",
       "47    480\n",
       "56    482\n",
       "52    483\n",
       "27    490\n",
       "45    494\n",
       "28    501\n",
       "49    505\n",
       "32    506\n",
       "50    509\n",
       "43    510\n",
       "37    531\n",
       "30    536\n",
       "48    536\n",
       "44    543\n",
       "29    543\n",
       "36    553\n",
       "31    556\n",
       "39    572\n",
       "33    577\n",
       "42    592\n",
       "38    595\n",
       "34    597\n",
       "41    603\n",
       "40    603\n",
       "35    614\n",
       "Name: dob_years, dtype: int64"
      ]
     },
     "execution_count": 23,
     "metadata": {},
     "output_type": "execute_result"
    }
   ],
   "source": [
    "data['dob_years'].value_counts().sort_values() #проверим значения в столбце"
   ]
  },
  {
   "cell_type": "code",
   "execution_count": 24,
   "id": "ed13a06c",
   "metadata": {},
   "outputs": [
    {
     "data": {
      "text/html": [
       "<div>\n",
       "<style scoped>\n",
       "    .dataframe tbody tr th:only-of-type {\n",
       "        vertical-align: middle;\n",
       "    }\n",
       "\n",
       "    .dataframe tbody tr th {\n",
       "        vertical-align: top;\n",
       "    }\n",
       "\n",
       "    .dataframe thead th {\n",
       "        text-align: right;\n",
       "    }\n",
       "</style>\n",
       "<table border=\"1\" class=\"dataframe\">\n",
       "  <thead>\n",
       "    <tr style=\"text-align: right;\">\n",
       "      <th></th>\n",
       "      <th>children</th>\n",
       "      <th>days_employed</th>\n",
       "      <th>dob_years</th>\n",
       "      <th>education_id</th>\n",
       "      <th>family_status_id</th>\n",
       "      <th>debt</th>\n",
       "      <th>total_income</th>\n",
       "    </tr>\n",
       "  </thead>\n",
       "  <tbody>\n",
       "    <tr>\n",
       "      <th>count</th>\n",
       "      <td>21402.000000</td>\n",
       "      <td>21402.000000</td>\n",
       "      <td>21402.000000</td>\n",
       "      <td>21402.000000</td>\n",
       "      <td>21402.000000</td>\n",
       "      <td>21402.000000</td>\n",
       "      <td>2.140200e+04</td>\n",
       "    </tr>\n",
       "    <tr>\n",
       "      <th>mean</th>\n",
       "      <td>0.473180</td>\n",
       "      <td>60478.305230</td>\n",
       "      <td>43.300206</td>\n",
       "      <td>0.817120</td>\n",
       "      <td>0.973133</td>\n",
       "      <td>0.080927</td>\n",
       "      <td>1.651829e+05</td>\n",
       "    </tr>\n",
       "    <tr>\n",
       "      <th>std</th>\n",
       "      <td>0.751837</td>\n",
       "      <td>133355.117133</td>\n",
       "      <td>12.579055</td>\n",
       "      <td>0.548741</td>\n",
       "      <td>1.420536</td>\n",
       "      <td>0.272729</td>\n",
       "      <td>9.799192e+04</td>\n",
       "    </tr>\n",
       "    <tr>\n",
       "      <th>min</th>\n",
       "      <td>0.000000</td>\n",
       "      <td>24.141633</td>\n",
       "      <td>0.000000</td>\n",
       "      <td>0.000000</td>\n",
       "      <td>0.000000</td>\n",
       "      <td>0.000000</td>\n",
       "      <td>2.066726e+04</td>\n",
       "    </tr>\n",
       "    <tr>\n",
       "      <th>25%</th>\n",
       "      <td>0.000000</td>\n",
       "      <td>1027.540529</td>\n",
       "      <td>33.000000</td>\n",
       "      <td>1.000000</td>\n",
       "      <td>0.000000</td>\n",
       "      <td>0.000000</td>\n",
       "      <td>1.077163e+05</td>\n",
       "    </tr>\n",
       "    <tr>\n",
       "      <th>50%</th>\n",
       "      <td>0.000000</td>\n",
       "      <td>2194.220567</td>\n",
       "      <td>42.000000</td>\n",
       "      <td>1.000000</td>\n",
       "      <td>0.000000</td>\n",
       "      <td>0.000000</td>\n",
       "      <td>1.450179e+05</td>\n",
       "    </tr>\n",
       "    <tr>\n",
       "      <th>75%</th>\n",
       "      <td>1.000000</td>\n",
       "      <td>4792.258983</td>\n",
       "      <td>53.000000</td>\n",
       "      <td>1.000000</td>\n",
       "      <td>1.000000</td>\n",
       "      <td>0.000000</td>\n",
       "      <td>1.955726e+05</td>\n",
       "    </tr>\n",
       "    <tr>\n",
       "      <th>max</th>\n",
       "      <td>5.000000</td>\n",
       "      <td>401755.400475</td>\n",
       "      <td>75.000000</td>\n",
       "      <td>4.000000</td>\n",
       "      <td>4.000000</td>\n",
       "      <td>1.000000</td>\n",
       "      <td>2.265604e+06</td>\n",
       "    </tr>\n",
       "  </tbody>\n",
       "</table>\n",
       "</div>"
      ],
      "text/plain": [
       "           children  days_employed     dob_years  education_id  \\\n",
       "count  21402.000000   21402.000000  21402.000000  21402.000000   \n",
       "mean       0.473180   60478.305230     43.300206      0.817120   \n",
       "std        0.751837  133355.117133     12.579055      0.548741   \n",
       "min        0.000000      24.141633      0.000000      0.000000   \n",
       "25%        0.000000    1027.540529     33.000000      1.000000   \n",
       "50%        0.000000    2194.220567     42.000000      1.000000   \n",
       "75%        1.000000    4792.258983     53.000000      1.000000   \n",
       "max        5.000000  401755.400475     75.000000      4.000000   \n",
       "\n",
       "       family_status_id          debt  total_income  \n",
       "count      21402.000000  21402.000000  2.140200e+04  \n",
       "mean           0.973133      0.080927  1.651829e+05  \n",
       "std            1.420536      0.272729  9.799192e+04  \n",
       "min            0.000000      0.000000  2.066726e+04  \n",
       "25%            0.000000      0.000000  1.077163e+05  \n",
       "50%            0.000000      0.000000  1.450179e+05  \n",
       "75%            1.000000      0.000000  1.955726e+05  \n",
       "max            4.000000      1.000000  2.265604e+06  "
      ]
     },
     "execution_count": 24,
     "metadata": {},
     "output_type": "execute_result"
    }
   ],
   "source": [
    "data.describe()"
   ]
  },
  {
   "cell_type": "code",
   "execution_count": 25,
   "id": "27d8494b",
   "metadata": {},
   "outputs": [
    {
     "data": {
      "text/html": [
       "<div>\n",
       "<style scoped>\n",
       "    .dataframe tbody tr th:only-of-type {\n",
       "        vertical-align: middle;\n",
       "    }\n",
       "\n",
       "    .dataframe tbody tr th {\n",
       "        vertical-align: top;\n",
       "    }\n",
       "\n",
       "    .dataframe thead th {\n",
       "        text-align: right;\n",
       "    }\n",
       "</style>\n",
       "<table border=\"1\" class=\"dataframe\">\n",
       "  <thead>\n",
       "    <tr style=\"text-align: right;\">\n",
       "      <th></th>\n",
       "      <th>children</th>\n",
       "      <th>days_employed</th>\n",
       "      <th>dob_years</th>\n",
       "      <th>education</th>\n",
       "      <th>education_id</th>\n",
       "      <th>family_status</th>\n",
       "      <th>family_status_id</th>\n",
       "      <th>gender</th>\n",
       "      <th>income_type</th>\n",
       "      <th>debt</th>\n",
       "      <th>total_income</th>\n",
       "      <th>purpose</th>\n",
       "    </tr>\n",
       "  </thead>\n",
       "  <tbody>\n",
       "    <tr>\n",
       "      <th>99</th>\n",
       "      <td>0</td>\n",
       "      <td>346541.618895</td>\n",
       "      <td>0</td>\n",
       "      <td>Среднее</td>\n",
       "      <td>1</td>\n",
       "      <td>женат / замужем</td>\n",
       "      <td>0</td>\n",
       "      <td>F</td>\n",
       "      <td>пенсионер</td>\n",
       "      <td>0</td>\n",
       "      <td>71291.522491</td>\n",
       "      <td>автомобиль</td>\n",
       "    </tr>\n",
       "    <tr>\n",
       "      <th>149</th>\n",
       "      <td>0</td>\n",
       "      <td>2664.273168</td>\n",
       "      <td>0</td>\n",
       "      <td>среднее</td>\n",
       "      <td>1</td>\n",
       "      <td>в разводе</td>\n",
       "      <td>3</td>\n",
       "      <td>F</td>\n",
       "      <td>сотрудник</td>\n",
       "      <td>0</td>\n",
       "      <td>70176.435951</td>\n",
       "      <td>операции с жильем</td>\n",
       "    </tr>\n",
       "    <tr>\n",
       "      <th>270</th>\n",
       "      <td>3</td>\n",
       "      <td>1872.663186</td>\n",
       "      <td>0</td>\n",
       "      <td>среднее</td>\n",
       "      <td>1</td>\n",
       "      <td>женат / замужем</td>\n",
       "      <td>0</td>\n",
       "      <td>F</td>\n",
       "      <td>сотрудник</td>\n",
       "      <td>0</td>\n",
       "      <td>102166.458894</td>\n",
       "      <td>ремонт жилью</td>\n",
       "    </tr>\n",
       "    <tr>\n",
       "      <th>578</th>\n",
       "      <td>0</td>\n",
       "      <td>397856.565013</td>\n",
       "      <td>0</td>\n",
       "      <td>среднее</td>\n",
       "      <td>1</td>\n",
       "      <td>женат / замужем</td>\n",
       "      <td>0</td>\n",
       "      <td>F</td>\n",
       "      <td>пенсионер</td>\n",
       "      <td>0</td>\n",
       "      <td>97620.687042</td>\n",
       "      <td>строительство собственной недвижимости</td>\n",
       "    </tr>\n",
       "    <tr>\n",
       "      <th>1040</th>\n",
       "      <td>0</td>\n",
       "      <td>1158.029561</td>\n",
       "      <td>0</td>\n",
       "      <td>высшее</td>\n",
       "      <td>0</td>\n",
       "      <td>в разводе</td>\n",
       "      <td>3</td>\n",
       "      <td>F</td>\n",
       "      <td>компаньон</td>\n",
       "      <td>0</td>\n",
       "      <td>303994.134987</td>\n",
       "      <td>свой автомобиль</td>\n",
       "    </tr>\n",
       "    <tr>\n",
       "      <th>...</th>\n",
       "      <td>...</td>\n",
       "      <td>...</td>\n",
       "      <td>...</td>\n",
       "      <td>...</td>\n",
       "      <td>...</td>\n",
       "      <td>...</td>\n",
       "      <td>...</td>\n",
       "      <td>...</td>\n",
       "      <td>...</td>\n",
       "      <td>...</td>\n",
       "      <td>...</td>\n",
       "      <td>...</td>\n",
       "    </tr>\n",
       "    <tr>\n",
       "      <th>19829</th>\n",
       "      <td>0</td>\n",
       "      <td>2194.220567</td>\n",
       "      <td>0</td>\n",
       "      <td>среднее</td>\n",
       "      <td>1</td>\n",
       "      <td>женат / замужем</td>\n",
       "      <td>0</td>\n",
       "      <td>F</td>\n",
       "      <td>сотрудник</td>\n",
       "      <td>0</td>\n",
       "      <td>145017.937533</td>\n",
       "      <td>жилье</td>\n",
       "    </tr>\n",
       "    <tr>\n",
       "      <th>20462</th>\n",
       "      <td>0</td>\n",
       "      <td>338734.868540</td>\n",
       "      <td>0</td>\n",
       "      <td>среднее</td>\n",
       "      <td>1</td>\n",
       "      <td>женат / замужем</td>\n",
       "      <td>0</td>\n",
       "      <td>F</td>\n",
       "      <td>пенсионер</td>\n",
       "      <td>0</td>\n",
       "      <td>259193.920299</td>\n",
       "      <td>покупка своего жилья</td>\n",
       "    </tr>\n",
       "    <tr>\n",
       "      <th>20577</th>\n",
       "      <td>0</td>\n",
       "      <td>331741.271455</td>\n",
       "      <td>0</td>\n",
       "      <td>среднее</td>\n",
       "      <td>1</td>\n",
       "      <td>Не женат / не замужем</td>\n",
       "      <td>4</td>\n",
       "      <td>F</td>\n",
       "      <td>пенсионер</td>\n",
       "      <td>0</td>\n",
       "      <td>129788.762899</td>\n",
       "      <td>недвижимость</td>\n",
       "    </tr>\n",
       "    <tr>\n",
       "      <th>21179</th>\n",
       "      <td>2</td>\n",
       "      <td>108.967042</td>\n",
       "      <td>0</td>\n",
       "      <td>высшее</td>\n",
       "      <td>0</td>\n",
       "      <td>женат / замужем</td>\n",
       "      <td>0</td>\n",
       "      <td>M</td>\n",
       "      <td>компаньон</td>\n",
       "      <td>0</td>\n",
       "      <td>240702.007382</td>\n",
       "      <td>строительство жилой недвижимости</td>\n",
       "    </tr>\n",
       "    <tr>\n",
       "      <th>21313</th>\n",
       "      <td>0</td>\n",
       "      <td>1268.487728</td>\n",
       "      <td>0</td>\n",
       "      <td>среднее</td>\n",
       "      <td>1</td>\n",
       "      <td>Не женат / не замужем</td>\n",
       "      <td>4</td>\n",
       "      <td>M</td>\n",
       "      <td>сотрудник</td>\n",
       "      <td>0</td>\n",
       "      <td>152419.184851</td>\n",
       "      <td>операции с жильем</td>\n",
       "    </tr>\n",
       "  </tbody>\n",
       "</table>\n",
       "<p>100 rows × 12 columns</p>\n",
       "</div>"
      ],
      "text/plain": [
       "       children  days_employed  dob_years education  education_id  \\\n",
       "99            0  346541.618895          0   Среднее             1   \n",
       "149           0    2664.273168          0   среднее             1   \n",
       "270           3    1872.663186          0   среднее             1   \n",
       "578           0  397856.565013          0   среднее             1   \n",
       "1040          0    1158.029561          0    высшее             0   \n",
       "...         ...            ...        ...       ...           ...   \n",
       "19829         0    2194.220567          0   среднее             1   \n",
       "20462         0  338734.868540          0   среднее             1   \n",
       "20577         0  331741.271455          0   среднее             1   \n",
       "21179         2     108.967042          0    высшее             0   \n",
       "21313         0    1268.487728          0   среднее             1   \n",
       "\n",
       "               family_status  family_status_id gender income_type  debt  \\\n",
       "99           женат / замужем                 0      F   пенсионер     0   \n",
       "149                в разводе                 3      F   сотрудник     0   \n",
       "270          женат / замужем                 0      F   сотрудник     0   \n",
       "578          женат / замужем                 0      F   пенсионер     0   \n",
       "1040               в разводе                 3      F   компаньон     0   \n",
       "...                      ...               ...    ...         ...   ...   \n",
       "19829        женат / замужем                 0      F   сотрудник     0   \n",
       "20462        женат / замужем                 0      F   пенсионер     0   \n",
       "20577  Не женат / не замужем                 4      F   пенсионер     0   \n",
       "21179        женат / замужем                 0      M   компаньон     0   \n",
       "21313  Не женат / не замужем                 4      M   сотрудник     0   \n",
       "\n",
       "        total_income                                 purpose  \n",
       "99      71291.522491                              автомобиль  \n",
       "149     70176.435951                       операции с жильем  \n",
       "270    102166.458894                            ремонт жилью  \n",
       "578     97620.687042  строительство собственной недвижимости  \n",
       "1040   303994.134987                         свой автомобиль  \n",
       "...              ...                                     ...  \n",
       "19829  145017.937533                                   жилье  \n",
       "20462  259193.920299                    покупка своего жилья  \n",
       "20577  129788.762899                            недвижимость  \n",
       "21179  240702.007382        строительство жилой недвижимости  \n",
       "21313  152419.184851                       операции с жильем  \n",
       "\n",
       "[100 rows x 12 columns]"
      ]
     },
     "execution_count": 25,
     "metadata": {},
     "output_type": "execute_result"
    }
   ],
   "source": [
    "data[data['dob_years'] == 0] #посмортим строки с людьми нулевого возраста"
   ]
  },
  {
   "cell_type": "markdown",
   "id": "c0b726b8",
   "metadata": {},
   "source": [
    "Предположительно то, что есть 100 людей с нулевым возрастом, это человеческий фактор - ошибки ввода данных.  \n",
    "Поскольку достоверно сказать про возраст нельзя в этих случаях - удалим эти данные. Они не должны существенно повлиять на результат."
   ]
  },
  {
   "cell_type": "code",
   "execution_count": 26,
   "id": "e2590efa",
   "metadata": {},
   "outputs": [
    {
     "name": "stdout",
     "output_type": "stream",
     "text": [
      "<class 'pandas.core.frame.DataFrame'>\n",
      "Int64Index: 21302 entries, 0 to 21524\n",
      "Data columns (total 12 columns):\n",
      " #   Column            Non-Null Count  Dtype  \n",
      "---  ------            --------------  -----  \n",
      " 0   children          21302 non-null  int64  \n",
      " 1   days_employed     21302 non-null  float64\n",
      " 2   dob_years         21302 non-null  int64  \n",
      " 3   education         21302 non-null  object \n",
      " 4   education_id      21302 non-null  int64  \n",
      " 5   family_status     21302 non-null  object \n",
      " 6   family_status_id  21302 non-null  int64  \n",
      " 7   gender            21302 non-null  object \n",
      " 8   income_type       21302 non-null  object \n",
      " 9   debt              21302 non-null  int64  \n",
      " 10  total_income      21302 non-null  float64\n",
      " 11  purpose           21302 non-null  object \n",
      "dtypes: float64(2), int64(5), object(5)\n",
      "memory usage: 2.1+ MB\n"
     ]
    }
   ],
   "source": [
    "data = data[data['dob_years'] != 0] #удаляем\n",
    "data.info()"
   ]
  },
  {
   "cell_type": "markdown",
   "id": "387a0457",
   "metadata": {},
   "source": [
    "#### Шаг 2.2.4 Пол."
   ]
  },
  {
   "cell_type": "code",
   "execution_count": 27,
   "id": "7f50cbb0",
   "metadata": {},
   "outputs": [
    {
     "data": {
      "text/plain": [
       "array(['F', 'M', 'XNA'], dtype=object)"
      ]
     },
     "execution_count": 27,
     "metadata": {},
     "output_type": "execute_result"
    }
   ],
   "source": [
    "data['gender'].unique() #проверяем столбец на аномалии"
   ]
  },
  {
   "cell_type": "code",
   "execution_count": 28,
   "id": "67302159",
   "metadata": {},
   "outputs": [
    {
     "data": {
      "text/html": [
       "<div>\n",
       "<style scoped>\n",
       "    .dataframe tbody tr th:only-of-type {\n",
       "        vertical-align: middle;\n",
       "    }\n",
       "\n",
       "    .dataframe tbody tr th {\n",
       "        vertical-align: top;\n",
       "    }\n",
       "\n",
       "    .dataframe thead th {\n",
       "        text-align: right;\n",
       "    }\n",
       "</style>\n",
       "<table border=\"1\" class=\"dataframe\">\n",
       "  <thead>\n",
       "    <tr style=\"text-align: right;\">\n",
       "      <th></th>\n",
       "      <th>children</th>\n",
       "      <th>days_employed</th>\n",
       "      <th>dob_years</th>\n",
       "      <th>education</th>\n",
       "      <th>education_id</th>\n",
       "      <th>family_status</th>\n",
       "      <th>family_status_id</th>\n",
       "      <th>gender</th>\n",
       "      <th>income_type</th>\n",
       "      <th>debt</th>\n",
       "      <th>total_income</th>\n",
       "      <th>purpose</th>\n",
       "    </tr>\n",
       "  </thead>\n",
       "  <tbody>\n",
       "    <tr>\n",
       "      <th>10701</th>\n",
       "      <td>0</td>\n",
       "      <td>2358.600502</td>\n",
       "      <td>24</td>\n",
       "      <td>неоконченное высшее</td>\n",
       "      <td>2</td>\n",
       "      <td>гражданский брак</td>\n",
       "      <td>1</td>\n",
       "      <td>XNA</td>\n",
       "      <td>компаньон</td>\n",
       "      <td>0</td>\n",
       "      <td>203905.157261</td>\n",
       "      <td>покупка недвижимости</td>\n",
       "    </tr>\n",
       "  </tbody>\n",
       "</table>\n",
       "</div>"
      ],
      "text/plain": [
       "       children  days_employed  dob_years            education  education_id  \\\n",
       "10701         0    2358.600502         24  неоконченное высшее             2   \n",
       "\n",
       "          family_status  family_status_id gender income_type  debt  \\\n",
       "10701  гражданский брак                 1    XNA   компаньон     0   \n",
       "\n",
       "        total_income               purpose  \n",
       "10701  203905.157261  покупка недвижимости  "
      ]
     },
     "execution_count": 28,
     "metadata": {},
     "output_type": "execute_result"
    }
   ],
   "source": [
    "data[data['gender'] == 'XNA'] #посмортим строки с людьми нулевого возраста"
   ]
  },
  {
   "cell_type": "markdown",
   "id": "17c12842",
   "metadata": {},
   "source": [
    "Предположительно, это человеческий фактор - ошибки ввода данных, либо пол неизвестен. По данным других ячеек пол восстановить невозможно.  \n",
    "Поскольку достоверно сказать про пол нельзя в этом случае - удалим эти данные. Они не должны существенно повлиять на результат."
   ]
  },
  {
   "cell_type": "code",
   "execution_count": 29,
   "id": "ae5f0174",
   "metadata": {},
   "outputs": [
    {
     "name": "stdout",
     "output_type": "stream",
     "text": [
      "<class 'pandas.core.frame.DataFrame'>\n",
      "Int64Index: 21301 entries, 0 to 21524\n",
      "Data columns (total 12 columns):\n",
      " #   Column            Non-Null Count  Dtype  \n",
      "---  ------            --------------  -----  \n",
      " 0   children          21301 non-null  int64  \n",
      " 1   days_employed     21301 non-null  float64\n",
      " 2   dob_years         21301 non-null  int64  \n",
      " 3   education         21301 non-null  object \n",
      " 4   education_id      21301 non-null  int64  \n",
      " 5   family_status     21301 non-null  object \n",
      " 6   family_status_id  21301 non-null  int64  \n",
      " 7   gender            21301 non-null  object \n",
      " 8   income_type       21301 non-null  object \n",
      " 9   debt              21301 non-null  int64  \n",
      " 10  total_income      21301 non-null  float64\n",
      " 11  purpose           21301 non-null  object \n",
      "dtypes: float64(2), int64(5), object(5)\n",
      "memory usage: 2.1+ MB\n"
     ]
    }
   ],
   "source": [
    "data = data[data['gender'] != 'XNA'] #удаляем\n",
    "data.info()"
   ]
  },
  {
   "cell_type": "markdown",
   "id": "0e44dcc4",
   "metadata": {},
   "source": [
    "#### Шаг 2.2.5 Долг."
   ]
  },
  {
   "cell_type": "code",
   "execution_count": 30,
   "id": "c30056b9",
   "metadata": {},
   "outputs": [
    {
     "data": {
      "text/plain": [
       "0    19577\n",
       "1     1724\n",
       "Name: debt, dtype: int64"
      ]
     },
     "execution_count": 30,
     "metadata": {},
     "output_type": "execute_result"
    }
   ],
   "source": [
    "data['debt'].value_counts() #проверяем столбец на аномалии"
   ]
  },
  {
   "cell_type": "markdown",
   "id": "f11cd080",
   "metadata": {},
   "source": [
    "Все в порядке."
   ]
  },
  {
   "cell_type": "markdown",
   "id": "952f025e",
   "metadata": {},
   "source": [
    "#### Шаг 2.2.6 Доход."
   ]
  },
  {
   "cell_type": "code",
   "execution_count": 31,
   "id": "3be423ed",
   "metadata": {},
   "outputs": [
    {
     "data": {
      "text/plain": [
       "145017.937533    2153\n",
       "169846.427535       1\n",
       "170140.758021       1\n",
       "165432.425282       1\n",
       "308173.233260       1\n",
       "                 ... \n",
       "98360.185970        1\n",
       "208520.564033       1\n",
       "117329.195869       1\n",
       "164337.653574       1\n",
       "189255.286637       1\n",
       "Name: total_income, Length: 19149, dtype: int64"
      ]
     },
     "execution_count": 31,
     "metadata": {},
     "output_type": "execute_result"
    }
   ],
   "source": [
    "data['total_income'].value_counts() #проверяем столбец на аномалии"
   ]
  },
  {
   "cell_type": "markdown",
   "id": "c4133342",
   "metadata": {},
   "source": [
    "Все в порядке. 2153 медианных значения - мы ими заполняли пропуски"
   ]
  },
  {
   "cell_type": "markdown",
   "id": "05af25ac",
   "metadata": {},
   "source": [
    "### Шаг 2.3. Изменение типов данных."
   ]
  },
  {
   "cell_type": "markdown",
   "id": "5f437578",
   "metadata": {},
   "source": [
    "Изменим тип данных в столбце `total_income` - на целочисленный."
   ]
  },
  {
   "cell_type": "code",
   "execution_count": 32,
   "id": "438dbdc7",
   "metadata": {
    "scrolled": true
   },
   "outputs": [
    {
     "name": "stdout",
     "output_type": "stream",
     "text": [
      "<class 'pandas.core.frame.DataFrame'>\n",
      "Int64Index: 21301 entries, 0 to 21524\n",
      "Data columns (total 12 columns):\n",
      " #   Column            Non-Null Count  Dtype  \n",
      "---  ------            --------------  -----  \n",
      " 0   children          21301 non-null  int64  \n",
      " 1   days_employed     21301 non-null  float64\n",
      " 2   dob_years         21301 non-null  int64  \n",
      " 3   education         21301 non-null  object \n",
      " 4   education_id      21301 non-null  int64  \n",
      " 5   family_status     21301 non-null  object \n",
      " 6   family_status_id  21301 non-null  int64  \n",
      " 7   gender            21301 non-null  object \n",
      " 8   income_type       21301 non-null  object \n",
      " 9   debt              21301 non-null  int64  \n",
      " 10  total_income      21301 non-null  int64  \n",
      " 11  purpose           21301 non-null  object \n",
      "dtypes: float64(1), int64(6), object(5)\n",
      "memory usage: 2.1+ MB\n"
     ]
    }
   ],
   "source": [
    "data['total_income'] = data['total_income'].astype(int)\n",
    "data.info()"
   ]
  },
  {
   "cell_type": "markdown",
   "id": "0ee8a07d",
   "metadata": {},
   "source": [
    "### Шаг 2.4. Удаление дубликатов."
   ]
  },
  {
   "cell_type": "code",
   "execution_count": 33,
   "id": "0a04619e",
   "metadata": {},
   "outputs": [
    {
     "data": {
      "text/plain": [
       "54"
      ]
     },
     "execution_count": 33,
     "metadata": {},
     "output_type": "execute_result"
    }
   ],
   "source": [
    "data.duplicated().sum() #узнаем количество явных дубликатов"
   ]
  },
  {
   "cell_type": "code",
   "execution_count": 34,
   "id": "40f7ada2",
   "metadata": {},
   "outputs": [
    {
     "data": {
      "text/plain": [
       "среднее                13609\n",
       "высшее                  4666\n",
       "СРЕДНЕЕ                  764\n",
       "Среднее                  700\n",
       "неоконченное высшее      662\n",
       "ВЫСШЕЕ                   270\n",
       "Высшее                   266\n",
       "начальное                250\n",
       "Неоконченное высшее       47\n",
       "НЕОКОНЧЕННОЕ ВЫСШЕЕ       29\n",
       "НАЧАЛЬНОЕ                 17\n",
       "Начальное                 15\n",
       "ученая степень             4\n",
       "УЧЕНАЯ СТЕПЕНЬ             1\n",
       "Ученая степень             1\n",
       "Name: education, dtype: int64"
      ]
     },
     "execution_count": 34,
     "metadata": {},
     "output_type": "execute_result"
    }
   ],
   "source": [
    "data['education'].value_counts() #проверим столбец на дублирование значений по смыслу"
   ]
  },
  {
   "cell_type": "code",
   "execution_count": 35,
   "id": "cf24e93b",
   "metadata": {},
   "outputs": [
    {
     "data": {
      "text/plain": [
       "женат / замужем          12254\n",
       "гражданский брак          4138\n",
       "Не женат / не замужем     2783\n",
       "в разводе                 1179\n",
       "вдовец / вдова             947\n",
       "Name: family_status, dtype: int64"
      ]
     },
     "execution_count": 35,
     "metadata": {},
     "output_type": "execute_result"
    }
   ],
   "source": [
    "data['family_status'].value_counts() #проверим столбец на дублирование значений по смыслу"
   ]
  },
  {
   "cell_type": "code",
   "execution_count": 36,
   "id": "3c7ce205",
   "metadata": {
    "scrolled": true
   },
   "outputs": [
    {
     "data": {
      "text/plain": [
       "сотрудник          10996\n",
       "компаньон           5033\n",
       "пенсионер           3819\n",
       "госслужащий         1447\n",
       "предприниматель        2\n",
       "безработный            2\n",
       "в декрете              1\n",
       "студент                1\n",
       "Name: income_type, dtype: int64"
      ]
     },
     "execution_count": 36,
     "metadata": {},
     "output_type": "execute_result"
    }
   ],
   "source": [
    "data['income_type'].value_counts() #проверим столбец на дублирование значений по смыслу"
   ]
  },
  {
   "cell_type": "code",
   "execution_count": 37,
   "id": "3da143aa",
   "metadata": {
    "scrolled": true
   },
   "outputs": [
    {
     "data": {
      "text/plain": [
       "свадьба                                   791\n",
       "на проведение свадьбы                     768\n",
       "сыграть свадьбу                           764\n",
       "операции с недвижимостью                  670\n",
       "покупка коммерческой недвижимости         658\n",
       "покупка жилья для сдачи                   649\n",
       "операции с коммерческой недвижимостью     644\n",
       "операции с жильем                         642\n",
       "покупка жилья для семьи                   639\n",
       "жилье                                     636\n",
       "покупка жилья                             635\n",
       "недвижимость                              628\n",
       "операции со своей недвижимостью           626\n",
       "строительство собственной недвижимости    626\n",
       "строительство недвижимости                620\n",
       "строительство жилой недвижимости          619\n",
       "покупка своего жилья                      618\n",
       "покупка недвижимости                      615\n",
       "ремонт жилью                              607\n",
       "покупка жилой недвижимости                600\n",
       "на покупку своего автомобиля              501\n",
       "заняться высшим образованием              493\n",
       "автомобиль                                488\n",
       "сделка с подержанным автомобилем          482\n",
       "автомобили                                474\n",
       "свой автомобиль                           472\n",
       "на покупку подержанного автомобиля        472\n",
       "на покупку автомобиля                     466\n",
       "приобретение автомобиля                   458\n",
       "дополнительное образование                455\n",
       "сделка с автомобилем                      454\n",
       "высшее образование                        444\n",
       "получение дополнительного образования     443\n",
       "получение образования                     440\n",
       "образование                               439\n",
       "профильное образование                    431\n",
       "получение высшего образования             423\n",
       "заняться образованием                     411\n",
       "Name: purpose, dtype: int64"
      ]
     },
     "execution_count": 37,
     "metadata": {},
     "output_type": "execute_result"
    }
   ],
   "source": [
    "data['purpose'].value_counts() #проверим столбец на дублирование значений по смыслу"
   ]
  },
  {
   "cell_type": "markdown",
   "id": "331b9479",
   "metadata": {},
   "source": [
    "Мы проверили дублирование значений по смыслу во всех столбцах, где дублирование значений могло привести к наличию строк-дубликатов. Дублирование значений, вероятно, произошло на этапе вноса значений из-за человеческого фактора.\n",
    "\n",
    "Приведем значение столбцов в порядок:  \n",
    "    1. `education`, `family_status` - приведем к нижнему регистру.  \n",
    "    2. Прооверим, сколько дубликатов с учетом неявных.  \n",
    "    3. Удалим дубликаты."
   ]
  },
  {
   "cell_type": "code",
   "execution_count": 38,
   "id": "44c39760",
   "metadata": {},
   "outputs": [
    {
     "data": {
      "text/plain": [
       "среднее                15073\n",
       "высшее                  5202\n",
       "неоконченное высшее      738\n",
       "начальное                282\n",
       "ученая степень             6\n",
       "Name: education, dtype: int64"
      ]
     },
     "metadata": {},
     "output_type": "display_data"
    },
    {
     "data": {
      "text/plain": [
       "женат / замужем          12254\n",
       "гражданский брак          4138\n",
       "не женат / не замужем     2783\n",
       "в разводе                 1179\n",
       "вдовец / вдова             947\n",
       "Name: family_status, dtype: int64"
      ]
     },
     "execution_count": 38,
     "metadata": {},
     "output_type": "execute_result"
    }
   ],
   "source": [
    " #приводим к нижнему регистру\n",
    "data['education'] = data['education'].str.lower()\n",
    "data['family_status'] = data['family_status'].str.lower()\n",
    "#проверяем\n",
    "display(data['education'].value_counts())\n",
    "data['family_status'].value_counts()"
   ]
  },
  {
   "cell_type": "code",
   "execution_count": 39,
   "id": "2fa78bd2",
   "metadata": {},
   "outputs": [
    {
     "data": {
      "text/plain": [
       "71"
      ]
     },
     "execution_count": 39,
     "metadata": {},
     "output_type": "execute_result"
    }
   ],
   "source": [
    "data.duplicated().sum() #узнаем количество явных и неявных дубликатов"
   ]
  },
  {
   "cell_type": "code",
   "execution_count": 40,
   "id": "52b5ed90",
   "metadata": {
    "scrolled": true
   },
   "outputs": [
    {
     "name": "stdout",
     "output_type": "stream",
     "text": [
      "<class 'pandas.core.frame.DataFrame'>\n",
      "RangeIndex: 21230 entries, 0 to 21229\n",
      "Data columns (total 12 columns):\n",
      " #   Column            Non-Null Count  Dtype  \n",
      "---  ------            --------------  -----  \n",
      " 0   children          21230 non-null  int64  \n",
      " 1   days_employed     21230 non-null  float64\n",
      " 2   dob_years         21230 non-null  int64  \n",
      " 3   education         21230 non-null  object \n",
      " 4   education_id      21230 non-null  int64  \n",
      " 5   family_status     21230 non-null  object \n",
      " 6   family_status_id  21230 non-null  int64  \n",
      " 7   gender            21230 non-null  object \n",
      " 8   income_type       21230 non-null  object \n",
      " 9   debt              21230 non-null  int64  \n",
      " 10  total_income      21230 non-null  int64  \n",
      " 11  purpose           21230 non-null  object \n",
      "dtypes: float64(1), int64(6), object(5)\n",
      "memory usage: 1.9+ MB\n"
     ]
    }
   ],
   "source": [
    "data = data.drop_duplicates().reset_index(drop=True)\n",
    "data.info()"
   ]
  },
  {
   "cell_type": "markdown",
   "id": "d8e38a1e",
   "metadata": {},
   "source": [
    "### Шаг 2.5. Формирование дополнительных датафреймов словарей, декомпозиция исходного датафрейма."
   ]
  },
  {
   "cell_type": "code",
   "execution_count": 41,
   "id": "47da2d49",
   "metadata": {},
   "outputs": [
    {
     "data": {
      "text/html": [
       "<div>\n",
       "<style scoped>\n",
       "    .dataframe tbody tr th:only-of-type {\n",
       "        vertical-align: middle;\n",
       "    }\n",
       "\n",
       "    .dataframe tbody tr th {\n",
       "        vertical-align: top;\n",
       "    }\n",
       "\n",
       "    .dataframe thead th {\n",
       "        text-align: right;\n",
       "    }\n",
       "</style>\n",
       "<table border=\"1\" class=\"dataframe\">\n",
       "  <thead>\n",
       "    <tr style=\"text-align: right;\">\n",
       "      <th></th>\n",
       "      <th>education</th>\n",
       "      <th>education_id</th>\n",
       "    </tr>\n",
       "  </thead>\n",
       "  <tbody>\n",
       "    <tr>\n",
       "      <th>0</th>\n",
       "      <td>высшее</td>\n",
       "      <td>0</td>\n",
       "    </tr>\n",
       "    <tr>\n",
       "      <th>1</th>\n",
       "      <td>среднее</td>\n",
       "      <td>1</td>\n",
       "    </tr>\n",
       "    <tr>\n",
       "      <th>2</th>\n",
       "      <td>неоконченное высшее</td>\n",
       "      <td>2</td>\n",
       "    </tr>\n",
       "    <tr>\n",
       "      <th>3</th>\n",
       "      <td>начальное</td>\n",
       "      <td>3</td>\n",
       "    </tr>\n",
       "    <tr>\n",
       "      <th>4</th>\n",
       "      <td>ученая степень</td>\n",
       "      <td>4</td>\n",
       "    </tr>\n",
       "  </tbody>\n",
       "</table>\n",
       "</div>"
      ],
      "text/plain": [
       "             education  education_id\n",
       "0               высшее             0\n",
       "1              среднее             1\n",
       "2  неоконченное высшее             2\n",
       "3            начальное             3\n",
       "4       ученая степень             4"
      ]
     },
     "metadata": {},
     "output_type": "display_data"
    },
    {
     "data": {
      "text/html": [
       "<div>\n",
       "<style scoped>\n",
       "    .dataframe tbody tr th:only-of-type {\n",
       "        vertical-align: middle;\n",
       "    }\n",
       "\n",
       "    .dataframe tbody tr th {\n",
       "        vertical-align: top;\n",
       "    }\n",
       "\n",
       "    .dataframe thead th {\n",
       "        text-align: right;\n",
       "    }\n",
       "</style>\n",
       "<table border=\"1\" class=\"dataframe\">\n",
       "  <thead>\n",
       "    <tr style=\"text-align: right;\">\n",
       "      <th></th>\n",
       "      <th>family_status</th>\n",
       "      <th>family_status_id</th>\n",
       "    </tr>\n",
       "  </thead>\n",
       "  <tbody>\n",
       "    <tr>\n",
       "      <th>0</th>\n",
       "      <td>женат / замужем</td>\n",
       "      <td>0</td>\n",
       "    </tr>\n",
       "    <tr>\n",
       "      <th>1</th>\n",
       "      <td>гражданский брак</td>\n",
       "      <td>1</td>\n",
       "    </tr>\n",
       "    <tr>\n",
       "      <th>2</th>\n",
       "      <td>вдовец / вдова</td>\n",
       "      <td>2</td>\n",
       "    </tr>\n",
       "    <tr>\n",
       "      <th>3</th>\n",
       "      <td>в разводе</td>\n",
       "      <td>3</td>\n",
       "    </tr>\n",
       "    <tr>\n",
       "      <th>4</th>\n",
       "      <td>не женат / не замужем</td>\n",
       "      <td>4</td>\n",
       "    </tr>\n",
       "  </tbody>\n",
       "</table>\n",
       "</div>"
      ],
      "text/plain": [
       "           family_status  family_status_id\n",
       "0        женат / замужем                 0\n",
       "1       гражданский брак                 1\n",
       "2         вдовец / вдова                 2\n",
       "3              в разводе                 3\n",
       "4  не женат / не замужем                 4"
      ]
     },
     "metadata": {},
     "output_type": "display_data"
    },
    {
     "name": "stdout",
     "output_type": "stream",
     "text": [
      "<class 'pandas.core.frame.DataFrame'>\n",
      "RangeIndex: 21230 entries, 0 to 21229\n",
      "Data columns (total 10 columns):\n",
      " #   Column            Non-Null Count  Dtype  \n",
      "---  ------            --------------  -----  \n",
      " 0   children          21230 non-null  int64  \n",
      " 1   days_employed     21230 non-null  float64\n",
      " 2   dob_years         21230 non-null  int64  \n",
      " 3   education_id      21230 non-null  int64  \n",
      " 4   family_status_id  21230 non-null  int64  \n",
      " 5   gender            21230 non-null  object \n",
      " 6   income_type       21230 non-null  object \n",
      " 7   debt              21230 non-null  int64  \n",
      " 8   total_income      21230 non-null  int64  \n",
      " 9   purpose           21230 non-null  object \n",
      "dtypes: float64(1), int64(6), object(3)\n",
      "memory usage: 1.6+ MB\n"
     ]
    }
   ],
   "source": [
    "#делим на части\n",
    "data_log = data[['children', 'days_employed', 'dob_years', 'education_id', 'family_status_id', 'gender', 'income_type', \n",
    "                 'debt', 'total_income', 'purpose']]\n",
    "education_dict = data[['education', 'education_id']]\n",
    "education_dict = education_dict.drop_duplicates().reset_index(drop=True) #удаляем дубликаты\n",
    "family_status_dict = data[['family_status', 'family_status_id']]\n",
    "family_status_dict = family_status_dict.drop_duplicates().reset_index(drop=True) #удаляем дубликаты\n",
    "#проверяем\n",
    "display(education_dict)\n",
    "display(family_status_dict)\n",
    "data_log.info()"
   ]
  },
  {
   "cell_type": "markdown",
   "id": "73adbdab",
   "metadata": {},
   "source": [
    "### Шаг 2.6. Категоризация дохода."
   ]
  },
  {
   "cell_type": "code",
   "execution_count": 42,
   "id": "d880044b",
   "metadata": {},
   "outputs": [
    {
     "data": {
      "text/html": [
       "<div>\n",
       "<style scoped>\n",
       "    .dataframe tbody tr th:only-of-type {\n",
       "        vertical-align: middle;\n",
       "    }\n",
       "\n",
       "    .dataframe tbody tr th {\n",
       "        vertical-align: top;\n",
       "    }\n",
       "\n",
       "    .dataframe thead th {\n",
       "        text-align: right;\n",
       "    }\n",
       "</style>\n",
       "<table border=\"1\" class=\"dataframe\">\n",
       "  <thead>\n",
       "    <tr style=\"text-align: right;\">\n",
       "      <th></th>\n",
       "      <th>children</th>\n",
       "      <th>days_employed</th>\n",
       "      <th>dob_years</th>\n",
       "      <th>education_id</th>\n",
       "      <th>family_status_id</th>\n",
       "      <th>gender</th>\n",
       "      <th>income_type</th>\n",
       "      <th>debt</th>\n",
       "      <th>total_income</th>\n",
       "      <th>purpose</th>\n",
       "      <th>total_income_category</th>\n",
       "    </tr>\n",
       "  </thead>\n",
       "  <tbody>\n",
       "    <tr>\n",
       "      <th>0</th>\n",
       "      <td>1</td>\n",
       "      <td>8437.673028</td>\n",
       "      <td>42</td>\n",
       "      <td>0</td>\n",
       "      <td>0</td>\n",
       "      <td>F</td>\n",
       "      <td>сотрудник</td>\n",
       "      <td>0</td>\n",
       "      <td>253875</td>\n",
       "      <td>покупка жилья</td>\n",
       "      <td>B (200-1000 т.р.)</td>\n",
       "    </tr>\n",
       "    <tr>\n",
       "      <th>1</th>\n",
       "      <td>1</td>\n",
       "      <td>4024.803754</td>\n",
       "      <td>36</td>\n",
       "      <td>1</td>\n",
       "      <td>0</td>\n",
       "      <td>F</td>\n",
       "      <td>сотрудник</td>\n",
       "      <td>0</td>\n",
       "      <td>112080</td>\n",
       "      <td>приобретение автомобиля</td>\n",
       "      <td>C (50-200 т.р.)</td>\n",
       "    </tr>\n",
       "    <tr>\n",
       "      <th>2</th>\n",
       "      <td>0</td>\n",
       "      <td>5623.422610</td>\n",
       "      <td>33</td>\n",
       "      <td>1</td>\n",
       "      <td>0</td>\n",
       "      <td>M</td>\n",
       "      <td>сотрудник</td>\n",
       "      <td>0</td>\n",
       "      <td>145885</td>\n",
       "      <td>покупка жилья</td>\n",
       "      <td>C (50-200 т.р.)</td>\n",
       "    </tr>\n",
       "    <tr>\n",
       "      <th>3</th>\n",
       "      <td>3</td>\n",
       "      <td>4124.747207</td>\n",
       "      <td>32</td>\n",
       "      <td>1</td>\n",
       "      <td>0</td>\n",
       "      <td>M</td>\n",
       "      <td>сотрудник</td>\n",
       "      <td>0</td>\n",
       "      <td>267628</td>\n",
       "      <td>дополнительное образование</td>\n",
       "      <td>B (200-1000 т.р.)</td>\n",
       "    </tr>\n",
       "    <tr>\n",
       "      <th>4</th>\n",
       "      <td>0</td>\n",
       "      <td>340266.072047</td>\n",
       "      <td>53</td>\n",
       "      <td>1</td>\n",
       "      <td>1</td>\n",
       "      <td>F</td>\n",
       "      <td>пенсионер</td>\n",
       "      <td>0</td>\n",
       "      <td>158616</td>\n",
       "      <td>сыграть свадьбу</td>\n",
       "      <td>C (50-200 т.р.)</td>\n",
       "    </tr>\n",
       "  </tbody>\n",
       "</table>\n",
       "</div>"
      ],
      "text/plain": [
       "   children  days_employed  dob_years  education_id  family_status_id gender  \\\n",
       "0         1    8437.673028         42             0                 0      F   \n",
       "1         1    4024.803754         36             1                 0      F   \n",
       "2         0    5623.422610         33             1                 0      M   \n",
       "3         3    4124.747207         32             1                 0      M   \n",
       "4         0  340266.072047         53             1                 1      F   \n",
       "\n",
       "  income_type  debt  total_income                     purpose  \\\n",
       "0   сотрудник     0        253875               покупка жилья   \n",
       "1   сотрудник     0        112080     приобретение автомобиля   \n",
       "2   сотрудник     0        145885               покупка жилья   \n",
       "3   сотрудник     0        267628  дополнительное образование   \n",
       "4   пенсионер     0        158616             сыграть свадьбу   \n",
       "\n",
       "  total_income_category  \n",
       "0     B (200-1000 т.р.)  \n",
       "1       C (50-200 т.р.)  \n",
       "2       C (50-200 т.р.)  \n",
       "3     B (200-1000 т.р.)  \n",
       "4       C (50-200 т.р.)  "
      ]
     },
     "execution_count": 42,
     "metadata": {},
     "output_type": "execute_result"
    }
   ],
   "source": [
    "import warnings\n",
    "\n",
    "warnings.filterwarnings('ignore') #избавимся от предупреждений\n",
    "\n",
    "def total_income_category(total_income):\n",
    "    \"\"\"\n",
    "    Возвращает группу дохода по значению дохода, используя правила:\n",
    "    0–30000 — 'E';\n",
    "    30001–50000 — 'D';\n",
    "    50001–200000 — 'C';\n",
    "    200001–1000000 — 'B';\n",
    "    1000001 и выше — 'A'.\n",
    "    \"\"\"\n",
    "    \n",
    "    if total_income <= 30000:\n",
    "        return 'E (0-30 т.р.)'\n",
    "    if total_income <= 50000:\n",
    "        return 'D (30-50 т.р.)'\n",
    "    if total_income <= 200000:\n",
    "        return 'C (50-200 т.р.)'\n",
    "    if total_income <= 1000000:\n",
    "        return 'B (200-1000 т.р.)'\n",
    "    return 'A (>1000 т.р.)'\n",
    "#применим функцию и создадим новый столбец с категориями дохода\n",
    "data_log['total_income_category'] = data_log['total_income'].apply(total_income_category) \n",
    "data_log.head() #проверим"
   ]
  },
  {
   "cell_type": "markdown",
   "id": "2e51b40d",
   "metadata": {},
   "source": [
    "### Шаг 2.7. Категоризация целей кредита."
   ]
  },
  {
   "cell_type": "code",
   "execution_count": 43,
   "id": "47bfdb61",
   "metadata": {},
   "outputs": [
    {
     "data": {
      "text/html": [
       "<div>\n",
       "<style scoped>\n",
       "    .dataframe tbody tr th:only-of-type {\n",
       "        vertical-align: middle;\n",
       "    }\n",
       "\n",
       "    .dataframe tbody tr th {\n",
       "        vertical-align: top;\n",
       "    }\n",
       "\n",
       "    .dataframe thead th {\n",
       "        text-align: right;\n",
       "    }\n",
       "</style>\n",
       "<table border=\"1\" class=\"dataframe\">\n",
       "  <thead>\n",
       "    <tr style=\"text-align: right;\">\n",
       "      <th></th>\n",
       "      <th>children</th>\n",
       "      <th>days_employed</th>\n",
       "      <th>dob_years</th>\n",
       "      <th>education_id</th>\n",
       "      <th>family_status_id</th>\n",
       "      <th>gender</th>\n",
       "      <th>income_type</th>\n",
       "      <th>debt</th>\n",
       "      <th>total_income</th>\n",
       "      <th>purpose</th>\n",
       "      <th>total_income_category</th>\n",
       "      <th>purpose_category</th>\n",
       "    </tr>\n",
       "  </thead>\n",
       "  <tbody>\n",
       "    <tr>\n",
       "      <th>0</th>\n",
       "      <td>1</td>\n",
       "      <td>8437.673028</td>\n",
       "      <td>42</td>\n",
       "      <td>0</td>\n",
       "      <td>0</td>\n",
       "      <td>F</td>\n",
       "      <td>сотрудник</td>\n",
       "      <td>0</td>\n",
       "      <td>253875</td>\n",
       "      <td>покупка жилья</td>\n",
       "      <td>B (200-1000 т.р.)</td>\n",
       "      <td>операции с недвижимостью</td>\n",
       "    </tr>\n",
       "    <tr>\n",
       "      <th>1</th>\n",
       "      <td>1</td>\n",
       "      <td>4024.803754</td>\n",
       "      <td>36</td>\n",
       "      <td>1</td>\n",
       "      <td>0</td>\n",
       "      <td>F</td>\n",
       "      <td>сотрудник</td>\n",
       "      <td>0</td>\n",
       "      <td>112080</td>\n",
       "      <td>приобретение автомобиля</td>\n",
       "      <td>C (50-200 т.р.)</td>\n",
       "      <td>операции с автомобилем</td>\n",
       "    </tr>\n",
       "    <tr>\n",
       "      <th>2</th>\n",
       "      <td>0</td>\n",
       "      <td>5623.422610</td>\n",
       "      <td>33</td>\n",
       "      <td>1</td>\n",
       "      <td>0</td>\n",
       "      <td>M</td>\n",
       "      <td>сотрудник</td>\n",
       "      <td>0</td>\n",
       "      <td>145885</td>\n",
       "      <td>покупка жилья</td>\n",
       "      <td>C (50-200 т.р.)</td>\n",
       "      <td>операции с недвижимостью</td>\n",
       "    </tr>\n",
       "    <tr>\n",
       "      <th>3</th>\n",
       "      <td>3</td>\n",
       "      <td>4124.747207</td>\n",
       "      <td>32</td>\n",
       "      <td>1</td>\n",
       "      <td>0</td>\n",
       "      <td>M</td>\n",
       "      <td>сотрудник</td>\n",
       "      <td>0</td>\n",
       "      <td>267628</td>\n",
       "      <td>дополнительное образование</td>\n",
       "      <td>B (200-1000 т.р.)</td>\n",
       "      <td>получение образования</td>\n",
       "    </tr>\n",
       "    <tr>\n",
       "      <th>4</th>\n",
       "      <td>0</td>\n",
       "      <td>340266.072047</td>\n",
       "      <td>53</td>\n",
       "      <td>1</td>\n",
       "      <td>1</td>\n",
       "      <td>F</td>\n",
       "      <td>пенсионер</td>\n",
       "      <td>0</td>\n",
       "      <td>158616</td>\n",
       "      <td>сыграть свадьбу</td>\n",
       "      <td>C (50-200 т.р.)</td>\n",
       "      <td>проведение свадьбы</td>\n",
       "    </tr>\n",
       "  </tbody>\n",
       "</table>\n",
       "</div>"
      ],
      "text/plain": [
       "   children  days_employed  dob_years  education_id  family_status_id gender  \\\n",
       "0         1    8437.673028         42             0                 0      F   \n",
       "1         1    4024.803754         36             1                 0      F   \n",
       "2         0    5623.422610         33             1                 0      M   \n",
       "3         3    4124.747207         32             1                 0      M   \n",
       "4         0  340266.072047         53             1                 1      F   \n",
       "\n",
       "  income_type  debt  total_income                     purpose  \\\n",
       "0   сотрудник     0        253875               покупка жилья   \n",
       "1   сотрудник     0        112080     приобретение автомобиля   \n",
       "2   сотрудник     0        145885               покупка жилья   \n",
       "3   сотрудник     0        267628  дополнительное образование   \n",
       "4   пенсионер     0        158616             сыграть свадьбу   \n",
       "\n",
       "  total_income_category          purpose_category  \n",
       "0     B (200-1000 т.р.)  операции с недвижимостью  \n",
       "1       C (50-200 т.р.)    операции с автомобилем  \n",
       "2       C (50-200 т.р.)  операции с недвижимостью  \n",
       "3     B (200-1000 т.р.)     получение образования  \n",
       "4       C (50-200 т.р.)        проведение свадьбы  "
      ]
     },
     "execution_count": 43,
     "metadata": {},
     "output_type": "execute_result"
    }
   ],
   "source": [
    "def purpose_category(purpose):\n",
    "    \"\"\"\n",
    "    Возвращает категорию цели кредита по значению цели кредита:\n",
    "    'операции с автомобилем',\n",
    "    'операции с недвижимостью',\n",
    "    'проведение свадьбы',\n",
    "    'получение образования'.\n",
    "    \"\"\"\n",
    "    purpose_category_auto = ['на покупку своего автомобиля', 'заняться высшим образованием', 'автомобиль', \n",
    "                             'сделка с подержанным автомобилем', 'свой автомобиль', 'на покупку подержанного автомобиля', \n",
    "                             'автомобили', 'на покупку автомобиля', 'приобретение автомобиля', 'сделка с автомобилем']\n",
    "    purpose_category_property = ['операции с недвижимостью', 'покупка коммерческой недвижимости', 'покупка жилья для сдачи', \n",
    "                                 'операции с жильем', 'операции с коммерческой недвижимостью', 'жилье', 'покупка жилья', \n",
    "                                 'покупка жилья для семьи', 'строительство собственной недвижимости', 'недвижимость', \n",
    "                                 'операции со своей недвижимостью', 'строительство жилой недвижимости', 'покупка недвижимости', \n",
    "                                 'покупка своего жилья', 'строительство недвижимости', 'ремонт жилью', \n",
    "                                 'покупка жилой недвижимости']\n",
    "    purpose_category_marriage = ['свадьба', 'на проведение свадьбы', 'сыграть свадьбу']\n",
    "    purpose_category_education = ['дополнительное образование', 'высшее образование', 'получение дополнительного образования', \n",
    "                                  'образование', 'получение образования', 'профильное образование', \n",
    "                                  'получение высшего образования', 'заняться образованием']\n",
    "    \n",
    "    if purpose in purpose_category_auto:\n",
    "        return 'операции с автомобилем'\n",
    "    if purpose in purpose_category_property:\n",
    "        return 'операции с недвижимостью'\n",
    "    if purpose in purpose_category_marriage:\n",
    "        return 'проведение свадьбы'\n",
    "    if purpose in purpose_category_education:\n",
    "        return 'получение образования'\n",
    "\n",
    "#применим функцию и создадим новый столбец с категориями дохода\n",
    "data_log['purpose_category'] = data_log['purpose'].apply(purpose_category) \n",
    "data_log.head() #проверим"
   ]
  },
  {
   "cell_type": "markdown",
   "id": "cf5f80e8",
   "metadata": {},
   "source": [
    "### Ответы на вопросы."
   ]
  },
  {
   "cell_type": "markdown",
   "id": "93627eef",
   "metadata": {},
   "source": [
    "Вопросы:\n",
    "1. Есть ли зависимость между количеством детей и возвратом кредита в срок?\n",
    "2. Есть ли зависимость между семейным положением и возвратом кредита в срок?\n",
    "3. Есть ли зависимость между уровнем дохода и возвратом кредита в срок?\n",
    "4. Как разные цели кредита влияют на его возврат в срок?"
   ]
  },
  {
   "cell_type": "markdown",
   "id": "717fb7fd",
   "metadata": {},
   "source": [
    "##### Вопрос 1: Есть ли зависимость между количеством детей и возвратом кредита в срок?"
   ]
  },
  {
   "cell_type": "code",
   "execution_count": 44,
   "id": "81aa75f7",
   "metadata": {
    "scrolled": true
   },
   "outputs": [
    {
     "data": {
      "text/html": [
       "<div>\n",
       "<style scoped>\n",
       "    .dataframe tbody tr th:only-of-type {\n",
       "        vertical-align: middle;\n",
       "    }\n",
       "\n",
       "    .dataframe tbody tr th {\n",
       "        vertical-align: top;\n",
       "    }\n",
       "\n",
       "    .dataframe thead tr th {\n",
       "        text-align: left;\n",
       "    }\n",
       "\n",
       "    .dataframe thead tr:last-of-type th {\n",
       "        text-align: right;\n",
       "    }\n",
       "</style>\n",
       "<table border=\"1\" class=\"dataframe\">\n",
       "  <thead>\n",
       "    <tr>\n",
       "      <th></th>\n",
       "      <th>sum</th>\n",
       "      <th>count</th>\n",
       "      <th>debt_percent</th>\n",
       "    </tr>\n",
       "    <tr>\n",
       "      <th></th>\n",
       "      <th>debt</th>\n",
       "      <th>debt</th>\n",
       "      <th></th>\n",
       "    </tr>\n",
       "    <tr>\n",
       "      <th>children</th>\n",
       "      <th></th>\n",
       "      <th></th>\n",
       "      <th></th>\n",
       "    </tr>\n",
       "  </thead>\n",
       "  <tbody>\n",
       "    <tr>\n",
       "      <th>4</th>\n",
       "      <td>4</td>\n",
       "      <td>41</td>\n",
       "      <td>9.756098</td>\n",
       "    </tr>\n",
       "    <tr>\n",
       "      <th>2</th>\n",
       "      <td>194</td>\n",
       "      <td>2039</td>\n",
       "      <td>9.514468</td>\n",
       "    </tr>\n",
       "    <tr>\n",
       "      <th>1</th>\n",
       "      <td>441</td>\n",
       "      <td>4792</td>\n",
       "      <td>9.202838</td>\n",
       "    </tr>\n",
       "    <tr>\n",
       "      <th>3</th>\n",
       "      <td>27</td>\n",
       "      <td>328</td>\n",
       "      <td>8.231707</td>\n",
       "    </tr>\n",
       "    <tr>\n",
       "      <th>0</th>\n",
       "      <td>1058</td>\n",
       "      <td>14021</td>\n",
       "      <td>7.545824</td>\n",
       "    </tr>\n",
       "    <tr>\n",
       "      <th>5</th>\n",
       "      <td>0</td>\n",
       "      <td>9</td>\n",
       "      <td>0.000000</td>\n",
       "    </tr>\n",
       "  </tbody>\n",
       "</table>\n",
       "</div>"
      ],
      "text/plain": [
       "           sum  count debt_percent\n",
       "          debt   debt             \n",
       "children                          \n",
       "4            4     41     9.756098\n",
       "2          194   2039     9.514468\n",
       "1          441   4792     9.202838\n",
       "3           27    328     8.231707\n",
       "0         1058  14021     7.545824\n",
       "5            0      9     0.000000"
      ]
     },
     "execution_count": 44,
     "metadata": {},
     "output_type": "execute_result"
    }
   ],
   "source": [
    "data_pivot = data_log.pivot_table(index = ['children'], values = 'debt', \n",
    "                                  aggfunc = ['sum', 'count'])\n",
    "data_pivot['debt_percent'] = data_pivot['sum'] / data_pivot['count'] *100\n",
    "data_pivot.sort_values(by='debt_percent', ascending=False)"
   ]
  },
  {
   "cell_type": "markdown",
   "id": "c7105dcd",
   "metadata": {},
   "source": [
    "##### Вывод 1:"
   ]
  },
  {
   "cell_type": "markdown",
   "id": "210ae1f7",
   "metadata": {},
   "source": [
    "Количество детей у заемщиков оказывает некоторое небольшое влияние на процент заемщиков, допустивших просрочку по кредиту.  \n",
    "1. В целом, чем больше детей, тем выше процент заемщиков, допустивших просрочку.  \n",
    "2. Исключение составляют заемщики с количеством детей, равным трем - в этом случае процент просрочки ниже, чем у заемщиков с 1, 2, 4 детьми, но выше, чем у бездетных. Впрочем, в этой подгруппе не так много заемщиков (328 из 21230), таким образом, выьорка по подгруппе может быть нерепрезентативна.  \n",
    "2. Заемщиков с 5 детьми всего 9 и ни один не допускал просрочку. По этой подгруппе выборка нерепрезентативна.  \n",
    "3. Заемщиков с 4 детьми всего 41 и хотя эта подгруппа допускает больше всего просрочек, выборка может быть нерепрезентативна."
   ]
  },
  {
   "cell_type": "markdown",
   "id": "345cb8a9",
   "metadata": {},
   "source": [
    "##### Вопрос 2: Есть ли зависимость между семейным положением и возвратом кредита в срок?"
   ]
  },
  {
   "cell_type": "code",
   "execution_count": 45,
   "id": "aa966e6d",
   "metadata": {},
   "outputs": [
    {
     "data": {
      "text/html": [
       "<div>\n",
       "<style scoped>\n",
       "    .dataframe tbody tr th:only-of-type {\n",
       "        vertical-align: middle;\n",
       "    }\n",
       "\n",
       "    .dataframe tbody tr th {\n",
       "        vertical-align: top;\n",
       "    }\n",
       "\n",
       "    .dataframe thead tr th {\n",
       "        text-align: left;\n",
       "    }\n",
       "\n",
       "    .dataframe thead tr:last-of-type th {\n",
       "        text-align: right;\n",
       "    }\n",
       "</style>\n",
       "<table border=\"1\" class=\"dataframe\">\n",
       "  <thead>\n",
       "    <tr>\n",
       "      <th></th>\n",
       "      <th>sum</th>\n",
       "      <th>count</th>\n",
       "      <th>debt_percent</th>\n",
       "      <th>family_status</th>\n",
       "    </tr>\n",
       "    <tr>\n",
       "      <th></th>\n",
       "      <th>debt</th>\n",
       "      <th>debt</th>\n",
       "      <th></th>\n",
       "      <th></th>\n",
       "    </tr>\n",
       "    <tr>\n",
       "      <th>family_status_id</th>\n",
       "      <th></th>\n",
       "      <th></th>\n",
       "      <th></th>\n",
       "      <th></th>\n",
       "    </tr>\n",
       "  </thead>\n",
       "  <tbody>\n",
       "    <tr>\n",
       "      <th>4</th>\n",
       "      <td>272</td>\n",
       "      <td>2780</td>\n",
       "      <td>9.784173</td>\n",
       "      <td>не женат / не замужем</td>\n",
       "    </tr>\n",
       "    <tr>\n",
       "      <th>1</th>\n",
       "      <td>383</td>\n",
       "      <td>4112</td>\n",
       "      <td>9.314202</td>\n",
       "      <td>гражданский брак</td>\n",
       "    </tr>\n",
       "    <tr>\n",
       "      <th>0</th>\n",
       "      <td>923</td>\n",
       "      <td>12213</td>\n",
       "      <td>7.557521</td>\n",
       "      <td>женат / замужем</td>\n",
       "    </tr>\n",
       "    <tr>\n",
       "      <th>3</th>\n",
       "      <td>84</td>\n",
       "      <td>1179</td>\n",
       "      <td>7.124682</td>\n",
       "      <td>в разводе</td>\n",
       "    </tr>\n",
       "    <tr>\n",
       "      <th>2</th>\n",
       "      <td>62</td>\n",
       "      <td>946</td>\n",
       "      <td>6.553911</td>\n",
       "      <td>вдовец / вдова</td>\n",
       "    </tr>\n",
       "  </tbody>\n",
       "</table>\n",
       "</div>"
      ],
      "text/plain": [
       "                  sum  count debt_percent          family_status\n",
       "                 debt   debt                                    \n",
       "family_status_id                                                \n",
       "4                 272   2780     9.784173  не женат / не замужем\n",
       "1                 383   4112     9.314202       гражданский брак\n",
       "0                 923  12213     7.557521        женат / замужем\n",
       "3                  84   1179     7.124682              в разводе\n",
       "2                  62    946     6.553911         вдовец / вдова"
      ]
     },
     "execution_count": 45,
     "metadata": {},
     "output_type": "execute_result"
    }
   ],
   "source": [
    "data_pivot = data_log.pivot_table(index = 'family_status_id', values = 'debt', \n",
    "                                  aggfunc = ['sum', 'count'])\n",
    "data_pivot['debt_percent'] = data_pivot['sum'] / data_pivot['count'] *100\n",
    "data_pivot['family_status'] = family_status_dict['family_status']\n",
    "data_pivot.sort_values(by='debt_percent', ascending=False)"
   ]
  },
  {
   "cell_type": "markdown",
   "id": "467876fd",
   "metadata": {},
   "source": [
    "##### Вывод 2:"
   ]
  },
  {
   "cell_type": "markdown",
   "id": "e3d4b00d",
   "metadata": {},
   "source": [
    "Семейное положение оказывает некоторое влияние на процент просроченных кредитов.  \n",
    "\n",
    "1. Больше всего просрочек у заемщиков без семей, чуть меньше - у живущих в гражданском браке.  \n",
    "2. Далее с существенным отрывом женатые и в разводе.  \n",
    "3. Меньше всего просрочек допускают вдовы и вдовцы."
   ]
  },
  {
   "cell_type": "markdown",
   "id": "5f736c23",
   "metadata": {},
   "source": [
    "##### Вопрос 3: Есть ли зависимость между уровнем дохода и возвратом кредита в срок?"
   ]
  },
  {
   "cell_type": "code",
   "execution_count": 46,
   "id": "19ad24f2",
   "metadata": {},
   "outputs": [
    {
     "data": {
      "text/html": [
       "<div>\n",
       "<style scoped>\n",
       "    .dataframe tbody tr th:only-of-type {\n",
       "        vertical-align: middle;\n",
       "    }\n",
       "\n",
       "    .dataframe tbody tr th {\n",
       "        vertical-align: top;\n",
       "    }\n",
       "\n",
       "    .dataframe thead tr th {\n",
       "        text-align: left;\n",
       "    }\n",
       "\n",
       "    .dataframe thead tr:last-of-type th {\n",
       "        text-align: right;\n",
       "    }\n",
       "</style>\n",
       "<table border=\"1\" class=\"dataframe\">\n",
       "  <thead>\n",
       "    <tr>\n",
       "      <th></th>\n",
       "      <th>sum</th>\n",
       "      <th>count</th>\n",
       "      <th>debt_percent</th>\n",
       "    </tr>\n",
       "    <tr>\n",
       "      <th></th>\n",
       "      <th>debt</th>\n",
       "      <th>debt</th>\n",
       "      <th></th>\n",
       "    </tr>\n",
       "    <tr>\n",
       "      <th>total_income_category</th>\n",
       "      <th></th>\n",
       "      <th></th>\n",
       "      <th></th>\n",
       "    </tr>\n",
       "  </thead>\n",
       "  <tbody>\n",
       "    <tr>\n",
       "      <th>E (0-30 т.р.)</th>\n",
       "      <td>2</td>\n",
       "      <td>22</td>\n",
       "      <td>9.090909</td>\n",
       "    </tr>\n",
       "    <tr>\n",
       "      <th>C (50-200 т.р.)</th>\n",
       "      <td>1346</td>\n",
       "      <td>15850</td>\n",
       "      <td>8.492114</td>\n",
       "    </tr>\n",
       "    <tr>\n",
       "      <th>A (&gt;1000 т.р.)</th>\n",
       "      <td>2</td>\n",
       "      <td>25</td>\n",
       "      <td>8.000000</td>\n",
       "    </tr>\n",
       "    <tr>\n",
       "      <th>B (200-1000 т.р.)</th>\n",
       "      <td>353</td>\n",
       "      <td>4986</td>\n",
       "      <td>7.079824</td>\n",
       "    </tr>\n",
       "    <tr>\n",
       "      <th>D (30-50 т.р.)</th>\n",
       "      <td>21</td>\n",
       "      <td>347</td>\n",
       "      <td>6.051873</td>\n",
       "    </tr>\n",
       "  </tbody>\n",
       "</table>\n",
       "</div>"
      ],
      "text/plain": [
       "                        sum  count debt_percent\n",
       "                       debt   debt             \n",
       "total_income_category                          \n",
       "E (0-30 т.р.)             2     22     9.090909\n",
       "C (50-200 т.р.)        1346  15850     8.492114\n",
       "A (>1000 т.р.)            2     25     8.000000\n",
       "B (200-1000 т.р.)       353   4986     7.079824\n",
       "D (30-50 т.р.)           21    347     6.051873"
      ]
     },
     "execution_count": 46,
     "metadata": {},
     "output_type": "execute_result"
    }
   ],
   "source": [
    "data_pivot = data_log.pivot_table(index = ['total_income_category'], values = 'debt', \n",
    "                                  aggfunc = ['sum', 'count'])\n",
    "data_pivot['debt_percent'] = data_pivot['sum'] / data_pivot['count'] *100\n",
    "data_pivot.sort_values(by='debt_percent', ascending=False)"
   ]
  },
  {
   "cell_type": "markdown",
   "id": "9cdfca8c",
   "metadata": {},
   "source": [
    "##### Вывод 3:"
   ]
  },
  {
   "cell_type": "markdown",
   "id": "4c4fffdd",
   "metadata": {},
   "source": [
    "Доход оказывает некоторое влияние на процент просроченных кредитов.  \n",
    "\n",
    "1. В целом, чем выше доход заемщиков, тем меньший процент просрочек они допускают.    \n",
    "2. При этом выборки по подгруппам заемщиков с доходами в диапазонах 0-30, 30-50 и  свыше 1000 тыс. рублей могут быть нерепрезентативными в силу ограниченного объема."
   ]
  },
  {
   "cell_type": "markdown",
   "id": "6394bfdd",
   "metadata": {},
   "source": [
    "##### Вопрос 4: Как разные цели кредита влияют на его возврат в срок?"
   ]
  },
  {
   "cell_type": "code",
   "execution_count": 47,
   "id": "b15eb7c5",
   "metadata": {
    "scrolled": true
   },
   "outputs": [
    {
     "data": {
      "text/html": [
       "<div>\n",
       "<style scoped>\n",
       "    .dataframe tbody tr th:only-of-type {\n",
       "        vertical-align: middle;\n",
       "    }\n",
       "\n",
       "    .dataframe tbody tr th {\n",
       "        vertical-align: top;\n",
       "    }\n",
       "\n",
       "    .dataframe thead tr th {\n",
       "        text-align: left;\n",
       "    }\n",
       "\n",
       "    .dataframe thead tr:last-of-type th {\n",
       "        text-align: right;\n",
       "    }\n",
       "</style>\n",
       "<table border=\"1\" class=\"dataframe\">\n",
       "  <thead>\n",
       "    <tr>\n",
       "      <th></th>\n",
       "      <th>sum</th>\n",
       "      <th>count</th>\n",
       "      <th>debt_percent</th>\n",
       "    </tr>\n",
       "    <tr>\n",
       "      <th></th>\n",
       "      <th>debt</th>\n",
       "      <th>debt</th>\n",
       "      <th></th>\n",
       "    </tr>\n",
       "    <tr>\n",
       "      <th>purpose_category</th>\n",
       "      <th></th>\n",
       "      <th></th>\n",
       "      <th></th>\n",
       "    </tr>\n",
       "  </thead>\n",
       "  <tbody>\n",
       "    <tr>\n",
       "      <th>получение образования</th>\n",
       "      <td>326</td>\n",
       "      <td>3477</td>\n",
       "      <td>9.375899</td>\n",
       "    </tr>\n",
       "    <tr>\n",
       "      <th>операции с автомобилем</th>\n",
       "      <td>440</td>\n",
       "      <td>4751</td>\n",
       "      <td>9.261208</td>\n",
       "    </tr>\n",
       "    <tr>\n",
       "      <th>проведение свадьбы</th>\n",
       "      <td>181</td>\n",
       "      <td>2299</td>\n",
       "      <td>7.872988</td>\n",
       "    </tr>\n",
       "    <tr>\n",
       "      <th>операции с недвижимостью</th>\n",
       "      <td>777</td>\n",
       "      <td>10703</td>\n",
       "      <td>7.259647</td>\n",
       "    </tr>\n",
       "  </tbody>\n",
       "</table>\n",
       "</div>"
      ],
      "text/plain": [
       "                          sum  count debt_percent\n",
       "                         debt   debt             \n",
       "purpose_category                                 \n",
       "получение образования     326   3477     9.375899\n",
       "операции с автомобилем    440   4751     9.261208\n",
       "проведение свадьбы        181   2299     7.872988\n",
       "операции с недвижимостью  777  10703     7.259647"
      ]
     },
     "execution_count": 47,
     "metadata": {},
     "output_type": "execute_result"
    }
   ],
   "source": [
    "data_pivot = data_log.pivot_table(index = ['purpose_category'], values = 'debt', \n",
    "                                  aggfunc = ['sum', 'count'])\n",
    "data_pivot['debt_percent'] = data_pivot['sum'] / data_pivot['count'] *100\n",
    "data_pivot.sort_values(by='debt_percent', ascending=False)"
   ]
  },
  {
   "cell_type": "markdown",
   "id": "018b012c",
   "metadata": {},
   "source": [
    "##### Вывод 4:"
   ]
  },
  {
   "cell_type": "markdown",
   "id": "7705e517",
   "metadata": {},
   "source": [
    "Цель кредита оказывает некоторое влияние на процент просроченных кредитов.  \n",
    "\n",
    "1. Кредиты на образование и приобретение автомобиля - наиболее рискованы.    \n",
    "2. Кредиты на свадьбу менее рискованы, еще менее - кредиты на недвижимость."
   ]
  },
  {
   "cell_type": "markdown",
   "id": "d5bc0223",
   "metadata": {},
   "source": [
    "## Общий вывод:"
   ]
  },
  {
   "cell_type": "markdown",
   "id": "c170479f",
   "metadata": {},
   "source": [
    "В ходе проекта изучены данные о заемщиках и просрочках исполнения ими кредитных обязательств.  \n",
    "\n",
    "На первом этапе данные проверены на аномалии, аномалии изучены и исправлены, поскольку сделан вывод об их незначительном влиянии на результаты исследования. Пропуски в количественных данных заполнены медианными значениями, явные и скрытые дубликаты удалены. Кроме того, данные структурированы для удобства и быстроты обработки.  \n",
    "\n",
    "На втором этапе сведения о доходах и целях кредитования категоризованы.\n",
    "\n",
    "На третьем этапе изучено влияние количества детей, семейного положения, уровня доходов и цели кредитования на наличие просрочек исполнения обязательств по кредитам. Обобщенные выводы представлены ниже."
   ]
  },
  {
   "cell_type": "markdown",
   "id": "0320e761",
   "metadata": {},
   "source": [
    "1. В целом, можно сделать вывод, что риск просрочки по кредиту увеличивается с возрастанием количества детей и умньшением доходов заемщиков. При этом, наиболее рисковыми подгруппами с точки зрения семейного статуса оказываются заемщики без семьи и живущие в гражданском браке. Наиболее рискованными целями кредитования являются получение образования и приобретение автомобиля.  \n",
    "2. Наименее рисковые подгруппы - кредиты на приобретение недвижимости, выданные вдовцам/вдовам, заемщикам без детей и с высоким доходом.  \n",
    "3. Необходима консультация с коллегами относительно данных о количестве дней трудового стажа - они не коррелируют с возрастом заемщика и количеством рабочих дней в году. Вероятно, эти данные искажены."
   ]
  }
 ],
 "metadata": {
  "ExecuteTimeLog": [
   {
    "duration": 478,
    "start_time": "2022-04-09T02:35:52.938Z"
   },
   {
    "duration": 59,
    "start_time": "2022-04-09T02:36:49.076Z"
   },
   {
    "duration": 66,
    "start_time": "2022-04-09T02:41:00.860Z"
   },
   {
    "duration": 70,
    "start_time": "2022-04-09T02:41:55.638Z"
   },
   {
    "duration": 76,
    "start_time": "2022-04-09T03:32:56.399Z"
   },
   {
    "duration": 65,
    "start_time": "2022-04-09T03:39:50.255Z"
   },
   {
    "duration": 15,
    "start_time": "2022-04-09T03:40:09.308Z"
   },
   {
    "duration": 61,
    "start_time": "2022-04-09T03:41:24.923Z"
   },
   {
    "duration": 5,
    "start_time": "2022-04-09T03:53:04.334Z"
   },
   {
    "duration": 62,
    "start_time": "2022-04-09T03:56:04.950Z"
   },
   {
    "duration": 8,
    "start_time": "2022-04-09T03:56:28.167Z"
   },
   {
    "duration": 8,
    "start_time": "2022-04-09T03:56:45.736Z"
   },
   {
    "duration": 4,
    "start_time": "2022-04-09T03:56:51.390Z"
   },
   {
    "duration": 3,
    "start_time": "2022-04-09T03:56:55.818Z"
   },
   {
    "duration": 6,
    "start_time": "2022-04-09T03:57:01.901Z"
   },
   {
    "duration": 21,
    "start_time": "2022-04-09T03:57:15.380Z"
   },
   {
    "duration": 15,
    "start_time": "2022-04-09T03:57:28.254Z"
   },
   {
    "duration": 4,
    "start_time": "2022-04-09T03:58:00.643Z"
   },
   {
    "duration": 15,
    "start_time": "2022-04-09T03:58:11.422Z"
   },
   {
    "duration": 16,
    "start_time": "2022-04-09T04:08:08.922Z"
   },
   {
    "duration": 10,
    "start_time": "2022-04-09T04:08:59.524Z"
   },
   {
    "duration": 15,
    "start_time": "2022-04-09T04:10:07.736Z"
   },
   {
    "duration": 115,
    "start_time": "2022-04-09T04:11:50.887Z"
   },
   {
    "duration": 95,
    "start_time": "2022-04-09T04:12:15.726Z"
   },
   {
    "duration": 5,
    "start_time": "2022-04-09T04:13:03.309Z"
   },
   {
    "duration": 7,
    "start_time": "2022-04-09T04:13:35.309Z"
   },
   {
    "duration": 14,
    "start_time": "2022-04-09T04:13:56.449Z"
   },
   {
    "duration": 15,
    "start_time": "2022-04-09T04:15:50.984Z"
   },
   {
    "duration": 6,
    "start_time": "2022-04-09T04:15:57.106Z"
   },
   {
    "duration": 4,
    "start_time": "2022-04-09T04:16:04.709Z"
   },
   {
    "duration": 144,
    "start_time": "2022-04-09T04:16:52.832Z"
   },
   {
    "duration": 16,
    "start_time": "2022-04-09T04:17:35.001Z"
   },
   {
    "duration": 4,
    "start_time": "2022-04-09T04:18:30.270Z"
   },
   {
    "duration": 6,
    "start_time": "2022-04-09T04:19:10.576Z"
   },
   {
    "duration": 180,
    "start_time": "2022-04-09T04:19:31.927Z"
   },
   {
    "duration": 8,
    "start_time": "2022-04-09T04:19:39.274Z"
   },
   {
    "duration": 5,
    "start_time": "2022-04-09T04:20:17.404Z"
   },
   {
    "duration": 5,
    "start_time": "2022-04-09T04:20:30.003Z"
   },
   {
    "duration": 7,
    "start_time": "2022-04-09T04:20:38.237Z"
   },
   {
    "duration": 6,
    "start_time": "2022-04-09T04:20:50.370Z"
   },
   {
    "duration": 64,
    "start_time": "2022-04-09T04:21:56.245Z"
   },
   {
    "duration": 16,
    "start_time": "2022-04-09T04:22:20.881Z"
   },
   {
    "duration": 4,
    "start_time": "2022-04-09T04:23:09.520Z"
   },
   {
    "duration": 16,
    "start_time": "2022-04-09T04:23:13.242Z"
   },
   {
    "duration": 64,
    "start_time": "2022-04-09T04:23:16.882Z"
   },
   {
    "duration": 6,
    "start_time": "2022-04-09T04:24:06.841Z"
   },
   {
    "duration": 5,
    "start_time": "2022-04-09T04:24:14.919Z"
   },
   {
    "duration": 6,
    "start_time": "2022-04-09T04:24:22.757Z"
   },
   {
    "duration": 7,
    "start_time": "2022-04-09T04:26:05.135Z"
   },
   {
    "duration": 4,
    "start_time": "2022-04-09T04:31:03.544Z"
   },
   {
    "duration": 4,
    "start_time": "2022-04-09T04:31:55.675Z"
   },
   {
    "duration": 4,
    "start_time": "2022-04-09T04:31:59.957Z"
   },
   {
    "duration": 6,
    "start_time": "2022-04-09T04:32:18.926Z"
   },
   {
    "duration": 5,
    "start_time": "2022-04-09T04:33:13.791Z"
   },
   {
    "duration": 7,
    "start_time": "2022-04-09T04:34:23.665Z"
   },
   {
    "duration": 7,
    "start_time": "2022-04-09T04:34:30.120Z"
   },
   {
    "duration": 2,
    "start_time": "2022-04-09T04:34:32.621Z"
   },
   {
    "duration": 7,
    "start_time": "2022-04-09T04:34:37.790Z"
   },
   {
    "duration": 2,
    "start_time": "2022-04-09T04:34:53.158Z"
   },
   {
    "duration": 5,
    "start_time": "2022-04-09T04:37:12.594Z"
   },
   {
    "duration": 7,
    "start_time": "2022-04-09T04:39:43.196Z"
   },
   {
    "duration": 6,
    "start_time": "2022-04-09T04:40:00.970Z"
   },
   {
    "duration": 20,
    "start_time": "2022-04-09T04:44:55.161Z"
   },
   {
    "duration": 13,
    "start_time": "2022-04-09T04:45:33.137Z"
   },
   {
    "duration": 15,
    "start_time": "2022-04-09T04:46:49.900Z"
   },
   {
    "duration": 12,
    "start_time": "2022-04-09T04:48:08.661Z"
   },
   {
    "duration": 9,
    "start_time": "2022-04-09T04:51:40.490Z"
   },
   {
    "duration": 6,
    "start_time": "2022-04-09T04:52:09.302Z"
   },
   {
    "duration": 5,
    "start_time": "2022-04-09T04:52:35.270Z"
   },
   {
    "duration": 16,
    "start_time": "2022-04-09T04:53:34.392Z"
   },
   {
    "duration": 13,
    "start_time": "2022-04-09T04:53:47.492Z"
   },
   {
    "duration": 12,
    "start_time": "2022-04-09T04:55:26.352Z"
   },
   {
    "duration": 8,
    "start_time": "2022-04-09T04:56:13.925Z"
   },
   {
    "duration": 9,
    "start_time": "2022-04-09T04:56:27.695Z"
   },
   {
    "duration": 8,
    "start_time": "2022-04-09T04:58:42.264Z"
   },
   {
    "duration": 422,
    "start_time": "2022-04-09T04:59:02.062Z"
   },
   {
    "duration": 14,
    "start_time": "2022-04-09T04:59:24.012Z"
   },
   {
    "duration": 6,
    "start_time": "2022-04-09T05:01:38.312Z"
   },
   {
    "duration": 7,
    "start_time": "2022-04-09T05:01:49.812Z"
   },
   {
    "duration": 13,
    "start_time": "2022-04-09T05:02:00.223Z"
   },
   {
    "duration": 5,
    "start_time": "2022-04-09T05:12:44.963Z"
   },
   {
    "duration": 4,
    "start_time": "2022-04-09T05:13:11.246Z"
   },
   {
    "duration": 5,
    "start_time": "2022-04-09T05:13:43.119Z"
   },
   {
    "duration": 15,
    "start_time": "2022-04-09T05:13:56.364Z"
   },
   {
    "duration": 16,
    "start_time": "2022-04-09T05:18:46.689Z"
   },
   {
    "duration": 9,
    "start_time": "2022-04-09T05:18:54.904Z"
   },
   {
    "duration": 16,
    "start_time": "2022-04-09T05:18:59.854Z"
   },
   {
    "duration": 17,
    "start_time": "2022-04-09T05:20:08.458Z"
   },
   {
    "duration": 16,
    "start_time": "2022-04-09T05:20:49.390Z"
   },
   {
    "duration": 6,
    "start_time": "2022-04-09T05:28:13.900Z"
   },
   {
    "duration": 9,
    "start_time": "2022-04-09T05:28:49.259Z"
   },
   {
    "duration": 8,
    "start_time": "2022-04-09T05:29:28.559Z"
   },
   {
    "duration": 7,
    "start_time": "2022-04-09T05:29:39.479Z"
   },
   {
    "duration": 8,
    "start_time": "2022-04-09T05:29:45.550Z"
   },
   {
    "duration": 134,
    "start_time": "2022-04-09T05:30:08.927Z"
   },
   {
    "duration": 23,
    "start_time": "2022-04-09T05:30:17.046Z"
   },
   {
    "duration": 22,
    "start_time": "2022-04-09T05:30:32.255Z"
   },
   {
    "duration": 13,
    "start_time": "2022-04-09T05:32:23.750Z"
   },
   {
    "duration": 13,
    "start_time": "2022-04-09T05:32:54.381Z"
   },
   {
    "duration": 7,
    "start_time": "2022-04-09T05:34:12.762Z"
   },
   {
    "duration": 8,
    "start_time": "2022-04-09T05:34:24.327Z"
   },
   {
    "duration": 23,
    "start_time": "2022-04-09T05:34:41.350Z"
   },
   {
    "duration": 7,
    "start_time": "2022-04-09T05:36:20.359Z"
   },
   {
    "duration": 7,
    "start_time": "2022-04-09T05:36:37.156Z"
   },
   {
    "duration": 4,
    "start_time": "2022-04-09T05:37:17.331Z"
   },
   {
    "duration": 10,
    "start_time": "2022-04-09T05:37:47.812Z"
   },
   {
    "duration": 18,
    "start_time": "2022-04-09T05:38:10.037Z"
   },
   {
    "duration": 9,
    "start_time": "2022-04-09T05:38:55.632Z"
   },
   {
    "duration": 11,
    "start_time": "2022-04-09T05:39:20.021Z"
   },
   {
    "duration": 27,
    "start_time": "2022-04-09T05:39:26.506Z"
   },
   {
    "duration": 9,
    "start_time": "2022-04-09T05:41:11.811Z"
   },
   {
    "duration": 27,
    "start_time": "2022-04-09T05:41:28.271Z"
   },
   {
    "duration": 28,
    "start_time": "2022-04-09T05:41:41.064Z"
   },
   {
    "duration": 26,
    "start_time": "2022-04-09T05:43:34.755Z"
   },
   {
    "duration": 20,
    "start_time": "2022-04-09T05:44:19.552Z"
   },
   {
    "duration": 17,
    "start_time": "2022-04-09T05:44:56.969Z"
   },
   {
    "duration": 27,
    "start_time": "2022-04-09T05:45:10.612Z"
   },
   {
    "duration": 19,
    "start_time": "2022-04-09T05:45:36.630Z"
   },
   {
    "duration": 65,
    "start_time": "2022-04-09T05:47:09.404Z"
   },
   {
    "duration": 13,
    "start_time": "2022-04-09T05:47:09.471Z"
   },
   {
    "duration": 4,
    "start_time": "2022-04-09T05:47:09.485Z"
   },
   {
    "duration": 6,
    "start_time": "2022-04-09T05:47:09.491Z"
   },
   {
    "duration": 5,
    "start_time": "2022-04-09T05:47:09.499Z"
   },
   {
    "duration": 13,
    "start_time": "2022-04-09T05:47:09.505Z"
   },
   {
    "duration": 42,
    "start_time": "2022-04-09T05:47:09.520Z"
   },
   {
    "duration": 5,
    "start_time": "2022-04-09T05:47:09.563Z"
   },
   {
    "duration": 13,
    "start_time": "2022-04-09T05:47:09.569Z"
   },
   {
    "duration": 14,
    "start_time": "2022-04-09T05:47:09.583Z"
   },
   {
    "duration": 14,
    "start_time": "2022-04-09T05:47:09.598Z"
   },
   {
    "duration": 38,
    "start_time": "2022-04-09T05:47:09.613Z"
   },
   {
    "duration": 17,
    "start_time": "2022-04-09T05:47:09.652Z"
   },
   {
    "duration": 20,
    "start_time": "2022-04-09T05:47:09.671Z"
   },
   {
    "duration": 16,
    "start_time": "2022-04-09T05:47:09.692Z"
   },
   {
    "duration": 19,
    "start_time": "2022-04-09T05:51:14.089Z"
   },
   {
    "duration": 9,
    "start_time": "2022-04-09T05:54:56.964Z"
   },
   {
    "duration": 20,
    "start_time": "2022-04-09T05:55:00.521Z"
   },
   {
    "duration": 20,
    "start_time": "2022-04-09T05:55:47.961Z"
   },
   {
    "duration": 18,
    "start_time": "2022-04-09T05:56:00.292Z"
   },
   {
    "duration": 20,
    "start_time": "2022-04-09T05:56:14.565Z"
   },
   {
    "duration": 20,
    "start_time": "2022-04-09T05:57:52.069Z"
   },
   {
    "duration": 21,
    "start_time": "2022-04-09T05:58:21.581Z"
   },
   {
    "duration": 19,
    "start_time": "2022-04-09T05:58:34.404Z"
   },
   {
    "duration": 20,
    "start_time": "2022-04-09T05:58:55.790Z"
   },
   {
    "duration": 110,
    "start_time": "2022-04-09T06:03:53.305Z"
   },
   {
    "duration": 10,
    "start_time": "2022-04-09T06:04:54.519Z"
   },
   {
    "duration": 21,
    "start_time": "2022-04-09T06:05:03.138Z"
   },
   {
    "duration": 70,
    "start_time": "2022-04-09T06:08:11.759Z"
   },
   {
    "duration": 14,
    "start_time": "2022-04-09T06:08:11.831Z"
   },
   {
    "duration": 6,
    "start_time": "2022-04-09T06:08:11.846Z"
   },
   {
    "duration": 9,
    "start_time": "2022-04-09T06:08:11.854Z"
   },
   {
    "duration": 6,
    "start_time": "2022-04-09T06:08:11.864Z"
   },
   {
    "duration": 14,
    "start_time": "2022-04-09T06:08:11.872Z"
   },
   {
    "duration": 16,
    "start_time": "2022-04-09T06:08:11.888Z"
   },
   {
    "duration": 6,
    "start_time": "2022-04-09T06:08:11.906Z"
   },
   {
    "duration": 8,
    "start_time": "2022-04-09T06:08:11.947Z"
   },
   {
    "duration": 8,
    "start_time": "2022-04-09T06:08:11.958Z"
   },
   {
    "duration": 24,
    "start_time": "2022-04-09T06:08:11.968Z"
   },
   {
    "duration": 25,
    "start_time": "2022-04-09T06:08:11.994Z"
   },
   {
    "duration": 31,
    "start_time": "2022-04-09T06:08:12.021Z"
   },
   {
    "duration": 19,
    "start_time": "2022-04-09T06:08:12.053Z"
   },
   {
    "duration": 18,
    "start_time": "2022-04-09T06:08:12.074Z"
   },
   {
    "duration": 15,
    "start_time": "2022-04-09T06:08:12.093Z"
   },
   {
    "duration": 19,
    "start_time": "2022-04-09T06:16:54.783Z"
   },
   {
    "duration": 20,
    "start_time": "2022-04-09T06:17:19.723Z"
   },
   {
    "duration": 117,
    "start_time": "2022-04-09T06:18:10.939Z"
   },
   {
    "duration": 21,
    "start_time": "2022-04-09T06:19:33.357Z"
   },
   {
    "duration": 21,
    "start_time": "2022-04-09T06:20:11.613Z"
   },
   {
    "duration": 20,
    "start_time": "2022-04-09T06:20:27.653Z"
   },
   {
    "duration": 20,
    "start_time": "2022-04-09T06:21:04.608Z"
   },
   {
    "duration": 17,
    "start_time": "2022-04-09T06:25:55.800Z"
   },
   {
    "duration": 1937,
    "start_time": "2022-04-09T06:29:03.851Z"
   },
   {
    "duration": 101,
    "start_time": "2022-04-09T06:34:22.740Z"
   },
   {
    "duration": 111,
    "start_time": "2022-04-09T06:35:02.871Z"
   },
   {
    "duration": 117,
    "start_time": "2022-04-09T06:35:11.749Z"
   },
   {
    "duration": 16,
    "start_time": "2022-04-09T06:35:40.599Z"
   },
   {
    "duration": 67,
    "start_time": "2022-04-09T06:35:44.569Z"
   },
   {
    "duration": 15,
    "start_time": "2022-04-09T06:35:44.637Z"
   },
   {
    "duration": 4,
    "start_time": "2022-04-09T06:35:44.654Z"
   },
   {
    "duration": 6,
    "start_time": "2022-04-09T06:35:44.660Z"
   },
   {
    "duration": 6,
    "start_time": "2022-04-09T06:35:44.667Z"
   },
   {
    "duration": 12,
    "start_time": "2022-04-09T06:35:44.674Z"
   },
   {
    "duration": 15,
    "start_time": "2022-04-09T06:35:44.688Z"
   },
   {
    "duration": 5,
    "start_time": "2022-04-09T06:35:44.704Z"
   },
   {
    "duration": 38,
    "start_time": "2022-04-09T06:35:44.711Z"
   },
   {
    "duration": 8,
    "start_time": "2022-04-09T06:35:44.751Z"
   },
   {
    "duration": 12,
    "start_time": "2022-04-09T06:35:44.760Z"
   },
   {
    "duration": 18,
    "start_time": "2022-04-09T06:35:44.774Z"
   },
   {
    "duration": 17,
    "start_time": "2022-04-09T06:35:44.793Z"
   },
   {
    "duration": 49,
    "start_time": "2022-04-09T06:35:44.812Z"
   },
   {
    "duration": 19,
    "start_time": "2022-04-09T06:35:44.863Z"
   },
   {
    "duration": 19,
    "start_time": "2022-04-09T06:35:44.883Z"
   },
   {
    "duration": 18,
    "start_time": "2022-04-09T06:35:44.903Z"
   },
   {
    "duration": 126,
    "start_time": "2022-04-09T06:35:44.947Z"
   },
   {
    "duration": 0,
    "start_time": "2022-04-09T06:35:45.075Z"
   },
   {
    "duration": 0,
    "start_time": "2022-04-09T06:35:45.076Z"
   },
   {
    "duration": 101,
    "start_time": "2022-04-09T06:36:47.197Z"
   },
   {
    "duration": 113,
    "start_time": "2022-04-09T06:36:57.468Z"
   },
   {
    "duration": 111,
    "start_time": "2022-04-09T06:37:11.856Z"
   },
   {
    "duration": 117,
    "start_time": "2022-04-09T06:37:18.319Z"
   },
   {
    "duration": 102,
    "start_time": "2022-04-09T06:37:47.676Z"
   },
   {
    "duration": 106,
    "start_time": "2022-04-09T06:38:02.287Z"
   },
   {
    "duration": 104,
    "start_time": "2022-04-09T06:38:09.446Z"
   },
   {
    "duration": 15,
    "start_time": "2022-04-09T06:42:10.649Z"
   },
   {
    "duration": 17,
    "start_time": "2022-04-09T06:47:46.662Z"
   },
   {
    "duration": 17,
    "start_time": "2022-04-09T06:47:54.050Z"
   },
   {
    "duration": 15,
    "start_time": "2022-04-09T06:48:53.759Z"
   },
   {
    "duration": 15,
    "start_time": "2022-04-09T06:49:18.287Z"
   },
   {
    "duration": 16,
    "start_time": "2022-04-09T06:49:39.018Z"
   },
   {
    "duration": 14,
    "start_time": "2022-04-09T06:49:45.404Z"
   },
   {
    "duration": 15,
    "start_time": "2022-04-09T06:49:55.546Z"
   },
   {
    "duration": 8,
    "start_time": "2022-04-09T06:52:39.915Z"
   },
   {
    "duration": 13,
    "start_time": "2022-04-09T06:52:47.419Z"
   },
   {
    "duration": 13,
    "start_time": "2022-04-09T06:53:32.218Z"
   },
   {
    "duration": 18,
    "start_time": "2022-04-09T06:54:33.292Z"
   },
   {
    "duration": 32,
    "start_time": "2022-04-09T06:55:25.925Z"
   },
   {
    "duration": 7,
    "start_time": "2022-04-09T07:00:06.431Z"
   },
   {
    "duration": 7,
    "start_time": "2022-04-09T07:01:08.954Z"
   },
   {
    "duration": 7,
    "start_time": "2022-04-09T07:02:13.783Z"
   },
   {
    "duration": 7,
    "start_time": "2022-04-09T07:02:19.448Z"
   },
   {
    "duration": 13,
    "start_time": "2022-04-09T07:16:45.269Z"
   },
   {
    "duration": 10,
    "start_time": "2022-04-09T07:16:54.855Z"
   },
   {
    "duration": 22,
    "start_time": "2022-04-09T07:17:11.539Z"
   },
   {
    "duration": 29,
    "start_time": "2022-04-09T07:17:28.792Z"
   },
   {
    "duration": 34,
    "start_time": "2022-04-09T07:17:51.973Z"
   },
   {
    "duration": 20,
    "start_time": "2022-04-09T07:18:58.771Z"
   },
   {
    "duration": 18,
    "start_time": "2022-04-09T07:19:34.094Z"
   },
   {
    "duration": 17,
    "start_time": "2022-04-09T07:19:38.889Z"
   },
   {
    "duration": 71,
    "start_time": "2022-04-09T07:19:48.751Z"
   },
   {
    "duration": 23,
    "start_time": "2022-04-09T07:19:48.824Z"
   },
   {
    "duration": 4,
    "start_time": "2022-04-09T07:19:48.849Z"
   },
   {
    "duration": 11,
    "start_time": "2022-04-09T07:19:48.855Z"
   },
   {
    "duration": 5,
    "start_time": "2022-04-09T07:19:48.868Z"
   },
   {
    "duration": 21,
    "start_time": "2022-04-09T07:19:48.874Z"
   },
   {
    "duration": 14,
    "start_time": "2022-04-09T07:19:48.897Z"
   },
   {
    "duration": 5,
    "start_time": "2022-04-09T07:19:48.912Z"
   },
   {
    "duration": 33,
    "start_time": "2022-04-09T07:19:48.919Z"
   },
   {
    "duration": 7,
    "start_time": "2022-04-09T07:19:48.954Z"
   },
   {
    "duration": 14,
    "start_time": "2022-04-09T07:19:48.962Z"
   },
   {
    "duration": 17,
    "start_time": "2022-04-09T07:19:48.977Z"
   },
   {
    "duration": 15,
    "start_time": "2022-04-09T07:19:48.995Z"
   },
   {
    "duration": 52,
    "start_time": "2022-04-09T07:19:49.013Z"
   },
   {
    "duration": 18,
    "start_time": "2022-04-09T07:19:49.067Z"
   },
   {
    "duration": 18,
    "start_time": "2022-04-09T07:19:49.086Z"
   },
   {
    "duration": 41,
    "start_time": "2022-04-09T07:19:49.106Z"
   },
   {
    "duration": 14,
    "start_time": "2022-04-09T07:19:49.149Z"
   },
   {
    "duration": 16,
    "start_time": "2022-04-09T07:19:49.165Z"
   },
   {
    "duration": 15,
    "start_time": "2022-04-09T07:19:49.182Z"
   },
   {
    "duration": 12,
    "start_time": "2022-04-09T07:19:49.198Z"
   },
   {
    "duration": 47,
    "start_time": "2022-04-09T07:19:49.211Z"
   },
   {
    "duration": 6,
    "start_time": "2022-04-09T07:19:49.259Z"
   },
   {
    "duration": 9,
    "start_time": "2022-04-09T07:19:49.267Z"
   },
   {
    "duration": 7,
    "start_time": "2022-04-09T07:19:49.278Z"
   },
   {
    "duration": 8,
    "start_time": "2022-04-09T07:19:49.287Z"
   },
   {
    "duration": 92,
    "start_time": "2022-04-09T07:19:49.297Z"
   },
   {
    "duration": 21,
    "start_time": "2022-04-09T07:19:49.391Z"
   },
   {
    "duration": 50,
    "start_time": "2022-04-09T07:19:49.413Z"
   },
   {
    "duration": 5,
    "start_time": "2022-04-09T07:31:40.297Z"
   },
   {
    "duration": 14,
    "start_time": "2022-04-09T07:32:43.272Z"
   },
   {
    "duration": 19,
    "start_time": "2022-04-09T07:33:01.564Z"
   },
   {
    "duration": 22,
    "start_time": "2022-04-09T07:34:59.771Z"
   },
   {
    "duration": 28,
    "start_time": "2022-04-09T07:35:29.215Z"
   },
   {
    "duration": 20,
    "start_time": "2022-04-09T07:35:45.685Z"
   },
   {
    "duration": 22,
    "start_time": "2022-04-09T07:35:57.909Z"
   },
   {
    "duration": 116,
    "start_time": "2022-04-09T07:36:11.834Z"
   },
   {
    "duration": 29,
    "start_time": "2022-04-09T07:36:16.568Z"
   },
   {
    "duration": 35,
    "start_time": "2022-04-09T07:36:34.075Z"
   },
   {
    "duration": 39,
    "start_time": "2022-04-09T07:36:54.037Z"
   },
   {
    "duration": 7,
    "start_time": "2022-04-09T07:37:30.451Z"
   },
   {
    "duration": 10,
    "start_time": "2022-04-09T07:37:36.965Z"
   },
   {
    "duration": 4,
    "start_time": "2022-04-09T07:43:28.340Z"
   },
   {
    "duration": 13,
    "start_time": "2022-04-09T07:44:52.411Z"
   },
   {
    "duration": 17,
    "start_time": "2022-04-09T07:45:00.160Z"
   },
   {
    "duration": 19,
    "start_time": "2022-04-09T07:45:07.928Z"
   },
   {
    "duration": 65,
    "start_time": "2022-04-09T07:45:21.388Z"
   },
   {
    "duration": 16,
    "start_time": "2022-04-09T07:45:21.455Z"
   },
   {
    "duration": 4,
    "start_time": "2022-04-09T07:45:21.473Z"
   },
   {
    "duration": 11,
    "start_time": "2022-04-09T07:45:21.479Z"
   },
   {
    "duration": 5,
    "start_time": "2022-04-09T07:45:21.493Z"
   },
   {
    "duration": 15,
    "start_time": "2022-04-09T07:45:21.500Z"
   },
   {
    "duration": 45,
    "start_time": "2022-04-09T07:45:21.517Z"
   },
   {
    "duration": 4,
    "start_time": "2022-04-09T07:45:21.564Z"
   },
   {
    "duration": 10,
    "start_time": "2022-04-09T07:45:21.570Z"
   },
   {
    "duration": 10,
    "start_time": "2022-04-09T07:45:21.581Z"
   },
   {
    "duration": 12,
    "start_time": "2022-04-09T07:45:21.593Z"
   },
   {
    "duration": 47,
    "start_time": "2022-04-09T07:45:21.606Z"
   },
   {
    "duration": 16,
    "start_time": "2022-04-09T07:45:21.654Z"
   },
   {
    "duration": 18,
    "start_time": "2022-04-09T07:45:21.673Z"
   },
   {
    "duration": 18,
    "start_time": "2022-04-09T07:45:21.692Z"
   },
   {
    "duration": 48,
    "start_time": "2022-04-09T07:45:21.712Z"
   },
   {
    "duration": 19,
    "start_time": "2022-04-09T07:45:21.762Z"
   },
   {
    "duration": 14,
    "start_time": "2022-04-09T07:45:21.782Z"
   },
   {
    "duration": 19,
    "start_time": "2022-04-09T07:45:21.797Z"
   },
   {
    "duration": 39,
    "start_time": "2022-04-09T07:45:21.818Z"
   },
   {
    "duration": 12,
    "start_time": "2022-04-09T07:45:21.859Z"
   },
   {
    "duration": 17,
    "start_time": "2022-04-09T07:45:21.872Z"
   },
   {
    "duration": 6,
    "start_time": "2022-04-09T07:45:21.891Z"
   },
   {
    "duration": 8,
    "start_time": "2022-04-09T07:45:21.899Z"
   },
   {
    "duration": 42,
    "start_time": "2022-04-09T07:45:21.909Z"
   },
   {
    "duration": 7,
    "start_time": "2022-04-09T07:45:21.952Z"
   },
   {
    "duration": 33,
    "start_time": "2022-04-09T07:45:21.960Z"
   },
   {
    "duration": 21,
    "start_time": "2022-04-09T07:45:21.995Z"
   },
   {
    "duration": 58,
    "start_time": "2022-04-09T07:45:22.017Z"
   },
   {
    "duration": 31,
    "start_time": "2022-04-09T07:45:22.076Z"
   },
   {
    "duration": 18,
    "start_time": "2022-04-09T07:45:22.108Z"
   },
   {
    "duration": 18,
    "start_time": "2022-04-09T07:47:40.242Z"
   },
   {
    "duration": 444,
    "start_time": "2022-04-09T07:49:10.475Z"
   },
   {
    "duration": 521,
    "start_time": "2022-04-09T08:09:15.677Z"
   },
   {
    "duration": 28,
    "start_time": "2022-04-09T08:10:26.001Z"
   },
   {
    "duration": 141,
    "start_time": "2022-04-09T08:13:52.083Z"
   },
   {
    "duration": 20,
    "start_time": "2022-04-09T08:19:40.161Z"
   },
   {
    "duration": 27,
    "start_time": "2022-04-09T08:19:50.390Z"
   },
   {
    "duration": 34,
    "start_time": "2022-04-09T08:20:01.463Z"
   },
   {
    "duration": 34,
    "start_time": "2022-04-09T08:20:06.041Z"
   },
   {
    "duration": 63,
    "start_time": "2022-04-09T08:21:19.064Z"
   },
   {
    "duration": 18,
    "start_time": "2022-04-09T08:21:19.129Z"
   },
   {
    "duration": 8,
    "start_time": "2022-04-09T08:21:19.149Z"
   },
   {
    "duration": 6,
    "start_time": "2022-04-09T08:21:19.159Z"
   },
   {
    "duration": 5,
    "start_time": "2022-04-09T08:21:19.166Z"
   },
   {
    "duration": 12,
    "start_time": "2022-04-09T08:21:19.173Z"
   },
   {
    "duration": 15,
    "start_time": "2022-04-09T08:21:19.186Z"
   },
   {
    "duration": 5,
    "start_time": "2022-04-09T08:21:19.203Z"
   },
   {
    "duration": 43,
    "start_time": "2022-04-09T08:21:19.209Z"
   },
   {
    "duration": 7,
    "start_time": "2022-04-09T08:21:19.255Z"
   },
   {
    "duration": 11,
    "start_time": "2022-04-09T08:21:19.264Z"
   },
   {
    "duration": 18,
    "start_time": "2022-04-09T08:21:19.277Z"
   },
   {
    "duration": 15,
    "start_time": "2022-04-09T08:21:19.297Z"
   },
   {
    "duration": 48,
    "start_time": "2022-04-09T08:21:19.314Z"
   },
   {
    "duration": 19,
    "start_time": "2022-04-09T08:21:19.364Z"
   },
   {
    "duration": 20,
    "start_time": "2022-04-09T08:21:19.385Z"
   },
   {
    "duration": 49,
    "start_time": "2022-04-09T08:21:19.407Z"
   },
   {
    "duration": 15,
    "start_time": "2022-04-09T08:21:19.458Z"
   },
   {
    "duration": 27,
    "start_time": "2022-04-09T08:21:19.475Z"
   },
   {
    "duration": 17,
    "start_time": "2022-04-09T08:21:19.504Z"
   },
   {
    "duration": 33,
    "start_time": "2022-04-09T08:21:19.523Z"
   },
   {
    "duration": 20,
    "start_time": "2022-04-09T08:21:19.558Z"
   },
   {
    "duration": 7,
    "start_time": "2022-04-09T08:21:19.580Z"
   },
   {
    "duration": 10,
    "start_time": "2022-04-09T08:21:19.589Z"
   },
   {
    "duration": 9,
    "start_time": "2022-04-09T08:21:19.601Z"
   },
   {
    "duration": 40,
    "start_time": "2022-04-09T08:21:19.612Z"
   },
   {
    "duration": 33,
    "start_time": "2022-04-09T08:21:19.654Z"
   },
   {
    "duration": 23,
    "start_time": "2022-04-09T08:21:19.690Z"
   },
   {
    "duration": 55,
    "start_time": "2022-04-09T08:21:19.715Z"
   },
   {
    "duration": 33,
    "start_time": "2022-04-09T08:21:19.772Z"
   },
   {
    "duration": 18,
    "start_time": "2022-04-09T08:21:19.806Z"
   },
   {
    "duration": 50,
    "start_time": "2022-04-09T08:21:19.826Z"
   },
   {
    "duration": 41,
    "start_time": "2022-04-09T08:21:19.878Z"
   },
   {
    "duration": 9,
    "start_time": "2022-04-09T08:21:46.246Z"
   },
   {
    "duration": 15,
    "start_time": "2022-04-09T08:22:07.122Z"
   },
   {
    "duration": 17,
    "start_time": "2022-04-09T08:23:27.812Z"
   },
   {
    "duration": 15,
    "start_time": "2022-04-09T08:24:58.184Z"
   },
   {
    "duration": 13,
    "start_time": "2022-04-09T08:27:15.312Z"
   },
   {
    "duration": 36,
    "start_time": "2022-04-09T08:27:29.849Z"
   },
   {
    "duration": 24,
    "start_time": "2022-04-09T08:28:10.421Z"
   },
   {
    "duration": 6,
    "start_time": "2022-04-09T08:55:10.353Z"
   },
   {
    "duration": 21,
    "start_time": "2022-04-09T08:55:44.595Z"
   },
   {
    "duration": 20,
    "start_time": "2022-04-09T08:56:49.959Z"
   },
   {
    "duration": 20,
    "start_time": "2022-04-09T08:56:56.716Z"
   },
   {
    "duration": 6,
    "start_time": "2022-04-09T09:00:01.846Z"
   },
   {
    "duration": 19,
    "start_time": "2022-04-09T09:00:40.950Z"
   },
   {
    "duration": 21,
    "start_time": "2022-04-09T09:01:14.783Z"
   },
   {
    "duration": 18,
    "start_time": "2022-04-09T09:07:52.495Z"
   },
   {
    "duration": 68,
    "start_time": "2022-04-09T09:08:58.922Z"
   },
   {
    "duration": 15,
    "start_time": "2022-04-09T09:08:58.992Z"
   },
   {
    "duration": 5,
    "start_time": "2022-04-09T09:08:59.008Z"
   },
   {
    "duration": 35,
    "start_time": "2022-04-09T09:08:59.015Z"
   },
   {
    "duration": 7,
    "start_time": "2022-04-09T09:08:59.052Z"
   },
   {
    "duration": 13,
    "start_time": "2022-04-09T09:08:59.061Z"
   },
   {
    "duration": 16,
    "start_time": "2022-04-09T09:08:59.076Z"
   },
   {
    "duration": 5,
    "start_time": "2022-04-09T09:08:59.094Z"
   },
   {
    "duration": 51,
    "start_time": "2022-04-09T09:08:59.101Z"
   },
   {
    "duration": 8,
    "start_time": "2022-04-09T09:08:59.156Z"
   },
   {
    "duration": 13,
    "start_time": "2022-04-09T09:08:59.165Z"
   },
   {
    "duration": 17,
    "start_time": "2022-04-09T09:08:59.180Z"
   },
   {
    "duration": 51,
    "start_time": "2022-04-09T09:08:59.199Z"
   },
   {
    "duration": 20,
    "start_time": "2022-04-09T09:08:59.253Z"
   },
   {
    "duration": 19,
    "start_time": "2022-04-09T09:08:59.275Z"
   },
   {
    "duration": 19,
    "start_time": "2022-04-09T09:08:59.296Z"
   },
   {
    "duration": 47,
    "start_time": "2022-04-09T09:08:59.317Z"
   },
   {
    "duration": 14,
    "start_time": "2022-04-09T09:08:59.366Z"
   },
   {
    "duration": 18,
    "start_time": "2022-04-09T09:08:59.382Z"
   },
   {
    "duration": 45,
    "start_time": "2022-04-09T09:08:59.402Z"
   },
   {
    "duration": 7,
    "start_time": "2022-04-09T09:08:59.449Z"
   },
   {
    "duration": 25,
    "start_time": "2022-04-09T09:08:59.457Z"
   },
   {
    "duration": 20,
    "start_time": "2022-04-09T09:08:59.483Z"
   },
   {
    "duration": 45,
    "start_time": "2022-04-09T09:08:59.505Z"
   },
   {
    "duration": 12,
    "start_time": "2022-04-09T09:08:59.552Z"
   },
   {
    "duration": 17,
    "start_time": "2022-04-09T09:08:59.566Z"
   },
   {
    "duration": 8,
    "start_time": "2022-04-09T09:08:59.585Z"
   },
   {
    "duration": 8,
    "start_time": "2022-04-09T09:08:59.597Z"
   },
   {
    "duration": 7,
    "start_time": "2022-04-09T09:08:59.607Z"
   },
   {
    "duration": 8,
    "start_time": "2022-04-09T09:08:59.649Z"
   },
   {
    "duration": 31,
    "start_time": "2022-04-09T09:08:59.659Z"
   },
   {
    "duration": 20,
    "start_time": "2022-04-09T09:08:59.692Z"
   },
   {
    "duration": 60,
    "start_time": "2022-04-09T09:08:59.713Z"
   },
   {
    "duration": 30,
    "start_time": "2022-04-09T09:08:59.775Z"
   },
   {
    "duration": 17,
    "start_time": "2022-04-09T09:08:59.807Z"
   },
   {
    "duration": 27,
    "start_time": "2022-04-09T09:08:59.847Z"
   },
   {
    "duration": 22,
    "start_time": "2022-04-09T09:08:59.876Z"
   },
   {
    "duration": 7,
    "start_time": "2022-04-09T09:10:04.651Z"
   },
   {
    "duration": 8,
    "start_time": "2022-04-09T09:14:03.746Z"
   },
   {
    "duration": 7,
    "start_time": "2022-04-09T09:14:15.296Z"
   },
   {
    "duration": 6,
    "start_time": "2022-04-09T09:14:42.694Z"
   },
   {
    "duration": 7,
    "start_time": "2022-04-09T09:15:10.153Z"
   },
   {
    "duration": 8,
    "start_time": "2022-04-09T09:16:12.368Z"
   },
   {
    "duration": 71,
    "start_time": "2022-04-09T09:16:22.067Z"
   },
   {
    "duration": 16,
    "start_time": "2022-04-09T09:16:22.140Z"
   },
   {
    "duration": 4,
    "start_time": "2022-04-09T09:16:22.158Z"
   },
   {
    "duration": 7,
    "start_time": "2022-04-09T09:16:22.165Z"
   },
   {
    "duration": 9,
    "start_time": "2022-04-09T09:16:22.173Z"
   },
   {
    "duration": 14,
    "start_time": "2022-04-09T09:16:22.183Z"
   },
   {
    "duration": 49,
    "start_time": "2022-04-09T09:16:22.199Z"
   },
   {
    "duration": 7,
    "start_time": "2022-04-09T09:16:22.250Z"
   },
   {
    "duration": 13,
    "start_time": "2022-04-09T09:16:22.258Z"
   },
   {
    "duration": 19,
    "start_time": "2022-04-09T09:16:22.274Z"
   },
   {
    "duration": 22,
    "start_time": "2022-04-09T09:16:22.295Z"
   },
   {
    "duration": 18,
    "start_time": "2022-04-09T09:16:22.318Z"
   },
   {
    "duration": 25,
    "start_time": "2022-04-09T09:16:22.337Z"
   },
   {
    "duration": 20,
    "start_time": "2022-04-09T09:16:22.363Z"
   },
   {
    "duration": 19,
    "start_time": "2022-04-09T09:16:22.385Z"
   },
   {
    "duration": 48,
    "start_time": "2022-04-09T09:16:22.406Z"
   },
   {
    "duration": 19,
    "start_time": "2022-04-09T09:16:22.455Z"
   },
   {
    "duration": 13,
    "start_time": "2022-04-09T09:16:22.476Z"
   },
   {
    "duration": 18,
    "start_time": "2022-04-09T09:16:22.490Z"
   },
   {
    "duration": 40,
    "start_time": "2022-04-09T09:16:22.509Z"
   },
   {
    "duration": 5,
    "start_time": "2022-04-09T09:16:22.551Z"
   },
   {
    "duration": 20,
    "start_time": "2022-04-09T09:16:22.558Z"
   },
   {
    "duration": 19,
    "start_time": "2022-04-09T09:16:22.580Z"
   },
   {
    "duration": 19,
    "start_time": "2022-04-09T09:16:22.601Z"
   },
   {
    "duration": 8,
    "start_time": "2022-04-09T09:16:22.648Z"
   },
   {
    "duration": 11,
    "start_time": "2022-04-09T09:16:22.658Z"
   },
   {
    "duration": 18,
    "start_time": "2022-04-09T09:16:22.670Z"
   },
   {
    "duration": 6,
    "start_time": "2022-04-09T09:16:22.691Z"
   },
   {
    "duration": 8,
    "start_time": "2022-04-09T09:16:22.698Z"
   },
   {
    "duration": 42,
    "start_time": "2022-04-09T09:16:22.708Z"
   },
   {
    "duration": 12,
    "start_time": "2022-04-09T09:16:22.752Z"
   },
   {
    "duration": 32,
    "start_time": "2022-04-09T09:16:22.766Z"
   },
   {
    "duration": 18,
    "start_time": "2022-04-09T09:16:22.800Z"
   },
   {
    "duration": 50,
    "start_time": "2022-04-09T09:16:22.820Z"
   },
   {
    "duration": 29,
    "start_time": "2022-04-09T09:16:22.872Z"
   },
   {
    "duration": 16,
    "start_time": "2022-04-09T09:16:22.903Z"
   },
   {
    "duration": 50,
    "start_time": "2022-04-09T09:16:22.921Z"
   },
   {
    "duration": 25,
    "start_time": "2022-04-09T09:16:22.973Z"
   },
   {
    "duration": 48,
    "start_time": "2022-04-09T09:17:13.788Z"
   },
   {
    "duration": 11,
    "start_time": "2022-04-09T09:17:32.215Z"
   },
   {
    "duration": 47,
    "start_time": "2022-04-09T09:17:52.102Z"
   },
   {
    "duration": 7,
    "start_time": "2022-04-09T09:19:26.986Z"
   },
   {
    "duration": 7,
    "start_time": "2022-04-09T09:19:31.024Z"
   },
   {
    "duration": 8,
    "start_time": "2022-04-09T09:19:53.474Z"
   },
   {
    "duration": 6,
    "start_time": "2022-04-09T09:20:02.728Z"
   },
   {
    "duration": 7,
    "start_time": "2022-04-09T09:20:07.315Z"
   },
   {
    "duration": 6,
    "start_time": "2022-04-09T09:20:16.521Z"
   },
   {
    "duration": 20,
    "start_time": "2022-04-09T09:22:43.311Z"
   },
   {
    "duration": 3,
    "start_time": "2022-04-09T09:28:33.907Z"
   },
   {
    "duration": 23,
    "start_time": "2022-04-09T09:28:43.926Z"
   },
   {
    "duration": 62,
    "start_time": "2022-04-09T09:28:54.365Z"
   },
   {
    "duration": 16,
    "start_time": "2022-04-09T09:28:54.428Z"
   },
   {
    "duration": 5,
    "start_time": "2022-04-09T09:28:54.447Z"
   },
   {
    "duration": 6,
    "start_time": "2022-04-09T09:28:54.454Z"
   },
   {
    "duration": 7,
    "start_time": "2022-04-09T09:28:54.462Z"
   },
   {
    "duration": 13,
    "start_time": "2022-04-09T09:28:54.470Z"
   },
   {
    "duration": 17,
    "start_time": "2022-04-09T09:28:54.484Z"
   },
   {
    "duration": 5,
    "start_time": "2022-04-09T09:28:54.502Z"
   },
   {
    "duration": 44,
    "start_time": "2022-04-09T09:28:54.509Z"
   },
   {
    "duration": 8,
    "start_time": "2022-04-09T09:28:54.555Z"
   },
   {
    "duration": 11,
    "start_time": "2022-04-09T09:28:54.564Z"
   },
   {
    "duration": 17,
    "start_time": "2022-04-09T09:28:54.577Z"
   },
   {
    "duration": 53,
    "start_time": "2022-04-09T09:28:54.596Z"
   },
   {
    "duration": 20,
    "start_time": "2022-04-09T09:28:54.650Z"
   },
   {
    "duration": 20,
    "start_time": "2022-04-09T09:28:54.672Z"
   },
   {
    "duration": 20,
    "start_time": "2022-04-09T09:28:54.694Z"
   },
   {
    "duration": 20,
    "start_time": "2022-04-09T09:28:54.748Z"
   },
   {
    "duration": 14,
    "start_time": "2022-04-09T09:28:54.769Z"
   },
   {
    "duration": 17,
    "start_time": "2022-04-09T09:28:54.786Z"
   },
   {
    "duration": 45,
    "start_time": "2022-04-09T09:28:54.805Z"
   },
   {
    "duration": 5,
    "start_time": "2022-04-09T09:28:54.852Z"
   },
   {
    "duration": 21,
    "start_time": "2022-04-09T09:28:54.858Z"
   },
   {
    "duration": 20,
    "start_time": "2022-04-09T09:28:54.881Z"
   },
   {
    "duration": 50,
    "start_time": "2022-04-09T09:28:54.903Z"
   },
   {
    "duration": 5,
    "start_time": "2022-04-09T09:28:54.955Z"
   },
   {
    "duration": 20,
    "start_time": "2022-04-09T09:28:54.962Z"
   },
   {
    "duration": 24,
    "start_time": "2022-04-09T09:28:54.985Z"
   },
   {
    "duration": 42,
    "start_time": "2022-04-09T09:28:55.011Z"
   },
   {
    "duration": 17,
    "start_time": "2022-04-09T09:28:55.055Z"
   },
   {
    "duration": 7,
    "start_time": "2022-04-09T09:28:55.073Z"
   },
   {
    "duration": 10,
    "start_time": "2022-04-09T09:28:55.082Z"
   },
   {
    "duration": 8,
    "start_time": "2022-04-09T09:28:55.093Z"
   },
   {
    "duration": 8,
    "start_time": "2022-04-09T09:28:55.103Z"
   },
   {
    "duration": 60,
    "start_time": "2022-04-09T09:28:55.113Z"
   },
   {
    "duration": 21,
    "start_time": "2022-04-09T09:28:55.174Z"
   },
   {
    "duration": 31,
    "start_time": "2022-04-09T09:28:55.196Z"
   },
   {
    "duration": 32,
    "start_time": "2022-04-09T09:28:55.248Z"
   },
   {
    "duration": 17,
    "start_time": "2022-04-09T09:28:55.282Z"
   },
   {
    "duration": 53,
    "start_time": "2022-04-09T09:28:55.301Z"
   },
   {
    "duration": 23,
    "start_time": "2022-04-09T09:28:55.356Z"
   },
   {
    "duration": 5,
    "start_time": "2022-04-09T09:30:10.189Z"
   },
   {
    "duration": 5,
    "start_time": "2022-04-09T09:30:27.466Z"
   },
   {
    "duration": 8,
    "start_time": "2022-04-09T09:31:04.722Z"
   },
   {
    "duration": 8,
    "start_time": "2022-04-09T09:31:12.681Z"
   },
   {
    "duration": 66,
    "start_time": "2022-04-09T09:31:38.032Z"
   },
   {
    "duration": 17,
    "start_time": "2022-04-09T09:31:38.101Z"
   },
   {
    "duration": 28,
    "start_time": "2022-04-09T09:31:38.120Z"
   },
   {
    "duration": 8,
    "start_time": "2022-04-09T09:31:38.151Z"
   },
   {
    "duration": 13,
    "start_time": "2022-04-09T09:31:38.161Z"
   },
   {
    "duration": 16,
    "start_time": "2022-04-09T09:31:38.175Z"
   },
   {
    "duration": 15,
    "start_time": "2022-04-09T09:31:38.192Z"
   },
   {
    "duration": 5,
    "start_time": "2022-04-09T09:31:38.209Z"
   },
   {
    "duration": 8,
    "start_time": "2022-04-09T09:31:38.247Z"
   },
   {
    "duration": 9,
    "start_time": "2022-04-09T09:31:38.257Z"
   },
   {
    "duration": 16,
    "start_time": "2022-04-09T09:31:38.268Z"
   },
   {
    "duration": 18,
    "start_time": "2022-04-09T09:31:38.286Z"
   },
   {
    "duration": 43,
    "start_time": "2022-04-09T09:31:38.306Z"
   },
   {
    "duration": 21,
    "start_time": "2022-04-09T09:31:38.350Z"
   },
   {
    "duration": 20,
    "start_time": "2022-04-09T09:31:38.372Z"
   },
   {
    "duration": 19,
    "start_time": "2022-04-09T09:31:38.394Z"
   },
   {
    "duration": 50,
    "start_time": "2022-04-09T09:31:38.415Z"
   },
   {
    "duration": 14,
    "start_time": "2022-04-09T09:31:38.466Z"
   },
   {
    "duration": 18,
    "start_time": "2022-04-09T09:31:38.482Z"
   },
   {
    "duration": 15,
    "start_time": "2022-04-09T09:31:38.501Z"
   },
   {
    "duration": 31,
    "start_time": "2022-04-09T09:31:38.517Z"
   },
   {
    "duration": 18,
    "start_time": "2022-04-09T09:31:38.550Z"
   },
   {
    "duration": 22,
    "start_time": "2022-04-09T09:31:38.570Z"
   },
   {
    "duration": 16,
    "start_time": "2022-04-09T09:31:38.593Z"
   },
   {
    "duration": 5,
    "start_time": "2022-04-09T09:31:38.611Z"
   },
   {
    "duration": 46,
    "start_time": "2022-04-09T09:31:38.617Z"
   },
   {
    "duration": 16,
    "start_time": "2022-04-09T09:31:38.664Z"
   },
   {
    "duration": 5,
    "start_time": "2022-04-09T09:31:38.683Z"
   },
   {
    "duration": 7,
    "start_time": "2022-04-09T09:31:38.689Z"
   },
   {
    "duration": 9,
    "start_time": "2022-04-09T09:31:38.697Z"
   },
   {
    "duration": 11,
    "start_time": "2022-04-09T09:31:38.708Z"
   },
   {
    "duration": 18,
    "start_time": "2022-04-09T09:31:38.748Z"
   },
   {
    "duration": 7,
    "start_time": "2022-04-09T09:31:38.767Z"
   },
   {
    "duration": 7,
    "start_time": "2022-04-09T09:31:38.775Z"
   },
   {
    "duration": 15,
    "start_time": "2022-04-09T09:31:38.784Z"
   },
   {
    "duration": 8,
    "start_time": "2022-04-09T09:31:38.800Z"
   },
   {
    "duration": 55,
    "start_time": "2022-04-09T09:31:38.810Z"
   },
   {
    "duration": 20,
    "start_time": "2022-04-09T09:31:38.867Z"
   },
   {
    "duration": 30,
    "start_time": "2022-04-09T09:31:38.889Z"
   },
   {
    "duration": 55,
    "start_time": "2022-04-09T09:31:38.921Z"
   },
   {
    "duration": 78,
    "start_time": "2022-04-09T09:31:38.978Z"
   },
   {
    "duration": 27,
    "start_time": "2022-04-09T09:31:39.058Z"
   },
   {
    "duration": 26,
    "start_time": "2022-04-09T09:31:39.087Z"
   },
   {
    "duration": 13,
    "start_time": "2022-04-09T09:34:13.054Z"
   },
   {
    "duration": 3,
    "start_time": "2022-04-09T09:40:13.440Z"
   },
   {
    "duration": 3,
    "start_time": "2022-04-09T09:40:16.749Z"
   },
   {
    "duration": 3,
    "start_time": "2022-04-09T09:40:18.710Z"
   },
   {
    "duration": 21,
    "start_time": "2022-04-09T09:44:17.946Z"
   },
   {
    "duration": 69,
    "start_time": "2022-04-09T09:44:24.156Z"
   },
   {
    "duration": 21,
    "start_time": "2022-04-09T09:44:24.227Z"
   },
   {
    "duration": 10,
    "start_time": "2022-04-09T09:44:24.249Z"
   },
   {
    "duration": 6,
    "start_time": "2022-04-09T09:44:24.261Z"
   },
   {
    "duration": 18,
    "start_time": "2022-04-09T09:44:24.269Z"
   },
   {
    "duration": 19,
    "start_time": "2022-04-09T09:44:24.289Z"
   },
   {
    "duration": 53,
    "start_time": "2022-04-09T09:44:24.310Z"
   },
   {
    "duration": 17,
    "start_time": "2022-04-09T09:44:24.365Z"
   },
   {
    "duration": 22,
    "start_time": "2022-04-09T09:44:24.384Z"
   },
   {
    "duration": 55,
    "start_time": "2022-04-09T09:44:24.409Z"
   },
   {
    "duration": 29,
    "start_time": "2022-04-09T09:44:24.466Z"
   },
   {
    "duration": 21,
    "start_time": "2022-04-09T09:44:24.497Z"
   },
   {
    "duration": 41,
    "start_time": "2022-04-09T09:44:24.520Z"
   },
   {
    "duration": 21,
    "start_time": "2022-04-09T09:44:24.563Z"
   },
   {
    "duration": 16,
    "start_time": "2022-04-09T09:44:24.585Z"
   },
   {
    "duration": 5,
    "start_time": "2022-04-09T09:44:24.603Z"
   },
   {
    "duration": 51,
    "start_time": "2022-04-09T09:44:24.609Z"
   },
   {
    "duration": 33,
    "start_time": "2022-04-09T09:44:24.662Z"
   },
   {
    "duration": 38,
    "start_time": "2022-04-09T09:44:24.697Z"
   },
   {
    "duration": 6,
    "start_time": "2022-04-09T09:44:24.737Z"
   },
   {
    "duration": 21,
    "start_time": "2022-04-09T09:44:24.744Z"
   },
   {
    "duration": 17,
    "start_time": "2022-04-09T09:44:24.767Z"
   },
   {
    "duration": 5,
    "start_time": "2022-04-09T09:44:24.786Z"
   },
   {
    "duration": 17,
    "start_time": "2022-04-09T09:44:24.793Z"
   },
   {
    "duration": 44,
    "start_time": "2022-04-09T09:44:24.811Z"
   },
   {
    "duration": 17,
    "start_time": "2022-04-09T09:44:24.857Z"
   },
   {
    "duration": 17,
    "start_time": "2022-04-09T09:44:24.876Z"
   },
   {
    "duration": 4,
    "start_time": "2022-04-09T09:44:24.897Z"
   },
   {
    "duration": 8,
    "start_time": "2022-04-09T09:44:24.903Z"
   },
   {
    "duration": 45,
    "start_time": "2022-04-09T09:44:24.913Z"
   },
   {
    "duration": 20,
    "start_time": "2022-04-09T09:44:24.960Z"
   },
   {
    "duration": 7,
    "start_time": "2022-04-09T09:44:24.982Z"
   },
   {
    "duration": 13,
    "start_time": "2022-04-09T09:44:24.991Z"
   },
   {
    "duration": 16,
    "start_time": "2022-04-09T09:44:25.005Z"
   },
   {
    "duration": 28,
    "start_time": "2022-04-09T09:44:25.023Z"
   },
   {
    "duration": 35,
    "start_time": "2022-04-09T09:44:25.053Z"
   },
   {
    "duration": 21,
    "start_time": "2022-04-09T09:44:25.089Z"
   },
   {
    "duration": 58,
    "start_time": "2022-04-09T09:44:25.111Z"
   },
   {
    "duration": 32,
    "start_time": "2022-04-09T09:44:25.170Z"
   },
   {
    "duration": 18,
    "start_time": "2022-04-09T09:44:25.204Z"
   },
   {
    "duration": 48,
    "start_time": "2022-04-09T09:44:25.223Z"
   },
   {
    "duration": 28,
    "start_time": "2022-04-09T09:44:25.273Z"
   },
   {
    "duration": 3,
    "start_time": "2022-04-09T09:46:42.422Z"
   },
   {
    "duration": 111,
    "start_time": "2022-04-09T09:46:58.131Z"
   },
   {
    "duration": 12,
    "start_time": "2022-04-09T09:47:57.483Z"
   },
   {
    "duration": 72,
    "start_time": "2022-04-09T09:50:21.562Z"
   },
   {
    "duration": 15,
    "start_time": "2022-04-09T09:50:21.637Z"
   },
   {
    "duration": 7,
    "start_time": "2022-04-09T09:50:21.653Z"
   },
   {
    "duration": 8,
    "start_time": "2022-04-09T09:50:21.663Z"
   },
   {
    "duration": 32,
    "start_time": "2022-04-09T09:50:21.673Z"
   },
   {
    "duration": 52,
    "start_time": "2022-04-09T09:50:21.707Z"
   },
   {
    "duration": 24,
    "start_time": "2022-04-09T09:50:21.761Z"
   },
   {
    "duration": 17,
    "start_time": "2022-04-09T09:50:21.787Z"
   },
   {
    "duration": 42,
    "start_time": "2022-04-09T09:50:21.806Z"
   },
   {
    "duration": 21,
    "start_time": "2022-04-09T09:50:21.851Z"
   },
   {
    "duration": 19,
    "start_time": "2022-04-09T09:50:21.874Z"
   },
   {
    "duration": 54,
    "start_time": "2022-04-09T09:50:21.895Z"
   },
   {
    "duration": 14,
    "start_time": "2022-04-09T09:50:21.951Z"
   },
   {
    "duration": 23,
    "start_time": "2022-04-09T09:50:21.966Z"
   },
   {
    "duration": 25,
    "start_time": "2022-04-09T09:50:21.991Z"
   },
   {
    "duration": 33,
    "start_time": "2022-04-09T09:50:22.019Z"
   },
   {
    "duration": 33,
    "start_time": "2022-04-09T09:50:22.054Z"
   },
   {
    "duration": 32,
    "start_time": "2022-04-09T09:50:22.089Z"
   },
   {
    "duration": 26,
    "start_time": "2022-04-09T09:50:22.147Z"
   },
   {
    "duration": 6,
    "start_time": "2022-04-09T09:50:22.175Z"
   },
   {
    "duration": 23,
    "start_time": "2022-04-09T09:50:22.183Z"
   },
   {
    "duration": 52,
    "start_time": "2022-04-09T09:50:22.208Z"
   },
   {
    "duration": 6,
    "start_time": "2022-04-09T09:50:22.262Z"
   },
   {
    "duration": 21,
    "start_time": "2022-04-09T09:50:22.270Z"
   },
   {
    "duration": 42,
    "start_time": "2022-04-09T09:50:22.293Z"
   },
   {
    "duration": 12,
    "start_time": "2022-04-09T09:50:22.338Z"
   },
   {
    "duration": 7,
    "start_time": "2022-04-09T09:50:22.351Z"
   },
   {
    "duration": 12,
    "start_time": "2022-04-09T09:50:22.362Z"
   },
   {
    "duration": 18,
    "start_time": "2022-04-09T09:50:22.376Z"
   },
   {
    "duration": 8,
    "start_time": "2022-04-09T09:50:22.396Z"
   },
   {
    "duration": 12,
    "start_time": "2022-04-09T09:50:22.405Z"
   },
   {
    "duration": 8,
    "start_time": "2022-04-09T09:50:22.448Z"
   },
   {
    "duration": 10,
    "start_time": "2022-04-09T09:50:22.458Z"
   },
   {
    "duration": 38,
    "start_time": "2022-04-09T09:50:22.469Z"
   },
   {
    "duration": 56,
    "start_time": "2022-04-09T09:50:22.510Z"
   },
   {
    "duration": 36,
    "start_time": "2022-04-09T09:50:22.568Z"
   },
   {
    "duration": 51,
    "start_time": "2022-04-09T09:50:22.606Z"
   },
   {
    "duration": 19,
    "start_time": "2022-04-09T09:50:22.659Z"
   },
   {
    "duration": 46,
    "start_time": "2022-04-09T09:50:22.680Z"
   },
   {
    "duration": 33,
    "start_time": "2022-04-09T09:50:22.747Z"
   },
   {
    "duration": 28,
    "start_time": "2022-04-09T09:51:06.108Z"
   },
   {
    "duration": 7,
    "start_time": "2022-04-09T09:51:40.783Z"
   },
   {
    "duration": 70,
    "start_time": "2022-04-09T09:51:56.047Z"
   },
   {
    "duration": 40,
    "start_time": "2022-04-09T09:51:56.119Z"
   },
   {
    "duration": 8,
    "start_time": "2022-04-09T09:51:56.161Z"
   },
   {
    "duration": 6,
    "start_time": "2022-04-09T09:51:56.172Z"
   },
   {
    "duration": 18,
    "start_time": "2022-04-09T09:51:56.180Z"
   },
   {
    "duration": 64,
    "start_time": "2022-04-09T09:51:56.200Z"
   },
   {
    "duration": 17,
    "start_time": "2022-04-09T09:51:56.266Z"
   },
   {
    "duration": 17,
    "start_time": "2022-04-09T09:51:56.285Z"
   },
   {
    "duration": 52,
    "start_time": "2022-04-09T09:51:56.304Z"
   },
   {
    "duration": 21,
    "start_time": "2022-04-09T09:51:56.359Z"
   },
   {
    "duration": 26,
    "start_time": "2022-04-09T09:51:56.382Z"
   },
   {
    "duration": 50,
    "start_time": "2022-04-09T09:51:56.411Z"
   },
   {
    "duration": 15,
    "start_time": "2022-04-09T09:51:56.464Z"
   },
   {
    "duration": 21,
    "start_time": "2022-04-09T09:51:56.481Z"
   },
   {
    "duration": 16,
    "start_time": "2022-04-09T09:51:56.504Z"
   },
   {
    "duration": 32,
    "start_time": "2022-04-09T09:51:56.521Z"
   },
   {
    "duration": 22,
    "start_time": "2022-04-09T09:51:56.555Z"
   },
   {
    "duration": 27,
    "start_time": "2022-04-09T09:51:56.579Z"
   },
   {
    "duration": 40,
    "start_time": "2022-04-09T09:51:56.608Z"
   },
   {
    "duration": 7,
    "start_time": "2022-04-09T09:51:56.650Z"
   },
   {
    "duration": 31,
    "start_time": "2022-04-09T09:51:56.659Z"
   },
   {
    "duration": 19,
    "start_time": "2022-04-09T09:51:56.692Z"
   },
   {
    "duration": 6,
    "start_time": "2022-04-09T09:51:56.712Z"
   },
   {
    "duration": 14,
    "start_time": "2022-04-09T09:51:56.748Z"
   },
   {
    "duration": 30,
    "start_time": "2022-04-09T09:51:56.764Z"
   },
   {
    "duration": 6,
    "start_time": "2022-04-09T09:51:56.796Z"
   },
   {
    "duration": 12,
    "start_time": "2022-04-09T09:51:56.803Z"
   },
   {
    "duration": 17,
    "start_time": "2022-04-09T09:51:56.847Z"
   },
   {
    "duration": 29,
    "start_time": "2022-04-09T09:51:56.866Z"
   },
   {
    "duration": 11,
    "start_time": "2022-04-09T09:51:56.897Z"
   },
   {
    "duration": 40,
    "start_time": "2022-04-09T09:51:56.911Z"
   },
   {
    "duration": 7,
    "start_time": "2022-04-09T09:51:56.954Z"
   },
   {
    "duration": 10,
    "start_time": "2022-04-09T09:51:56.963Z"
   },
   {
    "duration": 36,
    "start_time": "2022-04-09T09:51:56.975Z"
   },
   {
    "duration": 58,
    "start_time": "2022-04-09T09:51:57.013Z"
   },
   {
    "duration": 37,
    "start_time": "2022-04-09T09:51:57.073Z"
   },
   {
    "duration": 59,
    "start_time": "2022-04-09T09:51:57.112Z"
   },
   {
    "duration": 24,
    "start_time": "2022-04-09T09:51:57.173Z"
   },
   {
    "duration": 50,
    "start_time": "2022-04-09T09:51:57.199Z"
   },
   {
    "duration": 32,
    "start_time": "2022-04-09T09:51:57.250Z"
   },
   {
    "duration": 7,
    "start_time": "2022-04-09T09:55:49.595Z"
   },
   {
    "duration": 4,
    "start_time": "2022-04-09T09:56:38.711Z"
   },
   {
    "duration": 4,
    "start_time": "2022-04-09T09:56:43.663Z"
   },
   {
    "duration": 36,
    "start_time": "2022-04-09T09:56:48.528Z"
   },
   {
    "duration": 8,
    "start_time": "2022-04-09T09:56:54.976Z"
   },
   {
    "duration": 37,
    "start_time": "2022-04-09T09:57:00.735Z"
   },
   {
    "duration": 15,
    "start_time": "2022-04-09T09:57:14.210Z"
   },
   {
    "duration": 16,
    "start_time": "2022-04-09T09:57:24.124Z"
   },
   {
    "duration": 17,
    "start_time": "2022-04-09T09:57:35.144Z"
   },
   {
    "duration": 17,
    "start_time": "2022-04-09T10:01:09.406Z"
   },
   {
    "duration": 19,
    "start_time": "2022-04-09T10:05:50.109Z"
   },
   {
    "duration": 23,
    "start_time": "2022-04-09T10:07:01.976Z"
   },
   {
    "duration": 27,
    "start_time": "2022-04-09T10:07:07.953Z"
   },
   {
    "duration": 14,
    "start_time": "2022-04-09T10:08:23.562Z"
   },
   {
    "duration": 23,
    "start_time": "2022-04-09T10:08:32.760Z"
   },
   {
    "duration": 29,
    "start_time": "2022-04-09T10:11:18.811Z"
   },
   {
    "duration": 23,
    "start_time": "2022-04-09T10:14:07.786Z"
   },
   {
    "duration": 28,
    "start_time": "2022-04-09T10:15:06.563Z"
   },
   {
    "duration": 23,
    "start_time": "2022-04-09T10:19:08.003Z"
   },
   {
    "duration": 24,
    "start_time": "2022-04-09T10:19:12.853Z"
   },
   {
    "duration": 81,
    "start_time": "2022-04-09T10:21:44.788Z"
   },
   {
    "duration": 16,
    "start_time": "2022-04-09T10:21:44.871Z"
   },
   {
    "duration": 5,
    "start_time": "2022-04-09T10:21:44.889Z"
   },
   {
    "duration": 9,
    "start_time": "2022-04-09T10:21:44.896Z"
   },
   {
    "duration": 49,
    "start_time": "2022-04-09T10:21:44.906Z"
   },
   {
    "duration": 19,
    "start_time": "2022-04-09T10:21:44.957Z"
   },
   {
    "duration": 17,
    "start_time": "2022-04-09T10:21:44.978Z"
   },
   {
    "duration": 17,
    "start_time": "2022-04-09T10:21:44.997Z"
   },
   {
    "duration": 52,
    "start_time": "2022-04-09T10:21:45.016Z"
   },
   {
    "duration": 21,
    "start_time": "2022-04-09T10:21:45.070Z"
   },
   {
    "duration": 19,
    "start_time": "2022-04-09T10:21:45.093Z"
   },
   {
    "duration": 48,
    "start_time": "2022-04-09T10:21:45.114Z"
   },
   {
    "duration": 14,
    "start_time": "2022-04-09T10:21:45.163Z"
   },
   {
    "duration": 18,
    "start_time": "2022-04-09T10:21:45.179Z"
   },
   {
    "duration": 16,
    "start_time": "2022-04-09T10:21:45.199Z"
   },
   {
    "duration": 36,
    "start_time": "2022-04-09T10:21:45.216Z"
   },
   {
    "duration": 21,
    "start_time": "2022-04-09T10:21:45.254Z"
   },
   {
    "duration": 21,
    "start_time": "2022-04-09T10:21:45.277Z"
   },
   {
    "duration": 19,
    "start_time": "2022-04-09T10:21:45.299Z"
   },
   {
    "duration": 33,
    "start_time": "2022-04-09T10:21:45.319Z"
   },
   {
    "duration": 20,
    "start_time": "2022-04-09T10:21:45.354Z"
   },
   {
    "duration": 18,
    "start_time": "2022-04-09T10:21:45.375Z"
   },
   {
    "duration": 6,
    "start_time": "2022-04-09T10:21:45.395Z"
   },
   {
    "duration": 45,
    "start_time": "2022-04-09T10:21:45.402Z"
   },
   {
    "duration": 18,
    "start_time": "2022-04-09T10:21:45.449Z"
   },
   {
    "duration": 6,
    "start_time": "2022-04-09T10:21:45.469Z"
   },
   {
    "duration": 13,
    "start_time": "2022-04-09T10:21:45.476Z"
   },
   {
    "duration": 13,
    "start_time": "2022-04-09T10:21:45.492Z"
   },
   {
    "duration": 48,
    "start_time": "2022-04-09T10:21:45.507Z"
   },
   {
    "duration": 7,
    "start_time": "2022-04-09T10:21:45.557Z"
   },
   {
    "duration": 17,
    "start_time": "2022-04-09T10:21:45.565Z"
   },
   {
    "duration": 14,
    "start_time": "2022-04-09T10:21:45.584Z"
   },
   {
    "duration": 14,
    "start_time": "2022-04-09T10:21:45.600Z"
   },
   {
    "duration": 45,
    "start_time": "2022-04-09T10:21:45.615Z"
   },
   {
    "duration": 19,
    "start_time": "2022-04-09T10:21:45.662Z"
   },
   {
    "duration": 33,
    "start_time": "2022-04-09T10:21:45.683Z"
   },
   {
    "duration": 57,
    "start_time": "2022-04-09T10:21:45.719Z"
   },
   {
    "duration": 17,
    "start_time": "2022-04-09T10:21:45.778Z"
   },
   {
    "duration": 53,
    "start_time": "2022-04-09T10:21:45.797Z"
   },
   {
    "duration": 24,
    "start_time": "2022-04-09T10:21:45.852Z"
   },
   {
    "duration": 23,
    "start_time": "2022-04-09T10:21:45.878Z"
   },
   {
    "duration": 54,
    "start_time": "2022-04-09T10:21:45.903Z"
   },
   {
    "duration": 26,
    "start_time": "2022-04-09T10:21:45.958Z"
   },
   {
    "duration": 26,
    "start_time": "2022-04-09T10:22:39.728Z"
   },
   {
    "duration": 12,
    "start_time": "2022-04-09T10:23:13.244Z"
   },
   {
    "duration": 24,
    "start_time": "2022-04-09T10:23:38.706Z"
   },
   {
    "duration": 15,
    "start_time": "2022-04-09T10:24:08.464Z"
   },
   {
    "duration": 28,
    "start_time": "2022-04-09T10:24:18.229Z"
   },
   {
    "duration": 29,
    "start_time": "2022-04-09T10:24:36.938Z"
   },
   {
    "duration": 22,
    "start_time": "2022-04-09T10:24:49.298Z"
   },
   {
    "duration": 20,
    "start_time": "2022-04-09T10:27:44.966Z"
   },
   {
    "duration": 21,
    "start_time": "2022-04-09T10:28:16.021Z"
   },
   {
    "duration": 109,
    "start_time": "2022-04-09T10:28:31.793Z"
   },
   {
    "duration": 26,
    "start_time": "2022-04-09T10:28:46.758Z"
   },
   {
    "duration": 27,
    "start_time": "2022-04-09T10:32:22.706Z"
   },
   {
    "duration": 25,
    "start_time": "2022-04-09T10:33:31.349Z"
   },
   {
    "duration": 26,
    "start_time": "2022-04-09T10:33:47.444Z"
   },
   {
    "duration": 26,
    "start_time": "2022-04-09T10:33:55.840Z"
   },
   {
    "duration": 28,
    "start_time": "2022-04-09T10:34:01.759Z"
   },
   {
    "duration": 26,
    "start_time": "2022-04-09T10:50:18.895Z"
   },
   {
    "duration": 27,
    "start_time": "2022-04-09T10:50:32.089Z"
   },
   {
    "duration": 27,
    "start_time": "2022-04-09T10:50:47.190Z"
   },
   {
    "duration": 536,
    "start_time": "2022-04-19T06:59:11.298Z"
   },
   {
    "duration": 26,
    "start_time": "2022-04-19T06:59:11.837Z"
   },
   {
    "duration": 7,
    "start_time": "2022-04-19T06:59:11.865Z"
   },
   {
    "duration": 6,
    "start_time": "2022-04-19T06:59:11.875Z"
   },
   {
    "duration": 15,
    "start_time": "2022-04-19T06:59:11.907Z"
   },
   {
    "duration": 17,
    "start_time": "2022-04-19T06:59:11.923Z"
   },
   {
    "duration": 17,
    "start_time": "2022-04-19T06:59:11.942Z"
   },
   {
    "duration": 48,
    "start_time": "2022-04-19T06:59:11.961Z"
   },
   {
    "duration": 22,
    "start_time": "2022-04-19T06:59:12.011Z"
   },
   {
    "duration": 20,
    "start_time": "2022-04-19T06:59:12.036Z"
   },
   {
    "duration": 51,
    "start_time": "2022-04-19T06:59:12.058Z"
   },
   {
    "duration": 27,
    "start_time": "2022-04-19T06:59:12.111Z"
   },
   {
    "duration": 14,
    "start_time": "2022-04-19T06:59:12.140Z"
   },
   {
    "duration": 19,
    "start_time": "2022-04-19T06:59:12.156Z"
   },
   {
    "duration": 44,
    "start_time": "2022-04-19T06:59:12.177Z"
   },
   {
    "duration": 5,
    "start_time": "2022-04-19T06:59:12.223Z"
   },
   {
    "duration": 24,
    "start_time": "2022-04-19T06:59:12.229Z"
   },
   {
    "duration": 20,
    "start_time": "2022-04-19T06:59:12.255Z"
   },
   {
    "duration": 46,
    "start_time": "2022-04-19T06:59:12.277Z"
   },
   {
    "duration": 5,
    "start_time": "2022-04-19T06:59:12.325Z"
   },
   {
    "duration": 23,
    "start_time": "2022-04-19T06:59:12.332Z"
   },
   {
    "duration": 18,
    "start_time": "2022-04-19T06:59:12.356Z"
   },
   {
    "duration": 33,
    "start_time": "2022-04-19T06:59:12.376Z"
   },
   {
    "duration": 13,
    "start_time": "2022-04-19T06:59:12.410Z"
   },
   {
    "duration": 20,
    "start_time": "2022-04-19T06:59:12.424Z"
   },
   {
    "duration": 5,
    "start_time": "2022-04-19T06:59:12.445Z"
   },
   {
    "duration": 9,
    "start_time": "2022-04-19T06:59:12.451Z"
   },
   {
    "duration": 44,
    "start_time": "2022-04-19T06:59:12.463Z"
   },
   {
    "duration": 19,
    "start_time": "2022-04-19T06:59:12.509Z"
   },
   {
    "duration": 7,
    "start_time": "2022-04-19T06:59:12.530Z"
   },
   {
    "duration": 8,
    "start_time": "2022-04-19T06:59:12.539Z"
   },
   {
    "duration": 9,
    "start_time": "2022-04-19T06:59:12.549Z"
   },
   {
    "duration": 8,
    "start_time": "2022-04-19T06:59:12.560Z"
   },
   {
    "duration": 67,
    "start_time": "2022-04-19T06:59:12.570Z"
   },
   {
    "duration": 21,
    "start_time": "2022-04-19T06:59:12.639Z"
   },
   {
    "duration": 63,
    "start_time": "2022-04-19T06:59:12.662Z"
   },
   {
    "duration": 31,
    "start_time": "2022-04-19T06:59:12.727Z"
   },
   {
    "duration": 17,
    "start_time": "2022-04-19T06:59:12.760Z"
   },
   {
    "duration": 29,
    "start_time": "2022-04-19T06:59:12.807Z"
   },
   {
    "duration": 27,
    "start_time": "2022-04-19T06:59:12.838Z"
   },
   {
    "duration": 46,
    "start_time": "2022-04-19T06:59:12.867Z"
   },
   {
    "duration": 28,
    "start_time": "2022-04-19T06:59:12.915Z"
   },
   {
    "duration": 29,
    "start_time": "2022-04-19T06:59:12.945Z"
   },
   {
    "duration": 449,
    "start_time": "2022-04-19T07:05:05.463Z"
   },
   {
    "duration": 15,
    "start_time": "2022-04-19T07:05:05.914Z"
   },
   {
    "duration": 6,
    "start_time": "2022-04-19T07:05:05.931Z"
   },
   {
    "duration": 5,
    "start_time": "2022-04-19T07:05:05.939Z"
   },
   {
    "duration": 14,
    "start_time": "2022-04-19T07:05:05.945Z"
   },
   {
    "duration": 49,
    "start_time": "2022-04-19T07:05:05.961Z"
   },
   {
    "duration": 16,
    "start_time": "2022-04-19T07:05:06.012Z"
   },
   {
    "duration": 17,
    "start_time": "2022-04-19T07:05:06.029Z"
   },
   {
    "duration": 22,
    "start_time": "2022-04-19T07:05:06.047Z"
   },
   {
    "duration": 50,
    "start_time": "2022-04-19T07:05:06.072Z"
   },
   {
    "duration": 18,
    "start_time": "2022-04-19T07:05:06.124Z"
   },
   {
    "duration": 19,
    "start_time": "2022-04-19T07:05:06.143Z"
   },
   {
    "duration": 15,
    "start_time": "2022-04-19T07:05:06.163Z"
   },
   {
    "duration": 42,
    "start_time": "2022-04-19T07:05:06.180Z"
   },
   {
    "duration": 15,
    "start_time": "2022-04-19T07:05:06.224Z"
   },
   {
    "duration": 5,
    "start_time": "2022-04-19T07:05:06.241Z"
   },
   {
    "duration": 20,
    "start_time": "2022-04-19T07:05:06.247Z"
   },
   {
    "duration": 45,
    "start_time": "2022-04-19T07:05:06.269Z"
   },
   {
    "duration": 18,
    "start_time": "2022-04-19T07:05:06.316Z"
   },
   {
    "duration": 5,
    "start_time": "2022-04-19T07:05:06.335Z"
   },
   {
    "duration": 20,
    "start_time": "2022-04-19T07:05:06.342Z"
   },
   {
    "duration": 47,
    "start_time": "2022-04-19T07:05:06.363Z"
   },
   {
    "duration": 6,
    "start_time": "2022-04-19T07:05:06.412Z"
   },
   {
    "duration": 14,
    "start_time": "2022-04-19T07:05:06.420Z"
   },
   {
    "duration": 18,
    "start_time": "2022-04-19T07:05:06.436Z"
   },
   {
    "duration": 6,
    "start_time": "2022-04-19T07:05:06.456Z"
   },
   {
    "duration": 45,
    "start_time": "2022-04-19T07:05:06.464Z"
   },
   {
    "duration": 13,
    "start_time": "2022-04-19T07:05:06.513Z"
   },
   {
    "duration": 19,
    "start_time": "2022-04-19T07:05:06.528Z"
   },
   {
    "duration": 8,
    "start_time": "2022-04-19T07:05:06.549Z"
   },
   {
    "duration": 9,
    "start_time": "2022-04-19T07:05:06.559Z"
   },
   {
    "duration": 40,
    "start_time": "2022-04-19T07:05:06.569Z"
   },
   {
    "duration": 9,
    "start_time": "2022-04-19T07:05:06.611Z"
   },
   {
    "duration": 33,
    "start_time": "2022-04-19T07:05:06.622Z"
   },
   {
    "duration": 20,
    "start_time": "2022-04-19T07:05:06.656Z"
   },
   {
    "duration": 60,
    "start_time": "2022-04-19T07:05:06.678Z"
   },
   {
    "duration": 31,
    "start_time": "2022-04-19T07:05:06.739Z"
   },
   {
    "duration": 41,
    "start_time": "2022-04-19T07:05:06.771Z"
   },
   {
    "duration": 31,
    "start_time": "2022-04-19T07:05:06.813Z"
   },
   {
    "duration": 29,
    "start_time": "2022-04-19T07:05:06.846Z"
   },
   {
    "duration": 45,
    "start_time": "2022-04-19T07:05:06.877Z"
   },
   {
    "duration": 27,
    "start_time": "2022-04-19T07:05:06.924Z"
   },
   {
    "duration": 28,
    "start_time": "2022-04-19T07:05:06.952Z"
   },
   {
    "duration": 12,
    "start_time": "2022-04-19T09:20:17.381Z"
   },
   {
    "duration": 98,
    "start_time": "2022-04-19T09:21:12.054Z"
   },
   {
    "duration": 62,
    "start_time": "2022-04-19T09:23:39.529Z"
   },
   {
    "duration": 5,
    "start_time": "2022-04-19T09:24:12.099Z"
   },
   {
    "duration": 500,
    "start_time": "2022-04-19T09:24:15.439Z"
   },
   {
    "duration": 16,
    "start_time": "2022-04-19T09:24:15.941Z"
   },
   {
    "duration": 6,
    "start_time": "2022-04-19T09:24:15.959Z"
   },
   {
    "duration": 6,
    "start_time": "2022-04-19T09:24:15.968Z"
   },
   {
    "duration": 14,
    "start_time": "2022-04-19T09:24:15.975Z"
   },
   {
    "duration": 5,
    "start_time": "2022-04-19T09:24:15.990Z"
   },
   {
    "duration": 58,
    "start_time": "2022-04-19T09:24:15.996Z"
   },
   {
    "duration": 17,
    "start_time": "2022-04-19T09:24:16.055Z"
   },
   {
    "duration": 16,
    "start_time": "2022-04-19T09:24:16.073Z"
   },
   {
    "duration": 19,
    "start_time": "2022-04-19T09:24:16.092Z"
   },
   {
    "duration": 48,
    "start_time": "2022-04-19T09:24:16.113Z"
   },
   {
    "duration": 19,
    "start_time": "2022-04-19T09:24:16.163Z"
   },
   {
    "duration": 21,
    "start_time": "2022-04-19T09:24:16.184Z"
   },
   {
    "duration": 49,
    "start_time": "2022-04-19T09:24:16.207Z"
   },
   {
    "duration": 25,
    "start_time": "2022-04-19T09:24:16.258Z"
   },
   {
    "duration": 23,
    "start_time": "2022-04-19T09:24:16.284Z"
   },
   {
    "duration": 6,
    "start_time": "2022-04-19T09:24:16.309Z"
   },
   {
    "duration": 56,
    "start_time": "2022-04-19T09:24:16.316Z"
   },
   {
    "duration": 31,
    "start_time": "2022-04-19T09:24:16.374Z"
   },
   {
    "duration": 46,
    "start_time": "2022-04-19T09:24:16.407Z"
   },
   {
    "duration": 7,
    "start_time": "2022-04-19T09:24:16.455Z"
   },
   {
    "duration": 27,
    "start_time": "2022-04-19T09:24:16.464Z"
   },
   {
    "duration": 23,
    "start_time": "2022-04-19T09:24:16.492Z"
   },
   {
    "duration": 6,
    "start_time": "2022-04-19T09:24:16.517Z"
   },
   {
    "duration": 17,
    "start_time": "2022-04-19T09:24:16.548Z"
   },
   {
    "duration": 26,
    "start_time": "2022-04-19T09:24:16.567Z"
   },
   {
    "duration": 6,
    "start_time": "2022-04-19T09:24:16.595Z"
   },
   {
    "duration": 7,
    "start_time": "2022-04-19T09:24:16.606Z"
   },
   {
    "duration": 46,
    "start_time": "2022-04-19T09:24:16.615Z"
   },
   {
    "duration": 25,
    "start_time": "2022-04-19T09:24:16.662Z"
   },
   {
    "duration": 9,
    "start_time": "2022-04-19T09:24:16.689Z"
   },
   {
    "duration": 9,
    "start_time": "2022-04-19T09:24:16.700Z"
   },
   {
    "duration": 39,
    "start_time": "2022-04-19T09:24:16.711Z"
   },
   {
    "duration": 13,
    "start_time": "2022-04-19T09:24:16.752Z"
   },
   {
    "duration": 48,
    "start_time": "2022-04-19T09:24:16.767Z"
   },
   {
    "duration": 48,
    "start_time": "2022-04-19T09:24:16.817Z"
   },
   {
    "duration": 44,
    "start_time": "2022-04-19T09:24:16.867Z"
   },
   {
    "duration": 55,
    "start_time": "2022-04-19T09:24:16.913Z"
   },
   {
    "duration": 26,
    "start_time": "2022-04-19T09:24:16.970Z"
   },
   {
    "duration": 62,
    "start_time": "2022-04-19T09:24:16.998Z"
   },
   {
    "duration": 33,
    "start_time": "2022-04-19T09:24:17.062Z"
   },
   {
    "duration": 51,
    "start_time": "2022-04-19T09:24:17.096Z"
   },
   {
    "duration": 35,
    "start_time": "2022-04-19T09:24:17.150Z"
   },
   {
    "duration": 37,
    "start_time": "2022-04-19T09:24:17.187Z"
   },
   {
    "duration": 5,
    "start_time": "2022-04-19T09:24:47.301Z"
   },
   {
    "duration": 6,
    "start_time": "2022-04-19T09:24:50.663Z"
   },
   {
    "duration": 116,
    "start_time": "2022-04-19T09:26:33.450Z"
   },
   {
    "duration": 38,
    "start_time": "2022-04-19T09:27:34.462Z"
   },
   {
    "duration": 38,
    "start_time": "2022-04-19T09:28:13.716Z"
   },
   {
    "duration": 90,
    "start_time": "2022-04-19T09:29:08.023Z"
   },
   {
    "duration": 38,
    "start_time": "2022-04-19T09:29:08.115Z"
   },
   {
    "duration": 7,
    "start_time": "2022-04-19T09:29:08.155Z"
   },
   {
    "duration": 4,
    "start_time": "2022-04-19T09:29:08.165Z"
   },
   {
    "duration": 12,
    "start_time": "2022-04-19T09:29:08.171Z"
   },
   {
    "duration": 4,
    "start_time": "2022-04-19T09:29:08.184Z"
   },
   {
    "duration": 14,
    "start_time": "2022-04-19T09:29:08.190Z"
   },
   {
    "duration": 54,
    "start_time": "2022-04-19T09:29:08.206Z"
   },
   {
    "duration": 15,
    "start_time": "2022-04-19T09:29:08.261Z"
   },
   {
    "duration": 27,
    "start_time": "2022-04-19T09:29:08.279Z"
   },
   {
    "duration": 39,
    "start_time": "2022-04-19T09:29:08.307Z"
   },
   {
    "duration": 18,
    "start_time": "2022-04-19T09:29:08.348Z"
   },
   {
    "duration": 17,
    "start_time": "2022-04-19T09:29:08.367Z"
   },
   {
    "duration": 17,
    "start_time": "2022-04-19T09:29:08.385Z"
   },
   {
    "duration": 13,
    "start_time": "2022-04-19T09:29:08.404Z"
   },
   {
    "duration": 17,
    "start_time": "2022-04-19T09:29:08.447Z"
   },
   {
    "duration": 16,
    "start_time": "2022-04-19T09:29:08.466Z"
   },
   {
    "duration": 6,
    "start_time": "2022-04-19T09:29:08.483Z"
   },
   {
    "duration": 18,
    "start_time": "2022-04-19T09:29:08.491Z"
   },
   {
    "duration": 56,
    "start_time": "2022-04-19T09:29:08.510Z"
   },
   {
    "duration": 22,
    "start_time": "2022-04-19T09:29:08.567Z"
   },
   {
    "duration": 5,
    "start_time": "2022-04-19T09:29:08.591Z"
   },
   {
    "duration": 18,
    "start_time": "2022-04-19T09:29:08.598Z"
   },
   {
    "duration": 42,
    "start_time": "2022-04-19T09:29:08.618Z"
   },
   {
    "duration": 4,
    "start_time": "2022-04-19T09:29:08.662Z"
   },
   {
    "duration": 13,
    "start_time": "2022-04-19T09:29:08.668Z"
   },
   {
    "duration": 17,
    "start_time": "2022-04-19T09:29:08.683Z"
   },
   {
    "duration": 5,
    "start_time": "2022-04-19T09:29:08.704Z"
   },
   {
    "duration": 43,
    "start_time": "2022-04-19T09:29:08.711Z"
   },
   {
    "duration": 13,
    "start_time": "2022-04-19T09:29:08.756Z"
   },
   {
    "duration": 17,
    "start_time": "2022-04-19T09:29:08.771Z"
   },
   {
    "duration": 7,
    "start_time": "2022-04-19T09:29:08.789Z"
   },
   {
    "duration": 9,
    "start_time": "2022-04-19T09:29:08.797Z"
   },
   {
    "duration": 41,
    "start_time": "2022-04-19T09:29:08.807Z"
   },
   {
    "duration": 8,
    "start_time": "2022-04-19T09:29:08.850Z"
   },
   {
    "duration": 31,
    "start_time": "2022-04-19T09:29:08.860Z"
   },
   {
    "duration": 19,
    "start_time": "2022-04-19T09:29:08.893Z"
   },
   {
    "duration": 58,
    "start_time": "2022-04-19T09:29:08.914Z"
   },
   {
    "duration": 31,
    "start_time": "2022-04-19T09:29:08.974Z"
   },
   {
    "duration": 18,
    "start_time": "2022-04-19T09:29:09.007Z"
   },
   {
    "duration": 27,
    "start_time": "2022-04-19T09:29:09.048Z"
   },
   {
    "duration": 28,
    "start_time": "2022-04-19T09:29:09.077Z"
   },
   {
    "duration": 43,
    "start_time": "2022-04-19T09:29:09.106Z"
   },
   {
    "duration": 26,
    "start_time": "2022-04-19T09:29:09.150Z"
   },
   {
    "duration": 24,
    "start_time": "2022-04-19T09:29:09.177Z"
   },
   {
    "duration": 112,
    "start_time": "2022-04-19T09:30:27.287Z"
   },
   {
    "duration": 27,
    "start_time": "2022-04-19T09:32:27.095Z"
   },
   {
    "duration": 64,
    "start_time": "2022-04-19T09:33:01.487Z"
   },
   {
    "duration": 15,
    "start_time": "2022-04-19T09:33:01.553Z"
   },
   {
    "duration": 6,
    "start_time": "2022-04-19T09:33:01.570Z"
   },
   {
    "duration": 7,
    "start_time": "2022-04-19T09:33:01.578Z"
   },
   {
    "duration": 13,
    "start_time": "2022-04-19T09:33:01.588Z"
   },
   {
    "duration": 4,
    "start_time": "2022-04-19T09:33:01.603Z"
   },
   {
    "duration": 58,
    "start_time": "2022-04-19T09:33:01.608Z"
   },
   {
    "duration": 15,
    "start_time": "2022-04-19T09:33:01.668Z"
   },
   {
    "duration": 15,
    "start_time": "2022-04-19T09:33:01.685Z"
   },
   {
    "duration": 70,
    "start_time": "2022-04-19T09:33:01.702Z"
   },
   {
    "duration": 18,
    "start_time": "2022-04-19T09:33:01.773Z"
   },
   {
    "duration": 18,
    "start_time": "2022-04-19T09:33:01.792Z"
   },
   {
    "duration": 47,
    "start_time": "2022-04-19T09:33:01.812Z"
   },
   {
    "duration": 18,
    "start_time": "2022-04-19T09:33:01.862Z"
   },
   {
    "duration": 13,
    "start_time": "2022-04-19T09:33:01.882Z"
   },
   {
    "duration": 19,
    "start_time": "2022-04-19T09:33:01.897Z"
   },
   {
    "duration": 45,
    "start_time": "2022-04-19T09:33:01.917Z"
   },
   {
    "duration": 6,
    "start_time": "2022-04-19T09:33:01.963Z"
   },
   {
    "duration": 19,
    "start_time": "2022-04-19T09:33:01.970Z"
   },
   {
    "duration": 22,
    "start_time": "2022-04-19T09:33:01.990Z"
   },
   {
    "duration": 48,
    "start_time": "2022-04-19T09:33:02.014Z"
   },
   {
    "duration": 5,
    "start_time": "2022-04-19T09:33:02.064Z"
   },
   {
    "duration": 28,
    "start_time": "2022-04-19T09:33:02.070Z"
   },
   {
    "duration": 48,
    "start_time": "2022-04-19T09:33:02.099Z"
   },
   {
    "duration": 16,
    "start_time": "2022-04-19T09:33:02.149Z"
   },
   {
    "duration": 5,
    "start_time": "2022-04-19T09:33:02.166Z"
   },
   {
    "duration": 14,
    "start_time": "2022-04-19T09:33:02.172Z"
   },
   {
    "duration": 26,
    "start_time": "2022-04-19T09:33:02.187Z"
   },
   {
    "duration": 34,
    "start_time": "2022-04-19T09:33:02.215Z"
   },
   {
    "duration": 13,
    "start_time": "2022-04-19T09:33:02.251Z"
   },
   {
    "duration": 15,
    "start_time": "2022-04-19T09:33:02.266Z"
   },
   {
    "duration": 88,
    "start_time": "2022-04-19T09:33:02.283Z"
   },
   {
    "duration": 9,
    "start_time": "2022-04-19T09:33:02.373Z"
   },
   {
    "duration": 11,
    "start_time": "2022-04-19T09:33:02.384Z"
   },
   {
    "duration": 14,
    "start_time": "2022-04-19T09:33:02.396Z"
   },
   {
    "duration": 11,
    "start_time": "2022-04-19T09:33:02.411Z"
   },
   {
    "duration": 45,
    "start_time": "2022-04-19T09:33:02.423Z"
   },
   {
    "duration": 19,
    "start_time": "2022-04-19T09:33:02.470Z"
   },
   {
    "duration": 29,
    "start_time": "2022-04-19T09:33:02.491Z"
   },
   {
    "duration": 51,
    "start_time": "2022-04-19T09:33:02.522Z"
   },
   {
    "duration": 17,
    "start_time": "2022-04-19T09:33:02.576Z"
   },
   {
    "duration": 26,
    "start_time": "2022-04-19T09:33:02.595Z"
   },
   {
    "duration": 23,
    "start_time": "2022-04-19T09:33:02.648Z"
   },
   {
    "duration": 22,
    "start_time": "2022-04-19T09:33:02.673Z"
   },
   {
    "duration": 51,
    "start_time": "2022-04-19T09:33:02.697Z"
   },
   {
    "duration": 24,
    "start_time": "2022-04-19T09:33:02.750Z"
   },
   {
    "duration": 28,
    "start_time": "2022-04-19T09:33:44.791Z"
   },
   {
    "duration": 8,
    "start_time": "2022-04-19T09:34:09.189Z"
   },
   {
    "duration": 15,
    "start_time": "2022-04-19T09:34:17.740Z"
   },
   {
    "duration": 17,
    "start_time": "2022-04-19T09:35:42.356Z"
   },
   {
    "duration": 102,
    "start_time": "2022-04-19T09:36:41.948Z"
   },
   {
    "duration": 95,
    "start_time": "2022-04-19T09:45:28.883Z"
   },
   {
    "duration": 21,
    "start_time": "2022-04-19T09:45:28.980Z"
   },
   {
    "duration": 6,
    "start_time": "2022-04-19T09:45:29.003Z"
   },
   {
    "duration": 5,
    "start_time": "2022-04-19T09:45:29.012Z"
   },
   {
    "duration": 18,
    "start_time": "2022-04-19T09:45:29.048Z"
   },
   {
    "duration": 6,
    "start_time": "2022-04-19T09:45:29.068Z"
   },
   {
    "duration": 21,
    "start_time": "2022-04-19T09:45:29.076Z"
   },
   {
    "duration": 53,
    "start_time": "2022-04-19T09:45:29.099Z"
   },
   {
    "duration": 22,
    "start_time": "2022-04-19T09:45:29.154Z"
   },
   {
    "duration": 39,
    "start_time": "2022-04-19T09:45:29.180Z"
   },
   {
    "duration": 47,
    "start_time": "2022-04-19T09:45:29.221Z"
   },
   {
    "duration": 25,
    "start_time": "2022-04-19T09:45:29.270Z"
   },
   {
    "duration": 24,
    "start_time": "2022-04-19T09:45:29.297Z"
   },
   {
    "duration": 49,
    "start_time": "2022-04-19T09:45:29.323Z"
   },
   {
    "duration": 19,
    "start_time": "2022-04-19T09:45:29.374Z"
   },
   {
    "duration": 23,
    "start_time": "2022-04-19T09:45:29.395Z"
   },
   {
    "duration": 42,
    "start_time": "2022-04-19T09:45:29.420Z"
   },
   {
    "duration": 5,
    "start_time": "2022-04-19T09:45:29.464Z"
   },
   {
    "duration": 21,
    "start_time": "2022-04-19T09:45:29.470Z"
   },
   {
    "duration": 19,
    "start_time": "2022-04-19T09:45:29.492Z"
   },
   {
    "duration": 42,
    "start_time": "2022-04-19T09:45:29.512Z"
   },
   {
    "duration": 5,
    "start_time": "2022-04-19T09:45:29.556Z"
   },
   {
    "duration": 31,
    "start_time": "2022-04-19T09:45:29.562Z"
   },
   {
    "duration": 21,
    "start_time": "2022-04-19T09:45:29.595Z"
   },
   {
    "duration": 41,
    "start_time": "2022-04-19T09:45:29.618Z"
   },
   {
    "duration": 6,
    "start_time": "2022-04-19T09:45:29.661Z"
   },
   {
    "duration": 13,
    "start_time": "2022-04-19T09:45:29.669Z"
   },
   {
    "duration": 17,
    "start_time": "2022-04-19T09:45:29.687Z"
   },
   {
    "duration": 4,
    "start_time": "2022-04-19T09:45:29.706Z"
   },
   {
    "duration": 36,
    "start_time": "2022-04-19T09:45:29.712Z"
   },
   {
    "duration": 15,
    "start_time": "2022-04-19T09:45:29.750Z"
   },
   {
    "duration": 15,
    "start_time": "2022-04-19T09:45:29.766Z"
   },
   {
    "duration": 7,
    "start_time": "2022-04-19T09:45:29.783Z"
   },
   {
    "duration": 8,
    "start_time": "2022-04-19T09:45:29.791Z"
   },
   {
    "duration": 7,
    "start_time": "2022-04-19T09:45:29.801Z"
   },
   {
    "duration": 38,
    "start_time": "2022-04-19T09:45:29.810Z"
   },
   {
    "duration": 33,
    "start_time": "2022-04-19T09:45:29.850Z"
   },
   {
    "duration": 19,
    "start_time": "2022-04-19T09:45:29.885Z"
   },
   {
    "duration": 67,
    "start_time": "2022-04-19T09:45:29.907Z"
   },
   {
    "duration": 49,
    "start_time": "2022-04-19T09:45:29.976Z"
   },
   {
    "duration": 36,
    "start_time": "2022-04-19T09:45:30.028Z"
   },
   {
    "duration": 42,
    "start_time": "2022-04-19T09:45:30.065Z"
   },
   {
    "duration": 43,
    "start_time": "2022-04-19T09:45:30.109Z"
   },
   {
    "duration": 24,
    "start_time": "2022-04-19T09:45:30.154Z"
   },
   {
    "duration": 24,
    "start_time": "2022-04-19T09:45:30.180Z"
   },
   {
    "duration": 49,
    "start_time": "2022-04-19T09:45:30.206Z"
   },
   {
    "duration": 614,
    "start_time": "2022-04-19T13:47:51.163Z"
   },
   {
    "duration": 21,
    "start_time": "2022-04-19T13:47:51.780Z"
   },
   {
    "duration": 8,
    "start_time": "2022-04-19T13:47:51.803Z"
   },
   {
    "duration": 45,
    "start_time": "2022-04-19T13:47:51.814Z"
   },
   {
    "duration": 31,
    "start_time": "2022-04-19T13:47:51.863Z"
   },
   {
    "duration": 9,
    "start_time": "2022-04-19T13:47:51.897Z"
   },
   {
    "duration": 61,
    "start_time": "2022-04-19T13:47:51.908Z"
   },
   {
    "duration": 40,
    "start_time": "2022-04-19T13:47:51.972Z"
   },
   {
    "duration": 70,
    "start_time": "2022-04-19T13:47:52.015Z"
   },
   {
    "duration": 81,
    "start_time": "2022-04-19T13:47:52.088Z"
   },
   {
    "duration": 29,
    "start_time": "2022-04-19T13:47:52.172Z"
   },
   {
    "duration": 50,
    "start_time": "2022-04-19T13:47:52.203Z"
   },
   {
    "duration": 31,
    "start_time": "2022-04-19T13:47:52.258Z"
   },
   {
    "duration": 29,
    "start_time": "2022-04-19T13:47:52.294Z"
   },
   {
    "duration": 50,
    "start_time": "2022-04-19T13:47:52.325Z"
   },
   {
    "duration": 26,
    "start_time": "2022-04-19T13:47:52.377Z"
   },
   {
    "duration": 56,
    "start_time": "2022-04-19T13:47:52.405Z"
   },
   {
    "duration": 9,
    "start_time": "2022-04-19T13:47:52.463Z"
   },
   {
    "duration": 39,
    "start_time": "2022-04-19T13:47:52.474Z"
   },
   {
    "duration": 76,
    "start_time": "2022-04-19T13:47:52.516Z"
   },
   {
    "duration": 29,
    "start_time": "2022-04-19T13:47:52.595Z"
   },
   {
    "duration": 32,
    "start_time": "2022-04-19T13:47:52.626Z"
   },
   {
    "duration": 51,
    "start_time": "2022-04-19T13:47:52.662Z"
   },
   {
    "duration": 58,
    "start_time": "2022-04-19T13:47:52.716Z"
   },
   {
    "duration": 24,
    "start_time": "2022-04-19T13:47:52.776Z"
   },
   {
    "duration": 7,
    "start_time": "2022-04-19T13:47:52.802Z"
   },
   {
    "duration": 21,
    "start_time": "2022-04-19T13:47:52.811Z"
   },
   {
    "duration": 29,
    "start_time": "2022-04-19T13:47:52.852Z"
   },
   {
    "duration": 8,
    "start_time": "2022-04-19T13:47:52.884Z"
   },
   {
    "duration": 17,
    "start_time": "2022-04-19T13:47:52.894Z"
   },
   {
    "duration": 65,
    "start_time": "2022-04-19T13:47:52.913Z"
   },
   {
    "duration": 26,
    "start_time": "2022-04-19T13:47:52.981Z"
   },
   {
    "duration": 9,
    "start_time": "2022-04-19T13:47:53.009Z"
   },
   {
    "duration": 9,
    "start_time": "2022-04-19T13:47:53.053Z"
   },
   {
    "duration": 12,
    "start_time": "2022-04-19T13:47:53.065Z"
   },
   {
    "duration": 14,
    "start_time": "2022-04-19T13:47:53.079Z"
   },
   {
    "duration": 77,
    "start_time": "2022-04-19T13:47:53.095Z"
   },
   {
    "duration": 29,
    "start_time": "2022-04-19T13:47:53.174Z"
   },
   {
    "duration": 70,
    "start_time": "2022-04-19T13:47:53.205Z"
   },
   {
    "duration": 44,
    "start_time": "2022-04-19T13:47:53.277Z"
   },
   {
    "duration": 48,
    "start_time": "2022-04-19T13:47:53.326Z"
   },
   {
    "duration": 49,
    "start_time": "2022-04-19T13:47:53.376Z"
   },
   {
    "duration": 59,
    "start_time": "2022-04-19T13:47:53.427Z"
   },
   {
    "duration": 39,
    "start_time": "2022-04-19T13:47:53.489Z"
   },
   {
    "duration": 41,
    "start_time": "2022-04-19T13:47:53.552Z"
   },
   {
    "duration": 66,
    "start_time": "2022-04-19T13:47:53.597Z"
   },
   {
    "duration": 646,
    "start_time": "2022-04-19T13:50:42.790Z"
   },
   {
    "duration": 27,
    "start_time": "2022-04-19T13:50:43.439Z"
   },
   {
    "duration": 12,
    "start_time": "2022-04-19T13:50:43.468Z"
   },
   {
    "duration": 9,
    "start_time": "2022-04-19T13:50:43.484Z"
   },
   {
    "duration": 60,
    "start_time": "2022-04-19T13:50:43.495Z"
   },
   {
    "duration": 8,
    "start_time": "2022-04-19T13:50:43.557Z"
   },
   {
    "duration": 25,
    "start_time": "2022-04-19T13:50:43.568Z"
   },
   {
    "duration": 4,
    "start_time": "2022-04-19T13:50:43.596Z"
   },
   {
    "duration": 71,
    "start_time": "2022-04-19T13:50:43.603Z"
   },
   {
    "duration": 39,
    "start_time": "2022-04-19T13:50:43.682Z"
   },
   {
    "duration": 72,
    "start_time": "2022-04-19T13:50:43.724Z"
   },
   {
    "duration": 63,
    "start_time": "2022-04-19T13:50:43.798Z"
   },
   {
    "duration": 42,
    "start_time": "2022-04-19T13:50:43.864Z"
   },
   {
    "duration": 69,
    "start_time": "2022-04-19T13:50:43.908Z"
   },
   {
    "duration": 34,
    "start_time": "2022-04-19T13:50:43.980Z"
   },
   {
    "duration": 48,
    "start_time": "2022-04-19T13:50:44.017Z"
   },
   {
    "duration": 30,
    "start_time": "2022-04-19T13:50:44.068Z"
   },
   {
    "duration": 51,
    "start_time": "2022-04-19T13:50:44.101Z"
   },
   {
    "duration": 10,
    "start_time": "2022-04-19T13:50:44.155Z"
   },
   {
    "duration": 71,
    "start_time": "2022-04-19T13:50:44.168Z"
   },
   {
    "duration": 63,
    "start_time": "2022-04-19T13:50:44.242Z"
   },
   {
    "duration": 61,
    "start_time": "2022-04-19T13:50:44.308Z"
   },
   {
    "duration": 10,
    "start_time": "2022-04-19T13:50:44.371Z"
   },
   {
    "duration": 79,
    "start_time": "2022-04-19T13:50:44.384Z"
   },
   {
    "duration": 46,
    "start_time": "2022-04-19T13:50:44.466Z"
   },
   {
    "duration": 59,
    "start_time": "2022-04-19T13:50:44.514Z"
   },
   {
    "duration": 8,
    "start_time": "2022-04-19T13:50:44.576Z"
   },
   {
    "duration": 24,
    "start_time": "2022-04-19T13:50:44.591Z"
   },
   {
    "duration": 60,
    "start_time": "2022-04-19T13:50:44.617Z"
   },
   {
    "duration": 13,
    "start_time": "2022-04-19T13:50:44.681Z"
   },
   {
    "duration": 17,
    "start_time": "2022-04-19T13:50:44.697Z"
   },
   {
    "duration": 75,
    "start_time": "2022-04-19T13:50:44.717Z"
   },
   {
    "duration": 58,
    "start_time": "2022-04-19T13:50:44.794Z"
   },
   {
    "duration": 14,
    "start_time": "2022-04-19T13:50:44.855Z"
   },
   {
    "duration": 62,
    "start_time": "2022-04-19T13:50:44.873Z"
   },
   {
    "duration": 48,
    "start_time": "2022-04-19T13:50:44.939Z"
   },
   {
    "duration": 12,
    "start_time": "2022-04-19T13:50:44.991Z"
   },
   {
    "duration": 52,
    "start_time": "2022-04-19T13:50:45.005Z"
   },
   {
    "duration": 30,
    "start_time": "2022-04-19T13:50:45.060Z"
   },
   {
    "duration": 64,
    "start_time": "2022-04-19T13:50:45.093Z"
   },
   {
    "duration": 50,
    "start_time": "2022-04-19T13:50:45.159Z"
   },
   {
    "duration": 42,
    "start_time": "2022-04-19T13:50:45.212Z"
   },
   {
    "duration": 57,
    "start_time": "2022-04-19T13:50:45.257Z"
   },
   {
    "duration": 53,
    "start_time": "2022-04-19T13:50:45.316Z"
   },
   {
    "duration": 39,
    "start_time": "2022-04-19T13:50:45.372Z"
   },
   {
    "duration": 47,
    "start_time": "2022-04-19T13:50:45.414Z"
   },
   {
    "duration": 121,
    "start_time": "2022-04-19T13:50:45.464Z"
   }
  ],
  "kernelspec": {
   "display_name": "Python 3 (ipykernel)",
   "language": "python",
   "name": "python3"
  },
  "language_info": {
   "codemirror_mode": {
    "name": "ipython",
    "version": 3
   },
   "file_extension": ".py",
   "mimetype": "text/x-python",
   "name": "python",
   "nbconvert_exporter": "python",
   "pygments_lexer": "ipython3",
   "version": "3.9.12"
  },
  "toc": {
   "base_numbering": 1,
   "nav_menu": {},
   "number_sections": true,
   "sideBar": true,
   "skip_h1_title": true,
   "title_cell": "Table of Contents",
   "title_sidebar": "Contents",
   "toc_cell": false,
   "toc_position": {
    "height": "calc(100% - 180px)",
    "left": "10px",
    "top": "150px",
    "width": "245.981px"
   },
   "toc_section_display": true,
   "toc_window_display": true
  }
 },
 "nbformat": 4,
 "nbformat_minor": 5
}
