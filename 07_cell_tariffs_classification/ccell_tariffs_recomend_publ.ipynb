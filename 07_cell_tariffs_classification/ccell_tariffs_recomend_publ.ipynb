{
 "cells": [
  {
   "cell_type": "markdown",
   "id": "6d6eee8f",
   "metadata": {
    "toc": true
   },
   "source": [
    "<h1>Table of Contents<span class=\"tocSkip\"></span></h1>\n",
    "<div class=\"toc\"><ul class=\"toc-item\"><li><span><a href=\"#Откройте-и-изучите-файл\" data-toc-modified-id=\"Откройте-и-изучите-файл-1\"><span class=\"toc-item-num\">1&nbsp;&nbsp;</span>Откройте и изучите файл</a></span></li><li><span><a href=\"#Разбивка-данных-на-выборки\" data-toc-modified-id=\"Разбивка-данных-на-выборки-2\"><span class=\"toc-item-num\">2&nbsp;&nbsp;</span>Разбивка данных на выборки</a></span></li><li><span><a href=\"#Исследование-модели\" data-toc-modified-id=\"Исследование-модели-3\"><span class=\"toc-item-num\">3&nbsp;&nbsp;</span>Исследование модели</a></span><ul class=\"toc-item\"><li><span><a href=\"#Решающее-дерево\" data-toc-modified-id=\"Решающее-дерево-3.1\"><span class=\"toc-item-num\">3.1&nbsp;&nbsp;</span>Решающее дерево</a></span></li><li><span><a href=\"#Случайный-лес\" data-toc-modified-id=\"Случайный-лес-3.2\"><span class=\"toc-item-num\">3.2&nbsp;&nbsp;</span>Случайный лес</a></span></li><li><span><a href=\"#Линейная-регрессия\" data-toc-modified-id=\"Линейная-регрессия-3.3\"><span class=\"toc-item-num\">3.3&nbsp;&nbsp;</span>Линейная регрессия</a></span></li><li><span><a href=\"#Выводы\" data-toc-modified-id=\"Выводы-3.4\"><span class=\"toc-item-num\">3.4&nbsp;&nbsp;</span>Выводы</a></span></li></ul></li><li><span><a href=\"#Проверка-модели-на-тестовой-выборке\" data-toc-modified-id=\"Проверка-модели-на-тестовой-выборке-4\"><span class=\"toc-item-num\">4&nbsp;&nbsp;</span>Проверка модели на тестовой выборке</a></span><ul class=\"toc-item\"><li><span><a href=\"#Решающее-дерево\" data-toc-modified-id=\"Решающее-дерево-4.1\"><span class=\"toc-item-num\">4.1&nbsp;&nbsp;</span>Решающее дерево</a></span></li><li><span><a href=\"#Случайный-лес\" data-toc-modified-id=\"Случайный-лес-4.2\"><span class=\"toc-item-num\">4.2&nbsp;&nbsp;</span>Случайный лес</a></span></li><li><span><a href=\"#Линейная-регрессия\" data-toc-modified-id=\"Линейная-регрессия-4.3\"><span class=\"toc-item-num\">4.3&nbsp;&nbsp;</span>Линейная регрессия</a></span></li><li><span><a href=\"#Выводы\" data-toc-modified-id=\"Выводы-4.4\"><span class=\"toc-item-num\">4.4&nbsp;&nbsp;</span>Выводы</a></span></li></ul></li></ul></div>"
   ]
  },
  {
   "cell_type": "markdown",
   "id": "caf0d952",
   "metadata": {},
   "source": [
    "# Рекомендация тарифов"
   ]
  },
  {
   "cell_type": "markdown",
   "id": "2a841327",
   "metadata": {},
   "source": [
    "**Описание проекта**\n",
    "\n",
    "Оператор мобильной связи «Мегалайн» выяснил: многие клиенты пользуются архивными тарифами. Они хотят построить систему, способную проанализировать поведение клиентов и предложить пользователям новый тариф: «Смарт» или «Ультра».  \n",
    "В нашем распоряжении данные о поведении клиентов, которые уже перешли на эти тарифы. Предобработка данных не понадобится — она уже сделана.  \n",
    "\n",
    "**Цель проекта**\n",
    "\n",
    "Построить модель для задачи классификации, которая выберет подходящий тариф, с максимально большим значением accuracy. Чтобы сдать проект успешно, нужно довести долю правильных ответов по крайней мере до 0.75. Проверка accuracy будет осуществлена на тестовой выборке.\n",
    "\n",
    "**Структура проекта**\n",
    "\n",
    "1. Изучение данных.\n",
    "2. Разделение исходных данных на обучающую, валидационную и тестовую выборки.\n",
    "3. Исследование качества разных моделей и их гиперпараметров. \n",
    "4. Проверка качества модели на тестовой выборке.\n",
    "5. Проверка модели на вменяемость.  \n",
    "\n",
    "**Описание данных**\n",
    "\n",
    "Каждый объект в наборе данных — это информация о поведении одного пользователя за месяц. Известно:  \n",
    "`сalls` — количество звонков,  \n",
    "`minutes` — суммарная длительность звонков в минутах,  \n",
    "`messages` — количество sms-сообщений,  \n",
    "`mb_used` — израсходованный интернет-трафик в Мб,  \n",
    "`is_ultra` — каким тарифом пользовался в течение месяца («Ультра» — 1, «Смарт» — 0).  "
   ]
  },
  {
   "cell_type": "code",
   "execution_count": 158,
   "id": "19a817e9",
   "metadata": {},
   "outputs": [],
   "source": [
    "#импорт библиотек\n",
    "import pandas as pd\n",
    "from sklearn.tree import DecisionTreeClassifier\n",
    "from sklearn.ensemble import RandomForestClassifier \n",
    "from sklearn.linear_model import LogisticRegression\n",
    "from sklearn.model_selection import train_test_split\n",
    "from sklearn.metrics import accuracy_score"
   ]
  },
  {
   "cell_type": "markdown",
   "id": "05c434eb",
   "metadata": {},
   "source": [
    "## Откройте и изучите файл"
   ]
  },
  {
   "cell_type": "code",
   "execution_count": 159,
   "id": "b0488993",
   "metadata": {},
   "outputs": [
    {
     "name": "stdout",
     "output_type": "stream",
     "text": [
      "<class 'pandas.core.frame.DataFrame'>\n",
      "RangeIndex: 3214 entries, 0 to 3213\n",
      "Data columns (total 5 columns):\n",
      " #   Column    Non-Null Count  Dtype  \n",
      "---  ------    --------------  -----  \n",
      " 0   calls     3214 non-null   float64\n",
      " 1   minutes   3214 non-null   float64\n",
      " 2   messages  3214 non-null   float64\n",
      " 3   mb_used   3214 non-null   float64\n",
      " 4   is_ultra  3214 non-null   int64  \n",
      "dtypes: float64(4), int64(1)\n",
      "memory usage: 125.7 KB\n"
     ]
    }
   ],
   "source": [
    "df = pd.read_csv('C:\\\\Users\\\\gorbu\\\\OneDrive\\\\Документы\\\\DataScience\\\\Projects\\\\5 prj\\\\users_behavior.csv')\n",
    "df.info()"
   ]
  },
  {
   "cell_type": "code",
   "execution_count": 160,
   "id": "c91d8e21",
   "metadata": {},
   "outputs": [
    {
     "data": {
      "text/html": [
       "<div>\n",
       "<style scoped>\n",
       "    .dataframe tbody tr th:only-of-type {\n",
       "        vertical-align: middle;\n",
       "    }\n",
       "\n",
       "    .dataframe tbody tr th {\n",
       "        vertical-align: top;\n",
       "    }\n",
       "\n",
       "    .dataframe thead th {\n",
       "        text-align: right;\n",
       "    }\n",
       "</style>\n",
       "<table border=\"1\" class=\"dataframe\">\n",
       "  <thead>\n",
       "    <tr style=\"text-align: right;\">\n",
       "      <th></th>\n",
       "      <th>calls</th>\n",
       "      <th>minutes</th>\n",
       "      <th>messages</th>\n",
       "      <th>mb_used</th>\n",
       "      <th>is_ultra</th>\n",
       "    </tr>\n",
       "  </thead>\n",
       "  <tbody>\n",
       "    <tr>\n",
       "      <th>0</th>\n",
       "      <td>40.0</td>\n",
       "      <td>311.90</td>\n",
       "      <td>83.0</td>\n",
       "      <td>19915.42</td>\n",
       "      <td>0</td>\n",
       "    </tr>\n",
       "    <tr>\n",
       "      <th>1</th>\n",
       "      <td>85.0</td>\n",
       "      <td>516.75</td>\n",
       "      <td>56.0</td>\n",
       "      <td>22696.96</td>\n",
       "      <td>0</td>\n",
       "    </tr>\n",
       "    <tr>\n",
       "      <th>2</th>\n",
       "      <td>77.0</td>\n",
       "      <td>467.66</td>\n",
       "      <td>86.0</td>\n",
       "      <td>21060.45</td>\n",
       "      <td>0</td>\n",
       "    </tr>\n",
       "    <tr>\n",
       "      <th>3</th>\n",
       "      <td>106.0</td>\n",
       "      <td>745.53</td>\n",
       "      <td>81.0</td>\n",
       "      <td>8437.39</td>\n",
       "      <td>1</td>\n",
       "    </tr>\n",
       "    <tr>\n",
       "      <th>4</th>\n",
       "      <td>66.0</td>\n",
       "      <td>418.74</td>\n",
       "      <td>1.0</td>\n",
       "      <td>14502.75</td>\n",
       "      <td>0</td>\n",
       "    </tr>\n",
       "    <tr>\n",
       "      <th>5</th>\n",
       "      <td>58.0</td>\n",
       "      <td>344.56</td>\n",
       "      <td>21.0</td>\n",
       "      <td>15823.37</td>\n",
       "      <td>0</td>\n",
       "    </tr>\n",
       "    <tr>\n",
       "      <th>6</th>\n",
       "      <td>57.0</td>\n",
       "      <td>431.64</td>\n",
       "      <td>20.0</td>\n",
       "      <td>3738.90</td>\n",
       "      <td>1</td>\n",
       "    </tr>\n",
       "    <tr>\n",
       "      <th>7</th>\n",
       "      <td>15.0</td>\n",
       "      <td>132.40</td>\n",
       "      <td>6.0</td>\n",
       "      <td>21911.60</td>\n",
       "      <td>0</td>\n",
       "    </tr>\n",
       "    <tr>\n",
       "      <th>8</th>\n",
       "      <td>7.0</td>\n",
       "      <td>43.39</td>\n",
       "      <td>3.0</td>\n",
       "      <td>2538.67</td>\n",
       "      <td>1</td>\n",
       "    </tr>\n",
       "    <tr>\n",
       "      <th>9</th>\n",
       "      <td>90.0</td>\n",
       "      <td>665.41</td>\n",
       "      <td>38.0</td>\n",
       "      <td>17358.61</td>\n",
       "      <td>0</td>\n",
       "    </tr>\n",
       "  </tbody>\n",
       "</table>\n",
       "</div>"
      ],
      "text/plain": [
       "   calls  minutes  messages   mb_used  is_ultra\n",
       "0   40.0   311.90      83.0  19915.42         0\n",
       "1   85.0   516.75      56.0  22696.96         0\n",
       "2   77.0   467.66      86.0  21060.45         0\n",
       "3  106.0   745.53      81.0   8437.39         1\n",
       "4   66.0   418.74       1.0  14502.75         0\n",
       "5   58.0   344.56      21.0  15823.37         0\n",
       "6   57.0   431.64      20.0   3738.90         1\n",
       "7   15.0   132.40       6.0  21911.60         0\n",
       "8    7.0    43.39       3.0   2538.67         1\n",
       "9   90.0   665.41      38.0  17358.61         0"
      ]
     },
     "execution_count": 160,
     "metadata": {},
     "output_type": "execute_result"
    }
   ],
   "source": [
    "df.head(10)"
   ]
  },
  {
   "cell_type": "markdown",
   "id": "56ceb001",
   "metadata": {},
   "source": [
    "Данные аккуратные, предобработанные, пропусков нет."
   ]
  },
  {
   "cell_type": "markdown",
   "id": "94e11696",
   "metadata": {},
   "source": [
    "## Разбивка данных на выборки"
   ]
  },
  {
   "cell_type": "markdown",
   "id": "ea4da946",
   "metadata": {},
   "source": [
    "20% оставим на тестовую выборку, остальные 80% разобьем в пропорции 80/20 на обучающую и валидационную выборки."
   ]
  },
  {
   "cell_type": "code",
   "execution_count": 161,
   "id": "45c06729",
   "metadata": {},
   "outputs": [],
   "source": [
    "#df_train, df_valid = train_test_split(df, test_size=0.25, random_state=12345)\n",
    "\n",
    "features = df.drop(['is_ultra'], axis=1) \n",
    "target = df['is_ultra']\n",
    "features_train, features_test, target_train, target_test = train_test_split(\n",
    "    features, target, test_size=0.20, random_state=12345)\n",
    "features_train, features_valid, target_train, target_valid = train_test_split(\n",
    "    features_train, target_train, test_size=0.20, random_state=12345)"
   ]
  },
  {
   "cell_type": "markdown",
   "id": "49e99f12",
   "metadata": {},
   "source": [
    "Проверим, что получилось."
   ]
  },
  {
   "cell_type": "code",
   "execution_count": 162,
   "id": "fd790770",
   "metadata": {},
   "outputs": [
    {
     "name": "stdout",
     "output_type": "stream",
     "text": [
      "<class 'pandas.core.frame.DataFrame'>\n",
      "Int64Index: 2056 entries, 2388 to 510\n",
      "Data columns (total 4 columns):\n",
      " #   Column    Non-Null Count  Dtype  \n",
      "---  ------    --------------  -----  \n",
      " 0   calls     2056 non-null   float64\n",
      " 1   minutes   2056 non-null   float64\n",
      " 2   messages  2056 non-null   float64\n",
      " 3   mb_used   2056 non-null   float64\n",
      "dtypes: float64(4)\n",
      "memory usage: 80.3 KB\n"
     ]
    }
   ],
   "source": [
    "features_train.info()"
   ]
  },
  {
   "cell_type": "code",
   "execution_count": 163,
   "id": "e9597ff8",
   "metadata": {},
   "outputs": [
    {
     "name": "stdout",
     "output_type": "stream",
     "text": [
      "<class 'pandas.core.frame.DataFrame'>\n",
      "Int64Index: 515 entries, 2699 to 773\n",
      "Data columns (total 4 columns):\n",
      " #   Column    Non-Null Count  Dtype  \n",
      "---  ------    --------------  -----  \n",
      " 0   calls     515 non-null    float64\n",
      " 1   minutes   515 non-null    float64\n",
      " 2   messages  515 non-null    float64\n",
      " 3   mb_used   515 non-null    float64\n",
      "dtypes: float64(4)\n",
      "memory usage: 20.1 KB\n"
     ]
    }
   ],
   "source": [
    "features_valid.info()"
   ]
  },
  {
   "cell_type": "code",
   "execution_count": 164,
   "id": "0d823668",
   "metadata": {},
   "outputs": [
    {
     "name": "stdout",
     "output_type": "stream",
     "text": [
      "<class 'pandas.core.frame.DataFrame'>\n",
      "Int64Index: 643 entries, 1415 to 1196\n",
      "Data columns (total 4 columns):\n",
      " #   Column    Non-Null Count  Dtype  \n",
      "---  ------    --------------  -----  \n",
      " 0   calls     643 non-null    float64\n",
      " 1   minutes   643 non-null    float64\n",
      " 2   messages  643 non-null    float64\n",
      " 3   mb_used   643 non-null    float64\n",
      "dtypes: float64(4)\n",
      "memory usage: 25.1 KB\n"
     ]
    }
   ],
   "source": [
    "features_test.info()"
   ]
  },
  {
   "cell_type": "code",
   "execution_count": 165,
   "id": "58f0f293",
   "metadata": {},
   "outputs": [
    {
     "data": {
      "text/plain": [
       "2388    1\n",
       "1777    0\n",
       "472     0\n",
       "3201    1\n",
       "1846    1\n",
       "Name: is_ultra, dtype: int64"
      ]
     },
     "execution_count": 165,
     "metadata": {},
     "output_type": "execute_result"
    }
   ],
   "source": [
    "target_train.head()"
   ]
  },
  {
   "cell_type": "code",
   "execution_count": 166,
   "id": "52828be2",
   "metadata": {},
   "outputs": [
    {
     "data": {
      "text/plain": [
       "2699    0\n",
       "242     1\n",
       "2854    0\n",
       "1638    0\n",
       "1632    0\n",
       "Name: is_ultra, dtype: int64"
      ]
     },
     "execution_count": 166,
     "metadata": {},
     "output_type": "execute_result"
    }
   ],
   "source": [
    "target_valid.head()"
   ]
  },
  {
   "cell_type": "code",
   "execution_count": 167,
   "id": "7aea6d28",
   "metadata": {},
   "outputs": [
    {
     "data": {
      "text/plain": [
       "1415    1\n",
       "916     0\n",
       "1670    0\n",
       "686     1\n",
       "2951    0\n",
       "Name: is_ultra, dtype: int64"
      ]
     },
     "execution_count": 167,
     "metadata": {},
     "output_type": "execute_result"
    }
   ],
   "source": [
    "target_test.head()"
   ]
  },
  {
   "cell_type": "markdown",
   "id": "15bffcac",
   "metadata": {},
   "source": [
    "Сравним тестовый таргет с тестовыми признаками - те ли индексы?"
   ]
  },
  {
   "cell_type": "code",
   "execution_count": 168,
   "id": "5e4ce272",
   "metadata": {},
   "outputs": [
    {
     "data": {
      "text/html": [
       "<div>\n",
       "<style scoped>\n",
       "    .dataframe tbody tr th:only-of-type {\n",
       "        vertical-align: middle;\n",
       "    }\n",
       "\n",
       "    .dataframe tbody tr th {\n",
       "        vertical-align: top;\n",
       "    }\n",
       "\n",
       "    .dataframe thead th {\n",
       "        text-align: right;\n",
       "    }\n",
       "</style>\n",
       "<table border=\"1\" class=\"dataframe\">\n",
       "  <thead>\n",
       "    <tr style=\"text-align: right;\">\n",
       "      <th></th>\n",
       "      <th>calls</th>\n",
       "      <th>minutes</th>\n",
       "      <th>messages</th>\n",
       "      <th>mb_used</th>\n",
       "    </tr>\n",
       "  </thead>\n",
       "  <tbody>\n",
       "    <tr>\n",
       "      <th>1415</th>\n",
       "      <td>82.0</td>\n",
       "      <td>507.89</td>\n",
       "      <td>88.0</td>\n",
       "      <td>17543.37</td>\n",
       "    </tr>\n",
       "    <tr>\n",
       "      <th>916</th>\n",
       "      <td>50.0</td>\n",
       "      <td>375.91</td>\n",
       "      <td>35.0</td>\n",
       "      <td>12388.40</td>\n",
       "    </tr>\n",
       "    <tr>\n",
       "      <th>1670</th>\n",
       "      <td>83.0</td>\n",
       "      <td>540.49</td>\n",
       "      <td>41.0</td>\n",
       "      <td>9127.74</td>\n",
       "    </tr>\n",
       "    <tr>\n",
       "      <th>686</th>\n",
       "      <td>79.0</td>\n",
       "      <td>562.99</td>\n",
       "      <td>19.0</td>\n",
       "      <td>25508.19</td>\n",
       "    </tr>\n",
       "    <tr>\n",
       "      <th>2951</th>\n",
       "      <td>78.0</td>\n",
       "      <td>531.29</td>\n",
       "      <td>20.0</td>\n",
       "      <td>9217.25</td>\n",
       "    </tr>\n",
       "  </tbody>\n",
       "</table>\n",
       "</div>"
      ],
      "text/plain": [
       "      calls  minutes  messages   mb_used\n",
       "1415   82.0   507.89      88.0  17543.37\n",
       "916    50.0   375.91      35.0  12388.40\n",
       "1670   83.0   540.49      41.0   9127.74\n",
       "686    79.0   562.99      19.0  25508.19\n",
       "2951   78.0   531.29      20.0   9217.25"
      ]
     },
     "execution_count": 168,
     "metadata": {},
     "output_type": "execute_result"
    }
   ],
   "source": [
    "features_test.head()"
   ]
  },
  {
   "cell_type": "markdown",
   "id": "ede26df1",
   "metadata": {},
   "source": [
    "Индексы совпадают. Разделили корректно."
   ]
  },
  {
   "cell_type": "markdown",
   "id": "f9df9979",
   "metadata": {},
   "source": [
    "## Исследование модели"
   ]
  },
  {
   "cell_type": "markdown",
   "id": "68264abe",
   "metadata": {},
   "source": [
    "Постараемся понять, какая модель обучения даст лучшие реузультаты."
   ]
  },
  {
   "cell_type": "markdown",
   "id": "44a37ab1",
   "metadata": {},
   "source": [
    "### Решающее дерево"
   ]
  },
  {
   "cell_type": "code",
   "execution_count": 169,
   "id": "77bcf602",
   "metadata": {},
   "outputs": [
    {
     "name": "stdout",
     "output_type": "stream",
     "text": [
      "Accuracy лучшей модели: 0.7650485436893204\n",
      "Глубина лучшей модели: 7\n"
     ]
    }
   ],
   "source": [
    "best_model = None\n",
    "best_result = 0\n",
    "best_depth = 0\n",
    "for depth in range(1, 20):\n",
    "    model = DecisionTreeClassifier(random_state=12345, max_depth=depth)\n",
    "    model.fit(features_train, target_train)\n",
    "    result = model.score(features_valid, target_valid)\n",
    "    if result > best_result:\n",
    "        best_model = model\n",
    "        best_result = result\n",
    "        best_depth = depth\n",
    "        \n",
    "print(\"Accuracy лучшей модели:\", best_result)\n",
    "print(\"Глубина лучшей модели:\", best_depth)"
   ]
  },
  {
   "cell_type": "markdown",
   "id": "fa69fee5",
   "metadata": {},
   "source": [
    "### Случайный лес"
   ]
  },
  {
   "cell_type": "code",
   "execution_count": 170,
   "id": "e8ef773f",
   "metadata": {},
   "outputs": [
    {
     "name": "stdout",
     "output_type": "stream",
     "text": [
      "Accuracy наилучшей модели на валидационной выборке: 0.7941747572815534\n",
      "Количество деревьев лучшей модели: 14\n",
      "Глубина лучшей модели: 14\n"
     ]
    }
   ],
   "source": [
    "best_model = None\n",
    "best_result = 0\n",
    "best_depth = 0\n",
    "best_est = 0\n",
    "for est in range(1, 20):\n",
    "    for depth in range(1, 20):\n",
    "        model = RandomForestClassifier(random_state=12345, n_estimators=est, max_depth=depth) \n",
    "        model.fit(features_train, target_train) \n",
    "        result = model.score(features_valid, target_valid) \n",
    "        if result > best_result:\n",
    "            best_model = model \n",
    "            best_result = result \n",
    "            best_depth = depth\n",
    "            best_est = est\n",
    "        \n",
    "print(\"Accuracy наилучшей модели на валидационной выборке:\", best_result)\n",
    "print(\"Количество деревьев лучшей модели:\", best_est)\n",
    "print(\"Глубина лучшей модели:\", best_depth)"
   ]
  },
  {
   "cell_type": "markdown",
   "id": "b73d2ad3",
   "metadata": {},
   "source": [
    "### Линейная регрессия"
   ]
  },
  {
   "cell_type": "code",
   "execution_count": 171,
   "id": "506246aa",
   "metadata": {},
   "outputs": [
    {
     "name": "stdout",
     "output_type": "stream",
     "text": [
      "Accuracy модели линейной регрессии на валидационной выборке: 0.7165048543689321\n"
     ]
    }
   ],
   "source": [
    "model = LogisticRegression(random_state=12345)\n",
    "model.fit(features_train, target_train)\n",
    "result = model.score(features_valid, target_valid)\n",
    "\n",
    "print(\"Accuracy модели линейной регрессии на валидационной выборке:\", result)"
   ]
  },
  {
   "cell_type": "markdown",
   "id": "cecbac07",
   "metadata": {},
   "source": [
    "### Выводы"
   ]
  },
  {
   "cell_type": "markdown",
   "id": "6aa5bcf8",
   "metadata": {},
   "source": [
    "Лучшие результаты на валидационной выборке показала модель случайного леса с accuracy 79,4% (количество деревьев лучшей модели: 14, глубина лучшей модели: 14).  \n",
    "На втором месте решающее дерево (accuracy 76,5%, глубина лучшей модели: 7), на третьем - логистическая регрессия (accuracy 71,6%)."
   ]
  },
  {
   "cell_type": "markdown",
   "id": "88b4f2e7",
   "metadata": {},
   "source": [
    "## Проверка модели на тестовой выборке"
   ]
  },
  {
   "cell_type": "markdown",
   "id": "ce65184c",
   "metadata": {},
   "source": [
    "### Решающее дерево"
   ]
  },
  {
   "cell_type": "code",
   "execution_count": 172,
   "id": "6d4919c9",
   "metadata": {},
   "outputs": [
    {
     "name": "stdout",
     "output_type": "stream",
     "text": [
      "Accuracy наилучшей модели на валидационной выборке: 0.7650485436893204\n",
      "Accuracy наилучшей модели на тестовой выборке: 0.7916018662519441\n"
     ]
    }
   ],
   "source": [
    "model = DecisionTreeClassifier(random_state=12345, max_depth=7) \n",
    "model.fit(features_train, target_train) \n",
    "result = model.score(features_valid, target_valid)\n",
    "result_test = model.score(features_test, target_test)\n",
    "print(\"Accuracy наилучшей модели на валидационной выборке:\", result)\n",
    "print(\"Accuracy наилучшей модели на тестовой выборке:\", result_test)"
   ]
  },
  {
   "cell_type": "markdown",
   "id": "277bb0b7",
   "metadata": {},
   "source": [
    "### Случайный лес"
   ]
  },
  {
   "cell_type": "code",
   "execution_count": 173,
   "id": "55ac878c",
   "metadata": {},
   "outputs": [
    {
     "name": "stdout",
     "output_type": "stream",
     "text": [
      "Accuracy наилучшей модели на валидационной выборке: 0.7941747572815534\n",
      "Accuracy наилучшей модели на тестовой выборке: 0.7884914463452566\n"
     ]
    }
   ],
   "source": [
    "model = RandomForestClassifier(random_state=12345, n_estimators=14, max_depth=14) \n",
    "model.fit(features_train, target_train) \n",
    "result = model.score(features_valid, target_valid)\n",
    "result_test = model.score(features_test, target_test)\n",
    "print(\"Accuracy наилучшей модели на валидационной выборке:\", result)\n",
    "print(\"Accuracy наилучшей модели на тестовой выборке:\", result_test)"
   ]
  },
  {
   "cell_type": "markdown",
   "id": "87cb4f96",
   "metadata": {},
   "source": [
    "### Линейная регрессия"
   ]
  },
  {
   "cell_type": "code",
   "execution_count": 174,
   "id": "7bf594bf",
   "metadata": {},
   "outputs": [
    {
     "name": "stdout",
     "output_type": "stream",
     "text": [
      "Accuracy наилучшей модели на валидационной выборке: 0.7165048543689321\n",
      "Accuracy наилучшей модели на тестовой выборке: 0.76049766718507\n"
     ]
    }
   ],
   "source": [
    "model = LogisticRegression(random_state=12345) \n",
    "model.fit(features_train, target_train) \n",
    "result = model.score(features_valid, target_valid)\n",
    "result_test = model.score(features_test, target_test)\n",
    "print(\"Accuracy наилучшей модели на валидационной выборке:\", result)\n",
    "print(\"Accuracy наилучшей модели на тестовой выборке:\", result_test)"
   ]
  },
  {
   "cell_type": "markdown",
   "id": "0175894d",
   "metadata": {},
   "source": [
    "### Выводы"
   ]
  },
  {
   "cell_type": "markdown",
   "id": "cb6cb254",
   "metadata": {},
   "source": [
    "Лучшие результаты на тестовой выборке показала модель решающего дерева с accuracy 79,2%, на втором месте случайный лес (accuracy 78,8%), на третьем - логистическая регрессия (accuracy 76,0%).  \n",
    "Вместе с тем, исходя из разницы в accuracy на валидационной и тестовой выборках, можно сказать, что модели решающего дерева и линейной регрессии недообучены, а случайный лес дает более ровные результаты.\n",
    "\n",
    "В качестве модели выберем случайный лес (количество деревьев лучшей модели: 14, глубина лучшей модели: 14).  "
   ]
  }
 ],
 "metadata": {
  "kernelspec": {
   "display_name": "Python 3 (ipykernel)",
   "language": "python",
   "name": "python3"
  },
  "language_info": {
   "codemirror_mode": {
    "name": "ipython",
    "version": 3
   },
   "file_extension": ".py",
   "mimetype": "text/x-python",
   "name": "python",
   "nbconvert_exporter": "python",
   "pygments_lexer": "ipython3",
   "version": "3.9.12"
  },
  "toc": {
   "base_numbering": 1,
   "nav_menu": {},
   "number_sections": true,
   "sideBar": true,
   "skip_h1_title": true,
   "title_cell": "Table of Contents",
   "title_sidebar": "Contents",
   "toc_cell": true,
   "toc_position": {
    "height": "calc(100% - 180px)",
    "left": "10px",
    "top": "150px",
    "width": "460.8px"
   },
   "toc_section_display": true,
   "toc_window_display": true
  }
 },
 "nbformat": 4,
 "nbformat_minor": 5
}
