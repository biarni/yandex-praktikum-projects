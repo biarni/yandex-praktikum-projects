{
 "cells": [
  {
   "cell_type": "markdown",
   "metadata": {
    "toc": true
   },
   "source": [
    "<h1>Содержание<span class=\"tocSkip\"></span></h1>\n",
    "<div class=\"toc\"><ul class=\"toc-item\"><li><span><a href=\"#Описание-данных-и-метрик\" data-toc-modified-id=\"Описание-данных-и-метрик-1\"><span class=\"toc-item-num\">1&nbsp;&nbsp;</span>Описание данных и метрик</a></span></li><li><span><a href=\"#Подготовка-данных\" data-toc-modified-id=\"Подготовка-данных-2\"><span class=\"toc-item-num\">2&nbsp;&nbsp;</span>Подготовка данных</a></span><ul class=\"toc-item\"><li><span><a href=\"#Обзор-данных\" data-toc-modified-id=\"Обзор-данных-2.1\"><span class=\"toc-item-num\">2.1&nbsp;&nbsp;</span>Обзор данных</a></span><ul class=\"toc-item\"><li><span><a href=\"#Обучающая-выборка\" data-toc-modified-id=\"Обучающая-выборка-2.1.1\"><span class=\"toc-item-num\">2.1.1&nbsp;&nbsp;</span>Обучающая выборка</a></span></li><li><span><a href=\"#Тестовая-выборка\" data-toc-modified-id=\"Тестовая-выборка-2.1.2\"><span class=\"toc-item-num\">2.1.2&nbsp;&nbsp;</span>Тестовая выборка</a></span></li><li><span><a href=\"#Исходные-данные\" data-toc-modified-id=\"Исходные-данные-2.1.3\"><span class=\"toc-item-num\">2.1.3&nbsp;&nbsp;</span>Исходные данные</a></span></li></ul></li><li><span><a href=\"#Обработка-дубликатов\" data-toc-modified-id=\"Обработка-дубликатов-2.2\"><span class=\"toc-item-num\">2.2&nbsp;&nbsp;</span>Обработка дубликатов</a></span></li><li><span><a href=\"#Проверка-расчета-эффективности-обогащения\" data-toc-modified-id=\"Проверка-расчета-эффективности-обогащения-2.3\"><span class=\"toc-item-num\">2.3&nbsp;&nbsp;</span>Проверка расчета эффективности обогащения</a></span></li><li><span><a href=\"#Различия-тестовой-и-обучающей-выборки\" data-toc-modified-id=\"Различия-тестовой-и-обучающей-выборки-2.4\"><span class=\"toc-item-num\">2.4&nbsp;&nbsp;</span>Различия тестовой и обучающей выборки</a></span></li><li><span><a href=\"#Обработка-пропусков\" data-toc-modified-id=\"Обработка-пропусков-2.5\"><span class=\"toc-item-num\">2.5&nbsp;&nbsp;</span>Обработка пропусков</a></span></li></ul></li><li><span><a href=\"#Анализ-данных\" data-toc-modified-id=\"Анализ-данных-3\"><span class=\"toc-item-num\">3&nbsp;&nbsp;</span>Анализ данных</a></span><ul class=\"toc-item\"><li><span><a href=\"#Изменение-концентрации-металлов-(Au,-Ag,-Pb)-на-различных-этапах-очистки\" data-toc-modified-id=\"Изменение-концентрации-металлов-(Au,-Ag,-Pb)-на-различных-этапах-очистки-3.1\"><span class=\"toc-item-num\">3.1&nbsp;&nbsp;</span>Изменение концентрации металлов (Au, Ag, Pb) на различных этапах очистки</a></span></li><li><span><a href=\"#Распределение-размеров-гранул-сырья\" data-toc-modified-id=\"Распределение-размеров-гранул-сырья-3.2\"><span class=\"toc-item-num\">3.2&nbsp;&nbsp;</span>Распределение размеров гранул сырья</a></span></li><li><span><a href=\"#Суммарная-концентрация-всех-веществ-на-разных-стадиях\" data-toc-modified-id=\"Суммарная-концентрация-всех-веществ-на-разных-стадиях-3.3\"><span class=\"toc-item-num\">3.3&nbsp;&nbsp;</span>Суммарная концентрация всех веществ на разных стадиях</a></span></li></ul></li><li><span><a href=\"#Модель\" data-toc-modified-id=\"Модель-4\"><span class=\"toc-item-num\">4&nbsp;&nbsp;</span>Модель</a></span><ul class=\"toc-item\"><li><span><a href=\"#Разделение-выборок\" data-toc-modified-id=\"Разделение-выборок-4.1\"><span class=\"toc-item-num\">4.1&nbsp;&nbsp;</span>Разделение выборок</a></span></li><li><span><a href=\"#Стандартизация\" data-toc-modified-id=\"Стандартизация-4.2\"><span class=\"toc-item-num\">4.2&nbsp;&nbsp;</span>Стандартизация</a></span></li><li><span><a href=\"#Функция-для-расчета-метрики\" data-toc-modified-id=\"Функция-для-расчета-метрики-4.3\"><span class=\"toc-item-num\">4.3&nbsp;&nbsp;</span>Функция для расчета метрики</a></span></li><li><span><a href=\"#Обучение-моделей\" data-toc-modified-id=\"Обучение-моделей-4.4\"><span class=\"toc-item-num\">4.4&nbsp;&nbsp;</span>Обучение моделей</a></span><ul class=\"toc-item\"><li><span><a href=\"#Линейная-регрессия\" data-toc-modified-id=\"Линейная-регрессия-4.4.1\"><span class=\"toc-item-num\">4.4.1&nbsp;&nbsp;</span>Линейная регрессия</a></span></li><li><span><a href=\"#Решающее-дерево\" data-toc-modified-id=\"Решающее-дерево-4.4.2\"><span class=\"toc-item-num\">4.4.2&nbsp;&nbsp;</span>Решающее дерево</a></span></li><li><span><a href=\"#Случайный-лес\" data-toc-modified-id=\"Случайный-лес-4.4.3\"><span class=\"toc-item-num\">4.4.3&nbsp;&nbsp;</span>Случайный лес</a></span></li></ul></li><li><span><a href=\"#Проверка-на-тестовой-выборке\" data-toc-modified-id=\"Проверка-на-тестовой-выборке-4.5\"><span class=\"toc-item-num\">4.5&nbsp;&nbsp;</span>Проверка на тестовой выборке</a></span></li></ul></li><li><span><a href=\"#Вывод\" data-toc-modified-id=\"Вывод-5\"><span class=\"toc-item-num\">5&nbsp;&nbsp;</span>Вывод</a></span></li></ul></div>"
   ]
  },
  {
   "cell_type": "markdown",
   "metadata": {},
   "source": [
    "# Восстановление золота из руды"
   ]
  },
  {
   "cell_type": "markdown",
   "metadata": {},
   "source": [
    "Задача состоит в подготовке прототипа модели машинного обучения для «Цифры». Компания разрабатывает решения для эффективной работы промышленных предприятий.\n",
    "\n",
    "Модель должна предсказать коэффициент восстановления золота из золотосодержащей руды. Используем данные с параметрами добычи и очистки. \n",
    "\n",
    "Модель поможет оптимизировать производство, чтобы не запускать предприятие с убыточными характеристиками.\n",
    "\n",
    "Нам нужно:\n",
    "\n",
    "1. Подготовить данные;\n",
    "2. Провести исследовательский анализ данных;\n",
    "3. Построить и обучить модель."
   ]
  },
  {
   "cell_type": "markdown",
   "metadata": {},
   "source": [
    "## Описание данных и метрик"
   ]
  },
  {
   "cell_type": "markdown",
   "metadata": {},
   "source": [
    "Данные находятся в трёх файлах:   \n",
    "`gold_recovery_train_new.csv` — обучающая выборка;  \n",
    "`gold_recovery_test_new.csv` — тестовая выборка;  \n",
    "`gold_recovery_full_new.csv` — исходные данные.  \n",
    "\n",
    "Данные индексируются датой и временем получения информации (признак date). Соседние по времени параметры часто похожи.\n",
    "Некоторые параметры недоступны, потому что замеряются и/или рассчитываются значительно позже. Из-за этого в тестовой выборке отсутствуют некоторые признаки, которые могут быть в обучающей. Также в тестовом наборе нет целевых признаков.\n",
    "Исходный датасет содержит обучающую и тестовую выборки со всеми признаками.\n",
    "\n",
    "В нашем распоряжении сырые данные: их просто выгрузили из хранилища. Прежде чем приступить к построению модели, проверим по данные на корректность."
   ]
  },
  {
   "cell_type": "markdown",
   "metadata": {},
   "source": [
    "**Технологический процесс:**\n",
    "\n",
    "`Rougher feed` — исходное сырье  \n",
    "`Rougher additions` (или reagent additions) — флотационные реагенты: Xanthate, Sulphate, Depressant    \n",
    "Xanthate — ксантогенат (промотер, или активатор флотации);  \n",
    "Sulphate — сульфат (на данном производстве сульфид натрия);  \n",
    "Depressant — депрессант (силикат натрия).    \n",
    "`Rougher process` (англ. «грубый процесс») — флотация  \n",
    "`Rougher tails` — отвальные хвосты  \n",
    "`Float banks` — флотационная установка  \n",
    "`Cleaner process` — очистка  \n",
    "`Rougher Au` — черновой концентрат золота  \n",
    "`Final Au` — финальный концентрат золота  \n",
    "\n",
    "**Параметры этапов:**\n",
    "\n",
    "`air amount` — объём воздуха  \n",
    "`fluid levels` — уровень жидкости  \n",
    "`feed size` — размер гранул сырья  \n",
    "`feed rate` — скорость подачи  \n",
    "\n",
    "**Наименование признаков:**\n",
    "\n",
    "Наименование признаков должно быть такое:  \n",
    "[этап].[тип_параметра].[название_параметра]  \n",
    "Пример: rougher.input.feed_ag  \n",
    "\n",
    "Возможные значения для блока [этап]:  \n",
    "`rougher` — флотация  \n",
    "`primary_cleaner` — первичная очистка  \n",
    "`secondary_cleaner` — вторичная очистка  \n",
    "`final` — финальные характеристики  \n",
    "\n",
    "Возможные значения для блока [тип_параметра]:  \n",
    "`input` — параметры сырья  \n",
    "`output` — параметры продукта  \n",
    "`state` — параметры, характеризующие текущее состояние этапа  \n",
    "`calculation` — расчётные характеристики  "
   ]
  },
  {
   "cell_type": "markdown",
   "metadata": {},
   "source": [
    "**Расчёт эффективности:**\n",
    "\n",
    "Нам нужно смоделировать процесс восстановления золота из золотосодержащей руды.  \n",
    "Эффективность обогащения рассчитывается по формуле:  "
   ]
  },
  {
   "attachments": {
    "Recovery_1576238822.jpg": {
     "image/jpeg": "[encoded data removed]"
    }
   },
   "cell_type": "markdown",
   "metadata": {},
   "source": [
    "![Recovery_1576238822.jpg](attachment:Recovery_1576238822.jpg)"
   ]
  },
  {
   "cell_type": "markdown",
   "metadata": {},
   "source": [
    "где:  \n",
    "C — доля золота в концентрате после флотации/очистки;  \n",
    "F — доля золота в сырье/концентрате до флотации/очистки;  \n",
    "T — доля золота в отвальных хвостах после флотации/очистки.  \n",
    "\n",
    "Для прогноза коэффициента нужно найти долю золота в концентратах и хвостах. Причём важен не только финальный продукт, но и черновой концентрат."
   ]
  },
  {
   "cell_type": "markdown",
   "metadata": {},
   "source": [
    "**Метрика качества:**\n",
    "\n",
    "Для решения задачи введём новую метрику качества — sMAPE (англ. Symmetric Mean Absolute Percentage Error, «симметричное среднее абсолютное процентное отклонение»).  \n",
    "Она похожа на MAE, но выражается не в абсолютных величинах, а в относительных. Почему симметричная? Она одинаково учитывает масштаб и целевого признака, и предсказания.  \n",
    "Метрика sMAPE вычисляется так:  "
   ]
  },
  {
   "attachments": {
    "smape_1576238825.jpg": {
     "image/jpeg": "[encoded data removed]"
    }
   },
   "cell_type": "markdown",
   "metadata": {},
   "source": [
    "![smape_1576238825.jpg](attachment:smape_1576238825.jpg)"
   ]
  },
  {
   "cell_type": "markdown",
   "metadata": {},
   "source": [
    "Обозначения:\n",
    "- Значение целевого признака для объекта с порядковым номером i в выборке, на которой измеряется качество.\n",
    "- Значение предсказания для объекта с порядковым номером i, например, в тестовой выборке.\n",
    "- Количество объектов в выборке.\n",
    "- Суммирование по всем объектам выборки (i меняется от 1 до N).\n",
    "\n",
    "**Нужно спрогнозировать сразу две величины:**\n",
    "\n",
    "- эффективность обогащения чернового концентрата `rougher.output.recovery`;      \n",
    "- эффективность обогащения финального концентрата `final.output.recovery`.      \n",
    "\n",
    "Итоговая метрика складывается из двух величин:"
   ]
  },
  {
   "attachments": {
    "_smape_1576238814.jpg": {
     "image/jpeg": "[encoded data removed]"
    }
   },
   "cell_type": "markdown",
   "metadata": {},
   "source": [
    "![_smape_1576238814.jpg](attachment:_smape_1576238814.jpg)"
   ]
  },
  {
   "cell_type": "markdown",
   "metadata": {},
   "source": [
    "## Подготовка данных"
   ]
  },
  {
   "cell_type": "markdown",
   "metadata": {},
   "source": [
    "### Обзор данных"
   ]
  },
  {
   "cell_type": "markdown",
   "metadata": {},
   "source": [
    "#### Обучающая выборка"
   ]
  },
  {
   "cell_type": "code",
   "execution_count": 1,
   "metadata": {},
   "outputs": [],
   "source": [
    "#импорт библиотек\n",
    "import pandas as pd\n",
    "import numpy as np\n",
    "import matplotlib.pyplot as plt\n",
    "from sklearn.linear_model import LinearRegression\n",
    "from sklearn.tree import DecisionTreeRegressor\n",
    "from sklearn.ensemble import RandomForestRegressor\n",
    "from sklearn.preprocessing import StandardScaler\n",
    "from sklearn.metrics import mean_absolute_error\n",
    "from sklearn.model_selection import cross_val_score\n",
    "from sklearn.metrics import make_scorer"
   ]
  },
  {
   "cell_type": "markdown",
   "metadata": {},
   "source": [
    "<font color='blue'><b>Комментарий ревьюера: </b></font> ✔️ <br>\n",
    "<font color='green'>Здорово, что все импорты находятся в одной ячейке.<br>\n",
    "Если хочешь сделать ещё лучше, соблюдай стандарт PEP-8, разбей импорты на функциональные группы, раздели группы пустой строкой. Можно в каждой группе отсортировать импорты в алфавитном порядке.<br>\n",
    "Ссылка для ознакомления: https://pythonworld.ru/osnovy/pep-8-rukovodstvo-po-napisaniyu-koda-na-python.html\n",
    "</font>"
   ]
  },
  {
   "cell_type": "code",
   "execution_count": 2,
   "metadata": {
    "scrolled": true
   },
   "outputs": [
    {
     "name": "stdout",
     "output_type": "stream",
     "text": [
      "<class 'pandas.core.frame.DataFrame'>\n",
      "RangeIndex: 14149 entries, 0 to 14148\n",
      "Data columns (total 87 columns):\n",
      " #   Column                                              Non-Null Count  Dtype  \n",
      "---  ------                                              --------------  -----  \n",
      " 0   date                                                14149 non-null  object \n",
      " 1   final.output.concentrate_ag                         14148 non-null  float64\n",
      " 2   final.output.concentrate_pb                         14148 non-null  float64\n",
      " 3   final.output.concentrate_sol                        13938 non-null  float64\n",
      " 4   final.output.concentrate_au                         14149 non-null  float64\n",
      " 5   final.output.recovery                               14149 non-null  float64\n",
      " 6   final.output.tail_ag                                14149 non-null  float64\n",
      " 7   final.output.tail_pb                                14049 non-null  float64\n",
      " 8   final.output.tail_sol                               14144 non-null  float64\n",
      " 9   final.output.tail_au                                14149 non-null  float64\n",
      " 10  primary_cleaner.input.sulfate                       14129 non-null  float64\n",
      " 11  primary_cleaner.input.depressant                    14117 non-null  float64\n",
      " 12  primary_cleaner.input.feed_size                     14149 non-null  float64\n",
      " 13  primary_cleaner.input.xanthate                      14049 non-null  float64\n",
      " 14  primary_cleaner.output.concentrate_ag               14149 non-null  float64\n",
      " 15  primary_cleaner.output.concentrate_pb               14063 non-null  float64\n",
      " 16  primary_cleaner.output.concentrate_sol              13863 non-null  float64\n",
      " 17  primary_cleaner.output.concentrate_au               14149 non-null  float64\n",
      " 18  primary_cleaner.output.tail_ag                      14148 non-null  float64\n",
      " 19  primary_cleaner.output.tail_pb                      14134 non-null  float64\n",
      " 20  primary_cleaner.output.tail_sol                     14103 non-null  float64\n",
      " 21  primary_cleaner.output.tail_au                      14149 non-null  float64\n",
      " 22  primary_cleaner.state.floatbank8_a_air              14145 non-null  float64\n",
      " 23  primary_cleaner.state.floatbank8_a_level            14148 non-null  float64\n",
      " 24  primary_cleaner.state.floatbank8_b_air              14145 non-null  float64\n",
      " 25  primary_cleaner.state.floatbank8_b_level            14148 non-null  float64\n",
      " 26  primary_cleaner.state.floatbank8_c_air              14147 non-null  float64\n",
      " 27  primary_cleaner.state.floatbank8_c_level            14148 non-null  float64\n",
      " 28  primary_cleaner.state.floatbank8_d_air              14146 non-null  float64\n",
      " 29  primary_cleaner.state.floatbank8_d_level            14148 non-null  float64\n",
      " 30  rougher.calculation.sulfate_to_au_concentrate       14148 non-null  float64\n",
      " 31  rougher.calculation.floatbank10_sulfate_to_au_feed  14148 non-null  float64\n",
      " 32  rougher.calculation.floatbank11_sulfate_to_au_feed  14148 non-null  float64\n",
      " 33  rougher.calculation.au_pb_ratio                     14149 non-null  float64\n",
      " 34  rougher.input.feed_ag                               14149 non-null  float64\n",
      " 35  rougher.input.feed_pb                               14049 non-null  float64\n",
      " 36  rougher.input.feed_rate                             14141 non-null  float64\n",
      " 37  rougher.input.feed_size                             14005 non-null  float64\n",
      " 38  rougher.input.feed_sol                              14071 non-null  float64\n",
      " 39  rougher.input.feed_au                               14149 non-null  float64\n",
      " 40  rougher.input.floatbank10_sulfate                   14120 non-null  float64\n",
      " 41  rougher.input.floatbank10_xanthate                  14141 non-null  float64\n",
      " 42  rougher.input.floatbank11_sulfate                   14113 non-null  float64\n",
      " 43  rougher.input.floatbank11_xanthate                  13721 non-null  float64\n",
      " 44  rougher.output.concentrate_ag                       14149 non-null  float64\n",
      " 45  rougher.output.concentrate_pb                       14149 non-null  float64\n",
      " 46  rougher.output.concentrate_sol                      14127 non-null  float64\n",
      " 47  rougher.output.concentrate_au                       14149 non-null  float64\n",
      " 48  rougher.output.recovery                             14149 non-null  float64\n",
      " 49  rougher.output.tail_ag                              14148 non-null  float64\n",
      " 50  rougher.output.tail_pb                              14149 non-null  float64\n",
      " 51  rougher.output.tail_sol                             14149 non-null  float64\n",
      " 52  rougher.output.tail_au                              14149 non-null  float64\n",
      " 53  rougher.state.floatbank10_a_air                     14148 non-null  float64\n",
      " 54  rougher.state.floatbank10_a_level                   14148 non-null  float64\n",
      " 55  rougher.state.floatbank10_b_air                     14148 non-null  float64\n",
      " 56  rougher.state.floatbank10_b_level                   14148 non-null  float64\n",
      " 57  rougher.state.floatbank10_c_air                     14148 non-null  float64\n",
      " 58  rougher.state.floatbank10_c_level                   14148 non-null  float64\n",
      " 59  rougher.state.floatbank10_d_air                     14149 non-null  float64\n",
      " 60  rougher.state.floatbank10_d_level                   14149 non-null  float64\n",
      " 61  rougher.state.floatbank10_e_air                     13713 non-null  float64\n",
      " 62  rougher.state.floatbank10_e_level                   14149 non-null  float64\n",
      " 63  rougher.state.floatbank10_f_air                     14149 non-null  float64\n",
      " 64  rougher.state.floatbank10_f_level                   14149 non-null  float64\n",
      " 65  secondary_cleaner.output.tail_ag                    14147 non-null  float64\n",
      " 66  secondary_cleaner.output.tail_pb                    14139 non-null  float64\n",
      " 67  secondary_cleaner.output.tail_sol                   12544 non-null  float64\n",
      " 68  secondary_cleaner.output.tail_au                    14149 non-null  float64\n",
      " 69  secondary_cleaner.state.floatbank2_a_air            13932 non-null  float64\n",
      " 70  secondary_cleaner.state.floatbank2_a_level          14148 non-null  float64\n",
      " 71  secondary_cleaner.state.floatbank2_b_air            14128 non-null  float64\n",
      " 72  secondary_cleaner.state.floatbank2_b_level          14148 non-null  float64\n",
      " 73  secondary_cleaner.state.floatbank3_a_air            14145 non-null  float64\n",
      " 74  secondary_cleaner.state.floatbank3_a_level          14148 non-null  float64\n",
      " 75  secondary_cleaner.state.floatbank3_b_air            14148 non-null  float64\n",
      " 76  secondary_cleaner.state.floatbank3_b_level          14148 non-null  float64\n",
      " 77  secondary_cleaner.state.floatbank4_a_air            14143 non-null  float64\n",
      " 78  secondary_cleaner.state.floatbank4_a_level          14148 non-null  float64\n",
      " 79  secondary_cleaner.state.floatbank4_b_air            14148 non-null  float64\n",
      " 80  secondary_cleaner.state.floatbank4_b_level          14148 non-null  float64\n",
      " 81  secondary_cleaner.state.floatbank5_a_air            14148 non-null  float64\n",
      " 82  secondary_cleaner.state.floatbank5_a_level          14148 non-null  float64\n",
      " 83  secondary_cleaner.state.floatbank5_b_air            14148 non-null  float64\n",
      " 84  secondary_cleaner.state.floatbank5_b_level          14148 non-null  float64\n",
      " 85  secondary_cleaner.state.floatbank6_a_air            14147 non-null  float64\n",
      " 86  secondary_cleaner.state.floatbank6_a_level          14148 non-null  float64\n",
      "dtypes: float64(86), object(1)\n",
      "memory usage: 9.4+ MB\n"
     ]
    }
   ],
   "source": [
    "try:\n",
    "    df_train = pd.read_csv(\n",
    "        'C:\\\\Users\\\\gorbu\\\\OneDrive\\\\Документы\\\\DataScience\\\\Projects\\\\2 SubFinal\\\\gold_recovery_train_new.csv')\n",
    "except:\n",
    "    df_train = pd.read_csv('/datasets/gold_recovery_train_new.csv')\n",
    "df_train.info()"
   ]
  },
  {
   "cell_type": "code",
   "execution_count": 3,
   "metadata": {
    "scrolled": true
   },
   "outputs": [
    {
     "data": {
      "text/html": [
       "<div>\n",
       "<style scoped>\n",
       "    .dataframe tbody tr th:only-of-type {\n",
       "        vertical-align: middle;\n",
       "    }\n",
       "\n",
       "    .dataframe tbody tr th {\n",
       "        vertical-align: top;\n",
       "    }\n",
       "\n",
       "    .dataframe thead th {\n",
       "        text-align: right;\n",
       "    }\n",
       "</style>\n",
       "<table border=\"1\" class=\"dataframe\">\n",
       "  <thead>\n",
       "    <tr style=\"text-align: right;\">\n",
       "      <th></th>\n",
       "      <th>date</th>\n",
       "      <th>final.output.concentrate_ag</th>\n",
       "      <th>final.output.concentrate_pb</th>\n",
       "      <th>final.output.concentrate_sol</th>\n",
       "      <th>final.output.concentrate_au</th>\n",
       "      <th>final.output.recovery</th>\n",
       "      <th>final.output.tail_ag</th>\n",
       "      <th>final.output.tail_pb</th>\n",
       "      <th>final.output.tail_sol</th>\n",
       "      <th>final.output.tail_au</th>\n",
       "      <th>...</th>\n",
       "      <th>secondary_cleaner.state.floatbank4_a_air</th>\n",
       "      <th>secondary_cleaner.state.floatbank4_a_level</th>\n",
       "      <th>secondary_cleaner.state.floatbank4_b_air</th>\n",
       "      <th>secondary_cleaner.state.floatbank4_b_level</th>\n",
       "      <th>secondary_cleaner.state.floatbank5_a_air</th>\n",
       "      <th>secondary_cleaner.state.floatbank5_a_level</th>\n",
       "      <th>secondary_cleaner.state.floatbank5_b_air</th>\n",
       "      <th>secondary_cleaner.state.floatbank5_b_level</th>\n",
       "      <th>secondary_cleaner.state.floatbank6_a_air</th>\n",
       "      <th>secondary_cleaner.state.floatbank6_a_level</th>\n",
       "    </tr>\n",
       "  </thead>\n",
       "  <tbody>\n",
       "    <tr>\n",
       "      <th>0</th>\n",
       "      <td>2016-01-15 00:00:00</td>\n",
       "      <td>6.055403</td>\n",
       "      <td>9.889648</td>\n",
       "      <td>5.507324</td>\n",
       "      <td>42.192020</td>\n",
       "      <td>70.541216</td>\n",
       "      <td>10.411962</td>\n",
       "      <td>0.895447</td>\n",
       "      <td>16.904297</td>\n",
       "      <td>2.143149</td>\n",
       "      <td>...</td>\n",
       "      <td>14.016835</td>\n",
       "      <td>-502.488007</td>\n",
       "      <td>12.099931</td>\n",
       "      <td>-504.715942</td>\n",
       "      <td>9.925633</td>\n",
       "      <td>-498.310211</td>\n",
       "      <td>8.079666</td>\n",
       "      <td>-500.470978</td>\n",
       "      <td>14.151341</td>\n",
       "      <td>-605.841980</td>\n",
       "    </tr>\n",
       "    <tr>\n",
       "      <th>1</th>\n",
       "      <td>2016-01-15 01:00:00</td>\n",
       "      <td>6.029369</td>\n",
       "      <td>9.968944</td>\n",
       "      <td>5.257781</td>\n",
       "      <td>42.701629</td>\n",
       "      <td>69.266198</td>\n",
       "      <td>10.462676</td>\n",
       "      <td>0.927452</td>\n",
       "      <td>16.634514</td>\n",
       "      <td>2.224930</td>\n",
       "      <td>...</td>\n",
       "      <td>13.992281</td>\n",
       "      <td>-505.503262</td>\n",
       "      <td>11.950531</td>\n",
       "      <td>-501.331529</td>\n",
       "      <td>10.039245</td>\n",
       "      <td>-500.169983</td>\n",
       "      <td>7.984757</td>\n",
       "      <td>-500.582168</td>\n",
       "      <td>13.998353</td>\n",
       "      <td>-599.787184</td>\n",
       "    </tr>\n",
       "    <tr>\n",
       "      <th>2</th>\n",
       "      <td>2016-01-15 02:00:00</td>\n",
       "      <td>6.055926</td>\n",
       "      <td>10.213995</td>\n",
       "      <td>5.383759</td>\n",
       "      <td>42.657501</td>\n",
       "      <td>68.116445</td>\n",
       "      <td>10.507046</td>\n",
       "      <td>0.953716</td>\n",
       "      <td>16.208849</td>\n",
       "      <td>2.257889</td>\n",
       "      <td>...</td>\n",
       "      <td>14.015015</td>\n",
       "      <td>-502.520901</td>\n",
       "      <td>11.912783</td>\n",
       "      <td>-501.133383</td>\n",
       "      <td>10.070913</td>\n",
       "      <td>-500.129135</td>\n",
       "      <td>8.013877</td>\n",
       "      <td>-500.517572</td>\n",
       "      <td>14.028663</td>\n",
       "      <td>-601.427363</td>\n",
       "    </tr>\n",
       "    <tr>\n",
       "      <th>3</th>\n",
       "      <td>2016-01-15 03:00:00</td>\n",
       "      <td>6.047977</td>\n",
       "      <td>9.977019</td>\n",
       "      <td>4.858634</td>\n",
       "      <td>42.689819</td>\n",
       "      <td>68.347543</td>\n",
       "      <td>10.422762</td>\n",
       "      <td>0.883763</td>\n",
       "      <td>16.532835</td>\n",
       "      <td>2.146849</td>\n",
       "      <td>...</td>\n",
       "      <td>14.036510</td>\n",
       "      <td>-500.857308</td>\n",
       "      <td>11.999550</td>\n",
       "      <td>-501.193686</td>\n",
       "      <td>9.970366</td>\n",
       "      <td>-499.201640</td>\n",
       "      <td>7.977324</td>\n",
       "      <td>-500.255908</td>\n",
       "      <td>14.005551</td>\n",
       "      <td>-599.996129</td>\n",
       "    </tr>\n",
       "    <tr>\n",
       "      <th>4</th>\n",
       "      <td>2016-01-15 04:00:00</td>\n",
       "      <td>6.148599</td>\n",
       "      <td>10.142511</td>\n",
       "      <td>4.939416</td>\n",
       "      <td>42.774141</td>\n",
       "      <td>66.927016</td>\n",
       "      <td>10.360302</td>\n",
       "      <td>0.792826</td>\n",
       "      <td>16.525686</td>\n",
       "      <td>2.055292</td>\n",
       "      <td>...</td>\n",
       "      <td>14.027298</td>\n",
       "      <td>-499.838632</td>\n",
       "      <td>11.953070</td>\n",
       "      <td>-501.053894</td>\n",
       "      <td>9.925709</td>\n",
       "      <td>-501.686727</td>\n",
       "      <td>7.894242</td>\n",
       "      <td>-500.356035</td>\n",
       "      <td>13.996647</td>\n",
       "      <td>-601.496691</td>\n",
       "    </tr>\n",
       "  </tbody>\n",
       "</table>\n",
       "<p>5 rows × 87 columns</p>\n",
       "</div>"
      ],
      "text/plain": [
       "                  date  final.output.concentrate_ag  \\\n",
       "0  2016-01-15 00:00:00                     6.055403   \n",
       "1  2016-01-15 01:00:00                     6.029369   \n",
       "2  2016-01-15 02:00:00                     6.055926   \n",
       "3  2016-01-15 03:00:00                     6.047977   \n",
       "4  2016-01-15 04:00:00                     6.148599   \n",
       "\n",
       "   final.output.concentrate_pb  final.output.concentrate_sol  \\\n",
       "0                     9.889648                      5.507324   \n",
       "1                     9.968944                      5.257781   \n",
       "2                    10.213995                      5.383759   \n",
       "3                     9.977019                      4.858634   \n",
       "4                    10.142511                      4.939416   \n",
       "\n",
       "   final.output.concentrate_au  final.output.recovery  final.output.tail_ag  \\\n",
       "0                    42.192020              70.541216             10.411962   \n",
       "1                    42.701629              69.266198             10.462676   \n",
       "2                    42.657501              68.116445             10.507046   \n",
       "3                    42.689819              68.347543             10.422762   \n",
       "4                    42.774141              66.927016             10.360302   \n",
       "\n",
       "   final.output.tail_pb  final.output.tail_sol  final.output.tail_au  ...  \\\n",
       "0              0.895447              16.904297              2.143149  ...   \n",
       "1              0.927452              16.634514              2.224930  ...   \n",
       "2              0.953716              16.208849              2.257889  ...   \n",
       "3              0.883763              16.532835              2.146849  ...   \n",
       "4              0.792826              16.525686              2.055292  ...   \n",
       "\n",
       "   secondary_cleaner.state.floatbank4_a_air  \\\n",
       "0                                 14.016835   \n",
       "1                                 13.992281   \n",
       "2                                 14.015015   \n",
       "3                                 14.036510   \n",
       "4                                 14.027298   \n",
       "\n",
       "   secondary_cleaner.state.floatbank4_a_level  \\\n",
       "0                                 -502.488007   \n",
       "1                                 -505.503262   \n",
       "2                                 -502.520901   \n",
       "3                                 -500.857308   \n",
       "4                                 -499.838632   \n",
       "\n",
       "   secondary_cleaner.state.floatbank4_b_air  \\\n",
       "0                                 12.099931   \n",
       "1                                 11.950531   \n",
       "2                                 11.912783   \n",
       "3                                 11.999550   \n",
       "4                                 11.953070   \n",
       "\n",
       "   secondary_cleaner.state.floatbank4_b_level  \\\n",
       "0                                 -504.715942   \n",
       "1                                 -501.331529   \n",
       "2                                 -501.133383   \n",
       "3                                 -501.193686   \n",
       "4                                 -501.053894   \n",
       "\n",
       "   secondary_cleaner.state.floatbank5_a_air  \\\n",
       "0                                  9.925633   \n",
       "1                                 10.039245   \n",
       "2                                 10.070913   \n",
       "3                                  9.970366   \n",
       "4                                  9.925709   \n",
       "\n",
       "   secondary_cleaner.state.floatbank5_a_level  \\\n",
       "0                                 -498.310211   \n",
       "1                                 -500.169983   \n",
       "2                                 -500.129135   \n",
       "3                                 -499.201640   \n",
       "4                                 -501.686727   \n",
       "\n",
       "   secondary_cleaner.state.floatbank5_b_air  \\\n",
       "0                                  8.079666   \n",
       "1                                  7.984757   \n",
       "2                                  8.013877   \n",
       "3                                  7.977324   \n",
       "4                                  7.894242   \n",
       "\n",
       "   secondary_cleaner.state.floatbank5_b_level  \\\n",
       "0                                 -500.470978   \n",
       "1                                 -500.582168   \n",
       "2                                 -500.517572   \n",
       "3                                 -500.255908   \n",
       "4                                 -500.356035   \n",
       "\n",
       "   secondary_cleaner.state.floatbank6_a_air  \\\n",
       "0                                 14.151341   \n",
       "1                                 13.998353   \n",
       "2                                 14.028663   \n",
       "3                                 14.005551   \n",
       "4                                 13.996647   \n",
       "\n",
       "   secondary_cleaner.state.floatbank6_a_level  \n",
       "0                                 -605.841980  \n",
       "1                                 -599.787184  \n",
       "2                                 -601.427363  \n",
       "3                                 -599.996129  \n",
       "4                                 -601.496691  \n",
       "\n",
       "[5 rows x 87 columns]"
      ]
     },
     "execution_count": 3,
     "metadata": {},
     "output_type": "execute_result"
    }
   ],
   "source": [
    "df_train.head()"
   ]
  },
  {
   "cell_type": "code",
   "execution_count": 4,
   "metadata": {
    "scrolled": true
   },
   "outputs": [
    {
     "data": {
      "text/html": [
       "<div>\n",
       "<style scoped>\n",
       "    .dataframe tbody tr th:only-of-type {\n",
       "        vertical-align: middle;\n",
       "    }\n",
       "\n",
       "    .dataframe tbody tr th {\n",
       "        vertical-align: top;\n",
       "    }\n",
       "\n",
       "    .dataframe thead th {\n",
       "        text-align: right;\n",
       "    }\n",
       "</style>\n",
       "<table border=\"1\" class=\"dataframe\">\n",
       "  <thead>\n",
       "    <tr style=\"text-align: right;\">\n",
       "      <th></th>\n",
       "      <th>count</th>\n",
       "      <th>mean</th>\n",
       "      <th>std</th>\n",
       "      <th>min</th>\n",
       "      <th>25%</th>\n",
       "      <th>50%</th>\n",
       "      <th>75%</th>\n",
       "      <th>max</th>\n",
       "    </tr>\n",
       "  </thead>\n",
       "  <tbody>\n",
       "    <tr>\n",
       "      <th>final.output.concentrate_ag</th>\n",
       "      <td>14148.0</td>\n",
       "      <td>5.142034</td>\n",
       "      <td>1.369586</td>\n",
       "      <td>0.000000</td>\n",
       "      <td>4.211620</td>\n",
       "      <td>4.994652</td>\n",
       "      <td>5.859540</td>\n",
       "      <td>16.001945</td>\n",
       "    </tr>\n",
       "    <tr>\n",
       "      <th>final.output.concentrate_pb</th>\n",
       "      <td>14148.0</td>\n",
       "      <td>10.132960</td>\n",
       "      <td>1.654930</td>\n",
       "      <td>0.000000</td>\n",
       "      <td>9.297355</td>\n",
       "      <td>10.297144</td>\n",
       "      <td>11.170603</td>\n",
       "      <td>17.031899</td>\n",
       "    </tr>\n",
       "    <tr>\n",
       "      <th>final.output.concentrate_sol</th>\n",
       "      <td>13938.0</td>\n",
       "      <td>9.202849</td>\n",
       "      <td>2.790516</td>\n",
       "      <td>0.000000</td>\n",
       "      <td>7.484645</td>\n",
       "      <td>8.845462</td>\n",
       "      <td>10.487508</td>\n",
       "      <td>18.124851</td>\n",
       "    </tr>\n",
       "    <tr>\n",
       "      <th>final.output.concentrate_au</th>\n",
       "      <td>14149.0</td>\n",
       "      <td>44.003792</td>\n",
       "      <td>4.905261</td>\n",
       "      <td>0.000000</td>\n",
       "      <td>43.276111</td>\n",
       "      <td>44.872436</td>\n",
       "      <td>46.166425</td>\n",
       "      <td>52.756638</td>\n",
       "    </tr>\n",
       "    <tr>\n",
       "      <th>final.output.recovery</th>\n",
       "      <td>14149.0</td>\n",
       "      <td>66.518832</td>\n",
       "      <td>10.295402</td>\n",
       "      <td>0.000000</td>\n",
       "      <td>62.545817</td>\n",
       "      <td>67.432775</td>\n",
       "      <td>72.346428</td>\n",
       "      <td>100.000000</td>\n",
       "    </tr>\n",
       "    <tr>\n",
       "      <th>...</th>\n",
       "      <td>...</td>\n",
       "      <td>...</td>\n",
       "      <td>...</td>\n",
       "      <td>...</td>\n",
       "      <td>...</td>\n",
       "      <td>...</td>\n",
       "      <td>...</td>\n",
       "      <td>...</td>\n",
       "    </tr>\n",
       "    <tr>\n",
       "      <th>secondary_cleaner.state.floatbank5_a_level</th>\n",
       "      <td>14148.0</td>\n",
       "      <td>-483.956022</td>\n",
       "      <td>37.892788</td>\n",
       "      <td>-797.142475</td>\n",
       "      <td>-500.363177</td>\n",
       "      <td>-499.702452</td>\n",
       "      <td>-487.712108</td>\n",
       "      <td>-275.073125</td>\n",
       "    </tr>\n",
       "    <tr>\n",
       "      <th>secondary_cleaner.state.floatbank5_b_air</th>\n",
       "      <td>14148.0</td>\n",
       "      <td>13.064590</td>\n",
       "      <td>5.765617</td>\n",
       "      <td>0.646208</td>\n",
       "      <td>8.994405</td>\n",
       "      <td>11.997547</td>\n",
       "      <td>17.982903</td>\n",
       "      <td>27.926001</td>\n",
       "    </tr>\n",
       "    <tr>\n",
       "      <th>secondary_cleaner.state.floatbank5_b_level</th>\n",
       "      <td>14148.0</td>\n",
       "      <td>-483.966564</td>\n",
       "      <td>39.207913</td>\n",
       "      <td>-800.006180</td>\n",
       "      <td>-500.105994</td>\n",
       "      <td>-499.914556</td>\n",
       "      <td>-453.186936</td>\n",
       "      <td>-157.396071</td>\n",
       "    </tr>\n",
       "    <tr>\n",
       "      <th>secondary_cleaner.state.floatbank6_a_air</th>\n",
       "      <td>14147.0</td>\n",
       "      <td>19.577539</td>\n",
       "      <td>5.764417</td>\n",
       "      <td>0.195324</td>\n",
       "      <td>14.989304</td>\n",
       "      <td>19.984175</td>\n",
       "      <td>24.991623</td>\n",
       "      <td>32.188906</td>\n",
       "    </tr>\n",
       "    <tr>\n",
       "      <th>secondary_cleaner.state.floatbank6_a_level</th>\n",
       "      <td>14148.0</td>\n",
       "      <td>-506.798480</td>\n",
       "      <td>37.079249</td>\n",
       "      <td>-809.398668</td>\n",
       "      <td>-500.745104</td>\n",
       "      <td>-500.061431</td>\n",
       "      <td>-499.536466</td>\n",
       "      <td>-104.427459</td>\n",
       "    </tr>\n",
       "  </tbody>\n",
       "</table>\n",
       "<p>86 rows × 8 columns</p>\n",
       "</div>"
      ],
      "text/plain": [
       "                                              count        mean        std  \\\n",
       "final.output.concentrate_ag                 14148.0    5.142034   1.369586   \n",
       "final.output.concentrate_pb                 14148.0   10.132960   1.654930   \n",
       "final.output.concentrate_sol                13938.0    9.202849   2.790516   \n",
       "final.output.concentrate_au                 14149.0   44.003792   4.905261   \n",
       "final.output.recovery                       14149.0   66.518832  10.295402   \n",
       "...                                             ...         ...        ...   \n",
       "secondary_cleaner.state.floatbank5_a_level  14148.0 -483.956022  37.892788   \n",
       "secondary_cleaner.state.floatbank5_b_air    14148.0   13.064590   5.765617   \n",
       "secondary_cleaner.state.floatbank5_b_level  14148.0 -483.966564  39.207913   \n",
       "secondary_cleaner.state.floatbank6_a_air    14147.0   19.577539   5.764417   \n",
       "secondary_cleaner.state.floatbank6_a_level  14148.0 -506.798480  37.079249   \n",
       "\n",
       "                                                   min         25%  \\\n",
       "final.output.concentrate_ag                   0.000000    4.211620   \n",
       "final.output.concentrate_pb                   0.000000    9.297355   \n",
       "final.output.concentrate_sol                  0.000000    7.484645   \n",
       "final.output.concentrate_au                   0.000000   43.276111   \n",
       "final.output.recovery                         0.000000   62.545817   \n",
       "...                                                ...         ...   \n",
       "secondary_cleaner.state.floatbank5_a_level -797.142475 -500.363177   \n",
       "secondary_cleaner.state.floatbank5_b_air      0.646208    8.994405   \n",
       "secondary_cleaner.state.floatbank5_b_level -800.006180 -500.105994   \n",
       "secondary_cleaner.state.floatbank6_a_air      0.195324   14.989304   \n",
       "secondary_cleaner.state.floatbank6_a_level -809.398668 -500.745104   \n",
       "\n",
       "                                                   50%         75%         max  \n",
       "final.output.concentrate_ag                   4.994652    5.859540   16.001945  \n",
       "final.output.concentrate_pb                  10.297144   11.170603   17.031899  \n",
       "final.output.concentrate_sol                  8.845462   10.487508   18.124851  \n",
       "final.output.concentrate_au                  44.872436   46.166425   52.756638  \n",
       "final.output.recovery                        67.432775   72.346428  100.000000  \n",
       "...                                                ...         ...         ...  \n",
       "secondary_cleaner.state.floatbank5_a_level -499.702452 -487.712108 -275.073125  \n",
       "secondary_cleaner.state.floatbank5_b_air     11.997547   17.982903   27.926001  \n",
       "secondary_cleaner.state.floatbank5_b_level -499.914556 -453.186936 -157.396071  \n",
       "secondary_cleaner.state.floatbank6_a_air     19.984175   24.991623   32.188906  \n",
       "secondary_cleaner.state.floatbank6_a_level -500.061431 -499.536466 -104.427459  \n",
       "\n",
       "[86 rows x 8 columns]"
      ]
     },
     "execution_count": 4,
     "metadata": {},
     "output_type": "execute_result"
    }
   ],
   "source": [
    "df_train.describe().T"
   ]
  },
  {
   "cell_type": "markdown",
   "metadata": {},
   "source": [
    "#### Тестовая выборка"
   ]
  },
  {
   "cell_type": "code",
   "execution_count": 5,
   "metadata": {
    "scrolled": true
   },
   "outputs": [
    {
     "name": "stdout",
     "output_type": "stream",
     "text": [
      "<class 'pandas.core.frame.DataFrame'>\n",
      "RangeIndex: 5290 entries, 0 to 5289\n",
      "Data columns (total 53 columns):\n",
      " #   Column                                      Non-Null Count  Dtype  \n",
      "---  ------                                      --------------  -----  \n",
      " 0   date                                        5290 non-null   object \n",
      " 1   primary_cleaner.input.sulfate               5286 non-null   float64\n",
      " 2   primary_cleaner.input.depressant            5285 non-null   float64\n",
      " 3   primary_cleaner.input.feed_size             5290 non-null   float64\n",
      " 4   primary_cleaner.input.xanthate              5286 non-null   float64\n",
      " 5   primary_cleaner.state.floatbank8_a_air      5290 non-null   float64\n",
      " 6   primary_cleaner.state.floatbank8_a_level    5290 non-null   float64\n",
      " 7   primary_cleaner.state.floatbank8_b_air      5290 non-null   float64\n",
      " 8   primary_cleaner.state.floatbank8_b_level    5290 non-null   float64\n",
      " 9   primary_cleaner.state.floatbank8_c_air      5290 non-null   float64\n",
      " 10  primary_cleaner.state.floatbank8_c_level    5290 non-null   float64\n",
      " 11  primary_cleaner.state.floatbank8_d_air      5290 non-null   float64\n",
      " 12  primary_cleaner.state.floatbank8_d_level    5290 non-null   float64\n",
      " 13  rougher.input.feed_ag                       5290 non-null   float64\n",
      " 14  rougher.input.feed_pb                       5290 non-null   float64\n",
      " 15  rougher.input.feed_rate                     5287 non-null   float64\n",
      " 16  rougher.input.feed_size                     5289 non-null   float64\n",
      " 17  rougher.input.feed_sol                      5269 non-null   float64\n",
      " 18  rougher.input.feed_au                       5290 non-null   float64\n",
      " 19  rougher.input.floatbank10_sulfate           5285 non-null   float64\n",
      " 20  rougher.input.floatbank10_xanthate          5290 non-null   float64\n",
      " 21  rougher.input.floatbank11_sulfate           5282 non-null   float64\n",
      " 22  rougher.input.floatbank11_xanthate          5265 non-null   float64\n",
      " 23  rougher.state.floatbank10_a_air             5290 non-null   float64\n",
      " 24  rougher.state.floatbank10_a_level           5290 non-null   float64\n",
      " 25  rougher.state.floatbank10_b_air             5290 non-null   float64\n",
      " 26  rougher.state.floatbank10_b_level           5290 non-null   float64\n",
      " 27  rougher.state.floatbank10_c_air             5290 non-null   float64\n",
      " 28  rougher.state.floatbank10_c_level           5290 non-null   float64\n",
      " 29  rougher.state.floatbank10_d_air             5290 non-null   float64\n",
      " 30  rougher.state.floatbank10_d_level           5290 non-null   float64\n",
      " 31  rougher.state.floatbank10_e_air             5290 non-null   float64\n",
      " 32  rougher.state.floatbank10_e_level           5290 non-null   float64\n",
      " 33  rougher.state.floatbank10_f_air             5290 non-null   float64\n",
      " 34  rougher.state.floatbank10_f_level           5290 non-null   float64\n",
      " 35  secondary_cleaner.state.floatbank2_a_air    5287 non-null   float64\n",
      " 36  secondary_cleaner.state.floatbank2_a_level  5290 non-null   float64\n",
      " 37  secondary_cleaner.state.floatbank2_b_air    5288 non-null   float64\n",
      " 38  secondary_cleaner.state.floatbank2_b_level  5290 non-null   float64\n",
      " 39  secondary_cleaner.state.floatbank3_a_air    5281 non-null   float64\n",
      " 40  secondary_cleaner.state.floatbank3_a_level  5290 non-null   float64\n",
      " 41  secondary_cleaner.state.floatbank3_b_air    5290 non-null   float64\n",
      " 42  secondary_cleaner.state.floatbank3_b_level  5290 non-null   float64\n",
      " 43  secondary_cleaner.state.floatbank4_a_air    5290 non-null   float64\n",
      " 44  secondary_cleaner.state.floatbank4_a_level  5290 non-null   float64\n",
      " 45  secondary_cleaner.state.floatbank4_b_air    5290 non-null   float64\n",
      " 46  secondary_cleaner.state.floatbank4_b_level  5290 non-null   float64\n",
      " 47  secondary_cleaner.state.floatbank5_a_air    5290 non-null   float64\n",
      " 48  secondary_cleaner.state.floatbank5_a_level  5290 non-null   float64\n",
      " 49  secondary_cleaner.state.floatbank5_b_air    5290 non-null   float64\n",
      " 50  secondary_cleaner.state.floatbank5_b_level  5290 non-null   float64\n",
      " 51  secondary_cleaner.state.floatbank6_a_air    5290 non-null   float64\n",
      " 52  secondary_cleaner.state.floatbank6_a_level  5290 non-null   float64\n",
      "dtypes: float64(52), object(1)\n",
      "memory usage: 2.1+ MB\n"
     ]
    }
   ],
   "source": [
    "try:\n",
    "    df_test = pd.read_csv(\n",
    "        'C:\\\\Users\\\\gorbu\\\\OneDrive\\\\Документы\\\\DataScience\\\\Projects\\\\2 SubFinal\\\\gold_recovery_test_new.csv')\n",
    "except:\n",
    "    df_test = pd.read_csv('/datasets/gold_recovery_test_new.csv')\n",
    "df_test.info()"
   ]
  },
  {
   "cell_type": "code",
   "execution_count": 6,
   "metadata": {
    "scrolled": false
   },
   "outputs": [
    {
     "data": {
      "text/html": [
       "<div>\n",
       "<style scoped>\n",
       "    .dataframe tbody tr th:only-of-type {\n",
       "        vertical-align: middle;\n",
       "    }\n",
       "\n",
       "    .dataframe tbody tr th {\n",
       "        vertical-align: top;\n",
       "    }\n",
       "\n",
       "    .dataframe thead th {\n",
       "        text-align: right;\n",
       "    }\n",
       "</style>\n",
       "<table border=\"1\" class=\"dataframe\">\n",
       "  <thead>\n",
       "    <tr style=\"text-align: right;\">\n",
       "      <th></th>\n",
       "      <th>date</th>\n",
       "      <th>primary_cleaner.input.sulfate</th>\n",
       "      <th>primary_cleaner.input.depressant</th>\n",
       "      <th>primary_cleaner.input.feed_size</th>\n",
       "      <th>primary_cleaner.input.xanthate</th>\n",
       "      <th>primary_cleaner.state.floatbank8_a_air</th>\n",
       "      <th>primary_cleaner.state.floatbank8_a_level</th>\n",
       "      <th>primary_cleaner.state.floatbank8_b_air</th>\n",
       "      <th>primary_cleaner.state.floatbank8_b_level</th>\n",
       "      <th>primary_cleaner.state.floatbank8_c_air</th>\n",
       "      <th>...</th>\n",
       "      <th>secondary_cleaner.state.floatbank4_a_air</th>\n",
       "      <th>secondary_cleaner.state.floatbank4_a_level</th>\n",
       "      <th>secondary_cleaner.state.floatbank4_b_air</th>\n",
       "      <th>secondary_cleaner.state.floatbank4_b_level</th>\n",
       "      <th>secondary_cleaner.state.floatbank5_a_air</th>\n",
       "      <th>secondary_cleaner.state.floatbank5_a_level</th>\n",
       "      <th>secondary_cleaner.state.floatbank5_b_air</th>\n",
       "      <th>secondary_cleaner.state.floatbank5_b_level</th>\n",
       "      <th>secondary_cleaner.state.floatbank6_a_air</th>\n",
       "      <th>secondary_cleaner.state.floatbank6_a_level</th>\n",
       "    </tr>\n",
       "  </thead>\n",
       "  <tbody>\n",
       "    <tr>\n",
       "      <th>0</th>\n",
       "      <td>2016-09-01 00:59:59</td>\n",
       "      <td>210.800909</td>\n",
       "      <td>14.993118</td>\n",
       "      <td>8.080000</td>\n",
       "      <td>1.005021</td>\n",
       "      <td>1398.981301</td>\n",
       "      <td>-500.225577</td>\n",
       "      <td>1399.144926</td>\n",
       "      <td>-499.919735</td>\n",
       "      <td>1400.102998</td>\n",
       "      <td>...</td>\n",
       "      <td>12.023554</td>\n",
       "      <td>-497.795834</td>\n",
       "      <td>8.016656</td>\n",
       "      <td>-501.289139</td>\n",
       "      <td>7.946562</td>\n",
       "      <td>-432.317850</td>\n",
       "      <td>4.872511</td>\n",
       "      <td>-500.037437</td>\n",
       "      <td>26.705889</td>\n",
       "      <td>-499.709414</td>\n",
       "    </tr>\n",
       "    <tr>\n",
       "      <th>1</th>\n",
       "      <td>2016-09-01 01:59:59</td>\n",
       "      <td>215.392455</td>\n",
       "      <td>14.987471</td>\n",
       "      <td>8.080000</td>\n",
       "      <td>0.990469</td>\n",
       "      <td>1398.777912</td>\n",
       "      <td>-500.057435</td>\n",
       "      <td>1398.055362</td>\n",
       "      <td>-499.778182</td>\n",
       "      <td>1396.151033</td>\n",
       "      <td>...</td>\n",
       "      <td>12.058140</td>\n",
       "      <td>-498.695773</td>\n",
       "      <td>8.130979</td>\n",
       "      <td>-499.634209</td>\n",
       "      <td>7.958270</td>\n",
       "      <td>-525.839648</td>\n",
       "      <td>4.878850</td>\n",
       "      <td>-500.162375</td>\n",
       "      <td>25.019940</td>\n",
       "      <td>-499.819438</td>\n",
       "    </tr>\n",
       "    <tr>\n",
       "      <th>2</th>\n",
       "      <td>2016-09-01 02:59:59</td>\n",
       "      <td>215.259946</td>\n",
       "      <td>12.884934</td>\n",
       "      <td>7.786667</td>\n",
       "      <td>0.996043</td>\n",
       "      <td>1398.493666</td>\n",
       "      <td>-500.868360</td>\n",
       "      <td>1398.860436</td>\n",
       "      <td>-499.764529</td>\n",
       "      <td>1398.075709</td>\n",
       "      <td>...</td>\n",
       "      <td>11.962366</td>\n",
       "      <td>-498.767484</td>\n",
       "      <td>8.096893</td>\n",
       "      <td>-500.827423</td>\n",
       "      <td>8.071056</td>\n",
       "      <td>-500.801673</td>\n",
       "      <td>4.905125</td>\n",
       "      <td>-499.828510</td>\n",
       "      <td>24.994862</td>\n",
       "      <td>-500.622559</td>\n",
       "    </tr>\n",
       "    <tr>\n",
       "      <th>3</th>\n",
       "      <td>2016-09-01 03:59:59</td>\n",
       "      <td>215.336236</td>\n",
       "      <td>12.006805</td>\n",
       "      <td>7.640000</td>\n",
       "      <td>0.863514</td>\n",
       "      <td>1399.618111</td>\n",
       "      <td>-498.863574</td>\n",
       "      <td>1397.440120</td>\n",
       "      <td>-499.211024</td>\n",
       "      <td>1400.129303</td>\n",
       "      <td>...</td>\n",
       "      <td>12.033091</td>\n",
       "      <td>-498.350935</td>\n",
       "      <td>8.074946</td>\n",
       "      <td>-499.474407</td>\n",
       "      <td>7.897085</td>\n",
       "      <td>-500.868509</td>\n",
       "      <td>4.931400</td>\n",
       "      <td>-499.963623</td>\n",
       "      <td>24.948919</td>\n",
       "      <td>-498.709987</td>\n",
       "    </tr>\n",
       "    <tr>\n",
       "      <th>4</th>\n",
       "      <td>2016-09-01 04:59:59</td>\n",
       "      <td>199.099327</td>\n",
       "      <td>10.682530</td>\n",
       "      <td>7.530000</td>\n",
       "      <td>0.805575</td>\n",
       "      <td>1401.268123</td>\n",
       "      <td>-500.808305</td>\n",
       "      <td>1398.128818</td>\n",
       "      <td>-499.504543</td>\n",
       "      <td>1402.172226</td>\n",
       "      <td>...</td>\n",
       "      <td>12.025367</td>\n",
       "      <td>-500.786497</td>\n",
       "      <td>8.054678</td>\n",
       "      <td>-500.397500</td>\n",
       "      <td>8.107890</td>\n",
       "      <td>-509.526725</td>\n",
       "      <td>4.957674</td>\n",
       "      <td>-500.360026</td>\n",
       "      <td>25.003331</td>\n",
       "      <td>-500.856333</td>\n",
       "    </tr>\n",
       "  </tbody>\n",
       "</table>\n",
       "<p>5 rows × 53 columns</p>\n",
       "</div>"
      ],
      "text/plain": [
       "                  date  primary_cleaner.input.sulfate  \\\n",
       "0  2016-09-01 00:59:59                     210.800909   \n",
       "1  2016-09-01 01:59:59                     215.392455   \n",
       "2  2016-09-01 02:59:59                     215.259946   \n",
       "3  2016-09-01 03:59:59                     215.336236   \n",
       "4  2016-09-01 04:59:59                     199.099327   \n",
       "\n",
       "   primary_cleaner.input.depressant  primary_cleaner.input.feed_size  \\\n",
       "0                         14.993118                         8.080000   \n",
       "1                         14.987471                         8.080000   \n",
       "2                         12.884934                         7.786667   \n",
       "3                         12.006805                         7.640000   \n",
       "4                         10.682530                         7.530000   \n",
       "\n",
       "   primary_cleaner.input.xanthate  primary_cleaner.state.floatbank8_a_air  \\\n",
       "0                        1.005021                             1398.981301   \n",
       "1                        0.990469                             1398.777912   \n",
       "2                        0.996043                             1398.493666   \n",
       "3                        0.863514                             1399.618111   \n",
       "4                        0.805575                             1401.268123   \n",
       "\n",
       "   primary_cleaner.state.floatbank8_a_level  \\\n",
       "0                               -500.225577   \n",
       "1                               -500.057435   \n",
       "2                               -500.868360   \n",
       "3                               -498.863574   \n",
       "4                               -500.808305   \n",
       "\n",
       "   primary_cleaner.state.floatbank8_b_air  \\\n",
       "0                             1399.144926   \n",
       "1                             1398.055362   \n",
       "2                             1398.860436   \n",
       "3                             1397.440120   \n",
       "4                             1398.128818   \n",
       "\n",
       "   primary_cleaner.state.floatbank8_b_level  \\\n",
       "0                               -499.919735   \n",
       "1                               -499.778182   \n",
       "2                               -499.764529   \n",
       "3                               -499.211024   \n",
       "4                               -499.504543   \n",
       "\n",
       "   primary_cleaner.state.floatbank8_c_air  ...  \\\n",
       "0                             1400.102998  ...   \n",
       "1                             1396.151033  ...   \n",
       "2                             1398.075709  ...   \n",
       "3                             1400.129303  ...   \n",
       "4                             1402.172226  ...   \n",
       "\n",
       "   secondary_cleaner.state.floatbank4_a_air  \\\n",
       "0                                 12.023554   \n",
       "1                                 12.058140   \n",
       "2                                 11.962366   \n",
       "3                                 12.033091   \n",
       "4                                 12.025367   \n",
       "\n",
       "   secondary_cleaner.state.floatbank4_a_level  \\\n",
       "0                                 -497.795834   \n",
       "1                                 -498.695773   \n",
       "2                                 -498.767484   \n",
       "3                                 -498.350935   \n",
       "4                                 -500.786497   \n",
       "\n",
       "   secondary_cleaner.state.floatbank4_b_air  \\\n",
       "0                                  8.016656   \n",
       "1                                  8.130979   \n",
       "2                                  8.096893   \n",
       "3                                  8.074946   \n",
       "4                                  8.054678   \n",
       "\n",
       "   secondary_cleaner.state.floatbank4_b_level  \\\n",
       "0                                 -501.289139   \n",
       "1                                 -499.634209   \n",
       "2                                 -500.827423   \n",
       "3                                 -499.474407   \n",
       "4                                 -500.397500   \n",
       "\n",
       "   secondary_cleaner.state.floatbank5_a_air  \\\n",
       "0                                  7.946562   \n",
       "1                                  7.958270   \n",
       "2                                  8.071056   \n",
       "3                                  7.897085   \n",
       "4                                  8.107890   \n",
       "\n",
       "   secondary_cleaner.state.floatbank5_a_level  \\\n",
       "0                                 -432.317850   \n",
       "1                                 -525.839648   \n",
       "2                                 -500.801673   \n",
       "3                                 -500.868509   \n",
       "4                                 -509.526725   \n",
       "\n",
       "   secondary_cleaner.state.floatbank5_b_air  \\\n",
       "0                                  4.872511   \n",
       "1                                  4.878850   \n",
       "2                                  4.905125   \n",
       "3                                  4.931400   \n",
       "4                                  4.957674   \n",
       "\n",
       "   secondary_cleaner.state.floatbank5_b_level  \\\n",
       "0                                 -500.037437   \n",
       "1                                 -500.162375   \n",
       "2                                 -499.828510   \n",
       "3                                 -499.963623   \n",
       "4                                 -500.360026   \n",
       "\n",
       "   secondary_cleaner.state.floatbank6_a_air  \\\n",
       "0                                 26.705889   \n",
       "1                                 25.019940   \n",
       "2                                 24.994862   \n",
       "3                                 24.948919   \n",
       "4                                 25.003331   \n",
       "\n",
       "   secondary_cleaner.state.floatbank6_a_level  \n",
       "0                                 -499.709414  \n",
       "1                                 -499.819438  \n",
       "2                                 -500.622559  \n",
       "3                                 -498.709987  \n",
       "4                                 -500.856333  \n",
       "\n",
       "[5 rows x 53 columns]"
      ]
     },
     "execution_count": 6,
     "metadata": {},
     "output_type": "execute_result"
    }
   ],
   "source": [
    "df_test.head()"
   ]
  },
  {
   "cell_type": "code",
   "execution_count": 7,
   "metadata": {
    "scrolled": true
   },
   "outputs": [
    {
     "data": {
      "text/html": [
       "<div>\n",
       "<style scoped>\n",
       "    .dataframe tbody tr th:only-of-type {\n",
       "        vertical-align: middle;\n",
       "    }\n",
       "\n",
       "    .dataframe tbody tr th {\n",
       "        vertical-align: top;\n",
       "    }\n",
       "\n",
       "    .dataframe thead th {\n",
       "        text-align: right;\n",
       "    }\n",
       "</style>\n",
       "<table border=\"1\" class=\"dataframe\">\n",
       "  <thead>\n",
       "    <tr style=\"text-align: right;\">\n",
       "      <th></th>\n",
       "      <th>count</th>\n",
       "      <th>mean</th>\n",
       "      <th>std</th>\n",
       "      <th>min</th>\n",
       "      <th>25%</th>\n",
       "      <th>50%</th>\n",
       "      <th>75%</th>\n",
       "      <th>max</th>\n",
       "    </tr>\n",
       "  </thead>\n",
       "  <tbody>\n",
       "    <tr>\n",
       "      <th>primary_cleaner.input.sulfate</th>\n",
       "      <td>5286.0</td>\n",
       "      <td>174.839652</td>\n",
       "      <td>43.027080</td>\n",
       "      <td>2.566156e+00</td>\n",
       "      <td>147.121401</td>\n",
       "      <td>177.828489</td>\n",
       "      <td>208.125438</td>\n",
       "      <td>265.983123</td>\n",
       "    </tr>\n",
       "    <tr>\n",
       "      <th>primary_cleaner.input.depressant</th>\n",
       "      <td>5285.0</td>\n",
       "      <td>8.683596</td>\n",
       "      <td>3.072050</td>\n",
       "      <td>3.839482e-03</td>\n",
       "      <td>6.489555</td>\n",
       "      <td>8.052207</td>\n",
       "      <td>10.027764</td>\n",
       "      <td>40.000000</td>\n",
       "    </tr>\n",
       "    <tr>\n",
       "      <th>primary_cleaner.input.feed_size</th>\n",
       "      <td>5290.0</td>\n",
       "      <td>7.266339</td>\n",
       "      <td>0.610219</td>\n",
       "      <td>5.650000e+00</td>\n",
       "      <td>6.890000</td>\n",
       "      <td>7.250000</td>\n",
       "      <td>7.600000</td>\n",
       "      <td>15.500000</td>\n",
       "    </tr>\n",
       "    <tr>\n",
       "      <th>primary_cleaner.input.xanthate</th>\n",
       "      <td>5286.0</td>\n",
       "      <td>1.383803</td>\n",
       "      <td>0.643474</td>\n",
       "      <td>4.983673e-03</td>\n",
       "      <td>0.907623</td>\n",
       "      <td>1.197610</td>\n",
       "      <td>1.797819</td>\n",
       "      <td>4.102454</td>\n",
       "    </tr>\n",
       "    <tr>\n",
       "      <th>primary_cleaner.state.floatbank8_a_air</th>\n",
       "      <td>5290.0</td>\n",
       "      <td>1539.494325</td>\n",
       "      <td>116.797884</td>\n",
       "      <td>5.445860e-32</td>\n",
       "      <td>1498.935802</td>\n",
       "      <td>1585.129123</td>\n",
       "      <td>1602.076529</td>\n",
       "      <td>2103.103580</td>\n",
       "    </tr>\n",
       "    <tr>\n",
       "      <th>primary_cleaner.state.floatbank8_a_level</th>\n",
       "      <td>5290.0</td>\n",
       "      <td>-497.665883</td>\n",
       "      <td>19.952431</td>\n",
       "      <td>-7.953163e+02</td>\n",
       "      <td>-500.357298</td>\n",
       "      <td>-499.969164</td>\n",
       "      <td>-499.568951</td>\n",
       "      <td>-57.195404</td>\n",
       "    </tr>\n",
       "    <tr>\n",
       "      <th>primary_cleaner.state.floatbank8_b_air</th>\n",
       "      <td>5290.0</td>\n",
       "      <td>1545.174232</td>\n",
       "      <td>122.224588</td>\n",
       "      <td>6.647490e-32</td>\n",
       "      <td>1498.970993</td>\n",
       "      <td>1595.621798</td>\n",
       "      <td>1602.323545</td>\n",
       "      <td>1813.083671</td>\n",
       "    </tr>\n",
       "    <tr>\n",
       "      <th>primary_cleaner.state.floatbank8_b_level</th>\n",
       "      <td>5290.0</td>\n",
       "      <td>-500.273098</td>\n",
       "      <td>32.968307</td>\n",
       "      <td>-7.999970e+02</td>\n",
       "      <td>-500.703002</td>\n",
       "      <td>-500.028514</td>\n",
       "      <td>-499.293257</td>\n",
       "      <td>-142.527229</td>\n",
       "    </tr>\n",
       "    <tr>\n",
       "      <th>primary_cleaner.state.floatbank8_c_air</th>\n",
       "      <td>5290.0</td>\n",
       "      <td>1527.272362</td>\n",
       "      <td>122.538034</td>\n",
       "      <td>4.033736e-32</td>\n",
       "      <td>1473.229862</td>\n",
       "      <td>1549.594682</td>\n",
       "      <td>1601.143775</td>\n",
       "      <td>1715.053773</td>\n",
       "    </tr>\n",
       "    <tr>\n",
       "      <th>primary_cleaner.state.floatbank8_c_level</th>\n",
       "      <td>5290.0</td>\n",
       "      <td>-498.330680</td>\n",
       "      <td>21.964876</td>\n",
       "      <td>-7.999606e+02</td>\n",
       "      <td>-501.018117</td>\n",
       "      <td>-500.017711</td>\n",
       "      <td>-498.994130</td>\n",
       "      <td>-150.937035</td>\n",
       "    </tr>\n",
       "    <tr>\n",
       "      <th>primary_cleaner.state.floatbank8_d_air</th>\n",
       "      <td>5290.0</td>\n",
       "      <td>1544.844335</td>\n",
       "      <td>124.773081</td>\n",
       "      <td>4.039220e-32</td>\n",
       "      <td>1499.481404</td>\n",
       "      <td>1594.579112</td>\n",
       "      <td>1600.964772</td>\n",
       "      <td>1913.256561</td>\n",
       "    </tr>\n",
       "    <tr>\n",
       "      <th>primary_cleaner.state.floatbank8_d_level</th>\n",
       "      <td>5290.0</td>\n",
       "      <td>-500.199527</td>\n",
       "      <td>31.045257</td>\n",
       "      <td>-7.997943e+02</td>\n",
       "      <td>-500.452469</td>\n",
       "      <td>-500.023307</td>\n",
       "      <td>-499.607040</td>\n",
       "      <td>-158.950573</td>\n",
       "    </tr>\n",
       "    <tr>\n",
       "      <th>rougher.input.feed_ag</th>\n",
       "      <td>5290.0</td>\n",
       "      <td>9.371940</td>\n",
       "      <td>1.926264</td>\n",
       "      <td>5.684412e-01</td>\n",
       "      <td>8.112434</td>\n",
       "      <td>9.762654</td>\n",
       "      <td>10.652297</td>\n",
       "      <td>14.406130</td>\n",
       "    </tr>\n",
       "    <tr>\n",
       "      <th>rougher.input.feed_pb</th>\n",
       "      <td>5290.0</td>\n",
       "      <td>3.798082</td>\n",
       "      <td>0.954859</td>\n",
       "      <td>2.736769e-01</td>\n",
       "      <td>3.240251</td>\n",
       "      <td>3.740716</td>\n",
       "      <td>4.282634</td>\n",
       "      <td>6.905684</td>\n",
       "    </tr>\n",
       "    <tr>\n",
       "      <th>rougher.input.feed_rate</th>\n",
       "      <td>5287.0</td>\n",
       "      <td>489.800620</td>\n",
       "      <td>108.036326</td>\n",
       "      <td>2.985849e-03</td>\n",
       "      <td>407.020883</td>\n",
       "      <td>499.051440</td>\n",
       "      <td>575.307213</td>\n",
       "      <td>707.364020</td>\n",
       "    </tr>\n",
       "    <tr>\n",
       "      <th>rougher.input.feed_size</th>\n",
       "      <td>5289.0</td>\n",
       "      <td>55.951097</td>\n",
       "      <td>19.081758</td>\n",
       "      <td>4.636880e-02</td>\n",
       "      <td>43.906347</td>\n",
       "      <td>50.841029</td>\n",
       "      <td>62.431047</td>\n",
       "      <td>392.494040</td>\n",
       "    </tr>\n",
       "    <tr>\n",
       "      <th>rougher.input.feed_sol</th>\n",
       "      <td>5269.0</td>\n",
       "      <td>37.716648</td>\n",
       "      <td>5.491415</td>\n",
       "      <td>1.393488e+00</td>\n",
       "      <td>34.505576</td>\n",
       "      <td>37.980276</td>\n",
       "      <td>41.635385</td>\n",
       "      <td>53.477742</td>\n",
       "    </tr>\n",
       "    <tr>\n",
       "      <th>rougher.input.feed_au</th>\n",
       "      <td>5290.0</td>\n",
       "      <td>9.334682</td>\n",
       "      <td>1.619521</td>\n",
       "      <td>5.686322e-01</td>\n",
       "      <td>8.207814</td>\n",
       "      <td>9.593766</td>\n",
       "      <td>10.463538</td>\n",
       "      <td>13.731330</td>\n",
       "    </tr>\n",
       "    <tr>\n",
       "      <th>rougher.input.floatbank10_sulfate</th>\n",
       "      <td>5285.0</td>\n",
       "      <td>13.855759</td>\n",
       "      <td>3.350852</td>\n",
       "      <td>1.147460e-03</td>\n",
       "      <td>11.995006</td>\n",
       "      <td>14.003126</td>\n",
       "      <td>16.974284</td>\n",
       "      <td>24.280636</td>\n",
       "    </tr>\n",
       "    <tr>\n",
       "      <th>rougher.input.floatbank10_xanthate</th>\n",
       "      <td>5290.0</td>\n",
       "      <td>6.467745</td>\n",
       "      <td>1.065114</td>\n",
       "      <td>5.682328e-04</td>\n",
       "      <td>5.998779</td>\n",
       "      <td>6.498181</td>\n",
       "      <td>7.085457</td>\n",
       "      <td>8.910468</td>\n",
       "    </tr>\n",
       "    <tr>\n",
       "      <th>rougher.input.floatbank11_sulfate</th>\n",
       "      <td>5282.0</td>\n",
       "      <td>13.922328</td>\n",
       "      <td>3.223769</td>\n",
       "      <td>7.673764e-05</td>\n",
       "      <td>11.997200</td>\n",
       "      <td>14.004371</td>\n",
       "      <td>16.959671</td>\n",
       "      <td>24.280966</td>\n",
       "    </tr>\n",
       "    <tr>\n",
       "      <th>rougher.input.floatbank11_xanthate</th>\n",
       "      <td>5265.0</td>\n",
       "      <td>6.512103</td>\n",
       "      <td>0.886989</td>\n",
       "      <td>6.985269e-03</td>\n",
       "      <td>5.999157</td>\n",
       "      <td>6.498744</td>\n",
       "      <td>7.091808</td>\n",
       "      <td>8.621338</td>\n",
       "    </tr>\n",
       "    <tr>\n",
       "      <th>rougher.state.floatbank10_a_air</th>\n",
       "      <td>5290.0</td>\n",
       "      <td>1053.400166</td>\n",
       "      <td>121.139309</td>\n",
       "      <td>-4.206929e-02</td>\n",
       "      <td>999.205344</td>\n",
       "      <td>1000.472055</td>\n",
       "      <td>1006.254299</td>\n",
       "      <td>1423.274687</td>\n",
       "    </tr>\n",
       "    <tr>\n",
       "      <th>rougher.state.floatbank10_a_level</th>\n",
       "      <td>5290.0</td>\n",
       "      <td>-395.732530</td>\n",
       "      <td>91.085505</td>\n",
       "      <td>-6.579498e+02</td>\n",
       "      <td>-499.920565</td>\n",
       "      <td>-399.693363</td>\n",
       "      <td>-300.060056</td>\n",
       "      <td>-273.776101</td>\n",
       "    </tr>\n",
       "    <tr>\n",
       "      <th>rougher.state.floatbank10_b_air</th>\n",
       "      <td>5290.0</td>\n",
       "      <td>1318.926879</td>\n",
       "      <td>156.450366</td>\n",
       "      <td>-7.218064e-01</td>\n",
       "      <td>1200.871883</td>\n",
       "      <td>1302.254995</td>\n",
       "      <td>1433.955649</td>\n",
       "      <td>1706.640419</td>\n",
       "    </tr>\n",
       "    <tr>\n",
       "      <th>rougher.state.floatbank10_b_level</th>\n",
       "      <td>5290.0</td>\n",
       "      <td>-475.241428</td>\n",
       "      <td>45.649466</td>\n",
       "      <td>-6.502453e+02</td>\n",
       "      <td>-500.256114</td>\n",
       "      <td>-499.837803</td>\n",
       "      <td>-450.749619</td>\n",
       "      <td>-298.200051</td>\n",
       "    </tr>\n",
       "    <tr>\n",
       "      <th>rougher.state.floatbank10_c_air</th>\n",
       "      <td>5290.0</td>\n",
       "      <td>1301.595477</td>\n",
       "      <td>171.269667</td>\n",
       "      <td>-5.663551e-02</td>\n",
       "      <td>1199.651371</td>\n",
       "      <td>1300.202274</td>\n",
       "      <td>1406.594956</td>\n",
       "      <td>1731.017788</td>\n",
       "    </tr>\n",
       "    <tr>\n",
       "      <th>rougher.state.floatbank10_c_level</th>\n",
       "      <td>5290.0</td>\n",
       "      <td>-474.836671</td>\n",
       "      <td>45.859866</td>\n",
       "      <td>-6.475444e+02</td>\n",
       "      <td>-500.233831</td>\n",
       "      <td>-499.777222</td>\n",
       "      <td>-451.153188</td>\n",
       "      <td>-298.036852</td>\n",
       "    </tr>\n",
       "    <tr>\n",
       "      <th>rougher.state.floatbank10_d_air</th>\n",
       "      <td>5290.0</td>\n",
       "      <td>1214.847960</td>\n",
       "      <td>185.763319</td>\n",
       "      <td>-9.922190e-01</td>\n",
       "      <td>1093.368068</td>\n",
       "      <td>1207.014092</td>\n",
       "      <td>1391.497269</td>\n",
       "      <td>1775.218584</td>\n",
       "    </tr>\n",
       "    <tr>\n",
       "      <th>rougher.state.floatbank10_d_level</th>\n",
       "      <td>5290.0</td>\n",
       "      <td>-475.682272</td>\n",
       "      <td>47.844967</td>\n",
       "      <td>-6.483907e+02</td>\n",
       "      <td>-500.440610</td>\n",
       "      <td>-499.691917</td>\n",
       "      <td>-452.483463</td>\n",
       "      <td>-76.397327</td>\n",
       "    </tr>\n",
       "    <tr>\n",
       "      <th>rougher.state.floatbank10_e_air</th>\n",
       "      <td>5290.0</td>\n",
       "      <td>1056.648995</td>\n",
       "      <td>131.542839</td>\n",
       "      <td>-1.982295e+00</td>\n",
       "      <td>999.361403</td>\n",
       "      <td>1047.495449</td>\n",
       "      <td>1101.365315</td>\n",
       "      <td>1467.184843</td>\n",
       "    </tr>\n",
       "    <tr>\n",
       "      <th>rougher.state.floatbank10_e_level</th>\n",
       "      <td>5290.0</td>\n",
       "      <td>-469.029688</td>\n",
       "      <td>59.325990</td>\n",
       "      <td>-6.492675e+02</td>\n",
       "      <td>-500.190639</td>\n",
       "      <td>-499.765796</td>\n",
       "      <td>-450.957513</td>\n",
       "      <td>-139.753025</td>\n",
       "    </tr>\n",
       "    <tr>\n",
       "      <th>rougher.state.floatbank10_f_air</th>\n",
       "      <td>5290.0</td>\n",
       "      <td>997.949719</td>\n",
       "      <td>128.218869</td>\n",
       "      <td>-2.593390e+00</td>\n",
       "      <td>901.024994</td>\n",
       "      <td>999.441879</td>\n",
       "      <td>1050.433005</td>\n",
       "      <td>1476.588107</td>\n",
       "    </tr>\n",
       "    <tr>\n",
       "      <th>rougher.state.floatbank10_f_level</th>\n",
       "      <td>5290.0</td>\n",
       "      <td>-470.482465</td>\n",
       "      <td>60.759318</td>\n",
       "      <td>-6.499493e+02</td>\n",
       "      <td>-500.624783</td>\n",
       "      <td>-499.680986</td>\n",
       "      <td>-451.986460</td>\n",
       "      <td>-249.801043</td>\n",
       "    </tr>\n",
       "    <tr>\n",
       "      <th>secondary_cleaner.state.floatbank2_a_air</th>\n",
       "      <td>5287.0</td>\n",
       "      <td>26.312630</td>\n",
       "      <td>3.429852</td>\n",
       "      <td>2.053286e-01</td>\n",
       "      <td>24.942328</td>\n",
       "      <td>26.910569</td>\n",
       "      <td>28.091885</td>\n",
       "      <td>32.138727</td>\n",
       "    </tr>\n",
       "    <tr>\n",
       "      <th>secondary_cleaner.state.floatbank2_a_level</th>\n",
       "      <td>5290.0</td>\n",
       "      <td>-502.750897</td>\n",
       "      <td>28.756505</td>\n",
       "      <td>-7.840911e+02</td>\n",
       "      <td>-500.206517</td>\n",
       "      <td>-500.003902</td>\n",
       "      <td>-499.791639</td>\n",
       "      <td>-300.343670</td>\n",
       "    </tr>\n",
       "    <tr>\n",
       "      <th>secondary_cleaner.state.floatbank2_b_air</th>\n",
       "      <td>5288.0</td>\n",
       "      <td>21.949119</td>\n",
       "      <td>4.354961</td>\n",
       "      <td>6.063908e-03</td>\n",
       "      <td>20.002315</td>\n",
       "      <td>22.942603</td>\n",
       "      <td>24.985013</td>\n",
       "      <td>28.165864</td>\n",
       "    </tr>\n",
       "    <tr>\n",
       "      <th>secondary_cleaner.state.floatbank2_b_level</th>\n",
       "      <td>5290.0</td>\n",
       "      <td>-501.987097</td>\n",
       "      <td>34.582722</td>\n",
       "      <td>-7.977840e+02</td>\n",
       "      <td>-500.218030</td>\n",
       "      <td>-500.019058</td>\n",
       "      <td>-499.831532</td>\n",
       "      <td>-211.999273</td>\n",
       "    </tr>\n",
       "    <tr>\n",
       "      <th>secondary_cleaner.state.floatbank3_a_air</th>\n",
       "      <td>5281.0</td>\n",
       "      <td>25.402926</td>\n",
       "      <td>6.526457</td>\n",
       "      <td>0.000000e+00</td>\n",
       "      <td>22.982288</td>\n",
       "      <td>25.010105</td>\n",
       "      <td>30.002063</td>\n",
       "      <td>40.041997</td>\n",
       "    </tr>\n",
       "    <tr>\n",
       "      <th>secondary_cleaner.state.floatbank3_a_level</th>\n",
       "      <td>5290.0</td>\n",
       "      <td>-507.490314</td>\n",
       "      <td>47.620908</td>\n",
       "      <td>-7.997558e+02</td>\n",
       "      <td>-500.297951</td>\n",
       "      <td>-500.034578</td>\n",
       "      <td>-499.780163</td>\n",
       "      <td>-313.866425</td>\n",
       "    </tr>\n",
       "    <tr>\n",
       "      <th>secondary_cleaner.state.floatbank3_b_air</th>\n",
       "      <td>5290.0</td>\n",
       "      <td>20.982108</td>\n",
       "      <td>6.736179</td>\n",
       "      <td>1.521587e-17</td>\n",
       "      <td>17.967855</td>\n",
       "      <td>21.003164</td>\n",
       "      <td>26.976977</td>\n",
       "      <td>32.039365</td>\n",
       "    </tr>\n",
       "    <tr>\n",
       "      <th>secondary_cleaner.state.floatbank3_b_level</th>\n",
       "      <td>5290.0</td>\n",
       "      <td>-506.627916</td>\n",
       "      <td>44.528673</td>\n",
       "      <td>-8.093330e+02</td>\n",
       "      <td>-500.145128</td>\n",
       "      <td>-500.013819</td>\n",
       "      <td>-499.890608</td>\n",
       "      <td>-202.277366</td>\n",
       "    </tr>\n",
       "    <tr>\n",
       "      <th>secondary_cleaner.state.floatbank4_a_air</th>\n",
       "      <td>5290.0</td>\n",
       "      <td>16.320074</td>\n",
       "      <td>3.493583</td>\n",
       "      <td>1.079872e-16</td>\n",
       "      <td>14.036177</td>\n",
       "      <td>17.008468</td>\n",
       "      <td>18.038619</td>\n",
       "      <td>30.051797</td>\n",
       "    </tr>\n",
       "    <tr>\n",
       "      <th>secondary_cleaner.state.floatbank4_a_level</th>\n",
       "      <td>5290.0</td>\n",
       "      <td>-505.144570</td>\n",
       "      <td>31.427337</td>\n",
       "      <td>-7.997985e+02</td>\n",
       "      <td>-500.868258</td>\n",
       "      <td>-500.115727</td>\n",
       "      <td>-499.404224</td>\n",
       "      <td>-401.565212</td>\n",
       "    </tr>\n",
       "    <tr>\n",
       "      <th>secondary_cleaner.state.floatbank4_b_air</th>\n",
       "      <td>5290.0</td>\n",
       "      <td>13.735444</td>\n",
       "      <td>3.430484</td>\n",
       "      <td>2.489718e-17</td>\n",
       "      <td>12.028625</td>\n",
       "      <td>14.964860</td>\n",
       "      <td>15.962125</td>\n",
       "      <td>31.269706</td>\n",
       "    </tr>\n",
       "    <tr>\n",
       "      <th>secondary_cleaner.state.floatbank4_b_level</th>\n",
       "      <td>5290.0</td>\n",
       "      <td>-463.349858</td>\n",
       "      <td>86.189107</td>\n",
       "      <td>-8.008369e+02</td>\n",
       "      <td>-500.323028</td>\n",
       "      <td>-499.576513</td>\n",
       "      <td>-400.933805</td>\n",
       "      <td>-6.506986</td>\n",
       "    </tr>\n",
       "    <tr>\n",
       "      <th>secondary_cleaner.state.floatbank5_a_air</th>\n",
       "      <td>5290.0</td>\n",
       "      <td>12.804186</td>\n",
       "      <td>3.026591</td>\n",
       "      <td>6.922662e-02</td>\n",
       "      <td>10.914838</td>\n",
       "      <td>12.954182</td>\n",
       "      <td>15.097528</td>\n",
       "      <td>25.258848</td>\n",
       "    </tr>\n",
       "    <tr>\n",
       "      <th>secondary_cleaner.state.floatbank5_a_level</th>\n",
       "      <td>5290.0</td>\n",
       "      <td>-501.329122</td>\n",
       "      <td>17.951495</td>\n",
       "      <td>-7.973240e+02</td>\n",
       "      <td>-500.726841</td>\n",
       "      <td>-499.990332</td>\n",
       "      <td>-499.283191</td>\n",
       "      <td>-244.483566</td>\n",
       "    </tr>\n",
       "    <tr>\n",
       "      <th>secondary_cleaner.state.floatbank5_b_air</th>\n",
       "      <td>5290.0</td>\n",
       "      <td>9.881145</td>\n",
       "      <td>2.868205</td>\n",
       "      <td>5.280828e-01</td>\n",
       "      <td>8.036719</td>\n",
       "      <td>10.004301</td>\n",
       "      <td>11.997467</td>\n",
       "      <td>14.086866</td>\n",
       "    </tr>\n",
       "    <tr>\n",
       "      <th>secondary_cleaner.state.floatbank5_b_level</th>\n",
       "      <td>5290.0</td>\n",
       "      <td>-495.663398</td>\n",
       "      <td>34.535007</td>\n",
       "      <td>-8.002203e+02</td>\n",
       "      <td>-500.194668</td>\n",
       "      <td>-499.990535</td>\n",
       "      <td>-499.719913</td>\n",
       "      <td>-137.740004</td>\n",
       "    </tr>\n",
       "    <tr>\n",
       "      <th>secondary_cleaner.state.floatbank6_a_air</th>\n",
       "      <td>5290.0</td>\n",
       "      <td>17.304935</td>\n",
       "      <td>4.536544</td>\n",
       "      <td>-7.942623e-02</td>\n",
       "      <td>13.997317</td>\n",
       "      <td>16.014935</td>\n",
       "      <td>21.020013</td>\n",
       "      <td>26.705889</td>\n",
       "    </tr>\n",
       "    <tr>\n",
       "      <th>secondary_cleaner.state.floatbank6_a_level</th>\n",
       "      <td>5290.0</td>\n",
       "      <td>-501.793193</td>\n",
       "      <td>39.044215</td>\n",
       "      <td>-8.097415e+02</td>\n",
       "      <td>-500.690984</td>\n",
       "      <td>-500.007126</td>\n",
       "      <td>-499.373018</td>\n",
       "      <td>-123.307487</td>\n",
       "    </tr>\n",
       "  </tbody>\n",
       "</table>\n",
       "</div>"
      ],
      "text/plain": [
       "                                             count         mean         std  \\\n",
       "primary_cleaner.input.sulfate               5286.0   174.839652   43.027080   \n",
       "primary_cleaner.input.depressant            5285.0     8.683596    3.072050   \n",
       "primary_cleaner.input.feed_size             5290.0     7.266339    0.610219   \n",
       "primary_cleaner.input.xanthate              5286.0     1.383803    0.643474   \n",
       "primary_cleaner.state.floatbank8_a_air      5290.0  1539.494325  116.797884   \n",
       "primary_cleaner.state.floatbank8_a_level    5290.0  -497.665883   19.952431   \n",
       "primary_cleaner.state.floatbank8_b_air      5290.0  1545.174232  122.224588   \n",
       "primary_cleaner.state.floatbank8_b_level    5290.0  -500.273098   32.968307   \n",
       "primary_cleaner.state.floatbank8_c_air      5290.0  1527.272362  122.538034   \n",
       "primary_cleaner.state.floatbank8_c_level    5290.0  -498.330680   21.964876   \n",
       "primary_cleaner.state.floatbank8_d_air      5290.0  1544.844335  124.773081   \n",
       "primary_cleaner.state.floatbank8_d_level    5290.0  -500.199527   31.045257   \n",
       "rougher.input.feed_ag                       5290.0     9.371940    1.926264   \n",
       "rougher.input.feed_pb                       5290.0     3.798082    0.954859   \n",
       "rougher.input.feed_rate                     5287.0   489.800620  108.036326   \n",
       "rougher.input.feed_size                     5289.0    55.951097   19.081758   \n",
       "rougher.input.feed_sol                      5269.0    37.716648    5.491415   \n",
       "rougher.input.feed_au                       5290.0     9.334682    1.619521   \n",
       "rougher.input.floatbank10_sulfate           5285.0    13.855759    3.350852   \n",
       "rougher.input.floatbank10_xanthate          5290.0     6.467745    1.065114   \n",
       "rougher.input.floatbank11_sulfate           5282.0    13.922328    3.223769   \n",
       "rougher.input.floatbank11_xanthate          5265.0     6.512103    0.886989   \n",
       "rougher.state.floatbank10_a_air             5290.0  1053.400166  121.139309   \n",
       "rougher.state.floatbank10_a_level           5290.0  -395.732530   91.085505   \n",
       "rougher.state.floatbank10_b_air             5290.0  1318.926879  156.450366   \n",
       "rougher.state.floatbank10_b_level           5290.0  -475.241428   45.649466   \n",
       "rougher.state.floatbank10_c_air             5290.0  1301.595477  171.269667   \n",
       "rougher.state.floatbank10_c_level           5290.0  -474.836671   45.859866   \n",
       "rougher.state.floatbank10_d_air             5290.0  1214.847960  185.763319   \n",
       "rougher.state.floatbank10_d_level           5290.0  -475.682272   47.844967   \n",
       "rougher.state.floatbank10_e_air             5290.0  1056.648995  131.542839   \n",
       "rougher.state.floatbank10_e_level           5290.0  -469.029688   59.325990   \n",
       "rougher.state.floatbank10_f_air             5290.0   997.949719  128.218869   \n",
       "rougher.state.floatbank10_f_level           5290.0  -470.482465   60.759318   \n",
       "secondary_cleaner.state.floatbank2_a_air    5287.0    26.312630    3.429852   \n",
       "secondary_cleaner.state.floatbank2_a_level  5290.0  -502.750897   28.756505   \n",
       "secondary_cleaner.state.floatbank2_b_air    5288.0    21.949119    4.354961   \n",
       "secondary_cleaner.state.floatbank2_b_level  5290.0  -501.987097   34.582722   \n",
       "secondary_cleaner.state.floatbank3_a_air    5281.0    25.402926    6.526457   \n",
       "secondary_cleaner.state.floatbank3_a_level  5290.0  -507.490314   47.620908   \n",
       "secondary_cleaner.state.floatbank3_b_air    5290.0    20.982108    6.736179   \n",
       "secondary_cleaner.state.floatbank3_b_level  5290.0  -506.627916   44.528673   \n",
       "secondary_cleaner.state.floatbank4_a_air    5290.0    16.320074    3.493583   \n",
       "secondary_cleaner.state.floatbank4_a_level  5290.0  -505.144570   31.427337   \n",
       "secondary_cleaner.state.floatbank4_b_air    5290.0    13.735444    3.430484   \n",
       "secondary_cleaner.state.floatbank4_b_level  5290.0  -463.349858   86.189107   \n",
       "secondary_cleaner.state.floatbank5_a_air    5290.0    12.804186    3.026591   \n",
       "secondary_cleaner.state.floatbank5_a_level  5290.0  -501.329122   17.951495   \n",
       "secondary_cleaner.state.floatbank5_b_air    5290.0     9.881145    2.868205   \n",
       "secondary_cleaner.state.floatbank5_b_level  5290.0  -495.663398   34.535007   \n",
       "secondary_cleaner.state.floatbank6_a_air    5290.0    17.304935    4.536544   \n",
       "secondary_cleaner.state.floatbank6_a_level  5290.0  -501.793193   39.044215   \n",
       "\n",
       "                                                     min          25%  \\\n",
       "primary_cleaner.input.sulfate               2.566156e+00   147.121401   \n",
       "primary_cleaner.input.depressant            3.839482e-03     6.489555   \n",
       "primary_cleaner.input.feed_size             5.650000e+00     6.890000   \n",
       "primary_cleaner.input.xanthate              4.983673e-03     0.907623   \n",
       "primary_cleaner.state.floatbank8_a_air      5.445860e-32  1498.935802   \n",
       "primary_cleaner.state.floatbank8_a_level   -7.953163e+02  -500.357298   \n",
       "primary_cleaner.state.floatbank8_b_air      6.647490e-32  1498.970993   \n",
       "primary_cleaner.state.floatbank8_b_level   -7.999970e+02  -500.703002   \n",
       "primary_cleaner.state.floatbank8_c_air      4.033736e-32  1473.229862   \n",
       "primary_cleaner.state.floatbank8_c_level   -7.999606e+02  -501.018117   \n",
       "primary_cleaner.state.floatbank8_d_air      4.039220e-32  1499.481404   \n",
       "primary_cleaner.state.floatbank8_d_level   -7.997943e+02  -500.452469   \n",
       "rougher.input.feed_ag                       5.684412e-01     8.112434   \n",
       "rougher.input.feed_pb                       2.736769e-01     3.240251   \n",
       "rougher.input.feed_rate                     2.985849e-03   407.020883   \n",
       "rougher.input.feed_size                     4.636880e-02    43.906347   \n",
       "rougher.input.feed_sol                      1.393488e+00    34.505576   \n",
       "rougher.input.feed_au                       5.686322e-01     8.207814   \n",
       "rougher.input.floatbank10_sulfate           1.147460e-03    11.995006   \n",
       "rougher.input.floatbank10_xanthate          5.682328e-04     5.998779   \n",
       "rougher.input.floatbank11_sulfate           7.673764e-05    11.997200   \n",
       "rougher.input.floatbank11_xanthate          6.985269e-03     5.999157   \n",
       "rougher.state.floatbank10_a_air            -4.206929e-02   999.205344   \n",
       "rougher.state.floatbank10_a_level          -6.579498e+02  -499.920565   \n",
       "rougher.state.floatbank10_b_air            -7.218064e-01  1200.871883   \n",
       "rougher.state.floatbank10_b_level          -6.502453e+02  -500.256114   \n",
       "rougher.state.floatbank10_c_air            -5.663551e-02  1199.651371   \n",
       "rougher.state.floatbank10_c_level          -6.475444e+02  -500.233831   \n",
       "rougher.state.floatbank10_d_air            -9.922190e-01  1093.368068   \n",
       "rougher.state.floatbank10_d_level          -6.483907e+02  -500.440610   \n",
       "rougher.state.floatbank10_e_air            -1.982295e+00   999.361403   \n",
       "rougher.state.floatbank10_e_level          -6.492675e+02  -500.190639   \n",
       "rougher.state.floatbank10_f_air            -2.593390e+00   901.024994   \n",
       "rougher.state.floatbank10_f_level          -6.499493e+02  -500.624783   \n",
       "secondary_cleaner.state.floatbank2_a_air    2.053286e-01    24.942328   \n",
       "secondary_cleaner.state.floatbank2_a_level -7.840911e+02  -500.206517   \n",
       "secondary_cleaner.state.floatbank2_b_air    6.063908e-03    20.002315   \n",
       "secondary_cleaner.state.floatbank2_b_level -7.977840e+02  -500.218030   \n",
       "secondary_cleaner.state.floatbank3_a_air    0.000000e+00    22.982288   \n",
       "secondary_cleaner.state.floatbank3_a_level -7.997558e+02  -500.297951   \n",
       "secondary_cleaner.state.floatbank3_b_air    1.521587e-17    17.967855   \n",
       "secondary_cleaner.state.floatbank3_b_level -8.093330e+02  -500.145128   \n",
       "secondary_cleaner.state.floatbank4_a_air    1.079872e-16    14.036177   \n",
       "secondary_cleaner.state.floatbank4_a_level -7.997985e+02  -500.868258   \n",
       "secondary_cleaner.state.floatbank4_b_air    2.489718e-17    12.028625   \n",
       "secondary_cleaner.state.floatbank4_b_level -8.008369e+02  -500.323028   \n",
       "secondary_cleaner.state.floatbank5_a_air    6.922662e-02    10.914838   \n",
       "secondary_cleaner.state.floatbank5_a_level -7.973240e+02  -500.726841   \n",
       "secondary_cleaner.state.floatbank5_b_air    5.280828e-01     8.036719   \n",
       "secondary_cleaner.state.floatbank5_b_level -8.002203e+02  -500.194668   \n",
       "secondary_cleaner.state.floatbank6_a_air   -7.942623e-02    13.997317   \n",
       "secondary_cleaner.state.floatbank6_a_level -8.097415e+02  -500.690984   \n",
       "\n",
       "                                                    50%          75%  \\\n",
       "primary_cleaner.input.sulfate                177.828489   208.125438   \n",
       "primary_cleaner.input.depressant               8.052207    10.027764   \n",
       "primary_cleaner.input.feed_size                7.250000     7.600000   \n",
       "primary_cleaner.input.xanthate                 1.197610     1.797819   \n",
       "primary_cleaner.state.floatbank8_a_air      1585.129123  1602.076529   \n",
       "primary_cleaner.state.floatbank8_a_level    -499.969164  -499.568951   \n",
       "primary_cleaner.state.floatbank8_b_air      1595.621798  1602.323545   \n",
       "primary_cleaner.state.floatbank8_b_level    -500.028514  -499.293257   \n",
       "primary_cleaner.state.floatbank8_c_air      1549.594682  1601.143775   \n",
       "primary_cleaner.state.floatbank8_c_level    -500.017711  -498.994130   \n",
       "primary_cleaner.state.floatbank8_d_air      1594.579112  1600.964772   \n",
       "primary_cleaner.state.floatbank8_d_level    -500.023307  -499.607040   \n",
       "rougher.input.feed_ag                          9.762654    10.652297   \n",
       "rougher.input.feed_pb                          3.740716     4.282634   \n",
       "rougher.input.feed_rate                      499.051440   575.307213   \n",
       "rougher.input.feed_size                       50.841029    62.431047   \n",
       "rougher.input.feed_sol                        37.980276    41.635385   \n",
       "rougher.input.feed_au                          9.593766    10.463538   \n",
       "rougher.input.floatbank10_sulfate             14.003126    16.974284   \n",
       "rougher.input.floatbank10_xanthate             6.498181     7.085457   \n",
       "rougher.input.floatbank11_sulfate             14.004371    16.959671   \n",
       "rougher.input.floatbank11_xanthate             6.498744     7.091808   \n",
       "rougher.state.floatbank10_a_air             1000.472055  1006.254299   \n",
       "rougher.state.floatbank10_a_level           -399.693363  -300.060056   \n",
       "rougher.state.floatbank10_b_air             1302.254995  1433.955649   \n",
       "rougher.state.floatbank10_b_level           -499.837803  -450.749619   \n",
       "rougher.state.floatbank10_c_air             1300.202274  1406.594956   \n",
       "rougher.state.floatbank10_c_level           -499.777222  -451.153188   \n",
       "rougher.state.floatbank10_d_air             1207.014092  1391.497269   \n",
       "rougher.state.floatbank10_d_level           -499.691917  -452.483463   \n",
       "rougher.state.floatbank10_e_air             1047.495449  1101.365315   \n",
       "rougher.state.floatbank10_e_level           -499.765796  -450.957513   \n",
       "rougher.state.floatbank10_f_air              999.441879  1050.433005   \n",
       "rougher.state.floatbank10_f_level           -499.680986  -451.986460   \n",
       "secondary_cleaner.state.floatbank2_a_air      26.910569    28.091885   \n",
       "secondary_cleaner.state.floatbank2_a_level  -500.003902  -499.791639   \n",
       "secondary_cleaner.state.floatbank2_b_air      22.942603    24.985013   \n",
       "secondary_cleaner.state.floatbank2_b_level  -500.019058  -499.831532   \n",
       "secondary_cleaner.state.floatbank3_a_air      25.010105    30.002063   \n",
       "secondary_cleaner.state.floatbank3_a_level  -500.034578  -499.780163   \n",
       "secondary_cleaner.state.floatbank3_b_air      21.003164    26.976977   \n",
       "secondary_cleaner.state.floatbank3_b_level  -500.013819  -499.890608   \n",
       "secondary_cleaner.state.floatbank4_a_air      17.008468    18.038619   \n",
       "secondary_cleaner.state.floatbank4_a_level  -500.115727  -499.404224   \n",
       "secondary_cleaner.state.floatbank4_b_air      14.964860    15.962125   \n",
       "secondary_cleaner.state.floatbank4_b_level  -499.576513  -400.933805   \n",
       "secondary_cleaner.state.floatbank5_a_air      12.954182    15.097528   \n",
       "secondary_cleaner.state.floatbank5_a_level  -499.990332  -499.283191   \n",
       "secondary_cleaner.state.floatbank5_b_air      10.004301    11.997467   \n",
       "secondary_cleaner.state.floatbank5_b_level  -499.990535  -499.719913   \n",
       "secondary_cleaner.state.floatbank6_a_air      16.014935    21.020013   \n",
       "secondary_cleaner.state.floatbank6_a_level  -500.007126  -499.373018   \n",
       "\n",
       "                                                    max  \n",
       "primary_cleaner.input.sulfate                265.983123  \n",
       "primary_cleaner.input.depressant              40.000000  \n",
       "primary_cleaner.input.feed_size               15.500000  \n",
       "primary_cleaner.input.xanthate                 4.102454  \n",
       "primary_cleaner.state.floatbank8_a_air      2103.103580  \n",
       "primary_cleaner.state.floatbank8_a_level     -57.195404  \n",
       "primary_cleaner.state.floatbank8_b_air      1813.083671  \n",
       "primary_cleaner.state.floatbank8_b_level    -142.527229  \n",
       "primary_cleaner.state.floatbank8_c_air      1715.053773  \n",
       "primary_cleaner.state.floatbank8_c_level    -150.937035  \n",
       "primary_cleaner.state.floatbank8_d_air      1913.256561  \n",
       "primary_cleaner.state.floatbank8_d_level    -158.950573  \n",
       "rougher.input.feed_ag                         14.406130  \n",
       "rougher.input.feed_pb                          6.905684  \n",
       "rougher.input.feed_rate                      707.364020  \n",
       "rougher.input.feed_size                      392.494040  \n",
       "rougher.input.feed_sol                        53.477742  \n",
       "rougher.input.feed_au                         13.731330  \n",
       "rougher.input.floatbank10_sulfate             24.280636  \n",
       "rougher.input.floatbank10_xanthate             8.910468  \n",
       "rougher.input.floatbank11_sulfate             24.280966  \n",
       "rougher.input.floatbank11_xanthate             8.621338  \n",
       "rougher.state.floatbank10_a_air             1423.274687  \n",
       "rougher.state.floatbank10_a_level           -273.776101  \n",
       "rougher.state.floatbank10_b_air             1706.640419  \n",
       "rougher.state.floatbank10_b_level           -298.200051  \n",
       "rougher.state.floatbank10_c_air             1731.017788  \n",
       "rougher.state.floatbank10_c_level           -298.036852  \n",
       "rougher.state.floatbank10_d_air             1775.218584  \n",
       "rougher.state.floatbank10_d_level            -76.397327  \n",
       "rougher.state.floatbank10_e_air             1467.184843  \n",
       "rougher.state.floatbank10_e_level           -139.753025  \n",
       "rougher.state.floatbank10_f_air             1476.588107  \n",
       "rougher.state.floatbank10_f_level           -249.801043  \n",
       "secondary_cleaner.state.floatbank2_a_air      32.138727  \n",
       "secondary_cleaner.state.floatbank2_a_level  -300.343670  \n",
       "secondary_cleaner.state.floatbank2_b_air      28.165864  \n",
       "secondary_cleaner.state.floatbank2_b_level  -211.999273  \n",
       "secondary_cleaner.state.floatbank3_a_air      40.041997  \n",
       "secondary_cleaner.state.floatbank3_a_level  -313.866425  \n",
       "secondary_cleaner.state.floatbank3_b_air      32.039365  \n",
       "secondary_cleaner.state.floatbank3_b_level  -202.277366  \n",
       "secondary_cleaner.state.floatbank4_a_air      30.051797  \n",
       "secondary_cleaner.state.floatbank4_a_level  -401.565212  \n",
       "secondary_cleaner.state.floatbank4_b_air      31.269706  \n",
       "secondary_cleaner.state.floatbank4_b_level    -6.506986  \n",
       "secondary_cleaner.state.floatbank5_a_air      25.258848  \n",
       "secondary_cleaner.state.floatbank5_a_level  -244.483566  \n",
       "secondary_cleaner.state.floatbank5_b_air      14.086866  \n",
       "secondary_cleaner.state.floatbank5_b_level  -137.740004  \n",
       "secondary_cleaner.state.floatbank6_a_air      26.705889  \n",
       "secondary_cleaner.state.floatbank6_a_level  -123.307487  "
      ]
     },
     "execution_count": 7,
     "metadata": {},
     "output_type": "execute_result"
    }
   ],
   "source": [
    "df_test.describe().T"
   ]
  },
  {
   "cell_type": "markdown",
   "metadata": {},
   "source": [
    "#### Исходные данные"
   ]
  },
  {
   "cell_type": "code",
   "execution_count": 8,
   "metadata": {
    "scrolled": true
   },
   "outputs": [
    {
     "name": "stdout",
     "output_type": "stream",
     "text": [
      "<class 'pandas.core.frame.DataFrame'>\n",
      "RangeIndex: 19439 entries, 0 to 19438\n",
      "Data columns (total 87 columns):\n",
      " #   Column                                              Non-Null Count  Dtype  \n",
      "---  ------                                              --------------  -----  \n",
      " 0   date                                                19439 non-null  object \n",
      " 1   final.output.concentrate_ag                         19438 non-null  float64\n",
      " 2   final.output.concentrate_pb                         19438 non-null  float64\n",
      " 3   final.output.concentrate_sol                        19228 non-null  float64\n",
      " 4   final.output.concentrate_au                         19439 non-null  float64\n",
      " 5   final.output.recovery                               19439 non-null  float64\n",
      " 6   final.output.tail_ag                                19438 non-null  float64\n",
      " 7   final.output.tail_pb                                19338 non-null  float64\n",
      " 8   final.output.tail_sol                               19433 non-null  float64\n",
      " 9   final.output.tail_au                                19439 non-null  float64\n",
      " 10  primary_cleaner.input.sulfate                       19415 non-null  float64\n",
      " 11  primary_cleaner.input.depressant                    19402 non-null  float64\n",
      " 12  primary_cleaner.input.feed_size                     19439 non-null  float64\n",
      " 13  primary_cleaner.input.xanthate                      19335 non-null  float64\n",
      " 14  primary_cleaner.output.concentrate_ag               19439 non-null  float64\n",
      " 15  primary_cleaner.output.concentrate_pb               19323 non-null  float64\n",
      " 16  primary_cleaner.output.concentrate_sol              19069 non-null  float64\n",
      " 17  primary_cleaner.output.concentrate_au               19439 non-null  float64\n",
      " 18  primary_cleaner.output.tail_ag                      19435 non-null  float64\n",
      " 19  primary_cleaner.output.tail_pb                      19418 non-null  float64\n",
      " 20  primary_cleaner.output.tail_sol                     19377 non-null  float64\n",
      " 21  primary_cleaner.output.tail_au                      19439 non-null  float64\n",
      " 22  primary_cleaner.state.floatbank8_a_air              19435 non-null  float64\n",
      " 23  primary_cleaner.state.floatbank8_a_level            19438 non-null  float64\n",
      " 24  primary_cleaner.state.floatbank8_b_air              19435 non-null  float64\n",
      " 25  primary_cleaner.state.floatbank8_b_level            19438 non-null  float64\n",
      " 26  primary_cleaner.state.floatbank8_c_air              19437 non-null  float64\n",
      " 27  primary_cleaner.state.floatbank8_c_level            19438 non-null  float64\n",
      " 28  primary_cleaner.state.floatbank8_d_air              19436 non-null  float64\n",
      " 29  primary_cleaner.state.floatbank8_d_level            19438 non-null  float64\n",
      " 30  rougher.calculation.sulfate_to_au_concentrate       19437 non-null  float64\n",
      " 31  rougher.calculation.floatbank10_sulfate_to_au_feed  19437 non-null  float64\n",
      " 32  rougher.calculation.floatbank11_sulfate_to_au_feed  19437 non-null  float64\n",
      " 33  rougher.calculation.au_pb_ratio                     19439 non-null  float64\n",
      " 34  rougher.input.feed_ag                               19439 non-null  float64\n",
      " 35  rougher.input.feed_pb                               19339 non-null  float64\n",
      " 36  rougher.input.feed_rate                             19428 non-null  float64\n",
      " 37  rougher.input.feed_size                             19294 non-null  float64\n",
      " 38  rougher.input.feed_sol                              19340 non-null  float64\n",
      " 39  rougher.input.feed_au                               19439 non-null  float64\n",
      " 40  rougher.input.floatbank10_sulfate                   19405 non-null  float64\n",
      " 41  rougher.input.floatbank10_xanthate                  19431 non-null  float64\n",
      " 42  rougher.input.floatbank11_sulfate                   19395 non-null  float64\n",
      " 43  rougher.input.floatbank11_xanthate                  18986 non-null  float64\n",
      " 44  rougher.output.concentrate_ag                       19439 non-null  float64\n",
      " 45  rougher.output.concentrate_pb                       19439 non-null  float64\n",
      " 46  rougher.output.concentrate_sol                      19416 non-null  float64\n",
      " 47  rougher.output.concentrate_au                       19439 non-null  float64\n",
      " 48  rougher.output.recovery                             19439 non-null  float64\n",
      " 49  rougher.output.tail_ag                              19438 non-null  float64\n",
      " 50  rougher.output.tail_pb                              19439 non-null  float64\n",
      " 51  rougher.output.tail_sol                             19439 non-null  float64\n",
      " 52  rougher.output.tail_au                              19439 non-null  float64\n",
      " 53  rougher.state.floatbank10_a_air                     19438 non-null  float64\n",
      " 54  rougher.state.floatbank10_a_level                   19438 non-null  float64\n",
      " 55  rougher.state.floatbank10_b_air                     19438 non-null  float64\n",
      " 56  rougher.state.floatbank10_b_level                   19438 non-null  float64\n",
      " 57  rougher.state.floatbank10_c_air                     19438 non-null  float64\n",
      " 58  rougher.state.floatbank10_c_level                   19438 non-null  float64\n",
      " 59  rougher.state.floatbank10_d_air                     19439 non-null  float64\n",
      " 60  rougher.state.floatbank10_d_level                   19439 non-null  float64\n",
      " 61  rougher.state.floatbank10_e_air                     19003 non-null  float64\n",
      " 62  rougher.state.floatbank10_e_level                   19439 non-null  float64\n",
      " 63  rougher.state.floatbank10_f_air                     19439 non-null  float64\n",
      " 64  rougher.state.floatbank10_f_level                   19439 non-null  float64\n",
      " 65  secondary_cleaner.output.tail_ag                    19437 non-null  float64\n",
      " 66  secondary_cleaner.output.tail_pb                    19427 non-null  float64\n",
      " 67  secondary_cleaner.output.tail_sol                   17691 non-null  float64\n",
      " 68  secondary_cleaner.output.tail_au                    19439 non-null  float64\n",
      " 69  secondary_cleaner.state.floatbank2_a_air            19219 non-null  float64\n",
      " 70  secondary_cleaner.state.floatbank2_a_level          19438 non-null  float64\n",
      " 71  secondary_cleaner.state.floatbank2_b_air            19416 non-null  float64\n",
      " 72  secondary_cleaner.state.floatbank2_b_level          19438 non-null  float64\n",
      " 73  secondary_cleaner.state.floatbank3_a_air            19426 non-null  float64\n",
      " 74  secondary_cleaner.state.floatbank3_a_level          19438 non-null  float64\n",
      " 75  secondary_cleaner.state.floatbank3_b_air            19438 non-null  float64\n",
      " 76  secondary_cleaner.state.floatbank3_b_level          19438 non-null  float64\n",
      " 77  secondary_cleaner.state.floatbank4_a_air            19433 non-null  float64\n",
      " 78  secondary_cleaner.state.floatbank4_a_level          19438 non-null  float64\n",
      " 79  secondary_cleaner.state.floatbank4_b_air            19438 non-null  float64\n",
      " 80  secondary_cleaner.state.floatbank4_b_level          19438 non-null  float64\n",
      " 81  secondary_cleaner.state.floatbank5_a_air            19438 non-null  float64\n",
      " 82  secondary_cleaner.state.floatbank5_a_level          19438 non-null  float64\n",
      " 83  secondary_cleaner.state.floatbank5_b_air            19438 non-null  float64\n",
      " 84  secondary_cleaner.state.floatbank5_b_level          19438 non-null  float64\n",
      " 85  secondary_cleaner.state.floatbank6_a_air            19437 non-null  float64\n",
      " 86  secondary_cleaner.state.floatbank6_a_level          19438 non-null  float64\n",
      "dtypes: float64(86), object(1)\n",
      "memory usage: 12.9+ MB\n"
     ]
    }
   ],
   "source": [
    "try:\n",
    "    df_full = pd.read_csv(\n",
    "        'C:\\\\Users\\\\gorbu\\\\OneDrive\\\\Документы\\\\DataScience\\\\Projects\\\\2 SubFinal\\\\gold_recovery_full_new.csv')\n",
    "except:\n",
    "    df_full = pd.read_csv('/datasets/gold_recovery_full_new.csv')\n",
    "df_full.info()"
   ]
  },
  {
   "cell_type": "code",
   "execution_count": 9,
   "metadata": {
    "scrolled": false
   },
   "outputs": [
    {
     "data": {
      "text/html": [
       "<div>\n",
       "<style scoped>\n",
       "    .dataframe tbody tr th:only-of-type {\n",
       "        vertical-align: middle;\n",
       "    }\n",
       "\n",
       "    .dataframe tbody tr th {\n",
       "        vertical-align: top;\n",
       "    }\n",
       "\n",
       "    .dataframe thead th {\n",
       "        text-align: right;\n",
       "    }\n",
       "</style>\n",
       "<table border=\"1\" class=\"dataframe\">\n",
       "  <thead>\n",
       "    <tr style=\"text-align: right;\">\n",
       "      <th></th>\n",
       "      <th>date</th>\n",
       "      <th>final.output.concentrate_ag</th>\n",
       "      <th>final.output.concentrate_pb</th>\n",
       "      <th>final.output.concentrate_sol</th>\n",
       "      <th>final.output.concentrate_au</th>\n",
       "      <th>final.output.recovery</th>\n",
       "      <th>final.output.tail_ag</th>\n",
       "      <th>final.output.tail_pb</th>\n",
       "      <th>final.output.tail_sol</th>\n",
       "      <th>final.output.tail_au</th>\n",
       "      <th>...</th>\n",
       "      <th>secondary_cleaner.state.floatbank4_a_air</th>\n",
       "      <th>secondary_cleaner.state.floatbank4_a_level</th>\n",
       "      <th>secondary_cleaner.state.floatbank4_b_air</th>\n",
       "      <th>secondary_cleaner.state.floatbank4_b_level</th>\n",
       "      <th>secondary_cleaner.state.floatbank5_a_air</th>\n",
       "      <th>secondary_cleaner.state.floatbank5_a_level</th>\n",
       "      <th>secondary_cleaner.state.floatbank5_b_air</th>\n",
       "      <th>secondary_cleaner.state.floatbank5_b_level</th>\n",
       "      <th>secondary_cleaner.state.floatbank6_a_air</th>\n",
       "      <th>secondary_cleaner.state.floatbank6_a_level</th>\n",
       "    </tr>\n",
       "  </thead>\n",
       "  <tbody>\n",
       "    <tr>\n",
       "      <th>0</th>\n",
       "      <td>2016-01-15 00:00:00</td>\n",
       "      <td>6.055403</td>\n",
       "      <td>9.889648</td>\n",
       "      <td>5.507324</td>\n",
       "      <td>42.192020</td>\n",
       "      <td>70.541216</td>\n",
       "      <td>10.411962</td>\n",
       "      <td>0.895447</td>\n",
       "      <td>16.904297</td>\n",
       "      <td>2.143149</td>\n",
       "      <td>...</td>\n",
       "      <td>14.016835</td>\n",
       "      <td>-502.488007</td>\n",
       "      <td>12.099931</td>\n",
       "      <td>-504.715942</td>\n",
       "      <td>9.925633</td>\n",
       "      <td>-498.310211</td>\n",
       "      <td>8.079666</td>\n",
       "      <td>-500.470978</td>\n",
       "      <td>14.151341</td>\n",
       "      <td>-605.841980</td>\n",
       "    </tr>\n",
       "    <tr>\n",
       "      <th>1</th>\n",
       "      <td>2016-01-15 01:00:00</td>\n",
       "      <td>6.029369</td>\n",
       "      <td>9.968944</td>\n",
       "      <td>5.257781</td>\n",
       "      <td>42.701629</td>\n",
       "      <td>69.266198</td>\n",
       "      <td>10.462676</td>\n",
       "      <td>0.927452</td>\n",
       "      <td>16.634514</td>\n",
       "      <td>2.224930</td>\n",
       "      <td>...</td>\n",
       "      <td>13.992281</td>\n",
       "      <td>-505.503262</td>\n",
       "      <td>11.950531</td>\n",
       "      <td>-501.331529</td>\n",
       "      <td>10.039245</td>\n",
       "      <td>-500.169983</td>\n",
       "      <td>7.984757</td>\n",
       "      <td>-500.582168</td>\n",
       "      <td>13.998353</td>\n",
       "      <td>-599.787184</td>\n",
       "    </tr>\n",
       "    <tr>\n",
       "      <th>2</th>\n",
       "      <td>2016-01-15 02:00:00</td>\n",
       "      <td>6.055926</td>\n",
       "      <td>10.213995</td>\n",
       "      <td>5.383759</td>\n",
       "      <td>42.657501</td>\n",
       "      <td>68.116445</td>\n",
       "      <td>10.507046</td>\n",
       "      <td>0.953716</td>\n",
       "      <td>16.208849</td>\n",
       "      <td>2.257889</td>\n",
       "      <td>...</td>\n",
       "      <td>14.015015</td>\n",
       "      <td>-502.520901</td>\n",
       "      <td>11.912783</td>\n",
       "      <td>-501.133383</td>\n",
       "      <td>10.070913</td>\n",
       "      <td>-500.129135</td>\n",
       "      <td>8.013877</td>\n",
       "      <td>-500.517572</td>\n",
       "      <td>14.028663</td>\n",
       "      <td>-601.427363</td>\n",
       "    </tr>\n",
       "    <tr>\n",
       "      <th>3</th>\n",
       "      <td>2016-01-15 03:00:00</td>\n",
       "      <td>6.047977</td>\n",
       "      <td>9.977019</td>\n",
       "      <td>4.858634</td>\n",
       "      <td>42.689819</td>\n",
       "      <td>68.347543</td>\n",
       "      <td>10.422762</td>\n",
       "      <td>0.883763</td>\n",
       "      <td>16.532835</td>\n",
       "      <td>2.146849</td>\n",
       "      <td>...</td>\n",
       "      <td>14.036510</td>\n",
       "      <td>-500.857308</td>\n",
       "      <td>11.999550</td>\n",
       "      <td>-501.193686</td>\n",
       "      <td>9.970366</td>\n",
       "      <td>-499.201640</td>\n",
       "      <td>7.977324</td>\n",
       "      <td>-500.255908</td>\n",
       "      <td>14.005551</td>\n",
       "      <td>-599.996129</td>\n",
       "    </tr>\n",
       "    <tr>\n",
       "      <th>4</th>\n",
       "      <td>2016-01-15 04:00:00</td>\n",
       "      <td>6.148599</td>\n",
       "      <td>10.142511</td>\n",
       "      <td>4.939416</td>\n",
       "      <td>42.774141</td>\n",
       "      <td>66.927016</td>\n",
       "      <td>10.360302</td>\n",
       "      <td>0.792826</td>\n",
       "      <td>16.525686</td>\n",
       "      <td>2.055292</td>\n",
       "      <td>...</td>\n",
       "      <td>14.027298</td>\n",
       "      <td>-499.838632</td>\n",
       "      <td>11.953070</td>\n",
       "      <td>-501.053894</td>\n",
       "      <td>9.925709</td>\n",
       "      <td>-501.686727</td>\n",
       "      <td>7.894242</td>\n",
       "      <td>-500.356035</td>\n",
       "      <td>13.996647</td>\n",
       "      <td>-601.496691</td>\n",
       "    </tr>\n",
       "  </tbody>\n",
       "</table>\n",
       "<p>5 rows × 87 columns</p>\n",
       "</div>"
      ],
      "text/plain": [
       "                  date  final.output.concentrate_ag  \\\n",
       "0  2016-01-15 00:00:00                     6.055403   \n",
       "1  2016-01-15 01:00:00                     6.029369   \n",
       "2  2016-01-15 02:00:00                     6.055926   \n",
       "3  2016-01-15 03:00:00                     6.047977   \n",
       "4  2016-01-15 04:00:00                     6.148599   \n",
       "\n",
       "   final.output.concentrate_pb  final.output.concentrate_sol  \\\n",
       "0                     9.889648                      5.507324   \n",
       "1                     9.968944                      5.257781   \n",
       "2                    10.213995                      5.383759   \n",
       "3                     9.977019                      4.858634   \n",
       "4                    10.142511                      4.939416   \n",
       "\n",
       "   final.output.concentrate_au  final.output.recovery  final.output.tail_ag  \\\n",
       "0                    42.192020              70.541216             10.411962   \n",
       "1                    42.701629              69.266198             10.462676   \n",
       "2                    42.657501              68.116445             10.507046   \n",
       "3                    42.689819              68.347543             10.422762   \n",
       "4                    42.774141              66.927016             10.360302   \n",
       "\n",
       "   final.output.tail_pb  final.output.tail_sol  final.output.tail_au  ...  \\\n",
       "0              0.895447              16.904297              2.143149  ...   \n",
       "1              0.927452              16.634514              2.224930  ...   \n",
       "2              0.953716              16.208849              2.257889  ...   \n",
       "3              0.883763              16.532835              2.146849  ...   \n",
       "4              0.792826              16.525686              2.055292  ...   \n",
       "\n",
       "   secondary_cleaner.state.floatbank4_a_air  \\\n",
       "0                                 14.016835   \n",
       "1                                 13.992281   \n",
       "2                                 14.015015   \n",
       "3                                 14.036510   \n",
       "4                                 14.027298   \n",
       "\n",
       "   secondary_cleaner.state.floatbank4_a_level  \\\n",
       "0                                 -502.488007   \n",
       "1                                 -505.503262   \n",
       "2                                 -502.520901   \n",
       "3                                 -500.857308   \n",
       "4                                 -499.838632   \n",
       "\n",
       "   secondary_cleaner.state.floatbank4_b_air  \\\n",
       "0                                 12.099931   \n",
       "1                                 11.950531   \n",
       "2                                 11.912783   \n",
       "3                                 11.999550   \n",
       "4                                 11.953070   \n",
       "\n",
       "   secondary_cleaner.state.floatbank4_b_level  \\\n",
       "0                                 -504.715942   \n",
       "1                                 -501.331529   \n",
       "2                                 -501.133383   \n",
       "3                                 -501.193686   \n",
       "4                                 -501.053894   \n",
       "\n",
       "   secondary_cleaner.state.floatbank5_a_air  \\\n",
       "0                                  9.925633   \n",
       "1                                 10.039245   \n",
       "2                                 10.070913   \n",
       "3                                  9.970366   \n",
       "4                                  9.925709   \n",
       "\n",
       "   secondary_cleaner.state.floatbank5_a_level  \\\n",
       "0                                 -498.310211   \n",
       "1                                 -500.169983   \n",
       "2                                 -500.129135   \n",
       "3                                 -499.201640   \n",
       "4                                 -501.686727   \n",
       "\n",
       "   secondary_cleaner.state.floatbank5_b_air  \\\n",
       "0                                  8.079666   \n",
       "1                                  7.984757   \n",
       "2                                  8.013877   \n",
       "3                                  7.977324   \n",
       "4                                  7.894242   \n",
       "\n",
       "   secondary_cleaner.state.floatbank5_b_level  \\\n",
       "0                                 -500.470978   \n",
       "1                                 -500.582168   \n",
       "2                                 -500.517572   \n",
       "3                                 -500.255908   \n",
       "4                                 -500.356035   \n",
       "\n",
       "   secondary_cleaner.state.floatbank6_a_air  \\\n",
       "0                                 14.151341   \n",
       "1                                 13.998353   \n",
       "2                                 14.028663   \n",
       "3                                 14.005551   \n",
       "4                                 13.996647   \n",
       "\n",
       "   secondary_cleaner.state.floatbank6_a_level  \n",
       "0                                 -605.841980  \n",
       "1                                 -599.787184  \n",
       "2                                 -601.427363  \n",
       "3                                 -599.996129  \n",
       "4                                 -601.496691  \n",
       "\n",
       "[5 rows x 87 columns]"
      ]
     },
     "execution_count": 9,
     "metadata": {},
     "output_type": "execute_result"
    }
   ],
   "source": [
    "df_full.head()"
   ]
  },
  {
   "cell_type": "code",
   "execution_count": 10,
   "metadata": {
    "scrolled": true
   },
   "outputs": [
    {
     "data": {
      "text/html": [
       "<div>\n",
       "<style scoped>\n",
       "    .dataframe tbody tr th:only-of-type {\n",
       "        vertical-align: middle;\n",
       "    }\n",
       "\n",
       "    .dataframe tbody tr th {\n",
       "        vertical-align: top;\n",
       "    }\n",
       "\n",
       "    .dataframe thead th {\n",
       "        text-align: right;\n",
       "    }\n",
       "</style>\n",
       "<table border=\"1\" class=\"dataframe\">\n",
       "  <thead>\n",
       "    <tr style=\"text-align: right;\">\n",
       "      <th></th>\n",
       "      <th>count</th>\n",
       "      <th>mean</th>\n",
       "      <th>std</th>\n",
       "      <th>min</th>\n",
       "      <th>25%</th>\n",
       "      <th>50%</th>\n",
       "      <th>75%</th>\n",
       "      <th>max</th>\n",
       "    </tr>\n",
       "  </thead>\n",
       "  <tbody>\n",
       "    <tr>\n",
       "      <th>final.output.concentrate_ag</th>\n",
       "      <td>19438.0</td>\n",
       "      <td>5.168470</td>\n",
       "      <td>1.372348</td>\n",
       "      <td>0.000000</td>\n",
       "      <td>4.251240</td>\n",
       "      <td>5.066094</td>\n",
       "      <td>5.895527</td>\n",
       "      <td>16.001945</td>\n",
       "    </tr>\n",
       "    <tr>\n",
       "      <th>final.output.concentrate_pb</th>\n",
       "      <td>19438.0</td>\n",
       "      <td>9.978895</td>\n",
       "      <td>1.669240</td>\n",
       "      <td>0.000000</td>\n",
       "      <td>9.137262</td>\n",
       "      <td>10.102433</td>\n",
       "      <td>11.035769</td>\n",
       "      <td>17.031899</td>\n",
       "    </tr>\n",
       "    <tr>\n",
       "      <th>final.output.concentrate_sol</th>\n",
       "      <td>19228.0</td>\n",
       "      <td>9.501224</td>\n",
       "      <td>2.787537</td>\n",
       "      <td>0.000000</td>\n",
       "      <td>7.722820</td>\n",
       "      <td>9.218961</td>\n",
       "      <td>10.947813</td>\n",
       "      <td>19.615720</td>\n",
       "    </tr>\n",
       "    <tr>\n",
       "      <th>final.output.concentrate_au</th>\n",
       "      <td>19439.0</td>\n",
       "      <td>44.076513</td>\n",
       "      <td>5.129784</td>\n",
       "      <td>0.000000</td>\n",
       "      <td>43.402215</td>\n",
       "      <td>45.011244</td>\n",
       "      <td>46.275313</td>\n",
       "      <td>52.756638</td>\n",
       "    </tr>\n",
       "    <tr>\n",
       "      <th>final.output.recovery</th>\n",
       "      <td>19439.0</td>\n",
       "      <td>67.050208</td>\n",
       "      <td>10.125840</td>\n",
       "      <td>0.000000</td>\n",
       "      <td>63.299712</td>\n",
       "      <td>68.172738</td>\n",
       "      <td>72.686642</td>\n",
       "      <td>100.000000</td>\n",
       "    </tr>\n",
       "    <tr>\n",
       "      <th>...</th>\n",
       "      <td>...</td>\n",
       "      <td>...</td>\n",
       "      <td>...</td>\n",
       "      <td>...</td>\n",
       "      <td>...</td>\n",
       "      <td>...</td>\n",
       "      <td>...</td>\n",
       "      <td>...</td>\n",
       "    </tr>\n",
       "    <tr>\n",
       "      <th>secondary_cleaner.state.floatbank5_a_level</th>\n",
       "      <td>19438.0</td>\n",
       "      <td>-488.684065</td>\n",
       "      <td>34.533396</td>\n",
       "      <td>-797.323986</td>\n",
       "      <td>-500.458467</td>\n",
       "      <td>-499.802605</td>\n",
       "      <td>-498.384187</td>\n",
       "      <td>-244.483566</td>\n",
       "    </tr>\n",
       "    <tr>\n",
       "      <th>secondary_cleaner.state.floatbank5_b_air</th>\n",
       "      <td>19438.0</td>\n",
       "      <td>12.198224</td>\n",
       "      <td>5.333024</td>\n",
       "      <td>0.528083</td>\n",
       "      <td>8.971105</td>\n",
       "      <td>11.019433</td>\n",
       "      <td>14.019088</td>\n",
       "      <td>27.926001</td>\n",
       "    </tr>\n",
       "    <tr>\n",
       "      <th>secondary_cleaner.state.floatbank5_b_level</th>\n",
       "      <td>19438.0</td>\n",
       "      <td>-487.149827</td>\n",
       "      <td>38.347312</td>\n",
       "      <td>-800.220337</td>\n",
       "      <td>-500.129462</td>\n",
       "      <td>-499.935317</td>\n",
       "      <td>-499.436708</td>\n",
       "      <td>-137.740004</td>\n",
       "    </tr>\n",
       "    <tr>\n",
       "      <th>secondary_cleaner.state.floatbank6_a_air</th>\n",
       "      <td>19437.0</td>\n",
       "      <td>18.959024</td>\n",
       "      <td>5.550498</td>\n",
       "      <td>-0.079426</td>\n",
       "      <td>14.983037</td>\n",
       "      <td>19.960541</td>\n",
       "      <td>24.003170</td>\n",
       "      <td>32.188906</td>\n",
       "    </tr>\n",
       "    <tr>\n",
       "      <th>secondary_cleaner.state.floatbank6_a_level</th>\n",
       "      <td>19438.0</td>\n",
       "      <td>-505.436305</td>\n",
       "      <td>37.689057</td>\n",
       "      <td>-809.741464</td>\n",
       "      <td>-500.728067</td>\n",
       "      <td>-500.048400</td>\n",
       "      <td>-499.495378</td>\n",
       "      <td>-104.427459</td>\n",
       "    </tr>\n",
       "  </tbody>\n",
       "</table>\n",
       "<p>86 rows × 8 columns</p>\n",
       "</div>"
      ],
      "text/plain": [
       "                                              count        mean        std  \\\n",
       "final.output.concentrate_ag                 19438.0    5.168470   1.372348   \n",
       "final.output.concentrate_pb                 19438.0    9.978895   1.669240   \n",
       "final.output.concentrate_sol                19228.0    9.501224   2.787537   \n",
       "final.output.concentrate_au                 19439.0   44.076513   5.129784   \n",
       "final.output.recovery                       19439.0   67.050208  10.125840   \n",
       "...                                             ...         ...        ...   \n",
       "secondary_cleaner.state.floatbank5_a_level  19438.0 -488.684065  34.533396   \n",
       "secondary_cleaner.state.floatbank5_b_air    19438.0   12.198224   5.333024   \n",
       "secondary_cleaner.state.floatbank5_b_level  19438.0 -487.149827  38.347312   \n",
       "secondary_cleaner.state.floatbank6_a_air    19437.0   18.959024   5.550498   \n",
       "secondary_cleaner.state.floatbank6_a_level  19438.0 -505.436305  37.689057   \n",
       "\n",
       "                                                   min         25%  \\\n",
       "final.output.concentrate_ag                   0.000000    4.251240   \n",
       "final.output.concentrate_pb                   0.000000    9.137262   \n",
       "final.output.concentrate_sol                  0.000000    7.722820   \n",
       "final.output.concentrate_au                   0.000000   43.402215   \n",
       "final.output.recovery                         0.000000   63.299712   \n",
       "...                                                ...         ...   \n",
       "secondary_cleaner.state.floatbank5_a_level -797.323986 -500.458467   \n",
       "secondary_cleaner.state.floatbank5_b_air      0.528083    8.971105   \n",
       "secondary_cleaner.state.floatbank5_b_level -800.220337 -500.129462   \n",
       "secondary_cleaner.state.floatbank6_a_air     -0.079426   14.983037   \n",
       "secondary_cleaner.state.floatbank6_a_level -809.741464 -500.728067   \n",
       "\n",
       "                                                   50%         75%         max  \n",
       "final.output.concentrate_ag                   5.066094    5.895527   16.001945  \n",
       "final.output.concentrate_pb                  10.102433   11.035769   17.031899  \n",
       "final.output.concentrate_sol                  9.218961   10.947813   19.615720  \n",
       "final.output.concentrate_au                  45.011244   46.275313   52.756638  \n",
       "final.output.recovery                        68.172738   72.686642  100.000000  \n",
       "...                                                ...         ...         ...  \n",
       "secondary_cleaner.state.floatbank5_a_level -499.802605 -498.384187 -244.483566  \n",
       "secondary_cleaner.state.floatbank5_b_air     11.019433   14.019088   27.926001  \n",
       "secondary_cleaner.state.floatbank5_b_level -499.935317 -499.436708 -137.740004  \n",
       "secondary_cleaner.state.floatbank6_a_air     19.960541   24.003170   32.188906  \n",
       "secondary_cleaner.state.floatbank6_a_level -500.048400 -499.495378 -104.427459  \n",
       "\n",
       "[86 rows x 8 columns]"
      ]
     },
     "execution_count": 10,
     "metadata": {},
     "output_type": "execute_result"
    }
   ],
   "source": [
    "df_full.describe().T"
   ]
  },
  {
   "cell_type": "markdown",
   "metadata": {},
   "source": [
    "### Обработка дубликатов"
   ]
  },
  {
   "cell_type": "markdown",
   "metadata": {},
   "source": [
    "Проверим данные на дубликаты до обработки пропусков."
   ]
  },
  {
   "cell_type": "code",
   "execution_count": 11,
   "metadata": {},
   "outputs": [
    {
     "data": {
      "text/plain": [
       "0"
      ]
     },
     "execution_count": 11,
     "metadata": {},
     "output_type": "execute_result"
    }
   ],
   "source": [
    "df_train.duplicated().sum()"
   ]
  },
  {
   "cell_type": "code",
   "execution_count": 12,
   "metadata": {},
   "outputs": [
    {
     "data": {
      "text/plain": [
       "0"
      ]
     },
     "execution_count": 12,
     "metadata": {},
     "output_type": "execute_result"
    }
   ],
   "source": [
    "df_test.duplicated().sum()"
   ]
  },
  {
   "cell_type": "code",
   "execution_count": 13,
   "metadata": {},
   "outputs": [
    {
     "data": {
      "text/plain": [
       "0"
      ]
     },
     "execution_count": 13,
     "metadata": {},
     "output_type": "execute_result"
    }
   ],
   "source": [
    "df_full.duplicated().sum()"
   ]
  },
  {
   "cell_type": "markdown",
   "metadata": {},
   "source": [
    "Явных дубликатов нет. Проверим скрытые по столбцу даты."
   ]
  },
  {
   "cell_type": "code",
   "execution_count": 14,
   "metadata": {},
   "outputs": [
    {
     "data": {
      "text/plain": [
       "0"
      ]
     },
     "execution_count": 14,
     "metadata": {},
     "output_type": "execute_result"
    }
   ],
   "source": [
    "df_train.duplicated(subset=['date']).sum()"
   ]
  },
  {
   "cell_type": "code",
   "execution_count": 15,
   "metadata": {},
   "outputs": [
    {
     "data": {
      "text/plain": [
       "0"
      ]
     },
     "execution_count": 15,
     "metadata": {},
     "output_type": "execute_result"
    }
   ],
   "source": [
    "df_test.duplicated(subset=['date']).sum()"
   ]
  },
  {
   "cell_type": "code",
   "execution_count": 16,
   "metadata": {},
   "outputs": [
    {
     "data": {
      "text/plain": [
       "0"
      ]
     },
     "execution_count": 16,
     "metadata": {},
     "output_type": "execute_result"
    }
   ],
   "source": [
    "df_full.duplicated(subset=['date']).sum()"
   ]
  },
  {
   "cell_type": "markdown",
   "metadata": {},
   "source": [
    "Скрытые дубликаты не выявлены."
   ]
  },
  {
   "cell_type": "markdown",
   "metadata": {},
   "source": [
    "### Проверка расчета эффективности обогащения"
   ]
  },
  {
   "attachments": {
    "Recovery_1576238822.jpg": {
     "image/jpeg": "[encoded data removed]"
    }
   },
   "cell_type": "markdown",
   "metadata": {},
   "source": [
    "![Recovery_1576238822.jpg](attachment:Recovery_1576238822.jpg)"
   ]
  },
  {
   "cell_type": "markdown",
   "metadata": {},
   "source": [
    "где:  \n",
    "C — доля золота в концентрате после флотации/очистки;  \n",
    "F — доля золота в сырье/концентрате до флотации/очистки;  \n",
    "T — доля золота в отвальных хвостах после флотации/очистки.  \n",
    "\n",
    "Для прогноза коэффициента нужно найти долю золота в концентратах и хвостах. Причём важен не только финальный продукт, но и черновой концентрат."
   ]
  },
  {
   "cell_type": "markdown",
   "metadata": {},
   "source": [
    "Проверим расчет показателей Recovery (эффективность обогащения): rougher.output.recovery (после флотации) и final.output.recovery (финальная эффективность обогащения). Исходим из вышеприведенной формулы расчета показателя.  \n",
    "При этом, \n",
    "- С - rougher.output.concentrate_au и final.output.concentrate_au соответственно;\n",
    "- Т - rougher.output.tail_au и final.output.tail_au соответственно;\n",
    "- F - rougher.input.feed_au (доля в сырье до флотации) - начальная доля золота в сырье для расчета обоих показателей эффективности обогащения.\n",
    "\n",
    "Напишем функцию."
   ]
  },
  {
   "cell_type": "code",
   "execution_count": 17,
   "metadata": {},
   "outputs": [],
   "source": [
    "def calculate_recovery(feed_au_ratio, concentrate_au_ratio, tail_au_ratio):\n",
    "    recovery = ((concentrate_au_ratio * (feed_au_ratio - tail_au_ratio)) / \n",
    "                (feed_au_ratio * (concentrate_au_ratio - tail_au_ratio))) * 100\n",
    "    return recovery"
   ]
  },
  {
   "cell_type": "code",
   "execution_count": 18,
   "metadata": {},
   "outputs": [],
   "source": [
    "rougher_recovery_calc = calculate_recovery(\n",
    "    df_train['rougher.input.feed_au'], df_train['rougher.output.concentrate_au'], df_train['rougher.output.tail_au'])"
   ]
  },
  {
   "cell_type": "code",
   "execution_count": 19,
   "metadata": {
    "scrolled": true
   },
   "outputs": [
    {
     "data": {
      "text/plain": [
       "0        87.107763\n",
       "1        86.843261\n",
       "2        86.842308\n",
       "3        87.226430\n",
       "4        86.688794\n",
       "           ...    \n",
       "14144    89.574376\n",
       "14145    87.724007\n",
       "14146    88.890579\n",
       "14147    89.858126\n",
       "14148    89.514960\n",
       "Length: 14149, dtype: float64"
      ]
     },
     "execution_count": 19,
     "metadata": {},
     "output_type": "execute_result"
    }
   ],
   "source": [
    "rougher_recovery_calc"
   ]
  },
  {
   "cell_type": "code",
   "execution_count": 20,
   "metadata": {},
   "outputs": [
    {
     "data": {
      "text/plain": [
       "9.73512347450521e-15"
      ]
     },
     "execution_count": 20,
     "metadata": {},
     "output_type": "execute_result"
    }
   ],
   "source": [
    "mae = mean_absolute_error(df_train['rougher.output.recovery'], rougher_recovery_calc)\n",
    "mae"
   ]
  },
  {
   "cell_type": "markdown",
   "metadata": {},
   "source": [
    "MAE равно 0,00000000000974 при среднем значении эффективности обогащения в обучающей выборке 19.439958 после флотации. Делаем вывод - расчет эффективности обогащения после флотации в обучающей выборке верен."
   ]
  },
  {
   "cell_type": "code",
   "execution_count": 21,
   "metadata": {},
   "outputs": [],
   "source": [
    "final_recovery_calc = calculate_recovery(\n",
    "    df_train['rougher.input.feed_au'], df_train['final.output.concentrate_au'], df_train['final.output.tail_au'])"
   ]
  },
  {
   "cell_type": "code",
   "execution_count": 22,
   "metadata": {
    "scrolled": true
   },
   "outputs": [
    {
     "data": {
      "text/plain": [
       "0        70.541216\n",
       "1        69.266198\n",
       "2        68.116445\n",
       "3        68.347543\n",
       "4        66.927016\n",
       "           ...    \n",
       "14144    73.755150\n",
       "14145    69.049291\n",
       "14146    67.002189\n",
       "14147    65.523246\n",
       "14148    70.281454\n",
       "Length: 14149, dtype: float64"
      ]
     },
     "execution_count": 22,
     "metadata": {},
     "output_type": "execute_result"
    }
   ],
   "source": [
    "final_recovery_calc"
   ]
  },
  {
   "cell_type": "code",
   "execution_count": 23,
   "metadata": {},
   "outputs": [
    {
     "data": {
      "text/plain": [
       "8.538049763979541e-15"
      ]
     },
     "execution_count": 23,
     "metadata": {},
     "output_type": "execute_result"
    }
   ],
   "source": [
    "mae = mean_absolute_error(df_train['final.output.recovery'], final_recovery_calc)\n",
    "mae"
   ]
  },
  {
   "cell_type": "markdown",
   "metadata": {},
   "source": [
    "MAE равно 0,00000000000854 при среднем значении эффективности обогащения в обучающей выборке 44.003792 после очистки. Делаем вывод - расчет эффективности обогащения после очистки в обучающей выборке верен."
   ]
  },
  {
   "cell_type": "markdown",
   "metadata": {},
   "source": [
    "### Различия тестовой и обучающей выборки"
   ]
  },
  {
   "cell_type": "markdown",
   "metadata": {},
   "source": [
    "Посмотрим каких признаков не хватает в тестовой выборке."
   ]
  },
  {
   "cell_type": "code",
   "execution_count": 24,
   "metadata": {
    "scrolled": true
   },
   "outputs": [
    {
     "data": {
      "text/plain": [
       "['final.output.concentrate_ag',\n",
       " 'final.output.concentrate_pb',\n",
       " 'final.output.concentrate_sol',\n",
       " 'final.output.concentrate_au',\n",
       " 'final.output.recovery',\n",
       " 'final.output.tail_ag',\n",
       " 'final.output.tail_pb',\n",
       " 'final.output.tail_sol',\n",
       " 'final.output.tail_au',\n",
       " 'primary_cleaner.output.concentrate_ag',\n",
       " 'primary_cleaner.output.concentrate_pb',\n",
       " 'primary_cleaner.output.concentrate_sol',\n",
       " 'primary_cleaner.output.concentrate_au',\n",
       " 'primary_cleaner.output.tail_ag',\n",
       " 'primary_cleaner.output.tail_pb',\n",
       " 'primary_cleaner.output.tail_sol',\n",
       " 'primary_cleaner.output.tail_au',\n",
       " 'rougher.calculation.sulfate_to_au_concentrate',\n",
       " 'rougher.calculation.floatbank10_sulfate_to_au_feed',\n",
       " 'rougher.calculation.floatbank11_sulfate_to_au_feed',\n",
       " 'rougher.calculation.au_pb_ratio',\n",
       " 'rougher.output.concentrate_ag',\n",
       " 'rougher.output.concentrate_pb',\n",
       " 'rougher.output.concentrate_sol',\n",
       " 'rougher.output.concentrate_au',\n",
       " 'rougher.output.recovery',\n",
       " 'rougher.output.tail_ag',\n",
       " 'rougher.output.tail_pb',\n",
       " 'rougher.output.tail_sol',\n",
       " 'rougher.output.tail_au',\n",
       " 'secondary_cleaner.output.tail_ag',\n",
       " 'secondary_cleaner.output.tail_pb',\n",
       " 'secondary_cleaner.output.tail_sol',\n",
       " 'secondary_cleaner.output.tail_au']"
      ]
     },
     "execution_count": 24,
     "metadata": {},
     "output_type": "execute_result"
    }
   ],
   "source": [
    "features_not_in_test = []\n",
    "for column in df_train.columns:\n",
    "    if column not in df_test.columns:\n",
    "        features_not_in_test.append(column)\n",
    "        \n",
    "features_not_in_test"
   ]
  },
  {
   "cell_type": "markdown",
   "metadata": {},
   "source": [
    "Проанализируйте признаки, недоступные в тестовой выборке. Что это за параметры? К какому типу относятся?\n"
   ]
  },
  {
   "cell_type": "markdown",
   "metadata": {},
   "source": [
    "Итак, в тестовой выборке отсутствуют 34 признака, которые есть в обучающей выборке и исходных данных. Это данные:\n",
    "- о содержании металлов и солей в концентрате и хвостах после флотации;\n",
    "- о содержании металлов и солей в концентрате и хвостах после первой очистки;\n",
    "- о содержании металлов и солей в хвостах после второй очистки;\n",
    "- об эффективности обогащения после флотации и итоговой (целевые признаки);\n",
    "- расчетные данные для этапа флотации  ('rougher.calculation.sulfate_to_au_concentrate', 'rougher.calculation.floatbank10_sulfate_to_au_feed', 'rougher.calculation.floatbank11_sulfate_to_au_feed',  'rougher.calculation.au_pb_ratio').\n",
    "По условиям задачи некоторые параметры недоступны, потому что замеряются и/или рассчитываются значительно позже. Из-за этого в тестовой выборке отсутствуют некоторые признаки, которые есть в обучающей.   \n",
    "Судя по данным параметры содержания металлов и солей в хвостах и концентрате, расчетные данные - все они получены позднее и в тестовой выборке их нет. Как и значений целевых признаков, что понятно.\n",
    "\n",
    "Таким образом, для обучения модели необходимо удалить признаки в обучающей выборке, которых нет в тестовой, за исключением целевых. Так модель не будет строить лишних взаимосвязей, ведь на тот момент времени, когда необходимо предсказать эффективность обогащения, эти признаки еще отсутствуют (не замерены и не рассчитаны)."
   ]
  },
  {
   "cell_type": "code",
   "execution_count": 25,
   "metadata": {
    "scrolled": true
   },
   "outputs": [
    {
     "name": "stdout",
     "output_type": "stream",
     "text": [
      "<class 'pandas.core.frame.DataFrame'>\n",
      "RangeIndex: 14149 entries, 0 to 14148\n",
      "Data columns (total 55 columns):\n",
      " #   Column                                      Non-Null Count  Dtype  \n",
      "---  ------                                      --------------  -----  \n",
      " 0   date                                        14149 non-null  object \n",
      " 1   final.output.recovery                       14149 non-null  float64\n",
      " 2   primary_cleaner.input.sulfate               14129 non-null  float64\n",
      " 3   primary_cleaner.input.depressant            14117 non-null  float64\n",
      " 4   primary_cleaner.input.feed_size             14149 non-null  float64\n",
      " 5   primary_cleaner.input.xanthate              14049 non-null  float64\n",
      " 6   primary_cleaner.state.floatbank8_a_air      14145 non-null  float64\n",
      " 7   primary_cleaner.state.floatbank8_a_level    14148 non-null  float64\n",
      " 8   primary_cleaner.state.floatbank8_b_air      14145 non-null  float64\n",
      " 9   primary_cleaner.state.floatbank8_b_level    14148 non-null  float64\n",
      " 10  primary_cleaner.state.floatbank8_c_air      14147 non-null  float64\n",
      " 11  primary_cleaner.state.floatbank8_c_level    14148 non-null  float64\n",
      " 12  primary_cleaner.state.floatbank8_d_air      14146 non-null  float64\n",
      " 13  primary_cleaner.state.floatbank8_d_level    14148 non-null  float64\n",
      " 14  rougher.input.feed_ag                       14149 non-null  float64\n",
      " 15  rougher.input.feed_pb                       14049 non-null  float64\n",
      " 16  rougher.input.feed_rate                     14141 non-null  float64\n",
      " 17  rougher.input.feed_size                     14005 non-null  float64\n",
      " 18  rougher.input.feed_sol                      14071 non-null  float64\n",
      " 19  rougher.input.feed_au                       14149 non-null  float64\n",
      " 20  rougher.input.floatbank10_sulfate           14120 non-null  float64\n",
      " 21  rougher.input.floatbank10_xanthate          14141 non-null  float64\n",
      " 22  rougher.input.floatbank11_sulfate           14113 non-null  float64\n",
      " 23  rougher.input.floatbank11_xanthate          13721 non-null  float64\n",
      " 24  rougher.output.recovery                     14149 non-null  float64\n",
      " 25  rougher.state.floatbank10_a_air             14148 non-null  float64\n",
      " 26  rougher.state.floatbank10_a_level           14148 non-null  float64\n",
      " 27  rougher.state.floatbank10_b_air             14148 non-null  float64\n",
      " 28  rougher.state.floatbank10_b_level           14148 non-null  float64\n",
      " 29  rougher.state.floatbank10_c_air             14148 non-null  float64\n",
      " 30  rougher.state.floatbank10_c_level           14148 non-null  float64\n",
      " 31  rougher.state.floatbank10_d_air             14149 non-null  float64\n",
      " 32  rougher.state.floatbank10_d_level           14149 non-null  float64\n",
      " 33  rougher.state.floatbank10_e_air             13713 non-null  float64\n",
      " 34  rougher.state.floatbank10_e_level           14149 non-null  float64\n",
      " 35  rougher.state.floatbank10_f_air             14149 non-null  float64\n",
      " 36  rougher.state.floatbank10_f_level           14149 non-null  float64\n",
      " 37  secondary_cleaner.state.floatbank2_a_air    13932 non-null  float64\n",
      " 38  secondary_cleaner.state.floatbank2_a_level  14148 non-null  float64\n",
      " 39  secondary_cleaner.state.floatbank2_b_air    14128 non-null  float64\n",
      " 40  secondary_cleaner.state.floatbank2_b_level  14148 non-null  float64\n",
      " 41  secondary_cleaner.state.floatbank3_a_air    14145 non-null  float64\n",
      " 42  secondary_cleaner.state.floatbank3_a_level  14148 non-null  float64\n",
      " 43  secondary_cleaner.state.floatbank3_b_air    14148 non-null  float64\n",
      " 44  secondary_cleaner.state.floatbank3_b_level  14148 non-null  float64\n",
      " 45  secondary_cleaner.state.floatbank4_a_air    14143 non-null  float64\n",
      " 46  secondary_cleaner.state.floatbank4_a_level  14148 non-null  float64\n",
      " 47  secondary_cleaner.state.floatbank4_b_air    14148 non-null  float64\n",
      " 48  secondary_cleaner.state.floatbank4_b_level  14148 non-null  float64\n",
      " 49  secondary_cleaner.state.floatbank5_a_air    14148 non-null  float64\n",
      " 50  secondary_cleaner.state.floatbank5_a_level  14148 non-null  float64\n",
      " 51  secondary_cleaner.state.floatbank5_b_air    14148 non-null  float64\n",
      " 52  secondary_cleaner.state.floatbank5_b_level  14148 non-null  float64\n",
      " 53  secondary_cleaner.state.floatbank6_a_air    14147 non-null  float64\n",
      " 54  secondary_cleaner.state.floatbank6_a_level  14148 non-null  float64\n",
      "dtypes: float64(54), object(1)\n",
      "memory usage: 5.9+ MB\n"
     ]
    }
   ],
   "source": [
    "features_not_in_test.remove('final.output.recovery')\n",
    "features_not_in_test.remove('rougher.output.recovery')\n",
    "df_train_ready = df_train.drop(features_not_in_test, axis = 1)\n",
    "df_train_ready.info()"
   ]
  },
  {
   "cell_type": "markdown",
   "metadata": {},
   "source": [
    "### Обработка пропусков"
   ]
  },
  {
   "cell_type": "markdown",
   "metadata": {},
   "source": [
    "По условиям задачи данные индексируются датой и временем получения информации (признак date). Соседние по времени параметры часто похожи. В связи с этим для обработки пропусков применим метод заполнения ближайшими имеющимися (более ранними) значениями. Заполним пропуски в обучающей и тестовой выборке."
   ]
  },
  {
   "cell_type": "code",
   "execution_count": 26,
   "metadata": {
    "scrolled": true
   },
   "outputs": [
    {
     "data": {
      "text/plain": [
       "date                                            0\n",
       "final.output.recovery                           0\n",
       "primary_cleaner.input.sulfate                  20\n",
       "primary_cleaner.input.depressant               32\n",
       "primary_cleaner.input.feed_size                 0\n",
       "primary_cleaner.input.xanthate                100\n",
       "primary_cleaner.state.floatbank8_a_air          4\n",
       "primary_cleaner.state.floatbank8_a_level        1\n",
       "primary_cleaner.state.floatbank8_b_air          4\n",
       "primary_cleaner.state.floatbank8_b_level        1\n",
       "primary_cleaner.state.floatbank8_c_air          2\n",
       "primary_cleaner.state.floatbank8_c_level        1\n",
       "primary_cleaner.state.floatbank8_d_air          3\n",
       "primary_cleaner.state.floatbank8_d_level        1\n",
       "rougher.input.feed_ag                           0\n",
       "rougher.input.feed_pb                         100\n",
       "rougher.input.feed_rate                         8\n",
       "rougher.input.feed_size                       144\n",
       "rougher.input.feed_sol                         78\n",
       "rougher.input.feed_au                           0\n",
       "rougher.input.floatbank10_sulfate              29\n",
       "rougher.input.floatbank10_xanthate              8\n",
       "rougher.input.floatbank11_sulfate              36\n",
       "rougher.input.floatbank11_xanthate            428\n",
       "rougher.output.recovery                         0\n",
       "rougher.state.floatbank10_a_air                 1\n",
       "rougher.state.floatbank10_a_level               1\n",
       "rougher.state.floatbank10_b_air                 1\n",
       "rougher.state.floatbank10_b_level               1\n",
       "rougher.state.floatbank10_c_air                 1\n",
       "rougher.state.floatbank10_c_level               1\n",
       "rougher.state.floatbank10_d_air                 0\n",
       "rougher.state.floatbank10_d_level               0\n",
       "rougher.state.floatbank10_e_air               436\n",
       "rougher.state.floatbank10_e_level               0\n",
       "rougher.state.floatbank10_f_air                 0\n",
       "rougher.state.floatbank10_f_level               0\n",
       "secondary_cleaner.state.floatbank2_a_air      217\n",
       "secondary_cleaner.state.floatbank2_a_level      1\n",
       "secondary_cleaner.state.floatbank2_b_air       21\n",
       "secondary_cleaner.state.floatbank2_b_level      1\n",
       "secondary_cleaner.state.floatbank3_a_air        4\n",
       "secondary_cleaner.state.floatbank3_a_level      1\n",
       "secondary_cleaner.state.floatbank3_b_air        1\n",
       "secondary_cleaner.state.floatbank3_b_level      1\n",
       "secondary_cleaner.state.floatbank4_a_air        6\n",
       "secondary_cleaner.state.floatbank4_a_level      1\n",
       "secondary_cleaner.state.floatbank4_b_air        1\n",
       "secondary_cleaner.state.floatbank4_b_level      1\n",
       "secondary_cleaner.state.floatbank5_a_air        1\n",
       "secondary_cleaner.state.floatbank5_a_level      1\n",
       "secondary_cleaner.state.floatbank5_b_air        1\n",
       "secondary_cleaner.state.floatbank5_b_level      1\n",
       "secondary_cleaner.state.floatbank6_a_air        2\n",
       "secondary_cleaner.state.floatbank6_a_level      1\n",
       "dtype: int64"
      ]
     },
     "execution_count": 26,
     "metadata": {},
     "output_type": "execute_result"
    }
   ],
   "source": [
    "df_train_ready.isna().sum()"
   ]
  },
  {
   "cell_type": "code",
   "execution_count": 27,
   "metadata": {},
   "outputs": [],
   "source": [
    "df_train_ready = df_train_ready.fillna(method='ffill')"
   ]
  },
  {
   "cell_type": "code",
   "execution_count": 28,
   "metadata": {
    "scrolled": true
   },
   "outputs": [
    {
     "data": {
      "text/plain": [
       "date                                          0\n",
       "final.output.recovery                         0\n",
       "primary_cleaner.input.sulfate                 0\n",
       "primary_cleaner.input.depressant              0\n",
       "primary_cleaner.input.feed_size               0\n",
       "primary_cleaner.input.xanthate                0\n",
       "primary_cleaner.state.floatbank8_a_air        0\n",
       "primary_cleaner.state.floatbank8_a_level      0\n",
       "primary_cleaner.state.floatbank8_b_air        0\n",
       "primary_cleaner.state.floatbank8_b_level      0\n",
       "primary_cleaner.state.floatbank8_c_air        0\n",
       "primary_cleaner.state.floatbank8_c_level      0\n",
       "primary_cleaner.state.floatbank8_d_air        0\n",
       "primary_cleaner.state.floatbank8_d_level      0\n",
       "rougher.input.feed_ag                         0\n",
       "rougher.input.feed_pb                         0\n",
       "rougher.input.feed_rate                       0\n",
       "rougher.input.feed_size                       0\n",
       "rougher.input.feed_sol                        0\n",
       "rougher.input.feed_au                         0\n",
       "rougher.input.floatbank10_sulfate             0\n",
       "rougher.input.floatbank10_xanthate            0\n",
       "rougher.input.floatbank11_sulfate             0\n",
       "rougher.input.floatbank11_xanthate            0\n",
       "rougher.output.recovery                       0\n",
       "rougher.state.floatbank10_a_air               0\n",
       "rougher.state.floatbank10_a_level             0\n",
       "rougher.state.floatbank10_b_air               0\n",
       "rougher.state.floatbank10_b_level             0\n",
       "rougher.state.floatbank10_c_air               0\n",
       "rougher.state.floatbank10_c_level             0\n",
       "rougher.state.floatbank10_d_air               0\n",
       "rougher.state.floatbank10_d_level             0\n",
       "rougher.state.floatbank10_e_air               0\n",
       "rougher.state.floatbank10_e_level             0\n",
       "rougher.state.floatbank10_f_air               0\n",
       "rougher.state.floatbank10_f_level             0\n",
       "secondary_cleaner.state.floatbank2_a_air      0\n",
       "secondary_cleaner.state.floatbank2_a_level    0\n",
       "secondary_cleaner.state.floatbank2_b_air      0\n",
       "secondary_cleaner.state.floatbank2_b_level    0\n",
       "secondary_cleaner.state.floatbank3_a_air      0\n",
       "secondary_cleaner.state.floatbank3_a_level    0\n",
       "secondary_cleaner.state.floatbank3_b_air      0\n",
       "secondary_cleaner.state.floatbank3_b_level    0\n",
       "secondary_cleaner.state.floatbank4_a_air      0\n",
       "secondary_cleaner.state.floatbank4_a_level    0\n",
       "secondary_cleaner.state.floatbank4_b_air      0\n",
       "secondary_cleaner.state.floatbank4_b_level    0\n",
       "secondary_cleaner.state.floatbank5_a_air      0\n",
       "secondary_cleaner.state.floatbank5_a_level    0\n",
       "secondary_cleaner.state.floatbank5_b_air      0\n",
       "secondary_cleaner.state.floatbank5_b_level    0\n",
       "secondary_cleaner.state.floatbank6_a_air      0\n",
       "secondary_cleaner.state.floatbank6_a_level    0\n",
       "dtype: int64"
      ]
     },
     "execution_count": 28,
     "metadata": {},
     "output_type": "execute_result"
    }
   ],
   "source": [
    "df_train_ready.isna().sum()"
   ]
  },
  {
   "cell_type": "code",
   "execution_count": 29,
   "metadata": {
    "scrolled": true
   },
   "outputs": [
    {
     "data": {
      "text/plain": [
       "date                                           0\n",
       "primary_cleaner.input.sulfate                  4\n",
       "primary_cleaner.input.depressant               5\n",
       "primary_cleaner.input.feed_size                0\n",
       "primary_cleaner.input.xanthate                 4\n",
       "primary_cleaner.state.floatbank8_a_air         0\n",
       "primary_cleaner.state.floatbank8_a_level       0\n",
       "primary_cleaner.state.floatbank8_b_air         0\n",
       "primary_cleaner.state.floatbank8_b_level       0\n",
       "primary_cleaner.state.floatbank8_c_air         0\n",
       "primary_cleaner.state.floatbank8_c_level       0\n",
       "primary_cleaner.state.floatbank8_d_air         0\n",
       "primary_cleaner.state.floatbank8_d_level       0\n",
       "rougher.input.feed_ag                          0\n",
       "rougher.input.feed_pb                          0\n",
       "rougher.input.feed_rate                        3\n",
       "rougher.input.feed_size                        1\n",
       "rougher.input.feed_sol                        21\n",
       "rougher.input.feed_au                          0\n",
       "rougher.input.floatbank10_sulfate              5\n",
       "rougher.input.floatbank10_xanthate             0\n",
       "rougher.input.floatbank11_sulfate              8\n",
       "rougher.input.floatbank11_xanthate            25\n",
       "rougher.state.floatbank10_a_air                0\n",
       "rougher.state.floatbank10_a_level              0\n",
       "rougher.state.floatbank10_b_air                0\n",
       "rougher.state.floatbank10_b_level              0\n",
       "rougher.state.floatbank10_c_air                0\n",
       "rougher.state.floatbank10_c_level              0\n",
       "rougher.state.floatbank10_d_air                0\n",
       "rougher.state.floatbank10_d_level              0\n",
       "rougher.state.floatbank10_e_air                0\n",
       "rougher.state.floatbank10_e_level              0\n",
       "rougher.state.floatbank10_f_air                0\n",
       "rougher.state.floatbank10_f_level              0\n",
       "secondary_cleaner.state.floatbank2_a_air       3\n",
       "secondary_cleaner.state.floatbank2_a_level     0\n",
       "secondary_cleaner.state.floatbank2_b_air       2\n",
       "secondary_cleaner.state.floatbank2_b_level     0\n",
       "secondary_cleaner.state.floatbank3_a_air       9\n",
       "secondary_cleaner.state.floatbank3_a_level     0\n",
       "secondary_cleaner.state.floatbank3_b_air       0\n",
       "secondary_cleaner.state.floatbank3_b_level     0\n",
       "secondary_cleaner.state.floatbank4_a_air       0\n",
       "secondary_cleaner.state.floatbank4_a_level     0\n",
       "secondary_cleaner.state.floatbank4_b_air       0\n",
       "secondary_cleaner.state.floatbank4_b_level     0\n",
       "secondary_cleaner.state.floatbank5_a_air       0\n",
       "secondary_cleaner.state.floatbank5_a_level     0\n",
       "secondary_cleaner.state.floatbank5_b_air       0\n",
       "secondary_cleaner.state.floatbank5_b_level     0\n",
       "secondary_cleaner.state.floatbank6_a_air       0\n",
       "secondary_cleaner.state.floatbank6_a_level     0\n",
       "dtype: int64"
      ]
     },
     "execution_count": 29,
     "metadata": {},
     "output_type": "execute_result"
    }
   ],
   "source": [
    "df_test.isna().sum()"
   ]
  },
  {
   "cell_type": "code",
   "execution_count": 30,
   "metadata": {},
   "outputs": [],
   "source": [
    "df_test_ready = df_test.fillna(method='ffill')"
   ]
  },
  {
   "cell_type": "code",
   "execution_count": 31,
   "metadata": {
    "scrolled": false
   },
   "outputs": [
    {
     "data": {
      "text/plain": [
       "date                                          0\n",
       "primary_cleaner.input.sulfate                 0\n",
       "primary_cleaner.input.depressant              0\n",
       "primary_cleaner.input.feed_size               0\n",
       "primary_cleaner.input.xanthate                0\n",
       "primary_cleaner.state.floatbank8_a_air        0\n",
       "primary_cleaner.state.floatbank8_a_level      0\n",
       "primary_cleaner.state.floatbank8_b_air        0\n",
       "primary_cleaner.state.floatbank8_b_level      0\n",
       "primary_cleaner.state.floatbank8_c_air        0\n",
       "primary_cleaner.state.floatbank8_c_level      0\n",
       "primary_cleaner.state.floatbank8_d_air        0\n",
       "primary_cleaner.state.floatbank8_d_level      0\n",
       "rougher.input.feed_ag                         0\n",
       "rougher.input.feed_pb                         0\n",
       "rougher.input.feed_rate                       0\n",
       "rougher.input.feed_size                       0\n",
       "rougher.input.feed_sol                        0\n",
       "rougher.input.feed_au                         0\n",
       "rougher.input.floatbank10_sulfate             0\n",
       "rougher.input.floatbank10_xanthate            0\n",
       "rougher.input.floatbank11_sulfate             0\n",
       "rougher.input.floatbank11_xanthate            0\n",
       "rougher.state.floatbank10_a_air               0\n",
       "rougher.state.floatbank10_a_level             0\n",
       "rougher.state.floatbank10_b_air               0\n",
       "rougher.state.floatbank10_b_level             0\n",
       "rougher.state.floatbank10_c_air               0\n",
       "rougher.state.floatbank10_c_level             0\n",
       "rougher.state.floatbank10_d_air               0\n",
       "rougher.state.floatbank10_d_level             0\n",
       "rougher.state.floatbank10_e_air               0\n",
       "rougher.state.floatbank10_e_level             0\n",
       "rougher.state.floatbank10_f_air               0\n",
       "rougher.state.floatbank10_f_level             0\n",
       "secondary_cleaner.state.floatbank2_a_air      0\n",
       "secondary_cleaner.state.floatbank2_a_level    0\n",
       "secondary_cleaner.state.floatbank2_b_air      0\n",
       "secondary_cleaner.state.floatbank2_b_level    0\n",
       "secondary_cleaner.state.floatbank3_a_air      0\n",
       "secondary_cleaner.state.floatbank3_a_level    0\n",
       "secondary_cleaner.state.floatbank3_b_air      0\n",
       "secondary_cleaner.state.floatbank3_b_level    0\n",
       "secondary_cleaner.state.floatbank4_a_air      0\n",
       "secondary_cleaner.state.floatbank4_a_level    0\n",
       "secondary_cleaner.state.floatbank4_b_air      0\n",
       "secondary_cleaner.state.floatbank4_b_level    0\n",
       "secondary_cleaner.state.floatbank5_a_air      0\n",
       "secondary_cleaner.state.floatbank5_a_level    0\n",
       "secondary_cleaner.state.floatbank5_b_air      0\n",
       "secondary_cleaner.state.floatbank5_b_level    0\n",
       "secondary_cleaner.state.floatbank6_a_air      0\n",
       "secondary_cleaner.state.floatbank6_a_level    0\n",
       "dtype: int64"
      ]
     },
     "execution_count": 31,
     "metadata": {},
     "output_type": "execute_result"
    }
   ],
   "source": [
    "df_test_ready.isna().sum()"
   ]
  },
  {
   "cell_type": "markdown",
   "metadata": {},
   "source": [
    "## Анализ данных"
   ]
  },
  {
   "cell_type": "code",
   "execution_count": null,
   "metadata": {},
   "outputs": [],
   "source": []
  },
  {
   "cell_type": "markdown",
   "metadata": {},
   "source": [
    "### Изменение концентрации металлов (Au, Ag, Pb) на различных этапах очистки"
   ]
  },
  {
   "cell_type": "markdown",
   "metadata": {},
   "source": [
    "Посмотрим, как меняется концентрация металлов (Au, Ag, Pb) на различных этапах очистки."
   ]
  },
  {
   "cell_type": "code",
   "execution_count": 32,
   "metadata": {
    "scrolled": true
   },
   "outputs": [
    {
     "name": "stdout",
     "output_type": "stream",
     "text": [
      "<class 'pandas.core.frame.DataFrame'>\n",
      "RangeIndex: 19439 entries, 0 to 19438\n",
      "Data columns (total 12 columns):\n",
      " #   Column                                 Non-Null Count  Dtype  \n",
      "---  ------                                 --------------  -----  \n",
      " 0   rougher.input.feed_au                  19439 non-null  float64\n",
      " 1   rougher.input.feed_ag                  19439 non-null  float64\n",
      " 2   rougher.input.feed_pb                  19339 non-null  float64\n",
      " 3   rougher.output.concentrate_au          19439 non-null  float64\n",
      " 4   rougher.output.concentrate_ag          19439 non-null  float64\n",
      " 5   rougher.output.concentrate_pb          19439 non-null  float64\n",
      " 6   primary_cleaner.output.concentrate_au  19439 non-null  float64\n",
      " 7   primary_cleaner.output.concentrate_ag  19439 non-null  float64\n",
      " 8   primary_cleaner.output.concentrate_pb  19323 non-null  float64\n",
      " 9   final.output.concentrate_au            19439 non-null  float64\n",
      " 10  final.output.concentrate_ag            19438 non-null  float64\n",
      " 11  final.output.concentrate_pb            19438 non-null  float64\n",
      "dtypes: float64(12)\n",
      "memory usage: 1.8 MB\n"
     ]
    }
   ],
   "source": [
    "metals_conc = df_full[['rougher.input.feed_au', 'rougher.input.feed_ag', 'rougher.input.feed_pb', \n",
    "                      'rougher.output.concentrate_au', 'rougher.output.concentrate_ag', 'rougher.output.concentrate_pb', \n",
    "                      'primary_cleaner.output.concentrate_au', 'primary_cleaner.output.concentrate_ag', \n",
    "                      'primary_cleaner.output.concentrate_pb', 'final.output.concentrate_au', \n",
    "                      'final.output.concentrate_ag', 'final.output.concentrate_pb']]\n",
    "metals_conc.info()"
   ]
  },
  {
   "cell_type": "code",
   "execution_count": 33,
   "metadata": {
    "scrolled": false
   },
   "outputs": [
    {
     "data": {
      "image/png": "[encoded data removed]",
      "text/plain": [
       "<Figure size 1440x1152 with 12 Axes>"
      ]
     },
     "metadata": {},
     "output_type": "display_data"
    }
   ],
   "source": [
    "plt.style.use(\"fivethirtyeight\")\n",
    "ax = metals_conc.hist(bins=50, figsize=(20, 16))"
   ]
  },
  {
   "cell_type": "code",
   "execution_count": 34,
   "metadata": {
    "scrolled": true
   },
   "outputs": [
    {
     "data": {
      "text/html": [
       "<div>\n",
       "<style scoped>\n",
       "    .dataframe tbody tr th:only-of-type {\n",
       "        vertical-align: middle;\n",
       "    }\n",
       "\n",
       "    .dataframe tbody tr th {\n",
       "        vertical-align: top;\n",
       "    }\n",
       "\n",
       "    .dataframe thead th {\n",
       "        text-align: right;\n",
       "    }\n",
       "</style>\n",
       "<table border=\"1\" class=\"dataframe\">\n",
       "  <thead>\n",
       "    <tr style=\"text-align: right;\">\n",
       "      <th></th>\n",
       "      <th>count</th>\n",
       "      <th>mean</th>\n",
       "      <th>std</th>\n",
       "      <th>min</th>\n",
       "      <th>25%</th>\n",
       "      <th>50%</th>\n",
       "      <th>75%</th>\n",
       "      <th>max</th>\n",
       "    </tr>\n",
       "  </thead>\n",
       "  <tbody>\n",
       "    <tr>\n",
       "      <th>rougher.input.feed_au</th>\n",
       "      <td>19439.0</td>\n",
       "      <td>8.266097</td>\n",
       "      <td>1.955092</td>\n",
       "      <td>0.01</td>\n",
       "      <td>6.854384</td>\n",
       "      <td>8.125839</td>\n",
       "      <td>9.769917</td>\n",
       "      <td>13.731330</td>\n",
       "    </tr>\n",
       "    <tr>\n",
       "      <th>rougher.input.feed_ag</th>\n",
       "      <td>19439.0</td>\n",
       "      <td>8.794927</td>\n",
       "      <td>1.936847</td>\n",
       "      <td>0.01</td>\n",
       "      <td>7.237967</td>\n",
       "      <td>8.593574</td>\n",
       "      <td>10.213771</td>\n",
       "      <td>14.596026</td>\n",
       "    </tr>\n",
       "    <tr>\n",
       "      <th>rougher.input.feed_pb</th>\n",
       "      <td>19339.0</td>\n",
       "      <td>3.598085</td>\n",
       "      <td>1.049486</td>\n",
       "      <td>0.01</td>\n",
       "      <td>2.887280</td>\n",
       "      <td>3.534895</td>\n",
       "      <td>4.244161</td>\n",
       "      <td>7.142594</td>\n",
       "    </tr>\n",
       "    <tr>\n",
       "      <th>rougher.output.concentrate_au</th>\n",
       "      <td>19439.0</td>\n",
       "      <td>19.772000</td>\n",
       "      <td>3.753600</td>\n",
       "      <td>0.00</td>\n",
       "      <td>18.802523</td>\n",
       "      <td>20.280214</td>\n",
       "      <td>21.717843</td>\n",
       "      <td>28.824507</td>\n",
       "    </tr>\n",
       "    <tr>\n",
       "      <th>rougher.output.concentrate_ag</th>\n",
       "      <td>19439.0</td>\n",
       "      <td>11.994759</td>\n",
       "      <td>2.733862</td>\n",
       "      <td>0.00</td>\n",
       "      <td>10.628337</td>\n",
       "      <td>12.098115</td>\n",
       "      <td>13.736996</td>\n",
       "      <td>24.480271</td>\n",
       "    </tr>\n",
       "    <tr>\n",
       "      <th>rougher.output.concentrate_pb</th>\n",
       "      <td>19439.0</td>\n",
       "      <td>7.606272</td>\n",
       "      <td>1.796757</td>\n",
       "      <td>0.00</td>\n",
       "      <td>6.725987</td>\n",
       "      <td>7.742580</td>\n",
       "      <td>8.565199</td>\n",
       "      <td>13.617072</td>\n",
       "    </tr>\n",
       "    <tr>\n",
       "      <th>primary_cleaner.output.concentrate_au</th>\n",
       "      <td>19439.0</td>\n",
       "      <td>32.119400</td>\n",
       "      <td>5.627611</td>\n",
       "      <td>0.00</td>\n",
       "      <td>30.463140</td>\n",
       "      <td>32.841295</td>\n",
       "      <td>35.048006</td>\n",
       "      <td>45.933934</td>\n",
       "    </tr>\n",
       "    <tr>\n",
       "      <th>primary_cleaner.output.concentrate_ag</th>\n",
       "      <td>19439.0</td>\n",
       "      <td>8.442408</td>\n",
       "      <td>2.054465</td>\n",
       "      <td>0.00</td>\n",
       "      <td>7.263288</td>\n",
       "      <td>8.507298</td>\n",
       "      <td>9.809001</td>\n",
       "      <td>16.081632</td>\n",
       "    </tr>\n",
       "    <tr>\n",
       "      <th>primary_cleaner.output.concentrate_pb</th>\n",
       "      <td>19323.0</td>\n",
       "      <td>9.829530</td>\n",
       "      <td>2.556843</td>\n",
       "      <td>0.00</td>\n",
       "      <td>8.702328</td>\n",
       "      <td>10.152433</td>\n",
       "      <td>11.424971</td>\n",
       "      <td>17.081278</td>\n",
       "    </tr>\n",
       "    <tr>\n",
       "      <th>final.output.concentrate_au</th>\n",
       "      <td>19439.0</td>\n",
       "      <td>44.076513</td>\n",
       "      <td>5.129784</td>\n",
       "      <td>0.00</td>\n",
       "      <td>43.402215</td>\n",
       "      <td>45.011244</td>\n",
       "      <td>46.275313</td>\n",
       "      <td>52.756638</td>\n",
       "    </tr>\n",
       "    <tr>\n",
       "      <th>final.output.concentrate_ag</th>\n",
       "      <td>19438.0</td>\n",
       "      <td>5.168470</td>\n",
       "      <td>1.372348</td>\n",
       "      <td>0.00</td>\n",
       "      <td>4.251240</td>\n",
       "      <td>5.066094</td>\n",
       "      <td>5.895527</td>\n",
       "      <td>16.001945</td>\n",
       "    </tr>\n",
       "    <tr>\n",
       "      <th>final.output.concentrate_pb</th>\n",
       "      <td>19438.0</td>\n",
       "      <td>9.978895</td>\n",
       "      <td>1.669240</td>\n",
       "      <td>0.00</td>\n",
       "      <td>9.137262</td>\n",
       "      <td>10.102433</td>\n",
       "      <td>11.035769</td>\n",
       "      <td>17.031899</td>\n",
       "    </tr>\n",
       "  </tbody>\n",
       "</table>\n",
       "</div>"
      ],
      "text/plain": [
       "                                         count       mean       std   min  \\\n",
       "rougher.input.feed_au                  19439.0   8.266097  1.955092  0.01   \n",
       "rougher.input.feed_ag                  19439.0   8.794927  1.936847  0.01   \n",
       "rougher.input.feed_pb                  19339.0   3.598085  1.049486  0.01   \n",
       "rougher.output.concentrate_au          19439.0  19.772000  3.753600  0.00   \n",
       "rougher.output.concentrate_ag          19439.0  11.994759  2.733862  0.00   \n",
       "rougher.output.concentrate_pb          19439.0   7.606272  1.796757  0.00   \n",
       "primary_cleaner.output.concentrate_au  19439.0  32.119400  5.627611  0.00   \n",
       "primary_cleaner.output.concentrate_ag  19439.0   8.442408  2.054465  0.00   \n",
       "primary_cleaner.output.concentrate_pb  19323.0   9.829530  2.556843  0.00   \n",
       "final.output.concentrate_au            19439.0  44.076513  5.129784  0.00   \n",
       "final.output.concentrate_ag            19438.0   5.168470  1.372348  0.00   \n",
       "final.output.concentrate_pb            19438.0   9.978895  1.669240  0.00   \n",
       "\n",
       "                                             25%        50%        75%  \\\n",
       "rougher.input.feed_au                   6.854384   8.125839   9.769917   \n",
       "rougher.input.feed_ag                   7.237967   8.593574  10.213771   \n",
       "rougher.input.feed_pb                   2.887280   3.534895   4.244161   \n",
       "rougher.output.concentrate_au          18.802523  20.280214  21.717843   \n",
       "rougher.output.concentrate_ag          10.628337  12.098115  13.736996   \n",
       "rougher.output.concentrate_pb           6.725987   7.742580   8.565199   \n",
       "primary_cleaner.output.concentrate_au  30.463140  32.841295  35.048006   \n",
       "primary_cleaner.output.concentrate_ag   7.263288   8.507298   9.809001   \n",
       "primary_cleaner.output.concentrate_pb   8.702328  10.152433  11.424971   \n",
       "final.output.concentrate_au            43.402215  45.011244  46.275313   \n",
       "final.output.concentrate_ag             4.251240   5.066094   5.895527   \n",
       "final.output.concentrate_pb             9.137262  10.102433  11.035769   \n",
       "\n",
       "                                             max  \n",
       "rougher.input.feed_au                  13.731330  \n",
       "rougher.input.feed_ag                  14.596026  \n",
       "rougher.input.feed_pb                   7.142594  \n",
       "rougher.output.concentrate_au          28.824507  \n",
       "rougher.output.concentrate_ag          24.480271  \n",
       "rougher.output.concentrate_pb          13.617072  \n",
       "primary_cleaner.output.concentrate_au  45.933934  \n",
       "primary_cleaner.output.concentrate_ag  16.081632  \n",
       "primary_cleaner.output.concentrate_pb  17.081278  \n",
       "final.output.concentrate_au            52.756638  \n",
       "final.output.concentrate_ag            16.001945  \n",
       "final.output.concentrate_pb            17.031899  "
      ]
     },
     "execution_count": 34,
     "metadata": {},
     "output_type": "execute_result"
    }
   ],
   "source": [
    "metals_conc.describe().T"
   ]
  },
  {
   "cell_type": "markdown",
   "metadata": {},
   "source": [
    "Концентрация золота как целевого металла растет очень заметно от этапа к этапу (среднее): сырье/флотация/первая очистка/финальный реультат - 8,2/19,8/32,1/44,1. Распределение становится также более \"кучным\", разброс сокращается.  \n",
    "Средняя концентрация сеербра растет после флотации, но падает после очисток. Очевидно таков технологический процесс, что попутный металл не слишком важен.  \n",
    "Средняя концентрация свинца растет, но не слишком сильно.  \n",
    "Основной рост концентрации для свинца и рост для серебра происходит во время флотации, очистка оказывает на эти металлы разное действие - концетрация серебра падает, концентрация свинца медленно растет.  \n",
    "\n",
    "На гистограммах хорошо видны множество нулевых значений, которые выбиваются из распределения. Можно предположить, что это ошибка измерений. Но в обучающей и тестовой выборках этих признаков нет."
   ]
  },
  {
   "cell_type": "markdown",
   "metadata": {},
   "source": [
    "### Распределение размеров гранул сырья"
   ]
  },
  {
   "cell_type": "markdown",
   "metadata": {},
   "source": [
    "Сравним распределения размеров гранул сырья на обучающей и тестовой выборках. По условиям, если распределения сильно отличаются друг от друга, оценка модели будет неправильной.  "
   ]
  },
  {
   "cell_type": "code",
   "execution_count": 35,
   "metadata": {
    "scrolled": true
   },
   "outputs": [
    {
     "data": {
      "image/png": "[encoded data removed]",
      "text/plain": [
       "<Figure size 1440x360 with 1 Axes>"
      ]
     },
     "metadata": {},
     "output_type": "display_data"
    }
   ],
   "source": [
    "plt.style.use(\"fivethirtyeight\")\n",
    "ax = df_train_ready['rougher.input.feed_size'].hist(bins=100, figsize=(20, 5), density=True)\n",
    "ax = df_test_ready['rougher.input.feed_size'].hist(bins=100, figsize=(20, 5), density=True, alpha=0.5)"
   ]
  },
  {
   "cell_type": "code",
   "execution_count": 36,
   "metadata": {
    "scrolled": true
   },
   "outputs": [
    {
     "data": {
      "text/plain": [
       "count    14149.000000\n",
       "mean        60.239856\n",
       "std         23.005310\n",
       "min          9.659576\n",
       "25%         48.966751\n",
       "50%         55.269784\n",
       "75%         66.007526\n",
       "max        484.967466\n",
       "Name: rougher.input.feed_size, dtype: float64"
      ]
     },
     "execution_count": 36,
     "metadata": {},
     "output_type": "execute_result"
    }
   ],
   "source": [
    "df_train_ready['rougher.input.feed_size'].describe()"
   ]
  },
  {
   "cell_type": "code",
   "execution_count": 37,
   "metadata": {},
   "outputs": [
    {
     "data": {
      "text/plain": [
       "count    5290.000000\n",
       "mean       55.952754\n",
       "std        19.080334\n",
       "min         0.046369\n",
       "25%        43.906504\n",
       "50%        50.846843\n",
       "75%        62.451165\n",
       "max       392.494040\n",
       "Name: rougher.input.feed_size, dtype: float64"
      ]
     },
     "execution_count": 37,
     "metadata": {},
     "output_type": "execute_result"
    }
   ],
   "source": [
    "df_test_ready['rougher.input.feed_size'].describe()"
   ]
  },
  {
   "cell_type": "code",
   "execution_count": 38,
   "metadata": {
    "scrolled": false
   },
   "outputs": [
    {
     "data": {
      "image/png": "[encoded data removed]",
      "text/plain": [
       "<Figure size 1440x720 with 2 Axes>"
      ]
     },
     "metadata": {},
     "output_type": "display_data"
    }
   ],
   "source": [
    "plt.style.use(\"fivethirtyeight\")\n",
    "fig, axs = plt.subplots(nrows=1, ncols=2, figsize=(20, 10))\n",
    "\n",
    "axs[0].boxplot(df_train_ready['rougher.input.feed_size'])\n",
    "axs[0].set_title('Обучающая выборка')\n",
    "\n",
    "axs[1].boxplot(df_test_ready['rougher.input.feed_size'])\n",
    "axs[1].set_title('Тестовая выборка')\n",
    "\n",
    "plt.show()"
   ]
  },
  {
   "cell_type": "markdown",
   "metadata": {},
   "source": [
    "Распределения визуально имеют схожую форму, средние и медианы различаются, но не кардинально (для обучающей и тестовой выборок соответственно: среднее 60 и 56; медиана 55 и 51). "
   ]
  },
  {
   "cell_type": "markdown",
   "metadata": {},
   "source": [
    "<font color='blue'><b>Комментарий ревьюера: </b></font> ✔️\\\n",
    "<font color='green'> Вывод верный!</font>"
   ]
  },
  {
   "cell_type": "markdown",
   "metadata": {},
   "source": [
    "### Суммарная концентрация всех веществ на разных стадиях"
   ]
  },
  {
   "cell_type": "markdown",
   "metadata": {},
   "source": [
    "Посмотрим как меняется суммарная концентрация всех металлов на разных стадиях: в сырье, в черновом и финальном концентратах."
   ]
  },
  {
   "cell_type": "code",
   "execution_count": 39,
   "metadata": {
    "scrolled": true
   },
   "outputs": [
    {
     "name": "stdout",
     "output_type": "stream",
     "text": [
      "<class 'pandas.core.frame.DataFrame'>\n",
      "RangeIndex: 19439 entries, 0 to 19438\n",
      "Data columns (total 16 columns):\n",
      " #   Column                                  Non-Null Count  Dtype  \n",
      "---  ------                                  --------------  -----  \n",
      " 0   rougher.input.feed_au                   19439 non-null  float64\n",
      " 1   rougher.input.feed_ag                   19439 non-null  float64\n",
      " 2   rougher.input.feed_pb                   19339 non-null  float64\n",
      " 3   rougher.output.concentrate_au           19439 non-null  float64\n",
      " 4   rougher.output.concentrate_ag           19439 non-null  float64\n",
      " 5   rougher.output.concentrate_pb           19439 non-null  float64\n",
      " 6   primary_cleaner.output.concentrate_au   19439 non-null  float64\n",
      " 7   primary_cleaner.output.concentrate_ag   19439 non-null  float64\n",
      " 8   primary_cleaner.output.concentrate_pb   19323 non-null  float64\n",
      " 9   final.output.concentrate_au             19439 non-null  float64\n",
      " 10  final.output.concentrate_ag             19438 non-null  float64\n",
      " 11  final.output.concentrate_pb             19438 non-null  float64\n",
      " 12  rougher.input.feed_all                  19339 non-null  float64\n",
      " 13  rougher.output.concentrate_all          19439 non-null  float64\n",
      " 14  primary_cleaner.output.concentrate_all  19323 non-null  float64\n",
      " 15  final.output.concentrate_all            19438 non-null  float64\n",
      "dtypes: float64(16)\n",
      "memory usage: 2.4 MB\n"
     ]
    },
    {
     "name": "stderr",
     "output_type": "stream",
     "text": [
      "/tmp/ipykernel_261/3653832499.py:1: SettingWithCopyWarning: \n",
      "A value is trying to be set on a copy of a slice from a DataFrame.\n",
      "Try using .loc[row_indexer,col_indexer] = value instead\n",
      "\n",
      "See the caveats in the documentation: https://pandas.pydata.org/pandas-docs/stable/user_guide/indexing.html#returning-a-view-versus-a-copy\n",
      "  metals_conc['rougher.input.feed_all'] = (metals_conc.loc[:, 'rougher.input.feed_au']\n",
      "/tmp/ipykernel_261/3653832499.py:4: SettingWithCopyWarning: \n",
      "A value is trying to be set on a copy of a slice from a DataFrame.\n",
      "Try using .loc[row_indexer,col_indexer] = value instead\n",
      "\n",
      "See the caveats in the documentation: https://pandas.pydata.org/pandas-docs/stable/user_guide/indexing.html#returning-a-view-versus-a-copy\n",
      "  metals_conc['rougher.output.concentrate_all'] = (metals_conc.loc[:, 'rougher.output.concentrate_au']\n",
      "/tmp/ipykernel_261/3653832499.py:7: SettingWithCopyWarning: \n",
      "A value is trying to be set on a copy of a slice from a DataFrame.\n",
      "Try using .loc[row_indexer,col_indexer] = value instead\n",
      "\n",
      "See the caveats in the documentation: https://pandas.pydata.org/pandas-docs/stable/user_guide/indexing.html#returning-a-view-versus-a-copy\n",
      "  metals_conc['primary_cleaner.output.concentrate_all'] = (metals_conc.loc[:, 'primary_cleaner.output.concentrate_au']\n",
      "/tmp/ipykernel_261/3653832499.py:10: SettingWithCopyWarning: \n",
      "A value is trying to be set on a copy of a slice from a DataFrame.\n",
      "Try using .loc[row_indexer,col_indexer] = value instead\n",
      "\n",
      "See the caveats in the documentation: https://pandas.pydata.org/pandas-docs/stable/user_guide/indexing.html#returning-a-view-versus-a-copy\n",
      "  metals_conc['final.output.concentrate_all'] = (metals_conc.loc[:, 'final.output.concentrate_au']\n"
     ]
    }
   ],
   "source": [
    "metals_conc['rougher.input.feed_all'] = (metals_conc.loc[:, 'rougher.input.feed_au'] \n",
    "                                       + metals_conc.loc[:, 'rougher.input.feed_ag'] \n",
    "                                       + metals_conc.loc[:, 'rougher.input.feed_pb'])\n",
    "metals_conc['rougher.output.concentrate_all'] = (metals_conc.loc[:, 'rougher.output.concentrate_au'] \n",
    "                                       + metals_conc.loc[:, 'rougher.output.concentrate_ag'] \n",
    "                                       + metals_conc.loc[:, 'rougher.output.concentrate_pb'])\n",
    "metals_conc['primary_cleaner.output.concentrate_all'] = (metals_conc.loc[:, 'primary_cleaner.output.concentrate_au'] \n",
    "                                       + metals_conc.loc[:, 'primary_cleaner.output.concentrate_ag'] \n",
    "                                       + metals_conc.loc[:, 'primary_cleaner.output.concentrate_pb'])\n",
    "metals_conc['final.output.concentrate_all'] = (metals_conc.loc[:, 'final.output.concentrate_au'] \n",
    "                                       + metals_conc.loc[:, 'final.output.concentrate_ag'] \n",
    "                                       + metals_conc.loc[:, 'final.output.concentrate_pb'])\n",
    "metals_conc.info()"
   ]
  },
  {
   "cell_type": "code",
   "execution_count": 40,
   "metadata": {
    "scrolled": false
   },
   "outputs": [
    {
     "data": {
      "image/png": "[encoded data removed]",
      "text/plain": [
       "<Figure size 1440x360 with 4 Axes>"
      ]
     },
     "metadata": {},
     "output_type": "display_data"
    }
   ],
   "source": [
    "plt.style.use(\"fivethirtyeight\")\n",
    "fig, axs = plt.subplots(nrows=1, ncols=4, figsize=(20, 5))\n",
    "\n",
    "axs[0].hist(metals_conc['rougher.input.feed_all'], bins=50)\n",
    "axs[0].set_title('Сырье')\n",
    "\n",
    "axs[1].hist(metals_conc['rougher.output.concentrate_all'], bins=50)\n",
    "axs[1].set_title('Флотация')\n",
    "\n",
    "axs[2].hist(metals_conc['primary_cleaner.output.concentrate_all'], bins=50)\n",
    "axs[2].set_title('Первая очистка')\n",
    "\n",
    "axs[3].hist(metals_conc['final.output.concentrate_all'], bins=50)\n",
    "axs[3].set_title('Финал')\n",
    "\n",
    "plt.show()"
   ]
  },
  {
   "cell_type": "code",
   "execution_count": 41,
   "metadata": {},
   "outputs": [
    {
     "data": {
      "text/html": [
       "<div>\n",
       "<style scoped>\n",
       "    .dataframe tbody tr th:only-of-type {\n",
       "        vertical-align: middle;\n",
       "    }\n",
       "\n",
       "    .dataframe tbody tr th {\n",
       "        vertical-align: top;\n",
       "    }\n",
       "\n",
       "    .dataframe thead th {\n",
       "        text-align: right;\n",
       "    }\n",
       "</style>\n",
       "<table border=\"1\" class=\"dataframe\">\n",
       "  <thead>\n",
       "    <tr style=\"text-align: right;\">\n",
       "      <th></th>\n",
       "      <th>count</th>\n",
       "      <th>mean</th>\n",
       "      <th>std</th>\n",
       "      <th>min</th>\n",
       "      <th>25%</th>\n",
       "      <th>50%</th>\n",
       "      <th>75%</th>\n",
       "      <th>max</th>\n",
       "    </tr>\n",
       "  </thead>\n",
       "  <tbody>\n",
       "    <tr>\n",
       "      <th>rougher.input.feed_all</th>\n",
       "      <td>19339.0</td>\n",
       "      <td>20.704124</td>\n",
       "      <td>4.417072</td>\n",
       "      <td>0.03</td>\n",
       "      <td>17.299416</td>\n",
       "      <td>20.185052</td>\n",
       "      <td>23.817098</td>\n",
       "      <td>33.498784</td>\n",
       "    </tr>\n",
       "    <tr>\n",
       "      <th>rougher.output.concentrate_all</th>\n",
       "      <td>19439.0</td>\n",
       "      <td>39.373032</td>\n",
       "      <td>6.863389</td>\n",
       "      <td>0.00</td>\n",
       "      <td>38.394639</td>\n",
       "      <td>40.312648</td>\n",
       "      <td>42.365102</td>\n",
       "      <td>55.568687</td>\n",
       "    </tr>\n",
       "    <tr>\n",
       "      <th>primary_cleaner.output.concentrate_all</th>\n",
       "      <td>19323.0</td>\n",
       "      <td>50.406418</td>\n",
       "      <td>7.603610</td>\n",
       "      <td>0.00</td>\n",
       "      <td>50.077105</td>\n",
       "      <td>51.922084</td>\n",
       "      <td>53.392840</td>\n",
       "      <td>60.269003</td>\n",
       "    </tr>\n",
       "    <tr>\n",
       "      <th>final.output.concentrate_all</th>\n",
       "      <td>19438.0</td>\n",
       "      <td>59.224653</td>\n",
       "      <td>6.093911</td>\n",
       "      <td>0.00</td>\n",
       "      <td>59.298674</td>\n",
       "      <td>60.307296</td>\n",
       "      <td>61.096690</td>\n",
       "      <td>64.968881</td>\n",
       "    </tr>\n",
       "  </tbody>\n",
       "</table>\n",
       "</div>"
      ],
      "text/plain": [
       "                                          count       mean       std   min  \\\n",
       "rougher.input.feed_all                  19339.0  20.704124  4.417072  0.03   \n",
       "rougher.output.concentrate_all          19439.0  39.373032  6.863389  0.00   \n",
       "primary_cleaner.output.concentrate_all  19323.0  50.406418  7.603610  0.00   \n",
       "final.output.concentrate_all            19438.0  59.224653  6.093911  0.00   \n",
       "\n",
       "                                              25%        50%        75%  \\\n",
       "rougher.input.feed_all                  17.299416  20.185052  23.817098   \n",
       "rougher.output.concentrate_all          38.394639  40.312648  42.365102   \n",
       "primary_cleaner.output.concentrate_all  50.077105  51.922084  53.392840   \n",
       "final.output.concentrate_all            59.298674  60.307296  61.096690   \n",
       "\n",
       "                                              max  \n",
       "rougher.input.feed_all                  33.498784  \n",
       "rougher.output.concentrate_all          55.568687  \n",
       "primary_cleaner.output.concentrate_all  60.269003  \n",
       "final.output.concentrate_all            64.968881  "
      ]
     },
     "execution_count": 41,
     "metadata": {},
     "output_type": "execute_result"
    }
   ],
   "source": [
    "metals_conc[['rougher.input.feed_all', 'rougher.output.concentrate_all', \n",
    "                          'primary_cleaner.output.concentrate_all', \n",
    "                          'final.output.concentrate_all']].describe().T"
   ]
  },
  {
   "cell_type": "markdown",
   "metadata": {},
   "source": [
    "Концентрация всех металлов растет очень заметно от этапа к этапу, разброс сокращается.  \n",
    "Основной рост концентрации для всех металлов происходит во время флотации.  \n",
    "В соответствии с анализом изменения концентрации металлов по отдельности, рост концентрации всех металлов происходит в основном за счет золота.\n",
    "\n",
    "На гистограммах хорошо видны множество нулевых значений, которые выбиваются из распределения. Можно предположить, что это ошибка измерений, как и в случае с отдельными металлвами."
   ]
  },
  {
   "cell_type": "markdown",
   "metadata": {},
   "source": [
    "## Модель"
   ]
  },
  {
   "cell_type": "markdown",
   "metadata": {},
   "source": [
    "### Разделение выборок"
   ]
  },
  {
   "cell_type": "code",
   "execution_count": 42,
   "metadata": {},
   "outputs": [
    {
     "name": "stdout",
     "output_type": "stream",
     "text": [
      "<class 'pandas.core.frame.DataFrame'>\n",
      "RangeIndex: 14149 entries, 0 to 14148\n",
      "Data columns (total 2 columns):\n",
      " #   Column                   Non-Null Count  Dtype  \n",
      "---  ------                   --------------  -----  \n",
      " 0   rougher.output.recovery  14149 non-null  float64\n",
      " 1   final.output.recovery    14149 non-null  float64\n",
      "dtypes: float64(2)\n",
      "memory usage: 221.2 KB\n"
     ]
    }
   ],
   "source": [
    "targets_train = df_train_ready[['rougher.output.recovery', 'final.output.recovery']]\n",
    "features_train = df_train_ready.drop(['rougher.output.recovery', 'final.output.recovery', 'date'], axis=1)\n",
    "targets_train.info()"
   ]
  },
  {
   "cell_type": "code",
   "execution_count": 43,
   "metadata": {},
   "outputs": [
    {
     "data": {
      "text/html": [
       "<div>\n",
       "<style scoped>\n",
       "    .dataframe tbody tr th:only-of-type {\n",
       "        vertical-align: middle;\n",
       "    }\n",
       "\n",
       "    .dataframe tbody tr th {\n",
       "        vertical-align: top;\n",
       "    }\n",
       "\n",
       "    .dataframe thead th {\n",
       "        text-align: right;\n",
       "    }\n",
       "</style>\n",
       "<table border=\"1\" class=\"dataframe\">\n",
       "  <thead>\n",
       "    <tr style=\"text-align: right;\">\n",
       "      <th></th>\n",
       "      <th>rougher.output.recovery</th>\n",
       "      <th>final.output.recovery</th>\n",
       "    </tr>\n",
       "  </thead>\n",
       "  <tbody>\n",
       "    <tr>\n",
       "      <th>0</th>\n",
       "      <td>87.107763</td>\n",
       "      <td>70.541216</td>\n",
       "    </tr>\n",
       "    <tr>\n",
       "      <th>1</th>\n",
       "      <td>86.843261</td>\n",
       "      <td>69.266198</td>\n",
       "    </tr>\n",
       "    <tr>\n",
       "      <th>2</th>\n",
       "      <td>86.842308</td>\n",
       "      <td>68.116445</td>\n",
       "    </tr>\n",
       "    <tr>\n",
       "      <th>3</th>\n",
       "      <td>87.226430</td>\n",
       "      <td>68.347543</td>\n",
       "    </tr>\n",
       "    <tr>\n",
       "      <th>4</th>\n",
       "      <td>86.688794</td>\n",
       "      <td>66.927016</td>\n",
       "    </tr>\n",
       "  </tbody>\n",
       "</table>\n",
       "</div>"
      ],
      "text/plain": [
       "   rougher.output.recovery  final.output.recovery\n",
       "0                87.107763              70.541216\n",
       "1                86.843261              69.266198\n",
       "2                86.842308              68.116445\n",
       "3                87.226430              68.347543\n",
       "4                86.688794              66.927016"
      ]
     },
     "execution_count": 43,
     "metadata": {},
     "output_type": "execute_result"
    }
   ],
   "source": [
    "targets_train.head()"
   ]
  },
  {
   "cell_type": "code",
   "execution_count": 44,
   "metadata": {},
   "outputs": [
    {
     "data": {
      "text/html": [
       "<div>\n",
       "<style scoped>\n",
       "    .dataframe tbody tr th:only-of-type {\n",
       "        vertical-align: middle;\n",
       "    }\n",
       "\n",
       "    .dataframe tbody tr th {\n",
       "        vertical-align: top;\n",
       "    }\n",
       "\n",
       "    .dataframe thead th {\n",
       "        text-align: right;\n",
       "    }\n",
       "</style>\n",
       "<table border=\"1\" class=\"dataframe\">\n",
       "  <thead>\n",
       "    <tr style=\"text-align: right;\">\n",
       "      <th></th>\n",
       "      <th>primary_cleaner.input.sulfate</th>\n",
       "      <th>primary_cleaner.input.depressant</th>\n",
       "      <th>primary_cleaner.input.feed_size</th>\n",
       "      <th>primary_cleaner.input.xanthate</th>\n",
       "      <th>primary_cleaner.state.floatbank8_a_air</th>\n",
       "      <th>primary_cleaner.state.floatbank8_a_level</th>\n",
       "      <th>primary_cleaner.state.floatbank8_b_air</th>\n",
       "      <th>primary_cleaner.state.floatbank8_b_level</th>\n",
       "      <th>primary_cleaner.state.floatbank8_c_air</th>\n",
       "      <th>primary_cleaner.state.floatbank8_c_level</th>\n",
       "      <th>...</th>\n",
       "      <th>secondary_cleaner.state.floatbank4_a_air</th>\n",
       "      <th>secondary_cleaner.state.floatbank4_a_level</th>\n",
       "      <th>secondary_cleaner.state.floatbank4_b_air</th>\n",
       "      <th>secondary_cleaner.state.floatbank4_b_level</th>\n",
       "      <th>secondary_cleaner.state.floatbank5_a_air</th>\n",
       "      <th>secondary_cleaner.state.floatbank5_a_level</th>\n",
       "      <th>secondary_cleaner.state.floatbank5_b_air</th>\n",
       "      <th>secondary_cleaner.state.floatbank5_b_level</th>\n",
       "      <th>secondary_cleaner.state.floatbank6_a_air</th>\n",
       "      <th>secondary_cleaner.state.floatbank6_a_level</th>\n",
       "    </tr>\n",
       "  </thead>\n",
       "  <tbody>\n",
       "    <tr>\n",
       "      <th>0</th>\n",
       "      <td>127.092003</td>\n",
       "      <td>10.128295</td>\n",
       "      <td>7.25</td>\n",
       "      <td>0.988759</td>\n",
       "      <td>1549.775757</td>\n",
       "      <td>-498.912140</td>\n",
       "      <td>1551.434204</td>\n",
       "      <td>-516.403442</td>\n",
       "      <td>1549.873901</td>\n",
       "      <td>-498.666595</td>\n",
       "      <td>...</td>\n",
       "      <td>14.016835</td>\n",
       "      <td>-502.488007</td>\n",
       "      <td>12.099931</td>\n",
       "      <td>-504.715942</td>\n",
       "      <td>9.925633</td>\n",
       "      <td>-498.310211</td>\n",
       "      <td>8.079666</td>\n",
       "      <td>-500.470978</td>\n",
       "      <td>14.151341</td>\n",
       "      <td>-605.841980</td>\n",
       "    </tr>\n",
       "    <tr>\n",
       "      <th>1</th>\n",
       "      <td>125.629232</td>\n",
       "      <td>10.296251</td>\n",
       "      <td>7.25</td>\n",
       "      <td>1.002663</td>\n",
       "      <td>1576.166671</td>\n",
       "      <td>-500.904965</td>\n",
       "      <td>1575.950626</td>\n",
       "      <td>-499.865889</td>\n",
       "      <td>1575.994189</td>\n",
       "      <td>-499.315107</td>\n",
       "      <td>...</td>\n",
       "      <td>13.992281</td>\n",
       "      <td>-505.503262</td>\n",
       "      <td>11.950531</td>\n",
       "      <td>-501.331529</td>\n",
       "      <td>10.039245</td>\n",
       "      <td>-500.169983</td>\n",
       "      <td>7.984757</td>\n",
       "      <td>-500.582168</td>\n",
       "      <td>13.998353</td>\n",
       "      <td>-599.787184</td>\n",
       "    </tr>\n",
       "    <tr>\n",
       "      <th>2</th>\n",
       "      <td>123.819808</td>\n",
       "      <td>11.316280</td>\n",
       "      <td>7.25</td>\n",
       "      <td>0.991265</td>\n",
       "      <td>1601.556163</td>\n",
       "      <td>-499.997791</td>\n",
       "      <td>1600.386685</td>\n",
       "      <td>-500.607762</td>\n",
       "      <td>1602.003542</td>\n",
       "      <td>-500.870069</td>\n",
       "      <td>...</td>\n",
       "      <td>14.015015</td>\n",
       "      <td>-502.520901</td>\n",
       "      <td>11.912783</td>\n",
       "      <td>-501.133383</td>\n",
       "      <td>10.070913</td>\n",
       "      <td>-500.129135</td>\n",
       "      <td>8.013877</td>\n",
       "      <td>-500.517572</td>\n",
       "      <td>14.028663</td>\n",
       "      <td>-601.427363</td>\n",
       "    </tr>\n",
       "    <tr>\n",
       "      <th>3</th>\n",
       "      <td>122.270188</td>\n",
       "      <td>11.322140</td>\n",
       "      <td>7.25</td>\n",
       "      <td>0.996739</td>\n",
       "      <td>1599.968720</td>\n",
       "      <td>-500.951778</td>\n",
       "      <td>1600.659236</td>\n",
       "      <td>-499.677094</td>\n",
       "      <td>1600.304144</td>\n",
       "      <td>-500.727997</td>\n",
       "      <td>...</td>\n",
       "      <td>14.036510</td>\n",
       "      <td>-500.857308</td>\n",
       "      <td>11.999550</td>\n",
       "      <td>-501.193686</td>\n",
       "      <td>9.970366</td>\n",
       "      <td>-499.201640</td>\n",
       "      <td>7.977324</td>\n",
       "      <td>-500.255908</td>\n",
       "      <td>14.005551</td>\n",
       "      <td>-599.996129</td>\n",
       "    </tr>\n",
       "    <tr>\n",
       "      <th>4</th>\n",
       "      <td>117.988169</td>\n",
       "      <td>11.913613</td>\n",
       "      <td>7.25</td>\n",
       "      <td>1.009869</td>\n",
       "      <td>1601.339707</td>\n",
       "      <td>-498.975456</td>\n",
       "      <td>1601.437854</td>\n",
       "      <td>-500.323246</td>\n",
       "      <td>1599.581894</td>\n",
       "      <td>-500.888152</td>\n",
       "      <td>...</td>\n",
       "      <td>14.027298</td>\n",
       "      <td>-499.838632</td>\n",
       "      <td>11.953070</td>\n",
       "      <td>-501.053894</td>\n",
       "      <td>9.925709</td>\n",
       "      <td>-501.686727</td>\n",
       "      <td>7.894242</td>\n",
       "      <td>-500.356035</td>\n",
       "      <td>13.996647</td>\n",
       "      <td>-601.496691</td>\n",
       "    </tr>\n",
       "  </tbody>\n",
       "</table>\n",
       "<p>5 rows × 52 columns</p>\n",
       "</div>"
      ],
      "text/plain": [
       "   primary_cleaner.input.sulfate  primary_cleaner.input.depressant  \\\n",
       "0                     127.092003                         10.128295   \n",
       "1                     125.629232                         10.296251   \n",
       "2                     123.819808                         11.316280   \n",
       "3                     122.270188                         11.322140   \n",
       "4                     117.988169                         11.913613   \n",
       "\n",
       "   primary_cleaner.input.feed_size  primary_cleaner.input.xanthate  \\\n",
       "0                             7.25                        0.988759   \n",
       "1                             7.25                        1.002663   \n",
       "2                             7.25                        0.991265   \n",
       "3                             7.25                        0.996739   \n",
       "4                             7.25                        1.009869   \n",
       "\n",
       "   primary_cleaner.state.floatbank8_a_air  \\\n",
       "0                             1549.775757   \n",
       "1                             1576.166671   \n",
       "2                             1601.556163   \n",
       "3                             1599.968720   \n",
       "4                             1601.339707   \n",
       "\n",
       "   primary_cleaner.state.floatbank8_a_level  \\\n",
       "0                               -498.912140   \n",
       "1                               -500.904965   \n",
       "2                               -499.997791   \n",
       "3                               -500.951778   \n",
       "4                               -498.975456   \n",
       "\n",
       "   primary_cleaner.state.floatbank8_b_air  \\\n",
       "0                             1551.434204   \n",
       "1                             1575.950626   \n",
       "2                             1600.386685   \n",
       "3                             1600.659236   \n",
       "4                             1601.437854   \n",
       "\n",
       "   primary_cleaner.state.floatbank8_b_level  \\\n",
       "0                               -516.403442   \n",
       "1                               -499.865889   \n",
       "2                               -500.607762   \n",
       "3                               -499.677094   \n",
       "4                               -500.323246   \n",
       "\n",
       "   primary_cleaner.state.floatbank8_c_air  \\\n",
       "0                             1549.873901   \n",
       "1                             1575.994189   \n",
       "2                             1602.003542   \n",
       "3                             1600.304144   \n",
       "4                             1599.581894   \n",
       "\n",
       "   primary_cleaner.state.floatbank8_c_level  ...  \\\n",
       "0                               -498.666595  ...   \n",
       "1                               -499.315107  ...   \n",
       "2                               -500.870069  ...   \n",
       "3                               -500.727997  ...   \n",
       "4                               -500.888152  ...   \n",
       "\n",
       "   secondary_cleaner.state.floatbank4_a_air  \\\n",
       "0                                 14.016835   \n",
       "1                                 13.992281   \n",
       "2                                 14.015015   \n",
       "3                                 14.036510   \n",
       "4                                 14.027298   \n",
       "\n",
       "   secondary_cleaner.state.floatbank4_a_level  \\\n",
       "0                                 -502.488007   \n",
       "1                                 -505.503262   \n",
       "2                                 -502.520901   \n",
       "3                                 -500.857308   \n",
       "4                                 -499.838632   \n",
       "\n",
       "   secondary_cleaner.state.floatbank4_b_air  \\\n",
       "0                                 12.099931   \n",
       "1                                 11.950531   \n",
       "2                                 11.912783   \n",
       "3                                 11.999550   \n",
       "4                                 11.953070   \n",
       "\n",
       "   secondary_cleaner.state.floatbank4_b_level  \\\n",
       "0                                 -504.715942   \n",
       "1                                 -501.331529   \n",
       "2                                 -501.133383   \n",
       "3                                 -501.193686   \n",
       "4                                 -501.053894   \n",
       "\n",
       "   secondary_cleaner.state.floatbank5_a_air  \\\n",
       "0                                  9.925633   \n",
       "1                                 10.039245   \n",
       "2                                 10.070913   \n",
       "3                                  9.970366   \n",
       "4                                  9.925709   \n",
       "\n",
       "   secondary_cleaner.state.floatbank5_a_level  \\\n",
       "0                                 -498.310211   \n",
       "1                                 -500.169983   \n",
       "2                                 -500.129135   \n",
       "3                                 -499.201640   \n",
       "4                                 -501.686727   \n",
       "\n",
       "   secondary_cleaner.state.floatbank5_b_air  \\\n",
       "0                                  8.079666   \n",
       "1                                  7.984757   \n",
       "2                                  8.013877   \n",
       "3                                  7.977324   \n",
       "4                                  7.894242   \n",
       "\n",
       "   secondary_cleaner.state.floatbank5_b_level  \\\n",
       "0                                 -500.470978   \n",
       "1                                 -500.582168   \n",
       "2                                 -500.517572   \n",
       "3                                 -500.255908   \n",
       "4                                 -500.356035   \n",
       "\n",
       "   secondary_cleaner.state.floatbank6_a_air  \\\n",
       "0                                 14.151341   \n",
       "1                                 13.998353   \n",
       "2                                 14.028663   \n",
       "3                                 14.005551   \n",
       "4                                 13.996647   \n",
       "\n",
       "   secondary_cleaner.state.floatbank6_a_level  \n",
       "0                                 -605.841980  \n",
       "1                                 -599.787184  \n",
       "2                                 -601.427363  \n",
       "3                                 -599.996129  \n",
       "4                                 -601.496691  \n",
       "\n",
       "[5 rows x 52 columns]"
      ]
     },
     "execution_count": 44,
     "metadata": {},
     "output_type": "execute_result"
    }
   ],
   "source": [
    "features_train.head()"
   ]
  },
  {
   "cell_type": "markdown",
   "metadata": {},
   "source": [
    "Для тестовой выборки необходимо взять целевые признаки из полного датасета. "
   ]
  },
  {
   "cell_type": "code",
   "execution_count": 45,
   "metadata": {},
   "outputs": [
    {
     "data": {
      "text/plain": [
       "5290"
      ]
     },
     "execution_count": 45,
     "metadata": {},
     "output_type": "execute_result"
    }
   ],
   "source": [
    "pd.Series(df_test_ready['date'].unique()).count()"
   ]
  },
  {
   "cell_type": "code",
   "execution_count": 46,
   "metadata": {},
   "outputs": [
    {
     "data": {
      "text/plain": [
       "5290"
      ]
     },
     "execution_count": 46,
     "metadata": {},
     "output_type": "execute_result"
    }
   ],
   "source": [
    "len(df_test_ready['date'])"
   ]
  },
  {
   "cell_type": "code",
   "execution_count": 47,
   "metadata": {},
   "outputs": [
    {
     "data": {
      "text/plain": [
       "19439"
      ]
     },
     "execution_count": 47,
     "metadata": {},
     "output_type": "execute_result"
    }
   ],
   "source": [
    "pd.Series(df_full['date'].unique()).count()"
   ]
  },
  {
   "cell_type": "code",
   "execution_count": 48,
   "metadata": {},
   "outputs": [
    {
     "data": {
      "text/plain": [
       "19439"
      ]
     },
     "execution_count": 48,
     "metadata": {},
     "output_type": "execute_result"
    }
   ],
   "source": [
    "len(df_full['date'])"
   ]
  },
  {
   "cell_type": "markdown",
   "metadata": {},
   "source": [
    "В исходном и тестовой датасетах каждое значение времени уникально. Попробуем взять целевые признаки, используя дату в качестве индекса."
   ]
  },
  {
   "cell_type": "code",
   "execution_count": 49,
   "metadata": {},
   "outputs": [
    {
     "name": "stdout",
     "output_type": "stream",
     "text": [
      "<class 'pandas.core.frame.DataFrame'>\n",
      "RangeIndex: 5290 entries, 0 to 5289\n",
      "Data columns (total 2 columns):\n",
      " #   Column                   Non-Null Count  Dtype  \n",
      "---  ------                   --------------  -----  \n",
      " 0   rougher.output.recovery  5290 non-null   float64\n",
      " 1   final.output.recovery    5290 non-null   float64\n",
      "dtypes: float64(2)\n",
      "memory usage: 82.8 KB\n"
     ]
    }
   ],
   "source": [
    "target_test_1 = []\n",
    "target_test_2 = []\n",
    "\n",
    "for date in df_test_ready['date']:\n",
    "    target_test_1.append(df_full.loc[df_full['date'] == date, 'rougher.output.recovery'].reset_index(drop=True)[0])\n",
    "    target_test_2.append(df_full.loc[df_full['date'] == date, 'final.output.recovery'].reset_index(drop=True)[0])\n",
    "targets_test = pd.DataFrame({'rougher.output.recovery': target_test_1, 'final.output.recovery': target_test_2})\n",
    "targets_test.info()"
   ]
  },
  {
   "cell_type": "code",
   "execution_count": 50,
   "metadata": {},
   "outputs": [
    {
     "data": {
      "text/html": [
       "<div>\n",
       "<style scoped>\n",
       "    .dataframe tbody tr th:only-of-type {\n",
       "        vertical-align: middle;\n",
       "    }\n",
       "\n",
       "    .dataframe tbody tr th {\n",
       "        vertical-align: top;\n",
       "    }\n",
       "\n",
       "    .dataframe thead th {\n",
       "        text-align: right;\n",
       "    }\n",
       "</style>\n",
       "<table border=\"1\" class=\"dataframe\">\n",
       "  <thead>\n",
       "    <tr style=\"text-align: right;\">\n",
       "      <th></th>\n",
       "      <th>rougher.output.recovery</th>\n",
       "      <th>final.output.recovery</th>\n",
       "    </tr>\n",
       "  </thead>\n",
       "  <tbody>\n",
       "    <tr>\n",
       "      <th>0</th>\n",
       "      <td>89.993421</td>\n",
       "      <td>70.273583</td>\n",
       "    </tr>\n",
       "    <tr>\n",
       "      <th>1</th>\n",
       "      <td>88.089657</td>\n",
       "      <td>68.910432</td>\n",
       "    </tr>\n",
       "    <tr>\n",
       "      <th>2</th>\n",
       "      <td>88.412756</td>\n",
       "      <td>68.143213</td>\n",
       "    </tr>\n",
       "    <tr>\n",
       "      <th>3</th>\n",
       "      <td>87.360133</td>\n",
       "      <td>67.776393</td>\n",
       "    </tr>\n",
       "    <tr>\n",
       "      <th>4</th>\n",
       "      <td>83.236367</td>\n",
       "      <td>61.467078</td>\n",
       "    </tr>\n",
       "  </tbody>\n",
       "</table>\n",
       "</div>"
      ],
      "text/plain": [
       "   rougher.output.recovery  final.output.recovery\n",
       "0                89.993421              70.273583\n",
       "1                88.089657              68.910432\n",
       "2                88.412756              68.143213\n",
       "3                87.360133              67.776393\n",
       "4                83.236367              61.467078"
      ]
     },
     "execution_count": 50,
     "metadata": {},
     "output_type": "execute_result"
    }
   ],
   "source": [
    "targets_test.head()"
   ]
  },
  {
   "cell_type": "markdown",
   "metadata": {},
   "source": [
    "Для удобства сделаем отдельный датасет features_test."
   ]
  },
  {
   "cell_type": "code",
   "execution_count": 51,
   "metadata": {
    "scrolled": true
   },
   "outputs": [
    {
     "name": "stdout",
     "output_type": "stream",
     "text": [
      "<class 'pandas.core.frame.DataFrame'>\n",
      "RangeIndex: 5290 entries, 0 to 5289\n",
      "Data columns (total 52 columns):\n",
      " #   Column                                      Non-Null Count  Dtype  \n",
      "---  ------                                      --------------  -----  \n",
      " 0   primary_cleaner.input.sulfate               5290 non-null   float64\n",
      " 1   primary_cleaner.input.depressant            5290 non-null   float64\n",
      " 2   primary_cleaner.input.feed_size             5290 non-null   float64\n",
      " 3   primary_cleaner.input.xanthate              5290 non-null   float64\n",
      " 4   primary_cleaner.state.floatbank8_a_air      5290 non-null   float64\n",
      " 5   primary_cleaner.state.floatbank8_a_level    5290 non-null   float64\n",
      " 6   primary_cleaner.state.floatbank8_b_air      5290 non-null   float64\n",
      " 7   primary_cleaner.state.floatbank8_b_level    5290 non-null   float64\n",
      " 8   primary_cleaner.state.floatbank8_c_air      5290 non-null   float64\n",
      " 9   primary_cleaner.state.floatbank8_c_level    5290 non-null   float64\n",
      " 10  primary_cleaner.state.floatbank8_d_air      5290 non-null   float64\n",
      " 11  primary_cleaner.state.floatbank8_d_level    5290 non-null   float64\n",
      " 12  rougher.input.feed_ag                       5290 non-null   float64\n",
      " 13  rougher.input.feed_pb                       5290 non-null   float64\n",
      " 14  rougher.input.feed_rate                     5290 non-null   float64\n",
      " 15  rougher.input.feed_size                     5290 non-null   float64\n",
      " 16  rougher.input.feed_sol                      5290 non-null   float64\n",
      " 17  rougher.input.feed_au                       5290 non-null   float64\n",
      " 18  rougher.input.floatbank10_sulfate           5290 non-null   float64\n",
      " 19  rougher.input.floatbank10_xanthate          5290 non-null   float64\n",
      " 20  rougher.input.floatbank11_sulfate           5290 non-null   float64\n",
      " 21  rougher.input.floatbank11_xanthate          5290 non-null   float64\n",
      " 22  rougher.state.floatbank10_a_air             5290 non-null   float64\n",
      " 23  rougher.state.floatbank10_a_level           5290 non-null   float64\n",
      " 24  rougher.state.floatbank10_b_air             5290 non-null   float64\n",
      " 25  rougher.state.floatbank10_b_level           5290 non-null   float64\n",
      " 26  rougher.state.floatbank10_c_air             5290 non-null   float64\n",
      " 27  rougher.state.floatbank10_c_level           5290 non-null   float64\n",
      " 28  rougher.state.floatbank10_d_air             5290 non-null   float64\n",
      " 29  rougher.state.floatbank10_d_level           5290 non-null   float64\n",
      " 30  rougher.state.floatbank10_e_air             5290 non-null   float64\n",
      " 31  rougher.state.floatbank10_e_level           5290 non-null   float64\n",
      " 32  rougher.state.floatbank10_f_air             5290 non-null   float64\n",
      " 33  rougher.state.floatbank10_f_level           5290 non-null   float64\n",
      " 34  secondary_cleaner.state.floatbank2_a_air    5290 non-null   float64\n",
      " 35  secondary_cleaner.state.floatbank2_a_level  5290 non-null   float64\n",
      " 36  secondary_cleaner.state.floatbank2_b_air    5290 non-null   float64\n",
      " 37  secondary_cleaner.state.floatbank2_b_level  5290 non-null   float64\n",
      " 38  secondary_cleaner.state.floatbank3_a_air    5290 non-null   float64\n",
      " 39  secondary_cleaner.state.floatbank3_a_level  5290 non-null   float64\n",
      " 40  secondary_cleaner.state.floatbank3_b_air    5290 non-null   float64\n",
      " 41  secondary_cleaner.state.floatbank3_b_level  5290 non-null   float64\n",
      " 42  secondary_cleaner.state.floatbank4_a_air    5290 non-null   float64\n",
      " 43  secondary_cleaner.state.floatbank4_a_level  5290 non-null   float64\n",
      " 44  secondary_cleaner.state.floatbank4_b_air    5290 non-null   float64\n",
      " 45  secondary_cleaner.state.floatbank4_b_level  5290 non-null   float64\n",
      " 46  secondary_cleaner.state.floatbank5_a_air    5290 non-null   float64\n",
      " 47  secondary_cleaner.state.floatbank5_a_level  5290 non-null   float64\n",
      " 48  secondary_cleaner.state.floatbank5_b_air    5290 non-null   float64\n",
      " 49  secondary_cleaner.state.floatbank5_b_level  5290 non-null   float64\n",
      " 50  secondary_cleaner.state.floatbank6_a_air    5290 non-null   float64\n",
      " 51  secondary_cleaner.state.floatbank6_a_level  5290 non-null   float64\n",
      "dtypes: float64(52)\n",
      "memory usage: 2.1 MB\n"
     ]
    }
   ],
   "source": [
    "features_test = df_test_ready.copy().drop(columns='date')\n",
    "features_test.info()"
   ]
  },
  {
   "cell_type": "markdown",
   "metadata": {},
   "source": [
    "### Стандартизация"
   ]
  },
  {
   "cell_type": "code",
   "execution_count": 52,
   "metadata": {},
   "outputs": [
    {
     "data": {
      "text/plain": [
       "array([[-0.15458031,  0.377154  , -0.1177608 , ..., -0.42094349,\n",
       "        -0.94119674, -2.67055763],\n",
       "       [-0.19151562,  0.426914  , -0.1177608 , ..., -0.42377957,\n",
       "        -0.96773752, -2.50728849],\n",
       "       [-0.23720401,  0.72911657, -0.1177608 , ..., -0.42213196,\n",
       "        -0.9624792 , -2.55151634],\n",
       "       ...,\n",
       "       [-0.69558899, -0.26669197, -1.33917848, ..., -0.40674679,\n",
       "         0.071858  ,  0.14255332],\n",
       "       [-0.86692648, -0.25808472, -1.33917848, ..., -0.40832507,\n",
       "         0.07586555,  0.16663279],\n",
       "       [-0.95863816, -0.23000046, -1.33917848, ..., -0.41099627,\n",
       "         0.07176267,  0.20529817]])"
      ]
     },
     "execution_count": 52,
     "metadata": {},
     "output_type": "execute_result"
    }
   ],
   "source": [
    "scaler = StandardScaler()\n",
    "scaler.fit(features_train)\n",
    "features_train = scaler.transform(features_train)\n",
    "features_test = scaler.transform(features_test)\n",
    "features_train"
   ]
  },
  {
   "cell_type": "code",
   "execution_count": 53,
   "metadata": {},
   "outputs": [
    {
     "data": {
      "text/plain": [
       "array([[ 1.95908943,  1.81844803,  1.23394131, ..., -0.40988529,\n",
       "         1.23678923,  0.1913345 ],\n",
       "       [ 2.07502705,  1.81677518,  1.23394131, ..., -0.41307205,\n",
       "         0.9443077 ,  0.18836768],\n",
       "       [ 2.07168118,  1.19385943,  0.75623145, ..., -0.40455624,\n",
       "         0.9399571 ,  0.1667113 ],\n",
       "       ...,\n",
       "       [ 0.95753394,  2.11488007,  1.21765537, ..., -0.40996209,\n",
       "        -1.83797695,  0.24309518],\n",
       "       [ 1.17371233,  1.95054275,  1.21765537, ..., -0.40734647,\n",
       "        -1.83266464,  0.17933846],\n",
       "       [ 1.22067015,  1.81925745,  1.21765537, ..., -0.41754116,\n",
       "        -1.83683303,  0.16287203]])"
      ]
     },
     "execution_count": 53,
     "metadata": {},
     "output_type": "execute_result"
    }
   ],
   "source": [
    "features_test"
   ]
  },
  {
   "cell_type": "markdown",
   "metadata": {},
   "source": [
    "### Функция для расчета метрики"
   ]
  },
  {
   "cell_type": "code",
   "execution_count": 54,
   "metadata": {},
   "outputs": [],
   "source": [
    "def single_smape(targets, predictions):\n",
    "    single_smape = (1/len(targets) * np.sum(2 * np.abs(predictions-targets) / \n",
    "                                                    (np.abs(targets) + np.abs(predictions))*100))\n",
    "    return single_smape\n",
    "\n",
    "\n",
    "def smape(targets, predictions):\n",
    "    predictions = np.array(predictions)\n",
    "    targets = np.array(targets)\n",
    "    \n",
    "    predict_rougher = predictions[:,0]\n",
    "    target_rougher = targets[:,0]\n",
    "    \n",
    "    predict_final = predictions[:,1]\n",
    "    target_final = targets[:,1]\n",
    "\n",
    "    smape_rougher = single_smape(target_rougher, predict_rougher)\n",
    "       \n",
    "    smape_final = single_smape(target_final, predict_final)\n",
    "    \n",
    "    smape = 0.25 * smape_rougher + 0.75 * smape_final\n",
    "    return smape\n",
    "\n",
    "custom_Scoring = make_scorer(smape, greater_is_better=True)"
   ]
  },
  {
   "cell_type": "markdown",
   "metadata": {},
   "source": [
    "### Обучение моделей"
   ]
  },
  {
   "cell_type": "markdown",
   "metadata": {},
   "source": [
    "#### Линейная регрессия"
   ]
  },
  {
   "cell_type": "code",
   "execution_count": 55,
   "metadata": {
    "scrolled": false
   },
   "outputs": [
    {
     "name": "stdout",
     "output_type": "stream",
     "text": [
      "Метрика sMAPE линейной регрессии на кросс-валидации: 12.384596104847194\n"
     ]
    }
   ],
   "source": [
    "model = LinearRegression()\n",
    "scores  = cross_val_score(model, features_train, targets_train, cv=5, scoring=custom_Scoring)\n",
    "result = scores.sum() / len(scores)\n",
    "\n",
    "print(\"Метрика sMAPE линейной регрессии на кросс-валидации:\", result)"
   ]
  },
  {
   "cell_type": "markdown",
   "metadata": {},
   "source": [
    "#### Решающее дерево"
   ]
  },
  {
   "cell_type": "code",
   "execution_count": 399,
   "metadata": {},
   "outputs": [
    {
     "name": "stdout",
     "output_type": "stream",
     "text": [
      "10.760916810595003\n",
      "11.355978100699273\n",
      "\n",
      "8.58640713599341\n",
      "10.328064397837988\n",
      "\n",
      "14.456136747248097\n",
      "11.374570103533749\n",
      "\n",
      "18.576121053986526\n",
      "12.809682097015767\n",
      "\n",
      "11.287099813609808\n",
      "11.671195860548245\n",
      "\n",
      "10.697543517393495\n",
      "11.280244491688311\n",
      "\n",
      "7.129766175909538\n",
      "9.205234040990318\n",
      "\n",
      "15.552525912023103\n",
      "12.429018427403381\n",
      "\n",
      "15.553192577469792\n",
      "11.832356658454053\n",
      "\n",
      "10.52770246760433\n",
      "11.660307601720104\n",
      "\n",
      "9.97296232265516\n",
      "10.473387133943127\n",
      "\n",
      "7.940506894223952\n",
      "9.570826828338369\n",
      "\n",
      "15.265288750413884\n",
      "12.20919786622421\n",
      "\n"
     ]
    },
    {
     "name": "stderr",
     "output_type": "stream",
     "text": [
      "C:\\Users\\gorbu\\AppData\\Local\\Temp\\ipykernel_9784\\1120482644.py:2: RuntimeWarning: invalid value encountered in true_divide\n",
      "  single_smape = (1/len(targets) * np.sum(2 * np.abs(predictions-targets) /\n"
     ]
    },
    {
     "name": "stdout",
     "output_type": "stream",
     "text": [
      "nan\n",
      "11.688770768422676\n",
      "\n",
      "10.226774973351864\n",
      "11.434633050548117\n",
      "\n",
      "9.904172011622427\n",
      "10.357625367014712\n",
      "\n",
      "7.10794748202763\n",
      "9.76623635196157\n",
      "\n",
      "15.164592178663227\n",
      "11.82169644476228\n",
      "\n",
      "15.966874438124146\n",
      "11.239988990432671\n",
      "\n",
      "9.041231778673113\n",
      "11.14209061692323\n",
      "\n",
      "9.693132752313556\n",
      "10.1690925051821\n",
      "\n",
      "8.1811260209757\n",
      "9.892348066829754\n",
      "\n",
      "14.970702757402433\n",
      "11.629938741409173\n",
      "\n"
     ]
    },
    {
     "name": "stderr",
     "output_type": "stream",
     "text": [
      "C:\\Users\\gorbu\\AppData\\Local\\Temp\\ipykernel_9784\\1120482644.py:2: RuntimeWarning: invalid value encountered in true_divide\n",
      "  single_smape = (1/len(targets) * np.sum(2 * np.abs(predictions-targets) /\n"
     ]
    },
    {
     "name": "stdout",
     "output_type": "stream",
     "text": [
      "nan\n",
      "10.48648898949085\n",
      "\n",
      "9.37552681958894\n",
      "11.174038554279319\n",
      "\n",
      "10.024571699354931\n",
      "10.553894668608057\n",
      "\n",
      "7.876731640713058\n",
      "10.839679673056144\n",
      "\n",
      "14.677352745499583\n",
      "10.972883969836268\n",
      "\n"
     ]
    },
    {
     "name": "stderr",
     "output_type": "stream",
     "text": [
      "C:\\Users\\gorbu\\AppData\\Local\\Temp\\ipykernel_9784\\1120482644.py:2: RuntimeWarning: invalid value encountered in true_divide\n",
      "  single_smape = (1/len(targets) * np.sum(2 * np.abs(predictions-targets) /\n"
     ]
    },
    {
     "name": "stdout",
     "output_type": "stream",
     "text": [
      "nan\n",
      "11.177771281324693\n",
      "\n",
      "9.580554648881636\n",
      "12.57620737479184\n",
      "\n",
      "9.8976633489226\n",
      "10.196129371091796\n",
      "\n",
      "10.595497511980364\n",
      "11.124534959800947\n",
      "\n",
      "14.860957972175788\n",
      "13.46763115155197\n",
      "\n"
     ]
    },
    {
     "name": "stderr",
     "output_type": "stream",
     "text": [
      "C:\\Users\\gorbu\\AppData\\Local\\Temp\\ipykernel_9784\\1120482644.py:2: RuntimeWarning: invalid value encountered in true_divide\n",
      "  single_smape = (1/len(targets) * np.sum(2 * np.abs(predictions-targets) /\n"
     ]
    },
    {
     "name": "stdout",
     "output_type": "stream",
     "text": [
      "nan\n",
      "11.20735516928862\n",
      "\n",
      "7.694265016272833\n",
      "12.156944442079556\n",
      "\n",
      "11.69113268101629\n",
      "10.72598375407757\n",
      "\n",
      "8.676925365113716\n",
      "16.789593208669686\n",
      "\n",
      "15.921270028967571\n",
      "13.040794028388248\n",
      "\n",
      "16.698096326464693\n",
      "12.132390077569058\n",
      "\n",
      "7.541604436057942\n",
      "17.502738744001036\n",
      "\n"
     ]
    },
    {
     "name": "stderr",
     "output_type": "stream",
     "text": [
      "C:\\Users\\gorbu\\AppData\\Local\\Temp\\ipykernel_9784\\1120482644.py:2: RuntimeWarning: invalid value encountered in true_divide\n",
      "  single_smape = (1/len(targets) * np.sum(2 * np.abs(predictions-targets) /\n"
     ]
    },
    {
     "name": "stdout",
     "output_type": "stream",
     "text": [
      "11.32255748421999\n",
      "nan\n",
      "\n",
      "21.457065990251095\n",
      "27.77851392491992\n",
      "\n"
     ]
    },
    {
     "name": "stderr",
     "output_type": "stream",
     "text": [
      "C:\\Users\\gorbu\\AppData\\Local\\Temp\\ipykernel_9784\\1120482644.py:2: RuntimeWarning: invalid value encountered in true_divide\n",
      "  single_smape = (1/len(targets) * np.sum(2 * np.abs(predictions-targets) /\n"
     ]
    },
    {
     "name": "stdout",
     "output_type": "stream",
     "text": [
      "16.834540032226965\n",
      "nan\n",
      "\n"
     ]
    },
    {
     "name": "stderr",
     "output_type": "stream",
     "text": [
      "C:\\Users\\gorbu\\AppData\\Local\\Temp\\ipykernel_9784\\1120482644.py:2: RuntimeWarning: invalid value encountered in true_divide\n",
      "  single_smape = (1/len(targets) * np.sum(2 * np.abs(predictions-targets) /\n"
     ]
    },
    {
     "name": "stdout",
     "output_type": "stream",
     "text": [
      "nan\n",
      "12.258677169160096\n",
      "\n",
      "7.53934798673719\n",
      "17.144137665462377\n",
      "\n"
     ]
    },
    {
     "name": "stderr",
     "output_type": "stream",
     "text": [
      "C:\\Users\\gorbu\\AppData\\Local\\Temp\\ipykernel_9784\\1120482644.py:2: RuntimeWarning: invalid value encountered in true_divide\n",
      "  single_smape = (1/len(targets) * np.sum(2 * np.abs(predictions-targets) /\n"
     ]
    },
    {
     "name": "stdout",
     "output_type": "stream",
     "text": [
      "14.654783462746604\n",
      "nan\n",
      "\n"
     ]
    },
    {
     "name": "stderr",
     "output_type": "stream",
     "text": [
      "C:\\Users\\gorbu\\AppData\\Local\\Temp\\ipykernel_9784\\1120482644.py:2: RuntimeWarning: invalid value encountered in true_divide\n",
      "  single_smape = (1/len(targets) * np.sum(2 * np.abs(predictions-targets) /\n"
     ]
    },
    {
     "name": "stdout",
     "output_type": "stream",
     "text": [
      "nan\n",
      "nan\n",
      "\n",
      "15.300179086563624\n",
      "12.675866348174457\n",
      "\n"
     ]
    },
    {
     "name": "stderr",
     "output_type": "stream",
     "text": [
      "C:\\Users\\gorbu\\AppData\\Local\\Temp\\ipykernel_9784\\1120482644.py:2: RuntimeWarning: invalid value encountered in true_divide\n",
      "  single_smape = (1/len(targets) * np.sum(2 * np.abs(predictions-targets) /\n"
     ]
    },
    {
     "name": "stdout",
     "output_type": "stream",
     "text": [
      "nan\n",
      "12.29339960486731\n",
      "\n",
      "8.370199372893087\n",
      "18.958340417966106\n",
      "\n"
     ]
    },
    {
     "name": "stderr",
     "output_type": "stream",
     "text": [
      "C:\\Users\\gorbu\\AppData\\Local\\Temp\\ipykernel_9784\\1120482644.py:2: RuntimeWarning: invalid value encountered in true_divide\n",
      "  single_smape = (1/len(targets) * np.sum(2 * np.abs(predictions-targets) /\n"
     ]
    },
    {
     "name": "stdout",
     "output_type": "stream",
     "text": [
      "12.019637562052724\n",
      "nan\n",
      "\n"
     ]
    },
    {
     "name": "stderr",
     "output_type": "stream",
     "text": [
      "C:\\Users\\gorbu\\AppData\\Local\\Temp\\ipykernel_9784\\1120482644.py:2: RuntimeWarning: invalid value encountered in true_divide\n",
      "  single_smape = (1/len(targets) * np.sum(2 * np.abs(predictions-targets) /\n"
     ]
    },
    {
     "name": "stdout",
     "output_type": "stream",
     "text": [
      "nan\n",
      "nan\n",
      "\n"
     ]
    },
    {
     "name": "stderr",
     "output_type": "stream",
     "text": [
      "C:\\Users\\gorbu\\AppData\\Local\\Temp\\ipykernel_9784\\1120482644.py:2: RuntimeWarning: invalid value encountered in true_divide\n",
      "  single_smape = (1/len(targets) * np.sum(2 * np.abs(predictions-targets) /\n"
     ]
    },
    {
     "name": "stdout",
     "output_type": "stream",
     "text": [
      "17.090100495910473\n",
      "nan\n",
      "\n"
     ]
    },
    {
     "name": "stderr",
     "output_type": "stream",
     "text": [
      "C:\\Users\\gorbu\\AppData\\Local\\Temp\\ipykernel_9784\\1120482644.py:2: RuntimeWarning: invalid value encountered in true_divide\n",
      "  single_smape = (1/len(targets) * np.sum(2 * np.abs(predictions-targets) /\n"
     ]
    },
    {
     "name": "stdout",
     "output_type": "stream",
     "text": [
      "nan\n",
      "13.704790103591915\n",
      "\n",
      "8.259624250652305\n",
      "19.896803523527755\n",
      "\n"
     ]
    },
    {
     "name": "stderr",
     "output_type": "stream",
     "text": [
      "C:\\Users\\gorbu\\AppData\\Local\\Temp\\ipykernel_9784\\1120482644.py:2: RuntimeWarning: invalid value encountered in true_divide\n",
      "  single_smape = (1/len(targets) * np.sum(2 * np.abs(predictions-targets) /\n"
     ]
    },
    {
     "name": "stdout",
     "output_type": "stream",
     "text": [
      "12.404421173632342\n",
      "nan\n",
      "\n"
     ]
    },
    {
     "name": "stderr",
     "output_type": "stream",
     "text": [
      "C:\\Users\\gorbu\\AppData\\Local\\Temp\\ipykernel_9784\\1120482644.py:2: RuntimeWarning: invalid value encountered in true_divide\n",
      "  single_smape = (1/len(targets) * np.sum(2 * np.abs(predictions-targets) /\n"
     ]
    },
    {
     "name": "stdout",
     "output_type": "stream",
     "text": [
      "nan\n",
      "nan\n",
      "\n"
     ]
    },
    {
     "name": "stderr",
     "output_type": "stream",
     "text": [
      "C:\\Users\\gorbu\\AppData\\Local\\Temp\\ipykernel_9784\\1120482644.py:2: RuntimeWarning: invalid value encountered in true_divide\n",
      "  single_smape = (1/len(targets) * np.sum(2 * np.abs(predictions-targets) /\n"
     ]
    },
    {
     "name": "stdout",
     "output_type": "stream",
     "text": [
      "16.78543864652916\n",
      "nan\n",
      "\n"
     ]
    },
    {
     "name": "stderr",
     "output_type": "stream",
     "text": [
      "C:\\Users\\gorbu\\AppData\\Local\\Temp\\ipykernel_9784\\1120482644.py:2: RuntimeWarning: invalid value encountered in true_divide\n",
      "  single_smape = (1/len(targets) * np.sum(2 * np.abs(predictions-targets) /\n"
     ]
    },
    {
     "name": "stdout",
     "output_type": "stream",
     "text": [
      "nan\n",
      "13.637611002463302\n",
      "\n",
      "9.989632692935212\n",
      "24.61894564502979\n",
      "\n"
     ]
    },
    {
     "name": "stderr",
     "output_type": "stream",
     "text": [
      "C:\\Users\\gorbu\\AppData\\Local\\Temp\\ipykernel_9784\\1120482644.py:2: RuntimeWarning: invalid value encountered in true_divide\n",
      "  single_smape = (1/len(targets) * np.sum(2 * np.abs(predictions-targets) /\n"
     ]
    },
    {
     "name": "stdout",
     "output_type": "stream",
     "text": [
      "16.198899067523126\n",
      "nan\n",
      "\n"
     ]
    },
    {
     "name": "stderr",
     "output_type": "stream",
     "text": [
      "C:\\Users\\gorbu\\AppData\\Local\\Temp\\ipykernel_9784\\1120482644.py:2: RuntimeWarning: invalid value encountered in true_divide\n",
      "  single_smape = (1/len(targets) * np.sum(2 * np.abs(predictions-targets) /\n"
     ]
    },
    {
     "name": "stdout",
     "output_type": "stream",
     "text": [
      "nan\n",
      "nan\n",
      "\n",
      "15.88177354635833\n",
      "15.297062884502072\n",
      "\n"
     ]
    },
    {
     "name": "stderr",
     "output_type": "stream",
     "text": [
      "C:\\Users\\gorbu\\AppData\\Local\\Temp\\ipykernel_9784\\1120482644.py:2: RuntimeWarning: invalid value encountered in true_divide\n",
      "  single_smape = (1/len(targets) * np.sum(2 * np.abs(predictions-targets) /\n"
     ]
    },
    {
     "name": "stdout",
     "output_type": "stream",
     "text": [
      "nan\n",
      "13.814168898838876\n",
      "\n",
      "10.46477726393719\n",
      "25.13429390877174\n",
      "\n"
     ]
    },
    {
     "name": "stderr",
     "output_type": "stream",
     "text": [
      "C:\\Users\\gorbu\\AppData\\Local\\Temp\\ipykernel_9784\\1120482644.py:2: RuntimeWarning: invalid value encountered in true_divide\n",
      "  single_smape = (1/len(targets) * np.sum(2 * np.abs(predictions-targets) /\n"
     ]
    },
    {
     "name": "stdout",
     "output_type": "stream",
     "text": [
      "13.467055172941745\n",
      "nan\n",
      "\n"
     ]
    },
    {
     "name": "stderr",
     "output_type": "stream",
     "text": [
      "C:\\Users\\gorbu\\AppData\\Local\\Temp\\ipykernel_9784\\1120482644.py:2: RuntimeWarning: invalid value encountered in true_divide\n",
      "  single_smape = (1/len(targets) * np.sum(2 * np.abs(predictions-targets) /\n"
     ]
    },
    {
     "name": "stdout",
     "output_type": "stream",
     "text": [
      "nan\n",
      "nan\n",
      "\n",
      "16.08233418263966\n",
      "14.730507598780598\n",
      "\n"
     ]
    },
    {
     "name": "stderr",
     "output_type": "stream",
     "text": [
      "C:\\Users\\gorbu\\AppData\\Local\\Temp\\ipykernel_9784\\1120482644.py:2: RuntimeWarning: invalid value encountered in true_divide\n",
      "  single_smape = (1/len(targets) * np.sum(2 * np.abs(predictions-targets) /\n"
     ]
    },
    {
     "name": "stdout",
     "output_type": "stream",
     "text": [
      "nan\n",
      "14.220932958417704\n",
      "\n",
      "10.051563326457472\n",
      "25.45532938818243\n",
      "\n"
     ]
    },
    {
     "name": "stderr",
     "output_type": "stream",
     "text": [
      "C:\\Users\\gorbu\\AppData\\Local\\Temp\\ipykernel_9784\\1120482644.py:2: RuntimeWarning: invalid value encountered in true_divide\n",
      "  single_smape = (1/len(targets) * np.sum(2 * np.abs(predictions-targets) /\n"
     ]
    },
    {
     "name": "stdout",
     "output_type": "stream",
     "text": [
      "12.988402676900922\n",
      "nan\n",
      "\n"
     ]
    },
    {
     "name": "stderr",
     "output_type": "stream",
     "text": [
      "C:\\Users\\gorbu\\AppData\\Local\\Temp\\ipykernel_9784\\1120482644.py:2: RuntimeWarning: invalid value encountered in true_divide\n",
      "  single_smape = (1/len(targets) * np.sum(2 * np.abs(predictions-targets) /\n"
     ]
    },
    {
     "name": "stdout",
     "output_type": "stream",
     "text": [
      "nan\n",
      "nan\n",
      "\n"
     ]
    },
    {
     "name": "stderr",
     "output_type": "stream",
     "text": [
      "C:\\Users\\gorbu\\AppData\\Local\\Temp\\ipykernel_9784\\1120482644.py:2: RuntimeWarning: invalid value encountered in true_divide\n",
      "  single_smape = (1/len(targets) * np.sum(2 * np.abs(predictions-targets) /\n"
     ]
    },
    {
     "name": "stdout",
     "output_type": "stream",
     "text": [
      "16.625907668777362\n",
      "nan\n",
      "\n"
     ]
    },
    {
     "name": "stderr",
     "output_type": "stream",
     "text": [
      "C:\\Users\\gorbu\\AppData\\Local\\Temp\\ipykernel_9784\\1120482644.py:2: RuntimeWarning: invalid value encountered in true_divide\n",
      "  single_smape = (1/len(targets) * np.sum(2 * np.abs(predictions-targets) /\n"
     ]
    },
    {
     "name": "stdout",
     "output_type": "stream",
     "text": [
      "nan\n",
      "13.14066964854486\n",
      "\n",
      "8.211219627998542\n",
      "26.945565252653083\n",
      "\n"
     ]
    },
    {
     "name": "stderr",
     "output_type": "stream",
     "text": [
      "C:\\Users\\gorbu\\AppData\\Local\\Temp\\ipykernel_9784\\1120482644.py:2: RuntimeWarning: invalid value encountered in true_divide\n",
      "  single_smape = (1/len(targets) * np.sum(2 * np.abs(predictions-targets) /\n"
     ]
    },
    {
     "name": "stdout",
     "output_type": "stream",
     "text": [
      "12.997086244910207\n",
      "nan\n",
      "\n"
     ]
    },
    {
     "name": "stderr",
     "output_type": "stream",
     "text": [
      "C:\\Users\\gorbu\\AppData\\Local\\Temp\\ipykernel_9784\\1120482644.py:2: RuntimeWarning: invalid value encountered in true_divide\n",
      "  single_smape = (1/len(targets) * np.sum(2 * np.abs(predictions-targets) /\n"
     ]
    },
    {
     "name": "stdout",
     "output_type": "stream",
     "text": [
      "nan\n",
      "nan\n",
      "\n"
     ]
    },
    {
     "name": "stderr",
     "output_type": "stream",
     "text": [
      "C:\\Users\\gorbu\\AppData\\Local\\Temp\\ipykernel_9784\\1120482644.py:2: RuntimeWarning: invalid value encountered in true_divide\n",
      "  single_smape = (1/len(targets) * np.sum(2 * np.abs(predictions-targets) /\n"
     ]
    },
    {
     "name": "stdout",
     "output_type": "stream",
     "text": [
      "16.831178160723702\n",
      "nan\n",
      "\n"
     ]
    },
    {
     "name": "stderr",
     "output_type": "stream",
     "text": [
      "C:\\Users\\gorbu\\AppData\\Local\\Temp\\ipykernel_9784\\1120482644.py:2: RuntimeWarning: invalid value encountered in true_divide\n",
      "  single_smape = (1/len(targets) * np.sum(2 * np.abs(predictions-targets) /\n"
     ]
    },
    {
     "name": "stdout",
     "output_type": "stream",
     "text": [
      "nan\n",
      "14.194941409247038\n",
      "\n",
      "9.113951954440298\n",
      "26.39633950416417\n",
      "\n"
     ]
    },
    {
     "name": "stderr",
     "output_type": "stream",
     "text": [
      "C:\\Users\\gorbu\\AppData\\Local\\Temp\\ipykernel_9784\\1120482644.py:2: RuntimeWarning: invalid value encountered in true_divide\n",
      "  single_smape = (1/len(targets) * np.sum(2 * np.abs(predictions-targets) /\n"
     ]
    },
    {
     "name": "stdout",
     "output_type": "stream",
     "text": [
      "16.77510459066442\n",
      "nan\n",
      "\n"
     ]
    },
    {
     "name": "stderr",
     "output_type": "stream",
     "text": [
      "C:\\Users\\gorbu\\AppData\\Local\\Temp\\ipykernel_9784\\1120482644.py:2: RuntimeWarning: invalid value encountered in true_divide\n",
      "  single_smape = (1/len(targets) * np.sum(2 * np.abs(predictions-targets) /\n"
     ]
    },
    {
     "name": "stdout",
     "output_type": "stream",
     "text": [
      "nan\n",
      "nan\n",
      "\n"
     ]
    },
    {
     "name": "stderr",
     "output_type": "stream",
     "text": [
      "C:\\Users\\gorbu\\AppData\\Local\\Temp\\ipykernel_9784\\1120482644.py:2: RuntimeWarning: invalid value encountered in true_divide\n",
      "  single_smape = (1/len(targets) * np.sum(2 * np.abs(predictions-targets) /\n"
     ]
    },
    {
     "name": "stdout",
     "output_type": "stream",
     "text": [
      "16.646292843001895\n",
      "nan\n",
      "\n"
     ]
    },
    {
     "name": "stderr",
     "output_type": "stream",
     "text": [
      "C:\\Users\\gorbu\\AppData\\Local\\Temp\\ipykernel_9784\\1120482644.py:2: RuntimeWarning: invalid value encountered in true_divide\n",
      "  single_smape = (1/len(targets) * np.sum(2 * np.abs(predictions-targets) /\n"
     ]
    },
    {
     "name": "stdout",
     "output_type": "stream",
     "text": [
      "nan\n",
      "15.18395013157688\n",
      "\n",
      "10.150572115435045\n",
      "27.37020413417372\n",
      "\n"
     ]
    },
    {
     "name": "stderr",
     "output_type": "stream",
     "text": [
      "C:\\Users\\gorbu\\AppData\\Local\\Temp\\ipykernel_9784\\1120482644.py:2: RuntimeWarning: invalid value encountered in true_divide\n",
      "  single_smape = (1/len(targets) * np.sum(2 * np.abs(predictions-targets) /\n"
     ]
    },
    {
     "name": "stdout",
     "output_type": "stream",
     "text": [
      "16.975613147330677\n",
      "nan\n",
      "\n"
     ]
    },
    {
     "name": "stderr",
     "output_type": "stream",
     "text": [
      "C:\\Users\\gorbu\\AppData\\Local\\Temp\\ipykernel_9784\\1120482644.py:2: RuntimeWarning: invalid value encountered in true_divide\n",
      "  single_smape = (1/len(targets) * np.sum(2 * np.abs(predictions-targets) /\n"
     ]
    },
    {
     "name": "stdout",
     "output_type": "stream",
     "text": [
      "nan\n",
      "nan\n",
      "\n",
      "16.378359405253807\n",
      "15.409266113666414\n",
      "\n"
     ]
    },
    {
     "name": "stderr",
     "output_type": "stream",
     "text": [
      "C:\\Users\\gorbu\\AppData\\Local\\Temp\\ipykernel_9784\\1120482644.py:2: RuntimeWarning: invalid value encountered in true_divide\n",
      "  single_smape = (1/len(targets) * np.sum(2 * np.abs(predictions-targets) /\n"
     ]
    },
    {
     "name": "stdout",
     "output_type": "stream",
     "text": [
      "nan\n",
      "13.987155400829158\n",
      "\n",
      "9.347090225859134\n",
      "26.35431419839425\n",
      "\n"
     ]
    },
    {
     "name": "stderr",
     "output_type": "stream",
     "text": [
      "C:\\Users\\gorbu\\AppData\\Local\\Temp\\ipykernel_9784\\1120482644.py:2: RuntimeWarning: invalid value encountered in true_divide\n",
      "  single_smape = (1/len(targets) * np.sum(2 * np.abs(predictions-targets) /\n"
     ]
    },
    {
     "name": "stdout",
     "output_type": "stream",
     "text": [
      "13.354992098069149\n",
      "nan\n",
      "\n"
     ]
    },
    {
     "name": "stderr",
     "output_type": "stream",
     "text": [
      "C:\\Users\\gorbu\\AppData\\Local\\Temp\\ipykernel_9784\\1120482644.py:2: RuntimeWarning: invalid value encountered in true_divide\n",
      "  single_smape = (1/len(targets) * np.sum(2 * np.abs(predictions-targets) /\n"
     ]
    },
    {
     "name": "stdout",
     "output_type": "stream",
     "text": [
      "nan\n",
      "nan\n",
      "\n",
      "16.50694482593217\n",
      "18.302731907415634\n",
      "\n"
     ]
    },
    {
     "name": "stderr",
     "output_type": "stream",
     "text": [
      "C:\\Users\\gorbu\\AppData\\Local\\Temp\\ipykernel_9784\\1120482644.py:2: RuntimeWarning: invalid value encountered in true_divide\n",
      "  single_smape = (1/len(targets) * np.sum(2 * np.abs(predictions-targets) /\n"
     ]
    },
    {
     "name": "stdout",
     "output_type": "stream",
     "text": [
      "nan\n",
      "14.913090806275763\n",
      "\n",
      "9.159956880814045\n",
      "24.446090221632762\n",
      "\n",
      "Среднее метрики sMAPE лучшей модели на кросс-валидации: 11.008386560119696\n",
      "Глубина лучшей модели: 4\n"
     ]
    }
   ],
   "source": [
    "best_model = None\n",
    "best_result = 100\n",
    "best_depth = 0\n",
    "for depth in range(1, 20):\n",
    "    model = DecisionTreeRegressor(random_state=12345, max_depth=depth)\n",
    "    scores  = cross_val_score(model, features_train, targets_train, cv=5, scoring=custom_Scoring)\n",
    "    result = scores.sum() / len(scores)\n",
    "    if result < best_result:\n",
    "        best_model = model\n",
    "        best_result = result\n",
    "        best_depth = depth\n",
    "        \n",
    "print(\"Среднее метрики sMAPE лучшей модели на кросс-валидации:\", best_result)\n",
    "print(\"Глубина лучшей модели:\", best_depth)"
   ]
  },
  {
   "cell_type": "markdown",
   "metadata": {},
   "source": [
    "#### Случайный лес"
   ]
  },
  {
   "cell_type": "code",
   "execution_count": 400,
   "metadata": {},
   "outputs": [
    {
     "name": "stdout",
     "output_type": "stream",
     "text": [
      "10.537923617608781\n",
      "11.025482827166305\n",
      "\n",
      "8.534045922792858\n",
      "10.219795857835251\n",
      "\n",
      "14.118006382286056\n",
      "11.312323999577082\n",
      "\n",
      "18.85097708066071\n",
      "12.737069068265452\n",
      "\n",
      "11.212976757149063\n",
      "11.701422289368999\n",
      "\n",
      "9.77580485157374\n",
      "10.288316224128433\n",
      "\n",
      "8.239810661330576\n",
      "10.733800044160644\n",
      "\n",
      "14.862564677517312\n",
      "11.745130528719072\n",
      "\n",
      "20.53198666011241\n",
      "11.01520254657045\n",
      "\n",
      "10.440883813207888\n",
      "11.71769510255107\n",
      "\n",
      "10.036859622607748\n",
      "10.513753182375517\n",
      "\n",
      "7.387897786984422\n",
      "9.528920470608329\n",
      "\n",
      "13.78921912230422\n",
      "10.259992628054148\n",
      "\n",
      "16.237525657253094\n",
      "10.878405972132738\n",
      "\n",
      "10.3253892195776\n",
      "11.38159119789421\n",
      "\n",
      "10.111302401490558\n",
      "10.355202103664977\n",
      "\n",
      "7.411515339608962\n",
      "9.342294654952287\n",
      "\n",
      "14.49477516499616\n",
      "10.824104932759298\n",
      "\n",
      "15.799247890651896\n",
      "10.633019115906906\n",
      "\n",
      "9.484054719751569\n",
      "11.088132676744964\n",
      "\n",
      "10.102907728080284\n",
      "10.215169455884691\n",
      "\n",
      "9.413102905329051\n",
      "10.066276015519408\n",
      "\n",
      "14.705389258001416\n",
      "10.851989075631865\n",
      "\n",
      "15.049275434075948\n",
      "10.328644646846334\n",
      "\n",
      "9.569937707999994\n",
      "10.96442089989344\n",
      "\n",
      "10.867394440891713\n",
      "10.303621094585832\n",
      "\n"
     ]
    },
    {
     "name": "stderr",
     "output_type": "stream",
     "text": [
      "C:\\Users\\gorbu\\AppData\\Local\\Temp\\ipykernel_9784\\1120482644.py:2: RuntimeWarning: invalid value encountered in true_divide\n",
      "  single_smape = (1/len(targets) * np.sum(2 * np.abs(predictions-targets) /\n"
     ]
    },
    {
     "name": "stdout",
     "output_type": "stream",
     "text": [
      "7.734461009197178\n",
      "nan\n",
      "\n",
      "15.0890712376831\n",
      "11.476477257533633\n",
      "\n",
      "15.177131424729646\n",
      "10.177843029963698\n",
      "\n",
      "9.777325694747896\n",
      "11.164084426491376\n",
      "\n"
     ]
    },
    {
     "name": "stderr",
     "output_type": "stream",
     "text": [
      "C:\\Users\\gorbu\\AppData\\Local\\Temp\\ipykernel_9784\\1120482644.py:2: RuntimeWarning: invalid value encountered in true_divide\n",
      "  single_smape = (1/len(targets) * np.sum(2 * np.abs(predictions-targets) /\n"
     ]
    },
    {
     "name": "stdout",
     "output_type": "stream",
     "text": [
      "nan\n",
      "12.165711680725135\n",
      "\n"
     ]
    },
    {
     "name": "stderr",
     "output_type": "stream",
     "text": [
      "C:\\Users\\gorbu\\AppData\\Local\\Temp\\ipykernel_9784\\1120482644.py:2: RuntimeWarning: invalid value encountered in true_divide\n",
      "  single_smape = (1/len(targets) * np.sum(2 * np.abs(predictions-targets) /\n"
     ]
    },
    {
     "name": "stdout",
     "output_type": "stream",
     "text": [
      "9.665680115526712\n",
      "nan\n",
      "\n",
      "15.403112203224731\n",
      "11.135926620615397\n",
      "\n",
      "15.297937150718184\n",
      "10.333441846930544\n",
      "\n",
      "12.172530381852342\n",
      "14.467693776896391\n",
      "\n"
     ]
    },
    {
     "name": "stderr",
     "output_type": "stream",
     "text": [
      "C:\\Users\\gorbu\\AppData\\Local\\Temp\\ipykernel_9784\\1120482644.py:2: RuntimeWarning: invalid value encountered in true_divide\n",
      "  single_smape = (1/len(targets) * np.sum(2 * np.abs(predictions-targets) /\n"
     ]
    },
    {
     "name": "stdout",
     "output_type": "stream",
     "text": [
      "nan\n",
      "14.606935445013661\n",
      "\n"
     ]
    },
    {
     "name": "stderr",
     "output_type": "stream",
     "text": [
      "C:\\Users\\gorbu\\AppData\\Local\\Temp\\ipykernel_9784\\1120482644.py:2: RuntimeWarning: invalid value encountered in true_divide\n",
      "  single_smape = (1/len(targets) * np.sum(2 * np.abs(predictions-targets) /\n"
     ]
    },
    {
     "name": "stdout",
     "output_type": "stream",
     "text": [
      "13.287347145116284\n",
      "nan\n",
      "\n",
      "15.394053091117188\n",
      "11.484078412033504\n",
      "\n",
      "14.889553007993632\n",
      "10.95506600998728\n",
      "\n",
      "10.72825518539878\n",
      "13.250173428650541\n",
      "\n"
     ]
    },
    {
     "name": "stderr",
     "output_type": "stream",
     "text": [
      "C:\\Users\\gorbu\\AppData\\Local\\Temp\\ipykernel_9784\\1120482644.py:2: RuntimeWarning: invalid value encountered in true_divide\n",
      "  single_smape = (1/len(targets) * np.sum(2 * np.abs(predictions-targets) /\n"
     ]
    },
    {
     "name": "stdout",
     "output_type": "stream",
     "text": [
      "nan\n",
      "14.541080402084095\n",
      "\n"
     ]
    },
    {
     "name": "stderr",
     "output_type": "stream",
     "text": [
      "C:\\Users\\gorbu\\AppData\\Local\\Temp\\ipykernel_9784\\1120482644.py:2: RuntimeWarning: invalid value encountered in true_divide\n",
      "  single_smape = (1/len(targets) * np.sum(2 * np.abs(predictions-targets) /\n"
     ]
    },
    {
     "name": "stdout",
     "output_type": "stream",
     "text": [
      "13.276284668606909\n",
      "nan\n",
      "\n",
      "16.453104436994966\n",
      "10.923345797630013\n",
      "\n",
      "14.984950307527102\n",
      "11.113779035896624\n",
      "\n",
      "10.585060309765915\n",
      "20.218851312842297\n",
      "\n",
      "10.612913550301895\n",
      "11.081221344399086\n",
      "\n",
      "8.555366608405157\n",
      "10.179471853179725\n",
      "\n",
      "13.65431894839913\n",
      "10.953207687922198\n",
      "\n",
      "18.515800481757047\n",
      "12.726164253821372\n",
      "\n",
      "11.20810696310678\n",
      "11.349578522525613\n",
      "\n",
      "9.277174966983846\n",
      "10.114964306650483\n",
      "\n",
      "8.209450969527493\n",
      "10.663421050786733\n",
      "\n",
      "15.097945504154973\n",
      "11.884608287903694\n",
      "\n",
      "19.24643206840673\n",
      "11.070735460448558\n",
      "\n",
      "10.453430971563918\n",
      "11.413411314248675\n",
      "\n",
      "9.202486111596182\n",
      "9.84820411958396\n",
      "\n",
      "7.191356045567012\n",
      "9.508503386729284\n",
      "\n",
      "14.249246662853361\n",
      "10.966075905284484\n",
      "\n",
      "16.33512799132595\n",
      "11.012137707381827\n",
      "\n",
      "10.211669064103226\n",
      "11.12334719955187\n",
      "\n",
      "11.05833033983718\n",
      "9.629766590978972\n",
      "\n",
      "7.266679851928247\n",
      "9.366846939187933\n",
      "\n",
      "15.022879935933728\n",
      "11.242518784484584\n",
      "\n",
      "16.009668897516413\n",
      "10.863464487264366\n",
      "\n",
      "9.045235900006219\n",
      "10.626381895169251\n",
      "\n",
      "13.76924954879516\n",
      "9.613046094036871\n",
      "\n",
      "7.753584270890573\n",
      "9.888480556968176\n",
      "\n",
      "15.185401046214118\n",
      "11.403073186558714\n",
      "\n",
      "15.208895715051465\n",
      "10.562405269732816\n",
      "\n",
      "9.36598779228417\n",
      "10.854397354314074\n",
      "\n",
      "12.30107126246982\n",
      "10.105664069922955\n",
      "\n",
      "7.433488581639745\n",
      "16.65554408076597\n",
      "\n",
      "14.930973912485038\n",
      "13.07085213237949\n",
      "\n",
      "15.14870901127455\n",
      "10.269353385253792\n",
      "\n",
      "9.138393869261531\n",
      "12.137400139630538\n",
      "\n",
      "14.654420861671799\n",
      "11.70849206921567\n",
      "\n",
      "8.332018029826598\n",
      "17.463407401011125\n",
      "\n",
      "15.029213653468442\n",
      "12.955242916306515\n",
      "\n",
      "14.865005296870647\n",
      "10.245815989708074\n",
      "\n",
      "10.717750906869695\n",
      "13.676836335849787\n",
      "\n",
      "16.805658600007327\n",
      "14.377441320157038\n",
      "\n",
      "10.23050609800335\n",
      "18.04145963524687\n",
      "\n",
      "15.218061412163891\n",
      "13.383925576193286\n",
      "\n",
      "14.864365368931558\n",
      "11.178227670856456\n",
      "\n",
      "10.054721501483739\n",
      "12.870346944503387\n",
      "\n",
      "16.00796561088876\n",
      "14.826110494940279\n",
      "\n",
      "11.725581479359017\n",
      "18.378278078564094\n",
      "\n",
      "15.220222115464892\n",
      "14.022355246374335\n",
      "\n",
      "14.895454596092964\n",
      "11.428187477136907\n",
      "\n",
      "10.119363957883548\n",
      "15.855726459809926\n",
      "\n",
      "10.3725117867238\n",
      "10.950675288875532\n",
      "\n",
      "8.435042140455074\n",
      "10.13834739145965\n",
      "\n",
      "13.659735290141741\n",
      "11.005102622478352\n",
      "\n",
      "18.658835380944005\n",
      "12.705035238139638\n",
      "\n",
      "10.928079691953434\n",
      "10.983563626126312\n",
      "\n",
      "9.344607526773725\n",
      "9.980069611612787\n",
      "\n",
      "7.487717723048479\n",
      "9.706109473406164\n",
      "\n",
      "14.775530329800779\n",
      "11.720155438342916\n",
      "\n",
      "19.71681132908265\n",
      "11.044096715710692\n",
      "\n",
      "10.390047174029661\n",
      "11.16635960026873\n",
      "\n",
      "9.86509681354604\n",
      "9.632111517089346\n",
      "\n",
      "7.079189124986033\n",
      "9.348113953028705\n",
      "\n",
      "14.248374153436215\n",
      "11.112910628744778\n",
      "\n",
      "16.989300207890796\n",
      "10.882898576949882\n",
      "\n",
      "9.932894781885233\n",
      "10.81245416644331\n",
      "\n",
      "10.535901630408222\n",
      "9.584514833246711\n",
      "\n",
      "7.530877992732797\n",
      "9.246874660774868\n",
      "\n",
      "14.555872615834952\n",
      "11.202666997372777\n",
      "\n",
      "15.818344207262518\n",
      "10.513763464338052\n",
      "\n",
      "8.74429080560791\n",
      "10.39671879609796\n",
      "\n",
      "12.064114179275744\n",
      "9.624736329728977\n",
      "\n",
      "7.210601033853978\n",
      "9.639815098286954\n",
      "\n",
      "14.81078517618971\n",
      "11.166639693743143\n",
      "\n",
      "15.265734644754\n",
      "10.218317092098935\n",
      "\n",
      "8.947036415743934\n",
      "10.631703430418705\n",
      "\n",
      "11.611350552311274\n",
      "9.602924197561967\n",
      "\n",
      "7.067132636492399\n",
      "13.53882241704078\n",
      "\n",
      "14.619046442076199\n",
      "12.024259472179494\n",
      "\n",
      "15.384969382200994\n",
      "9.843074784450234\n",
      "\n",
      "9.648576880033287\n",
      "11.623621207490588\n",
      "\n",
      "12.642733497632989\n",
      "10.28733510258641\n",
      "\n",
      "7.716774511274984\n",
      "14.128109500297633\n",
      "\n",
      "14.759305082989911\n",
      "11.85128275446449\n",
      "\n",
      "15.16861824422991\n",
      "9.92018870703874\n",
      "\n",
      "10.94230247732702\n",
      "12.628352333602235\n",
      "\n",
      "13.595259973207538\n",
      "11.945288551048982\n",
      "\n",
      "8.568573745694017\n",
      "14.43551690756529\n",
      "\n",
      "14.89554938063025\n",
      "12.242051329958151\n",
      "\n",
      "14.922789719908664\n",
      "10.266134463241993\n",
      "\n",
      "10.570275520421697\n",
      "12.280760770968461\n",
      "\n",
      "13.432662765919705\n",
      "12.009739297001703\n",
      "\n",
      "9.573373398180788\n",
      "14.9145880823814\n",
      "\n",
      "14.981261198211499\n",
      "12.5330004495265\n",
      "\n",
      "15.68197523895814\n",
      "10.693554721831251\n",
      "\n",
      "10.479822928751812\n",
      "14.093160654504556\n",
      "\n",
      "10.429864918919627\n",
      "10.96406057856761\n",
      "\n",
      "7.8693167487391475\n",
      "9.571299122146463\n",
      "\n",
      "13.649014751546682\n",
      "10.961541954057546\n",
      "\n",
      "18.65823591757417\n",
      "12.720683013027477\n",
      "\n",
      "11.008170970240116\n",
      "11.12109529937192\n",
      "\n",
      "9.448865862670548\n",
      "10.026484765866183\n",
      "\n",
      "7.114280754126633\n",
      "9.42967142147123\n",
      "\n",
      "14.80937205200395\n",
      "11.679811549459082\n",
      "\n",
      "19.656111453711247\n",
      "11.044165454889548\n",
      "\n",
      "10.203806101290423\n",
      "11.209966191686506\n",
      "\n",
      "9.791501548982783\n",
      "9.674690574057793\n",
      "\n",
      "6.690771502148611\n",
      "9.125310236376546\n",
      "\n",
      "14.413748725478918\n",
      "11.244951207333518\n",
      "\n",
      "16.724195372121983\n",
      "10.855051625787732\n",
      "\n",
      "9.816951793006456\n",
      "10.744628345803577\n",
      "\n",
      "9.991508834276205\n",
      "9.641645903374128\n",
      "\n",
      "7.011315804413767\n",
      "9.111390729294067\n",
      "\n",
      "14.720312466132901\n",
      "11.269474039475547\n",
      "\n",
      "16.084387041226382\n",
      "10.490251512138853\n",
      "\n",
      "8.745344568612405\n",
      "10.420370034180683\n",
      "\n",
      "11.002670426628768\n",
      "9.597182643864473\n",
      "\n",
      "6.804925911528579\n",
      "9.368828333249589\n",
      "\n",
      "14.346389192674813\n",
      "10.904241215532453\n",
      "\n",
      "15.422364317442431\n",
      "10.067781318535696\n",
      "\n",
      "8.967979622916562\n",
      "10.600924525813358\n",
      "\n",
      "10.9674550970901\n",
      "9.404776834655214\n",
      "\n",
      "6.810721457131595\n",
      "12.199375297808741\n",
      "\n",
      "14.062334682486355\n",
      "11.369565773785204\n",
      "\n",
      "15.463248518225237\n",
      "9.783992965212605\n",
      "\n",
      "9.173065610020195\n",
      "11.156302964488281\n",
      "\n",
      "11.80003269472811\n",
      "9.882212723747445\n",
      "\n",
      "7.356469744624872\n",
      "12.5334798854213\n",
      "\n",
      "14.0926589094418\n",
      "11.049051025098475\n",
      "\n",
      "15.310487323525782\n",
      "9.796227200989994\n",
      "\n",
      "9.854830393240324\n",
      "11.903286556113093\n",
      "\n",
      "13.276618864686887\n",
      "11.161332367256964\n",
      "\n",
      "13.632572034300415\n",
      "13.095532547460522\n",
      "\n",
      "14.398309833862026\n",
      "11.472090254818816\n",
      "\n",
      "15.007013697246265\n",
      "10.08015753694039\n",
      "\n",
      "9.635079615126518\n",
      "11.790076226440991\n",
      "\n",
      "14.416678094077728\n",
      "10.891510407460256\n",
      "\n",
      "8.84676869671435\n",
      "13.53314094547299\n",
      "\n",
      "14.517144446823236\n",
      "11.73959743944623\n",
      "\n",
      "15.372133186083905\n",
      "10.278766237368334\n",
      "\n",
      "9.629860999186363\n",
      "12.922092546546496\n",
      "\n",
      "10.368033346733192\n",
      "10.978356056193189\n",
      "\n",
      "7.991414446075114\n",
      "9.69648315088799\n",
      "\n",
      "13.7189484047063\n",
      "10.99851363687462\n",
      "\n",
      "18.569189824951085\n",
      "12.721271832414248\n",
      "\n",
      "11.025924575786087\n",
      "11.101962926103779\n",
      "\n",
      "9.509753461483982\n",
      "10.052186296958157\n",
      "\n",
      "7.044717575689119\n",
      "9.288055297985647\n",
      "\n",
      "14.82909381856577\n",
      "11.696580175560406\n",
      "\n",
      "19.371449342431546\n",
      "11.034624299453412\n",
      "\n",
      "10.256107261004557\n",
      "11.190170872971139\n",
      "\n",
      "10.125834426849941\n",
      "9.776719025807266\n",
      "\n",
      "6.751617939058978\n",
      "9.164556993047555\n",
      "\n",
      "14.512769245773459\n",
      "11.335886072720983\n",
      "\n",
      "16.591769932843732\n",
      "10.86479620909113\n",
      "\n",
      "9.875712287725712\n",
      "10.770646675363757\n",
      "\n",
      "9.980131360404796\n",
      "9.773155812979047\n",
      "\n",
      "6.861940250621651\n",
      "9.123621135118324\n",
      "\n",
      "14.939574441341268\n",
      "11.45217884739244\n",
      "\n",
      "16.0899071389854\n",
      "10.492310563603013\n",
      "\n",
      "8.550172814728958\n",
      "10.3242319611709\n",
      "\n",
      "10.837546231964952\n",
      "9.711490579059884\n",
      "\n",
      "6.581480768338489\n",
      "9.274607575383273\n",
      "\n",
      "14.57943215780157\n",
      "11.166667434081722\n",
      "\n",
      "15.411096125388957\n",
      "10.05140215129549\n",
      "\n",
      "8.718474858384397\n",
      "10.529234737358646\n",
      "\n",
      "10.956729889036376\n",
      "9.482578493274888\n",
      "\n",
      "6.6696603452806755\n",
      "11.414267759544053\n",
      "\n",
      "14.129802416482207\n",
      "11.208868664715142\n",
      "\n",
      "15.358429511677322\n",
      "9.754683101700866\n",
      "\n",
      "9.02336104106463\n",
      "11.226189192750738\n",
      "\n",
      "11.639741855376156\n",
      "9.834149222893718\n",
      "\n",
      "8.723699086272898\n",
      "11.804309420648579\n",
      "\n",
      "13.914237115097983\n",
      "10.809812479897591\n",
      "\n",
      "15.203180530968949\n",
      "9.673944417226297\n",
      "\n",
      "9.536184116941659\n",
      "11.955383966373034\n",
      "\n",
      "12.524910572309583\n",
      "10.842955843105583\n",
      "\n",
      "15.123601794379633\n",
      "12.838928790389694\n",
      "\n",
      "14.058551035359118\n",
      "11.11315213269041\n",
      "\n",
      "14.920885103161945\n",
      "9.818991409458524\n",
      "\n",
      "9.301390590043189\n",
      "11.84886526463876\n",
      "\n",
      "13.423380742195928\n",
      "10.564940184623099\n",
      "\n",
      "10.296604171980682\n",
      "13.3239277413588\n",
      "\n",
      "14.262210491025389\n",
      "11.610250042296105\n",
      "\n",
      "15.134424768634439\n",
      "10.053268238595061\n",
      "\n",
      "9.174378614378174\n",
      "12.836104179623383\n",
      "\n",
      "10.371999417407867\n",
      "10.970497579527567\n",
      "\n",
      "8.08369512119382\n",
      "9.78577671472656\n",
      "\n",
      "13.644298492920967\n",
      "10.994808482738831\n",
      "\n",
      "17.9535693679653\n",
      "12.53995963533366\n",
      "\n",
      "11.039157334710152\n",
      "11.167345268697783\n",
      "\n",
      "9.581454905982397\n",
      "10.097049028071822\n",
      "\n",
      "7.182906090019032\n",
      "9.455107026336101\n",
      "\n",
      "14.803138116271297\n",
      "11.621755563428694\n",
      "\n",
      "18.10089459617262\n",
      "10.93923753538452\n",
      "\n",
      "10.286819181199535\n",
      "11.258932349151964\n",
      "\n",
      "9.996288942693555\n",
      "9.812760198134484\n",
      "\n",
      "6.734770888721695\n",
      "9.211096010490733\n",
      "\n",
      "14.563678696622944\n",
      "11.363664163943161\n",
      "\n",
      "16.231883163872507\n",
      "10.728720143928868\n",
      "\n",
      "9.913492815272889\n",
      "10.877503357917673\n",
      "\n",
      "9.774601241825794\n",
      "9.787736106904273\n",
      "\n",
      "6.725958563478875\n",
      "9.172832345732083\n",
      "\n",
      "14.875801975726588\n",
      "11.416936029311515\n",
      "\n",
      "15.846635414807539\n",
      "10.41099206549523\n",
      "\n",
      "8.622491105338105\n",
      "10.444799607489674\n",
      "\n",
      "10.47392874949949\n",
      "9.720956615968515\n",
      "\n",
      "6.491189003925727\n",
      "9.322268533881441\n",
      "\n",
      "14.597875860524887\n",
      "11.178763796374957\n",
      "\n",
      "15.24598987585938\n",
      "10.01331028530704\n",
      "\n",
      "8.767332808201479\n",
      "10.581801434342596\n",
      "\n",
      "10.707206049458282\n",
      "9.512901199516163\n",
      "\n",
      "6.562911838329778\n",
      "11.137144956730475\n",
      "\n",
      "14.240008010434954\n",
      "11.168634390371768\n",
      "\n",
      "15.18238656042721\n",
      "9.745264749006674\n",
      "\n",
      "8.972119034859864\n",
      "10.842813968661916\n",
      "\n",
      "11.26725666751975\n",
      "9.823161612191853\n",
      "\n",
      "8.198683464072404\n",
      "11.566236563168733\n",
      "\n",
      "13.908069257945417\n",
      "10.766725363370027\n",
      "\n",
      "15.074934296861382\n",
      "9.662551001924127\n",
      "\n",
      "9.492159829451467\n",
      "11.415142189473443\n",
      "\n",
      "11.794438429523863\n",
      "10.655658017669758\n",
      "\n",
      "13.00664292339025\n",
      "14.596532790018026\n",
      "\n",
      "13.801297031710146\n",
      "10.904264508243084\n",
      "\n",
      "14.878971364639558\n",
      "9.791918119961412\n",
      "\n",
      "9.336136276624709\n",
      "11.53969126212857\n",
      "\n",
      "12.448349206009702\n",
      "10.369579690014067\n",
      "\n",
      "10.021918578718875\n",
      "15.213349934621368\n",
      "\n",
      "14.042380267333234\n",
      "11.364020713758652\n",
      "\n",
      "14.979433531133505\n",
      "9.917141071155823\n",
      "\n",
      "9.405211464404054\n",
      "12.989628911779068\n",
      "\n",
      "10.332657822745691\n",
      "10.980065160459471\n",
      "\n",
      "8.035912403889125\n",
      "9.902564185637614\n",
      "\n",
      "13.626250502298502\n",
      "11.008179268793512\n",
      "\n",
      "18.072001321073856\n",
      "12.571750214025073\n",
      "\n",
      "10.918269361487846\n",
      "11.14326663686843\n",
      "\n",
      "9.445319159704917\n",
      "10.115339001678924\n",
      "\n",
      "7.098244552010933\n",
      "9.43675676737624\n",
      "\n",
      "14.811223747422792\n",
      "11.561081573649812\n",
      "\n",
      "18.21601386644576\n",
      "10.95232068798283\n",
      "\n",
      "10.335125546044322\n",
      "11.288990769468315\n",
      "\n",
      "9.85798886100803\n",
      "9.783090885393628\n",
      "\n",
      "6.71391303454266\n",
      "9.168627498327917\n",
      "\n",
      "14.587247773606057\n",
      "11.336341950538245\n",
      "\n",
      "16.288569211529918\n",
      "10.772293938005983\n",
      "\n",
      "10.007061821972046\n",
      "10.941342935744666\n",
      "\n",
      "9.544066572165914\n",
      "9.740172509898679\n",
      "\n",
      "6.5993665642467025\n",
      "9.180077812037625\n",
      "\n",
      "14.89521940282501\n",
      "11.463410981560756\n",
      "\n",
      "15.889139728498666\n",
      "10.425016668286789\n",
      "\n",
      "8.71503866022686\n",
      "10.539408597440282\n",
      "\n",
      "10.130493634143743\n",
      "9.691445061452987\n",
      "\n",
      "6.565285470587113\n",
      "9.399984917029713\n",
      "\n",
      "14.614327159307983\n",
      "11.221241943110778\n",
      "\n",
      "15.308146258680393\n",
      "10.059044662037056\n",
      "\n",
      "9.097151946481164\n",
      "10.637951058295972\n",
      "\n",
      "10.64022058351333\n",
      "9.488611370034409\n",
      "\n",
      "8.411925580647129\n",
      "11.030474550526009\n",
      "\n",
      "14.239551544886819\n",
      "11.097543566675341\n",
      "\n",
      "15.222460680831647\n",
      "9.674067871064182\n",
      "\n",
      "9.18082551505506\n",
      "10.825836128409344\n",
      "\n",
      "11.147675466821461\n",
      "9.76473114948043\n",
      "\n",
      "10.22839301263464\n",
      "11.412003161912386\n",
      "\n",
      "13.927290984656842\n",
      "10.709910028907442\n",
      "\n",
      "15.119269292026237\n",
      "9.624387870572306\n",
      "\n",
      "9.66124396014879\n",
      "11.280486489986295\n",
      "\n",
      "12.317425834944917\n",
      "10.428655853669136\n",
      "\n",
      "14.986567251979883\n",
      "14.019111099535028\n",
      "\n",
      "13.83827848478409\n",
      "10.872354339826808\n",
      "\n",
      "14.921557017899312\n",
      "9.75877448056415\n",
      "\n",
      "9.351995147608537\n",
      "11.522388939605776\n",
      "\n",
      "12.892035626446281\n",
      "10.180138059038232\n",
      "\n",
      "11.8130481320795\n",
      "14.54197074173075\n",
      "\n",
      "13.965998852967989\n",
      "11.206120640042707\n",
      "\n",
      "15.130493468989481\n",
      "9.78616074096689\n",
      "\n",
      "9.33791531382637\n",
      "12.974786284859935\n",
      "\n",
      "10.31595549743433\n",
      "10.989456356661163\n",
      "\n",
      "8.098933596379391\n",
      "9.944303660437301\n",
      "\n",
      "13.649024478497806\n",
      "10.989098451006445\n",
      "\n",
      "18.131546218471687\n",
      "12.599211330459372\n",
      "\n",
      "10.95602606705776\n",
      "11.198250380682074\n",
      "\n",
      "9.44569956049157\n",
      "10.109518818026409\n",
      "\n",
      "7.030794743087328\n",
      "9.315347474289256\n",
      "\n",
      "14.871055251062067\n",
      "11.634037495324906\n",
      "\n",
      "17.61894112044505\n",
      "11.032023117176065\n",
      "\n",
      "10.347061676620827\n",
      "11.341707132864371\n",
      "\n",
      "9.892511369042053\n",
      "9.821093773336589\n",
      "\n",
      "6.782639221468874\n",
      "9.17631402048374\n",
      "\n",
      "14.653503446242416\n",
      "11.424180012052124\n",
      "\n",
      "16.165276023672504\n",
      "10.817020488864607\n",
      "\n",
      "9.990926234475186\n",
      "10.995286315177095\n",
      "\n",
      "9.589188910984129\n",
      "9.781244678692925\n",
      "\n",
      "6.521140746163446\n",
      "9.181956685252734\n",
      "\n",
      "14.793770685519306\n",
      "11.364860664974618\n",
      "\n",
      "15.727638402274133\n",
      "10.39643802283965\n",
      "\n",
      "8.74676867825975\n",
      "10.613794627056752\n",
      "\n",
      "10.06562453175428\n",
      "9.746024027550243\n",
      "\n",
      "6.527832616250135\n",
      "9.426357258396546\n",
      "\n",
      "14.500801506891298\n",
      "11.067510456138718\n",
      "\n",
      "15.186126212453061\n",
      "10.068294150842135\n",
      "\n",
      "9.174248558244244\n",
      "10.70324535289332\n",
      "\n",
      "10.44872796078621\n",
      "9.480496952857846\n",
      "\n",
      "8.308418959579718\n",
      "10.894717116841468\n",
      "\n",
      "14.171172324632462\n",
      "11.087140573681461\n",
      "\n",
      "15.174935096902972\n",
      "9.950297411622419\n",
      "\n",
      "9.126974696897614\n",
      "10.810023912438567\n",
      "\n",
      "10.896726792377931\n",
      "9.657364747532677\n",
      "\n",
      "9.801861218122054\n",
      "11.256300793403097\n",
      "\n",
      "13.843934569856051\n",
      "10.968013092293358\n",
      "\n",
      "15.08135306296281\n",
      "9.999789569747938\n",
      "\n",
      "9.54721946142586\n",
      "11.20745092284504\n",
      "\n",
      "11.475414693577065\n",
      "10.172850401572154\n",
      "\n",
      "13.875401985935301\n",
      "13.559493847171478\n",
      "\n",
      "13.73489840126232\n",
      "10.979725702696241\n",
      "\n",
      "14.911165521564188\n",
      "10.201851249056\n",
      "\n",
      "9.244835724015346\n",
      "11.375307290003724\n",
      "\n",
      "11.986581493715947\n",
      "10.04963168217151\n",
      "\n",
      "11.118168034955247\n",
      "14.471397347166032\n",
      "\n",
      "13.868039146952873\n",
      "11.185194592748516\n",
      "\n",
      "15.176528321654382\n",
      "10.403062045871732\n",
      "\n",
      "9.098443847847987\n",
      "12.56447975268944\n",
      "\n",
      "10.326305957853698\n",
      "11.00235459826493\n",
      "\n",
      "8.148409176316125\n",
      "9.977575543696382\n",
      "\n",
      "13.636134479449264\n",
      "10.999233410624374\n",
      "\n",
      "18.193960402057456\n",
      "12.627109095429585\n",
      "\n",
      "11.005433542135032\n",
      "11.24149926400017\n",
      "\n",
      "9.5547092851094\n",
      "10.18026608150028\n",
      "\n",
      "7.142510724439566\n",
      "9.441312024763826\n",
      "\n",
      "14.895140078956853\n",
      "11.650269912027893\n",
      "\n",
      "17.779902041814044\n",
      "11.03355556710198\n",
      "\n",
      "10.386141146711978\n",
      "11.384225008887176\n",
      "\n",
      "9.883605788186637\n",
      "9.853279287967737\n",
      "\n",
      "6.779631348624904\n",
      "9.212902665938962\n",
      "\n",
      "14.597696793449023\n",
      "11.375376878845062\n",
      "\n",
      "16.30832991117963\n",
      "10.834417496774403\n",
      "\n",
      "10.046765186556623\n",
      "11.051398053613143\n",
      "\n",
      "9.47891209440939\n",
      "9.78521374177015\n",
      "\n",
      "6.494857254973001\n",
      "9.25463230747278\n",
      "\n",
      "14.871103091155803\n",
      "11.359046234529616\n",
      "\n",
      "15.91107708402506\n",
      "10.423580816703247\n",
      "\n",
      "8.810248742459457\n",
      "10.654885868271691\n",
      "\n",
      "9.866276521390851\n",
      "9.728085996823\n",
      "\n",
      "6.456120221262356\n",
      "9.425614248355542\n",
      "\n",
      "14.547845492334151\n",
      "11.044411966777233\n",
      "\n",
      "15.3077779419767\n",
      "10.071113656571088\n",
      "\n",
      "9.137907307759003\n",
      "10.723530700992177\n",
      "\n",
      "10.338039374491371\n",
      "9.500912717756835\n",
      "\n",
      "8.112096824564887\n",
      "10.792953290656227\n",
      "\n",
      "14.269848215182567\n",
      "11.030608042223104\n",
      "\n",
      "15.416245113474663\n",
      "9.960198578274298\n",
      "\n",
      "9.092524215246476\n",
      "10.756658702973862\n",
      "\n",
      "10.679777187704754\n",
      "9.582064526221917\n",
      "\n",
      "9.415840533416025\n",
      "11.076844465222475\n",
      "\n",
      "13.941298462516627\n",
      "10.829893522937489\n",
      "\n",
      "15.165759087287293\n",
      "9.973074654735415\n",
      "\n",
      "9.368544000486152\n",
      "11.067261031453258\n",
      "\n",
      "11.071292983055578\n",
      "9.96949021701882\n",
      "\n",
      "12.866044438844163\n",
      "13.082402373123868\n",
      "\n",
      "13.782458200091327\n",
      "10.786874805117208\n",
      "\n",
      "15.004362105363093\n",
      "10.128237067436883\n",
      "\n",
      "9.107066165367357\n",
      "11.249570092838782\n",
      "\n",
      "11.443204890878148\n",
      "9.814382328267515\n",
      "\n",
      "10.27686450090195\n",
      "13.74718181215356\n",
      "\n",
      "13.866765233690524\n",
      "11.009369625101105\n",
      "\n",
      "15.202883644782895\n",
      "10.257626657452345\n",
      "\n",
      "8.925534679522702\n",
      "12.168757677747104\n",
      "\n",
      "Среднее метрики sMAPE лучшей модели на кросс-валидации: 10.40138091478173\n",
      "Количество деревьев лучшей модели: 6\n",
      "Глубина лучшей модели: 5\n"
     ]
    }
   ],
   "source": [
    "best_model = None\n",
    "best_result = 100\n",
    "best_depth = 0\n",
    "best_est = 0\n",
    "for est in range(1, 10):\n",
    "    for depth in range(1, 10):\n",
    "        model = RandomForestRegressor(random_state=12345, n_estimators=est, max_depth=depth) \n",
    "        scores  = cross_val_score(model, features_train, targets_train, cv=5, scoring=custom_Scoring)\n",
    "        result = scores.sum() / len(scores)\n",
    "        if result < best_result:\n",
    "            best_model = model \n",
    "            best_result = result \n",
    "            best_depth = depth\n",
    "            best_est = est\n",
    "        \n",
    "print(\"Среднее метрики sMAPE лучшей модели на кросс-валидации:\", best_result)\n",
    "print(\"Количество деревьев лучшей модели:\", best_est)\n",
    "print(\"Глубина лучшей модели:\", best_depth)"
   ]
  },
  {
   "cell_type": "markdown",
   "metadata": {},
   "source": [
    "Лучшая модель на обучающей выборке с использованием кросс-валидации - случайный лес (параметры: количество деревьев 6, глубина лучшей модели 5), итоговая ошибка 10,4%."
   ]
  },
  {
   "cell_type": "markdown",
   "metadata": {},
   "source": [
    "### Проверка на тестовой выборке"
   ]
  },
  {
   "cell_type": "code",
   "execution_count": 402,
   "metadata": {
    "scrolled": true
   },
   "outputs": [
    {
     "name": "stdout",
     "output_type": "stream",
     "text": [
      "8.677953371163028\n",
      "9.194382385373869\n",
      "\n",
      "Метрика sMAPE лучшей модели на тестовой выборке: 9.065275131821158\n"
     ]
    }
   ],
   "source": [
    "model = RandomForestRegressor(random_state=12345, n_estimators=6, max_depth=5) \n",
    "model.fit(features_train, targets_train) \n",
    "predicted = model.predict(features_test)\n",
    "result = smape(targets_test, predicted)\n",
    "\n",
    "print(\"Метрика sMAPE лучшей модели на тестовой выборке:\", result)"
   ]
  },
  {
   "cell_type": "code",
   "execution_count": 56,
   "metadata": {
    "scrolled": true
   },
   "outputs": [
    {
     "name": "stdout",
     "output_type": "stream",
     "text": [
      "Метрика sMAPE Наивной модели на тестовой выборке: 10.289630376021034\n"
     ]
    }
   ],
   "source": [
    "from sklearn.dummy import DummyRegressor\n",
    "model = DummyRegressor()\n",
    "model.fit(features_train, targets_train) \n",
    "predicted = model.predict(features_test)\n",
    "result = smape(targets_test, predicted)\n",
    "\n",
    "print(\"Метрика sMAPE Наивной модели на тестовой выборке:\", result)"
   ]
  },
  {
   "cell_type": "markdown",
   "metadata": {},
   "source": [
    "## Вывод"
   ]
  },
  {
   "cell_type": "markdown",
   "metadata": {},
   "source": [
    "По результатам обучения и подбора параметров моделей лучшая модель на обучающей выборке с использованием кросс-валидации - случайный лес (параметры: количество деревьев 6, глубина лучшей модели 5), sMAPE 10,4%.  \n",
    "На обучающей выборке симметричное среднее абсолютное отклонение 9,06%.  \n",
    "То есть на тестовой выборке предсказания в среднем отклоняются от среднего значения целевого признака и предсказания на 9,06%.   "
   ]
  }
 ],
 "metadata": {
  "ExecuteTimeLog": [
   {
    "duration": 2566,
    "start_time": "2022-07-17T12:25:15.579Z"
   },
   {
    "duration": 327,
    "start_time": "2022-07-17T12:25:18.148Z"
   },
   {
    "duration": 23,
    "start_time": "2022-07-17T12:25:18.477Z"
   },
   {
    "duration": 228,
    "start_time": "2022-07-17T12:25:18.502Z"
   },
   {
    "duration": 137,
    "start_time": "2022-07-17T12:25:18.732Z"
   },
   {
    "duration": 27,
    "start_time": "2022-07-17T12:25:18.871Z"
   },
   {
    "duration": 183,
    "start_time": "2022-07-17T12:25:18.900Z"
   },
   {
    "duration": 438,
    "start_time": "2022-07-17T12:25:19.086Z"
   },
   {
    "duration": 37,
    "start_time": "2022-07-17T12:25:19.526Z"
   },
   {
    "duration": 248,
    "start_time": "2022-07-17T12:25:19.568Z"
   },
   {
    "duration": 129,
    "start_time": "2022-07-17T12:25:19.818Z"
   },
   {
    "duration": 23,
    "start_time": "2022-07-17T12:25:19.949Z"
   },
   {
    "duration": 102,
    "start_time": "2022-07-17T12:25:19.974Z"
   },
   {
    "duration": 8,
    "start_time": "2022-07-17T12:25:20.078Z"
   },
   {
    "duration": 6,
    "start_time": "2022-07-17T12:25:20.088Z"
   },
   {
    "duration": 14,
    "start_time": "2022-07-17T12:25:20.095Z"
   },
   {
    "duration": 5,
    "start_time": "2022-07-17T12:25:20.110Z"
   },
   {
    "duration": 31,
    "start_time": "2022-07-17T12:25:20.116Z"
   },
   {
    "duration": 9,
    "start_time": "2022-07-17T12:25:20.149Z"
   },
   {
    "duration": 9,
    "start_time": "2022-07-17T12:25:20.160Z"
   },
   {
    "duration": 9,
    "start_time": "2022-07-17T12:25:20.171Z"
   },
   {
    "duration": 7,
    "start_time": "2022-07-17T12:25:20.182Z"
   },
   {
    "duration": 10,
    "start_time": "2022-07-17T12:25:20.190Z"
   },
   {
    "duration": 6,
    "start_time": "2022-07-17T12:25:20.202Z"
   },
   {
    "duration": 39,
    "start_time": "2022-07-17T12:25:20.210Z"
   },
   {
    "duration": 8,
    "start_time": "2022-07-17T12:25:20.252Z"
   },
   {
    "duration": 9,
    "start_time": "2022-07-17T12:25:20.261Z"
   },
   {
    "duration": 8,
    "start_time": "2022-07-17T12:25:20.274Z"
   },
   {
    "duration": 7,
    "start_time": "2022-07-17T12:25:20.284Z"
   },
   {
    "duration": 7,
    "start_time": "2022-07-17T12:25:20.292Z"
   },
   {
    "duration": 13,
    "start_time": "2022-07-17T12:25:20.300Z"
   },
   {
    "duration": 13,
    "start_time": "2022-07-17T12:25:20.345Z"
   },
   {
    "duration": 2002,
    "start_time": "2022-07-17T12:25:20.359Z"
   },
   {
    "duration": 47,
    "start_time": "2022-07-17T12:25:22.362Z"
   },
   {
    "duration": 281,
    "start_time": "2022-07-17T12:25:22.411Z"
   },
   {
    "duration": 410,
    "start_time": "2022-07-17T12:25:22.693Z"
   },
   {
    "duration": 11,
    "start_time": "2022-07-17T12:25:23.105Z"
   },
   {
    "duration": 9,
    "start_time": "2022-07-17T12:25:23.120Z"
   },
   {
    "duration": 265,
    "start_time": "2022-07-17T12:25:23.146Z"
   },
   {
    "duration": 20,
    "start_time": "2022-07-17T12:25:23.413Z"
   },
   {
    "duration": 660,
    "start_time": "2022-07-17T12:25:23.446Z"
   },
   {
    "duration": 42,
    "start_time": "2022-07-17T12:25:24.108Z"
   },
   {
    "duration": 18,
    "start_time": "2022-07-17T12:25:24.152Z"
   },
   {
    "duration": 18,
    "start_time": "2022-07-17T12:25:24.172Z"
   },
   {
    "duration": 22,
    "start_time": "2022-07-17T12:25:24.192Z"
   },
   {
    "duration": 47,
    "start_time": "2022-07-17T12:25:24.217Z"
   },
   {
    "duration": 12,
    "start_time": "2022-07-17T12:25:24.267Z"
   },
   {
    "duration": 8,
    "start_time": "2022-07-17T12:25:24.281Z"
   },
   {
    "duration": 24,
    "start_time": "2022-07-17T12:25:24.291Z"
   },
   {
    "duration": 7,
    "start_time": "2022-07-17T12:25:24.317Z"
   },
   {
    "duration": 14246,
    "start_time": "2022-07-17T12:25:24.326Z"
   },
   {
    "duration": 7,
    "start_time": "2022-07-17T12:25:38.574Z"
   },
   {
    "duration": 21,
    "start_time": "2022-07-17T12:25:38.582Z"
   },
   {
    "duration": 21,
    "start_time": "2022-07-17T12:25:38.605Z"
   },
   {
    "duration": 14,
    "start_time": "2022-07-17T12:25:38.646Z"
   },
   {
    "duration": 5,
    "start_time": "2022-07-17T12:25:38.662Z"
   },
   {
    "duration": 14,
    "start_time": "2022-07-17T12:25:38.669Z"
   },
   {
    "duration": 1571,
    "start_time": "2022-07-17T12:25:38.685Z"
   },
   {
    "duration": 103,
    "start_time": "2022-07-17T12:26:14.632Z"
   },
   {
    "duration": 5,
    "start_time": "2022-07-17T12:27:01.284Z"
   },
   {
    "duration": 430,
    "start_time": "2022-07-17T12:27:01.291Z"
   },
   {
    "duration": 36,
    "start_time": "2022-07-17T12:27:01.723Z"
   },
   {
    "duration": 219,
    "start_time": "2022-07-17T12:27:01.760Z"
   },
   {
    "duration": 123,
    "start_time": "2022-07-17T12:27:01.981Z"
   },
   {
    "duration": 23,
    "start_time": "2022-07-17T12:27:02.107Z"
   },
   {
    "duration": 139,
    "start_time": "2022-07-17T12:27:02.132Z"
   },
   {
    "duration": 420,
    "start_time": "2022-07-17T12:27:02.273Z"
   },
   {
    "duration": 20,
    "start_time": "2022-07-17T12:27:02.695Z"
   },
   {
    "duration": 244,
    "start_time": "2022-07-17T12:27:02.716Z"
   },
   {
    "duration": 124,
    "start_time": "2022-07-17T12:27:02.963Z"
   },
   {
    "duration": 21,
    "start_time": "2022-07-17T12:27:03.088Z"
   },
   {
    "duration": 107,
    "start_time": "2022-07-17T12:27:03.111Z"
   },
   {
    "duration": 8,
    "start_time": "2022-07-17T12:27:03.220Z"
   },
   {
    "duration": 17,
    "start_time": "2022-07-17T12:27:03.230Z"
   },
   {
    "duration": 9,
    "start_time": "2022-07-17T12:27:03.249Z"
   },
   {
    "duration": 3,
    "start_time": "2022-07-17T12:27:03.260Z"
   },
   {
    "duration": 9,
    "start_time": "2022-07-17T12:27:03.265Z"
   },
   {
    "duration": 11,
    "start_time": "2022-07-17T12:27:03.276Z"
   },
   {
    "duration": 7,
    "start_time": "2022-07-17T12:27:03.289Z"
   },
   {
    "duration": 8,
    "start_time": "2022-07-17T12:27:03.297Z"
   },
   {
    "duration": 7,
    "start_time": "2022-07-17T12:27:03.306Z"
   },
   {
    "duration": 6,
    "start_time": "2022-07-17T12:27:03.346Z"
   },
   {
    "duration": 9,
    "start_time": "2022-07-17T12:27:03.354Z"
   },
   {
    "duration": 22,
    "start_time": "2022-07-17T12:27:03.365Z"
   },
   {
    "duration": 8,
    "start_time": "2022-07-17T12:27:03.388Z"
   },
   {
    "duration": 10,
    "start_time": "2022-07-17T12:27:03.397Z"
   },
   {
    "duration": 38,
    "start_time": "2022-07-17T12:27:03.409Z"
   },
   {
    "duration": 7,
    "start_time": "2022-07-17T12:27:03.450Z"
   },
   {
    "duration": 8,
    "start_time": "2022-07-17T12:27:03.459Z"
   },
   {
    "duration": 11,
    "start_time": "2022-07-17T12:27:03.468Z"
   },
   {
    "duration": 21,
    "start_time": "2022-07-17T12:27:03.481Z"
   },
   {
    "duration": 1925,
    "start_time": "2022-07-17T12:27:03.505Z"
   },
   {
    "duration": 66,
    "start_time": "2022-07-17T12:27:05.432Z"
   },
   {
    "duration": 266,
    "start_time": "2022-07-17T12:27:05.500Z"
   },
   {
    "duration": 426,
    "start_time": "2022-07-17T12:27:05.768Z"
   },
   {
    "duration": 8,
    "start_time": "2022-07-17T12:27:06.196Z"
   },
   {
    "duration": 8,
    "start_time": "2022-07-17T12:27:06.205Z"
   },
   {
    "duration": 245,
    "start_time": "2022-07-17T12:27:06.215Z"
   },
   {
    "duration": 19,
    "start_time": "2022-07-17T12:27:06.462Z"
   },
   {
    "duration": 591,
    "start_time": "2022-07-17T12:27:06.482Z"
   },
   {
    "duration": 26,
    "start_time": "2022-07-17T12:27:07.075Z"
   },
   {
    "duration": 13,
    "start_time": "2022-07-17T12:27:07.102Z"
   },
   {
    "duration": 30,
    "start_time": "2022-07-17T12:27:07.117Z"
   },
   {
    "duration": 19,
    "start_time": "2022-07-17T12:27:07.149Z"
   },
   {
    "duration": 27,
    "start_time": "2022-07-17T12:27:07.171Z"
   },
   {
    "duration": 8,
    "start_time": "2022-07-17T12:27:07.199Z"
   },
   {
    "duration": 7,
    "start_time": "2022-07-17T12:27:07.209Z"
   },
   {
    "duration": 30,
    "start_time": "2022-07-17T12:27:07.217Z"
   },
   {
    "duration": 4,
    "start_time": "2022-07-17T12:27:07.248Z"
   },
   {
    "duration": 13615,
    "start_time": "2022-07-17T12:27:07.254Z"
   },
   {
    "duration": 7,
    "start_time": "2022-07-17T12:27:20.871Z"
   },
   {
    "duration": 20,
    "start_time": "2022-07-17T12:27:20.879Z"
   },
   {
    "duration": 18,
    "start_time": "2022-07-17T12:27:20.900Z"
   },
   {
    "duration": 18,
    "start_time": "2022-07-17T12:29:40.460Z"
   },
   {
    "duration": 14,
    "start_time": "2022-07-17T12:29:41.545Z"
   },
   {
    "duration": 4,
    "start_time": "2022-07-17T12:29:59.792Z"
   },
   {
    "duration": 1396,
    "start_time": "2022-07-17T12:30:02.952Z"
   },
   {
    "duration": 5,
    "start_time": "2022-07-17T12:32:06.266Z"
   },
   {
    "duration": 1618,
    "start_time": "2022-07-17T12:32:10.742Z"
   },
   {
    "duration": 6,
    "start_time": "2022-07-17T12:39:31.453Z"
   },
   {
    "duration": 1655,
    "start_time": "2022-07-17T12:39:42.197Z"
   },
   {
    "duration": 5,
    "start_time": "2022-07-17T12:40:02.416Z"
   },
   {
    "duration": 1550,
    "start_time": "2022-07-17T12:40:07.902Z"
   },
   {
    "duration": 5,
    "start_time": "2022-07-17T12:40:12.836Z"
   },
   {
    "duration": 1251,
    "start_time": "2022-07-17T12:40:15.302Z"
   },
   {
    "duration": 5,
    "start_time": "2022-07-17T12:42:14.175Z"
   },
   {
    "duration": 1066,
    "start_time": "2022-07-17T12:42:17.590Z"
   },
   {
    "duration": 8,
    "start_time": "2022-07-17T12:43:00.229Z"
   },
   {
    "duration": 1705,
    "start_time": "2022-07-17T12:43:03.440Z"
   },
   {
    "duration": 7,
    "start_time": "2022-07-17T12:43:59.024Z"
   },
   {
    "duration": 5,
    "start_time": "2022-07-17T12:44:03.446Z"
   },
   {
    "duration": 1608,
    "start_time": "2022-07-17T12:44:07.143Z"
   },
   {
    "duration": 5,
    "start_time": "2022-07-17T12:44:33.503Z"
   },
   {
    "duration": 1163,
    "start_time": "2022-07-17T12:44:36.390Z"
   },
   {
    "duration": 6,
    "start_time": "2022-07-17T12:46:07.265Z"
   },
   {
    "duration": 2001,
    "start_time": "2022-07-17T12:46:11.255Z"
   },
   {
    "duration": 8,
    "start_time": "2022-07-17T12:49:48.828Z"
   },
   {
    "duration": 1506,
    "start_time": "2022-07-17T12:49:52.547Z"
   },
   {
    "duration": 4,
    "start_time": "2022-07-17T12:50:45.349Z"
   },
   {
    "duration": 1370,
    "start_time": "2022-07-17T12:50:48.987Z"
   },
   {
    "duration": 6,
    "start_time": "2022-07-17T12:51:27.644Z"
   },
   {
    "duration": 1517,
    "start_time": "2022-07-17T12:51:32.133Z"
   },
   {
    "duration": 6,
    "start_time": "2022-07-17T12:52:45.074Z"
   },
   {
    "duration": 1838,
    "start_time": "2022-07-17T12:52:47.416Z"
   },
   {
    "duration": 6,
    "start_time": "2022-07-17T12:55:31.580Z"
   },
   {
    "duration": 2342,
    "start_time": "2022-07-17T12:55:36.538Z"
   },
   {
    "duration": 6,
    "start_time": "2022-07-17T12:55:53.873Z"
   },
   {
    "duration": 1992,
    "start_time": "2022-07-17T12:55:56.466Z"
   },
   {
    "duration": 5,
    "start_time": "2022-07-17T12:58:44.279Z"
   },
   {
    "duration": 1604,
    "start_time": "2022-07-17T12:58:48.153Z"
   },
   {
    "duration": 6,
    "start_time": "2022-07-17T13:00:29.359Z"
   },
   {
    "duration": 1720,
    "start_time": "2022-07-17T13:00:32.935Z"
   },
   {
    "duration": 5,
    "start_time": "2022-07-17T13:01:31.330Z"
   },
   {
    "duration": 1966,
    "start_time": "2022-07-17T13:01:35.487Z"
   },
   {
    "duration": 5,
    "start_time": "2022-07-17T13:02:41.571Z"
   },
   {
    "duration": 1777,
    "start_time": "2022-07-17T13:02:45.272Z"
   },
   {
    "duration": 6,
    "start_time": "2022-07-17T13:04:13.738Z"
   },
   {
    "duration": 1701,
    "start_time": "2022-07-17T13:04:17.258Z"
   },
   {
    "duration": 5,
    "start_time": "2022-07-17T13:04:37.199Z"
   },
   {
    "duration": 2074,
    "start_time": "2022-07-17T13:04:40.258Z"
   },
   {
    "duration": 6,
    "start_time": "2022-07-17T13:05:12.234Z"
   },
   {
    "duration": 2122,
    "start_time": "2022-07-17T13:05:16.603Z"
   },
   {
    "duration": 5,
    "start_time": "2022-07-17T13:06:22.867Z"
   },
   {
    "duration": 1719,
    "start_time": "2022-07-17T13:06:27.682Z"
   },
   {
    "duration": 5,
    "start_time": "2022-07-17T13:07:00.075Z"
   },
   {
    "duration": 1485,
    "start_time": "2022-07-17T13:07:04.075Z"
   },
   {
    "duration": 7,
    "start_time": "2022-07-17T13:13:59.497Z"
   },
   {
    "duration": 1518,
    "start_time": "2022-07-17T13:14:02.832Z"
   },
   {
    "duration": 6,
    "start_time": "2022-07-17T13:15:26.658Z"
   },
   {
    "duration": 1096,
    "start_time": "2022-07-17T13:15:30.553Z"
   },
   {
    "duration": 5,
    "start_time": "2022-07-17T13:15:54.218Z"
   },
   {
    "duration": 1278,
    "start_time": "2022-07-17T13:15:56.979Z"
   },
   {
    "duration": 5,
    "start_time": "2022-07-17T13:17:03.723Z"
   },
   {
    "duration": 1215,
    "start_time": "2022-07-17T13:17:08.434Z"
   },
   {
    "duration": 5,
    "start_time": "2022-07-17T13:17:57.527Z"
   },
   {
    "duration": 1240,
    "start_time": "2022-07-17T13:18:00.707Z"
   },
   {
    "duration": 5,
    "start_time": "2022-07-17T13:20:26.951Z"
   },
   {
    "duration": 1050,
    "start_time": "2022-07-17T13:20:35.400Z"
   },
   {
    "duration": 5,
    "start_time": "2022-07-17T13:22:22.412Z"
   },
   {
    "duration": 1696,
    "start_time": "2022-07-17T13:22:26.853Z"
   },
   {
    "duration": 1701,
    "start_time": "2022-07-17T13:25:46.228Z"
   },
   {
    "duration": 323,
    "start_time": "2022-07-17T13:25:47.931Z"
   },
   {
    "duration": 23,
    "start_time": "2022-07-17T13:25:48.255Z"
   },
   {
    "duration": 232,
    "start_time": "2022-07-17T13:25:48.281Z"
   },
   {
    "duration": 118,
    "start_time": "2022-07-17T13:25:48.514Z"
   },
   {
    "duration": 19,
    "start_time": "2022-07-17T13:25:48.634Z"
   },
   {
    "duration": 124,
    "start_time": "2022-07-17T13:25:48.654Z"
   },
   {
    "duration": 452,
    "start_time": "2022-07-17T13:25:48.779Z"
   },
   {
    "duration": 23,
    "start_time": "2022-07-17T13:25:49.232Z"
   },
   {
    "duration": 241,
    "start_time": "2022-07-17T13:25:49.257Z"
   },
   {
    "duration": 131,
    "start_time": "2022-07-17T13:25:49.500Z"
   },
   {
    "duration": 26,
    "start_time": "2022-07-17T13:25:49.633Z"
   },
   {
    "duration": 95,
    "start_time": "2022-07-17T13:25:49.661Z"
   },
   {
    "duration": 8,
    "start_time": "2022-07-17T13:25:49.757Z"
   },
   {
    "duration": 6,
    "start_time": "2022-07-17T13:25:49.767Z"
   },
   {
    "duration": 8,
    "start_time": "2022-07-17T13:25:49.774Z"
   },
   {
    "duration": 3,
    "start_time": "2022-07-17T13:25:49.783Z"
   },
   {
    "duration": 6,
    "start_time": "2022-07-17T13:25:49.788Z"
   },
   {
    "duration": 6,
    "start_time": "2022-07-17T13:25:49.796Z"
   },
   {
    "duration": 6,
    "start_time": "2022-07-17T13:25:49.804Z"
   },
   {
    "duration": 45,
    "start_time": "2022-07-17T13:25:49.811Z"
   },
   {
    "duration": 8,
    "start_time": "2022-07-17T13:25:49.858Z"
   },
   {
    "duration": 11,
    "start_time": "2022-07-17T13:25:49.868Z"
   },
   {
    "duration": 9,
    "start_time": "2022-07-17T13:25:49.880Z"
   },
   {
    "duration": 24,
    "start_time": "2022-07-17T13:25:49.891Z"
   },
   {
    "duration": 9,
    "start_time": "2022-07-17T13:25:49.916Z"
   },
   {
    "duration": 31,
    "start_time": "2022-07-17T13:25:49.926Z"
   },
   {
    "duration": 19,
    "start_time": "2022-07-17T13:25:49.961Z"
   },
   {
    "duration": 8,
    "start_time": "2022-07-17T13:25:49.983Z"
   },
   {
    "duration": 9,
    "start_time": "2022-07-17T13:25:49.992Z"
   },
   {
    "duration": 12,
    "start_time": "2022-07-17T13:25:50.003Z"
   },
   {
    "duration": 14,
    "start_time": "2022-07-17T13:25:50.017Z"
   },
   {
    "duration": 1883,
    "start_time": "2022-07-17T13:25:50.045Z"
   },
   {
    "duration": 52,
    "start_time": "2022-07-17T13:25:51.930Z"
   },
   {
    "duration": 263,
    "start_time": "2022-07-17T13:25:51.984Z"
   },
   {
    "duration": 380,
    "start_time": "2022-07-17T13:25:52.249Z"
   },
   {
    "duration": 15,
    "start_time": "2022-07-17T13:25:52.631Z"
   },
   {
    "duration": 8,
    "start_time": "2022-07-17T13:25:52.648Z"
   },
   {
    "duration": 245,
    "start_time": "2022-07-17T13:25:52.657Z"
   },
   {
    "duration": 20,
    "start_time": "2022-07-17T13:25:52.904Z"
   },
   {
    "duration": 615,
    "start_time": "2022-07-17T13:25:52.926Z"
   },
   {
    "duration": 30,
    "start_time": "2022-07-17T13:25:53.542Z"
   },
   {
    "duration": 14,
    "start_time": "2022-07-17T13:25:53.574Z"
   },
   {
    "duration": 14,
    "start_time": "2022-07-17T13:25:53.590Z"
   },
   {
    "duration": 42,
    "start_time": "2022-07-17T13:25:53.606Z"
   },
   {
    "duration": 8,
    "start_time": "2022-07-17T13:25:53.650Z"
   },
   {
    "duration": 4,
    "start_time": "2022-07-17T13:25:53.659Z"
   },
   {
    "duration": 8,
    "start_time": "2022-07-17T13:25:53.665Z"
   },
   {
    "duration": 3,
    "start_time": "2022-07-17T13:25:53.675Z"
   },
   {
    "duration": 13741,
    "start_time": "2022-07-17T13:25:53.680Z"
   },
   {
    "duration": 8,
    "start_time": "2022-07-17T13:26:07.423Z"
   },
   {
    "duration": 14,
    "start_time": "2022-07-17T13:26:07.446Z"
   },
   {
    "duration": 21,
    "start_time": "2022-07-17T13:26:07.462Z"
   },
   {
    "duration": 13,
    "start_time": "2022-07-17T13:26:07.485Z"
   },
   {
    "duration": 5,
    "start_time": "2022-07-17T13:26:07.499Z"
   },
   {
    "duration": 1748,
    "start_time": "2022-07-17T13:26:07.508Z"
   },
   {
    "duration": 4,
    "start_time": "2022-07-17T13:26:45.324Z"
   },
   {
    "duration": 1264,
    "start_time": "2022-07-17T13:27:09.582Z"
   },
   {
    "duration": 5,
    "start_time": "2022-07-17T13:59:10.009Z"
   },
   {
    "duration": 1391,
    "start_time": "2022-07-17T13:59:13.559Z"
   },
   {
    "duration": 5,
    "start_time": "2022-07-17T14:00:03.313Z"
   },
   {
    "duration": 1815,
    "start_time": "2022-07-17T14:00:05.640Z"
   },
   {
    "duration": 6,
    "start_time": "2022-07-17T14:01:06.909Z"
   },
   {
    "duration": 1478,
    "start_time": "2022-07-17T14:01:09.569Z"
   },
   {
    "duration": 5,
    "start_time": "2022-07-17T14:01:33.713Z"
   },
   {
    "duration": 5,
    "start_time": "2022-07-17T14:01:36.650Z"
   },
   {
    "duration": 1172,
    "start_time": "2022-07-17T14:01:38.981Z"
   },
   {
    "duration": 5,
    "start_time": "2022-07-17T14:02:26.846Z"
   },
   {
    "duration": 1291,
    "start_time": "2022-07-17T14:02:29.755Z"
   },
   {
    "duration": 4,
    "start_time": "2022-07-17T14:03:17.955Z"
   },
   {
    "duration": 1542,
    "start_time": "2022-07-17T14:03:21.707Z"
   },
   {
    "duration": 4,
    "start_time": "2022-07-17T14:09:58.487Z"
   },
   {
    "duration": 4,
    "start_time": "2022-07-17T14:10:00.967Z"
   },
   {
    "duration": 1395,
    "start_time": "2022-07-17T14:10:04.055Z"
   },
   {
    "duration": 4,
    "start_time": "2022-07-17T14:10:30.858Z"
   },
   {
    "duration": 4,
    "start_time": "2022-07-17T14:10:31.470Z"
   },
   {
    "duration": 1294,
    "start_time": "2022-07-17T14:10:34.362Z"
   },
   {
    "duration": 2559,
    "start_time": "2022-07-17T14:20:35.913Z"
   },
   {
    "duration": 689,
    "start_time": "2022-07-17T14:20:38.474Z"
   },
   {
    "duration": 81,
    "start_time": "2022-07-17T14:20:39.165Z"
   },
   {
    "duration": 428,
    "start_time": "2022-07-17T14:20:39.250Z"
   },
   {
    "duration": 197,
    "start_time": "2022-07-17T14:20:39.679Z"
   },
   {
    "duration": 76,
    "start_time": "2022-07-17T14:20:39.878Z"
   },
   {
    "duration": 231,
    "start_time": "2022-07-17T14:20:39.956Z"
   },
   {
    "duration": 857,
    "start_time": "2022-07-17T14:20:40.189Z"
   },
   {
    "duration": 20,
    "start_time": "2022-07-17T14:20:41.048Z"
   },
   {
    "duration": 493,
    "start_time": "2022-07-17T14:20:41.071Z"
   },
   {
    "duration": 219,
    "start_time": "2022-07-17T14:20:41.565Z"
   },
   {
    "duration": 80,
    "start_time": "2022-07-17T14:20:41.785Z"
   },
   {
    "duration": 210,
    "start_time": "2022-07-17T14:20:41.867Z"
   },
   {
    "duration": 10,
    "start_time": "2022-07-17T14:20:42.079Z"
   },
   {
    "duration": 7,
    "start_time": "2022-07-17T14:20:42.146Z"
   },
   {
    "duration": 18,
    "start_time": "2022-07-17T14:20:42.155Z"
   },
   {
    "duration": 7,
    "start_time": "2022-07-17T14:20:42.175Z"
   },
   {
    "duration": 62,
    "start_time": "2022-07-17T14:20:42.183Z"
   },
   {
    "duration": 6,
    "start_time": "2022-07-17T14:20:42.248Z"
   },
   {
    "duration": 8,
    "start_time": "2022-07-17T14:20:42.257Z"
   },
   {
    "duration": 10,
    "start_time": "2022-07-17T14:20:42.266Z"
   },
   {
    "duration": 8,
    "start_time": "2022-07-17T14:20:42.278Z"
   },
   {
    "duration": 65,
    "start_time": "2022-07-17T14:20:42.288Z"
   },
   {
    "duration": 9,
    "start_time": "2022-07-17T14:20:42.356Z"
   },
   {
    "duration": 92,
    "start_time": "2022-07-17T14:20:42.367Z"
   },
   {
    "duration": 12,
    "start_time": "2022-07-17T14:20:42.461Z"
   },
   {
    "duration": 9,
    "start_time": "2022-07-17T14:20:42.475Z"
   },
   {
    "duration": 9,
    "start_time": "2022-07-17T14:20:42.546Z"
   },
   {
    "duration": 7,
    "start_time": "2022-07-17T14:20:42.556Z"
   },
   {
    "duration": 8,
    "start_time": "2022-07-17T14:20:42.565Z"
   },
   {
    "duration": 9,
    "start_time": "2022-07-17T14:20:42.575Z"
   },
   {
    "duration": 15,
    "start_time": "2022-07-17T14:20:42.645Z"
   },
   {
    "duration": 4016,
    "start_time": "2022-07-17T14:20:42.662Z"
   },
   {
    "duration": 96,
    "start_time": "2022-07-17T14:20:46.680Z"
   },
   {
    "duration": 493,
    "start_time": "2022-07-17T14:20:46.778Z"
   },
   {
    "duration": 814,
    "start_time": "2022-07-17T14:20:47.273Z"
   },
   {
    "duration": 67,
    "start_time": "2022-07-17T14:20:48.089Z"
   },
   {
    "duration": 10,
    "start_time": "2022-07-17T14:20:48.159Z"
   },
   {
    "duration": 502,
    "start_time": "2022-07-17T14:20:48.171Z"
   },
   {
    "duration": 76,
    "start_time": "2022-07-17T14:20:48.675Z"
   },
   {
    "duration": 1328,
    "start_time": "2022-07-17T14:20:48.753Z"
   },
   {
    "duration": 83,
    "start_time": "2022-07-17T14:20:50.082Z"
   },
   {
    "duration": 14,
    "start_time": "2022-07-17T14:20:50.167Z"
   },
   {
    "duration": 70,
    "start_time": "2022-07-17T14:20:50.183Z"
   },
   {
    "duration": 26,
    "start_time": "2022-07-17T14:20:50.256Z"
   },
   {
    "duration": 62,
    "start_time": "2022-07-17T14:20:50.284Z"
   },
   {
    "duration": 3,
    "start_time": "2022-07-17T14:20:50.348Z"
   },
   {
    "duration": 12,
    "start_time": "2022-07-17T14:20:50.353Z"
   },
   {
    "duration": 3,
    "start_time": "2022-07-17T14:20:50.367Z"
   },
   {
    "duration": 28297,
    "start_time": "2022-07-17T14:20:50.372Z"
   },
   {
    "duration": 6,
    "start_time": "2022-07-17T14:21:18.671Z"
   },
   {
    "duration": 80,
    "start_time": "2022-07-17T14:21:18.679Z"
   },
   {
    "duration": 23,
    "start_time": "2022-07-17T14:21:18.761Z"
   },
   {
    "duration": 80,
    "start_time": "2022-07-17T14:21:18.786Z"
   },
   {
    "duration": 12,
    "start_time": "2022-07-17T14:21:18.870Z"
   },
   {
    "duration": 1875,
    "start_time": "2022-07-17T14:21:18.884Z"
   },
   {
    "duration": 1744,
    "start_time": "2022-07-19T18:30:59.468Z"
   },
   {
    "duration": 364,
    "start_time": "2022-07-19T18:31:01.214Z"
   },
   {
    "duration": 29,
    "start_time": "2022-07-19T18:31:01.580Z"
   },
   {
    "duration": 227,
    "start_time": "2022-07-19T18:31:01.611Z"
   },
   {
    "duration": 156,
    "start_time": "2022-07-19T18:31:01.839Z"
   },
   {
    "duration": 20,
    "start_time": "2022-07-19T18:31:01.996Z"
   },
   {
    "duration": 134,
    "start_time": "2022-07-19T18:31:02.017Z"
   },
   {
    "duration": 375,
    "start_time": "2022-07-19T18:31:02.152Z"
   },
   {
    "duration": 19,
    "start_time": "2022-07-19T18:31:02.528Z"
   },
   {
    "duration": 283,
    "start_time": "2022-07-19T18:31:02.550Z"
   },
   {
    "duration": 125,
    "start_time": "2022-07-19T18:31:02.835Z"
   },
   {
    "duration": 20,
    "start_time": "2022-07-19T18:31:02.962Z"
   },
   {
    "duration": 100,
    "start_time": "2022-07-19T18:31:02.983Z"
   },
   {
    "duration": 17,
    "start_time": "2022-07-19T18:31:03.085Z"
   },
   {
    "duration": 6,
    "start_time": "2022-07-19T18:31:03.103Z"
   },
   {
    "duration": 10,
    "start_time": "2022-07-19T18:31:03.111Z"
   },
   {
    "duration": 6,
    "start_time": "2022-07-19T18:31:03.123Z"
   },
   {
    "duration": 10,
    "start_time": "2022-07-19T18:31:03.131Z"
   },
   {
    "duration": 7,
    "start_time": "2022-07-19T18:31:03.142Z"
   },
   {
    "duration": 8,
    "start_time": "2022-07-19T18:31:03.150Z"
   },
   {
    "duration": 6,
    "start_time": "2022-07-19T18:31:03.159Z"
   },
   {
    "duration": 8,
    "start_time": "2022-07-19T18:31:03.166Z"
   },
   {
    "duration": 6,
    "start_time": "2022-07-19T18:31:03.200Z"
   },
   {
    "duration": 9,
    "start_time": "2022-07-19T18:31:03.207Z"
   },
   {
    "duration": 19,
    "start_time": "2022-07-19T18:31:03.218Z"
   },
   {
    "duration": 11,
    "start_time": "2022-07-19T18:31:03.239Z"
   },
   {
    "duration": 8,
    "start_time": "2022-07-19T18:31:03.251Z"
   },
   {
    "duration": 40,
    "start_time": "2022-07-19T18:31:03.262Z"
   },
   {
    "duration": 7,
    "start_time": "2022-07-19T18:31:03.304Z"
   },
   {
    "duration": 7,
    "start_time": "2022-07-19T18:31:03.313Z"
   },
   {
    "duration": 10,
    "start_time": "2022-07-19T18:31:03.322Z"
   },
   {
    "duration": 12,
    "start_time": "2022-07-19T18:31:03.334Z"
   },
   {
    "duration": 2109,
    "start_time": "2022-07-19T18:31:03.347Z"
   },
   {
    "duration": 54,
    "start_time": "2022-07-19T18:31:05.458Z"
   },
   {
    "duration": 397,
    "start_time": "2022-07-19T18:31:05.514Z"
   },
   {
    "duration": 9,
    "start_time": "2022-07-19T18:31:05.913Z"
   },
   {
    "duration": 10,
    "start_time": "2022-07-19T18:31:05.923Z"
   },
   {
    "duration": 384,
    "start_time": "2022-07-19T18:31:05.935Z"
   },
   {
    "duration": 19,
    "start_time": "2022-07-19T18:31:06.321Z"
   },
   {
    "duration": 652,
    "start_time": "2022-07-19T18:31:06.341Z"
   },
   {
    "duration": 27,
    "start_time": "2022-07-19T18:31:06.995Z"
   },
   {
    "duration": 13,
    "start_time": "2022-07-19T18:31:07.024Z"
   },
   {
    "duration": 15,
    "start_time": "2022-07-19T18:31:07.039Z"
   },
   {
    "duration": 48,
    "start_time": "2022-07-19T18:31:07.056Z"
   },
   {
    "duration": 11,
    "start_time": "2022-07-19T18:31:07.106Z"
   },
   {
    "duration": 11,
    "start_time": "2022-07-19T18:31:07.119Z"
   },
   {
    "duration": 11,
    "start_time": "2022-07-19T18:31:07.132Z"
   },
   {
    "duration": 4,
    "start_time": "2022-07-19T18:31:07.145Z"
   },
   {
    "duration": 12396,
    "start_time": "2022-07-19T18:31:07.152Z"
   },
   {
    "duration": 7,
    "start_time": "2022-07-19T18:31:19.549Z"
   },
   {
    "duration": 17,
    "start_time": "2022-07-19T18:31:19.558Z"
   },
   {
    "duration": 41,
    "start_time": "2022-07-19T18:31:19.576Z"
   },
   {
    "duration": 4,
    "start_time": "2022-07-19T18:31:19.619Z"
   },
   {
    "duration": 16,
    "start_time": "2022-07-19T18:31:19.625Z"
   },
   {
    "duration": 965,
    "start_time": "2022-07-19T18:31:19.642Z"
   },
   {
    "duration": 7,
    "start_time": "2022-07-19T18:34:59.225Z"
   }
  ],
  "kernelspec": {
   "display_name": "Python 3 (ipykernel)",
   "language": "python",
   "name": "python3"
  },
  "language_info": {
   "codemirror_mode": {
    "name": "ipython",
    "version": 3
   },
   "file_extension": ".py",
   "mimetype": "text/x-python",
   "name": "python",
   "nbconvert_exporter": "python",
   "pygments_lexer": "ipython3",
   "version": "3.9.12"
  },
  "toc": {
   "base_numbering": 1,
   "nav_menu": {},
   "number_sections": true,
   "sideBar": true,
   "skip_h1_title": true,
   "title_cell": "Содержание",
   "title_sidebar": "Contents",
   "toc_cell": true,
   "toc_position": {
    "height": "calc(100% - 180px)",
    "left": "10px",
    "top": "150px",
    "width": "431.175px"
   },
   "toc_section_display": true,
   "toc_window_display": true
  }
 },
 "nbformat": 4,
 "nbformat_minor": 2
}
