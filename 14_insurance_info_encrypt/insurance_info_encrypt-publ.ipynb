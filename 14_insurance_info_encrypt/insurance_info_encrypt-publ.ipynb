{
 "cells": [
  {
   "cell_type": "markdown",
   "metadata": {
    "toc": true
   },
   "source": [
    "<h1>Содержание<span class=\"tocSkip\"></span></h1>\n",
    "<div class=\"toc\"><ul class=\"toc-item\"><li><span><a href=\"#Загрузка-данных\" data-toc-modified-id=\"Загрузка-данных-1\"><span class=\"toc-item-num\">1&nbsp;&nbsp;</span>Загрузка данных</a></span></li><li><span><a href=\"#Умножение-матриц\" data-toc-modified-id=\"Умножение-матриц-2\"><span class=\"toc-item-num\">2&nbsp;&nbsp;</span>Умножение матриц</a></span></li><li><span><a href=\"#Алгоритм-преобразования\" data-toc-modified-id=\"Алгоритм-преобразования-3\"><span class=\"toc-item-num\">3&nbsp;&nbsp;</span>Алгоритм преобразования</a></span></li><li><span><a href=\"#Проверка-алгоритма\" data-toc-modified-id=\"Проверка-алгоритма-4\"><span class=\"toc-item-num\">4&nbsp;&nbsp;</span>Проверка алгоритма</a></span><ul class=\"toc-item\"><li><span><a href=\"#Генерация-ключа-шифрования,-шифрование-и-проверка\" data-toc-modified-id=\"Генерация-ключа-шифрования,-шифрование-и-проверка-4.1\"><span class=\"toc-item-num\">4.1&nbsp;&nbsp;</span>Генерация ключа шифрования, шифрование и проверка</a></span></li><li><span><a href=\"#Разделение-выборок\" data-toc-modified-id=\"Разделение-выборок-4.2\"><span class=\"toc-item-num\">4.2&nbsp;&nbsp;</span>Разделение выборок</a></span></li><li><span><a href=\"#Обучение-модели-на-исходных-данных\" data-toc-modified-id=\"Обучение-модели-на-исходных-данных-4.3\"><span class=\"toc-item-num\">4.3&nbsp;&nbsp;</span>Обучение модели на исходных данных</a></span></li><li><span><a href=\"#Обучение-модели-на-преобразованных-данных\" data-toc-modified-id=\"Обучение-модели-на-преобразованных-данных-4.4\"><span class=\"toc-item-num\">4.4&nbsp;&nbsp;</span>Обучение модели на преобразованных данных</a></span></li></ul></li><li><span><a href=\"#Вывод\" data-toc-modified-id=\"Вывод-5\"><span class=\"toc-item-num\">5&nbsp;&nbsp;</span>Вывод</a></span></li></ul></div>"
   ]
  },
  {
   "cell_type": "markdown",
   "metadata": {},
   "source": [
    "# Защита персональных данных клиентов"
   ]
  },
  {
   "cell_type": "markdown",
   "metadata": {},
   "source": [
    "Вам нужно защитить данные клиентов страховой компании «Хоть потоп». Разработайте такой метод преобразования данных, чтобы по ним было сложно восстановить персональную информацию. Обоснуйте корректность его работы.\n",
    "\n",
    "Нужно защитить данные, чтобы при преобразовании качество моделей машинного обучения не ухудшилось. Подбирать наилучшую модель не требуется."
   ]
  },
  {
   "cell_type": "markdown",
   "metadata": {},
   "source": [
    "## Загрузка данных"
   ]
  },
  {
   "cell_type": "code",
   "execution_count": 30,
   "metadata": {},
   "outputs": [],
   "source": [
    "import pandas as pd\n",
    "import numpy as np\n",
    "from sklearn.linear_model import LinearRegression\n",
    "from sklearn.metrics import r2_score\n",
    "from sklearn.model_selection import train_test_split"
   ]
  },
  {
   "cell_type": "code",
   "execution_count": 31,
   "metadata": {},
   "outputs": [
    {
     "name": "stdout",
     "output_type": "stream",
     "text": [
      "<class 'pandas.core.frame.DataFrame'>\n",
      "RangeIndex: 5000 entries, 0 to 4999\n",
      "Data columns (total 5 columns):\n",
      " #   Column             Non-Null Count  Dtype  \n",
      "---  ------             --------------  -----  \n",
      " 0   Пол                5000 non-null   int64  \n",
      " 1   Возраст            5000 non-null   float64\n",
      " 2   Зарплата           5000 non-null   float64\n",
      " 3   Члены семьи        5000 non-null   int64  \n",
      " 4   Страховые выплаты  5000 non-null   int64  \n",
      "dtypes: float64(2), int64(3)\n",
      "memory usage: 195.4 KB\n"
     ]
    }
   ],
   "source": [
    "try:\n",
    "    df = pd.read_csv('C:\\\\Users\\\\gorbu\\\\OneDrive\\\\Документы\\\\DataScience\\\\Projects\\\\8 prj\\\\insurance.csv')\n",
    "except:\n",
    "    df = pd.read_csv('/datasets/insurance.csv')\n",
    "df.info()"
   ]
  },
  {
   "cell_type": "code",
   "execution_count": 32,
   "metadata": {},
   "outputs": [
    {
     "data": {
      "text/html": [
       "<div>\n",
       "<style scoped>\n",
       "    .dataframe tbody tr th:only-of-type {\n",
       "        vertical-align: middle;\n",
       "    }\n",
       "\n",
       "    .dataframe tbody tr th {\n",
       "        vertical-align: top;\n",
       "    }\n",
       "\n",
       "    .dataframe thead th {\n",
       "        text-align: right;\n",
       "    }\n",
       "</style>\n",
       "<table border=\"1\" class=\"dataframe\">\n",
       "  <thead>\n",
       "    <tr style=\"text-align: right;\">\n",
       "      <th></th>\n",
       "      <th>Пол</th>\n",
       "      <th>Возраст</th>\n",
       "      <th>Зарплата</th>\n",
       "      <th>Члены семьи</th>\n",
       "      <th>Страховые выплаты</th>\n",
       "    </tr>\n",
       "  </thead>\n",
       "  <tbody>\n",
       "    <tr>\n",
       "      <th>0</th>\n",
       "      <td>1</td>\n",
       "      <td>41.0</td>\n",
       "      <td>49600.0</td>\n",
       "      <td>1</td>\n",
       "      <td>0</td>\n",
       "    </tr>\n",
       "    <tr>\n",
       "      <th>1</th>\n",
       "      <td>0</td>\n",
       "      <td>46.0</td>\n",
       "      <td>38000.0</td>\n",
       "      <td>1</td>\n",
       "      <td>1</td>\n",
       "    </tr>\n",
       "    <tr>\n",
       "      <th>2</th>\n",
       "      <td>0</td>\n",
       "      <td>29.0</td>\n",
       "      <td>21000.0</td>\n",
       "      <td>0</td>\n",
       "      <td>0</td>\n",
       "    </tr>\n",
       "    <tr>\n",
       "      <th>3</th>\n",
       "      <td>0</td>\n",
       "      <td>21.0</td>\n",
       "      <td>41700.0</td>\n",
       "      <td>2</td>\n",
       "      <td>0</td>\n",
       "    </tr>\n",
       "    <tr>\n",
       "      <th>4</th>\n",
       "      <td>1</td>\n",
       "      <td>28.0</td>\n",
       "      <td>26100.0</td>\n",
       "      <td>0</td>\n",
       "      <td>0</td>\n",
       "    </tr>\n",
       "  </tbody>\n",
       "</table>\n",
       "</div>"
      ],
      "text/plain": [
       "   Пол  Возраст  Зарплата  Члены семьи  Страховые выплаты\n",
       "0    1     41.0   49600.0            1                  0\n",
       "1    0     46.0   38000.0            1                  1\n",
       "2    0     29.0   21000.0            0                  0\n",
       "3    0     21.0   41700.0            2                  0\n",
       "4    1     28.0   26100.0            0                  0"
      ]
     },
     "execution_count": 32,
     "metadata": {},
     "output_type": "execute_result"
    }
   ],
   "source": [
    "df.head()"
   ]
  },
  {
   "cell_type": "markdown",
   "metadata": {},
   "source": [
    "Данные чистые, пропусков нет."
   ]
  },
  {
   "cell_type": "markdown",
   "metadata": {},
   "source": [
    "## Умножение матриц"
   ]
  },
  {
   "cell_type": "markdown",
   "metadata": {},
   "source": [
    "Ответим на вопрос.  \n",
    "Признаки умножают на некую обратимую матрицу. Изменится ли качество линейной регрессии? (Её можно обучить заново). Варианты ответов:  \n",
    "a. Изменится.   \n",
    "b. Не изменится. Укажем в этом случае, как связаны параметры линейной регрессии в исходной задаче и в преобразованной.  "
   ]
  },
  {
   "cell_type": "markdown",
   "metadata": {},
   "source": [
    "Обозначения:\n",
    "\n",
    "- $X$ — матрица признаков (нулевой столбец состоит из единиц)\n",
    "\n",
    "- $y$ — вектор целевого признака\n",
    "\n",
    "- $P$ — обратимая матрица, на которую умножаются признаки\n",
    "\n",
    "- $w$ — вектор весов линейной регрессии (нулевой элемент равен сдвигу)"
   ]
  },
  {
   "cell_type": "markdown",
   "metadata": {},
   "source": [
    "**Для исходной матрицы с признаками:**  \n",
    "\n",
    "Предсказания:\n",
    "\n",
    "$$\n",
    "a = Xw\n",
    "$$\n",
    "\n",
    "Задача обучения:\n",
    "\n",
    "$$\n",
    "w = \\arg\\min_w MSE(Xw, y)\n",
    "$$\n",
    "\n",
    "Формула обучения:\n",
    "\n",
    "$$\n",
    "w = (X^T X)^{-1} X^T y\n",
    "$$"
   ]
  },
  {
   "cell_type": "markdown",
   "metadata": {},
   "source": [
    "**Для исходной матрицы с признаками, умноженной на случайную обратимую матрицу:**  \n",
    "\n",
    "Предсказания:\n",
    "\n",
    "$$\n",
    "a' = XPw'\n",
    "$$\n",
    "\n",
    "Задача обучения:\n",
    "\n",
    "$$\n",
    "w' = \\arg\\min_w' MSE(XPw', y)\n",
    "$$\n",
    "\n",
    "Формула обучения:\n",
    "\n",
    "$$\n",
    "w' = ((XP)^T XP)^{-1} (XP)^T y\n",
    "$$"
   ]
  },
  {
   "cell_type": "markdown",
   "metadata": {},
   "source": [
    "**Преобразуем формулу нахождения вектора весов:**\n",
    "\n",
    "$w' = ((XP)^TXP)^{-1} (XP)^Ty = P^{-1}((XP)^{T}X)^{-1} (XP)^Ty = P^{-1}((XP)^{T}X)^{-1}P^TX^Ty =\n",
    "P^{-1}(P^TX^TX)^{-1} P^TX^Ty = P^{-1}(X^TX)^{-1}(P^T)^{-1} P^TX^Ty$\n",
    "\n",
    "Сократим: $(P^{T})^{-1} P^T$ \n",
    "\n",
    "Получается: $w'= P^{-1}(X^TX)^{-1} X^Ty$\n",
    "\n",
    "Тогда:\n",
    "$a' = XPw' = XPP^{-1}(X^TX)^{-1} X^Ty$  \n",
    "\n",
    "Сократим: $PP^{-1}$   \n",
    "\n",
    "Получается: $a' = X(X^TX)^{-1} X^Ty = Xw = a$"
   ]
  },
  {
   "cell_type": "markdown",
   "metadata": {},
   "source": [
    "**Вывод:** При умножении матрицы признаков на случайную обратимую матрицу предсказания модели линейной регрессии не изменятся."
   ]
  },
  {
   "cell_type": "markdown",
   "metadata": {},
   "source": [
    "## Алгоритм преобразования"
   ]
  },
  {
   "cell_type": "markdown",
   "metadata": {},
   "source": [
    "Предложим алгоритм преобразования данных для решения задачи. Обоснуем, почему качество линейной регрессии не поменяется."
   ]
  },
  {
   "cell_type": "markdown",
   "metadata": {},
   "source": [
    "**Алгоритм:**  \n",
    "1. Целевой признак вынесем из набора данных.\n",
    "2. Сгенерируем случайную квадратную матрицу.\n",
    "3. Проверим ее обратимость.\n",
    "4. Умножим матрицу с признаками на ключ шифрования.\n",
    "5. Расшифровать матрицу признаков можно путем ее умножения на обратную матрицу ключа шифрования."
   ]
  },
  {
   "cell_type": "markdown",
   "metadata": {},
   "source": [
    "**Обоснование:**  \n",
    "\n",
    "Как показано в разделе 2 - для линейной регрессии умножение признаков на случайную обратимую матрицу не влияет на предсказания модели. Вместе с тем, при матричном умножении по двум матрицам строится третья, которая состоит из скалярных произведений строк первой матрицы на столбцы второй. Таким образом, из преобразованных данных без знания ключа шифрования невозможно будет восстановить первоначальные.\n",
    "\n",
    "Для обратного преобразования (расшифровки) верно следцющее. Если любую матрицу A умножить на единичную матрицу E (или наоборот), получится эта же матрица A. При этом, умножение матрицы на обратную ей матрицу дает единичную матрицу.   \n",
    "Таким образом: $XPP^{-1} = XE = X$"
   ]
  },
  {
   "cell_type": "markdown",
   "metadata": {},
   "source": [
    "## Проверка алгоритма"
   ]
  },
  {
   "cell_type": "markdown",
   "metadata": {},
   "source": [
    "Запрограммируем этот алгоритм, применив матричные операции. Проверим после, что качество линейной регрессии из sklearn не отличается до и после преобразования. Применим метрику R2."
   ]
  },
  {
   "cell_type": "code",
   "execution_count": 33,
   "metadata": {},
   "outputs": [
    {
     "name": "stdout",
     "output_type": "stream",
     "text": [
      "(5000, 4)\n",
      "(5000,)\n"
     ]
    }
   ],
   "source": [
    "target = df['Страховые выплаты']\n",
    "features = df.drop(['Страховые выплаты'], axis=1)\n",
    "\n",
    "print(features.shape)\n",
    "print(target.shape)"
   ]
  },
  {
   "cell_type": "markdown",
   "metadata": {},
   "source": [
    "### Генерация ключа шифрования, шифрование и проверка "
   ]
  },
  {
   "cell_type": "code",
   "execution_count": 34,
   "metadata": {
    "scrolled": true
   },
   "outputs": [
    {
     "data": {
      "text/plain": [
       "array([[0.55668318, 0.37283583, 0.02670563, 0.84013681],\n",
       "       [0.32433872, 0.77049679, 0.56214873, 0.77367684],\n",
       "       [0.53365496, 0.59955997, 0.06061409, 0.94937928],\n",
       "       [0.28096954, 0.42369849, 0.01985553, 0.70935221]])"
      ]
     },
     "execution_count": 34,
     "metadata": {},
     "output_type": "execute_result"
    }
   ],
   "source": [
    "key = np.random.rand(4,4)\n",
    "key"
   ]
  },
  {
   "cell_type": "code",
   "execution_count": 35,
   "metadata": {},
   "outputs": [
    {
     "data": {
      "text/plain": [
       "array([[ 0.55874205, -0.35543117,  5.59125318, -7.75729006],\n",
       "       [-6.68920446, -0.56304575,  9.566878  , -4.26746173],\n",
       "       [ 3.79801699,  2.18317335, -5.64343612,  0.67362415],\n",
       "       [ 3.66786015,  0.41598362, -7.77102   ,  7.01246026]])"
      ]
     },
     "execution_count": 35,
     "metadata": {},
     "output_type": "execute_result"
    }
   ],
   "source": [
    "np.linalg.inv(key)"
   ]
  },
  {
   "cell_type": "markdown",
   "metadata": {},
   "source": [
    "Нашли обратную матрицу, таким образом, ключ шифрования - обратимая матрица."
   ]
  },
  {
   "cell_type": "code",
   "execution_count": 36,
   "metadata": {},
   "outputs": [
    {
     "data": {
      "text/html": [
       "<div>\n",
       "<style scoped>\n",
       "    .dataframe tbody tr th:only-of-type {\n",
       "        vertical-align: middle;\n",
       "    }\n",
       "\n",
       "    .dataframe tbody tr th {\n",
       "        vertical-align: top;\n",
       "    }\n",
       "\n",
       "    .dataframe thead th {\n",
       "        text-align: right;\n",
       "    }\n",
       "</style>\n",
       "<table border=\"1\" class=\"dataframe\">\n",
       "  <thead>\n",
       "    <tr style=\"text-align: right;\">\n",
       "      <th></th>\n",
       "      <th>0</th>\n",
       "      <th>1</th>\n",
       "      <th>2</th>\n",
       "      <th>3</th>\n",
       "    </tr>\n",
       "  </thead>\n",
       "  <tbody>\n",
       "    <tr>\n",
       "      <th>0</th>\n",
       "      <td>1</td>\n",
       "      <td>0</td>\n",
       "      <td>0</td>\n",
       "      <td>0</td>\n",
       "    </tr>\n",
       "    <tr>\n",
       "      <th>1</th>\n",
       "      <td>0</td>\n",
       "      <td>1</td>\n",
       "      <td>0</td>\n",
       "      <td>0</td>\n",
       "    </tr>\n",
       "    <tr>\n",
       "      <th>2</th>\n",
       "      <td>0</td>\n",
       "      <td>0</td>\n",
       "      <td>1</td>\n",
       "      <td>0</td>\n",
       "    </tr>\n",
       "    <tr>\n",
       "      <th>3</th>\n",
       "      <td>0</td>\n",
       "      <td>0</td>\n",
       "      <td>0</td>\n",
       "      <td>1</td>\n",
       "    </tr>\n",
       "  </tbody>\n",
       "</table>\n",
       "</div>"
      ],
      "text/plain": [
       "   0  1  2  3\n",
       "0  1  0  0  0\n",
       "1  0  1  0  0\n",
       "2  0  0  1  0\n",
       "3  0  0  0  1"
      ]
     },
     "execution_count": 36,
     "metadata": {},
     "output_type": "execute_result"
    }
   ],
   "source": [
    "pd.DataFrame((key @ np.linalg.inv(key)).round(0).astype(int))"
   ]
  },
  {
   "cell_type": "markdown",
   "metadata": {},
   "source": [
    "Красота! Все по науке)"
   ]
  },
  {
   "cell_type": "code",
   "execution_count": 37,
   "metadata": {
    "scrolled": true
   },
   "outputs": [
    {
     "data": {
      "text/html": [
       "<div>\n",
       "<style scoped>\n",
       "    .dataframe tbody tr th:only-of-type {\n",
       "        vertical-align: middle;\n",
       "    }\n",
       "\n",
       "    .dataframe tbody tr th {\n",
       "        vertical-align: top;\n",
       "    }\n",
       "\n",
       "    .dataframe thead th {\n",
       "        text-align: right;\n",
       "    }\n",
       "</style>\n",
       "<table border=\"1\" class=\"dataframe\">\n",
       "  <thead>\n",
       "    <tr style=\"text-align: right;\">\n",
       "      <th></th>\n",
       "      <th>0</th>\n",
       "      <th>1</th>\n",
       "      <th>2</th>\n",
       "      <th>3</th>\n",
       "    </tr>\n",
       "  </thead>\n",
       "  <tbody>\n",
       "    <tr>\n",
       "      <th>0</th>\n",
       "      <td>26483.421721</td>\n",
       "      <td>29770.561471</td>\n",
       "      <td>3029.553562</td>\n",
       "      <td>47122.482426</td>\n",
       "    </tr>\n",
       "    <tr>\n",
       "      <th>1</th>\n",
       "      <td>20294.089157</td>\n",
       "      <td>22819.145454</td>\n",
       "      <td>2329.214147</td>\n",
       "      <td>36112.711049</td>\n",
       "    </tr>\n",
       "    <tr>\n",
       "      <th>2</th>\n",
       "      <td>11216.160053</td>\n",
       "      <td>12613.103801</td>\n",
       "      <td>1289.198220</td>\n",
       "      <td>19959.401466</td>\n",
       "    </tr>\n",
       "    <tr>\n",
       "      <th>3</th>\n",
       "      <td>22260.785023</td>\n",
       "      <td>25018.678626</td>\n",
       "      <td>2539.452420</td>\n",
       "      <td>39606.781809</td>\n",
       "    </tr>\n",
       "    <tr>\n",
       "      <th>4</th>\n",
       "      <td>13938.032710</td>\n",
       "      <td>15670.461992</td>\n",
       "      <td>1597.794640</td>\n",
       "      <td>24801.302243</td>\n",
       "    </tr>\n",
       "    <tr>\n",
       "      <th>...</th>\n",
       "      <td>...</td>\n",
       "      <td>...</td>\n",
       "      <td>...</td>\n",
       "      <td>...</td>\n",
       "    </tr>\n",
       "    <tr>\n",
       "      <th>4995</th>\n",
       "      <td>19061.125614</td>\n",
       "      <td>21426.712276</td>\n",
       "      <td>2179.702917</td>\n",
       "      <td>33915.921879</td>\n",
       "    </tr>\n",
       "    <tr>\n",
       "      <th>4996</th>\n",
       "      <td>27974.828564</td>\n",
       "      <td>31443.563076</td>\n",
       "      <td>3195.311270</td>\n",
       "      <td>49774.488530</td>\n",
       "    </tr>\n",
       "    <tr>\n",
       "      <th>4997</th>\n",
       "      <td>18097.951970</td>\n",
       "      <td>20341.340354</td>\n",
       "      <td>2066.100363</td>\n",
       "      <td>32200.849764</td>\n",
       "    </tr>\n",
       "    <tr>\n",
       "      <th>4998</th>\n",
       "      <td>17459.052344</td>\n",
       "      <td>19624.205916</td>\n",
       "      <td>1994.534313</td>\n",
       "      <td>31064.691473</td>\n",
       "    </tr>\n",
       "    <tr>\n",
       "      <th>4999</th>\n",
       "      <td>21676.310648</td>\n",
       "      <td>24364.505272</td>\n",
       "      <td>2476.718812</td>\n",
       "      <td>38568.011126</td>\n",
       "    </tr>\n",
       "  </tbody>\n",
       "</table>\n",
       "<p>5000 rows × 4 columns</p>\n",
       "</div>"
      ],
      "text/plain": [
       "                 0             1            2             3\n",
       "0     26483.421721  29770.561471  3029.553562  47122.482426\n",
       "1     20294.089157  22819.145454  2329.214147  36112.711049\n",
       "2     11216.160053  12613.103801  1289.198220  19959.401466\n",
       "3     22260.785023  25018.678626  2539.452420  39606.781809\n",
       "4     13938.032710  15670.461992  1597.794640  24801.302243\n",
       "...            ...           ...          ...           ...\n",
       "4995  19061.125614  21426.712276  2179.702917  33915.921879\n",
       "4996  27974.828564  31443.563076  3195.311270  49774.488530\n",
       "4997  18097.951970  20341.340354  2066.100363  32200.849764\n",
       "4998  17459.052344  19624.205916  1994.534313  31064.691473\n",
       "4999  21676.310648  24364.505272  2476.718812  38568.011126\n",
       "\n",
       "[5000 rows x 4 columns]"
      ]
     },
     "execution_count": 37,
     "metadata": {},
     "output_type": "execute_result"
    }
   ],
   "source": [
    "features_encr = features @ key\n",
    "pd.DataFrame(features_encr)"
   ]
  },
  {
   "cell_type": "code",
   "execution_count": 38,
   "metadata": {},
   "outputs": [
    {
     "data": {
      "text/html": [
       "<div>\n",
       "<style scoped>\n",
       "    .dataframe tbody tr th:only-of-type {\n",
       "        vertical-align: middle;\n",
       "    }\n",
       "\n",
       "    .dataframe tbody tr th {\n",
       "        vertical-align: top;\n",
       "    }\n",
       "\n",
       "    .dataframe thead th {\n",
       "        text-align: right;\n",
       "    }\n",
       "</style>\n",
       "<table border=\"1\" class=\"dataframe\">\n",
       "  <thead>\n",
       "    <tr style=\"text-align: right;\">\n",
       "      <th></th>\n",
       "      <th>Пол</th>\n",
       "      <th>Возраст</th>\n",
       "      <th>Зарплата</th>\n",
       "      <th>Члены семьи</th>\n",
       "    </tr>\n",
       "  </thead>\n",
       "  <tbody>\n",
       "    <tr>\n",
       "      <th>0</th>\n",
       "      <td>1</td>\n",
       "      <td>41.0</td>\n",
       "      <td>49600.0</td>\n",
       "      <td>1</td>\n",
       "    </tr>\n",
       "    <tr>\n",
       "      <th>1</th>\n",
       "      <td>0</td>\n",
       "      <td>46.0</td>\n",
       "      <td>38000.0</td>\n",
       "      <td>1</td>\n",
       "    </tr>\n",
       "    <tr>\n",
       "      <th>2</th>\n",
       "      <td>0</td>\n",
       "      <td>29.0</td>\n",
       "      <td>21000.0</td>\n",
       "      <td>0</td>\n",
       "    </tr>\n",
       "    <tr>\n",
       "      <th>3</th>\n",
       "      <td>0</td>\n",
       "      <td>21.0</td>\n",
       "      <td>41700.0</td>\n",
       "      <td>2</td>\n",
       "    </tr>\n",
       "    <tr>\n",
       "      <th>4</th>\n",
       "      <td>1</td>\n",
       "      <td>28.0</td>\n",
       "      <td>26100.0</td>\n",
       "      <td>0</td>\n",
       "    </tr>\n",
       "    <tr>\n",
       "      <th>...</th>\n",
       "      <td>...</td>\n",
       "      <td>...</td>\n",
       "      <td>...</td>\n",
       "      <td>...</td>\n",
       "    </tr>\n",
       "    <tr>\n",
       "      <th>4995</th>\n",
       "      <td>0</td>\n",
       "      <td>28.0</td>\n",
       "      <td>35700.0</td>\n",
       "      <td>2</td>\n",
       "    </tr>\n",
       "    <tr>\n",
       "      <th>4996</th>\n",
       "      <td>0</td>\n",
       "      <td>34.0</td>\n",
       "      <td>52400.0</td>\n",
       "      <td>1</td>\n",
       "    </tr>\n",
       "    <tr>\n",
       "      <th>4997</th>\n",
       "      <td>0</td>\n",
       "      <td>20.0</td>\n",
       "      <td>33900.0</td>\n",
       "      <td>2</td>\n",
       "    </tr>\n",
       "    <tr>\n",
       "      <th>4998</th>\n",
       "      <td>1</td>\n",
       "      <td>22.0</td>\n",
       "      <td>32700.0</td>\n",
       "      <td>3</td>\n",
       "    </tr>\n",
       "    <tr>\n",
       "      <th>4999</th>\n",
       "      <td>1</td>\n",
       "      <td>28.0</td>\n",
       "      <td>40600.0</td>\n",
       "      <td>1</td>\n",
       "    </tr>\n",
       "  </tbody>\n",
       "</table>\n",
       "<p>5000 rows × 4 columns</p>\n",
       "</div>"
      ],
      "text/plain": [
       "      Пол  Возраст  Зарплата  Члены семьи\n",
       "0       1     41.0   49600.0            1\n",
       "1       0     46.0   38000.0            1\n",
       "2       0     29.0   21000.0            0\n",
       "3       0     21.0   41700.0            2\n",
       "4       1     28.0   26100.0            0\n",
       "...   ...      ...       ...          ...\n",
       "4995    0     28.0   35700.0            2\n",
       "4996    0     34.0   52400.0            1\n",
       "4997    0     20.0   33900.0            2\n",
       "4998    1     22.0   32700.0            3\n",
       "4999    1     28.0   40600.0            1\n",
       "\n",
       "[5000 rows x 4 columns]"
      ]
     },
     "execution_count": 38,
     "metadata": {},
     "output_type": "execute_result"
    }
   ],
   "source": [
    "features"
   ]
  },
  {
   "cell_type": "markdown",
   "metadata": {},
   "source": [
    "Сравнили - ничего общего. Понять какие данные были в исходной матрице невозможно."
   ]
  },
  {
   "cell_type": "code",
   "execution_count": 39,
   "metadata": {},
   "outputs": [
    {
     "data": {
      "text/html": [
       "<div>\n",
       "<style scoped>\n",
       "    .dataframe tbody tr th:only-of-type {\n",
       "        vertical-align: middle;\n",
       "    }\n",
       "\n",
       "    .dataframe tbody tr th {\n",
       "        vertical-align: top;\n",
       "    }\n",
       "\n",
       "    .dataframe thead th {\n",
       "        text-align: right;\n",
       "    }\n",
       "</style>\n",
       "<table border=\"1\" class=\"dataframe\">\n",
       "  <thead>\n",
       "    <tr style=\"text-align: right;\">\n",
       "      <th></th>\n",
       "      <th>0</th>\n",
       "      <th>1</th>\n",
       "      <th>2</th>\n",
       "      <th>3</th>\n",
       "    </tr>\n",
       "  </thead>\n",
       "  <tbody>\n",
       "    <tr>\n",
       "      <th>0</th>\n",
       "      <td>1</td>\n",
       "      <td>41</td>\n",
       "      <td>49600</td>\n",
       "      <td>1</td>\n",
       "    </tr>\n",
       "    <tr>\n",
       "      <th>1</th>\n",
       "      <td>0</td>\n",
       "      <td>46</td>\n",
       "      <td>38000</td>\n",
       "      <td>1</td>\n",
       "    </tr>\n",
       "    <tr>\n",
       "      <th>2</th>\n",
       "      <td>0</td>\n",
       "      <td>29</td>\n",
       "      <td>21000</td>\n",
       "      <td>0</td>\n",
       "    </tr>\n",
       "    <tr>\n",
       "      <th>3</th>\n",
       "      <td>0</td>\n",
       "      <td>21</td>\n",
       "      <td>41700</td>\n",
       "      <td>2</td>\n",
       "    </tr>\n",
       "    <tr>\n",
       "      <th>4</th>\n",
       "      <td>1</td>\n",
       "      <td>28</td>\n",
       "      <td>26100</td>\n",
       "      <td>0</td>\n",
       "    </tr>\n",
       "    <tr>\n",
       "      <th>...</th>\n",
       "      <td>...</td>\n",
       "      <td>...</td>\n",
       "      <td>...</td>\n",
       "      <td>...</td>\n",
       "    </tr>\n",
       "    <tr>\n",
       "      <th>4995</th>\n",
       "      <td>0</td>\n",
       "      <td>28</td>\n",
       "      <td>35700</td>\n",
       "      <td>2</td>\n",
       "    </tr>\n",
       "    <tr>\n",
       "      <th>4996</th>\n",
       "      <td>0</td>\n",
       "      <td>34</td>\n",
       "      <td>52400</td>\n",
       "      <td>1</td>\n",
       "    </tr>\n",
       "    <tr>\n",
       "      <th>4997</th>\n",
       "      <td>0</td>\n",
       "      <td>20</td>\n",
       "      <td>33900</td>\n",
       "      <td>2</td>\n",
       "    </tr>\n",
       "    <tr>\n",
       "      <th>4998</th>\n",
       "      <td>1</td>\n",
       "      <td>22</td>\n",
       "      <td>32700</td>\n",
       "      <td>3</td>\n",
       "    </tr>\n",
       "    <tr>\n",
       "      <th>4999</th>\n",
       "      <td>1</td>\n",
       "      <td>28</td>\n",
       "      <td>40600</td>\n",
       "      <td>1</td>\n",
       "    </tr>\n",
       "  </tbody>\n",
       "</table>\n",
       "<p>5000 rows × 4 columns</p>\n",
       "</div>"
      ],
      "text/plain": [
       "      0   1      2  3\n",
       "0     1  41  49600  1\n",
       "1     0  46  38000  1\n",
       "2     0  29  21000  0\n",
       "3     0  21  41700  2\n",
       "4     1  28  26100  0\n",
       "...  ..  ..    ... ..\n",
       "4995  0  28  35700  2\n",
       "4996  0  34  52400  1\n",
       "4997  0  20  33900  2\n",
       "4998  1  22  32700  3\n",
       "4999  1  28  40600  1\n",
       "\n",
       "[5000 rows x 4 columns]"
      ]
     },
     "execution_count": 39,
     "metadata": {},
     "output_type": "execute_result"
    }
   ],
   "source": [
    "features_after_encr = features_encr @ np.linalg.inv(key)\n",
    "pd.DataFrame(features_after_encr.round(0).astype(int))"
   ]
  },
  {
   "cell_type": "markdown",
   "metadata": {},
   "source": [
    "Расшифровке поддается!"
   ]
  },
  {
   "cell_type": "markdown",
   "metadata": {},
   "source": [
    "### Разделение выборок"
   ]
  },
  {
   "cell_type": "code",
   "execution_count": 40,
   "metadata": {},
   "outputs": [
    {
     "name": "stdout",
     "output_type": "stream",
     "text": [
      "(3750, 4)\n",
      "(1250, 4)\n",
      "(3750,)\n",
      "(1250,)\n"
     ]
    }
   ],
   "source": [
    "features_train, features_valid, target_train, target_valid = train_test_split(\n",
    "    features, target, test_size=0.25, random_state=12345)\n",
    "\n",
    "print(features_train.shape)\n",
    "print(features_valid.shape)\n",
    "\n",
    "print(target_train.shape)\n",
    "print(target_valid.shape)"
   ]
  },
  {
   "cell_type": "code",
   "execution_count": 41,
   "metadata": {},
   "outputs": [
    {
     "name": "stdout",
     "output_type": "stream",
     "text": [
      "(3750, 4)\n",
      "(1250, 4)\n",
      "(3750,)\n",
      "(1250,)\n"
     ]
    }
   ],
   "source": [
    "features_train_encr, features_valid_encr, target_train_encr, target_valid_encr = train_test_split(\n",
    "    features_encr, target, test_size=0.25, random_state=12345)\n",
    "\n",
    "print(features_train_encr.shape)\n",
    "print(features_valid_encr.shape)\n",
    "\n",
    "print(target_train_encr.shape)\n",
    "print(target_valid_encr.shape)"
   ]
  },
  {
   "cell_type": "code",
   "execution_count": 42,
   "metadata": {},
   "outputs": [
    {
     "data": {
      "text/html": [
       "<div>\n",
       "<style scoped>\n",
       "    .dataframe tbody tr th:only-of-type {\n",
       "        vertical-align: middle;\n",
       "    }\n",
       "\n",
       "    .dataframe tbody tr th {\n",
       "        vertical-align: top;\n",
       "    }\n",
       "\n",
       "    .dataframe thead th {\n",
       "        text-align: right;\n",
       "    }\n",
       "</style>\n",
       "<table border=\"1\" class=\"dataframe\">\n",
       "  <thead>\n",
       "    <tr style=\"text-align: right;\">\n",
       "      <th></th>\n",
       "      <th>Пол</th>\n",
       "      <th>Возраст</th>\n",
       "      <th>Зарплата</th>\n",
       "      <th>Члены семьи</th>\n",
       "    </tr>\n",
       "  </thead>\n",
       "  <tbody>\n",
       "    <tr>\n",
       "      <th>3369</th>\n",
       "      <td>1</td>\n",
       "      <td>43.0</td>\n",
       "      <td>36200.0</td>\n",
       "      <td>1</td>\n",
       "    </tr>\n",
       "    <tr>\n",
       "      <th>1441</th>\n",
       "      <td>1</td>\n",
       "      <td>34.0</td>\n",
       "      <td>57600.0</td>\n",
       "      <td>0</td>\n",
       "    </tr>\n",
       "    <tr>\n",
       "      <th>571</th>\n",
       "      <td>0</td>\n",
       "      <td>32.0</td>\n",
       "      <td>41100.0</td>\n",
       "      <td>1</td>\n",
       "    </tr>\n",
       "    <tr>\n",
       "      <th>225</th>\n",
       "      <td>0</td>\n",
       "      <td>36.0</td>\n",
       "      <td>45100.0</td>\n",
       "      <td>1</td>\n",
       "    </tr>\n",
       "    <tr>\n",
       "      <th>2558</th>\n",
       "      <td>0</td>\n",
       "      <td>33.0</td>\n",
       "      <td>50600.0</td>\n",
       "      <td>2</td>\n",
       "    </tr>\n",
       "  </tbody>\n",
       "</table>\n",
       "</div>"
      ],
      "text/plain": [
       "      Пол  Возраст  Зарплата  Члены семьи\n",
       "3369    1     43.0   36200.0            1\n",
       "1441    1     34.0   57600.0            0\n",
       "571     0     32.0   41100.0            1\n",
       "225     0     36.0   45100.0            1\n",
       "2558    0     33.0   50600.0            2"
      ]
     },
     "execution_count": 42,
     "metadata": {},
     "output_type": "execute_result"
    }
   ],
   "source": [
    "features_train.head()"
   ]
  },
  {
   "cell_type": "code",
   "execution_count": 43,
   "metadata": {},
   "outputs": [
    {
     "data": {
      "text/html": [
       "<div>\n",
       "<style scoped>\n",
       "    .dataframe tbody tr th:only-of-type {\n",
       "        vertical-align: middle;\n",
       "    }\n",
       "\n",
       "    .dataframe tbody tr th {\n",
       "        vertical-align: top;\n",
       "    }\n",
       "\n",
       "    .dataframe thead th {\n",
       "        text-align: right;\n",
       "    }\n",
       "</style>\n",
       "<table border=\"1\" class=\"dataframe\">\n",
       "  <thead>\n",
       "    <tr style=\"text-align: right;\">\n",
       "      <th></th>\n",
       "      <th>0</th>\n",
       "      <th>1</th>\n",
       "      <th>2</th>\n",
       "      <th>3</th>\n",
       "    </tr>\n",
       "  </thead>\n",
       "  <tbody>\n",
       "    <tr>\n",
       "      <th>3369</th>\n",
       "      <td>19333.093890</td>\n",
       "      <td>21737.998851</td>\n",
       "      <td>2218.449043</td>\n",
       "      <td>34402.347455</td>\n",
       "    </tr>\n",
       "    <tr>\n",
       "      <th>1441</th>\n",
       "      <td>30750.110087</td>\n",
       "      <td>34561.224064</td>\n",
       "      <td>3510.511392</td>\n",
       "      <td>54711.391560</td>\n",
       "    </tr>\n",
       "    <tr>\n",
       "      <th>571</th>\n",
       "      <td>21943.878801</td>\n",
       "      <td>24666.994409</td>\n",
       "      <td>2509.247746</td>\n",
       "      <td>39044.955335</td>\n",
       "    </tr>\n",
       "    <tr>\n",
       "      <th>225</th>\n",
       "      <td>24079.796009</td>\n",
       "      <td>27068.316281</td>\n",
       "      <td>2753.952704</td>\n",
       "      <td>42845.567154</td>\n",
       "    </tr>\n",
       "    <tr>\n",
       "      <th>2558</th>\n",
       "      <td>27014.206261</td>\n",
       "      <td>30364.008330</td>\n",
       "      <td>3085.663613</td>\n",
       "      <td>48065.541505</td>\n",
       "    </tr>\n",
       "  </tbody>\n",
       "</table>\n",
       "</div>"
      ],
      "text/plain": [
       "                 0             1            2             3\n",
       "3369  19333.093890  21737.998851  2218.449043  34402.347455\n",
       "1441  30750.110087  34561.224064  3510.511392  54711.391560\n",
       "571   21943.878801  24666.994409  2509.247746  39044.955335\n",
       "225   24079.796009  27068.316281  2753.952704  42845.567154\n",
       "2558  27014.206261  30364.008330  3085.663613  48065.541505"
      ]
     },
     "execution_count": 43,
     "metadata": {},
     "output_type": "execute_result"
    }
   ],
   "source": [
    "pd.DataFrame(features_train_encr).head()"
   ]
  },
  {
   "cell_type": "markdown",
   "metadata": {},
   "source": [
    "### Обучение модели на исходных данных"
   ]
  },
  {
   "cell_type": "code",
   "execution_count": 44,
   "metadata": {},
   "outputs": [
    {
     "name": "stdout",
     "output_type": "stream",
     "text": [
      "R2 модели: 0.43522757127026546\n"
     ]
    }
   ],
   "source": [
    "model = LinearRegression()\n",
    "model.fit(features_train, target_train)\n",
    "predicted_valid = model.predict(features_valid)\n",
    "print(\"R2 модели:\", r2_score(target_valid, predicted_valid))"
   ]
  },
  {
   "cell_type": "markdown",
   "metadata": {},
   "source": [
    "### Обучение модели на преобразованных данных"
   ]
  },
  {
   "cell_type": "code",
   "execution_count": 45,
   "metadata": {},
   "outputs": [
    {
     "name": "stdout",
     "output_type": "stream",
     "text": [
      "R2 модели: 0.43522757126970213\n"
     ]
    }
   ],
   "source": [
    "model_encr = LinearRegression()\n",
    "model_encr.fit(features_train_encr, target_train_encr)\n",
    "predicted_valid_encr = model_encr.predict(features_valid_encr)\n",
    "print(\"R2 модели:\", r2_score(target_valid_encr, predicted_valid_encr))"
   ]
  },
  {
   "cell_type": "markdown",
   "metadata": {},
   "source": [
    "## Вывод"
   ]
  },
  {
   "cell_type": "markdown",
   "metadata": {},
   "source": [
    "Качество линейной регрессии из sklearn не отличается до и после преобразования. Шифрование путем умножения признаков на случайную обратимую матрицу и обратное дешифрование проходят успешно. Алгоритм проверен, рабочий. Все удалось. Ура, товарищи, клиенты могут спать спокойно - их данные защищены!"
   ]
  }
 ],
 "metadata": {
  "ExecuteTimeLog": [
   {
    "duration": 877,
    "start_time": "2022-08-05T09:32:57.743Z"
   },
   {
    "duration": 129,
    "start_time": "2022-08-05T09:32:58.622Z"
   },
   {
    "duration": 15,
    "start_time": "2022-08-05T09:32:58.752Z"
   },
   {
    "duration": 5,
    "start_time": "2022-08-05T09:32:58.769Z"
   },
   {
    "duration": 24,
    "start_time": "2022-08-05T09:32:58.775Z"
   },
   {
    "duration": 17,
    "start_time": "2022-08-05T09:32:58.800Z"
   },
   {
    "duration": 11,
    "start_time": "2022-08-05T09:32:58.818Z"
   },
   {
    "duration": 26,
    "start_time": "2022-08-05T09:32:58.831Z"
   },
   {
    "duration": 6,
    "start_time": "2022-08-05T09:32:58.859Z"
   },
   {
    "duration": 91,
    "start_time": "2022-08-05T09:32:58.866Z"
   },
   {
    "duration": 11,
    "start_time": "2022-08-05T09:32:58.961Z"
   },
   {
    "duration": 14,
    "start_time": "2022-08-05T09:32:58.974Z"
   },
   {
    "duration": 12,
    "start_time": "2022-08-05T09:32:58.990Z"
   },
   {
    "duration": 7,
    "start_time": "2022-08-05T09:32:59.004Z"
   },
   {
    "duration": 913,
    "start_time": "2022-08-05T09:56:53.156Z"
   },
   {
    "duration": 93,
    "start_time": "2022-08-05T09:56:54.071Z"
   },
   {
    "duration": 17,
    "start_time": "2022-08-05T09:56:54.168Z"
   },
   {
    "duration": 4,
    "start_time": "2022-08-05T09:56:54.187Z"
   },
   {
    "duration": 7,
    "start_time": "2022-08-05T09:56:54.192Z"
   },
   {
    "duration": 14,
    "start_time": "2022-08-05T09:56:54.200Z"
   },
   {
    "duration": 12,
    "start_time": "2022-08-05T09:56:54.215Z"
   },
   {
    "duration": 36,
    "start_time": "2022-08-05T09:56:54.229Z"
   },
   {
    "duration": 16,
    "start_time": "2022-08-05T09:56:54.267Z"
   },
   {
    "duration": 27,
    "start_time": "2022-08-05T09:56:54.357Z"
   },
   {
    "duration": 16,
    "start_time": "2022-08-05T09:56:54.385Z"
   },
   {
    "duration": 22,
    "start_time": "2022-08-05T09:56:54.403Z"
   },
   {
    "duration": 12,
    "start_time": "2022-08-05T09:56:54.427Z"
   },
   {
    "duration": 17,
    "start_time": "2022-08-05T09:56:54.440Z"
   },
   {
    "duration": 43,
    "start_time": "2022-08-07T03:44:21.978Z"
   },
   {
    "duration": 977,
    "start_time": "2022-08-07T03:44:28.886Z"
   },
   {
    "duration": 107,
    "start_time": "2022-08-07T03:44:29.864Z"
   },
   {
    "duration": 12,
    "start_time": "2022-08-07T03:44:29.973Z"
   },
   {
    "duration": 3,
    "start_time": "2022-08-07T03:44:29.987Z"
   },
   {
    "duration": 303,
    "start_time": "2022-08-07T03:44:29.992Z"
   },
   {
    "duration": 6,
    "start_time": "2022-08-07T03:46:31.399Z"
   },
   {
    "duration": 11,
    "start_time": "2022-08-07T03:47:04.566Z"
   },
   {
    "duration": 11,
    "start_time": "2022-08-07T03:47:08.164Z"
   },
   {
    "duration": 11,
    "start_time": "2022-08-07T03:47:21.302Z"
   },
   {
    "duration": 8,
    "start_time": "2022-08-07T03:49:44.619Z"
   },
   {
    "duration": 5,
    "start_time": "2022-08-07T03:49:51.540Z"
   },
   {
    "duration": 2,
    "start_time": "2022-08-07T03:51:14.094Z"
   },
   {
    "duration": 63,
    "start_time": "2022-08-07T03:51:14.098Z"
   },
   {
    "duration": 8,
    "start_time": "2022-08-07T03:51:14.163Z"
   },
   {
    "duration": 10,
    "start_time": "2022-08-07T03:51:14.173Z"
   },
   {
    "duration": 8,
    "start_time": "2022-08-07T03:51:14.186Z"
   },
   {
    "duration": 12,
    "start_time": "2022-08-07T03:51:14.196Z"
   },
   {
    "duration": 16,
    "start_time": "2022-08-07T03:51:14.210Z"
   },
   {
    "duration": 84,
    "start_time": "2022-08-07T03:51:14.228Z"
   },
   {
    "duration": 91,
    "start_time": "2022-08-07T03:51:14.313Z"
   },
   {
    "duration": 6,
    "start_time": "2022-08-07T03:51:14.406Z"
   },
   {
    "duration": 85,
    "start_time": "2022-08-07T03:51:14.415Z"
   },
   {
    "duration": 20,
    "start_time": "2022-08-07T03:51:14.501Z"
   },
   {
    "duration": 11,
    "start_time": "2022-08-07T03:51:14.522Z"
   },
   {
    "duration": 9,
    "start_time": "2022-08-07T03:51:14.535Z"
   },
   {
    "duration": 7,
    "start_time": "2022-08-07T03:51:14.545Z"
   },
   {
    "duration": 5,
    "start_time": "2022-08-07T03:52:03.700Z"
   },
   {
    "duration": 8,
    "start_time": "2022-08-07T03:52:46.864Z"
   },
   {
    "duration": 2,
    "start_time": "2022-08-07T03:53:17.675Z"
   },
   {
    "duration": 60,
    "start_time": "2022-08-07T03:53:17.679Z"
   },
   {
    "duration": 7,
    "start_time": "2022-08-07T03:53:17.741Z"
   },
   {
    "duration": 7,
    "start_time": "2022-08-07T03:53:17.749Z"
   },
   {
    "duration": 6,
    "start_time": "2022-08-07T03:53:17.758Z"
   },
   {
    "duration": 6,
    "start_time": "2022-08-07T03:53:17.765Z"
   },
   {
    "duration": 29,
    "start_time": "2022-08-07T03:53:17.772Z"
   },
   {
    "duration": 11,
    "start_time": "2022-08-07T03:53:17.803Z"
   },
   {
    "duration": 90,
    "start_time": "2022-08-07T03:53:17.816Z"
   },
   {
    "duration": 11,
    "start_time": "2022-08-07T03:53:17.908Z"
   },
   {
    "duration": 79,
    "start_time": "2022-08-07T03:53:17.921Z"
   },
   {
    "duration": 9,
    "start_time": "2022-08-07T03:53:18.002Z"
   },
   {
    "duration": 92,
    "start_time": "2022-08-07T03:53:18.012Z"
   },
   {
    "duration": 8,
    "start_time": "2022-08-07T03:53:18.106Z"
   },
   {
    "duration": 9,
    "start_time": "2022-08-07T03:53:18.115Z"
   },
   {
    "duration": 16,
    "start_time": "2022-08-07T03:53:18.125Z"
   }
  ],
  "kernelspec": {
   "display_name": "Python 3 (ipykernel)",
   "language": "python",
   "name": "python3"
  },
  "language_info": {
   "codemirror_mode": {
    "name": "ipython",
    "version": 3
   },
   "file_extension": ".py",
   "mimetype": "text/x-python",
   "name": "python",
   "nbconvert_exporter": "python",
   "pygments_lexer": "ipython3",
   "version": "3.9.12"
  },
  "toc": {
   "base_numbering": 1,
   "nav_menu": {},
   "number_sections": true,
   "sideBar": true,
   "skip_h1_title": true,
   "title_cell": "Содержание",
   "title_sidebar": "Contents",
   "toc_cell": true,
   "toc_position": {
    "height": "calc(100% - 180px)",
    "left": "10px",
    "top": "150px",
    "width": "165px"
   },
   "toc_section_display": true,
   "toc_window_display": true
  }
 },
 "nbformat": 4,
 "nbformat_minor": 2
}
